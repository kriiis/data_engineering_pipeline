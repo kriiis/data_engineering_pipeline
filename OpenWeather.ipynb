{
 "cells": [
  {
   "cell_type": "code",
   "execution_count": 3,
   "id": "3cae6e90-8312-44f3-978c-4d54f7cbcdc8",
   "metadata": {
    "collapsed": true,
    "jupyter": {
     "outputs_hidden": true
    },
    "tags": []
   },
   "outputs": [
    {
     "name": "stdout",
     "output_type": "stream",
     "text": [
      "Collecting pyowm\n",
      "  Downloading pyowm-3.2.0-py3-none-any.whl (3.1 MB)\n",
      "Requirement already satisfied: requests<3,>=2.20.0 in c:\\users\\kris\\anaconda3\\lib\\site-packages (from pyowm) (2.25.1)\n",
      "Requirement already satisfied: PySocks<2,>=1.7.1 in c:\\users\\kris\\anaconda3\\lib\\site-packages (from pyowm) (1.7.1)\n",
      "Collecting geojson<3,>=2.3.0\n",
      "  Downloading geojson-2.5.0-py2.py3-none-any.whl (14 kB)\n",
      "Requirement already satisfied: chardet<5,>=3.0.2 in c:\\users\\kris\\anaconda3\\lib\\site-packages (from requests<3,>=2.20.0->pyowm) (4.0.0)\n",
      "Requirement already satisfied: urllib3<1.27,>=1.21.1 in c:\\users\\kris\\anaconda3\\lib\\site-packages (from requests<3,>=2.20.0->pyowm) (1.26.4)\n",
      "Requirement already satisfied: idna<3,>=2.5 in c:\\users\\kris\\anaconda3\\lib\\site-packages (from requests<3,>=2.20.0->pyowm) (2.10)\n",
      "Requirement already satisfied: certifi>=2017.4.17 in c:\\users\\kris\\anaconda3\\lib\\site-packages (from requests<3,>=2.20.0->pyowm) (2020.12.5)\n",
      "Installing collected packages: geojson, pyowm\n",
      "Successfully installed geojson-2.5.0 pyowm-3.2.0\n",
      "Note: you may need to restart the kernel to use updated packages.\n"
     ]
    }
   ],
   "source": [
    "pip install pyowm"
   ]
  },
  {
   "cell_type": "code",
   "execution_count": 16,
   "id": "56d0dbf2-389a-42ac-bdfd-06f4f524ac81",
   "metadata": {},
   "outputs": [],
   "source": [
    "from pyowm import OWM\n",
    "from pyowm.utils import config\n",
    "from pyowm.utils import timestamps\n",
    "\n",
    "owm = OWM('8a52d544764a1ad5395f20f9a42f4391')\n",
    "mgr = owm.weather_manager()"
   ]
  },
  {
   "cell_type": "code",
   "execution_count": 17,
   "id": "edf4f89b-ff26-431f-877f-1c63fa110a9d",
   "metadata": {},
   "outputs": [],
   "source": [
    "# current weather in Berlin\n",
    "observation = mgr.weather_at_place('Berlin,Ger')\n",
    "w = observation.weather"
   ]
  },
  {
   "cell_type": "code",
   "execution_count": 19,
   "id": "eedb4dc8-826d-4e37-9110-fc98dc874128",
   "metadata": {},
   "outputs": [
    {
     "data": {
      "text/plain": [
       "'Drizzle'"
      ]
     },
     "execution_count": 19,
     "metadata": {},
     "output_type": "execute_result"
    }
   ],
   "source": [
    "w.status"
   ]
  },
  {
   "cell_type": "code",
   "execution_count": 18,
   "id": "2bd03894-ba53-44c8-afbb-e26872930086",
   "metadata": {},
   "outputs": [
    {
     "data": {
      "text/plain": [
       "'light intensity drizzle'"
      ]
     },
     "execution_count": 18,
     "metadata": {},
     "output_type": "execute_result"
    }
   ],
   "source": [
    "w.detailed_status"
   ]
  },
  {
   "cell_type": "code",
   "execution_count": 20,
   "id": "e29de8e7-a1fa-4d22-937e-b4175cce6288",
   "metadata": {},
   "outputs": [
    {
     "data": {
      "text/plain": [
       "{'speed': 3.58, 'deg': 250, 'gust': 5.81}"
      ]
     },
     "execution_count": 20,
     "metadata": {},
     "output_type": "execute_result"
    }
   ],
   "source": [
    "w.wind()"
   ]
  },
  {
   "cell_type": "code",
   "execution_count": 21,
   "id": "a56ba35f-0d83-4d96-9f5c-71cf062afc17",
   "metadata": {},
   "outputs": [
    {
     "data": {
      "text/plain": [
       "91"
      ]
     },
     "execution_count": 21,
     "metadata": {},
     "output_type": "execute_result"
    }
   ],
   "source": [
    "w.humidity"
   ]
  },
  {
   "cell_type": "code",
   "execution_count": 22,
   "id": "d1490fc1-9bf7-4162-b9ed-b9e4ef5fa070",
   "metadata": {},
   "outputs": [
    {
     "data": {
      "text/plain": [
       "{'temp': 6.88,\n",
       " 'temp_max': 7.83,\n",
       " 'temp_min': 6.15,\n",
       " 'feels_like': 4.4,\n",
       " 'temp_kf': None}"
      ]
     },
     "execution_count": 22,
     "metadata": {},
     "output_type": "execute_result"
    }
   ],
   "source": [
    "w.temperature('celsius')"
   ]
  },
  {
   "cell_type": "code",
   "execution_count": 23,
   "id": "320af9d6-321c-4e06-a9db-d6123747716e",
   "metadata": {},
   "outputs": [
    {
     "data": {
      "text/plain": [
       "{}"
      ]
     },
     "execution_count": 23,
     "metadata": {},
     "output_type": "execute_result"
    }
   ],
   "source": [
    "w.rain"
   ]
  },
  {
   "cell_type": "code",
   "execution_count": 24,
   "id": "6132e131-e858-4277-b504-d39c4a8107ae",
   "metadata": {},
   "outputs": [],
   "source": [
    "w.heat_index"
   ]
  },
  {
   "cell_type": "code",
   "execution_count": 25,
   "id": "23a0c706-6c33-486b-97cd-07eca2bef94c",
   "metadata": {},
   "outputs": [
    {
     "data": {
      "text/plain": [
       "75"
      ]
     },
     "execution_count": 25,
     "metadata": {},
     "output_type": "execute_result"
    }
   ],
   "source": [
    "w.clouds"
   ]
  },
  {
   "cell_type": "code",
   "execution_count": 26,
   "id": "f2bc5899-e6b5-4738-8940-b361abb6ce12",
   "metadata": {},
   "outputs": [
    {
     "data": {
      "text/plain": [
       "{'press': 1017, 'sea_level': None}"
      ]
     },
     "execution_count": 26,
     "metadata": {},
     "output_type": "execute_result"
    }
   ],
   "source": [
    "w.pressure"
   ]
  },
  {
   "cell_type": "code",
   "execution_count": 30,
   "id": "7f318f0f-c5d8-4900-9176-ba61cb62606c",
   "metadata": {},
   "outputs": [
    {
     "data": {
      "text/plain": [
       "'2021-11-23 06:42:16+00:00'"
      ]
     },
     "execution_count": 30,
     "metadata": {},
     "output_type": "execute_result"
    }
   ],
   "source": [
    "# empty sunrise_time() than unix time format, use 'iso' or 'date'\n",
    "w.sunrise_time(timeformat='iso')"
   ]
  },
  {
   "cell_type": "code",
   "execution_count": 31,
   "id": "f1b65975-626f-49da-8daa-94b109f0c1a7",
   "metadata": {},
   "outputs": [
    {
     "data": {
      "text/plain": [
       "'2021-11-23 15:03:40+00:00'"
      ]
     },
     "execution_count": 31,
     "metadata": {},
     "output_type": "execute_result"
    }
   ],
   "source": [
    "w.sunset_time(timeformat='iso')"
   ]
  },
  {
   "cell_type": "code",
   "execution_count": 57,
   "id": "57599a09-d5b2-4bae-b4f4-1a0b3d6d5774",
   "metadata": {
    "collapsed": true,
    "jupyter": {
     "outputs_hidden": true
    },
    "tags": []
   },
   "outputs": [
    {
     "data": {
      "text/plain": [
       "[<pyowm.weatherapi25.weather.Weather - reference_time=2021-11-23 15:00:00+00:00, status=clouds, detailed_status=broken clouds>,\n",
       " <pyowm.weatherapi25.weather.Weather - reference_time=2021-11-23 16:00:00+00:00, status=clouds, detailed_status=broken clouds>,\n",
       " <pyowm.weatherapi25.weather.Weather - reference_time=2021-11-23 17:00:00+00:00, status=clouds, detailed_status=broken clouds>,\n",
       " <pyowm.weatherapi25.weather.Weather - reference_time=2021-11-23 18:00:00+00:00, status=clouds, detailed_status=broken clouds>,\n",
       " <pyowm.weatherapi25.weather.Weather - reference_time=2021-11-23 19:00:00+00:00, status=clouds, detailed_status=overcast clouds>,\n",
       " <pyowm.weatherapi25.weather.Weather - reference_time=2021-11-23 20:00:00+00:00, status=clouds, detailed_status=overcast clouds>,\n",
       " <pyowm.weatherapi25.weather.Weather - reference_time=2021-11-23 21:00:00+00:00, status=clouds, detailed_status=overcast clouds>,\n",
       " <pyowm.weatherapi25.weather.Weather - reference_time=2021-11-23 22:00:00+00:00, status=clouds, detailed_status=overcast clouds>,\n",
       " <pyowm.weatherapi25.weather.Weather - reference_time=2021-11-23 23:00:00+00:00, status=clouds, detailed_status=overcast clouds>,\n",
       " <pyowm.weatherapi25.weather.Weather - reference_time=2021-11-24 00:00:00+00:00, status=clouds, detailed_status=overcast clouds>,\n",
       " <pyowm.weatherapi25.weather.Weather - reference_time=2021-11-24 01:00:00+00:00, status=clouds, detailed_status=overcast clouds>,\n",
       " <pyowm.weatherapi25.weather.Weather - reference_time=2021-11-24 02:00:00+00:00, status=clouds, detailed_status=overcast clouds>,\n",
       " <pyowm.weatherapi25.weather.Weather - reference_time=2021-11-24 03:00:00+00:00, status=clouds, detailed_status=overcast clouds>,\n",
       " <pyowm.weatherapi25.weather.Weather - reference_time=2021-11-24 04:00:00+00:00, status=clouds, detailed_status=overcast clouds>,\n",
       " <pyowm.weatherapi25.weather.Weather - reference_time=2021-11-24 05:00:00+00:00, status=clouds, detailed_status=overcast clouds>,\n",
       " <pyowm.weatherapi25.weather.Weather - reference_time=2021-11-24 06:00:00+00:00, status=clouds, detailed_status=overcast clouds>,\n",
       " <pyowm.weatherapi25.weather.Weather - reference_time=2021-11-24 07:00:00+00:00, status=clouds, detailed_status=overcast clouds>,\n",
       " <pyowm.weatherapi25.weather.Weather - reference_time=2021-11-24 08:00:00+00:00, status=clouds, detailed_status=overcast clouds>,\n",
       " <pyowm.weatherapi25.weather.Weather - reference_time=2021-11-24 09:00:00+00:00, status=clouds, detailed_status=overcast clouds>,\n",
       " <pyowm.weatherapi25.weather.Weather - reference_time=2021-11-24 10:00:00+00:00, status=clouds, detailed_status=overcast clouds>,\n",
       " <pyowm.weatherapi25.weather.Weather - reference_time=2021-11-24 11:00:00+00:00, status=clouds, detailed_status=overcast clouds>,\n",
       " <pyowm.weatherapi25.weather.Weather - reference_time=2021-11-24 12:00:00+00:00, status=clouds, detailed_status=overcast clouds>,\n",
       " <pyowm.weatherapi25.weather.Weather - reference_time=2021-11-24 13:00:00+00:00, status=clouds, detailed_status=overcast clouds>,\n",
       " <pyowm.weatherapi25.weather.Weather - reference_time=2021-11-24 14:00:00+00:00, status=clouds, detailed_status=overcast clouds>,\n",
       " <pyowm.weatherapi25.weather.Weather - reference_time=2021-11-24 15:00:00+00:00, status=clouds, detailed_status=overcast clouds>,\n",
       " <pyowm.weatherapi25.weather.Weather - reference_time=2021-11-24 16:00:00+00:00, status=clouds, detailed_status=overcast clouds>,\n",
       " <pyowm.weatherapi25.weather.Weather - reference_time=2021-11-24 17:00:00+00:00, status=clouds, detailed_status=overcast clouds>,\n",
       " <pyowm.weatherapi25.weather.Weather - reference_time=2021-11-24 18:00:00+00:00, status=clouds, detailed_status=overcast clouds>,\n",
       " <pyowm.weatherapi25.weather.Weather - reference_time=2021-11-24 19:00:00+00:00, status=clouds, detailed_status=overcast clouds>,\n",
       " <pyowm.weatherapi25.weather.Weather - reference_time=2021-11-24 20:00:00+00:00, status=clouds, detailed_status=broken clouds>,\n",
       " <pyowm.weatherapi25.weather.Weather - reference_time=2021-11-24 21:00:00+00:00, status=clouds, detailed_status=broken clouds>,\n",
       " <pyowm.weatherapi25.weather.Weather - reference_time=2021-11-24 22:00:00+00:00, status=clouds, detailed_status=scattered clouds>,\n",
       " <pyowm.weatherapi25.weather.Weather - reference_time=2021-11-24 23:00:00+00:00, status=clouds, detailed_status=scattered clouds>,\n",
       " <pyowm.weatherapi25.weather.Weather - reference_time=2021-11-25 00:00:00+00:00, status=clouds, detailed_status=scattered clouds>,\n",
       " <pyowm.weatherapi25.weather.Weather - reference_time=2021-11-25 01:00:00+00:00, status=clear, detailed_status=clear sky>,\n",
       " <pyowm.weatherapi25.weather.Weather - reference_time=2021-11-25 02:00:00+00:00, status=clear, detailed_status=clear sky>,\n",
       " <pyowm.weatherapi25.weather.Weather - reference_time=2021-11-25 03:00:00+00:00, status=clear, detailed_status=clear sky>,\n",
       " <pyowm.weatherapi25.weather.Weather - reference_time=2021-11-25 04:00:00+00:00, status=clear, detailed_status=clear sky>,\n",
       " <pyowm.weatherapi25.weather.Weather - reference_time=2021-11-25 05:00:00+00:00, status=clear, detailed_status=clear sky>,\n",
       " <pyowm.weatherapi25.weather.Weather - reference_time=2021-11-25 06:00:00+00:00, status=clear, detailed_status=clear sky>,\n",
       " <pyowm.weatherapi25.weather.Weather - reference_time=2021-11-25 07:00:00+00:00, status=clear, detailed_status=clear sky>,\n",
       " <pyowm.weatherapi25.weather.Weather - reference_time=2021-11-25 08:00:00+00:00, status=clear, detailed_status=clear sky>,\n",
       " <pyowm.weatherapi25.weather.Weather - reference_time=2021-11-25 09:00:00+00:00, status=clear, detailed_status=clear sky>,\n",
       " <pyowm.weatherapi25.weather.Weather - reference_time=2021-11-25 10:00:00+00:00, status=clear, detailed_status=clear sky>,\n",
       " <pyowm.weatherapi25.weather.Weather - reference_time=2021-11-25 11:00:00+00:00, status=clear, detailed_status=clear sky>,\n",
       " <pyowm.weatherapi25.weather.Weather - reference_time=2021-11-25 12:00:00+00:00, status=clear, detailed_status=clear sky>,\n",
       " <pyowm.weatherapi25.weather.Weather - reference_time=2021-11-25 13:00:00+00:00, status=clouds, detailed_status=broken clouds>,\n",
       " <pyowm.weatherapi25.weather.Weather - reference_time=2021-11-25 14:00:00+00:00, status=clouds, detailed_status=broken clouds>]"
      ]
     },
     "execution_count": 57,
     "metadata": {},
     "output_type": "execute_result"
    }
   ],
   "source": [
    "# request one-call api - get object that contains all weather info\n",
    "one_call = mgr.one_call(lat=52.5244, lon=13.4105, exclude='minutely', units='metric')\n",
    "one_call.forecast_hourly"
   ]
  },
  {
   "cell_type": "code",
   "execution_count": 55,
   "id": "8e9d73a2-cc64-4ec3-8f5a-5b63e2e555e6",
   "metadata": {},
   "outputs": [
    {
     "data": {
      "text/plain": [
       "{'temp': 6.9, 'feels_like': 4.7}"
      ]
     },
     "execution_count": 55,
     "metadata": {},
     "output_type": "execute_result"
    }
   ],
   "source": [
    "one_call.current.temp"
   ]
  },
  {
   "cell_type": "code",
   "execution_count": 60,
   "id": "aec6ff6b-4ec4-4491-bc53-ca88bf1a52fe",
   "metadata": {},
   "outputs": [
    {
     "data": {
      "text/plain": [
       "<pyowm.weatherapi25.one_call.OneCall - lat=52.5244, lon=13.4105, retrieval_time=1637682760>"
      ]
     },
     "execution_count": 60,
     "metadata": {},
     "output_type": "execute_result"
    }
   ],
   "source": [
    "one_call"
   ]
  },
  {
   "cell_type": "code",
   "execution_count": 64,
   "id": "cad638e8-494e-4391-8932-2e4ab4b169b8",
   "metadata": {},
   "outputs": [
    {
     "data": {
      "text/html": [
       "<div>\n",
       "<style scoped>\n",
       "    .dataframe tbody tr th:only-of-type {\n",
       "        vertical-align: middle;\n",
       "    }\n",
       "\n",
       "    .dataframe tbody tr th {\n",
       "        vertical-align: top;\n",
       "    }\n",
       "\n",
       "    .dataframe thead th {\n",
       "        text-align: right;\n",
       "    }\n",
       "</style>\n",
       "<table border=\"1\" class=\"dataframe\">\n",
       "  <thead>\n",
       "    <tr style=\"text-align: right;\">\n",
       "      <th></th>\n",
       "      <th>time</th>\n",
       "      <th>precipitation_probabily</th>\n",
       "      <th>humidity</th>\n",
       "      <th>status</th>\n",
       "      <th>snow</th>\n",
       "      <th>temperature.temp</th>\n",
       "      <th>temperature.temp_kf</th>\n",
       "      <th>temperature.temp_max</th>\n",
       "      <th>temperature.temp_min</th>\n",
       "      <th>temperature.feels_like</th>\n",
       "      <th>wind.speed</th>\n",
       "      <th>wind.deg</th>\n",
       "      <th>wind.gust</th>\n",
       "    </tr>\n",
       "  </thead>\n",
       "  <tbody>\n",
       "    <tr>\n",
       "      <th>0</th>\n",
       "      <td>2021-11-24 12:00:00+00:00</td>\n",
       "      <td>0.0</td>\n",
       "      <td>90</td>\n",
       "      <td>Clouds</td>\n",
       "      <td>[{}]</td>\n",
       "      <td>7.58</td>\n",
       "      <td>-272.71</td>\n",
       "      <td>7.58</td>\n",
       "      <td>7.14</td>\n",
       "      <td>6.26</td>\n",
       "      <td>7.668</td>\n",
       "      <td>241</td>\n",
       "      <td>17.604</td>\n",
       "    </tr>\n",
       "    <tr>\n",
       "      <th>0</th>\n",
       "      <td>2021-11-24 15:00:00+00:00</td>\n",
       "      <td>0.0</td>\n",
       "      <td>85</td>\n",
       "      <td>Clouds</td>\n",
       "      <td>[{}]</td>\n",
       "      <td>7.37</td>\n",
       "      <td>-272.74</td>\n",
       "      <td>7.37</td>\n",
       "      <td>6.96</td>\n",
       "      <td>6.20</td>\n",
       "      <td>6.912</td>\n",
       "      <td>210</td>\n",
       "      <td>13.356</td>\n",
       "    </tr>\n",
       "    <tr>\n",
       "      <th>0</th>\n",
       "      <td>2021-11-24 18:00:00+00:00</td>\n",
       "      <td>0.0</td>\n",
       "      <td>78</td>\n",
       "      <td>Clouds</td>\n",
       "      <td>[{}]</td>\n",
       "      <td>7.10</td>\n",
       "      <td>-272.91</td>\n",
       "      <td>7.10</td>\n",
       "      <td>6.86</td>\n",
       "      <td>5.91</td>\n",
       "      <td>6.840</td>\n",
       "      <td>195</td>\n",
       "      <td>12.528</td>\n",
       "    </tr>\n",
       "    <tr>\n",
       "      <th>0</th>\n",
       "      <td>2021-11-24 21:00:00+00:00</td>\n",
       "      <td>0.0</td>\n",
       "      <td>73</td>\n",
       "      <td>Clouds</td>\n",
       "      <td>[{}]</td>\n",
       "      <td>6.15</td>\n",
       "      <td>-273.15</td>\n",
       "      <td>6.15</td>\n",
       "      <td>6.15</td>\n",
       "      <td>4.71</td>\n",
       "      <td>7.200</td>\n",
       "      <td>176</td>\n",
       "      <td>15.768</td>\n",
       "    </tr>\n",
       "    <tr>\n",
       "      <th>0</th>\n",
       "      <td>2021-11-25 00:00:00+00:00</td>\n",
       "      <td>0.0</td>\n",
       "      <td>78</td>\n",
       "      <td>Clouds</td>\n",
       "      <td>[{}]</td>\n",
       "      <td>4.16</td>\n",
       "      <td>-273.15</td>\n",
       "      <td>4.16</td>\n",
       "      <td>4.16</td>\n",
       "      <td>1.88</td>\n",
       "      <td>9.108</td>\n",
       "      <td>156</td>\n",
       "      <td>24.804</td>\n",
       "    </tr>\n",
       "  </tbody>\n",
       "</table>\n",
       "</div>"
      ],
      "text/plain": [
       "                       time  precipitation_probabily  humidity  status  snow  \\\n",
       "0 2021-11-24 12:00:00+00:00                      0.0        90  Clouds  [{}]   \n",
       "0 2021-11-24 15:00:00+00:00                      0.0        85  Clouds  [{}]   \n",
       "0 2021-11-24 18:00:00+00:00                      0.0        78  Clouds  [{}]   \n",
       "0 2021-11-24 21:00:00+00:00                      0.0        73  Clouds  [{}]   \n",
       "0 2021-11-25 00:00:00+00:00                      0.0        78  Clouds  [{}]   \n",
       "\n",
       "   temperature.temp  temperature.temp_kf  temperature.temp_max  \\\n",
       "0              7.58              -272.71                  7.58   \n",
       "0              7.37              -272.74                  7.37   \n",
       "0              7.10              -272.91                  7.10   \n",
       "0              6.15              -273.15                  6.15   \n",
       "0              4.16              -273.15                  4.16   \n",
       "\n",
       "   temperature.temp_min  temperature.feels_like  wind.speed  wind.deg  \\\n",
       "0                  7.14                    6.26       7.668       241   \n",
       "0                  6.96                    6.20       6.912       210   \n",
       "0                  6.86                    5.91       6.840       195   \n",
       "0                  6.15                    4.71       7.200       176   \n",
       "0                  4.16                    1.88       9.108       156   \n",
       "\n",
       "   wind.gust  \n",
       "0     17.604  \n",
       "0     13.356  \n",
       "0     12.528  \n",
       "0     15.768  \n",
       "0     24.804  "
      ]
     },
     "execution_count": 64,
     "metadata": {},
     "output_type": "execute_result"
    }
   ],
   "source": [
    "from pyowm import OWM\n",
    "from pyowm.utils import config\n",
    "from pyowm.utils import timestamps\n",
    "import pandas as pd\n",
    "\n",
    "OWM_key = \"8a52d544764a1ad5395f20f9a42f4391\"\n",
    "city = \"Berlin\"\n",
    "country = \"DE\"\n",
    "\n",
    "owm = OWM(OWM_key)\n",
    "mgr = owm.weather_manager()\n",
    "\n",
    "# Will it be clear tomorrow at this time in Milan (Italy) ?\n",
    "forecast = mgr.forecast_at_place(city + ',' + country, '3h')\n",
    "# answer = forecast.will_be_clear_at(timestamps.tomorrow())\n",
    "\n",
    "from numpy import nan\n",
    "\n",
    "def forecast_extraction(forecast_object): \n",
    "    \"\"\"\n",
    "    Given a forecast object from Open weathor Pyhton API, \n",
    "    return a structured dataframe. \n",
    "\n",
    "    :param: forecast object\n",
    "    :returns: a dataframe with specific weather information\n",
    "    \"\"\"\n",
    "    forecast_df = pd.json_normalize({\n",
    "        'time' : forecast_object.reference_time(timeformat='date'), \n",
    "        'temperature' : forecast_object.temperature(unit='celsius'), \n",
    "        'precipitation_probabily' : forecast_object.precipitation_probability, \n",
    "        'rain' : forecast_object.rain, \n",
    "        'humidity' : forecast_object.humidity, \n",
    "        'status' : forecast_object.status, \n",
    "        'snow' : [nan if forecast_object.snow is None else forecast_object.snow], \n",
    "        'wind' : forecast_object.wind('km_hour')\n",
    "    })\n",
    "\n",
    "    return(forecast_df)\n",
    "\n",
    "weather_forecast = pd.concat(\n",
    "    [forecast_extraction(weather) for weather in forecast.forecast.weathers]\n",
    ")\n",
    "\n",
    "weather_forecast.head()"
   ]
  },
  {
   "cell_type": "code",
   "execution_count": null,
   "id": "48479cb8-c8b9-4bff-8284-cb53dd7daca5",
   "metadata": {},
   "outputs": [],
   "source": []
  }
 ],
 "metadata": {
  "kernelspec": {
   "display_name": "Python 3",
   "language": "python",
   "name": "python3"
  },
  "language_info": {
   "codemirror_mode": {
    "name": "ipython",
    "version": 3
   },
   "file_extension": ".py",
   "mimetype": "text/x-python",
   "name": "python",
   "nbconvert_exporter": "python",
   "pygments_lexer": "ipython3",
   "version": "3.8.8"
  }
 },
 "nbformat": 4,
 "nbformat_minor": 5
}
