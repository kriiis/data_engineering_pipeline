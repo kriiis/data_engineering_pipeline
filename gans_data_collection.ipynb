{
 "cells": [
  {
   "cell_type": "code",
   "execution_count": 1,
   "id": "18d86d40-a73f-4cc5-a504-ad75f50b00df",
   "metadata": {},
   "outputs": [],
   "source": [
    "import pandas as pd\n",
    "from keys import *\n",
    "from IPython.display import JSON\n",
    "import requests\n",
    "from numpy import nan\n",
    "from bs4 import BeautifulSoup\n",
    "import re"
   ]
  },
  {
   "cell_type": "markdown",
   "id": "007903e1-c18e-453a-a4b0-b6eda9536635",
   "metadata": {},
   "source": [
    "## Import Aircrafts Data from csv with Capacity\n",
    "\n",
    "from: http://www.lsv.fr/~sirangel/teaching/dataset/index.html\n",
    "\n",
    "\n",
    "Name:\tName of the aircraft. \\\n",
    "ICAO:\t4-letter ICAO code, if available. \\\n",
    "IATA:\t3-letter IATA code (identifier). \\\n",
    "Capacity:\tSeating capacity (empty for cargo aircrafts). \\\n",
    "Country:\tCountry or territory where aircraft maker is incorporated. - dropped - not needed\n"
   ]
  },
  {
   "cell_type": "code",
   "execution_count": 2,
   "id": "85d9d23a-e079-4327-b7ac-efb665924747",
   "metadata": {},
   "outputs": [],
   "source": [
    "aircraft = pd.read_csv('aircrafts.csv', sep=',')"
   ]
  },
  {
   "cell_type": "code",
   "execution_count": 3,
   "id": "c3f2238c-44a7-43db-a05c-d421c4c75f80",
   "metadata": {},
   "outputs": [],
   "source": [
    "# drop column 'Country' because it is not needed\n",
    "aircraft.drop('Country', axis=1, inplace=True)\n",
    "aircraft.columns = ['aircraft_name', 'icao_aircraft', 'iata_aircraft','capacity']"
   ]
  },
  {
   "cell_type": "code",
   "execution_count": 4,
   "id": "8f0c7fd1-2810-4944-95ca-55471de8bcc0",
   "metadata": {},
   "outputs": [
    {
     "data": {
      "text/html": [
       "<div>\n",
       "<style scoped>\n",
       "    .dataframe tbody tr th:only-of-type {\n",
       "        vertical-align: middle;\n",
       "    }\n",
       "\n",
       "    .dataframe tbody tr th {\n",
       "        vertical-align: top;\n",
       "    }\n",
       "\n",
       "    .dataframe thead th {\n",
       "        text-align: right;\n",
       "    }\n",
       "</style>\n",
       "<table border=\"1\" class=\"dataframe\">\n",
       "  <thead>\n",
       "    <tr style=\"text-align: right;\">\n",
       "      <th></th>\n",
       "      <th>aircraft_name</th>\n",
       "      <th>icao_aircraft</th>\n",
       "      <th>iata_aircraft</th>\n",
       "      <th>capacity</th>\n",
       "    </tr>\n",
       "  </thead>\n",
       "  <tbody>\n",
       "    <tr>\n",
       "      <th>0</th>\n",
       "      <td>Aerospatiale/Alenia ATR 42-300 / 320</td>\n",
       "      <td>AT43</td>\n",
       "      <td>AT4</td>\n",
       "      <td>50</td>\n",
       "    </tr>\n",
       "    <tr>\n",
       "      <th>1</th>\n",
       "      <td>Aerospatiale/Alenia ATR 42-500</td>\n",
       "      <td>AT45</td>\n",
       "      <td>AT5</td>\n",
       "      <td>50</td>\n",
       "    </tr>\n",
       "    <tr>\n",
       "      <th>2</th>\n",
       "      <td>Aerospatiale/Alenia ATR 42/ ATR 72</td>\n",
       "      <td>\\N</td>\n",
       "      <td>ATR</td>\n",
       "      <td>74</td>\n",
       "    </tr>\n",
       "    <tr>\n",
       "      <th>3</th>\n",
       "      <td>Aerospatiale/Alenia ATR 72</td>\n",
       "      <td>AT72</td>\n",
       "      <td>AT7</td>\n",
       "      <td>74</td>\n",
       "    </tr>\n",
       "    <tr>\n",
       "      <th>4</th>\n",
       "      <td>Aerospatiale/BAC Concorde</td>\n",
       "      <td>CONC</td>\n",
       "      <td>SSC</td>\n",
       "      <td>128</td>\n",
       "    </tr>\n",
       "    <tr>\n",
       "      <th>5</th>\n",
       "      <td>Airbus A300 pax</td>\n",
       "      <td>A30B</td>\n",
       "      <td>AB3</td>\n",
       "      <td>200</td>\n",
       "    </tr>\n",
       "    <tr>\n",
       "      <th>6</th>\n",
       "      <td>Airbus A300-600 pax</td>\n",
       "      <td>A306</td>\n",
       "      <td>AB6</td>\n",
       "      <td>266</td>\n",
       "    </tr>\n",
       "    <tr>\n",
       "      <th>7</th>\n",
       "      <td>Airbus A310 Freighter</td>\n",
       "      <td>A310</td>\n",
       "      <td>31F</td>\n",
       "      <td>\\N</td>\n",
       "    </tr>\n",
       "    <tr>\n",
       "      <th>8</th>\n",
       "      <td>Airbus A310 all pax models</td>\n",
       "      <td>A310</td>\n",
       "      <td>310</td>\n",
       "      <td>198</td>\n",
       "    </tr>\n",
       "    <tr>\n",
       "      <th>9</th>\n",
       "      <td>Airbus A310-200 Freighter</td>\n",
       "      <td>A310</td>\n",
       "      <td>31X</td>\n",
       "      <td>\\N</td>\n",
       "    </tr>\n",
       "    <tr>\n",
       "      <th>10</th>\n",
       "      <td>Airbus A310-200 pax</td>\n",
       "      <td>A310</td>\n",
       "      <td>312</td>\n",
       "      <td>198</td>\n",
       "    </tr>\n",
       "    <tr>\n",
       "      <th>11</th>\n",
       "      <td>Airbus A310-300 Freighter</td>\n",
       "      <td>A310</td>\n",
       "      <td>31Y</td>\n",
       "      <td>\\N</td>\n",
       "    </tr>\n",
       "    <tr>\n",
       "      <th>12</th>\n",
       "      <td>Airbus A310-300 pax</td>\n",
       "      <td>A310</td>\n",
       "      <td>313</td>\n",
       "      <td>218</td>\n",
       "    </tr>\n",
       "    <tr>\n",
       "      <th>13</th>\n",
       "      <td>Airbus A318/319/320/321</td>\n",
       "      <td>\\N</td>\n",
       "      <td>32S</td>\n",
       "      <td>150</td>\n",
       "    </tr>\n",
       "    <tr>\n",
       "      <th>14</th>\n",
       "      <td>Airbus A318</td>\n",
       "      <td>A318</td>\n",
       "      <td>318</td>\n",
       "      <td>107</td>\n",
       "    </tr>\n",
       "    <tr>\n",
       "      <th>15</th>\n",
       "      <td>Airbus A319</td>\n",
       "      <td>A319</td>\n",
       "      <td>319</td>\n",
       "      <td>124</td>\n",
       "    </tr>\n",
       "    <tr>\n",
       "      <th>16</th>\n",
       "      <td>Airbus A320-100/200</td>\n",
       "      <td>A320</td>\n",
       "      <td>320</td>\n",
       "      <td>150</td>\n",
       "    </tr>\n",
       "    <tr>\n",
       "      <th>17</th>\n",
       "      <td>Airbus A321-100/200</td>\n",
       "      <td>A321</td>\n",
       "      <td>321</td>\n",
       "      <td>186</td>\n",
       "    </tr>\n",
       "    <tr>\n",
       "      <th>18</th>\n",
       "      <td>Airbus A330 all models</td>\n",
       "      <td>A330</td>\n",
       "      <td>330</td>\n",
       "      <td>293</td>\n",
       "    </tr>\n",
       "    <tr>\n",
       "      <th>19</th>\n",
       "      <td>Airbus A330-200</td>\n",
       "      <td>A332</td>\n",
       "      <td>332</td>\n",
       "      <td>293</td>\n",
       "    </tr>\n",
       "  </tbody>\n",
       "</table>\n",
       "</div>"
      ],
      "text/plain": [
       "                           aircraft_name icao_aircraft iata_aircraft capacity\n",
       "0   Aerospatiale/Alenia ATR 42-300 / 320          AT43           AT4       50\n",
       "1         Aerospatiale/Alenia ATR 42-500          AT45           AT5       50\n",
       "2     Aerospatiale/Alenia ATR 42/ ATR 72            \\N           ATR       74\n",
       "3             Aerospatiale/Alenia ATR 72          AT72           AT7       74\n",
       "4              Aerospatiale/BAC Concorde          CONC           SSC      128\n",
       "5                        Airbus A300 pax          A30B           AB3      200\n",
       "6                    Airbus A300-600 pax          A306           AB6      266\n",
       "7                  Airbus A310 Freighter          A310           31F       \\N\n",
       "8             Airbus A310 all pax models          A310           310      198\n",
       "9              Airbus A310-200 Freighter          A310           31X       \\N\n",
       "10                   Airbus A310-200 pax          A310           312      198\n",
       "11             Airbus A310-300 Freighter          A310           31Y       \\N\n",
       "12                   Airbus A310-300 pax          A310           313      218\n",
       "13               Airbus A318/319/320/321            \\N           32S      150\n",
       "14                           Airbus A318          A318           318      107\n",
       "15                           Airbus A319          A319           319      124\n",
       "16                   Airbus A320-100/200          A320           320      150\n",
       "17                   Airbus A321-100/200          A321           321      186\n",
       "18                Airbus A330 all models          A330           330      293\n",
       "19                       Airbus A330-200          A332           332      293"
      ]
     },
     "execution_count": 4,
     "metadata": {},
     "output_type": "execute_result"
    }
   ],
   "source": [
    "aircraft.head(20)"
   ]
  },
  {
   "cell_type": "code",
   "execution_count": 5,
   "id": "d1a45cff-9a12-4124-a4e0-a606efc2bdd1",
   "metadata": {},
   "outputs": [],
   "source": [
    "#drop duplicated values in name, only two and not important for dataset\n",
    "aircraft.drop_duplicates(subset='aircraft_name', inplace=True)"
   ]
  },
  {
   "cell_type": "code",
   "execution_count": 6,
   "id": "ea374fa2-4f03-47f4-bf15-b380a8014f85",
   "metadata": {},
   "outputs": [],
   "source": [
    "#clean dataset from some values\n",
    "aircraft['capacity'] = aircraft['capacity'].replace('\\\\N', '0')\n",
    "aircraft['aircraft_name'] = aircraft['aircraft_name'].str.replace(' pax', '')"
   ]
  },
  {
   "cell_type": "code",
   "execution_count": 7,
   "id": "38d2e2f8-b585-4790-8581-8fae691e621d",
   "metadata": {},
   "outputs": [],
   "source": [
    "aircraft['capacity'] = pd.to_numeric(aircraft['capacity'])"
   ]
  },
  {
   "cell_type": "code",
   "execution_count": 8,
   "id": "408c2c36-6a78-4d22-932a-bb83b24ce480",
   "metadata": {
    "tags": []
   },
   "outputs": [
    {
     "name": "stdout",
     "output_type": "stream",
     "text": [
      "<class 'pandas.core.frame.DataFrame'>\n",
      "Int64Index: 216 entries, 0 to 217\n",
      "Data columns (total 4 columns):\n",
      " #   Column         Non-Null Count  Dtype \n",
      "---  ------         --------------  ----- \n",
      " 0   aircraft_name  216 non-null    object\n",
      " 1   icao_aircraft  216 non-null    object\n",
      " 2   iata_aircraft  216 non-null    object\n",
      " 3   capacity       216 non-null    int64 \n",
      "dtypes: int64(1), object(3)\n",
      "memory usage: 8.4+ KB\n"
     ]
    }
   ],
   "source": [
    "aircraft.info()"
   ]
  },
  {
   "cell_type": "markdown",
   "id": "62092b8c-76fd-46f7-927c-6a42c0ecfdcf",
   "metadata": {
    "jupyter": {
     "outputs_hidden": true
    },
    "tags": []
   },
   "source": [
    "Unfortunately the aircraft_name in the Aircraft dataset does not 100% match the aircraft name gathered from the AeroDataBox API. I will not import this Dataframe into my Database. \\\n",
    "The reason for using this dataset in the first place was to get a rough number of passengers for the flights based on the available capacity of tehe aircraft. However, capacity also changse between different airlines and also would not reflect the actual number of passengers. \\\n",
    "Data about aircraft capacity could also be gathered from the AeroDataBox API, but unfortunately there is a limit of 200 requests per Month and thus it won't be possible to get the data for the capacity for each flight with the free subscription plan."
   ]
  },
  {
   "cell_type": "markdown",
   "id": "69577439-9610-4b4b-a42e-8cfd7f22c9fe",
   "metadata": {},
   "source": [
    "## Gather Weather Data from OpenWeatherMaps API\n",
    "\n",
    "Get weather forecast from OpenWeatherMaps for next 5 days in 3h interval \\\n",
    "api_key is saved in keys.py and loaded in the beginning with all other packages\n",
    "\n",
    "1. Use pyowm package\n",
    "2. Directly request the API\n"
   ]
  },
  {
   "cell_type": "code",
   "execution_count": 85,
   "id": "3e5c9b21-4422-47ef-b006-bce28266c30f",
   "metadata": {
    "collapsed": true,
    "jupyter": {
     "outputs_hidden": true
    },
    "tags": []
   },
   "outputs": [
    {
     "data": {
      "application/json": {
       "city": {
        "coord": {
         "lat": 52.5244,
         "lon": 13.4105
        },
        "country": "DE",
        "id": 2950159,
        "name": "Berlin",
        "population": 1000000,
        "sunrise": 1638428171,
        "sunset": 1638456948,
        "timezone": 3600
       },
       "cnt": 40,
       "cod": "200",
       "list": [
        {
         "clouds": {
          "all": 20
         },
         "dt": 1638457200,
         "dt_txt": "2021-12-02 15:00:00",
         "main": {
          "feels_like": -0.58,
          "grnd_level": 994,
          "humidity": 66,
          "pressure": 988,
          "sea_level": 988,
          "temp": 3.55,
          "temp_kf": 2.01,
          "temp_max": 3.55,
          "temp_min": 1.54
         },
         "pop": 0.02,
         "sys": {
          "pod": "n"
         },
         "visibility": 10000,
         "weather": [
          {
           "description": "few clouds",
           "icon": "02n",
           "id": 801,
           "main": "Clouds"
          }
         ],
         "wind": {
          "deg": 289,
          "gust": 10.04,
          "speed": 5.21
         }
        },
        {
         "clouds": {
          "all": 27
         },
         "dt": 1638468000,
         "dt_txt": "2021-12-02 18:00:00",
         "main": {
          "feels_like": -1,
          "grnd_level": 997,
          "humidity": 71,
          "pressure": 993,
          "sea_level": 993,
          "temp": 2.63,
          "temp_kf": 1.83,
          "temp_max": 2.63,
          "temp_min": 0.8
         },
         "pop": 0,
         "sys": {
          "pod": "n"
         },
         "visibility": 10000,
         "weather": [
          {
           "description": "scattered clouds",
           "icon": "03n",
           "id": 802,
           "main": "Clouds"
          }
         ],
         "wind": {
          "deg": 300,
          "gust": 8.6,
          "speed": 3.91
         }
        },
        {
         "clouds": {
          "all": 29
         },
         "dt": 1638478800,
         "dt_txt": "2021-12-02 21:00:00",
         "main": {
          "feels_like": -3.18,
          "grnd_level": 999,
          "humidity": 76,
          "pressure": 999,
          "sea_level": 999,
          "temp": 0.72,
          "temp_kf": 1.41,
          "temp_max": 0.72,
          "temp_min": -0.69
         },
         "pop": 0,
         "sys": {
          "pod": "n"
         },
         "visibility": 10000,
         "weather": [
          {
           "description": "scattered clouds",
           "icon": "03n",
           "id": 802,
           "main": "Clouds"
          }
         ],
         "wind": {
          "deg": 283,
          "gust": 9.05,
          "speed": 3.69
         }
        },
        {
         "clouds": {
          "all": 23
         },
         "dt": 1638489600,
         "dt_txt": "2021-12-03 00:00:00",
         "main": {
          "feels_like": -4.98,
          "grnd_level": 1001,
          "humidity": 81,
          "pressure": 1006,
          "sea_level": 1006,
          "temp": -0.95,
          "temp_kf": 0,
          "temp_max": -0.95,
          "temp_min": -0.95
         },
         "pop": 0,
         "sys": {
          "pod": "n"
         },
         "visibility": 10000,
         "weather": [
          {
           "description": "few clouds",
           "icon": "02n",
           "id": 801,
           "main": "Clouds"
          }
         ],
         "wind": {
          "deg": 272,
          "gust": 9.17,
          "speed": 3.39
         }
        },
        {
         "clouds": {
          "all": 11
         },
         "dt": 1638500400,
         "dt_txt": "2021-12-03 03:00:00",
         "main": {
          "feels_like": -5.26,
          "grnd_level": 1001,
          "humidity": 73,
          "pressure": 1007,
          "sea_level": 1007,
          "temp": -0.78,
          "temp_kf": 0,
          "temp_max": -0.78,
          "temp_min": -0.78
         },
         "pop": 0,
         "sys": {
          "pod": "n"
         },
         "visibility": 10000,
         "weather": [
          {
           "description": "few clouds",
           "icon": "02n",
           "id": 801,
           "main": "Clouds"
          }
         ],
         "wind": {
          "deg": 242,
          "gust": 11.8,
          "speed": 4.03
         }
        },
        {
         "clouds": {
          "all": 31
         },
         "dt": 1638511200,
         "dt_txt": "2021-12-03 06:00:00",
         "main": {
          "feels_like": -5.02,
          "grnd_level": 1002,
          "humidity": 75,
          "pressure": 1007,
          "sea_level": 1007,
          "temp": 0.03,
          "temp_kf": 0,
          "temp_max": 0.03,
          "temp_min": 0.03
         },
         "pop": 0,
         "sys": {
          "pod": "n"
         },
         "visibility": 10000,
         "weather": [
          {
           "description": "scattered clouds",
           "icon": "03n",
           "id": 802,
           "main": "Clouds"
          }
         ],
         "wind": {
          "deg": 249,
          "gust": 13.51,
          "speed": 5.25
         }
        },
        {
         "clouds": {
          "all": 91
         },
         "dt": 1638522000,
         "dt_txt": "2021-12-03 09:00:00",
         "main": {
          "feels_like": -3.59,
          "grnd_level": 1003,
          "humidity": 72,
          "pressure": 1009,
          "sea_level": 1009,
          "temp": 1.09,
          "temp_kf": 0,
          "temp_max": 1.09,
          "temp_min": 1.09
         },
         "pop": 0,
         "sys": {
          "pod": "d"
         },
         "visibility": 10000,
         "weather": [
          {
           "description": "overcast clouds",
           "icon": "04d",
           "id": 804,
           "main": "Clouds"
          }
         ],
         "wind": {
          "deg": 246,
          "gust": 12.9,
          "speed": 5.07
         }
        },
        {
         "clouds": {
          "all": 96
         },
         "dt": 1638532800,
         "dt_txt": "2021-12-03 12:00:00",
         "main": {
          "feels_like": -0.94,
          "grnd_level": 1003,
          "humidity": 61,
          "pressure": 1008,
          "sea_level": 1008,
          "temp": 3.22,
          "temp_kf": 0,
          "temp_max": 3.22,
          "temp_min": 3.22
         },
         "pop": 0,
         "sys": {
          "pod": "d"
         },
         "visibility": 10000,
         "weather": [
          {
           "description": "overcast clouds",
           "icon": "04d",
           "id": 804,
           "main": "Clouds"
          }
         ],
         "wind": {
          "deg": 235,
          "gust": 11.7,
          "speed": 5.09
         }
        },
        {
         "clouds": {
          "all": 100
         },
         "dt": 1638543600,
         "dt_txt": "2021-12-03 15:00:00",
         "main": {
          "feels_like": -1.8,
          "grnd_level": 1003,
          "humidity": 65,
          "pressure": 1009,
          "sea_level": 1009,
          "temp": 2.68,
          "temp_kf": 0,
          "temp_max": 2.68,
          "temp_min": 2.68
         },
         "pop": 0,
         "sys": {
          "pod": "n"
         },
         "visibility": 10000,
         "weather": [
          {
           "description": "overcast clouds",
           "icon": "04n",
           "id": 804,
           "main": "Clouds"
          }
         ],
         "wind": {
          "deg": 225,
          "gust": 11.64,
          "speed": 5.47
         }
        },
        {
         "clouds": {
          "all": 100
         },
         "dt": 1638554400,
         "dt_txt": "2021-12-03 18:00:00",
         "main": {
          "feels_like": -2.41,
          "grnd_level": 1003,
          "humidity": 73,
          "pressure": 1008,
          "sea_level": 1008,
          "temp": 2.3,
          "temp_kf": 0,
          "temp_max": 2.3,
          "temp_min": 2.3
         },
         "pop": 0,
         "sys": {
          "pod": "n"
         },
         "visibility": 10000,
         "weather": [
          {
           "description": "overcast clouds",
           "icon": "04n",
           "id": 804,
           "main": "Clouds"
          }
         ],
         "wind": {
          "deg": 220,
          "gust": 12.14,
          "speed": 5.73
         }
        },
        {
         "clouds": {
          "all": 93
         },
         "dt": 1638565200,
         "dt_txt": "2021-12-03 21:00:00",
         "main": {
          "feels_like": -3.25,
          "grnd_level": 1001,
          "humidity": 76,
          "pressure": 1006,
          "sea_level": 1006,
          "temp": 1.69,
          "temp_kf": 0,
          "temp_max": 1.69,
          "temp_min": 1.69
         },
         "pop": 0,
         "sys": {
          "pod": "n"
         },
         "visibility": 10000,
         "weather": [
          {
           "description": "overcast clouds",
           "icon": "04n",
           "id": 804,
           "main": "Clouds"
          }
         ],
         "wind": {
          "deg": 205,
          "gust": 13.12,
          "speed": 5.88
         }
        },
        {
         "clouds": {
          "all": 96
         },
         "dt": 1638576000,
         "dt_txt": "2021-12-04 00:00:00",
         "main": {
          "feels_like": -2.14,
          "grnd_level": 999,
          "humidity": 75,
          "pressure": 1004,
          "sea_level": 1004,
          "temp": 2.31,
          "temp_kf": 0,
          "temp_max": 2.31,
          "temp_min": 2.31
         },
         "pop": 0.29,
         "sys": {
          "pod": "n"
         },
         "visibility": 10000,
         "weather": [
          {
           "description": "overcast clouds",
           "icon": "04n",
           "id": 804,
           "main": "Clouds"
          }
         ],
         "wind": {
          "deg": 215,
          "gust": 11.89,
          "speed": 5.21
         }
        },
        {
         "clouds": {
          "all": 100
         },
         "dt": 1638586800,
         "dt_txt": "2021-12-04 03:00:00",
         "main": {
          "feels_like": -2.98,
          "grnd_level": 997,
          "humidity": 87,
          "pressure": 1002,
          "sea_level": 1002,
          "temp": 1.42,
          "temp_kf": 0,
          "temp_max": 1.42,
          "temp_min": 1.42
         },
         "pop": 0.77,
         "snow": {
          "3h": 1.03
         },
         "sys": {
          "pod": "n"
         },
         "visibility": 10000,
         "weather": [
          {
           "description": "light snow",
           "icon": "13n",
           "id": 600,
           "main": "Snow"
          }
         ],
         "wind": {
          "deg": 204,
          "gust": 10.94,
          "speed": 4.71
         }
        },
        {
         "clouds": {
          "all": 100
         },
         "dt": 1638597600,
         "dt_txt": "2021-12-04 06:00:00",
         "main": {
          "feels_like": -3.58,
          "grnd_level": 995,
          "humidity": 97,
          "pressure": 1000,
          "sea_level": 1000,
          "temp": 0.64,
          "temp_kf": 0,
          "temp_max": 0.64,
          "temp_min": 0.64
         },
         "pop": 1,
         "snow": {
          "3h": 1.95
         },
         "sys": {
          "pod": "n"
         },
         "visibility": 38,
         "weather": [
          {
           "description": "snow",
           "icon": "13n",
           "id": 601,
           "main": "Snow"
          }
         ],
         "wind": {
          "deg": 183,
          "gust": 10.18,
          "speed": 4.12
         }
        },
        {
         "clouds": {
          "all": 100
         },
         "dt": 1638608400,
         "dt_txt": "2021-12-04 09:00:00",
         "main": {
          "feels_like": -2.52,
          "grnd_level": 994,
          "humidity": 98,
          "pressure": 999,
          "sea_level": 999,
          "temp": 1.04,
          "temp_kf": 0,
          "temp_max": 1.04,
          "temp_min": 1.04
         },
         "pop": 1,
         "snow": {
          "3h": 1.09
         },
         "sys": {
          "pod": "d"
         },
         "visibility": 23,
         "weather": [
          {
           "description": "light snow",
           "icon": "13d",
           "id": 600,
           "main": "Snow"
          }
         ],
         "wind": {
          "deg": 176,
          "gust": 8.31,
          "speed": 3.33
         }
        },
        {
         "clouds": {
          "all": 100
         },
         "dt": 1638619200,
         "dt_txt": "2021-12-04 12:00:00",
         "main": {
          "feels_like": -1.36,
          "grnd_level": 992,
          "humidity": 97,
          "pressure": 997,
          "sea_level": 997,
          "temp": 1.61,
          "temp_kf": 0,
          "temp_max": 1.61,
          "temp_min": 1.61
         },
         "pop": 0.76,
         "sys": {
          "pod": "d"
         },
         "visibility": 95,
         "weather": [
          {
           "description": "overcast clouds",
           "icon": "04d",
           "id": 804,
           "main": "Clouds"
          }
         ],
         "wind": {
          "deg": 167,
          "gust": 5.8,
          "speed": 2.76
         }
        },
        {
         "clouds": {
          "all": 100
         },
         "dt": 1638630000,
         "dt_txt": "2021-12-04 15:00:00",
         "main": {
          "feels_like": -0.8,
          "grnd_level": 992,
          "humidity": 93,
          "pressure": 997,
          "sea_level": 997,
          "temp": 1.88,
          "temp_kf": 0,
          "temp_max": 1.88,
          "temp_min": 1.88
         },
         "pop": 0,
         "sys": {
          "pod": "n"
         },
         "visibility": 10000,
         "weather": [
          {
           "description": "overcast clouds",
           "icon": "04n",
           "id": 804,
           "main": "Clouds"
          }
         ],
         "wind": {
          "deg": 134,
          "gust": 5.09,
          "speed": 2.51
         }
        },
        {
         "clouds": {
          "all": 100
         },
         "dt": 1638640800,
         "dt_txt": "2021-12-04 18:00:00",
         "main": {
          "feels_like": -0.98,
          "grnd_level": 991,
          "humidity": 91,
          "pressure": 997,
          "sea_level": 997,
          "temp": 1.95,
          "temp_kf": 0,
          "temp_max": 1.95,
          "temp_min": 1.95
         },
         "pop": 0,
         "sys": {
          "pod": "n"
         },
         "visibility": 10000,
         "weather": [
          {
           "description": "overcast clouds",
           "icon": "04n",
           "id": 804,
           "main": "Clouds"
          }
         ],
         "wind": {
          "deg": 118,
          "gust": 5.52,
          "speed": 2.79
         }
        },
        {
         "clouds": {
          "all": 100
         },
         "dt": 1638651600,
         "dt_txt": "2021-12-04 21:00:00",
         "main": {
          "feels_like": 0.23,
          "grnd_level": 991,
          "humidity": 94,
          "pressure": 996,
          "sea_level": 996,
          "temp": 2.04,
          "temp_kf": 0,
          "temp_max": 2.04,
          "temp_min": 2.04
         },
         "pop": 0.7,
         "rain": {
          "3h": 0.36
         },
         "sys": {
          "pod": "n"
         },
         "visibility": 10000,
         "weather": [
          {
           "description": "light rain",
           "icon": "10n",
           "id": 500,
           "main": "Rain"
          }
         ],
         "wind": {
          "deg": 115,
          "gust": 3.61,
          "speed": 1.75
         }
        },
        {
         "clouds": {
          "all": 100
         },
         "dt": 1638662400,
         "dt_txt": "2021-12-05 00:00:00",
         "main": {
          "feels_like": 2.3,
          "grnd_level": 992,
          "humidity": 97,
          "pressure": 997,
          "sea_level": 997,
          "temp": 2.3,
          "temp_kf": 0,
          "temp_max": 2.3,
          "temp_min": 2.3
         },
         "pop": 0.47,
         "sys": {
          "pod": "n"
         },
         "visibility": 2819,
         "weather": [
          {
           "description": "overcast clouds",
           "icon": "04n",
           "id": 804,
           "main": "Clouds"
          }
         ],
         "wind": {
          "deg": 254,
          "gust": 3.92,
          "speed": 1.13
         }
        },
        {
         "clouds": {
          "all": 100
         },
         "dt": 1638673200,
         "dt_txt": "2021-12-05 03:00:00",
         "main": {
          "feels_like": 0.66,
          "grnd_level": 993,
          "humidity": 98,
          "pressure": 998,
          "sea_level": 998,
          "temp": 2.45,
          "temp_kf": 0,
          "temp_max": 2.45,
          "temp_min": 2.45
         },
         "pop": 0.59,
         "rain": {
          "3h": 0.27
         },
         "sys": {
          "pod": "n"
         },
         "visibility": 76,
         "weather": [
          {
           "description": "light rain",
           "icon": "10n",
           "id": 500,
           "main": "Rain"
          }
         ],
         "wind": {
          "deg": 258,
          "gust": 6.69,
          "speed": 1.78
         }
        },
        {
         "clouds": {
          "all": 100
         },
         "dt": 1638684000,
         "dt_txt": "2021-12-05 06:00:00",
         "main": {
          "feels_like": 2.93,
          "grnd_level": 994,
          "humidity": 99,
          "pressure": 999,
          "sea_level": 999,
          "temp": 2.93,
          "temp_kf": 0,
          "temp_max": 2.93,
          "temp_min": 2.93
         },
         "pop": 0.41,
         "rain": {
          "3h": 0.31
         },
         "sys": {
          "pod": "n"
         },
         "visibility": 569,
         "weather": [
          {
           "description": "light rain",
           "icon": "10n",
           "id": 500,
           "main": "Rain"
          }
         ],
         "wind": {
          "deg": 218,
          "gust": 3.56,
          "speed": 0.93
         }
        },
        {
         "clouds": {
          "all": 100
         },
         "dt": 1638694800,
         "dt_txt": "2021-12-05 09:00:00",
         "main": {
          "feels_like": -0.44,
          "grnd_level": 996,
          "humidity": 97,
          "pressure": 1001,
          "sea_level": 1001,
          "temp": 2.52,
          "temp_kf": 0,
          "temp_max": 2.52,
          "temp_min": 2.52
         },
         "pop": 0.88,
         "rain": {
          "3h": 0.22
         },
         "sys": {
          "pod": "d"
         },
         "visibility": 56,
         "weather": [
          {
           "description": "light rain",
           "icon": "10d",
           "id": 500,
           "main": "Rain"
          }
         ],
         "wind": {
          "deg": 253,
          "gust": 6.13,
          "speed": 2.96
         }
        },
        {
         "clouds": {
          "all": 100
         },
         "dt": 1638705600,
         "dt_txt": "2021-12-05 12:00:00",
         "main": {
          "feels_like": 0.07,
          "grnd_level": 997,
          "humidity": 97,
          "pressure": 1002,
          "sea_level": 1002,
          "temp": 2.69,
          "temp_kf": 0,
          "temp_max": 2.69,
          "temp_min": 2.69
         },
         "pop": 0.99,
         "rain": {
          "3h": 1.04
         },
         "sys": {
          "pod": "d"
         },
         "visibility": 40,
         "weather": [
          {
           "description": "light rain",
           "icon": "10d",
           "id": 500,
           "main": "Rain"
          }
         ],
         "wind": {
          "deg": 243,
          "gust": 8.08,
          "speed": 2.6
         }
        },
        {
         "clouds": {
          "all": 100
         },
         "dt": 1638716400,
         "dt_txt": "2021-12-05 15:00:00",
         "main": {
          "feels_like": -0.26,
          "grnd_level": 999,
          "humidity": 97,
          "pressure": 1004,
          "sea_level": 1004,
          "temp": 2.72,
          "temp_kf": 0,
          "temp_max": 2.72,
          "temp_min": 2.72
         },
         "pop": 0.71,
         "rain": {
          "3h": 0.4
         },
         "sys": {
          "pod": "n"
         },
         "visibility": 40,
         "weather": [
          {
           "description": "light rain",
           "icon": "10n",
           "id": 500,
           "main": "Rain"
          }
         ],
         "wind": {
          "deg": 263,
          "gust": 8.32,
          "speed": 3.03
         }
        },
        {
         "clouds": {
          "all": 100
         },
         "dt": 1638727200,
         "dt_txt": "2021-12-05 18:00:00",
         "main": {
          "feels_like": 1.24,
          "grnd_level": 1000,
          "humidity": 89,
          "pressure": 1006,
          "sea_level": 1006,
          "temp": 2.81,
          "temp_kf": 0,
          "temp_max": 2.81,
          "temp_min": 2.81
         },
         "pop": 0.42,
         "sys": {
          "pod": "n"
         },
         "visibility": 10000,
         "weather": [
          {
           "description": "overcast clouds",
           "icon": "04n",
           "id": 804,
           "main": "Clouds"
          }
         ],
         "wind": {
          "deg": 281,
          "gust": 4.38,
          "speed": 1.65
         }
        },
        {
         "clouds": {
          "all": 100
         },
         "dt": 1638738000,
         "dt_txt": "2021-12-05 21:00:00",
         "main": {
          "feels_like": 0.15,
          "grnd_level": 1002,
          "humidity": 97,
          "pressure": 1007,
          "sea_level": 1007,
          "temp": 2.34,
          "temp_kf": 0,
          "temp_max": 2.34,
          "temp_min": 2.34
         },
         "pop": 0.34,
         "snow": {
          "3h": 0.22
         },
         "sys": {
          "pod": "n"
         },
         "visibility": 71,
         "weather": [
          {
           "description": "light snow",
           "icon": "13n",
           "id": 600,
           "main": "Snow"
          }
         ],
         "wind": {
          "deg": 260,
          "gust": 4.23,
          "speed": 2.11
         }
        },
        {
         "clouds": {
          "all": 100
         },
         "dt": 1638748800,
         "dt_txt": "2021-12-06 00:00:00",
         "main": {
          "feels_like": -0.63,
          "grnd_level": 1003,
          "humidity": 95,
          "pressure": 1008,
          "sea_level": 1008,
          "temp": 1.84,
          "temp_kf": 0,
          "temp_max": 1.84,
          "temp_min": 1.84
         },
         "pop": 0.31,
         "sys": {
          "pod": "n"
         },
         "visibility": 7771,
         "weather": [
          {
           "description": "overcast clouds",
           "icon": "04n",
           "id": 804,
           "main": "Clouds"
          }
         ],
         "wind": {
          "deg": 315,
          "gust": 4.48,
          "speed": 2.29
         }
        },
        {
         "clouds": {
          "all": 100
         },
         "dt": 1638759600,
         "dt_txt": "2021-12-06 03:00:00",
         "main": {
          "feels_like": -0.17,
          "grnd_level": 1004,
          "humidity": 96,
          "pressure": 1009,
          "sea_level": 1009,
          "temp": 1.54,
          "temp_kf": 0,
          "temp_max": 1.54,
          "temp_min": 1.54
         },
         "pop": 0,
         "sys": {
          "pod": "n"
         },
         "visibility": 995,
         "weather": [
          {
           "description": "overcast clouds",
           "icon": "04n",
           "id": 804,
           "main": "Clouds"
          }
         ],
         "wind": {
          "deg": 20,
          "gust": 2.78,
          "speed": 1.62
         }
        },
        {
         "clouds": {
          "all": 100
         },
         "dt": 1638770400,
         "dt_txt": "2021-12-06 06:00:00",
         "main": {
          "feels_like": -2.52,
          "grnd_level": 1005,
          "humidity": 89,
          "pressure": 1010,
          "sea_level": 1010,
          "temp": 0.54,
          "temp_kf": 0,
          "temp_max": 0.54,
          "temp_min": 0.54
         },
         "pop": 0,
         "sys": {
          "pod": "n"
         },
         "visibility": 10000,
         "weather": [
          {
           "description": "overcast clouds",
           "icon": "04n",
           "id": 804,
           "main": "Clouds"
          }
         ],
         "wind": {
          "deg": 27,
          "gust": 3.96,
          "speed": 2.64
         }
        },
        {
         "clouds": {
          "all": 100
         },
         "dt": 1638781200,
         "dt_txt": "2021-12-06 09:00:00",
         "main": {
          "feels_like": -2,
          "grnd_level": 1007,
          "humidity": 82,
          "pressure": 1012,
          "sea_level": 1012,
          "temp": 0.8,
          "temp_kf": 0,
          "temp_max": 0.8,
          "temp_min": 0.8
         },
         "pop": 0,
         "sys": {
          "pod": "d"
         },
         "visibility": 10000,
         "weather": [
          {
           "description": "overcast clouds",
           "icon": "04d",
           "id": 804,
           "main": "Clouds"
          }
         ],
         "wind": {
          "deg": 23,
          "gust": 3.39,
          "speed": 2.43
         }
        },
        {
         "clouds": {
          "all": 100
         },
         "dt": 1638792000,
         "dt_txt": "2021-12-06 12:00:00",
         "main": {
          "feels_like": -1.51,
          "grnd_level": 1008,
          "humidity": 80,
          "pressure": 1013,
          "sea_level": 1013,
          "temp": 1.06,
          "temp_kf": 0,
          "temp_max": 1.06,
          "temp_min": 1.06
         },
         "pop": 0,
         "sys": {
          "pod": "d"
         },
         "visibility": 10000,
         "weather": [
          {
           "description": "overcast clouds",
           "icon": "04d",
           "id": 804,
           "main": "Clouds"
          }
         ],
         "wind": {
          "deg": 15,
          "gust": 3,
          "speed": 2.25
         }
        },
        {
         "clouds": {
          "all": 100
         },
         "dt": 1638802800,
         "dt_txt": "2021-12-06 15:00:00",
         "main": {
          "feels_like": -1.44,
          "grnd_level": 1008,
          "humidity": 82,
          "pressure": 1014,
          "sea_level": 1014,
          "temp": 1.01,
          "temp_kf": 0,
          "temp_max": 1.01,
          "temp_min": 1.01
         },
         "pop": 0,
         "sys": {
          "pod": "n"
         },
         "visibility": 10000,
         "weather": [
          {
           "description": "overcast clouds",
           "icon": "04n",
           "id": 804,
           "main": "Clouds"
          }
         ],
         "wind": {
          "deg": 348,
          "gust": 3.14,
          "speed": 2.14
         }
        },
        {
         "clouds": {
          "all": 100
         },
         "dt": 1638813600,
         "dt_txt": "2021-12-06 18:00:00",
         "main": {
          "feels_like": -2.04,
          "grnd_level": 1010,
          "humidity": 82,
          "pressure": 1015,
          "sea_level": 1015,
          "temp": 0.28,
          "temp_kf": 0,
          "temp_max": 0.28,
          "temp_min": 0.28
         },
         "pop": 0,
         "sys": {
          "pod": "n"
         },
         "visibility": 10000,
         "weather": [
          {
           "description": "overcast clouds",
           "icon": "04n",
           "id": 804,
           "main": "Clouds"
          }
         ],
         "wind": {
          "deg": 345,
          "gust": 3.01,
          "speed": 1.93
         }
        },
        {
         "clouds": {
          "all": 44
         },
         "dt": 1638824400,
         "dt_txt": "2021-12-06 21:00:00",
         "main": {
          "feels_like": -2.89,
          "grnd_level": 1011,
          "humidity": 91,
          "pressure": 1016,
          "sea_level": 1016,
          "temp": -0.95,
          "temp_kf": 0,
          "temp_max": -0.95,
          "temp_min": -0.95
         },
         "pop": 0,
         "sys": {
          "pod": "n"
         },
         "visibility": 10000,
         "weather": [
          {
           "description": "scattered clouds",
           "icon": "03n",
           "id": 802,
           "main": "Clouds"
          }
         ],
         "wind": {
          "deg": 314,
          "gust": 2.26,
          "speed": 1.53
         }
        },
        {
         "clouds": {
          "all": 47
         },
         "dt": 1638835200,
         "dt_txt": "2021-12-07 00:00:00",
         "main": {
          "feels_like": -2.78,
          "grnd_level": 1011,
          "humidity": 87,
          "pressure": 1017,
          "sea_level": 1017,
          "temp": -0.4,
          "temp_kf": 0,
          "temp_max": -0.4,
          "temp_min": -0.4
         },
         "pop": 0,
         "sys": {
          "pod": "n"
         },
         "visibility": 10000,
         "weather": [
          {
           "description": "scattered clouds",
           "icon": "03n",
           "id": 802,
           "main": "Clouds"
          }
         ],
         "wind": {
          "deg": 303,
          "gust": 3.5,
          "speed": 1.89
         }
        },
        {
         "clouds": {
          "all": 98
         },
         "dt": 1638846000,
         "dt_txt": "2021-12-07 03:00:00",
         "main": {
          "feels_like": 0.49,
          "grnd_level": 1012,
          "humidity": 77,
          "pressure": 1018,
          "sea_level": 1018,
          "temp": 0.49,
          "temp_kf": 0,
          "temp_max": 0.49,
          "temp_min": 0.49
         },
         "pop": 0,
         "sys": {
          "pod": "n"
         },
         "visibility": 10000,
         "weather": [
          {
           "description": "overcast clouds",
           "icon": "04n",
           "id": 804,
           "main": "Clouds"
          }
         ],
         "wind": {
          "deg": 253,
          "gust": 1.89,
          "speed": 1.11
         }
        },
        {
         "clouds": {
          "all": 99
         },
         "dt": 1638856800,
         "dt_txt": "2021-12-07 06:00:00",
         "main": {
          "feels_like": -1.28,
          "grnd_level": 1013,
          "humidity": 78,
          "pressure": 1018,
          "sea_level": 1018,
          "temp": 0.33,
          "temp_kf": 0,
          "temp_max": 0.33,
          "temp_min": 0.33
         },
         "pop": 0,
         "sys": {
          "pod": "n"
         },
         "visibility": 10000,
         "weather": [
          {
           "description": "overcast clouds",
           "icon": "04n",
           "id": 804,
           "main": "Clouds"
          }
         ],
         "wind": {
          "deg": 191,
          "gust": 2.52,
          "speed": 1.44
         }
        },
        {
         "clouds": {
          "all": 100
         },
         "dt": 1638867600,
         "dt_txt": "2021-12-07 09:00:00",
         "main": {
          "feels_like": -1.04,
          "grnd_level": 1013,
          "humidity": 71,
          "pressure": 1019,
          "sea_level": 1019,
          "temp": 1,
          "temp_kf": 0,
          "temp_max": 1,
          "temp_min": 1
         },
         "pop": 0,
         "sys": {
          "pod": "d"
         },
         "visibility": 10000,
         "weather": [
          {
           "description": "overcast clouds",
           "icon": "04d",
           "id": 804,
           "main": "Clouds"
          }
         ],
         "wind": {
          "deg": 176,
          "gust": 3.52,
          "speed": 1.8
         }
        },
        {
         "clouds": {
          "all": 98
         },
         "dt": 1638878400,
         "dt_txt": "2021-12-07 12:00:00",
         "main": {
          "feels_like": -0.85,
          "grnd_level": 1013,
          "humidity": 67,
          "pressure": 1018,
          "sea_level": 1018,
          "temp": 1.88,
          "temp_kf": 0,
          "temp_max": 1.88,
          "temp_min": 1.88
         },
         "pop": 0,
         "sys": {
          "pod": "d"
         },
         "visibility": 10000,
         "weather": [
          {
           "description": "overcast clouds",
           "icon": "04d",
           "id": 804,
           "main": "Clouds"
          }
         ],
         "wind": {
          "deg": 172,
          "gust": 3.27,
          "speed": 2.56
         }
        }
       ],
       "message": 0
      },
      "text/plain": [
       "<IPython.core.display.JSON object>"
      ]
     },
     "execution_count": 85,
     "metadata": {
      "application/json": {
       "expanded": false,
       "root": "root"
      }
     },
     "output_type": "execute_result"
    }
   ],
   "source": [
    "city = 'Berlin'\n",
    "country = 'DE'\n",
    "\n",
    "weather = requests.get(f'http://api.openweathermap.org/data/2.5/forecast/?q={city},{country}&appid={OWM_key}&units=metric&lang=en')\n",
    "\n",
    "\n",
    "JSON(weather.json())"
   ]
  },
  {
   "cell_type": "code",
   "execution_count": 87,
   "id": "036defe3-0cb6-4530-a7f6-22f23ccc3933",
   "metadata": {
    "collapsed": true,
    "jupyter": {
     "outputs_hidden": true
    },
    "tags": []
   },
   "outputs": [
    {
     "data": {
      "text/plain": [
       "{'cod': '200',\n",
       " 'message': 0,\n",
       " 'cnt': 40,\n",
       " 'list': [{'dt': 1638457200,\n",
       "   'main': {'temp': 3.55,\n",
       "    'feels_like': -0.58,\n",
       "    'temp_min': 1.54,\n",
       "    'temp_max': 3.55,\n",
       "    'pressure': 988,\n",
       "    'sea_level': 988,\n",
       "    'grnd_level': 994,\n",
       "    'humidity': 66,\n",
       "    'temp_kf': 2.01},\n",
       "   'weather': [{'id': 801,\n",
       "     'main': 'Clouds',\n",
       "     'description': 'few clouds',\n",
       "     'icon': '02n'}],\n",
       "   'clouds': {'all': 20},\n",
       "   'wind': {'speed': 5.21, 'deg': 289, 'gust': 10.04},\n",
       "   'visibility': 10000,\n",
       "   'pop': 0.02,\n",
       "   'sys': {'pod': 'n'},\n",
       "   'dt_txt': '2021-12-02 15:00:00'},\n",
       "  {'dt': 1638468000,\n",
       "   'main': {'temp': 2.63,\n",
       "    'feels_like': -1,\n",
       "    'temp_min': 0.8,\n",
       "    'temp_max': 2.63,\n",
       "    'pressure': 993,\n",
       "    'sea_level': 993,\n",
       "    'grnd_level': 997,\n",
       "    'humidity': 71,\n",
       "    'temp_kf': 1.83},\n",
       "   'weather': [{'id': 802,\n",
       "     'main': 'Clouds',\n",
       "     'description': 'scattered clouds',\n",
       "     'icon': '03n'}],\n",
       "   'clouds': {'all': 27},\n",
       "   'wind': {'speed': 3.91, 'deg': 300, 'gust': 8.6},\n",
       "   'visibility': 10000,\n",
       "   'pop': 0,\n",
       "   'sys': {'pod': 'n'},\n",
       "   'dt_txt': '2021-12-02 18:00:00'},\n",
       "  {'dt': 1638478800,\n",
       "   'main': {'temp': 0.72,\n",
       "    'feels_like': -3.18,\n",
       "    'temp_min': -0.69,\n",
       "    'temp_max': 0.72,\n",
       "    'pressure': 999,\n",
       "    'sea_level': 999,\n",
       "    'grnd_level': 999,\n",
       "    'humidity': 76,\n",
       "    'temp_kf': 1.41},\n",
       "   'weather': [{'id': 802,\n",
       "     'main': 'Clouds',\n",
       "     'description': 'scattered clouds',\n",
       "     'icon': '03n'}],\n",
       "   'clouds': {'all': 29},\n",
       "   'wind': {'speed': 3.69, 'deg': 283, 'gust': 9.05},\n",
       "   'visibility': 10000,\n",
       "   'pop': 0,\n",
       "   'sys': {'pod': 'n'},\n",
       "   'dt_txt': '2021-12-02 21:00:00'},\n",
       "  {'dt': 1638489600,\n",
       "   'main': {'temp': -0.95,\n",
       "    'feels_like': -4.98,\n",
       "    'temp_min': -0.95,\n",
       "    'temp_max': -0.95,\n",
       "    'pressure': 1006,\n",
       "    'sea_level': 1006,\n",
       "    'grnd_level': 1001,\n",
       "    'humidity': 81,\n",
       "    'temp_kf': 0},\n",
       "   'weather': [{'id': 801,\n",
       "     'main': 'Clouds',\n",
       "     'description': 'few clouds',\n",
       "     'icon': '02n'}],\n",
       "   'clouds': {'all': 23},\n",
       "   'wind': {'speed': 3.39, 'deg': 272, 'gust': 9.17},\n",
       "   'visibility': 10000,\n",
       "   'pop': 0,\n",
       "   'sys': {'pod': 'n'},\n",
       "   'dt_txt': '2021-12-03 00:00:00'},\n",
       "  {'dt': 1638500400,\n",
       "   'main': {'temp': -0.78,\n",
       "    'feels_like': -5.26,\n",
       "    'temp_min': -0.78,\n",
       "    'temp_max': -0.78,\n",
       "    'pressure': 1007,\n",
       "    'sea_level': 1007,\n",
       "    'grnd_level': 1001,\n",
       "    'humidity': 73,\n",
       "    'temp_kf': 0},\n",
       "   'weather': [{'id': 801,\n",
       "     'main': 'Clouds',\n",
       "     'description': 'few clouds',\n",
       "     'icon': '02n'}],\n",
       "   'clouds': {'all': 11},\n",
       "   'wind': {'speed': 4.03, 'deg': 242, 'gust': 11.8},\n",
       "   'visibility': 10000,\n",
       "   'pop': 0,\n",
       "   'sys': {'pod': 'n'},\n",
       "   'dt_txt': '2021-12-03 03:00:00'},\n",
       "  {'dt': 1638511200,\n",
       "   'main': {'temp': 0.03,\n",
       "    'feels_like': -5.02,\n",
       "    'temp_min': 0.03,\n",
       "    'temp_max': 0.03,\n",
       "    'pressure': 1007,\n",
       "    'sea_level': 1007,\n",
       "    'grnd_level': 1002,\n",
       "    'humidity': 75,\n",
       "    'temp_kf': 0},\n",
       "   'weather': [{'id': 802,\n",
       "     'main': 'Clouds',\n",
       "     'description': 'scattered clouds',\n",
       "     'icon': '03n'}],\n",
       "   'clouds': {'all': 31},\n",
       "   'wind': {'speed': 5.25, 'deg': 249, 'gust': 13.51},\n",
       "   'visibility': 10000,\n",
       "   'pop': 0,\n",
       "   'sys': {'pod': 'n'},\n",
       "   'dt_txt': '2021-12-03 06:00:00'},\n",
       "  {'dt': 1638522000,\n",
       "   'main': {'temp': 1.09,\n",
       "    'feels_like': -3.59,\n",
       "    'temp_min': 1.09,\n",
       "    'temp_max': 1.09,\n",
       "    'pressure': 1009,\n",
       "    'sea_level': 1009,\n",
       "    'grnd_level': 1003,\n",
       "    'humidity': 72,\n",
       "    'temp_kf': 0},\n",
       "   'weather': [{'id': 804,\n",
       "     'main': 'Clouds',\n",
       "     'description': 'overcast clouds',\n",
       "     'icon': '04d'}],\n",
       "   'clouds': {'all': 91},\n",
       "   'wind': {'speed': 5.07, 'deg': 246, 'gust': 12.9},\n",
       "   'visibility': 10000,\n",
       "   'pop': 0,\n",
       "   'sys': {'pod': 'd'},\n",
       "   'dt_txt': '2021-12-03 09:00:00'},\n",
       "  {'dt': 1638532800,\n",
       "   'main': {'temp': 3.22,\n",
       "    'feels_like': -0.94,\n",
       "    'temp_min': 3.22,\n",
       "    'temp_max': 3.22,\n",
       "    'pressure': 1008,\n",
       "    'sea_level': 1008,\n",
       "    'grnd_level': 1003,\n",
       "    'humidity': 61,\n",
       "    'temp_kf': 0},\n",
       "   'weather': [{'id': 804,\n",
       "     'main': 'Clouds',\n",
       "     'description': 'overcast clouds',\n",
       "     'icon': '04d'}],\n",
       "   'clouds': {'all': 96},\n",
       "   'wind': {'speed': 5.09, 'deg': 235, 'gust': 11.7},\n",
       "   'visibility': 10000,\n",
       "   'pop': 0,\n",
       "   'sys': {'pod': 'd'},\n",
       "   'dt_txt': '2021-12-03 12:00:00'},\n",
       "  {'dt': 1638543600,\n",
       "   'main': {'temp': 2.68,\n",
       "    'feels_like': -1.8,\n",
       "    'temp_min': 2.68,\n",
       "    'temp_max': 2.68,\n",
       "    'pressure': 1009,\n",
       "    'sea_level': 1009,\n",
       "    'grnd_level': 1003,\n",
       "    'humidity': 65,\n",
       "    'temp_kf': 0},\n",
       "   'weather': [{'id': 804,\n",
       "     'main': 'Clouds',\n",
       "     'description': 'overcast clouds',\n",
       "     'icon': '04n'}],\n",
       "   'clouds': {'all': 100},\n",
       "   'wind': {'speed': 5.47, 'deg': 225, 'gust': 11.64},\n",
       "   'visibility': 10000,\n",
       "   'pop': 0,\n",
       "   'sys': {'pod': 'n'},\n",
       "   'dt_txt': '2021-12-03 15:00:00'},\n",
       "  {'dt': 1638554400,\n",
       "   'main': {'temp': 2.3,\n",
       "    'feels_like': -2.41,\n",
       "    'temp_min': 2.3,\n",
       "    'temp_max': 2.3,\n",
       "    'pressure': 1008,\n",
       "    'sea_level': 1008,\n",
       "    'grnd_level': 1003,\n",
       "    'humidity': 73,\n",
       "    'temp_kf': 0},\n",
       "   'weather': [{'id': 804,\n",
       "     'main': 'Clouds',\n",
       "     'description': 'overcast clouds',\n",
       "     'icon': '04n'}],\n",
       "   'clouds': {'all': 100},\n",
       "   'wind': {'speed': 5.73, 'deg': 220, 'gust': 12.14},\n",
       "   'visibility': 10000,\n",
       "   'pop': 0,\n",
       "   'sys': {'pod': 'n'},\n",
       "   'dt_txt': '2021-12-03 18:00:00'},\n",
       "  {'dt': 1638565200,\n",
       "   'main': {'temp': 1.69,\n",
       "    'feels_like': -3.25,\n",
       "    'temp_min': 1.69,\n",
       "    'temp_max': 1.69,\n",
       "    'pressure': 1006,\n",
       "    'sea_level': 1006,\n",
       "    'grnd_level': 1001,\n",
       "    'humidity': 76,\n",
       "    'temp_kf': 0},\n",
       "   'weather': [{'id': 804,\n",
       "     'main': 'Clouds',\n",
       "     'description': 'overcast clouds',\n",
       "     'icon': '04n'}],\n",
       "   'clouds': {'all': 93},\n",
       "   'wind': {'speed': 5.88, 'deg': 205, 'gust': 13.12},\n",
       "   'visibility': 10000,\n",
       "   'pop': 0,\n",
       "   'sys': {'pod': 'n'},\n",
       "   'dt_txt': '2021-12-03 21:00:00'},\n",
       "  {'dt': 1638576000,\n",
       "   'main': {'temp': 2.31,\n",
       "    'feels_like': -2.14,\n",
       "    'temp_min': 2.31,\n",
       "    'temp_max': 2.31,\n",
       "    'pressure': 1004,\n",
       "    'sea_level': 1004,\n",
       "    'grnd_level': 999,\n",
       "    'humidity': 75,\n",
       "    'temp_kf': 0},\n",
       "   'weather': [{'id': 804,\n",
       "     'main': 'Clouds',\n",
       "     'description': 'overcast clouds',\n",
       "     'icon': '04n'}],\n",
       "   'clouds': {'all': 96},\n",
       "   'wind': {'speed': 5.21, 'deg': 215, 'gust': 11.89},\n",
       "   'visibility': 10000,\n",
       "   'pop': 0.29,\n",
       "   'sys': {'pod': 'n'},\n",
       "   'dt_txt': '2021-12-04 00:00:00'},\n",
       "  {'dt': 1638586800,\n",
       "   'main': {'temp': 1.42,\n",
       "    'feels_like': -2.98,\n",
       "    'temp_min': 1.42,\n",
       "    'temp_max': 1.42,\n",
       "    'pressure': 1002,\n",
       "    'sea_level': 1002,\n",
       "    'grnd_level': 997,\n",
       "    'humidity': 87,\n",
       "    'temp_kf': 0},\n",
       "   'weather': [{'id': 600,\n",
       "     'main': 'Snow',\n",
       "     'description': 'light snow',\n",
       "     'icon': '13n'}],\n",
       "   'clouds': {'all': 100},\n",
       "   'wind': {'speed': 4.71, 'deg': 204, 'gust': 10.94},\n",
       "   'visibility': 10000,\n",
       "   'pop': 0.77,\n",
       "   'snow': {'3h': 1.03},\n",
       "   'sys': {'pod': 'n'},\n",
       "   'dt_txt': '2021-12-04 03:00:00'},\n",
       "  {'dt': 1638597600,\n",
       "   'main': {'temp': 0.64,\n",
       "    'feels_like': -3.58,\n",
       "    'temp_min': 0.64,\n",
       "    'temp_max': 0.64,\n",
       "    'pressure': 1000,\n",
       "    'sea_level': 1000,\n",
       "    'grnd_level': 995,\n",
       "    'humidity': 97,\n",
       "    'temp_kf': 0},\n",
       "   'weather': [{'id': 601,\n",
       "     'main': 'Snow',\n",
       "     'description': 'snow',\n",
       "     'icon': '13n'}],\n",
       "   'clouds': {'all': 100},\n",
       "   'wind': {'speed': 4.12, 'deg': 183, 'gust': 10.18},\n",
       "   'visibility': 38,\n",
       "   'pop': 1,\n",
       "   'snow': {'3h': 1.95},\n",
       "   'sys': {'pod': 'n'},\n",
       "   'dt_txt': '2021-12-04 06:00:00'},\n",
       "  {'dt': 1638608400,\n",
       "   'main': {'temp': 1.04,\n",
       "    'feels_like': -2.52,\n",
       "    'temp_min': 1.04,\n",
       "    'temp_max': 1.04,\n",
       "    'pressure': 999,\n",
       "    'sea_level': 999,\n",
       "    'grnd_level': 994,\n",
       "    'humidity': 98,\n",
       "    'temp_kf': 0},\n",
       "   'weather': [{'id': 600,\n",
       "     'main': 'Snow',\n",
       "     'description': 'light snow',\n",
       "     'icon': '13d'}],\n",
       "   'clouds': {'all': 100},\n",
       "   'wind': {'speed': 3.33, 'deg': 176, 'gust': 8.31},\n",
       "   'visibility': 23,\n",
       "   'pop': 1,\n",
       "   'snow': {'3h': 1.09},\n",
       "   'sys': {'pod': 'd'},\n",
       "   'dt_txt': '2021-12-04 09:00:00'},\n",
       "  {'dt': 1638619200,\n",
       "   'main': {'temp': 1.61,\n",
       "    'feels_like': -1.36,\n",
       "    'temp_min': 1.61,\n",
       "    'temp_max': 1.61,\n",
       "    'pressure': 997,\n",
       "    'sea_level': 997,\n",
       "    'grnd_level': 992,\n",
       "    'humidity': 97,\n",
       "    'temp_kf': 0},\n",
       "   'weather': [{'id': 804,\n",
       "     'main': 'Clouds',\n",
       "     'description': 'overcast clouds',\n",
       "     'icon': '04d'}],\n",
       "   'clouds': {'all': 100},\n",
       "   'wind': {'speed': 2.76, 'deg': 167, 'gust': 5.8},\n",
       "   'visibility': 95,\n",
       "   'pop': 0.76,\n",
       "   'sys': {'pod': 'd'},\n",
       "   'dt_txt': '2021-12-04 12:00:00'},\n",
       "  {'dt': 1638630000,\n",
       "   'main': {'temp': 1.88,\n",
       "    'feels_like': -0.8,\n",
       "    'temp_min': 1.88,\n",
       "    'temp_max': 1.88,\n",
       "    'pressure': 997,\n",
       "    'sea_level': 997,\n",
       "    'grnd_level': 992,\n",
       "    'humidity': 93,\n",
       "    'temp_kf': 0},\n",
       "   'weather': [{'id': 804,\n",
       "     'main': 'Clouds',\n",
       "     'description': 'overcast clouds',\n",
       "     'icon': '04n'}],\n",
       "   'clouds': {'all': 100},\n",
       "   'wind': {'speed': 2.51, 'deg': 134, 'gust': 5.09},\n",
       "   'visibility': 10000,\n",
       "   'pop': 0,\n",
       "   'sys': {'pod': 'n'},\n",
       "   'dt_txt': '2021-12-04 15:00:00'},\n",
       "  {'dt': 1638640800,\n",
       "   'main': {'temp': 1.95,\n",
       "    'feels_like': -0.98,\n",
       "    'temp_min': 1.95,\n",
       "    'temp_max': 1.95,\n",
       "    'pressure': 997,\n",
       "    'sea_level': 997,\n",
       "    'grnd_level': 991,\n",
       "    'humidity': 91,\n",
       "    'temp_kf': 0},\n",
       "   'weather': [{'id': 804,\n",
       "     'main': 'Clouds',\n",
       "     'description': 'overcast clouds',\n",
       "     'icon': '04n'}],\n",
       "   'clouds': {'all': 100},\n",
       "   'wind': {'speed': 2.79, 'deg': 118, 'gust': 5.52},\n",
       "   'visibility': 10000,\n",
       "   'pop': 0,\n",
       "   'sys': {'pod': 'n'},\n",
       "   'dt_txt': '2021-12-04 18:00:00'},\n",
       "  {'dt': 1638651600,\n",
       "   'main': {'temp': 2.04,\n",
       "    'feels_like': 0.23,\n",
       "    'temp_min': 2.04,\n",
       "    'temp_max': 2.04,\n",
       "    'pressure': 996,\n",
       "    'sea_level': 996,\n",
       "    'grnd_level': 991,\n",
       "    'humidity': 94,\n",
       "    'temp_kf': 0},\n",
       "   'weather': [{'id': 500,\n",
       "     'main': 'Rain',\n",
       "     'description': 'light rain',\n",
       "     'icon': '10n'}],\n",
       "   'clouds': {'all': 100},\n",
       "   'wind': {'speed': 1.75, 'deg': 115, 'gust': 3.61},\n",
       "   'visibility': 10000,\n",
       "   'pop': 0.7,\n",
       "   'rain': {'3h': 0.36},\n",
       "   'sys': {'pod': 'n'},\n",
       "   'dt_txt': '2021-12-04 21:00:00'},\n",
       "  {'dt': 1638662400,\n",
       "   'main': {'temp': 2.3,\n",
       "    'feels_like': 2.3,\n",
       "    'temp_min': 2.3,\n",
       "    'temp_max': 2.3,\n",
       "    'pressure': 997,\n",
       "    'sea_level': 997,\n",
       "    'grnd_level': 992,\n",
       "    'humidity': 97,\n",
       "    'temp_kf': 0},\n",
       "   'weather': [{'id': 804,\n",
       "     'main': 'Clouds',\n",
       "     'description': 'overcast clouds',\n",
       "     'icon': '04n'}],\n",
       "   'clouds': {'all': 100},\n",
       "   'wind': {'speed': 1.13, 'deg': 254, 'gust': 3.92},\n",
       "   'visibility': 2819,\n",
       "   'pop': 0.47,\n",
       "   'sys': {'pod': 'n'},\n",
       "   'dt_txt': '2021-12-05 00:00:00'},\n",
       "  {'dt': 1638673200,\n",
       "   'main': {'temp': 2.45,\n",
       "    'feels_like': 0.66,\n",
       "    'temp_min': 2.45,\n",
       "    'temp_max': 2.45,\n",
       "    'pressure': 998,\n",
       "    'sea_level': 998,\n",
       "    'grnd_level': 993,\n",
       "    'humidity': 98,\n",
       "    'temp_kf': 0},\n",
       "   'weather': [{'id': 500,\n",
       "     'main': 'Rain',\n",
       "     'description': 'light rain',\n",
       "     'icon': '10n'}],\n",
       "   'clouds': {'all': 100},\n",
       "   'wind': {'speed': 1.78, 'deg': 258, 'gust': 6.69},\n",
       "   'visibility': 76,\n",
       "   'pop': 0.59,\n",
       "   'rain': {'3h': 0.27},\n",
       "   'sys': {'pod': 'n'},\n",
       "   'dt_txt': '2021-12-05 03:00:00'},\n",
       "  {'dt': 1638684000,\n",
       "   'main': {'temp': 2.93,\n",
       "    'feels_like': 2.93,\n",
       "    'temp_min': 2.93,\n",
       "    'temp_max': 2.93,\n",
       "    'pressure': 999,\n",
       "    'sea_level': 999,\n",
       "    'grnd_level': 994,\n",
       "    'humidity': 99,\n",
       "    'temp_kf': 0},\n",
       "   'weather': [{'id': 500,\n",
       "     'main': 'Rain',\n",
       "     'description': 'light rain',\n",
       "     'icon': '10n'}],\n",
       "   'clouds': {'all': 100},\n",
       "   'wind': {'speed': 0.93, 'deg': 218, 'gust': 3.56},\n",
       "   'visibility': 569,\n",
       "   'pop': 0.41,\n",
       "   'rain': {'3h': 0.31},\n",
       "   'sys': {'pod': 'n'},\n",
       "   'dt_txt': '2021-12-05 06:00:00'},\n",
       "  {'dt': 1638694800,\n",
       "   'main': {'temp': 2.52,\n",
       "    'feels_like': -0.44,\n",
       "    'temp_min': 2.52,\n",
       "    'temp_max': 2.52,\n",
       "    'pressure': 1001,\n",
       "    'sea_level': 1001,\n",
       "    'grnd_level': 996,\n",
       "    'humidity': 97,\n",
       "    'temp_kf': 0},\n",
       "   'weather': [{'id': 500,\n",
       "     'main': 'Rain',\n",
       "     'description': 'light rain',\n",
       "     'icon': '10d'}],\n",
       "   'clouds': {'all': 100},\n",
       "   'wind': {'speed': 2.96, 'deg': 253, 'gust': 6.13},\n",
       "   'visibility': 56,\n",
       "   'pop': 0.88,\n",
       "   'rain': {'3h': 0.22},\n",
       "   'sys': {'pod': 'd'},\n",
       "   'dt_txt': '2021-12-05 09:00:00'},\n",
       "  {'dt': 1638705600,\n",
       "   'main': {'temp': 2.69,\n",
       "    'feels_like': 0.07,\n",
       "    'temp_min': 2.69,\n",
       "    'temp_max': 2.69,\n",
       "    'pressure': 1002,\n",
       "    'sea_level': 1002,\n",
       "    'grnd_level': 997,\n",
       "    'humidity': 97,\n",
       "    'temp_kf': 0},\n",
       "   'weather': [{'id': 500,\n",
       "     'main': 'Rain',\n",
       "     'description': 'light rain',\n",
       "     'icon': '10d'}],\n",
       "   'clouds': {'all': 100},\n",
       "   'wind': {'speed': 2.6, 'deg': 243, 'gust': 8.08},\n",
       "   'visibility': 40,\n",
       "   'pop': 0.99,\n",
       "   'rain': {'3h': 1.04},\n",
       "   'sys': {'pod': 'd'},\n",
       "   'dt_txt': '2021-12-05 12:00:00'},\n",
       "  {'dt': 1638716400,\n",
       "   'main': {'temp': 2.72,\n",
       "    'feels_like': -0.26,\n",
       "    'temp_min': 2.72,\n",
       "    'temp_max': 2.72,\n",
       "    'pressure': 1004,\n",
       "    'sea_level': 1004,\n",
       "    'grnd_level': 999,\n",
       "    'humidity': 97,\n",
       "    'temp_kf': 0},\n",
       "   'weather': [{'id': 500,\n",
       "     'main': 'Rain',\n",
       "     'description': 'light rain',\n",
       "     'icon': '10n'}],\n",
       "   'clouds': {'all': 100},\n",
       "   'wind': {'speed': 3.03, 'deg': 263, 'gust': 8.32},\n",
       "   'visibility': 40,\n",
       "   'pop': 0.71,\n",
       "   'rain': {'3h': 0.4},\n",
       "   'sys': {'pod': 'n'},\n",
       "   'dt_txt': '2021-12-05 15:00:00'},\n",
       "  {'dt': 1638727200,\n",
       "   'main': {'temp': 2.81,\n",
       "    'feels_like': 1.24,\n",
       "    'temp_min': 2.81,\n",
       "    'temp_max': 2.81,\n",
       "    'pressure': 1006,\n",
       "    'sea_level': 1006,\n",
       "    'grnd_level': 1000,\n",
       "    'humidity': 89,\n",
       "    'temp_kf': 0},\n",
       "   'weather': [{'id': 804,\n",
       "     'main': 'Clouds',\n",
       "     'description': 'overcast clouds',\n",
       "     'icon': '04n'}],\n",
       "   'clouds': {'all': 100},\n",
       "   'wind': {'speed': 1.65, 'deg': 281, 'gust': 4.38},\n",
       "   'visibility': 10000,\n",
       "   'pop': 0.42,\n",
       "   'sys': {'pod': 'n'},\n",
       "   'dt_txt': '2021-12-05 18:00:00'},\n",
       "  {'dt': 1638738000,\n",
       "   'main': {'temp': 2.34,\n",
       "    'feels_like': 0.15,\n",
       "    'temp_min': 2.34,\n",
       "    'temp_max': 2.34,\n",
       "    'pressure': 1007,\n",
       "    'sea_level': 1007,\n",
       "    'grnd_level': 1002,\n",
       "    'humidity': 97,\n",
       "    'temp_kf': 0},\n",
       "   'weather': [{'id': 600,\n",
       "     'main': 'Snow',\n",
       "     'description': 'light snow',\n",
       "     'icon': '13n'}],\n",
       "   'clouds': {'all': 100},\n",
       "   'wind': {'speed': 2.11, 'deg': 260, 'gust': 4.23},\n",
       "   'visibility': 71,\n",
       "   'pop': 0.34,\n",
       "   'snow': {'3h': 0.22},\n",
       "   'sys': {'pod': 'n'},\n",
       "   'dt_txt': '2021-12-05 21:00:00'},\n",
       "  {'dt': 1638748800,\n",
       "   'main': {'temp': 1.84,\n",
       "    'feels_like': -0.63,\n",
       "    'temp_min': 1.84,\n",
       "    'temp_max': 1.84,\n",
       "    'pressure': 1008,\n",
       "    'sea_level': 1008,\n",
       "    'grnd_level': 1003,\n",
       "    'humidity': 95,\n",
       "    'temp_kf': 0},\n",
       "   'weather': [{'id': 804,\n",
       "     'main': 'Clouds',\n",
       "     'description': 'overcast clouds',\n",
       "     'icon': '04n'}],\n",
       "   'clouds': {'all': 100},\n",
       "   'wind': {'speed': 2.29, 'deg': 315, 'gust': 4.48},\n",
       "   'visibility': 7771,\n",
       "   'pop': 0.31,\n",
       "   'sys': {'pod': 'n'},\n",
       "   'dt_txt': '2021-12-06 00:00:00'},\n",
       "  {'dt': 1638759600,\n",
       "   'main': {'temp': 1.54,\n",
       "    'feels_like': -0.17,\n",
       "    'temp_min': 1.54,\n",
       "    'temp_max': 1.54,\n",
       "    'pressure': 1009,\n",
       "    'sea_level': 1009,\n",
       "    'grnd_level': 1004,\n",
       "    'humidity': 96,\n",
       "    'temp_kf': 0},\n",
       "   'weather': [{'id': 804,\n",
       "     'main': 'Clouds',\n",
       "     'description': 'overcast clouds',\n",
       "     'icon': '04n'}],\n",
       "   'clouds': {'all': 100},\n",
       "   'wind': {'speed': 1.62, 'deg': 20, 'gust': 2.78},\n",
       "   'visibility': 995,\n",
       "   'pop': 0,\n",
       "   'sys': {'pod': 'n'},\n",
       "   'dt_txt': '2021-12-06 03:00:00'},\n",
       "  {'dt': 1638770400,\n",
       "   'main': {'temp': 0.54,\n",
       "    'feels_like': -2.52,\n",
       "    'temp_min': 0.54,\n",
       "    'temp_max': 0.54,\n",
       "    'pressure': 1010,\n",
       "    'sea_level': 1010,\n",
       "    'grnd_level': 1005,\n",
       "    'humidity': 89,\n",
       "    'temp_kf': 0},\n",
       "   'weather': [{'id': 804,\n",
       "     'main': 'Clouds',\n",
       "     'description': 'overcast clouds',\n",
       "     'icon': '04n'}],\n",
       "   'clouds': {'all': 100},\n",
       "   'wind': {'speed': 2.64, 'deg': 27, 'gust': 3.96},\n",
       "   'visibility': 10000,\n",
       "   'pop': 0,\n",
       "   'sys': {'pod': 'n'},\n",
       "   'dt_txt': '2021-12-06 06:00:00'},\n",
       "  {'dt': 1638781200,\n",
       "   'main': {'temp': 0.8,\n",
       "    'feels_like': -2,\n",
       "    'temp_min': 0.8,\n",
       "    'temp_max': 0.8,\n",
       "    'pressure': 1012,\n",
       "    'sea_level': 1012,\n",
       "    'grnd_level': 1007,\n",
       "    'humidity': 82,\n",
       "    'temp_kf': 0},\n",
       "   'weather': [{'id': 804,\n",
       "     'main': 'Clouds',\n",
       "     'description': 'overcast clouds',\n",
       "     'icon': '04d'}],\n",
       "   'clouds': {'all': 100},\n",
       "   'wind': {'speed': 2.43, 'deg': 23, 'gust': 3.39},\n",
       "   'visibility': 10000,\n",
       "   'pop': 0,\n",
       "   'sys': {'pod': 'd'},\n",
       "   'dt_txt': '2021-12-06 09:00:00'},\n",
       "  {'dt': 1638792000,\n",
       "   'main': {'temp': 1.06,\n",
       "    'feels_like': -1.51,\n",
       "    'temp_min': 1.06,\n",
       "    'temp_max': 1.06,\n",
       "    'pressure': 1013,\n",
       "    'sea_level': 1013,\n",
       "    'grnd_level': 1008,\n",
       "    'humidity': 80,\n",
       "    'temp_kf': 0},\n",
       "   'weather': [{'id': 804,\n",
       "     'main': 'Clouds',\n",
       "     'description': 'overcast clouds',\n",
       "     'icon': '04d'}],\n",
       "   'clouds': {'all': 100},\n",
       "   'wind': {'speed': 2.25, 'deg': 15, 'gust': 3},\n",
       "   'visibility': 10000,\n",
       "   'pop': 0,\n",
       "   'sys': {'pod': 'd'},\n",
       "   'dt_txt': '2021-12-06 12:00:00'},\n",
       "  {'dt': 1638802800,\n",
       "   'main': {'temp': 1.01,\n",
       "    'feels_like': -1.44,\n",
       "    'temp_min': 1.01,\n",
       "    'temp_max': 1.01,\n",
       "    'pressure': 1014,\n",
       "    'sea_level': 1014,\n",
       "    'grnd_level': 1008,\n",
       "    'humidity': 82,\n",
       "    'temp_kf': 0},\n",
       "   'weather': [{'id': 804,\n",
       "     'main': 'Clouds',\n",
       "     'description': 'overcast clouds',\n",
       "     'icon': '04n'}],\n",
       "   'clouds': {'all': 100},\n",
       "   'wind': {'speed': 2.14, 'deg': 348, 'gust': 3.14},\n",
       "   'visibility': 10000,\n",
       "   'pop': 0,\n",
       "   'sys': {'pod': 'n'},\n",
       "   'dt_txt': '2021-12-06 15:00:00'},\n",
       "  {'dt': 1638813600,\n",
       "   'main': {'temp': 0.28,\n",
       "    'feels_like': -2.04,\n",
       "    'temp_min': 0.28,\n",
       "    'temp_max': 0.28,\n",
       "    'pressure': 1015,\n",
       "    'sea_level': 1015,\n",
       "    'grnd_level': 1010,\n",
       "    'humidity': 82,\n",
       "    'temp_kf': 0},\n",
       "   'weather': [{'id': 804,\n",
       "     'main': 'Clouds',\n",
       "     'description': 'overcast clouds',\n",
       "     'icon': '04n'}],\n",
       "   'clouds': {'all': 100},\n",
       "   'wind': {'speed': 1.93, 'deg': 345, 'gust': 3.01},\n",
       "   'visibility': 10000,\n",
       "   'pop': 0,\n",
       "   'sys': {'pod': 'n'},\n",
       "   'dt_txt': '2021-12-06 18:00:00'},\n",
       "  {'dt': 1638824400,\n",
       "   'main': {'temp': -0.95,\n",
       "    'feels_like': -2.89,\n",
       "    'temp_min': -0.95,\n",
       "    'temp_max': -0.95,\n",
       "    'pressure': 1016,\n",
       "    'sea_level': 1016,\n",
       "    'grnd_level': 1011,\n",
       "    'humidity': 91,\n",
       "    'temp_kf': 0},\n",
       "   'weather': [{'id': 802,\n",
       "     'main': 'Clouds',\n",
       "     'description': 'scattered clouds',\n",
       "     'icon': '03n'}],\n",
       "   'clouds': {'all': 44},\n",
       "   'wind': {'speed': 1.53, 'deg': 314, 'gust': 2.26},\n",
       "   'visibility': 10000,\n",
       "   'pop': 0,\n",
       "   'sys': {'pod': 'n'},\n",
       "   'dt_txt': '2021-12-06 21:00:00'},\n",
       "  {'dt': 1638835200,\n",
       "   'main': {'temp': -0.4,\n",
       "    'feels_like': -2.78,\n",
       "    'temp_min': -0.4,\n",
       "    'temp_max': -0.4,\n",
       "    'pressure': 1017,\n",
       "    'sea_level': 1017,\n",
       "    'grnd_level': 1011,\n",
       "    'humidity': 87,\n",
       "    'temp_kf': 0},\n",
       "   'weather': [{'id': 802,\n",
       "     'main': 'Clouds',\n",
       "     'description': 'scattered clouds',\n",
       "     'icon': '03n'}],\n",
       "   'clouds': {'all': 47},\n",
       "   'wind': {'speed': 1.89, 'deg': 303, 'gust': 3.5},\n",
       "   'visibility': 10000,\n",
       "   'pop': 0,\n",
       "   'sys': {'pod': 'n'},\n",
       "   'dt_txt': '2021-12-07 00:00:00'},\n",
       "  {'dt': 1638846000,\n",
       "   'main': {'temp': 0.49,\n",
       "    'feels_like': 0.49,\n",
       "    'temp_min': 0.49,\n",
       "    'temp_max': 0.49,\n",
       "    'pressure': 1018,\n",
       "    'sea_level': 1018,\n",
       "    'grnd_level': 1012,\n",
       "    'humidity': 77,\n",
       "    'temp_kf': 0},\n",
       "   'weather': [{'id': 804,\n",
       "     'main': 'Clouds',\n",
       "     'description': 'overcast clouds',\n",
       "     'icon': '04n'}],\n",
       "   'clouds': {'all': 98},\n",
       "   'wind': {'speed': 1.11, 'deg': 253, 'gust': 1.89},\n",
       "   'visibility': 10000,\n",
       "   'pop': 0,\n",
       "   'sys': {'pod': 'n'},\n",
       "   'dt_txt': '2021-12-07 03:00:00'},\n",
       "  {'dt': 1638856800,\n",
       "   'main': {'temp': 0.33,\n",
       "    'feels_like': -1.28,\n",
       "    'temp_min': 0.33,\n",
       "    'temp_max': 0.33,\n",
       "    'pressure': 1018,\n",
       "    'sea_level': 1018,\n",
       "    'grnd_level': 1013,\n",
       "    'humidity': 78,\n",
       "    'temp_kf': 0},\n",
       "   'weather': [{'id': 804,\n",
       "     'main': 'Clouds',\n",
       "     'description': 'overcast clouds',\n",
       "     'icon': '04n'}],\n",
       "   'clouds': {'all': 99},\n",
       "   'wind': {'speed': 1.44, 'deg': 191, 'gust': 2.52},\n",
       "   'visibility': 10000,\n",
       "   'pop': 0,\n",
       "   'sys': {'pod': 'n'},\n",
       "   'dt_txt': '2021-12-07 06:00:00'},\n",
       "  {'dt': 1638867600,\n",
       "   'main': {'temp': 1,\n",
       "    'feels_like': -1.04,\n",
       "    'temp_min': 1,\n",
       "    'temp_max': 1,\n",
       "    'pressure': 1019,\n",
       "    'sea_level': 1019,\n",
       "    'grnd_level': 1013,\n",
       "    'humidity': 71,\n",
       "    'temp_kf': 0},\n",
       "   'weather': [{'id': 804,\n",
       "     'main': 'Clouds',\n",
       "     'description': 'overcast clouds',\n",
       "     'icon': '04d'}],\n",
       "   'clouds': {'all': 100},\n",
       "   'wind': {'speed': 1.8, 'deg': 176, 'gust': 3.52},\n",
       "   'visibility': 10000,\n",
       "   'pop': 0,\n",
       "   'sys': {'pod': 'd'},\n",
       "   'dt_txt': '2021-12-07 09:00:00'},\n",
       "  {'dt': 1638878400,\n",
       "   'main': {'temp': 1.88,\n",
       "    'feels_like': -0.85,\n",
       "    'temp_min': 1.88,\n",
       "    'temp_max': 1.88,\n",
       "    'pressure': 1018,\n",
       "    'sea_level': 1018,\n",
       "    'grnd_level': 1013,\n",
       "    'humidity': 67,\n",
       "    'temp_kf': 0},\n",
       "   'weather': [{'id': 804,\n",
       "     'main': 'Clouds',\n",
       "     'description': 'overcast clouds',\n",
       "     'icon': '04d'}],\n",
       "   'clouds': {'all': 98},\n",
       "   'wind': {'speed': 2.56, 'deg': 172, 'gust': 3.27},\n",
       "   'visibility': 10000,\n",
       "   'pop': 0,\n",
       "   'sys': {'pod': 'd'},\n",
       "   'dt_txt': '2021-12-07 12:00:00'}],\n",
       " 'city': {'id': 2950159,\n",
       "  'name': 'Berlin',\n",
       "  'coord': {'lat': 52.5244, 'lon': 13.4105},\n",
       "  'country': 'DE',\n",
       "  'population': 1000000,\n",
       "  'timezone': 3600,\n",
       "  'sunrise': 1638428171,\n",
       "  'sunset': 1638456948}}"
      ]
     },
     "execution_count": 87,
     "metadata": {},
     "output_type": "execute_result"
    }
   ],
   "source": [
    "weather.json()"
   ]
  },
  {
   "cell_type": "code",
   "execution_count": 5,
   "id": "a70b6f97-d485-4df3-a4ac-e7712bbd5150",
   "metadata": {
    "tags": []
   },
   "outputs": [
    {
     "data": {
      "text/html": [
       "<div>\n",
       "<style scoped>\n",
       "    .dataframe tbody tr th:only-of-type {\n",
       "        vertical-align: middle;\n",
       "    }\n",
       "\n",
       "    .dataframe tbody tr th {\n",
       "        vertical-align: top;\n",
       "    }\n",
       "\n",
       "    .dataframe thead th {\n",
       "        text-align: right;\n",
       "    }\n",
       "</style>\n",
       "<table border=\"1\" class=\"dataframe\">\n",
       "  <thead>\n",
       "    <tr style=\"text-align: right;\">\n",
       "      <th></th>\n",
       "      <th>weather_datetime</th>\n",
       "      <th>main_weather</th>\n",
       "      <th>weather_detail</th>\n",
       "      <th>temperature</th>\n",
       "      <th>feels_like</th>\n",
       "      <th>humidity</th>\n",
       "      <th>wind</th>\n",
       "      <th>prob_perc</th>\n",
       "      <th>rain_qty</th>\n",
       "      <th>snow</th>\n",
       "      <th>municipality_iso_country</th>\n",
       "    </tr>\n",
       "  </thead>\n",
       "  <tbody>\n",
       "    <tr>\n",
       "      <th>0</th>\n",
       "      <td>2021-11-30 15:00:00</td>\n",
       "      <td>Rain</td>\n",
       "      <td>light rain</td>\n",
       "      <td>1.14</td>\n",
       "      <td>-5.86</td>\n",
       "      <td>86</td>\n",
       "      <td>11.65</td>\n",
       "      <td>1.00</td>\n",
       "      <td>0.93</td>\n",
       "      <td>0.0</td>\n",
       "      <td>Munich,DE</td>\n",
       "    </tr>\n",
       "    <tr>\n",
       "      <th>1</th>\n",
       "      <td>2021-11-30 18:00:00</td>\n",
       "      <td>Rain</td>\n",
       "      <td>light rain</td>\n",
       "      <td>1.64</td>\n",
       "      <td>-5.18</td>\n",
       "      <td>89</td>\n",
       "      <td>11.09</td>\n",
       "      <td>1.00</td>\n",
       "      <td>1.01</td>\n",
       "      <td>0.0</td>\n",
       "      <td>Munich,DE</td>\n",
       "    </tr>\n",
       "    <tr>\n",
       "      <th>2</th>\n",
       "      <td>2021-11-30 21:00:00</td>\n",
       "      <td>Rain</td>\n",
       "      <td>light rain</td>\n",
       "      <td>2.41</td>\n",
       "      <td>-3.84</td>\n",
       "      <td>92</td>\n",
       "      <td>9.99</td>\n",
       "      <td>1.00</td>\n",
       "      <td>1.71</td>\n",
       "      <td>0.0</td>\n",
       "      <td>Munich,DE</td>\n",
       "    </tr>\n",
       "    <tr>\n",
       "      <th>3</th>\n",
       "      <td>2021-12-01 00:00:00</td>\n",
       "      <td>Rain</td>\n",
       "      <td>light rain</td>\n",
       "      <td>4.05</td>\n",
       "      <td>-1.44</td>\n",
       "      <td>92</td>\n",
       "      <td>9.19</td>\n",
       "      <td>1.00</td>\n",
       "      <td>1.73</td>\n",
       "      <td>0.0</td>\n",
       "      <td>Munich,DE</td>\n",
       "    </tr>\n",
       "    <tr>\n",
       "      <th>4</th>\n",
       "      <td>2021-12-01 03:00:00</td>\n",
       "      <td>Rain</td>\n",
       "      <td>light rain</td>\n",
       "      <td>4.76</td>\n",
       "      <td>0.01</td>\n",
       "      <td>90</td>\n",
       "      <td>7.55</td>\n",
       "      <td>0.85</td>\n",
       "      <td>0.67</td>\n",
       "      <td>0.0</td>\n",
       "      <td>Munich,DE</td>\n",
       "    </tr>\n",
       "  </tbody>\n",
       "</table>\n",
       "</div>"
      ],
      "text/plain": [
       "      weather_datetime main_weather weather_detail  temperature  feels_like  \\\n",
       "0  2021-11-30 15:00:00         Rain     light rain         1.14       -5.86   \n",
       "1  2021-11-30 18:00:00         Rain     light rain         1.64       -5.18   \n",
       "2  2021-11-30 21:00:00         Rain     light rain         2.41       -3.84   \n",
       "3  2021-12-01 00:00:00         Rain     light rain         4.05       -1.44   \n",
       "4  2021-12-01 03:00:00         Rain     light rain         4.76        0.01   \n",
       "\n",
       "   humidity   wind  prob_perc  rain_qty  snow municipality_iso_country  \n",
       "0        86  11.65       1.00      0.93   0.0                Munich,DE  \n",
       "1        89  11.09       1.00      1.01   0.0                Munich,DE  \n",
       "2        92   9.99       1.00      1.71   0.0                Munich,DE  \n",
       "3        92   9.19       1.00      1.73   0.0                Munich,DE  \n",
       "4        90   7.55       0.85      0.67   0.0                Munich,DE  "
      ]
     },
     "execution_count": 5,
     "metadata": {},
     "output_type": "execute_result"
    }
   ],
   "source": [
    "def get_weather(weather):\n",
    "    \n",
    "    forecast_api = weather.json()['list']\n",
    "\n",
    "    weather_info = []\n",
    "\n",
    "    for forecast_3h in forecast_api: \n",
    "        weather_hour = {}\n",
    "        weather_hour['weather_datetime'] = forecast_3h['dt_txt']\n",
    "        weather_hour['main_weather'] = forecast_3h['weather'][0]['main']\n",
    "        weather_hour['weather_detail'] = forecast_3h['weather'][0]['description']\n",
    "        weather_hour['temperature'] = forecast_3h['main']['temp']\n",
    "        weather_hour['feels_like'] = forecast_3h['main']['feels_like']\n",
    "        weather_hour['humidity'] = forecast_3h['main']['humidity']\n",
    "        weather_hour['wind'] = forecast_3h['wind']['speed']\n",
    "        try: weather_hour['prob_perc'] = float(forecast_3h['pop'])\n",
    "        except: weather_hour['prob_perc'] = 0\n",
    "        try: weather_hour['rain_qty'] = float(forecast_3h['rain']['3h'])\n",
    "        except: weather_hour['rain_qty'] = 0\n",
    "        try: weather_hour['snow'] = float(forecast_3h['snow']['3h'])\n",
    "        except: weather_hour['snow'] = 0\n",
    "        weather_hour['municipality_iso_country'] = city + ',' + country\n",
    "        weather_info.append(weather_hour)\n",
    "    \n",
    "    return weather_info\n",
    "    \n",
    "weather_data = pd.DataFrame(get_weather(weather))\n",
    "weather_data.head()"
   ]
  },
  {
   "cell_type": "code",
   "execution_count": 17,
   "id": "9f2b1f3c-d513-43a3-a60d-3bc3b70da972",
   "metadata": {},
   "outputs": [
    {
     "name": "stdout",
     "output_type": "stream",
     "text": [
      "<class 'pandas.core.frame.DataFrame'>\n",
      "RangeIndex: 40 entries, 0 to 39\n",
      "Data columns (total 11 columns):\n",
      " #   Column                    Non-Null Count  Dtype  \n",
      "---  ------                    --------------  -----  \n",
      " 0   weather_datetime          40 non-null     object \n",
      " 1   main_weather              40 non-null     object \n",
      " 2   weather_detail            40 non-null     object \n",
      " 3   temperature               40 non-null     float64\n",
      " 4   feels_like                40 non-null     float64\n",
      " 5   humidity                  40 non-null     int64  \n",
      " 6   wind                      40 non-null     float64\n",
      " 7   prob_perc                 40 non-null     float64\n",
      " 8   rain_qty                  40 non-null     float64\n",
      " 9   snow                      40 non-null     float64\n",
      " 10  municipality_iso_country  40 non-null     object \n",
      "dtypes: float64(6), int64(1), object(4)\n",
      "memory usage: 3.6+ KB\n"
     ]
    }
   ],
   "source": [
    "weather_data.info()"
   ]
  },
  {
   "cell_type": "markdown",
   "id": "62e3b728-f7fc-4dff-a387-7a3d25fcedce",
   "metadata": {},
   "source": [
    "## Get Flight Data from AeroDataBox through RapidAPI\n",
    "\n",
    "Retrieve flight arrivals for a city for the next day \\\n",
    "api_key is again saved in keys.py and loaded at the beginning of the script"
   ]
  },
  {
   "cell_type": "code",
   "execution_count": 79,
   "id": "f89cbda3-6e5c-451d-bc96-e68d27bfb2fc",
   "metadata": {},
   "outputs": [],
   "source": [
    "#be careful not to run too often as there is a maximum of 200 api calls per month\n",
    "def get_flight_data(icao):\n",
    "    today = datetime.date.today()\n",
    "    tomorrow = str(today + datetime.timedelta(days=1))\n",
    "    \n",
    "    hours = [[\"00:00\",\"11:59\"],[\"12:00\",\"23:59\"]]\n",
    "    flight_data = []\n",
    "    for time in hours:\n",
    "        url = f\"https://aerodatabox.p.rapidapi.com/flights/airports/icao/{icao}/{tomorrow}T{time[0]}/{tomorrow}T{time[1]}\"\n",
    "\n",
    "        querystring = {\"withLeg\":\"true\",\"direction\":\"Arrival\",\"withCancelled\":\"false\",\"withCodeshared\":\"true\",\"withCargo\":\"false\",\"withPrivate\":\"false\",\"withLocation\":\"false\"}\n",
    "\n",
    "        headers = {\n",
    "            'x-rapidapi-host': \"aerodatabox.p.rapidapi.com\",\n",
    "            'x-rapidapi-key': flights_key\n",
    "            }\n",
    "\n",
    "        flight_data.append(requests.request(\"GET\", url, headers=headers, params=querystring).json())\n",
    "    return flight_data"
   ]
  },
  {
   "cell_type": "code",
   "execution_count": 80,
   "id": "6f5a9f72-cc69-4464-80f0-1b3790ec1517",
   "metadata": {
    "tags": []
   },
   "outputs": [
    {
     "data": {
      "application/json": {
       "arrivals": [
        {
         "aircraft": {
          "model": "Airbus A319"
         },
         "airline": {
          "name": "easyJet"
         },
         "arrival": {
          "quality": [
           "Basic"
          ],
          "scheduledTimeLocal": "2021-12-02 09:45+01:00",
          "scheduledTimeUtc": "2021-12-02 08:45Z",
          "terminal": "1"
         },
         "codeshareStatus": "Unknown",
         "departure": {
          "airport": {
           "name": "Aarhus"
          },
          "quality": []
         },
         "isCargo": false,
         "number": "U2 5698",
         "status": "Unknown"
        },
        {
         "aircraft": {
          "model": "Airbus A220-300"
         },
         "airline": {
          "name": "Air Baltic"
         },
         "arrival": {
          "quality": [
           "Basic"
          ],
          "scheduledTimeLocal": "2021-12-02 14:25+01:00",
          "scheduledTimeUtc": "2021-12-02 13:25Z",
          "terminal": "1"
         },
         "codeshareStatus": "Unknown",
         "departure": {
          "airport": {
           "name": "Tallin"
          },
          "quality": []
         },
         "isCargo": false,
         "number": "BT 821",
         "status": "Unknown"
        },
        {
         "aircraft": {
          "model": "Airbus A321"
         },
         "airline": {
          "name": "Austrian"
         },
         "arrival": {
          "quality": [
           "Basic"
          ],
          "scheduledTimeLocal": "2021-12-02 14:20+01:00",
          "scheduledTimeUtc": "2021-12-02 13:20Z",
          "terminal": "1"
         },
         "codeshareStatus": "Unknown",
         "departure": {
          "airport": {
           "name": "Vienna"
          },
          "quality": []
         },
         "isCargo": false,
         "number": "OS 229",
         "status": "Unknown"
        },
        {
         "aircraft": {
          "model": "Airbus A320"
         },
         "airline": {
          "name": "Eurowings"
         },
         "arrival": {
          "quality": [
           "Basic"
          ],
          "scheduledTimeLocal": "2021-12-02 17:55+01:00",
          "scheduledTimeUtc": "2021-12-02 16:55Z",
          "terminal": "1"
         },
         "codeshareStatus": "Unknown",
         "departure": {
          "airport": {
           "name": "Duesseldorf"
          },
          "quality": []
         },
         "isCargo": false,
         "number": "EW 8045",
         "status": "Unknown"
        },
        {
         "aircraft": {
          "model": "Bombardier CRJ900"
         },
         "airline": {
          "name": "Lufthansa"
         },
         "arrival": {
          "quality": [
           "Basic"
          ],
          "scheduledTimeLocal": "2021-12-02 17:40+01:00",
          "scheduledTimeUtc": "2021-12-02 16:40Z",
          "terminal": "1"
         },
         "codeshareStatus": "IsCodeshared",
         "departure": {
          "airport": {
           "name": "Munich"
          },
          "quality": []
         },
         "isCargo": false,
         "number": "LH 1946",
         "status": "Unknown"
        },
        {
         "aircraft": {
          "model": "Boeing 737"
         },
         "airline": {
          "name": "Neos"
         },
         "arrival": {
          "quality": [
           "Basic"
          ],
          "scheduledTimeLocal": "2021-12-02 17:40+01:00",
          "scheduledTimeUtc": "2021-12-02 16:40Z",
          "terminal": "0"
         },
         "codeshareStatus": "Unknown",
         "departure": {
          "airport": {
           "name": "Milan"
          },
          "quality": []
         },
         "isCargo": false,
         "number": "NO 9070",
         "status": "Unknown"
        },
        {
         "aircraft": {
          "model": "Boeing 757-300"
         },
         "airline": {
          "name": "Icelandair"
         },
         "arrival": {
          "quality": [
           "Basic"
          ],
          "scheduledTimeLocal": "2021-12-02 12:10+01:00",
          "scheduledTimeUtc": "2021-12-02 11:10Z",
          "terminal": "1"
         },
         "codeshareStatus": "Unknown",
         "departure": {
          "airport": {
           "iata": "KEF",
           "icao": "BIKF",
           "name": "Reykjavik"
          },
          "quality": [
           "Basic"
          ],
          "scheduledTimeLocal": "2021-12-02 07:40+00:00",
          "scheduledTimeUtc": "2021-12-02 07:40Z"
         },
         "isCargo": false,
         "number": "FI 528",
         "status": "Unknown"
        },
        {
         "aircraft": {
          "model": "Airbus A320"
         },
         "airline": {
          "name": "Ghodawat Enterprises"
         },
         "arrival": {
          "quality": [
           "Basic"
          ],
          "scheduledTimeLocal": "2021-12-02 20:00+01:00",
          "scheduledTimeUtc": "2021-12-02 19:00Z",
          "terminal": "1"
         },
         "codeshareStatus": "Unknown",
         "departure": {
          "airport": {
           "iata": "KEF",
           "icao": "BIKF",
           "name": "Reykjavik"
          },
          "quality": [
           "Basic"
          ],
          "scheduledTimeLocal": "2021-12-02 15:20+00:00",
          "scheduledTimeUtc": "2021-12-02 15:20Z"
         },
         "isCargo": false,
         "number": "OG 704",
         "status": "Unknown"
        },
        {
         "aircraft": {
          "model": "Airbus A319"
         },
         "airline": {
          "name": "Brussels"
         },
         "arrival": {
          "quality": [
           "Basic"
          ],
          "scheduledTimeLocal": "2021-12-02 11:15+01:00",
          "scheduledTimeUtc": "2021-12-02 10:15Z",
          "terminal": "1"
         },
         "codeshareStatus": "Unknown",
         "departure": {
          "actualTimeLocal": "2021-12-02 09:45+01:00",
          "actualTimeUtc": "2021-12-02 08:45Z",
          "airport": {
           "iata": "BRU",
           "icao": "EBBR",
           "name": "Brussels"
          },
          "checkInDesk": "02",
          "quality": [
           "Basic",
           "Live"
          ],
          "scheduledTimeLocal": "2021-12-02 09:45+01:00",
          "scheduledTimeUtc": "2021-12-02 08:45Z"
         },
         "isCargo": false,
         "number": "SN 2581",
         "status": "Unknown"
        },
        {
         "aircraft": {
          "model": "Airbus A320"
         },
         "airline": {
          "name": "Brussels"
         },
         "arrival": {
          "quality": [
           "Basic"
          ],
          "scheduledTimeLocal": "2021-12-02 17:50+01:00",
          "scheduledTimeUtc": "2021-12-02 16:50Z",
          "terminal": "1"
         },
         "codeshareStatus": "Unknown",
         "departure": {
          "actualTimeLocal": "2021-12-02 16:30+01:00",
          "actualTimeUtc": "2021-12-02 15:30Z",
          "airport": {
           "iata": "BRU",
           "icao": "EBBR",
           "name": "Brussels"
          },
          "checkInDesk": "02",
          "quality": [
           "Basic",
           "Live"
          ],
          "scheduledTimeLocal": "2021-12-02 16:30+01:00",
          "scheduledTimeUtc": "2021-12-02 15:30Z"
         },
         "isCargo": false,
         "number": "SN 2587",
         "status": "Unknown"
        },
        {
         "aircraft": {
          "model": "Airbus A320"
         },
         "airline": {
          "name": "Lufthansa"
         },
         "arrival": {
          "quality": [
           "Basic"
          ],
          "scheduledTimeLocal": "2021-12-02 08:55+01:00",
          "scheduledTimeUtc": "2021-12-02 07:55Z",
          "terminal": "1"
         },
         "codeshareStatus": "IsCodeshared",
         "departure": {
          "airport": {
           "iata": "FRA",
           "icao": "EDDF",
           "name": "Frankfurt-am-Main"
          },
          "quality": [
           "Basic"
          ],
          "scheduledTimeLocal": "2021-12-02 07:45+01:00",
          "scheduledTimeUtc": "2021-12-02 06:45Z",
          "terminal": "1"
         },
         "isCargo": false,
         "number": "LH 174",
         "status": "Unknown"
        },
        {
         "aircraft": {
          "model": "Airbus A320"
         },
         "airline": {
          "name": "Lufthansa"
         },
         "arrival": {
          "quality": [
           "Basic"
          ],
          "scheduledTimeLocal": "2021-12-02 09:55+01:00",
          "scheduledTimeUtc": "2021-12-02 08:55Z",
          "terminal": "1"
         },
         "codeshareStatus": "IsCodeshared",
         "departure": {
          "airport": {
           "iata": "FRA",
           "icao": "EDDF",
           "name": "Frankfurt-am-Main"
          },
          "quality": [
           "Basic"
          ],
          "scheduledTimeLocal": "2021-12-02 08:45+01:00",
          "scheduledTimeUtc": "2021-12-02 07:45Z",
          "terminal": "1"
         },
         "isCargo": false,
         "number": "LH 176",
         "status": "Unknown"
        },
        {
         "aircraft": {
          "model": "Airbus A321"
         },
         "airline": {
          "name": "Lufthansa"
         },
         "arrival": {
          "quality": [
           "Basic"
          ],
          "scheduledTimeLocal": "2021-12-02 11:55+01:00",
          "scheduledTimeUtc": "2021-12-02 10:55Z",
          "terminal": "1"
         },
         "codeshareStatus": "IsCodeshared",
         "departure": {
          "airport": {
           "iata": "FRA",
           "icao": "EDDF",
           "name": "Frankfurt-am-Main"
          },
          "quality": [
           "Basic"
          ],
          "scheduledTimeLocal": "2021-12-02 10:45+01:00",
          "scheduledTimeUtc": "2021-12-02 09:45Z",
          "terminal": "1"
         },
         "isCargo": false,
         "number": "LH 180",
         "status": "Unknown"
        },
        {
         "aircraft": {
          "model": "Airbus A320 NEO"
         },
         "airline": {
          "name": "Lufthansa"
         },
         "arrival": {
          "quality": [
           "Basic"
          ],
          "scheduledTimeLocal": "2021-12-02 12:55+01:00",
          "scheduledTimeUtc": "2021-12-02 11:55Z",
          "terminal": "1"
         },
         "codeshareStatus": "IsCodeshared",
         "departure": {
          "airport": {
           "iata": "FRA",
           "icao": "EDDF",
           "name": "Frankfurt-am-Main"
          },
          "quality": [
           "Basic"
          ],
          "scheduledTimeLocal": "2021-12-02 11:45+01:00",
          "scheduledTimeUtc": "2021-12-02 10:45Z",
          "terminal": "1"
         },
         "isCargo": false,
         "number": "LH 182",
         "status": "Unknown"
        },
        {
         "aircraft": {
          "model": "Airbus A320 NEO"
         },
         "airline": {
          "name": "Lufthansa"
         },
         "arrival": {
          "quality": [
           "Basic"
          ],
          "scheduledTimeLocal": "2021-12-02 14:55+01:00",
          "scheduledTimeUtc": "2021-12-02 13:55Z",
          "terminal": "1"
         },
         "codeshareStatus": "IsCodeshared",
         "departure": {
          "airport": {
           "iata": "FRA",
           "icao": "EDDF",
           "name": "Frankfurt-am-Main"
          },
          "quality": [
           "Basic"
          ],
          "scheduledTimeLocal": "2021-12-02 13:45+01:00",
          "scheduledTimeUtc": "2021-12-02 12:45Z",
          "terminal": "1"
         },
         "isCargo": false,
         "number": "LH 186",
         "status": "Unknown"
        },
        {
         "aircraft": {
          "model": "Airbus A320"
         },
         "airline": {
          "name": "Lufthansa"
         },
         "arrival": {
          "quality": [
           "Basic"
          ],
          "scheduledTimeLocal": "2021-12-02 15:55+01:00",
          "scheduledTimeUtc": "2021-12-02 14:55Z",
          "terminal": "1"
         },
         "codeshareStatus": "IsCodeshared",
         "departure": {
          "airport": {
           "iata": "FRA",
           "icao": "EDDF",
           "name": "Frankfurt-am-Main"
          },
          "quality": [
           "Basic"
          ],
          "scheduledTimeLocal": "2021-12-02 14:45+01:00",
          "scheduledTimeUtc": "2021-12-02 13:45Z",
          "terminal": "1"
         },
         "isCargo": false,
         "number": "LH 188",
         "status": "Unknown"
        },
        {
         "aircraft": {
          "model": "Airbus A320"
         },
         "airline": {
          "name": "Lufthansa"
         },
         "arrival": {
          "quality": [
           "Basic"
          ],
          "scheduledTimeLocal": "2021-12-02 17:55+01:00",
          "scheduledTimeUtc": "2021-12-02 16:55Z",
          "terminal": "1"
         },
         "codeshareStatus": "IsCodeshared",
         "departure": {
          "airport": {
           "iata": "FRA",
           "icao": "EDDF",
           "name": "Frankfurt-am-Main"
          },
          "quality": [
           "Basic"
          ],
          "scheduledTimeLocal": "2021-12-02 16:45+01:00",
          "scheduledTimeUtc": "2021-12-02 15:45Z",
          "terminal": "1"
         },
         "isCargo": false,
         "number": "LH 192",
         "status": "Unknown"
        },
        {
         "aircraft": {
          "model": "Airbus A320 NEO"
         },
         "airline": {
          "name": "Lufthansa"
         },
         "arrival": {
          "quality": [
           "Basic"
          ],
          "scheduledTimeLocal": "2021-12-02 18:55+01:00",
          "scheduledTimeUtc": "2021-12-02 17:55Z",
          "terminal": "1"
         },
         "codeshareStatus": "IsCodeshared",
         "departure": {
          "airport": {
           "iata": "FRA",
           "icao": "EDDF",
           "name": "Frankfurt-am-Main"
          },
          "quality": [
           "Basic"
          ],
          "scheduledTimeLocal": "2021-12-02 17:45+01:00",
          "scheduledTimeUtc": "2021-12-02 16:45Z",
          "terminal": "1"
         },
         "isCargo": false,
         "number": "LH 194",
         "status": "Unknown"
        },
        {
         "aircraft": {
          "model": "Airbus A320"
         },
         "airline": {
          "name": "Lufthansa"
         },
         "arrival": {
          "quality": [
           "Basic"
          ],
          "scheduledTimeLocal": "2021-12-02 19:55+01:00",
          "scheduledTimeUtc": "2021-12-02 18:55Z",
          "terminal": "1"
         },
         "codeshareStatus": "IsCodeshared",
         "departure": {
          "airport": {
           "iata": "FRA",
           "icao": "EDDF",
           "name": "Frankfurt-am-Main"
          },
          "quality": [
           "Basic"
          ],
          "scheduledTimeLocal": "2021-12-02 18:45+01:00",
          "scheduledTimeUtc": "2021-12-02 17:45Z",
          "terminal": "1"
         },
         "isCargo": false,
         "number": "LH 190",
         "status": "Unknown"
        },
        {
         "aircraft": {
          "model": "Airbus A320"
         },
         "airline": {
          "name": "Eurowings"
         },
         "arrival": {
          "quality": [
           "Basic"
          ],
          "scheduledTimeLocal": "2021-12-02 09:40+01:00",
          "scheduledTimeUtc": "2021-12-02 08:40Z",
          "terminal": "1"
         },
         "codeshareStatus": "Unknown",
         "departure": {
          "airport": {
           "iata": "CGN",
           "icao": "EDDK",
           "name": "Cologne"
          },
          "quality": [
           "Basic"
          ],
          "scheduledTimeLocal": "2021-12-02 08:30+01:00",
          "scheduledTimeUtc": "2021-12-02 07:30Z",
          "terminal": "1"
         },
         "isCargo": false,
         "number": "EW 8059",
         "status": "Unknown"
        },
        {
         "aircraft": {
          "model": "Airbus A320"
         },
         "airline": {
          "name": "Eurowings"
         },
         "arrival": {
          "quality": [
           "Basic"
          ],
          "scheduledTimeLocal": "2021-12-02 13:15+01:00",
          "scheduledTimeUtc": "2021-12-02 12:15Z",
          "terminal": "1"
         },
         "codeshareStatus": "Unknown",
         "departure": {
          "airport": {
           "iata": "CGN",
           "icao": "EDDK",
           "name": "Cologne"
          },
          "quality": [
           "Basic"
          ],
          "scheduledTimeLocal": "2021-12-02 12:05+01:00",
          "scheduledTimeUtc": "2021-12-02 11:05Z",
          "terminal": "1"
         },
         "isCargo": false,
         "number": "EW 8051",
         "status": "Unknown"
        },
        {
         "aircraft": {
          "model": "Airbus A319"
         },
         "airline": {
          "name": "Eurowings"
         },
         "arrival": {
          "quality": [
           "Basic"
          ],
          "scheduledTimeLocal": "2021-12-02 14:35+01:00",
          "scheduledTimeUtc": "2021-12-02 13:35Z",
          "terminal": "1"
         },
         "codeshareStatus": "Unknown",
         "departure": {
          "airport": {
           "iata": "CGN",
           "icao": "EDDK",
           "name": "Cologne"
          },
          "quality": [
           "Basic"
          ],
          "scheduledTimeLocal": "2021-12-02 13:25+01:00",
          "scheduledTimeUtc": "2021-12-02 12:25Z",
          "terminal": "1"
         },
         "isCargo": false,
         "number": "EW 8",
         "status": "Unknown"
        },
        {
         "aircraft": {
          "model": "Airbus A320"
         },
         "airline": {
          "name": "Eurowings"
         },
         "arrival": {
          "quality": [
           "Basic"
          ],
          "scheduledTimeLocal": "2021-12-02 17:20+01:00",
          "scheduledTimeUtc": "2021-12-02 16:20Z",
          "terminal": "1"
         },
         "codeshareStatus": "Unknown",
         "departure": {
          "airport": {
           "iata": "CGN",
           "icao": "EDDK",
           "name": "Cologne"
          },
          "quality": [
           "Basic"
          ],
          "scheduledTimeLocal": "2021-12-02 16:10+01:00",
          "scheduledTimeUtc": "2021-12-02 15:10Z",
          "terminal": "1"
         },
         "isCargo": false,
         "number": "EW 6",
         "status": "Unknown"
        },
        {
         "aircraft": {
          "model": "Airbus A320"
         },
         "airline": {
          "name": "easyJet"
         },
         "arrival": {
          "quality": [
           "Basic"
          ],
          "scheduledTimeLocal": "2021-12-02 19:10+01:00",
          "scheduledTimeUtc": "2021-12-02 18:10Z",
          "terminal": "1"
         },
         "codeshareStatus": "Unknown",
         "departure": {
          "airport": {
           "iata": "CGN",
           "icao": "EDDK",
           "name": "Cologne"
          },
          "quality": [
           "Basic"
          ],
          "scheduledTimeLocal": "2021-12-02 17:55+01:00",
          "scheduledTimeUtc": "2021-12-02 16:55Z",
          "terminal": "0"
         },
         "isCargo": false,
         "number": "U2 5512",
         "status": "Unknown"
        },
        {
         "aircraft": {
          "model": "Airbus A319"
         },
         "airline": {
          "name": "Eurowings"
         },
         "arrival": {
          "quality": [
           "Basic"
          ],
          "scheduledTimeLocal": "2021-12-02 12:00+01:00",
          "scheduledTimeUtc": "2021-12-02 11:00Z",
          "terminal": "1"
         },
         "codeshareStatus": "Unknown",
         "departure": {
          "actualTimeLocal": "2021-12-02 10:45+01:00",
          "actualTimeUtc": "2021-12-02 09:45Z",
          "airport": {
           "iata": "DUS",
           "icao": "EDDL",
           "name": "Duesseldorf"
          },
          "checkInDesk": "153,170",
          "gate": "A39",
          "quality": [
           "Basic",
           "Live"
          ],
          "scheduledTimeLocal": "2021-12-02 10:45+01:00",
          "scheduledTimeUtc": "2021-12-02 09:45Z",
          "terminal": "B"
         },
         "isCargo": false,
         "number": "EW 9046",
         "status": "Unknown"
        },
        {
         "aircraft": {
          "model": "Airbus A320 NEO"
         },
         "airline": {
          "name": "Lufthansa"
         },
         "arrival": {
          "quality": [
           "Basic"
          ],
          "scheduledTimeLocal": "2021-12-02 08:10+01:00",
          "scheduledTimeUtc": "2021-12-02 07:10Z",
          "terminal": "1"
         },
         "codeshareStatus": "IsCodeshared",
         "departure": {
          "airport": {
           "iata": "MUC",
           "icao": "EDDM",
           "name": "Munich"
          },
          "quality": [
           "Basic"
          ],
          "scheduledTimeLocal": "2021-12-02 07:00+01:00",
          "scheduledTimeUtc": "2021-12-02 06:00Z",
          "terminal": "2"
         },
         "isCargo": false,
         "number": "LH 1928",
         "status": "Unknown"
        },
        {
         "aircraft": {
          "model": "Airbus A320"
         },
         "airline": {
          "name": "Lufthansa"
         },
         "arrival": {
          "quality": [
           "Basic"
          ],
          "scheduledTimeLocal": "2021-12-02 09:40+01:00",
          "scheduledTimeUtc": "2021-12-02 08:40Z",
          "terminal": "1"
         },
         "codeshareStatus": "IsCodeshared",
         "departure": {
          "airport": {
           "iata": "MUC",
           "icao": "EDDM",
           "name": "Munich"
          },
          "quality": [
           "Basic"
          ],
          "scheduledTimeLocal": "2021-12-02 08:30+01:00",
          "scheduledTimeUtc": "2021-12-02 07:30Z",
          "terminal": "2"
         },
         "isCargo": false,
         "number": "LH 1930",
         "status": "Unknown"
        },
        {
         "aircraft": {
          "model": "Airbus A320 NEO"
         },
         "airline": {
          "name": "Lufthansa"
         },
         "arrival": {
          "quality": [
           "Basic"
          ],
          "scheduledTimeLocal": "2021-12-02 12:15+01:00",
          "scheduledTimeUtc": "2021-12-02 11:15Z",
          "terminal": "1"
         },
         "codeshareStatus": "IsCodeshared",
         "departure": {
          "airport": {
           "iata": "MUC",
           "icao": "EDDM",
           "name": "Munich"
          },
          "quality": [
           "Basic"
          ],
          "scheduledTimeLocal": "2021-12-02 11:05+01:00",
          "scheduledTimeUtc": "2021-12-02 10:05Z",
          "terminal": "2"
         },
         "isCargo": false,
         "number": "LH 1936",
         "status": "Unknown"
        },
        {
         "aircraft": {
          "model": "Airbus A320"
         },
         "airline": {
          "name": "Lufthansa"
         },
         "arrival": {
          "quality": [
           "Basic"
          ],
          "scheduledTimeLocal": "2021-12-02 15:25+01:00",
          "scheduledTimeUtc": "2021-12-02 14:25Z",
          "terminal": "1"
         },
         "codeshareStatus": "IsCodeshared",
         "departure": {
          "airport": {
           "iata": "MUC",
           "icao": "EDDM",
           "name": "Munich"
          },
          "quality": [
           "Basic"
          ],
          "scheduledTimeLocal": "2021-12-02 14:15+01:00",
          "scheduledTimeUtc": "2021-12-02 13:15Z",
          "terminal": "2"
         },
         "isCargo": false,
         "number": "LH 1944",
         "status": "Unknown"
        },
        {
         "aircraft": {
          "model": "Airbus A320 NEO"
         },
         "airline": {
          "name": "Lufthansa"
         },
         "arrival": {
          "quality": [
           "Basic"
          ],
          "scheduledTimeLocal": "2021-12-02 16:55+01:00",
          "scheduledTimeUtc": "2021-12-02 15:55Z",
          "terminal": "1"
         },
         "codeshareStatus": "IsCodeshared",
         "departure": {
          "airport": {
           "iata": "MUC",
           "icao": "EDDM",
           "name": "Munich"
          },
          "quality": [
           "Basic"
          ],
          "scheduledTimeLocal": "2021-12-02 15:45+01:00",
          "scheduledTimeUtc": "2021-12-02 14:45Z",
          "terminal": "2"
         },
         "isCargo": false,
         "number": "LH 1942",
         "status": "Unknown"
        },
        {
         "aircraft": {
          "model": "Airbus A320 NEO"
         },
         "airline": {
          "name": "Lufthansa"
         },
         "arrival": {
          "quality": [
           "Basic"
          ],
          "scheduledTimeLocal": "2021-12-02 18:10+01:00",
          "scheduledTimeUtc": "2021-12-02 17:10Z",
          "terminal": "1"
         },
         "codeshareStatus": "IsCodeshared",
         "departure": {
          "airport": {
           "iata": "MUC",
           "icao": "EDDM",
           "name": "Munich"
          },
          "quality": [
           "Basic"
          ],
          "scheduledTimeLocal": "2021-12-02 17:00+01:00",
          "scheduledTimeUtc": "2021-12-02 16:00Z",
          "terminal": "2"
         },
         "isCargo": false,
         "number": "LH 1948",
         "status": "Unknown"
        },
        {
         "aircraft": {
          "model": "Airbus A320"
         },
         "airline": {
          "name": "Lufthansa"
         },
         "arrival": {
          "quality": [
           "Basic"
          ],
          "scheduledTimeLocal": "2021-12-02 19:15+01:00",
          "scheduledTimeUtc": "2021-12-02 18:15Z",
          "terminal": "1"
         },
         "codeshareStatus": "Unknown",
         "departure": {
          "airport": {
           "iata": "MUC",
           "icao": "EDDM",
           "name": "Munich"
          },
          "quality": [
           "Basic"
          ],
          "scheduledTimeLocal": "2021-12-02 18:05+01:00",
          "scheduledTimeUtc": "2021-12-02 17:05Z",
          "terminal": "2"
         },
         "isCargo": false,
         "number": "LH 2330",
         "status": "Unknown"
        },
        {
         "aircraft": {
          "model": "ATR 72"
         },
         "airline": {
          "name": "Danish Air"
         },
         "arrival": {
          "quality": [
           "Basic"
          ],
          "scheduledTimeLocal": "2021-12-02 08:10+01:00",
          "scheduledTimeUtc": "2021-12-02 07:10Z",
          "terminal": "0"
         },
         "codeshareStatus": "Unknown",
         "departure": {
          "airport": {
           "iata": "SCN",
           "icao": "EDDR",
           "name": "Saarbrücken"
          },
          "quality": [
           "Basic"
          ],
          "scheduledTimeLocal": "2021-12-02 06:40+01:00",
          "scheduledTimeUtc": "2021-12-02 05:40Z"
         },
         "isCargo": false,
         "number": "DX 121",
         "status": "Unknown"
        },
        {
         "aircraft": {
          "model": "Airbus A320"
         },
         "airline": {
          "name": "Eurowings"
         },
         "arrival": {
          "quality": [
           "Basic"
          ],
          "scheduledTimeLocal": "2021-12-02 13:25+01:00",
          "scheduledTimeUtc": "2021-12-02 12:25Z",
          "terminal": "1"
         },
         "codeshareStatus": "Unknown",
         "departure": {
          "actualTimeLocal": "2021-12-02 12:05+01:00",
          "actualTimeUtc": "2021-12-02 11:05Z",
          "airport": {
           "iata": "STR",
           "icao": "EDDS",
           "name": "Stuttgart"
          },
          "gate": "140",
          "quality": [
           "Basic",
           "Live"
          ],
          "scheduledTimeLocal": "2021-12-02 12:05+01:00",
          "scheduledTimeUtc": "2021-12-02 11:05Z",
          "terminal": "1"
         },
         "isCargo": false,
         "number": "EW 8003",
         "status": "Unknown"
        },
        {
         "aircraft": {
          "model": "Airbus A319"
         },
         "airline": {
          "name": "Eurowings"
         },
         "arrival": {
          "quality": [
           "Basic"
          ],
          "scheduledTimeLocal": "2021-12-02 15:45+01:00",
          "scheduledTimeUtc": "2021-12-02 14:45Z",
          "terminal": "1"
         },
         "codeshareStatus": "Unknown",
         "departure": {
          "actualTimeLocal": "2021-12-02 14:25+01:00",
          "actualTimeUtc": "2021-12-02 13:25Z",
          "airport": {
           "iata": "STR",
           "icao": "EDDS",
           "name": "Stuttgart"
          },
          "gate": "156",
          "quality": [
           "Basic",
           "Live"
          ],
          "scheduledTimeLocal": "2021-12-02 14:25+01:00",
          "scheduledTimeUtc": "2021-12-02 13:25Z",
          "terminal": "1"
         },
         "isCargo": false,
         "number": "EW 2004",
         "status": "Unknown"
        },
        {
         "aircraft": {
          "model": "Airbus A320"
         },
         "airline": {
          "name": "Eurowings"
         },
         "arrival": {
          "quality": [
           "Basic"
          ],
          "scheduledTimeLocal": "2021-12-02 17:05+01:00",
          "scheduledTimeUtc": "2021-12-02 16:05Z",
          "terminal": "1"
         },
         "codeshareStatus": "Unknown",
         "departure": {
          "actualTimeLocal": "2021-12-02 15:45+01:00",
          "actualTimeUtc": "2021-12-02 14:45Z",
          "airport": {
           "iata": "STR",
           "icao": "EDDS",
           "name": "Stuttgart"
          },
          "gate": "140",
          "quality": [
           "Basic",
           "Live"
          ],
          "scheduledTimeLocal": "2021-12-02 15:45+01:00",
          "scheduledTimeUtc": "2021-12-02 14:45Z",
          "terminal": "1"
         },
         "isCargo": false,
         "number": "EW 2058",
         "status": "Unknown"
        },
        {
         "aircraft": {
          "model": "Airbus A321"
         },
         "airline": {
          "name": "Finnair"
         },
         "arrival": {
          "quality": [
           "Basic"
          ],
          "scheduledTimeLocal": "2021-12-02 08:20+01:00",
          "scheduledTimeUtc": "2021-12-02 07:20Z",
          "terminal": "1"
         },
         "codeshareStatus": "Unknown",
         "departure": {
          "actualTimeLocal": "2021-12-02 07:20+02:00",
          "actualTimeUtc": "2021-12-02 05:20Z",
          "airport": {
           "iata": "HEL",
           "icao": "EFHK",
           "name": "Helsinki"
          },
          "checkInDesk": "507-517",
          "quality": [
           "Basic",
           "Live"
          ],
          "scheduledTimeLocal": "2021-12-02 07:20+02:00",
          "scheduledTimeUtc": "2021-12-02 05:20Z",
          "terminal": "T2-500"
         },
         "isCargo": false,
         "number": "AY 1431",
         "status": "Unknown"
        },
        {
         "aircraft": {
          "model": "Airbus A321"
         },
         "airline": {
          "name": "Finnair"
         },
         "arrival": {
          "quality": [
           "Basic"
          ],
          "scheduledTimeLocal": "2021-12-02 12:20+01:00",
          "scheduledTimeUtc": "2021-12-02 11:20Z",
          "terminal": "1"
         },
         "codeshareStatus": "Unknown",
         "departure": {
          "actualTimeLocal": "2021-12-02 11:20+02:00",
          "actualTimeUtc": "2021-12-02 09:20Z",
          "airport": {
           "iata": "HEL",
           "icao": "EFHK",
           "name": "Helsinki"
          },
          "checkInDesk": "507-517",
          "quality": [
           "Basic",
           "Live"
          ],
          "scheduledTimeLocal": "2021-12-02 11:20+02:00",
          "scheduledTimeUtc": "2021-12-02 09:20Z",
          "terminal": "T2-500"
         },
         "isCargo": false,
         "number": "AY 1433",
         "status": "Unknown"
        },
        {
         "aircraft": {
          "model": "Airbus A321"
         },
         "airline": {
          "name": "Finnair"
         },
         "arrival": {
          "quality": [
           "Basic"
          ],
          "scheduledTimeLocal": "2021-12-02 18:25+01:00",
          "scheduledTimeUtc": "2021-12-02 17:25Z",
          "terminal": "1"
         },
         "codeshareStatus": "Unknown",
         "departure": {
          "actualTimeLocal": "2021-12-02 17:25+02:00",
          "actualTimeUtc": "2021-12-02 15:25Z",
          "airport": {
           "iata": "HEL",
           "icao": "EFHK",
           "name": "Helsinki"
          },
          "checkInDesk": "507-517",
          "quality": [
           "Basic",
           "Live"
          ],
          "scheduledTimeLocal": "2021-12-02 17:25+02:00",
          "scheduledTimeUtc": "2021-12-02 15:25Z",
          "terminal": "T2-500"
         },
         "isCargo": false,
         "number": "AY 1435",
         "status": "Unknown"
        },
        {
         "aircraft": {
          "model": "Boeing 737-800"
         },
         "airline": {
          "name": "Ryanair"
         },
         "arrival": {
          "quality": [
           "Basic"
          ],
          "scheduledTimeLocal": "2021-12-02 15:35+01:00",
          "scheduledTimeUtc": "2021-12-02 14:35Z"
         },
         "codeshareStatus": "Unknown",
         "departure": {
          "airport": {
           "iata": "MAN",
           "icao": "EGCC",
           "name": "Manchester"
          },
          "quality": [
           "Basic"
          ],
          "scheduledTimeLocal": "2021-12-02 12:40+00:00",
          "scheduledTimeUtc": "2021-12-02 12:40Z"
         },
         "isCargo": false,
         "number": "FR 1145",
         "status": "Unknown"
        },
        {
         "aircraft": {
          "model": "Airbus A320"
         },
         "airline": {
          "name": "easyJet"
         },
         "arrival": {
          "quality": [
           "Basic"
          ],
          "scheduledTimeLocal": "2021-12-02 11:55+01:00",
          "scheduledTimeUtc": "2021-12-02 10:55Z",
          "terminal": "1"
         },
         "codeshareStatus": "Unknown",
         "departure": {
          "airport": {
           "iata": "LGW",
           "icao": "EGKK",
           "name": "London"
          },
          "quality": [
           "Basic"
          ],
          "scheduledTimeLocal": "2021-12-02 08:55+00:00",
          "scheduledTimeUtc": "2021-12-02 08:55Z",
          "terminal": "N"
         },
         "isCargo": false,
         "number": "U2 8209",
         "status": "Unknown"
        },
        {
         "aircraft": {
          "model": "Embraer 190"
         },
         "airline": {
          "name": "British Airways"
         },
         "arrival": {
          "quality": [
           "Basic"
          ],
          "scheduledTimeLocal": "2021-12-02 10:25+01:00",
          "scheduledTimeUtc": "2021-12-02 09:25Z",
          "terminal": "1"
         },
         "codeshareStatus": "IsCodeshared",
         "departure": {
          "airport": {
           "iata": "LCY",
           "icao": "EGLC",
           "name": "London"
          },
          "quality": [
           "Basic"
          ],
          "scheduledTimeLocal": "2021-12-02 07:45+00:00",
          "scheduledTimeUtc": "2021-12-02 07:45Z"
         },
         "isCargo": false,
         "number": "BA 8491",
         "status": "Unknown"
        },
        {
         "aircraft": {
          "model": "Embraer 190"
         },
         "airline": {
          "name": "British Airways"
         },
         "arrival": {
          "quality": [
           "Basic"
          ],
          "scheduledTimeLocal": "2021-12-02 15:55+01:00",
          "scheduledTimeUtc": "2021-12-02 14:55Z",
          "terminal": "1"
         },
         "codeshareStatus": "IsCodeshared",
         "departure": {
          "airport": {
           "iata": "LCY",
           "icao": "EGLC",
           "name": "London"
          },
          "quality": [
           "Basic"
          ],
          "scheduledTimeLocal": "2021-12-02 13:15+00:00",
          "scheduledTimeUtc": "2021-12-02 13:15Z"
         },
         "isCargo": false,
         "number": "BA 8493",
         "status": "Unknown"
        },
        {
         "aircraft": {
          "model": "Embraer 190"
         },
         "airline": {
          "name": "British Airways"
         },
         "arrival": {
          "quality": [
           "Basic"
          ],
          "scheduledTimeLocal": "2021-12-02 19:30+01:00",
          "scheduledTimeUtc": "2021-12-02 18:30Z",
          "terminal": "1"
         },
         "codeshareStatus": "IsCodeshared",
         "departure": {
          "airport": {
           "iata": "LCY",
           "icao": "EGLC",
           "name": "London"
          },
          "quality": [
           "Basic"
          ],
          "scheduledTimeLocal": "2021-12-02 16:45+00:00",
          "scheduledTimeUtc": "2021-12-02 16:45Z"
         },
         "isCargo": false,
         "number": "BA 8743",
         "status": "Unknown"
        },
        {
         "aircraft": {
          "model": "Airbus A320"
         },
         "airline": {
          "name": "British Airways"
         },
         "arrival": {
          "quality": [
           "Basic"
          ],
          "scheduledTimeLocal": "2021-12-02 11:40+01:00",
          "scheduledTimeUtc": "2021-12-02 10:40Z",
          "terminal": "1"
         },
         "codeshareStatus": "IsCodeshared",
         "departure": {
          "actualTimeLocal": "2021-12-02 08:45+00:00",
          "actualTimeUtc": "2021-12-02 08:45Z",
          "airport": {
           "iata": "LHR",
           "icao": "EGLL",
           "name": "London"
          },
          "checkInDesk": "G",
          "quality": [
           "Basic",
           "Live"
          ],
          "scheduledTimeLocal": "2021-12-02 08:45+00:00",
          "scheduledTimeUtc": "2021-12-02 08:45Z",
          "terminal": "5"
         },
         "isCargo": false,
         "number": "BA 992",
         "status": "Unknown"
        },
        {
         "aircraft": {
          "model": "Airbus A320"
         },
         "airline": {
          "name": "British Airways"
         },
         "arrival": {
          "quality": [
           "Basic"
          ],
          "scheduledTimeLocal": "2021-12-02 18:50+01:00",
          "scheduledTimeUtc": "2021-12-02 17:50Z",
          "terminal": "1"
         },
         "codeshareStatus": "IsCodeshared",
         "departure": {
          "actualTimeLocal": "2021-12-02 15:55+00:00",
          "actualTimeUtc": "2021-12-02 15:55Z",
          "airport": {
           "iata": "LHR",
           "icao": "EGLL",
           "name": "London"
          },
          "checkInDesk": "G",
          "quality": [
           "Basic",
           "Live"
          ],
          "scheduledTimeLocal": "2021-12-02 15:55+00:00",
          "scheduledTimeUtc": "2021-12-02 15:55Z",
          "terminal": "5"
         },
         "isCargo": false,
         "number": "BA 986",
         "status": "Unknown"
        },
        {
         "aircraft": {
          "model": "Boeing 737-800"
         },
         "airline": {
          "name": "Jet2"
         },
         "arrival": {
          "quality": [
           "Basic"
          ],
          "scheduledTimeLocal": "2021-12-02 12:05+01:00",
          "scheduledTimeUtc": "2021-12-02 11:05Z",
          "terminal": "0"
         },
         "codeshareStatus": "Unknown",
         "departure": {
          "airport": {
           "iata": "LBA",
           "icao": "EGNM",
           "name": "Leeds"
          },
          "quality": [
           "Basic"
          ],
          "scheduledTimeLocal": "2021-12-02 09:00+00:00",
          "scheduledTimeUtc": "2021-12-02 09:00Z"
         },
         "isCargo": false,
         "number": "LS 471",
         "status": "Unknown"
        },
        {
         "aircraft": {
          "model": "Boeing 737-800"
         },
         "airline": {
          "name": "Jet2"
         },
         "arrival": {
          "quality": [
           "Basic"
          ],
          "scheduledTimeLocal": "2021-12-02 11:50+01:00",
          "scheduledTimeUtc": "2021-12-02 10:50Z",
          "terminal": "0"
         },
         "codeshareStatus": "Unknown",
         "departure": {
          "airport": {
           "iata": "NCL",
           "icao": "EGNT",
           "name": "Newcastle upon Tyne"
          },
          "quality": [
           "Basic"
          ],
          "scheduledTimeLocal": "2021-12-02 08:50+00:00",
          "scheduledTimeUtc": "2021-12-02 08:50Z"
         },
         "isCargo": false,
         "number": "LS 4067",
         "status": "Unknown"
        },
        {
         "aircraft": {
          "model": "Boeing 737-800"
         },
         "airline": {
          "name": "Ryanair"
         },
         "arrival": {
          "quality": [
           "Basic"
          ],
          "scheduledTimeLocal": "2021-12-02 10:40+01:00",
          "scheduledTimeUtc": "2021-12-02 09:40Z"
         },
         "codeshareStatus": "Unknown",
         "departure": {
          "airport": {
           "iata": "STN",
           "icao": "EGSS",
           "name": "London"
          },
          "quality": [
           "Basic"
          ],
          "scheduledTimeLocal": "2021-12-02 07:50+00:00",
          "scheduledTimeUtc": "2021-12-02 07:50Z"
         },
         "isCargo": false,
         "number": "FR 145",
         "status": "Unknown"
        },
        {
         "aircraft": {
          "model": "Boeing 737-800"
         },
         "airline": {
          "name": "Ryanair"
         },
         "arrival": {
          "quality": [
           "Basic"
          ],
          "scheduledTimeLocal": "2021-12-02 13:35+01:00",
          "scheduledTimeUtc": "2021-12-02 12:35Z"
         },
         "codeshareStatus": "Unknown",
         "departure": {
          "airport": {
           "iata": "STN",
           "icao": "EGSS",
           "name": "London"
          },
          "quality": [
           "Basic"
          ],
          "scheduledTimeLocal": "2021-12-02 10:45+00:00",
          "scheduledTimeUtc": "2021-12-02 10:45Z"
         },
         "isCargo": false,
         "number": "FR 176",
         "status": "Unknown"
        },
        {
         "aircraft": {
          "model": "Boeing 737-800"
         },
         "airline": {
          "name": "Ryanair"
         },
         "arrival": {
          "quality": [
           "Basic"
          ],
          "scheduledTimeLocal": "2021-12-02 14:05+01:00",
          "scheduledTimeUtc": "2021-12-02 13:05Z"
         },
         "codeshareStatus": "Unknown",
         "departure": {
          "airport": {
           "iata": "STN",
           "icao": "EGSS",
           "name": "London"
          },
          "quality": [
           "Basic"
          ],
          "scheduledTimeLocal": "2021-12-02 11:15+00:00",
          "scheduledTimeUtc": "2021-12-02 11:15Z"
         },
         "isCargo": false,
         "number": "FR 8542",
         "status": "Unknown"
        },
        {
         "aircraft": {
          "model": "Boeing 737-700",
          "reg": "PH-BXY"
         },
         "airline": {
          "name": "KLM"
         },
         "arrival": {
          "quality": [
           "Basic"
          ],
          "scheduledTimeLocal": "2021-12-02 09:25+01:00",
          "scheduledTimeUtc": "2021-12-02 08:25Z",
          "terminal": "1"
         },
         "codeshareStatus": "IsOperator",
         "departure": {
          "airport": {
           "iata": "AMS",
           "icao": "EHAM",
           "name": "Amsterdam"
          },
          "checkInDesk": "5-8",
          "quality": [
           "Basic"
          ],
          "scheduledTimeLocal": "2021-12-02 08:05+01:00",
          "scheduledTimeUtc": "2021-12-02 07:05Z",
          "terminal": "1"
         },
         "isCargo": false,
         "number": "KL 1821",
         "status": "Unknown"
        },
        {
         "aircraft": {
          "model": "Boeing 737-900",
          "reg": "PH-BCK"
         },
         "airline": {
          "name": "KLM"
         },
         "arrival": {
          "quality": [
           "Basic"
          ],
          "scheduledTimeLocal": "2021-12-02 11:05+01:00",
          "scheduledTimeUtc": "2021-12-02 10:05Z",
          "terminal": "1"
         },
         "codeshareStatus": "IsOperator",
         "departure": {
          "airport": {
           "iata": "AMS",
           "icao": "EHAM",
           "name": "Amsterdam"
          },
          "checkInDesk": "5-8",
          "quality": [
           "Basic"
          ],
          "scheduledTimeLocal": "2021-12-02 09:45+01:00",
          "scheduledTimeUtc": "2021-12-02 08:45Z",
          "terminal": "1"
         },
         "isCargo": false,
         "number": "KL 1823",
         "status": "Unknown"
        },
        {
         "aircraft": {
          "model": "Airbus A319"
         },
         "airline": {
          "name": "easyJet"
         },
         "arrival": {
          "quality": [
           "Basic"
          ],
          "scheduledTimeLocal": "2021-12-02 10:35+01:00",
          "scheduledTimeUtc": "2021-12-02 09:35Z",
          "terminal": "1"
         },
         "codeshareStatus": "Unknown",
         "departure": {
          "airport": {
           "iata": "AMS",
           "icao": "EHAM",
           "name": "Amsterdam"
          },
          "quality": [
           "Basic"
          ],
          "scheduledTimeLocal": "2021-12-02 09:10+01:00",
          "scheduledTimeUtc": "2021-12-02 08:10Z"
         },
         "isCargo": false,
         "number": "U2 5102",
         "status": "Unknown"
        },
        {
         "aircraft": {
          "model": "Embraer 190"
         },
         "airline": {
          "name": "KLM"
         },
         "arrival": {
          "quality": [
           "Basic"
          ],
          "scheduledTimeLocal": "2021-12-02 16:40+01:00",
          "scheduledTimeUtc": "2021-12-02 15:40Z",
          "terminal": "1"
         },
         "codeshareStatus": "IsOperator",
         "departure": {
          "airport": {
           "iata": "AMS",
           "icao": "EHAM",
           "name": "Amsterdam"
          },
          "checkInDesk": "5-8",
          "quality": [
           "Basic"
          ],
          "scheduledTimeLocal": "2021-12-02 15:20+01:00",
          "scheduledTimeUtc": "2021-12-02 14:20Z",
          "terminal": "1"
         },
         "isCargo": false,
         "number": "KL 1829",
         "status": "Unknown"
        },
        {
         "aircraft": {
          "model": "Embraer 190"
         },
         "airline": {
          "name": "KLM"
         },
         "arrival": {
          "quality": [
           "Basic"
          ],
          "scheduledTimeLocal": "2021-12-02 18:00+01:00",
          "scheduledTimeUtc": "2021-12-02 17:00Z",
          "terminal": "1"
         },
         "codeshareStatus": "IsOperator",
         "departure": {
          "airport": {
           "iata": "AMS",
           "icao": "EHAM",
           "name": "Amsterdam"
          },
          "checkInDesk": "5-8",
          "quality": [
           "Basic"
          ],
          "scheduledTimeLocal": "2021-12-02 16:45+01:00",
          "scheduledTimeUtc": "2021-12-02 15:45Z",
          "terminal": "1"
         },
         "isCargo": false,
         "number": "KL 1831",
         "status": "Unknown"
        },
        {
         "aircraft": {
          "model": "Boeing 737-800"
         },
         "airline": {
          "name": "Ryanair"
         },
         "arrival": {
          "quality": [
           "Basic"
          ],
          "scheduledTimeLocal": "2021-12-02 13:10+01:00",
          "scheduledTimeUtc": "2021-12-02 12:10Z"
         },
         "codeshareStatus": "Unknown",
         "departure": {
          "airport": {
           "iata": "DUB",
           "icao": "EIDW",
           "name": "Dublin"
          },
          "quality": [
           "Basic"
          ],
          "scheduledTimeLocal": "2021-12-02 09:50+00:00",
          "scheduledTimeUtc": "2021-12-02 09:50Z"
         },
         "isCargo": false,
         "number": "FR 8556",
         "status": "Unknown"
        },
        {
         "aircraft": {
          "model": "Boeing 737-800"
         },
         "airline": {
          "name": "Ryanair"
         },
         "arrival": {
          "quality": [
           "Basic"
          ],
          "scheduledTimeLocal": "2021-12-02 18:40+01:00",
          "scheduledTimeUtc": "2021-12-02 17:40Z"
         },
         "codeshareStatus": "Unknown",
         "departure": {
          "actualTimeLocal": "2021-12-02 15:20+00:00",
          "actualTimeUtc": "2021-12-02 15:20Z",
          "airport": {
           "iata": "DUB",
           "icao": "EIDW",
           "name": "Dublin"
          },
          "checkInDesk": "1204-1319",
          "gate": "119",
          "quality": [
           "Basic",
           "Live"
          ],
          "scheduledTimeLocal": "2021-12-02 15:20+00:00",
          "scheduledTimeUtc": "2021-12-02 15:20Z",
          "terminal": "T1"
         },
         "isCargo": false,
         "number": "FR 8558",
         "status": "Unknown"
        },
        {
         "aircraft": {
          "model": "Boeing 737-800"
         },
         "airline": {
          "name": "Ryanair"
         },
         "arrival": {
          "quality": [
           "Basic"
          ],
          "scheduledTimeLocal": "2021-12-02 13:40+01:00",
          "scheduledTimeUtc": "2021-12-02 12:40Z"
         },
         "codeshareStatus": "Unknown",
         "departure": {
          "airport": {
           "iata": "KIR",
           "icao": "EIKY",
           "name": "Killarney"
          },
          "quality": [
           "Basic"
          ],
          "scheduledTimeLocal": "2021-12-02 10:10+00:00",
          "scheduledTimeUtc": "2021-12-02 10:10Z"
         },
         "isCargo": false,
         "number": "FR 1710",
         "status": "Unknown"
        },
        {
         "aircraft": {
          "model": "Boeing 737-800"
         },
         "airline": {
          "name": "Norwegian Air International"
         },
         "arrival": {
          "quality": [
           "Basic"
          ],
          "scheduledTimeLocal": "2021-12-02 11:45+01:00",
          "scheduledTimeUtc": "2021-12-02 10:45Z",
          "terminal": "1"
         },
         "codeshareStatus": "Unknown",
         "departure": {
          "airport": {
           "iata": "CPH",
           "icao": "EKCH",
           "name": "Copenhagen"
          },
          "quality": [
           "Basic"
          ],
          "scheduledTimeLocal": "2021-12-02 10:45+01:00",
          "scheduledTimeUtc": "2021-12-02 09:45Z",
          "terminal": "2"
         },
         "isCargo": false,
         "number": "D8 3302",
         "status": "Unknown"
        },
        {
         "aircraft": {
          "model": "Airbus A320 NEO"
         },
         "airline": {
          "name": "SAS"
         },
         "arrival": {
          "quality": [
           "Basic"
          ],
          "scheduledTimeLocal": "2021-12-02 13:00+01:00",
          "scheduledTimeUtc": "2021-12-02 12:00Z",
          "terminal": "1"
         },
         "codeshareStatus": "Unknown",
         "departure": {
          "airport": {
           "iata": "CPH",
           "icao": "EKCH",
           "name": "Copenhagen"
          },
          "quality": [
           "Basic"
          ],
          "scheduledTimeLocal": "2021-12-02 12:05+01:00",
          "scheduledTimeUtc": "2021-12-02 11:05Z",
          "terminal": "3"
         },
         "isCargo": false,
         "number": "SK 1673",
         "status": "Unknown"
        },
        {
         "aircraft": {
          "model": "Airbus A320"
         },
         "airline": {
          "name": "easyJet"
         },
         "arrival": {
          "quality": [
           "Basic"
          ],
          "scheduledTimeLocal": "2021-12-02 19:45+01:00",
          "scheduledTimeUtc": "2021-12-02 18:45Z",
          "terminal": "1"
         },
         "codeshareStatus": "Unknown",
         "departure": {
          "airport": {
           "iata": "CPH",
           "icao": "EKCH",
           "name": "Copenhagen"
          },
          "quality": [
           "Basic"
          ],
          "scheduledTimeLocal": "2021-12-02 18:40+01:00",
          "scheduledTimeUtc": "2021-12-02 17:40Z",
          "terminal": "2"
         },
         "isCargo": false,
         "number": "U2 5688",
         "status": "Unknown"
        },
        {
         "aircraft": {
          "model": "Bombardier Dash 8 Q400 / DHC-8-400"
         },
         "airline": {
          "name": "Luxair"
         },
         "arrival": {
          "quality": [
           "Basic"
          ],
          "scheduledTimeLocal": "2021-12-02 08:15+01:00",
          "scheduledTimeUtc": "2021-12-02 07:15Z",
          "terminal": "1"
         },
         "codeshareStatus": "Unknown",
         "departure": {
          "actualTimeLocal": "2021-12-02 06:45+01:00",
          "actualTimeUtc": "2021-12-02 05:45Z",
          "airport": {
           "iata": "LUX",
           "icao": "ELLX",
           "name": "Luxembourg"
          },
          "quality": [
           "Basic",
           "Live"
          ],
          "scheduledTimeLocal": "2021-12-02 06:45+01:00",
          "scheduledTimeUtc": "2021-12-02 05:45Z"
         },
         "isCargo": false,
         "number": "LG 9471",
         "status": "Unknown"
        },
        {
         "aircraft": {
          "model": "Boeing 737-800"
         },
         "airline": {
          "name": "Norwegian Air Shuttle"
         },
         "arrival": {
          "quality": [
           "Basic"
          ],
          "scheduledTimeLocal": "2021-12-02 09:10+01:00",
          "scheduledTimeUtc": "2021-12-02 08:10Z",
          "terminal": "1"
         },
         "codeshareStatus": "Unknown",
         "departure": {
          "airport": {
           "iata": "OSL",
           "icao": "ENGM",
           "name": "Oslo"
          },
          "checkInDesk": "23",
          "quality": [
           "Basic"
          ],
          "scheduledTimeLocal": "2021-12-02 07:35+01:00",
          "scheduledTimeUtc": "2021-12-02 06:35Z"
         },
         "isCargo": false,
         "number": "DY 1102",
         "status": "Unknown"
        },
        {
         "aircraft": {
          "model": "Airbus A320 NEO"
         },
         "airline": {
          "name": "SAS"
         },
         "arrival": {
          "quality": [
           "Basic"
          ],
          "scheduledTimeLocal": "2021-12-02 12:55+01:00",
          "scheduledTimeUtc": "2021-12-02 11:55Z",
          "terminal": "1"
         },
         "codeshareStatus": "Unknown",
         "departure": {
          "airport": {
           "iata": "OSL",
           "icao": "ENGM",
           "name": "Oslo"
          },
          "checkInDesk": "23",
          "quality": [
           "Basic"
          ],
          "scheduledTimeLocal": "2021-12-02 11:15+01:00",
          "scheduledTimeUtc": "2021-12-02 10:15Z"
         },
         "isCargo": false,
         "number": "SK 4723",
         "status": "Unknown"
        },
        {
         "aircraft": {
          "model": "Boeing 737-800"
         },
         "airline": {
          "name": "Norwegian Air Shuttle"
         },
         "arrival": {
          "quality": [
           "Basic"
          ],
          "scheduledTimeLocal": "2021-12-02 19:35+01:00",
          "scheduledTimeUtc": "2021-12-02 18:35Z",
          "terminal": "1"
         },
         "codeshareStatus": "Unknown",
         "departure": {
          "actualTimeLocal": "2021-12-02 18:00+01:00",
          "actualTimeUtc": "2021-12-02 17:00Z",
          "airport": {
           "iata": "OSL",
           "icao": "ENGM",
           "name": "Oslo"
          },
          "checkInDesk": "23",
          "quality": [
           "Basic",
           "Live"
          ],
          "scheduledTimeLocal": "2021-12-02 18:00+01:00",
          "scheduledTimeUtc": "2021-12-02 17:00Z"
         },
         "isCargo": false,
         "number": "DY 1108",
         "status": "Unknown"
        },
        {
         "aircraft": {
          "model": "Bombardier Dash 8 Q400 / DHC-8-400"
         },
         "airline": {
          "name": "LOT - Polish"
         },
         "arrival": {
          "quality": [
           "Basic"
          ],
          "scheduledTimeLocal": "2021-12-02 11:35+01:00",
          "scheduledTimeUtc": "2021-12-02 10:35Z",
          "terminal": "1"
         },
         "codeshareStatus": "Unknown",
         "departure": {
          "actualTimeLocal": "2021-12-02 10:10+01:00",
          "actualTimeUtc": "2021-12-02 09:10Z",
          "airport": {
           "iata": "WAW",
           "icao": "EPWA",
           "name": "Warsaw"
          },
          "checkInDesk": "241-280",
          "quality": [
           "Basic",
           "Live"
          ],
          "scheduledTimeLocal": "2021-12-02 10:10+01:00",
          "scheduledTimeUtc": "2021-12-02 09:10Z",
          "terminal": "E-D"
         },
         "isCargo": false,
         "number": "LO 385",
         "status": "Unknown"
        },
        {
         "aircraft": {
          "model": "Embraer 175"
         },
         "airline": {
          "name": "LOT - Polish"
         },
         "arrival": {
          "quality": [
           "Basic"
          ],
          "scheduledTimeLocal": "2021-12-02 17:45+01:00",
          "scheduledTimeUtc": "2021-12-02 16:45Z",
          "terminal": "1"
         },
         "codeshareStatus": "Unknown",
         "departure": {
          "airport": {
           "iata": "WAW",
           "icao": "EPWA",
           "name": "Warsaw"
          },
          "quality": [
           "Basic"
          ],
          "scheduledTimeLocal": "2021-12-02 16:20+01:00",
          "scheduledTimeUtc": "2021-12-02 15:20Z"
         },
         "isCargo": false,
         "number": "LO 389",
         "status": "Unknown"
        },
        {
         "aircraft": {
          "model": "Bombardier CRJ900",
          "reg": "EI-FPW"
         },
         "airline": {
          "name": "SAS"
         },
         "arrival": {
          "quality": [
           "Basic"
          ],
          "scheduledTimeLocal": "2021-12-02 10:30+01:00",
          "scheduledTimeUtc": "2021-12-02 09:30Z",
          "terminal": "1"
         },
         "codeshareStatus": "Unknown",
         "departure": {
          "actualTimeLocal": "2021-12-02 08:55+01:00",
          "actualTimeUtc": "2021-12-02 07:55Z",
          "airport": {
           "iata": "ARN",
           "icao": "ESSA",
           "name": "Stockholm"
          },
          "checkInDesk": "71-74",
          "quality": [
           "Basic",
           "Live"
          ],
          "scheduledTimeLocal": "2021-12-02 08:55+01:00",
          "scheduledTimeUtc": "2021-12-02 07:55Z",
          "terminal": "T5"
         },
         "isCargo": false,
         "number": "SK 2677",
         "status": "Unknown"
        },
        {
         "aircraft": {
          "model": "Boeing 737-800"
         },
         "airline": {
          "name": "Ryanair"
         },
         "arrival": {
          "quality": [
           "Basic"
          ],
          "scheduledTimeLocal": "2021-12-02 09:45+01:00",
          "scheduledTimeUtc": "2021-12-02 08:45Z"
         },
         "codeshareStatus": "Unknown",
         "departure": {
          "actualTimeLocal": "2021-12-02 09:05+02:00",
          "actualTimeUtc": "2021-12-02 07:05Z",
          "airport": {
           "iata": "RIX",
           "icao": "EVRA",
           "name": "Riga"
          },
          "quality": [
           "Basic",
           "Live"
          ],
          "scheduledTimeLocal": "2021-12-02 09:05+02:00",
          "scheduledTimeUtc": "2021-12-02 07:05Z"
         },
         "isCargo": false,
         "number": "FR 2600",
         "status": "Unknown"
        },
        {
         "aircraft": {
          "model": "Airbus A220-300"
         },
         "airline": {
          "name": "Air Baltic"
         },
         "arrival": {
          "quality": [
           "Basic"
          ],
          "scheduledTimeLocal": "2021-12-02 19:00+01:00",
          "scheduledTimeUtc": "2021-12-02 18:00Z",
          "terminal": "1"
         },
         "codeshareStatus": "Unknown",
         "departure": {
          "airport": {
           "iata": "RIX",
           "icao": "EVRA",
           "name": "Riga"
          },
          "quality": [
           "Basic"
          ],
          "scheduledTimeLocal": "2021-12-02 18:20+02:00",
          "scheduledTimeUtc": "2021-12-02 16:20Z"
         },
         "isCargo": false,
         "number": "BT 213",
         "status": "Unknown"
        },
        {
         "aircraft": {
          "model": "Boeing 737-800"
         },
         "airline": {
          "name": "Ryanair"
         },
         "arrival": {
          "quality": [
           "Basic"
          ],
          "scheduledTimeLocal": "2021-12-02 18:10+01:00",
          "scheduledTimeUtc": "2021-12-02 17:10Z"
         },
         "codeshareStatus": "Unknown",
         "departure": {
          "airport": {
           "iata": "VNO",
           "icao": "EYVI",
           "name": "Vilnius"
          },
          "quality": [
           "Basic"
          ],
          "scheduledTimeLocal": "2021-12-02 17:30+02:00",
          "scheduledTimeUtc": "2021-12-02 15:30Z"
         },
         "isCargo": false,
         "number": "FR 1571",
         "status": "Unknown"
        },
        {
         "aircraft": {
          "model": "Boeing 737-800"
         },
         "airline": {
          "name": "Ryanair"
         },
         "arrival": {
          "quality": [
           "Basic"
          ],
          "scheduledTimeLocal": "2021-12-02 16:55+01:00",
          "scheduledTimeUtc": "2021-12-02 15:55Z"
         },
         "codeshareStatus": "Unknown",
         "departure": {
          "actualTimeLocal": "2021-12-02 10:55+00:00",
          "actualTimeUtc": "2021-12-02 10:55Z",
          "airport": {
           "iata": "FUE",
           "icao": "GCFV",
           "name": "Fuerteventura Island"
          },
          "quality": [
           "Basic",
           "Live"
          ],
          "scheduledTimeLocal": "2021-12-02 10:55+00:00",
          "scheduledTimeUtc": "2021-12-02 10:55Z"
         },
         "isCargo": false,
         "number": "FR 1102",
         "status": "Unknown"
        },
        {
         "aircraft": {
          "model": "Airbus A320"
         },
         "airline": {
          "name": "easyJet"
         },
         "arrival": {
          "quality": [
           "Basic"
          ],
          "scheduledTimeLocal": "2021-12-02 19:00+01:00",
          "scheduledTimeUtc": "2021-12-02 18:00Z",
          "terminal": "1"
         },
         "codeshareStatus": "Unknown",
         "departure": {
          "airport": {
           "iata": "FUE",
           "icao": "GCFV",
           "name": "Fuerteventura Island"
          },
          "quality": [
           "Basic"
          ],
          "scheduledTimeLocal": "2021-12-02 13:00+00:00",
          "scheduledTimeUtc": "2021-12-02 13:00Z"
         },
         "isCargo": false,
         "number": "U2 5924",
         "status": "Unknown"
        },
        {
         "aircraft": {
          "model": "Boeing 737-800"
         },
         "airline": {
          "name": "Ryanair"
         },
         "arrival": {
          "quality": [
           "Basic"
          ],
          "scheduledTimeLocal": "2021-12-02 17:15+01:00",
          "scheduledTimeUtc": "2021-12-02 16:15Z"
         },
         "codeshareStatus": "Unknown",
         "departure": {
          "actualTimeLocal": "2021-12-02 11:05+00:00",
          "actualTimeUtc": "2021-12-02 11:05Z",
          "airport": {
           "iata": "TFS",
           "icao": "GCTS",
           "name": "Tenerife Island"
          },
          "quality": [
           "Basic",
           "Live"
          ],
          "scheduledTimeLocal": "2021-12-02 11:05+00:00",
          "scheduledTimeUtc": "2021-12-02 11:05Z"
         },
         "isCargo": false,
         "number": "FR 4067",
         "status": "Unknown"
        },
        {
         "aircraft": {
          "model": "Airbus A320"
         },
         "airline": {
          "name": "easyJet"
         },
         "arrival": {
          "quality": [
           "Basic"
          ],
          "scheduledTimeLocal": "2021-12-02 17:50+01:00",
          "scheduledTimeUtc": "2021-12-02 16:50Z",
          "terminal": "1"
         },
         "codeshareStatus": "Unknown",
         "departure": {
          "airport": {
           "iata": "HRG",
           "icao": "HEGN",
           "name": "Hurghada"
          },
          "quality": [
           "Basic"
          ],
          "scheduledTimeLocal": "2021-12-02 13:40+02:00",
          "scheduledTimeUtc": "2021-12-02 11:40Z",
          "terminal": "1"
         },
         "isCargo": false,
         "number": "U2 5788",
         "status": "Unknown"
        },
        {
         "aircraft": {
          "model": "Airbus A321"
         },
         "airline": {
          "name": "Condor"
         },
         "arrival": {
          "quality": [
           "Basic"
          ],
          "scheduledTimeLocal": "2021-12-02 17:55+01:00",
          "scheduledTimeUtc": "2021-12-02 16:55Z",
          "terminal": "1"
         },
         "codeshareStatus": "Unknown",
         "departure": {
          "airport": {
           "iata": "HRG",
           "icao": "HEGN",
           "name": "Hurghada"
          },
          "quality": [
           "Basic"
          ],
          "scheduledTimeLocal": "2021-12-02 14:00+02:00",
          "scheduledTimeUtc": "2021-12-02 12:00Z",
          "terminal": "1"
         },
         "isCargo": false,
         "number": "DE 433",
         "status": "Unknown"
        },
        {
         "aircraft": {
          "model": "Boeing 737-800"
         },
         "airline": {
          "name": "Ryanair"
         },
         "arrival": {
          "quality": [
           "Basic"
          ],
          "scheduledTimeLocal": "2021-12-02 11:45+01:00",
          "scheduledTimeUtc": "2021-12-02 10:45Z"
         },
         "codeshareStatus": "Unknown",
         "departure": {
          "airport": {
           "iata": "SOF",
           "icao": "LBSF",
           "name": "Sofia"
          },
          "quality": [
           "Basic"
          ],
          "scheduledTimeLocal": "2021-12-02 10:25+02:00",
          "scheduledTimeUtc": "2021-12-02 08:25Z"
         },
         "isCargo": false,
         "number": "FR 1595",
         "status": "Unknown"
        },
        {
         "aircraft": {
          "model": "Airbus A320"
         },
         "airline": {
          "name": "easyJet"
         },
         "arrival": {
          "quality": [
           "Basic"
          ],
          "scheduledTimeLocal": "2021-12-02 13:55+01:00",
          "scheduledTimeUtc": "2021-12-02 12:55Z",
          "terminal": "1"
         },
         "codeshareStatus": "Unknown",
         "departure": {
          "airport": {
           "iata": "BCN",
           "icao": "LEBL",
           "name": "Barcelona"
          },
          "quality": [
           "Basic"
          ],
          "scheduledTimeLocal": "2021-12-02 11:05+01:00",
          "scheduledTimeUtc": "2021-12-02 10:05Z",
          "terminal": "2"
         },
         "isCargo": false,
         "number": "U2 5122",
         "status": "Unknown"
        },
        {
         "aircraft": {
          "model": "Airbus A320"
         },
         "airline": {
          "name": "Vueling"
         },
         "arrival": {
          "quality": [
           "Basic"
          ],
          "scheduledTimeLocal": "2021-12-02 14:20+01:00",
          "scheduledTimeUtc": "2021-12-02 13:20Z",
          "terminal": "1"
         },
         "codeshareStatus": "Unknown",
         "departure": {
          "actualTimeLocal": "2021-12-02 11:40+01:00",
          "actualTimeUtc": "2021-12-02 10:40Z",
          "airport": {
           "iata": "BCN",
           "icao": "LEBL",
           "name": "Barcelona"
          },
          "quality": [
           "Basic",
           "Live"
          ],
          "scheduledTimeLocal": "2021-12-02 11:40+01:00",
          "scheduledTimeUtc": "2021-12-02 10:40Z",
          "terminal": "1"
         },
         "isCargo": false,
         "number": "VY 1882",
         "status": "Unknown"
        },
        {
         "aircraft": {
          "model": "Boeing 737-800"
         },
         "airline": {
          "name": "Ryanair"
         },
         "arrival": {
          "quality": [
           "Basic"
          ],
          "scheduledTimeLocal": "2021-12-02 17:00+01:00",
          "scheduledTimeUtc": "2021-12-02 16:00Z"
         },
         "codeshareStatus": "Unknown",
         "departure": {
          "actualTimeLocal": "2021-12-02 14:15+01:00",
          "actualTimeUtc": "2021-12-02 13:15Z",
          "airport": {
           "iata": "BCN",
           "icao": "LEBL",
           "name": "Barcelona"
          },
          "quality": [
           "Basic",
           "Live"
          ],
          "scheduledTimeLocal": "2021-12-02 14:15+01:00",
          "scheduledTimeUtc": "2021-12-02 13:15Z",
          "terminal": "2"
         },
         "isCargo": false,
         "number": "FR 133",
         "status": "Unknown"
        },
        {
         "aircraft": {
          "model": "Boeing 737-800"
         },
         "airline": {
          "name": "Ryanair"
         },
         "arrival": {
          "quality": [
           "Basic"
          ],
          "scheduledTimeLocal": "2021-12-02 09:25+01:00",
          "scheduledTimeUtc": "2021-12-02 08:25Z"
         },
         "codeshareStatus": "Unknown",
         "departure": {
          "actualTimeLocal": "2021-12-02 06:20+01:00",
          "actualTimeUtc": "2021-12-02 05:20Z",
          "airport": {
           "iata": "MAD",
           "icao": "LEMD",
           "name": "Madrid"
          },
          "quality": [
           "Basic",
           "Live"
          ],
          "scheduledTimeLocal": "2021-12-02 06:20+01:00",
          "scheduledTimeUtc": "2021-12-02 05:20Z",
          "terminal": "1"
         },
         "isCargo": false,
         "number": "FR 2526",
         "status": "Unknown"
        },
        {
         "aircraft": {
          "model": "Airbus A320"
         },
         "airline": {
          "name": "Iberia"
         },
         "arrival": {
          "quality": [
           "Basic"
          ],
          "scheduledTimeLocal": "2021-12-02 11:05+01:00",
          "scheduledTimeUtc": "2021-12-02 10:05Z",
          "terminal": "1"
         },
         "codeshareStatus": "Unknown",
         "departure": {
          "actualTimeLocal": "2021-12-02 08:05+01:00",
          "actualTimeUtc": "2021-12-02 07:05Z",
          "airport": {
           "iata": "MAD",
           "icao": "LEMD",
           "name": "Madrid"
          },
          "quality": [
           "Basic",
           "Live"
          ],
          "scheduledTimeLocal": "2021-12-02 08:05+01:00",
          "scheduledTimeUtc": "2021-12-02 07:05Z",
          "terminal": "4"
         },
         "isCargo": false,
         "number": "IB 3676",
         "status": "Unknown"
        },
        {
         "aircraft": {
          "model": "Airbus A321"
         },
         "airline": {
          "name": "Iberia"
         },
         "arrival": {
          "quality": [
           "Basic"
          ],
          "scheduledTimeLocal": "2021-12-02 18:50+01:00",
          "scheduledTimeUtc": "2021-12-02 17:50Z",
          "terminal": "1"
         },
         "codeshareStatus": "Unknown",
         "departure": {
          "actualTimeLocal": "2021-12-02 15:50+01:00",
          "actualTimeUtc": "2021-12-02 14:50Z",
          "airport": {
           "iata": "MAD",
           "icao": "LEMD",
           "name": "Madrid"
          },
          "quality": [
           "Basic",
           "Live"
          ],
          "scheduledTimeLocal": "2021-12-02 15:50+01:00",
          "scheduledTimeUtc": "2021-12-02 14:50Z",
          "terminal": "4"
         },
         "isCargo": false,
         "number": "IB 3672",
         "status": "Unknown"
        },
        {
         "aircraft": {
          "model": "Airbus A320"
         },
         "airline": {
          "name": "easyJet"
         },
         "arrival": {
          "quality": [
           "Basic"
          ],
          "scheduledTimeLocal": "2021-12-02 15:30+01:00",
          "scheduledTimeUtc": "2021-12-02 14:30Z",
          "terminal": "1"
         },
         "codeshareStatus": "Unknown",
         "departure": {
          "airport": {
           "iata": "AGP",
           "icao": "LEMG",
           "name": "Málaga"
          },
          "quality": [
           "Basic"
          ],
          "scheduledTimeLocal": "2021-12-02 11:50+01:00",
          "scheduledTimeUtc": "2021-12-02 10:50Z"
         },
         "isCargo": false,
         "number": "U2 5914",
         "status": "Unknown"
        },
        {
         "aircraft": {
          "model": "Boeing 737-800"
         },
         "airline": {
          "name": "Ryanair"
         },
         "arrival": {
          "quality": [
           "Basic"
          ],
          "scheduledTimeLocal": "2021-12-02 19:40+01:00",
          "scheduledTimeUtc": "2021-12-02 18:40Z"
         },
         "codeshareStatus": "Unknown",
         "departure": {
          "actualTimeLocal": "2021-12-02 16:05+01:00",
          "actualTimeUtc": "2021-12-02 15:05Z",
          "airport": {
           "iata": "AGP",
           "icao": "LEMG",
           "name": "Málaga"
          },
          "quality": [
           "Basic",
           "Live"
          ],
          "scheduledTimeLocal": "2021-12-02 16:05+01:00",
          "scheduledTimeUtc": "2021-12-02 15:05Z"
         },
         "isCargo": false,
         "number": "FR 2591",
         "status": "Unknown"
        },
        {
         "aircraft": {
          "model": "Boeing 737-800"
         },
         "airline": {
          "name": "Ryanair"
         },
         "arrival": {
          "quality": [
           "Basic"
          ],
          "scheduledTimeLocal": "2021-12-02 12:30+01:00",
          "scheduledTimeUtc": "2021-12-02 11:30Z"
         },
         "codeshareStatus": "Unknown",
         "departure": {
          "airport": {
           "iata": "PMI",
           "icao": "LEPA",
           "name": "Palma De Mallorca"
          },
          "quality": [
           "Basic"
          ],
          "scheduledTimeLocal": "2021-12-02 09:35+01:00",
          "scheduledTimeUtc": "2021-12-02 08:35Z"
         },
         "isCargo": false,
         "number": "FR 2146",
         "status": "Unknown"
        },
        {
         "aircraft": {
          "model": "Boeing 737-800"
         },
         "airline": {
          "name": "Ryanair"
         },
         "arrival": {
          "quality": [
           "Basic"
          ],
          "scheduledTimeLocal": "2021-12-02 16:50+01:00",
          "scheduledTimeUtc": "2021-12-02 15:50Z"
         },
         "codeshareStatus": "Unknown",
         "departure": {
          "actualTimeLocal": "2021-12-02 14:05+01:00",
          "actualTimeUtc": "2021-12-02 13:05Z",
          "airport": {
           "iata": "PMI",
           "icao": "LEPA",
           "name": "Palma De Mallorca"
          },
          "quality": [
           "Basic",
           "Live"
          ],
          "scheduledTimeLocal": "2021-12-02 14:05+01:00",
          "scheduledTimeUtc": "2021-12-02 13:05Z"
         },
         "isCargo": false,
         "number": "FR 111",
         "status": "Unknown"
        },
        {
         "aircraft": {
          "model": "Boeing 737-800"
         },
         "airline": {
          "name": "Ryanair"
         },
         "arrival": {
          "quality": [
           "Basic"
          ],
          "scheduledTimeLocal": "2021-12-02 16:00+01:00",
          "scheduledTimeUtc": "2021-12-02 15:00Z"
         },
         "codeshareStatus": "Unknown",
         "departure": {
          "airport": {
           "iata": "MRS",
           "icao": "LFML",
           "name": "Marseille"
          },
          "quality": [
           "Basic"
          ],
          "scheduledTimeLocal": "2021-12-02 13:55+01:00",
          "scheduledTimeUtc": "2021-12-02 12:55Z"
         },
         "isCargo": false,
         "number": "FR 8950",
         "status": "Unknown"
        },
        {
         "aircraft": {
          "model": "Airbus A319"
         },
         "airline": {
          "name": "Air France"
         },
         "arrival": {
          "quality": [
           "Basic"
          ],
          "scheduledTimeLocal": "2021-12-02 11:40+01:00",
          "scheduledTimeUtc": "2021-12-02 10:40Z",
          "terminal": "1"
         },
         "codeshareStatus": "Unknown",
         "departure": {
          "airport": {
           "iata": "CDG",
           "icao": "LFPG",
           "name": "Paris"
          },
          "quality": [
           "Basic"
          ],
          "scheduledTimeLocal": "2021-12-02 09:55+01:00",
          "scheduledTimeUtc": "2021-12-02 08:55Z",
          "terminal": "2F"
         },
         "isCargo": false,
         "number": "AF 1734",
         "status": "Unknown"
        },
        {
         "aircraft": {
          "model": "Airbus A320"
         },
         "airline": {
          "name": "easyJet"
         },
         "arrival": {
          "quality": [
           "Basic"
          ],
          "scheduledTimeLocal": "2021-12-02 11:35+01:00",
          "scheduledTimeUtc": "2021-12-02 10:35Z",
          "terminal": "1"
         },
         "codeshareStatus": "Unknown",
         "departure": {
          "airport": {
           "iata": "CDG",
           "icao": "LFPG",
           "name": "Paris"
          },
          "quality": [
           "Basic"
          ],
          "scheduledTimeLocal": "2021-12-02 09:45+01:00",
          "scheduledTimeUtc": "2021-12-02 08:45Z",
          "terminal": "2D"
         },
         "isCargo": false,
         "number": "U2 5652",
         "status": "Unknown"
        },
        {
         "aircraft": {
          "model": "Airbus A319"
         },
         "airline": {
          "name": "Air France"
         },
         "arrival": {
          "quality": [
           "Basic"
          ],
          "scheduledTimeLocal": "2021-12-02 14:30+01:00",
          "scheduledTimeUtc": "2021-12-02 13:30Z",
          "terminal": "1"
         },
         "codeshareStatus": "Unknown",
         "departure": {
          "airport": {
           "iata": "CDG",
           "icao": "LFPG",
           "name": "Paris"
          },
          "quality": [
           "Basic"
          ],
          "scheduledTimeLocal": "2021-12-02 12:45+01:00",
          "scheduledTimeUtc": "2021-12-02 11:45Z",
          "terminal": "2F"
         },
         "isCargo": false,
         "number": "AF 1234",
         "status": "Unknown"
        },
        {
         "aircraft": {
          "model": "Airbus A320"
         },
         "airline": {
          "name": "Air France"
         },
         "arrival": {
          "quality": [
           "Basic"
          ],
          "scheduledTimeLocal": "2021-12-02 17:10+01:00",
          "scheduledTimeUtc": "2021-12-02 16:10Z",
          "terminal": "1"
         },
         "codeshareStatus": "Unknown",
         "departure": {
          "airport": {
           "iata": "CDG",
           "icao": "LFPG",
           "name": "Paris"
          },
          "quality": [
           "Basic"
          ],
          "scheduledTimeLocal": "2021-12-02 15:30+01:00",
          "scheduledTimeUtc": "2021-12-02 14:30Z",
          "terminal": "2F"
         },
         "isCargo": false,
         "number": "AF 1834",
         "status": "Unknown"
        },
        {
         "aircraft": {
          "model": "Airbus A220-300"
         },
         "airline": {
          "name": "Air France"
         },
         "arrival": {
          "quality": [
           "Basic"
          ],
          "scheduledTimeLocal": "2021-12-02 19:35+01:00",
          "scheduledTimeUtc": "2021-12-02 18:35Z",
          "terminal": "1"
         },
         "codeshareStatus": "Unknown",
         "departure": {
          "airport": {
           "iata": "CDG",
           "icao": "LFPG",
           "name": "Paris"
          },
          "quality": [
           "Basic"
          ],
          "scheduledTimeLocal": "2021-12-02 17:50+01:00",
          "scheduledTimeUtc": "2021-12-02 16:50Z",
          "terminal": "2F"
         },
         "isCargo": false,
         "number": "AF 1534",
         "status": "Unknown"
        },
        {
         "aircraft": {
          "model": "Airbus A318"
         },
         "airline": {
          "name": "Air France"
         },
         "arrival": {
          "quality": [
           "Basic"
          ],
          "scheduledTimeLocal": "2021-12-02 08:55+01:00",
          "scheduledTimeUtc": "2021-12-02 07:55Z",
          "terminal": "1"
         },
         "codeshareStatus": "Unknown",
         "departure": {
          "airport": {
           "iata": "ORY",
           "icao": "LFPO",
           "name": "Paris"
          },
          "quality": [
           "Basic"
          ],
          "scheduledTimeLocal": "2021-12-02 07:00+01:00",
          "scheduledTimeUtc": "2021-12-02 06:00Z",
          "terminal": "3"
         },
         "isCargo": false,
         "number": "AF 7354",
         "status": "Unknown"
        },
        {
         "aircraft": {
          "model": "Airbus A320"
         },
         "airline": {
          "name": "easyJet"
         },
         "arrival": {
          "quality": [
           "Basic"
          ],
          "scheduledTimeLocal": "2021-12-02 14:35+01:00",
          "scheduledTimeUtc": "2021-12-02 13:35Z",
          "terminal": "1"
         },
         "codeshareStatus": "Unknown",
         "departure": {
          "airport": {
           "iata": "ORY",
           "icao": "LFPO",
           "name": "Paris"
          },
          "quality": [
           "Basic"
          ],
          "scheduledTimeLocal": "2021-12-02 12:50+01:00",
          "scheduledTimeUtc": "2021-12-02 11:50Z",
          "terminal": "1"
         },
         "isCargo": false,
         "number": "U2 5536",
         "status": "Unknown"
        },
        {
         "aircraft": {
          "model": "Airbus A320"
         },
         "airline": {
          "name": "Aegean"
         },
         "arrival": {
          "quality": [
           "Basic"
          ],
          "scheduledTimeLocal": "2021-12-02 10:50+01:00",
          "scheduledTimeUtc": "2021-12-02 09:50Z",
          "terminal": "1"
         },
         "codeshareStatus": "Unknown",
         "departure": {
          "actualTimeLocal": "2021-12-02 08:55+02:00",
          "actualTimeUtc": "2021-12-02 06:55Z",
          "airport": {
           "iata": "ATH",
           "icao": "LGAV",
           "name": "Athens"
          },
          "quality": [
           "Basic",
           "Live"
          ],
          "scheduledTimeLocal": "2021-12-02 08:55+02:00",
          "scheduledTimeUtc": "2021-12-02 06:55Z",
          "terminal": "D"
         },
         "isCargo": false,
         "number": "A3 820",
         "status": "Unknown"
        },
        {
         "aircraft": {
          "model": "Boeing 787-8"
         },
         "airline": {
          "name": "Scoot"
         },
         "arrival": {
          "quality": [
           "Basic"
          ],
          "scheduledTimeLocal": "2021-12-02 10:20+01:00",
          "scheduledTimeUtc": "2021-12-02 09:20Z",
          "terminal": "1"
         },
         "codeshareStatus": "Unknown",
         "departure": {
          "actualTimeLocal": "2021-12-02 08:20+02:00",
          "actualTimeUtc": "2021-12-02 06:20Z",
          "airport": {
           "iata": "ATH",
           "icao": "LGAV",
           "name": "Athens"
          },
          "checkInDesk": "153--157",
          "quality": [
           "Basic",
           "Live"
          ],
          "scheduledTimeLocal": "2021-12-02 08:20+02:00",
          "scheduledTimeUtc": "2021-12-02 06:20Z",
          "terminal": "I"
         },
         "isCargo": false,
         "number": "TR 722",
         "status": "Unknown"
        },
        {
         "aircraft": {
          "model": "Boeing 737-800"
         },
         "airline": {
          "name": "Ryanair"
         },
         "arrival": {
          "quality": [
           "Basic"
          ],
          "scheduledTimeLocal": "2021-12-02 12:45+01:00",
          "scheduledTimeUtc": "2021-12-02 11:45Z"
         },
         "codeshareStatus": "Unknown",
         "departure": {
          "airport": {
           "iata": "ATH",
           "icao": "LGAV",
           "name": "Athens"
          },
          "quality": [
           "Basic"
          ],
          "scheduledTimeLocal": "2021-12-02 10:45+02:00",
          "scheduledTimeUtc": "2021-12-02 08:45Z"
         },
         "isCargo": false,
         "number": "FR 171",
         "status": "Unknown"
        },
        {
         "aircraft": {
          "model": "Boeing 737-800"
         },
         "airline": {
          "name": "Ryanair"
         },
         "arrival": {
          "quality": [
           "Basic"
          ],
          "scheduledTimeLocal": "2021-12-02 09:30+01:00",
          "scheduledTimeUtc": "2021-12-02 08:30Z"
         },
         "codeshareStatus": "Unknown",
         "departure": {
          "actualTimeLocal": "2021-12-02 08:00+01:00",
          "actualTimeUtc": "2021-12-02 07:00Z",
          "airport": {
           "iata": "BUD",
           "icao": "LHBP",
           "name": "Budapest"
          },
          "quality": [
           "Basic",
           "Live"
          ],
          "scheduledTimeLocal": "2021-12-02 08:00+01:00",
          "scheduledTimeUtc": "2021-12-02 07:00Z",
          "terminal": "2B"
         },
         "isCargo": false,
         "number": "FR 197",
         "status": "Unknown"
        },
        {
         "aircraft": {
          "model": "Airbus A320"
         },
         "airline": {
          "name": "Wizz Air"
         },
         "arrival": {
          "quality": [
           "Basic"
          ],
          "scheduledTimeLocal": "2021-12-02 15:30+01:00",
          "scheduledTimeUtc": "2021-12-02 14:30Z",
          "terminal": "0"
         },
         "codeshareStatus": "Unknown",
         "departure": {
          "actualTimeLocal": "2021-12-02 14:00+01:00",
          "actualTimeUtc": "2021-12-02 13:00Z",
          "airport": {
           "iata": "BUD",
           "icao": "LHBP",
           "name": "Budapest"
          },
          "quality": [
           "Basic",
           "Live"
          ],
          "scheduledTimeLocal": "2021-12-02 14:00+01:00",
          "scheduledTimeUtc": "2021-12-02 13:00Z",
          "terminal": "2B"
         },
         "isCargo": false,
         "number": "W6 2315",
         "status": "Unknown"
        },
        {
         "aircraft": {
          "model": "Airbus A320"
         },
         "airline": {
          "name": "easyJet"
         },
         "arrival": {
          "quality": [
           "Basic"
          ],
          "scheduledTimeLocal": "2021-12-02 13:05+01:00",
          "scheduledTimeUtc": "2021-12-02 12:05Z",
          "terminal": "1"
         },
         "codeshareStatus": "Unknown",
         "departure": {
          "airport": {
           "iata": "CTA",
           "icao": "LICC",
           "name": "Catania"
          },
          "quality": [
           "Basic"
          ],
          "scheduledTimeLocal": "2021-12-02 10:10+01:00",
          "scheduledTimeUtc": "2021-12-02 09:10Z"
         },
         "isCargo": false,
         "number": "U2 5694",
         "status": "Unknown"
        },
        {
         "aircraft": {
          "model": "Airbus A320"
         },
         "airline": {
          "name": "easyJet"
         },
         "arrival": {
          "quality": [
           "Basic"
          ],
          "scheduledTimeLocal": "2021-12-02 11:25+01:00",
          "scheduledTimeUtc": "2021-12-02 10:25Z",
          "terminal": "1"
         },
         "codeshareStatus": "Unknown",
         "departure": {
          "airport": {
           "iata": "MXP",
           "icao": "LIMC",
           "name": "Milan"
          },
          "quality": [
           "Basic"
          ],
          "scheduledTimeLocal": "2021-12-02 09:35+01:00",
          "scheduledTimeUtc": "2021-12-02 08:35Z",
          "terminal": "1"
         },
         "isCargo": false,
         "number": "U2 4672",
         "status": "Unknown"
        },
        {
         "aircraft": {
          "model": "Boeing 737-800"
         },
         "airline": {
          "name": "Ryanair"
         },
         "arrival": {
          "quality": [
           "Basic"
          ],
          "scheduledTimeLocal": "2021-12-02 13:55+01:00",
          "scheduledTimeUtc": "2021-12-02 12:55Z"
         },
         "codeshareStatus": "Unknown",
         "departure": {
          "airport": {
           "iata": "MXP",
           "icao": "LIMC",
           "name": "Milan"
          },
          "quality": [
           "Basic"
          ],
          "scheduledTimeLocal": "2021-12-02 12:15+01:00",
          "scheduledTimeUtc": "2021-12-02 11:15Z"
         },
         "isCargo": false,
         "number": "FR 9",
         "status": "Unknown"
        },
        {
         "aircraft": {
          "model": "Boeing 737-800"
         },
         "airline": {
          "name": "Ryanair"
         },
         "arrival": {
          "quality": [
           "Basic"
          ],
          "scheduledTimeLocal": "2021-12-02 10:40+01:00",
          "scheduledTimeUtc": "2021-12-02 09:40Z"
         },
         "codeshareStatus": "Unknown",
         "departure": {
          "airport": {
           "iata": "BGY",
           "icao": "LIME",
           "name": "Bergamo"
          },
          "quality": [
           "Basic"
          ],
          "scheduledTimeLocal": "2021-12-02 08:55+01:00",
          "scheduledTimeUtc": "2021-12-02 07:55Z"
         },
         "isCargo": false,
         "number": "FR 4731",
         "status": "Unknown"
        },
        {
         "aircraft": {
          "model": "Airbus A319"
         },
         "airline": {
          "name": "easyJet"
         },
         "arrival": {
          "quality": [
           "Basic"
          ],
          "scheduledTimeLocal": "2021-12-02 15:50+01:00",
          "scheduledTimeUtc": "2021-12-02 14:50Z",
          "terminal": "1"
         },
         "codeshareStatus": "Unknown",
         "departure": {
          "airport": {
           "iata": "LIN",
           "icao": "LIML",
           "name": "Milan"
          },
          "quality": [
           "Basic"
          ],
          "scheduledTimeLocal": "2021-12-02 14:00+01:00",
          "scheduledTimeUtc": "2021-12-02 13:00Z"
         },
         "isCargo": false,
         "number": "U2 4662",
         "status": "Unknown"
        },
        {
         "aircraft": {
          "model": "Boeing 737-800"
         },
         "airline": {
          "name": "Ryanair"
         },
         "arrival": {
          "quality": [
           "Basic"
          ],
          "scheduledTimeLocal": "2021-12-02 15:05+01:00",
          "scheduledTimeUtc": "2021-12-02 14:05Z"
         },
         "codeshareStatus": "Unknown",
         "departure": {
          "airport": {
           "iata": "TSF",
           "icao": "LIPH",
           "name": "Treviso"
          },
          "quality": [
           "Basic"
          ],
          "scheduledTimeLocal": "2021-12-02 13:30+01:00",
          "scheduledTimeUtc": "2021-12-02 12:30Z"
         },
         "isCargo": false,
         "number": "FR 4721",
         "status": "Unknown"
        },
        {
         "aircraft": {
          "model": "Boeing 737-800"
         },
         "airline": {
          "name": "Ryanair"
         },
         "arrival": {
          "quality": [
           "Basic"
          ],
          "scheduledTimeLocal": "2021-12-02 11:05+01:00",
          "scheduledTimeUtc": "2021-12-02 10:05Z"
         },
         "codeshareStatus": "Unknown",
         "departure": {
          "airport": {
           "iata": "CIA",
           "icao": "LIRA",
           "name": "Roma"
          },
          "quality": [
           "Basic"
          ],
          "scheduledTimeLocal": "2021-12-02 08:55+01:00",
          "scheduledTimeUtc": "2021-12-02 07:55Z"
         },
         "isCargo": false,
         "number": "FR 135",
         "status": "Unknown"
        },
        {
         "aircraft": {
          "model": "Boeing 737-800"
         },
         "airline": {
          "name": "Ryanair"
         },
         "arrival": {
          "quality": [
           "Basic"
          ],
          "scheduledTimeLocal": "2021-12-02 19:55+01:00",
          "scheduledTimeUtc": "2021-12-02 18:55Z"
         },
         "codeshareStatus": "Unknown",
         "departure": {
          "airport": {
           "iata": "CIA",
           "icao": "LIRA",
           "name": "Roma"
          },
          "quality": [
           "Basic"
          ],
          "scheduledTimeLocal": "2021-12-02 17:45+01:00",
          "scheduledTimeUtc": "2021-12-02 16:45Z"
         },
         "isCargo": false,
         "number": "FR 141",
         "status": "Unknown"
        },
        {
         "aircraft": {
          "model": "Airbus A320"
         },
         "airline": {
          "name": "easyJet"
         },
         "arrival": {
          "quality": [
           "Basic"
          ],
          "scheduledTimeLocal": "2021-12-02 13:10+01:00",
          "scheduledTimeUtc": "2021-12-02 12:10Z",
          "terminal": "1"
         },
         "codeshareStatus": "Unknown",
         "departure": {
          "airport": {
           "iata": "NAP",
           "icao": "LIRN",
           "name": "Nápoli"
          },
          "quality": [
           "Basic"
          ],
          "scheduledTimeLocal": "2021-12-02 10:50+01:00",
          "scheduledTimeUtc": "2021-12-02 09:50Z"
         },
         "isCargo": false,
         "number": "U2 5142",
         "status": "Unknown"
        },
        {
         "aircraft": {
          "model": "Boeing 737-800"
         },
         "airline": {
          "name": "Israir"
         },
         "arrival": {
          "quality": [
           "Basic"
          ],
          "scheduledTimeLocal": "2021-12-02 13:35+01:00",
          "scheduledTimeUtc": "2021-12-02 12:35Z",
          "terminal": "0"
         },
         "codeshareStatus": "Unknown",
         "departure": {
          "airport": {
           "iata": "TLV",
           "icao": "LLBG",
           "name": "Tel Aviv Yafo"
          },
          "quality": [
           "Basic"
          ],
          "scheduledTimeLocal": "2021-12-02 10:10+02:00",
          "scheduledTimeUtc": "2021-12-02 08:10Z",
          "terminal": "3"
         },
         "isCargo": false,
         "number": "6H 253",
         "status": "Unknown"
        },
        {
         "aircraft": {
          "model": "Boeing 737-800"
         },
         "airline": {
          "name": "Ryanair"
         },
         "arrival": {
          "quality": [
           "Basic"
          ],
          "scheduledTimeLocal": "2021-12-02 15:30+01:00",
          "scheduledTimeUtc": "2021-12-02 14:30Z"
         },
         "codeshareStatus": "Unknown",
         "departure": {
          "airport": {
           "iata": "TLV",
           "icao": "LLBG",
           "name": "Tel Aviv Yafo"
          },
          "quality": [
           "Basic"
          ],
          "scheduledTimeLocal": "2021-12-02 12:15+02:00",
          "scheduledTimeUtc": "2021-12-02 10:15Z"
         },
         "isCargo": false,
         "number": "FR 6473",
         "status": "Unknown"
        },
        {
         "aircraft": {
          "model": "Boeing 737-900"
         },
         "airline": {
          "name": "El Al"
         },
         "arrival": {
          "quality": [
           "Basic"
          ],
          "scheduledTimeLocal": "2021-12-02 19:50+01:00",
          "scheduledTimeUtc": "2021-12-02 18:50Z",
          "terminal": "1"
         },
         "codeshareStatus": "Unknown",
         "departure": {
          "airport": {
           "iata": "TLV",
           "icao": "LLBG",
           "name": "Tel Aviv Yafo"
          },
          "quality": [
           "Basic"
          ],
          "scheduledTimeLocal": "2021-12-02 16:20+02:00",
          "scheduledTimeUtc": "2021-12-02 14:20Z",
          "terminal": "3"
         },
         "isCargo": false,
         "number": "LY 2373",
         "status": "Unknown"
        },
        {
         "aircraft": {
          "model": "Embraer 195"
         },
         "airline": {
          "name": "Austrian"
         },
         "arrival": {
          "quality": [
           "Basic"
          ],
          "scheduledTimeLocal": "2021-12-02 10:25+01:00",
          "scheduledTimeUtc": "2021-12-02 09:25Z",
          "terminal": "1"
         },
         "codeshareStatus": "Unknown",
         "departure": {
          "actualTimeLocal": "2021-12-02 09:10+01:00",
          "actualTimeUtc": "2021-12-02 08:10Z",
          "airport": {
           "iata": "VIE",
           "icao": "LOWW",
           "name": "Vienna"
          },
          "checkInDesk": "351-378",
          "quality": [
           "Basic",
           "Live"
          ],
          "scheduledTimeLocal": "2021-12-02 09:10+01:00",
          "scheduledTimeUtc": "2021-12-02 08:10Z",
          "terminal": "T3"
         },
         "isCargo": false,
         "number": "OS 225",
         "status": "Unknown"
        },
        {
         "aircraft": {
          "model": "Airbus A320"
         },
         "airline": {
          "name": "Austrian"
         },
         "arrival": {
          "quality": [
           "Basic"
          ],
          "scheduledTimeLocal": "2021-12-02 18:40+01:00",
          "scheduledTimeUtc": "2021-12-02 17:40Z",
          "terminal": "1"
         },
         "codeshareStatus": "Unknown",
         "departure": {
          "airport": {
           "iata": "VIE",
           "icao": "LOWW",
           "name": "Vienna"
          },
          "quality": [
           "Basic"
          ],
          "scheduledTimeLocal": "2021-12-02 17:25+01:00",
          "scheduledTimeUtc": "2021-12-02 16:25Z",
          "terminal": "3"
         },
         "isCargo": false,
         "number": "OS 235",
         "status": "Unknown"
        },
        {
         "aircraft": {
          "model": "Airbus A320 NEO"
         },
         "airline": {
          "name": "TAP Air Portugal"
         },
         "arrival": {
          "quality": [
           "Basic"
          ],
          "scheduledTimeLocal": "2021-12-02 16:35+01:00",
          "scheduledTimeUtc": "2021-12-02 15:35Z",
          "terminal": "1"
         },
         "codeshareStatus": "Unknown",
         "departure": {
          "actualTimeLocal": "2021-12-02 12:05+00:00",
          "actualTimeUtc": "2021-12-02 12:05Z",
          "airport": {
           "iata": "LIS",
           "icao": "LPPT",
           "name": "Lisbon"
          },
          "quality": [
           "Basic",
           "Live"
          ],
          "scheduledTimeLocal": "2021-12-02 12:05+00:00",
          "scheduledTimeUtc": "2021-12-02 12:05Z",
          "terminal": "T1"
         },
         "isCargo": false,
         "number": "TP 534",
         "status": "Unknown"
        },
        {
         "aircraft": {
          "model": "Airbus A320"
         },
         "airline": {
          "name": "easyJet"
         },
         "arrival": {
          "quality": [
           "Basic"
          ],
          "scheduledTimeLocal": "2021-12-02 11:20+01:00",
          "scheduledTimeUtc": "2021-12-02 10:20Z",
          "terminal": "1"
         },
         "codeshareStatus": "Unknown",
         "departure": {
          "airport": {
           "iata": "GVA",
           "icao": "LSGG",
           "name": "Geneva"
          },
          "quality": [
           "Basic"
          ],
          "scheduledTimeLocal": "2021-12-02 09:35+01:00",
          "scheduledTimeUtc": "2021-12-02 08:35Z",
          "terminal": "1"
         },
         "isCargo": false,
         "number": "U2 1591",
         "status": "Unknown"
        },
        {
         "aircraft": {
          "model": "Airbus A320"
         },
         "airline": {
          "name": "SWISS"
         },
         "arrival": {
          "quality": [
           "Basic"
          ],
          "scheduledTimeLocal": "2021-12-02 08:45+01:00",
          "scheduledTimeUtc": "2021-12-02 07:45Z",
          "terminal": "1"
         },
         "codeshareStatus": "Unknown",
         "departure": {
          "actualTimeLocal": "2021-12-02 07:15+01:00",
          "actualTimeUtc": "2021-12-02 06:15Z",
          "airport": {
           "iata": "ZRH",
           "icao": "LSZH",
           "name": "Zurich"
          },
          "checkInDesk": "1",
          "quality": [
           "Basic",
           "Live"
          ],
          "scheduledTimeLocal": "2021-12-02 07:15+01:00",
          "scheduledTimeUtc": "2021-12-02 06:15Z"
         },
         "isCargo": false,
         "number": "LX 974",
         "status": "Unknown"
        },
        {
         "aircraft": {
          "model": "Airbus A320 NEO"
         },
         "airline": {
          "name": "SWISS"
         },
         "arrival": {
          "quality": [
           "Basic"
          ],
          "scheduledTimeLocal": "2021-12-02 14:00+01:00",
          "scheduledTimeUtc": "2021-12-02 13:00Z",
          "terminal": "1"
         },
         "codeshareStatus": "Unknown",
         "departure": {
          "actualTimeLocal": "2021-12-02 12:35+01:00",
          "actualTimeUtc": "2021-12-02 11:35Z",
          "airport": {
           "iata": "ZRH",
           "icao": "LSZH",
           "name": "Zurich"
          },
          "checkInDesk": "1",
          "quality": [
           "Basic",
           "Live"
          ],
          "scheduledTimeLocal": "2021-12-02 12:35+01:00",
          "scheduledTimeUtc": "2021-12-02 11:35Z"
         },
         "isCargo": false,
         "number": "LX 966",
         "status": "Unknown"
        },
        {
         "aircraft": {
          "model": "Airbus A220-300"
         },
         "airline": {
          "name": "SWISS"
         },
         "arrival": {
          "quality": [
           "Basic"
          ],
          "scheduledTimeLocal": "2021-12-02 18:05+01:00",
          "scheduledTimeUtc": "2021-12-02 17:05Z",
          "terminal": "1"
         },
         "codeshareStatus": "Unknown",
         "departure": {
          "actualTimeLocal": "2021-12-02 16:40+01:00",
          "actualTimeUtc": "2021-12-02 15:40Z",
          "airport": {
           "iata": "ZRH",
           "icao": "LSZH",
           "name": "Zurich"
          },
          "checkInDesk": "1",
          "quality": [
           "Basic",
           "Live"
          ],
          "scheduledTimeLocal": "2021-12-02 16:40+01:00",
          "scheduledTimeUtc": "2021-12-02 15:40Z"
         },
         "isCargo": false,
         "number": "LX 970",
         "status": "Unknown"
        },
        {
         "aircraft": {
          "model": "Airbus A320 NEO"
         },
         "airline": {
          "name": "SWISS"
         },
         "arrival": {
          "quality": [
           "Basic"
          ],
          "scheduledTimeLocal": "2021-12-02 19:45+01:00",
          "scheduledTimeUtc": "2021-12-02 18:45Z",
          "terminal": "1"
         },
         "codeshareStatus": "Unknown",
         "departure": {
          "actualTimeLocal": "2021-12-02 18:20+01:00",
          "actualTimeUtc": "2021-12-02 17:20Z",
          "airport": {
           "iata": "ZRH",
           "icao": "LSZH",
           "name": "Zurich"
          },
          "checkInDesk": "1",
          "quality": [
           "Basic",
           "Live"
          ],
          "scheduledTimeLocal": "2021-12-02 18:20+01:00",
          "scheduledTimeUtc": "2021-12-02 17:20Z"
         },
         "isCargo": false,
         "number": "LX 978",
         "status": "Unknown"
        },
        {
         "aircraft": {
          "model": "Boeing 737-800"
         },
         "airline": {
          "name": "SunExpress"
         },
         "arrival": {
          "quality": [
           "Basic"
          ],
          "scheduledTimeLocal": "2021-12-02 12:35+01:00",
          "scheduledTimeUtc": "2021-12-02 11:35Z",
          "terminal": "1"
         },
         "codeshareStatus": "Unknown",
         "departure": {
          "actualTimeLocal": "2021-12-02 11:00+03:00",
          "actualTimeUtc": "2021-12-02 08:00Z",
          "airport": {
           "iata": "AYT",
           "icao": "LTAI",
           "name": "Antalya"
          },
          "quality": [
           "Basic",
           "Live"
          ],
          "scheduledTimeLocal": "2021-12-02 11:00+03:00",
          "scheduledTimeUtc": "2021-12-02 08:00Z",
          "terminal": "1"
         },
         "isCargo": false,
         "number": "XQ 160",
         "status": "Unknown"
        },
        {
         "aircraft": {
          "model": "Airbus A320"
         },
         "airline": {
          "name": "Pegasus"
         },
         "arrival": {
          "quality": [
           "Basic"
          ],
          "scheduledTimeLocal": "2021-12-02 11:00+01:00",
          "scheduledTimeUtc": "2021-12-02 10:00Z",
          "terminal": "0"
         },
         "codeshareStatus": "Unknown",
         "departure": {
          "airport": {
           "iata": "SAW",
           "icao": "LTFJ",
           "name": "Istanbul"
          },
          "quality": [
           "Basic"
          ],
          "scheduledTimeLocal": "2021-12-02 09:55+03:00",
          "scheduledTimeUtc": "2021-12-02 06:55Z"
         },
         "isCargo": false,
         "number": "PC 977",
         "status": "Unknown"
        },
        {
         "aircraft": {
          "model": "Boeing 737-800"
         },
         "airline": {
          "name": "Turkish"
         },
         "arrival": {
          "quality": [
           "Basic"
          ],
          "scheduledTimeLocal": "2021-12-02 12:30+01:00",
          "scheduledTimeUtc": "2021-12-02 11:30Z",
          "terminal": "1"
         },
         "codeshareStatus": "Unknown",
         "departure": {
          "airport": {
           "iata": "SAW",
           "icao": "LTFJ",
           "name": "Istanbul"
          },
          "quality": [
           "Basic"
          ],
          "scheduledTimeLocal": "2021-12-02 11:30+03:00",
          "scheduledTimeUtc": "2021-12-02 08:30Z"
         },
         "isCargo": false,
         "number": "TK 7728",
         "status": "Unknown"
        },
        {
         "aircraft": {
          "model": "Airbus A330-300"
         },
         "airline": {
          "name": "Turkish"
         },
         "arrival": {
          "quality": [
           "Basic"
          ],
          "scheduledTimeLocal": "2021-12-02 09:35+01:00",
          "scheduledTimeUtc": "2021-12-02 08:35Z",
          "terminal": "1"
         },
         "codeshareStatus": "Unknown",
         "departure": {
          "airport": {
           "iata": "IST",
           "icao": "LTFM",
           "name": "Istanbul"
          },
          "quality": [
           "Basic"
          ],
          "scheduledTimeLocal": "2021-12-02 08:55+03:00",
          "scheduledTimeUtc": "2021-12-02 05:55Z"
         },
         "isCargo": false,
         "number": "TK 1721",
         "status": "Unknown"
        },
        {
         "aircraft": {
          "model": "Airbus A321"
         },
         "airline": {
          "name": "Turkish"
         },
         "arrival": {
          "quality": [
           "Basic"
          ],
          "scheduledTimeLocal": "2021-12-02 13:30+01:00",
          "scheduledTimeUtc": "2021-12-02 12:30Z",
          "terminal": "1"
         },
         "codeshareStatus": "Unknown",
         "departure": {
          "airport": {
           "iata": "IST",
           "icao": "LTFM",
           "name": "Istanbul"
          },
          "quality": [
           "Basic"
          ],
          "scheduledTimeLocal": "2021-12-02 12:40+03:00",
          "scheduledTimeUtc": "2021-12-02 09:40Z"
         },
         "isCargo": false,
         "number": "TK 1725",
         "status": "Unknown"
        },
        {
         "aircraft": {
          "model": "Airbus A321"
         },
         "airline": {
          "name": "Turkish"
         },
         "arrival": {
          "quality": [
           "Basic"
          ],
          "scheduledTimeLocal": "2021-12-02 17:30+01:00",
          "scheduledTimeUtc": "2021-12-02 16:30Z",
          "terminal": "1"
         },
         "codeshareStatus": "Unknown",
         "departure": {
          "airport": {
           "iata": "IST",
           "icao": "LTFM",
           "name": "Istanbul"
          },
          "quality": [
           "Basic"
          ],
          "scheduledTimeLocal": "2021-12-02 16:40+03:00",
          "scheduledTimeUtc": "2021-12-02 13:40Z"
         },
         "isCargo": false,
         "number": "TK 1723",
         "status": "Unknown"
        },
        {
         "aircraft": {
          "model": "Airbus A320"
         },
         "airline": {
          "name": "Air Serbia"
         },
         "arrival": {
          "quality": [
           "Basic"
          ],
          "scheduledTimeLocal": "2021-12-02 09:00+01:00",
          "scheduledTimeUtc": "2021-12-02 08:00Z",
          "terminal": "1"
         },
         "codeshareStatus": "Unknown",
         "departure": {
          "airport": {
           "iata": "BEG",
           "icao": "LYBE",
           "name": "Belgrade"
          },
          "quality": [
           "Basic"
          ],
          "scheduledTimeLocal": "2021-12-02 07:10+01:00",
          "scheduledTimeUtc": "2021-12-02 06:10Z",
          "terminal": "2"
         },
         "isCargo": false,
         "number": "JU 350",
         "status": "Unknown"
        },
        {
         "aircraft": {
          "model": "Boeing 737-800"
         },
         "airline": {
          "name": "Ryanair"
         },
         "arrival": {
          "quality": [
           "Basic"
          ],
          "scheduledTimeLocal": "2021-12-02 17:35+01:00",
          "scheduledTimeUtc": "2021-12-02 16:35Z"
         },
         "codeshareStatus": "Unknown",
         "departure": {
          "airport": {
           "iata": "INI",
           "icao": "LYNI",
           "name": "Niš"
          },
          "quality": [
           "Basic"
          ],
          "scheduledTimeLocal": "2021-12-02 15:30+01:00",
          "scheduledTimeUtc": "2021-12-02 14:30Z"
         },
         "isCargo": false,
         "number": "FR 1106",
         "status": "Unknown"
        },
        {
         "aircraft": {
          "model": "Boeing 737-800"
         },
         "airline": {
          "name": "Ryanair"
         },
         "arrival": {
          "quality": [
           "Basic"
          ],
          "scheduledTimeLocal": "2021-12-02 12:25+01:00",
          "scheduledTimeUtc": "2021-12-02 11:25Z"
         },
         "codeshareStatus": "Unknown",
         "departure": {
          "airport": {
           "iata": "TGD",
           "icao": "LYPG",
           "name": "Podgorica"
          },
          "quality": [
           "Basic"
          ],
          "scheduledTimeLocal": "2021-12-02 10:15+01:00",
          "scheduledTimeUtc": "2021-12-02 09:15Z"
         },
         "isCargo": false,
         "number": "FR 1579",
         "status": "Unknown"
        },
        {
         "aircraft": {
          "model": "Boeing 787-9"
         },
         "airline": {
          "name": "Qatar Airways"
         },
         "arrival": {
          "quality": [
           "Basic"
          ],
          "scheduledTimeLocal": "2021-12-02 12:40+01:00",
          "scheduledTimeUtc": "2021-12-02 11:40Z",
          "terminal": "1"
         },
         "codeshareStatus": "Unknown",
         "departure": {
          "airport": {
           "iata": "DOH",
           "icao": "OTHH",
           "name": "Doha"
          },
          "quality": [
           "Basic"
          ],
          "scheduledTimeLocal": "2021-12-02 08:20+03:00",
          "scheduledTimeUtc": "2021-12-02 05:20Z"
         },
         "isCargo": false,
         "number": "QR 81",
         "status": "Unknown"
        },
        {
         "aircraft": {
          "model": "Boeing 737-800"
         },
         "airline": {
          "name": "UIA"
         },
         "arrival": {
          "quality": [
           "Basic"
          ],
          "scheduledTimeLocal": "2021-12-02 12:05+01:00",
          "scheduledTimeUtc": "2021-12-02 11:05Z",
          "terminal": "1"
         },
         "codeshareStatus": "Unknown",
         "departure": {
          "actualTimeLocal": "2021-12-02 10:55+02:00",
          "actualTimeUtc": "2021-12-02 08:55Z",
          "airport": {
           "iata": "KBP",
           "icao": "UKBB",
           "name": "Kiev"
          },
          "quality": [
           "Basic",
           "Live"
          ],
          "scheduledTimeLocal": "2021-12-02 10:55+02:00",
          "scheduledTimeUtc": "2021-12-02 08:55Z",
          "terminal": "D"
         },
         "isCargo": false,
         "number": "PS 423",
         "status": "Unknown"
        },
        {
         "aircraft": {
          "model": "Airbus A320"
         },
         "airline": {
          "name": "Wizz Air"
         },
         "arrival": {
          "quality": [
           "Basic"
          ],
          "scheduledTimeLocal": "2021-12-02 18:45+01:00",
          "scheduledTimeUtc": "2021-12-02 17:45Z",
          "terminal": "0"
         },
         "codeshareStatus": "Unknown",
         "departure": {
          "airport": {
           "iata": "IEV",
           "icao": "UKKK",
           "name": "Kiev"
          },
          "quality": [
           "Basic"
          ],
          "scheduledTimeLocal": "2021-12-02 17:30+02:00",
          "scheduledTimeUtc": "2021-12-02 15:30Z",
          "terminal": "A"
         },
         "isCargo": false,
         "number": "W6 6113",
         "status": "Unknown"
        },
        {
         "aircraft": {
          "model": "Embraer 190"
         },
         "airline": {
          "name": "Pegas Fly"
         },
         "arrival": {
          "quality": [
           "Basic"
          ],
          "scheduledTimeLocal": "2021-12-02 14:45+01:00",
          "scheduledTimeUtc": "2021-12-02 13:45Z",
          "terminal": "1"
         },
         "codeshareStatus": "Unknown",
         "departure": {
          "actualTimeLocal": "2021-12-02 14:25+03:00",
          "actualTimeUtc": "2021-12-02 11:25Z",
          "airport": {
           "iata": "LED",
           "icao": "ULLI",
           "name": "Saint-Petersburg"
          },
          "checkInDesk": "A401-A402",
          "quality": [
           "Basic",
           "Live"
          ],
          "scheduledTimeLocal": "2021-12-02 14:25+03:00",
          "scheduledTimeUtc": "2021-12-02 11:25Z",
          "terminal": "1"
         },
         "isCargo": false,
         "number": "EO 1909",
         "status": "Unknown"
        },
        {
         "aircraft": {
          "model": "Boeing 737-800"
         },
         "airline": {
          "name": "Aeroflot"
         },
         "arrival": {
          "quality": [
           "Basic"
          ],
          "scheduledTimeLocal": "2021-12-02 12:55+01:00",
          "scheduledTimeUtc": "2021-12-02 11:55Z",
          "terminal": "1"
         },
         "codeshareStatus": "IsOperator",
         "departure": {
          "actualTimeLocal": "2021-12-02 12:00+03:00",
          "actualTimeUtc": "2021-12-02 09:00Z",
          "airport": {
           "iata": "SVO",
           "icao": "UUEE",
           "name": "Moscow"
          },
          "quality": [
           "Basic",
           "Live"
          ],
          "scheduledTimeLocal": "2021-12-02 12:00+03:00",
          "scheduledTimeUtc": "2021-12-02 09:00Z",
          "terminal": "C"
         },
         "isCargo": false,
         "number": "SU 2662",
         "status": "Unknown"
        }
       ]
      },
      "text/plain": [
       "<IPython.core.display.JSON object>"
      ]
     },
     "execution_count": 80,
     "metadata": {
      "application/json": {
       "expanded": false,
       "root": "root"
      }
     },
     "output_type": "execute_result"
    }
   ],
   "source": [
    "JSON(flight_data.json())"
   ]
  },
  {
   "cell_type": "code",
   "execution_count": null,
   "id": "76e8ac82-2cf4-4cec-aa9e-476841232204",
   "metadata": {},
   "outputs": [],
   "source": [
    "flight_data = get_flight_data('EDDB')"
   ]
  },
  {
   "cell_type": "code",
   "execution_count": 84,
   "id": "133648e0-9910-4305-9865-901ca055b3be",
   "metadata": {
    "collapsed": true,
    "jupyter": {
     "outputs_hidden": true
    },
    "tags": []
   },
   "outputs": [
    {
     "name": "stdout",
     "output_type": "stream",
     "text": [
      "   scheduled_arrival_time flight_number dep_airport terminal  airline  \\\n",
      "0  2021-12-02 09:45+01:00       U2 5698      Aarhus        1  easyJet   \n",
      "\n",
      "      aircraft icao_code  \n",
      "0  Airbus A319      EDDB  \n",
      "   scheduled_arrival_time flight_number dep_airport terminal     airline  \\\n",
      "0  2021-12-02 14:25+01:00        BT 821      Tallin        1  Air Baltic   \n",
      "\n",
      "          aircraft icao_code  \n",
      "0  Airbus A220-300      EDDB  \n",
      "   scheduled_arrival_time flight_number dep_airport terminal   airline  \\\n",
      "0  2021-12-02 14:20+01:00        OS 229      Vienna        1  Austrian   \n",
      "\n",
      "      aircraft icao_code  \n",
      "0  Airbus A321      EDDB  \n",
      "   scheduled_arrival_time flight_number  dep_airport terminal    airline  \\\n",
      "0  2021-12-02 17:55+01:00       EW 8045  Duesseldorf        1  Eurowings   \n",
      "\n",
      "      aircraft icao_code  \n",
      "0  Airbus A320      EDDB  \n",
      "   scheduled_arrival_time flight_number dep_airport terminal    airline  \\\n",
      "0  2021-12-02 17:40+01:00       LH 1946      Munich        1  Lufthansa   \n",
      "\n",
      "            aircraft icao_code  \n",
      "0  Bombardier CRJ900      EDDB  \n",
      "   scheduled_arrival_time flight_number dep_airport terminal airline  \\\n",
      "0  2021-12-02 17:40+01:00       NO 9070       Milan        0    Neos   \n",
      "\n",
      "     aircraft icao_code  \n",
      "0  Boeing 737      EDDB  \n",
      "   scheduled_arrival_time flight_number dep_airport terminal     airline  \\\n",
      "0  2021-12-02 12:10+01:00        FI 528   Reykjavik        1  Icelandair   \n",
      "\n",
      "         aircraft icao_code  \n",
      "0  Boeing 757-300      EDDB  \n",
      "   scheduled_arrival_time flight_number dep_airport terminal  \\\n",
      "0  2021-12-02 20:00+01:00        OG 704   Reykjavik        1   \n",
      "\n",
      "                airline     aircraft icao_code  \n",
      "0  Ghodawat Enterprises  Airbus A320      EDDB  \n",
      "   scheduled_arrival_time flight_number dep_airport terminal   airline  \\\n",
      "0  2021-12-02 11:15+01:00       SN 2581    Brussels        1  Brussels   \n",
      "\n",
      "      aircraft icao_code  \n",
      "0  Airbus A319      EDDB  \n",
      "   scheduled_arrival_time flight_number dep_airport terminal   airline  \\\n",
      "0  2021-12-02 17:50+01:00       SN 2587    Brussels        1  Brussels   \n",
      "\n",
      "      aircraft icao_code  \n",
      "0  Airbus A320      EDDB  \n",
      "   scheduled_arrival_time flight_number        dep_airport terminal  \\\n",
      "0  2021-12-02 08:55+01:00        LH 174  Frankfurt-am-Main        1   \n",
      "\n",
      "     airline     aircraft icao_code  \n",
      "0  Lufthansa  Airbus A320      EDDB  \n",
      "   scheduled_arrival_time flight_number        dep_airport terminal  \\\n",
      "0  2021-12-02 09:55+01:00        LH 176  Frankfurt-am-Main        1   \n",
      "\n",
      "     airline     aircraft icao_code  \n",
      "0  Lufthansa  Airbus A320      EDDB  \n",
      "   scheduled_arrival_time flight_number        dep_airport terminal  \\\n",
      "0  2021-12-02 11:55+01:00        LH 180  Frankfurt-am-Main        1   \n",
      "\n",
      "     airline     aircraft icao_code  \n",
      "0  Lufthansa  Airbus A321      EDDB  \n",
      "   scheduled_arrival_time flight_number        dep_airport terminal  \\\n",
      "0  2021-12-02 12:55+01:00        LH 182  Frankfurt-am-Main        1   \n",
      "\n",
      "     airline         aircraft icao_code  \n",
      "0  Lufthansa  Airbus A320 NEO      EDDB  \n",
      "   scheduled_arrival_time flight_number        dep_airport terminal  \\\n",
      "0  2021-12-02 14:55+01:00        LH 186  Frankfurt-am-Main        1   \n",
      "\n",
      "     airline         aircraft icao_code  \n",
      "0  Lufthansa  Airbus A320 NEO      EDDB  \n",
      "   scheduled_arrival_time flight_number        dep_airport terminal  \\\n",
      "0  2021-12-02 15:55+01:00        LH 188  Frankfurt-am-Main        1   \n",
      "\n",
      "     airline     aircraft icao_code  \n",
      "0  Lufthansa  Airbus A320      EDDB  \n",
      "   scheduled_arrival_time flight_number        dep_airport terminal  \\\n",
      "0  2021-12-02 17:55+01:00        LH 192  Frankfurt-am-Main        1   \n",
      "\n",
      "     airline     aircraft icao_code  \n",
      "0  Lufthansa  Airbus A320      EDDB  \n",
      "   scheduled_arrival_time flight_number        dep_airport terminal  \\\n",
      "0  2021-12-02 18:55+01:00        LH 194  Frankfurt-am-Main        1   \n",
      "\n",
      "     airline         aircraft icao_code  \n",
      "0  Lufthansa  Airbus A320 NEO      EDDB  \n",
      "   scheduled_arrival_time flight_number        dep_airport terminal  \\\n",
      "0  2021-12-02 19:55+01:00        LH 190  Frankfurt-am-Main        1   \n",
      "\n",
      "     airline     aircraft icao_code  \n",
      "0  Lufthansa  Airbus A320      EDDB  \n",
      "   scheduled_arrival_time flight_number dep_airport terminal    airline  \\\n",
      "0  2021-12-02 09:40+01:00       EW 8059     Cologne        1  Eurowings   \n",
      "\n",
      "      aircraft icao_code  \n",
      "0  Airbus A320      EDDB  \n",
      "   scheduled_arrival_time flight_number dep_airport terminal    airline  \\\n",
      "0  2021-12-02 13:15+01:00       EW 8051     Cologne        1  Eurowings   \n",
      "\n",
      "      aircraft icao_code  \n",
      "0  Airbus A320      EDDB  \n",
      "   scheduled_arrival_time flight_number dep_airport terminal    airline  \\\n",
      "0  2021-12-02 14:35+01:00          EW 8     Cologne        1  Eurowings   \n",
      "\n",
      "      aircraft icao_code  \n",
      "0  Airbus A319      EDDB  \n",
      "   scheduled_arrival_time flight_number dep_airport terminal    airline  \\\n",
      "0  2021-12-02 17:20+01:00          EW 6     Cologne        1  Eurowings   \n",
      "\n",
      "      aircraft icao_code  \n",
      "0  Airbus A320      EDDB  \n",
      "   scheduled_arrival_time flight_number dep_airport terminal  airline  \\\n",
      "0  2021-12-02 19:10+01:00       U2 5512     Cologne        1  easyJet   \n",
      "\n",
      "      aircraft icao_code  \n",
      "0  Airbus A320      EDDB  \n",
      "   scheduled_arrival_time flight_number  dep_airport terminal    airline  \\\n",
      "0  2021-12-02 12:00+01:00       EW 9046  Duesseldorf        1  Eurowings   \n",
      "\n",
      "      aircraft icao_code  \n",
      "0  Airbus A319      EDDB  \n",
      "   scheduled_arrival_time flight_number dep_airport terminal    airline  \\\n",
      "0  2021-12-02 08:10+01:00       LH 1928      Munich        1  Lufthansa   \n",
      "\n",
      "          aircraft icao_code  \n",
      "0  Airbus A320 NEO      EDDB  \n",
      "   scheduled_arrival_time flight_number dep_airport terminal    airline  \\\n",
      "0  2021-12-02 09:40+01:00       LH 1930      Munich        1  Lufthansa   \n",
      "\n",
      "      aircraft icao_code  \n",
      "0  Airbus A320      EDDB  \n",
      "   scheduled_arrival_time flight_number dep_airport terminal    airline  \\\n",
      "0  2021-12-02 12:15+01:00       LH 1936      Munich        1  Lufthansa   \n",
      "\n",
      "          aircraft icao_code  \n",
      "0  Airbus A320 NEO      EDDB  \n",
      "   scheduled_arrival_time flight_number dep_airport terminal    airline  \\\n",
      "0  2021-12-02 15:25+01:00       LH 1944      Munich        1  Lufthansa   \n",
      "\n",
      "      aircraft icao_code  \n",
      "0  Airbus A320      EDDB  \n",
      "   scheduled_arrival_time flight_number dep_airport terminal    airline  \\\n",
      "0  2021-12-02 16:55+01:00       LH 1942      Munich        1  Lufthansa   \n",
      "\n",
      "          aircraft icao_code  \n",
      "0  Airbus A320 NEO      EDDB  \n",
      "   scheduled_arrival_time flight_number dep_airport terminal    airline  \\\n",
      "0  2021-12-02 18:10+01:00       LH 1948      Munich        1  Lufthansa   \n",
      "\n",
      "          aircraft icao_code  \n",
      "0  Airbus A320 NEO      EDDB  \n",
      "   scheduled_arrival_time flight_number dep_airport terminal    airline  \\\n",
      "0  2021-12-02 19:15+01:00       LH 2330      Munich        1  Lufthansa   \n",
      "\n",
      "      aircraft icao_code  \n",
      "0  Airbus A320      EDDB  \n",
      "   scheduled_arrival_time flight_number  dep_airport terminal     airline  \\\n",
      "0  2021-12-02 08:10+01:00        DX 121  Saarbrücken        0  Danish Air   \n",
      "\n",
      "  aircraft icao_code  \n",
      "0   ATR 72      EDDB  \n",
      "   scheduled_arrival_time flight_number dep_airport terminal    airline  \\\n",
      "0  2021-12-02 13:25+01:00       EW 8003   Stuttgart        1  Eurowings   \n",
      "\n",
      "      aircraft icao_code  \n",
      "0  Airbus A320      EDDB  \n",
      "   scheduled_arrival_time flight_number dep_airport terminal    airline  \\\n",
      "0  2021-12-02 15:45+01:00       EW 2004   Stuttgart        1  Eurowings   \n",
      "\n",
      "      aircraft icao_code  \n",
      "0  Airbus A319      EDDB  \n",
      "   scheduled_arrival_time flight_number dep_airport terminal    airline  \\\n",
      "0  2021-12-02 17:05+01:00       EW 2058   Stuttgart        1  Eurowings   \n",
      "\n",
      "      aircraft icao_code  \n",
      "0  Airbus A320      EDDB  \n",
      "   scheduled_arrival_time flight_number dep_airport terminal  airline  \\\n",
      "0  2021-12-02 08:20+01:00       AY 1431    Helsinki        1  Finnair   \n",
      "\n",
      "      aircraft icao_code  \n",
      "0  Airbus A321      EDDB  \n",
      "   scheduled_arrival_time flight_number dep_airport terminal  airline  \\\n",
      "0  2021-12-02 12:20+01:00       AY 1433    Helsinki        1  Finnair   \n",
      "\n",
      "      aircraft icao_code  \n",
      "0  Airbus A321      EDDB  \n",
      "   scheduled_arrival_time flight_number dep_airport terminal  airline  \\\n",
      "0  2021-12-02 18:25+01:00       AY 1435    Helsinki        1  Finnair   \n",
      "\n",
      "      aircraft icao_code  \n",
      "0  Airbus A321      EDDB  \n",
      "   scheduled_arrival_time flight_number dep_airport terminal  airline  \\\n",
      "0  2021-12-02 15:35+01:00       FR 1145  Manchester     None  Ryanair   \n",
      "\n",
      "         aircraft icao_code  \n",
      "0  Boeing 737-800      EDDB  \n",
      "   scheduled_arrival_time flight_number dep_airport terminal  airline  \\\n",
      "0  2021-12-02 11:55+01:00       U2 8209      London        1  easyJet   \n",
      "\n",
      "      aircraft icao_code  \n",
      "0  Airbus A320      EDDB  \n",
      "   scheduled_arrival_time flight_number dep_airport terminal          airline  \\\n",
      "0  2021-12-02 10:25+01:00       BA 8491      London        1  British Airways   \n",
      "\n",
      "      aircraft icao_code  \n",
      "0  Embraer 190      EDDB  \n",
      "   scheduled_arrival_time flight_number dep_airport terminal          airline  \\\n",
      "0  2021-12-02 15:55+01:00       BA 8493      London        1  British Airways   \n",
      "\n",
      "      aircraft icao_code  \n",
      "0  Embraer 190      EDDB  \n",
      "   scheduled_arrival_time flight_number dep_airport terminal          airline  \\\n",
      "0  2021-12-02 19:30+01:00       BA 8743      London        1  British Airways   \n",
      "\n",
      "      aircraft icao_code  \n",
      "0  Embraer 190      EDDB  \n",
      "   scheduled_arrival_time flight_number dep_airport terminal          airline  \\\n",
      "0  2021-12-02 11:40+01:00        BA 992      London        1  British Airways   \n",
      "\n",
      "      aircraft icao_code  \n",
      "0  Airbus A320      EDDB  \n",
      "   scheduled_arrival_time flight_number dep_airport terminal          airline  \\\n",
      "0  2021-12-02 18:50+01:00        BA 986      London        1  British Airways   \n",
      "\n",
      "      aircraft icao_code  \n",
      "0  Airbus A320      EDDB  \n",
      "   scheduled_arrival_time flight_number dep_airport terminal airline  \\\n",
      "0  2021-12-02 12:05+01:00        LS 471       Leeds        0    Jet2   \n",
      "\n",
      "         aircraft icao_code  \n",
      "0  Boeing 737-800      EDDB  \n",
      "   scheduled_arrival_time flight_number          dep_airport terminal airline  \\\n",
      "0  2021-12-02 11:50+01:00       LS 4067  Newcastle upon Tyne        0    Jet2   \n",
      "\n",
      "         aircraft icao_code  \n",
      "0  Boeing 737-800      EDDB  \n",
      "   scheduled_arrival_time flight_number dep_airport terminal  airline  \\\n",
      "0  2021-12-02 10:40+01:00        FR 145      London     None  Ryanair   \n",
      "\n",
      "         aircraft icao_code  \n",
      "0  Boeing 737-800      EDDB  \n",
      "   scheduled_arrival_time flight_number dep_airport terminal  airline  \\\n",
      "0  2021-12-02 13:35+01:00        FR 176      London     None  Ryanair   \n",
      "\n",
      "         aircraft icao_code  \n",
      "0  Boeing 737-800      EDDB  \n",
      "   scheduled_arrival_time flight_number dep_airport terminal  airline  \\\n",
      "0  2021-12-02 14:05+01:00       FR 8542      London     None  Ryanair   \n",
      "\n",
      "         aircraft icao_code  \n",
      "0  Boeing 737-800      EDDB  \n",
      "   scheduled_arrival_time flight_number dep_airport terminal airline  \\\n",
      "0  2021-12-02 09:25+01:00       KL 1821   Amsterdam        1     KLM   \n",
      "\n",
      "         aircraft icao_code  \n",
      "0  Boeing 737-700      EDDB  \n",
      "   scheduled_arrival_time flight_number dep_airport terminal airline  \\\n",
      "0  2021-12-02 11:05+01:00       KL 1823   Amsterdam        1     KLM   \n",
      "\n",
      "         aircraft icao_code  \n",
      "0  Boeing 737-900      EDDB  \n",
      "   scheduled_arrival_time flight_number dep_airport terminal  airline  \\\n",
      "0  2021-12-02 10:35+01:00       U2 5102   Amsterdam        1  easyJet   \n",
      "\n",
      "      aircraft icao_code  \n",
      "0  Airbus A319      EDDB  \n",
      "   scheduled_arrival_time flight_number dep_airport terminal airline  \\\n",
      "0  2021-12-02 16:40+01:00       KL 1829   Amsterdam        1     KLM   \n",
      "\n",
      "      aircraft icao_code  \n",
      "0  Embraer 190      EDDB  \n",
      "   scheduled_arrival_time flight_number dep_airport terminal airline  \\\n",
      "0  2021-12-02 18:00+01:00       KL 1831   Amsterdam        1     KLM   \n",
      "\n",
      "      aircraft icao_code  \n",
      "0  Embraer 190      EDDB  \n",
      "   scheduled_arrival_time flight_number dep_airport terminal  airline  \\\n",
      "0  2021-12-02 13:10+01:00       FR 8556      Dublin     None  Ryanair   \n",
      "\n",
      "         aircraft icao_code  \n",
      "0  Boeing 737-800      EDDB  \n",
      "   scheduled_arrival_time flight_number dep_airport terminal  airline  \\\n",
      "0  2021-12-02 18:40+01:00       FR 8558      Dublin     None  Ryanair   \n",
      "\n",
      "         aircraft icao_code  \n",
      "0  Boeing 737-800      EDDB  \n",
      "   scheduled_arrival_time flight_number dep_airport terminal  airline  \\\n",
      "0  2021-12-02 13:40+01:00       FR 1710   Killarney     None  Ryanair   \n",
      "\n",
      "         aircraft icao_code  \n",
      "0  Boeing 737-800      EDDB  \n",
      "   scheduled_arrival_time flight_number dep_airport terminal  \\\n",
      "0  2021-12-02 11:45+01:00       D8 3302  Copenhagen        1   \n",
      "\n",
      "                       airline        aircraft icao_code  \n",
      "0  Norwegian Air International  Boeing 737-800      EDDB  \n",
      "   scheduled_arrival_time flight_number dep_airport terminal airline  \\\n",
      "0  2021-12-02 13:00+01:00       SK 1673  Copenhagen        1     SAS   \n",
      "\n",
      "          aircraft icao_code  \n",
      "0  Airbus A320 NEO      EDDB  \n",
      "   scheduled_arrival_time flight_number dep_airport terminal  airline  \\\n",
      "0  2021-12-02 19:45+01:00       U2 5688  Copenhagen        1  easyJet   \n",
      "\n",
      "      aircraft icao_code  \n",
      "0  Airbus A320      EDDB  \n",
      "   scheduled_arrival_time flight_number dep_airport terminal airline  \\\n",
      "0  2021-12-02 08:15+01:00       LG 9471  Luxembourg        1  Luxair   \n",
      "\n",
      "                             aircraft icao_code  \n",
      "0  Bombardier Dash 8 Q400 / DHC-8-400      EDDB  \n",
      "   scheduled_arrival_time flight_number dep_airport terminal  \\\n",
      "0  2021-12-02 09:10+01:00       DY 1102        Oslo        1   \n",
      "\n",
      "                 airline        aircraft icao_code  \n",
      "0  Norwegian Air Shuttle  Boeing 737-800      EDDB  \n",
      "   scheduled_arrival_time flight_number dep_airport terminal airline  \\\n",
      "0  2021-12-02 12:55+01:00       SK 4723        Oslo        1     SAS   \n",
      "\n",
      "          aircraft icao_code  \n",
      "0  Airbus A320 NEO      EDDB  \n",
      "   scheduled_arrival_time flight_number dep_airport terminal  \\\n",
      "0  2021-12-02 19:35+01:00       DY 1108        Oslo        1   \n",
      "\n",
      "                 airline        aircraft icao_code  \n",
      "0  Norwegian Air Shuttle  Boeing 737-800      EDDB  \n",
      "   scheduled_arrival_time flight_number dep_airport terminal       airline  \\\n",
      "0  2021-12-02 11:35+01:00        LO 385      Warsaw        1  LOT - Polish   \n",
      "\n",
      "                             aircraft icao_code  \n",
      "0  Bombardier Dash 8 Q400 / DHC-8-400      EDDB  \n",
      "   scheduled_arrival_time flight_number dep_airport terminal       airline  \\\n",
      "0  2021-12-02 17:45+01:00        LO 389      Warsaw        1  LOT - Polish   \n",
      "\n",
      "      aircraft icao_code  \n",
      "0  Embraer 175      EDDB  \n",
      "   scheduled_arrival_time flight_number dep_airport terminal airline  \\\n",
      "0  2021-12-02 10:30+01:00       SK 2677   Stockholm        1     SAS   \n",
      "\n",
      "            aircraft icao_code  \n",
      "0  Bombardier CRJ900      EDDB  \n",
      "   scheduled_arrival_time flight_number dep_airport terminal  airline  \\\n",
      "0  2021-12-02 09:45+01:00       FR 2600        Riga     None  Ryanair   \n",
      "\n",
      "         aircraft icao_code  \n",
      "0  Boeing 737-800      EDDB  \n",
      "   scheduled_arrival_time flight_number dep_airport terminal     airline  \\\n",
      "0  2021-12-02 19:00+01:00        BT 213        Riga        1  Air Baltic   \n",
      "\n",
      "          aircraft icao_code  \n",
      "0  Airbus A220-300      EDDB  \n",
      "   scheduled_arrival_time flight_number dep_airport terminal  airline  \\\n",
      "0  2021-12-02 18:10+01:00       FR 1571     Vilnius     None  Ryanair   \n",
      "\n",
      "         aircraft icao_code  \n",
      "0  Boeing 737-800      EDDB  \n",
      "   scheduled_arrival_time flight_number           dep_airport terminal  \\\n",
      "0  2021-12-02 16:55+01:00       FR 1102  Fuerteventura Island     None   \n",
      "\n",
      "   airline        aircraft icao_code  \n",
      "0  Ryanair  Boeing 737-800      EDDB  \n",
      "   scheduled_arrival_time flight_number           dep_airport terminal  \\\n",
      "0  2021-12-02 19:00+01:00       U2 5924  Fuerteventura Island        1   \n",
      "\n",
      "   airline     aircraft icao_code  \n",
      "0  easyJet  Airbus A320      EDDB  \n",
      "   scheduled_arrival_time flight_number      dep_airport terminal  airline  \\\n",
      "0  2021-12-02 17:15+01:00       FR 4067  Tenerife Island     None  Ryanair   \n",
      "\n",
      "         aircraft icao_code  \n",
      "0  Boeing 737-800      EDDB  \n",
      "   scheduled_arrival_time flight_number dep_airport terminal  airline  \\\n",
      "0  2021-12-02 17:50+01:00       U2 5788    Hurghada        1  easyJet   \n",
      "\n",
      "      aircraft icao_code  \n",
      "0  Airbus A320      EDDB  \n",
      "   scheduled_arrival_time flight_number dep_airport terminal airline  \\\n",
      "0  2021-12-02 17:55+01:00        DE 433    Hurghada        1  Condor   \n",
      "\n",
      "      aircraft icao_code  \n",
      "0  Airbus A321      EDDB  \n",
      "   scheduled_arrival_time flight_number dep_airport terminal  airline  \\\n",
      "0  2021-12-02 11:45+01:00       FR 1595       Sofia     None  Ryanair   \n",
      "\n",
      "         aircraft icao_code  \n",
      "0  Boeing 737-800      EDDB  \n",
      "   scheduled_arrival_time flight_number dep_airport terminal  airline  \\\n",
      "0  2021-12-02 13:55+01:00       U2 5122   Barcelona        1  easyJet   \n",
      "\n",
      "      aircraft icao_code  \n",
      "0  Airbus A320      EDDB  \n",
      "   scheduled_arrival_time flight_number dep_airport terminal  airline  \\\n",
      "0  2021-12-02 14:20+01:00       VY 1882   Barcelona        1  Vueling   \n",
      "\n",
      "      aircraft icao_code  \n",
      "0  Airbus A320      EDDB  \n",
      "   scheduled_arrival_time flight_number dep_airport terminal  airline  \\\n",
      "0  2021-12-02 17:00+01:00        FR 133   Barcelona     None  Ryanair   \n",
      "\n",
      "         aircraft icao_code  \n",
      "0  Boeing 737-800      EDDB  \n",
      "   scheduled_arrival_time flight_number dep_airport terminal  airline  \\\n",
      "0  2021-12-02 09:25+01:00       FR 2526      Madrid     None  Ryanair   \n",
      "\n",
      "         aircraft icao_code  \n",
      "0  Boeing 737-800      EDDB  \n",
      "   scheduled_arrival_time flight_number dep_airport terminal airline  \\\n",
      "0  2021-12-02 11:05+01:00       IB 3676      Madrid        1  Iberia   \n",
      "\n",
      "      aircraft icao_code  \n",
      "0  Airbus A320      EDDB  \n",
      "   scheduled_arrival_time flight_number dep_airport terminal airline  \\\n",
      "0  2021-12-02 18:50+01:00       IB 3672      Madrid        1  Iberia   \n",
      "\n",
      "      aircraft icao_code  \n",
      "0  Airbus A321      EDDB  \n",
      "   scheduled_arrival_time flight_number dep_airport terminal  airline  \\\n",
      "0  2021-12-02 15:30+01:00       U2 5914      Málaga        1  easyJet   \n",
      "\n",
      "      aircraft icao_code  \n",
      "0  Airbus A320      EDDB  \n",
      "   scheduled_arrival_time flight_number dep_airport terminal  airline  \\\n",
      "0  2021-12-02 19:40+01:00       FR 2591      Málaga     None  Ryanair   \n",
      "\n",
      "         aircraft icao_code  \n",
      "0  Boeing 737-800      EDDB  \n",
      "   scheduled_arrival_time flight_number        dep_airport terminal  airline  \\\n",
      "0  2021-12-02 12:30+01:00       FR 2146  Palma De Mallorca     None  Ryanair   \n",
      "\n",
      "         aircraft icao_code  \n",
      "0  Boeing 737-800      EDDB  \n",
      "   scheduled_arrival_time flight_number        dep_airport terminal  airline  \\\n",
      "0  2021-12-02 16:50+01:00        FR 111  Palma De Mallorca     None  Ryanair   \n",
      "\n",
      "         aircraft icao_code  \n",
      "0  Boeing 737-800      EDDB  \n",
      "   scheduled_arrival_time flight_number dep_airport terminal  airline  \\\n",
      "0  2021-12-02 16:00+01:00       FR 8950   Marseille     None  Ryanair   \n",
      "\n",
      "         aircraft icao_code  \n",
      "0  Boeing 737-800      EDDB  \n",
      "   scheduled_arrival_time flight_number dep_airport terminal     airline  \\\n",
      "0  2021-12-02 11:40+01:00       AF 1734       Paris        1  Air France   \n",
      "\n",
      "      aircraft icao_code  \n",
      "0  Airbus A319      EDDB  \n",
      "   scheduled_arrival_time flight_number dep_airport terminal  airline  \\\n",
      "0  2021-12-02 11:35+01:00       U2 5652       Paris        1  easyJet   \n",
      "\n",
      "      aircraft icao_code  \n",
      "0  Airbus A320      EDDB  \n",
      "   scheduled_arrival_time flight_number dep_airport terminal     airline  \\\n",
      "0  2021-12-02 14:30+01:00       AF 1234       Paris        1  Air France   \n",
      "\n",
      "      aircraft icao_code  \n",
      "0  Airbus A319      EDDB  \n",
      "   scheduled_arrival_time flight_number dep_airport terminal     airline  \\\n",
      "0  2021-12-02 17:10+01:00       AF 1834       Paris        1  Air France   \n",
      "\n",
      "      aircraft icao_code  \n",
      "0  Airbus A320      EDDB  \n",
      "   scheduled_arrival_time flight_number dep_airport terminal     airline  \\\n",
      "0  2021-12-02 19:35+01:00       AF 1534       Paris        1  Air France   \n",
      "\n",
      "          aircraft icao_code  \n",
      "0  Airbus A220-300      EDDB  \n",
      "   scheduled_arrival_time flight_number dep_airport terminal     airline  \\\n",
      "0  2021-12-02 08:55+01:00       AF 7354       Paris        1  Air France   \n",
      "\n",
      "      aircraft icao_code  \n",
      "0  Airbus A318      EDDB  \n",
      "   scheduled_arrival_time flight_number dep_airport terminal  airline  \\\n",
      "0  2021-12-02 14:35+01:00       U2 5536       Paris        1  easyJet   \n",
      "\n",
      "      aircraft icao_code  \n",
      "0  Airbus A320      EDDB  \n",
      "   scheduled_arrival_time flight_number dep_airport terminal airline  \\\n",
      "0  2021-12-02 10:50+01:00        A3 820      Athens        1  Aegean   \n",
      "\n",
      "      aircraft icao_code  \n",
      "0  Airbus A320      EDDB  \n",
      "   scheduled_arrival_time flight_number dep_airport terminal airline  \\\n",
      "0  2021-12-02 10:20+01:00        TR 722      Athens        1   Scoot   \n",
      "\n",
      "       aircraft icao_code  \n",
      "0  Boeing 787-8      EDDB  \n",
      "   scheduled_arrival_time flight_number dep_airport terminal  airline  \\\n",
      "0  2021-12-02 12:45+01:00        FR 171      Athens     None  Ryanair   \n",
      "\n",
      "         aircraft icao_code  \n",
      "0  Boeing 737-800      EDDB  \n",
      "   scheduled_arrival_time flight_number dep_airport terminal  airline  \\\n",
      "0  2021-12-02 09:30+01:00        FR 197    Budapest     None  Ryanair   \n",
      "\n",
      "         aircraft icao_code  \n",
      "0  Boeing 737-800      EDDB  \n",
      "   scheduled_arrival_time flight_number dep_airport terminal   airline  \\\n",
      "0  2021-12-02 15:30+01:00       W6 2315    Budapest        0  Wizz Air   \n",
      "\n",
      "      aircraft icao_code  \n",
      "0  Airbus A320      EDDB  \n",
      "   scheduled_arrival_time flight_number dep_airport terminal  airline  \\\n",
      "0  2021-12-02 13:05+01:00       U2 5694     Catania        1  easyJet   \n",
      "\n",
      "      aircraft icao_code  \n",
      "0  Airbus A320      EDDB  \n",
      "   scheduled_arrival_time flight_number dep_airport terminal  airline  \\\n",
      "0  2021-12-02 11:25+01:00       U2 4672       Milan        1  easyJet   \n",
      "\n",
      "      aircraft icao_code  \n",
      "0  Airbus A320      EDDB  \n",
      "   scheduled_arrival_time flight_number dep_airport terminal  airline  \\\n",
      "0  2021-12-02 13:55+01:00          FR 9       Milan     None  Ryanair   \n",
      "\n",
      "         aircraft icao_code  \n",
      "0  Boeing 737-800      EDDB  \n",
      "   scheduled_arrival_time flight_number dep_airport terminal  airline  \\\n",
      "0  2021-12-02 10:40+01:00       FR 4731     Bergamo     None  Ryanair   \n",
      "\n",
      "         aircraft icao_code  \n",
      "0  Boeing 737-800      EDDB  \n",
      "   scheduled_arrival_time flight_number dep_airport terminal  airline  \\\n",
      "0  2021-12-02 15:50+01:00       U2 4662       Milan        1  easyJet   \n",
      "\n",
      "      aircraft icao_code  \n",
      "0  Airbus A319      EDDB  \n",
      "   scheduled_arrival_time flight_number dep_airport terminal  airline  \\\n",
      "0  2021-12-02 15:05+01:00       FR 4721     Treviso     None  Ryanair   \n",
      "\n",
      "         aircraft icao_code  \n",
      "0  Boeing 737-800      EDDB  \n",
      "   scheduled_arrival_time flight_number dep_airport terminal  airline  \\\n",
      "0  2021-12-02 11:05+01:00        FR 135        Roma     None  Ryanair   \n",
      "\n",
      "         aircraft icao_code  \n",
      "0  Boeing 737-800      EDDB  \n",
      "   scheduled_arrival_time flight_number dep_airport terminal  airline  \\\n",
      "0  2021-12-02 19:55+01:00        FR 141        Roma     None  Ryanair   \n",
      "\n",
      "         aircraft icao_code  \n",
      "0  Boeing 737-800      EDDB  \n",
      "   scheduled_arrival_time flight_number dep_airport terminal  airline  \\\n",
      "0  2021-12-02 13:10+01:00       U2 5142      Nápoli        1  easyJet   \n",
      "\n",
      "      aircraft icao_code  \n",
      "0  Airbus A320      EDDB  \n",
      "   scheduled_arrival_time flight_number    dep_airport terminal airline  \\\n",
      "0  2021-12-02 13:35+01:00        6H 253  Tel Aviv Yafo        0  Israir   \n",
      "\n",
      "         aircraft icao_code  \n",
      "0  Boeing 737-800      EDDB  \n",
      "   scheduled_arrival_time flight_number    dep_airport terminal  airline  \\\n",
      "0  2021-12-02 15:30+01:00       FR 6473  Tel Aviv Yafo     None  Ryanair   \n",
      "\n",
      "         aircraft icao_code  \n",
      "0  Boeing 737-800      EDDB  \n",
      "   scheduled_arrival_time flight_number    dep_airport terminal airline  \\\n",
      "0  2021-12-02 19:50+01:00       LY 2373  Tel Aviv Yafo        1   El Al   \n",
      "\n",
      "         aircraft icao_code  \n",
      "0  Boeing 737-900      EDDB  \n",
      "   scheduled_arrival_time flight_number dep_airport terminal   airline  \\\n",
      "0  2021-12-02 10:25+01:00        OS 225      Vienna        1  Austrian   \n",
      "\n",
      "      aircraft icao_code  \n",
      "0  Embraer 195      EDDB  \n",
      "   scheduled_arrival_time flight_number dep_airport terminal   airline  \\\n",
      "0  2021-12-02 18:40+01:00        OS 235      Vienna        1  Austrian   \n",
      "\n",
      "      aircraft icao_code  \n",
      "0  Airbus A320      EDDB  \n",
      "   scheduled_arrival_time flight_number dep_airport terminal  \\\n",
      "0  2021-12-02 16:35+01:00        TP 534      Lisbon        1   \n",
      "\n",
      "            airline         aircraft icao_code  \n",
      "0  TAP Air Portugal  Airbus A320 NEO      EDDB  \n",
      "   scheduled_arrival_time flight_number dep_airport terminal  airline  \\\n",
      "0  2021-12-02 11:20+01:00       U2 1591      Geneva        1  easyJet   \n",
      "\n",
      "      aircraft icao_code  \n",
      "0  Airbus A320      EDDB  \n",
      "   scheduled_arrival_time flight_number dep_airport terminal airline  \\\n",
      "0  2021-12-02 08:45+01:00        LX 974      Zurich        1   SWISS   \n",
      "\n",
      "      aircraft icao_code  \n",
      "0  Airbus A320      EDDB  \n",
      "   scheduled_arrival_time flight_number dep_airport terminal airline  \\\n",
      "0  2021-12-02 14:00+01:00        LX 966      Zurich        1   SWISS   \n",
      "\n",
      "          aircraft icao_code  \n",
      "0  Airbus A320 NEO      EDDB  \n",
      "   scheduled_arrival_time flight_number dep_airport terminal airline  \\\n",
      "0  2021-12-02 18:05+01:00        LX 970      Zurich        1   SWISS   \n",
      "\n",
      "          aircraft icao_code  \n",
      "0  Airbus A220-300      EDDB  \n",
      "   scheduled_arrival_time flight_number dep_airport terminal airline  \\\n",
      "0  2021-12-02 19:45+01:00        LX 978      Zurich        1   SWISS   \n",
      "\n",
      "          aircraft icao_code  \n",
      "0  Airbus A320 NEO      EDDB  \n",
      "   scheduled_arrival_time flight_number dep_airport terminal     airline  \\\n",
      "0  2021-12-02 12:35+01:00        XQ 160     Antalya        1  SunExpress   \n",
      "\n",
      "         aircraft icao_code  \n",
      "0  Boeing 737-800      EDDB  \n",
      "   scheduled_arrival_time flight_number dep_airport terminal  airline  \\\n",
      "0  2021-12-02 11:00+01:00        PC 977    Istanbul        0  Pegasus   \n",
      "\n",
      "      aircraft icao_code  \n",
      "0  Airbus A320      EDDB  \n",
      "   scheduled_arrival_time flight_number dep_airport terminal  airline  \\\n",
      "0  2021-12-02 12:30+01:00       TK 7728    Istanbul        1  Turkish   \n",
      "\n",
      "         aircraft icao_code  \n",
      "0  Boeing 737-800      EDDB  \n",
      "   scheduled_arrival_time flight_number dep_airport terminal  airline  \\\n",
      "0  2021-12-02 09:35+01:00       TK 1721    Istanbul        1  Turkish   \n",
      "\n",
      "          aircraft icao_code  \n",
      "0  Airbus A330-300      EDDB  \n",
      "   scheduled_arrival_time flight_number dep_airport terminal  airline  \\\n",
      "0  2021-12-02 13:30+01:00       TK 1725    Istanbul        1  Turkish   \n",
      "\n",
      "      aircraft icao_code  \n",
      "0  Airbus A321      EDDB  \n",
      "   scheduled_arrival_time flight_number dep_airport terminal  airline  \\\n",
      "0  2021-12-02 17:30+01:00       TK 1723    Istanbul        1  Turkish   \n",
      "\n",
      "      aircraft icao_code  \n",
      "0  Airbus A321      EDDB  \n",
      "   scheduled_arrival_time flight_number dep_airport terminal     airline  \\\n",
      "0  2021-12-02 09:00+01:00        JU 350    Belgrade        1  Air Serbia   \n",
      "\n",
      "      aircraft icao_code  \n",
      "0  Airbus A320      EDDB  \n",
      "   scheduled_arrival_time flight_number dep_airport terminal  airline  \\\n",
      "0  2021-12-02 17:35+01:00       FR 1106         Niš     None  Ryanair   \n",
      "\n",
      "         aircraft icao_code  \n",
      "0  Boeing 737-800      EDDB  \n",
      "   scheduled_arrival_time flight_number dep_airport terminal  airline  \\\n",
      "0  2021-12-02 12:25+01:00       FR 1579   Podgorica     None  Ryanair   \n",
      "\n",
      "         aircraft icao_code  \n",
      "0  Boeing 737-800      EDDB  \n",
      "   scheduled_arrival_time flight_number dep_airport terminal        airline  \\\n",
      "0  2021-12-02 12:40+01:00         QR 81        Doha        1  Qatar Airways   \n",
      "\n",
      "       aircraft icao_code  \n",
      "0  Boeing 787-9      EDDB  \n",
      "   scheduled_arrival_time flight_number dep_airport terminal airline  \\\n",
      "0  2021-12-02 12:05+01:00        PS 423        Kiev        1     UIA   \n",
      "\n",
      "         aircraft icao_code  \n",
      "0  Boeing 737-800      EDDB  \n",
      "   scheduled_arrival_time flight_number dep_airport terminal   airline  \\\n",
      "0  2021-12-02 18:45+01:00       W6 6113        Kiev        0  Wizz Air   \n",
      "\n",
      "      aircraft icao_code  \n",
      "0  Airbus A320      EDDB  \n",
      "   scheduled_arrival_time flight_number       dep_airport terminal    airline  \\\n",
      "0  2021-12-02 14:45+01:00       EO 1909  Saint-Petersburg        1  Pegas Fly   \n",
      "\n",
      "      aircraft icao_code  \n",
      "0  Embraer 190      EDDB  \n",
      "   scheduled_arrival_time flight_number dep_airport terminal   airline  \\\n",
      "0  2021-12-02 12:55+01:00       SU 2662      Moscow        1  Aeroflot   \n",
      "\n",
      "         aircraft icao_code  \n",
      "0  Boeing 737-800      EDDB  \n"
     ]
    }
   ],
   "source": [
    "icao = 'EDDB'\n",
    "\n",
    "def flight_detail_extraction(flights):\n",
    "    \n",
    "    try: terminal = flights['arrival']['terminal']\n",
    "    except: terminal = None\n",
    "    \n",
    "    try: aircraft = flights['aircraft']['model']\n",
    "    except: aircraft = None    \n",
    "    \n",
    "    flights_df = pd.json_normalize({\n",
    "        'scheduled_arrival_time': flights['arrival']['scheduledTimeLocal'],\n",
    "        'flight_number': flights['number'],\n",
    "        'dep_airport' : flights['departure']['airport']['name'],\n",
    "        'terminal' : terminal,\n",
    "        'airline' : flights['airline']['name'],\n",
    "        'aircraft' : aircraft,\n",
    "        'icao_code' : icao\n",
    "    })\n",
    "    return flights_df \n",
    "\n",
    "def create_flight_df(flight_data):\n",
    "    flight_arrivals = []\n",
    "\n",
    "    for j in flight_data: \n",
    "        new_flights = pd.concat([flight_detail_extraction(flight) for flight in j['arrivals']])\n",
    "        flight_arrivals.append(new_flights)\n",
    "\n",
    "    flight_arrivals = pd.concat(flight_arrivals) \n",
    "    return flight_arrivals"
   ]
  },
  {
   "cell_type": "code",
   "execution_count": 82,
   "id": "68d818a7-1397-4fa0-9465-ff9516e9e26c",
   "metadata": {},
   "outputs": [
    {
     "data": {
      "text/html": [
       "<div>\n",
       "<style scoped>\n",
       "    .dataframe tbody tr th:only-of-type {\n",
       "        vertical-align: middle;\n",
       "    }\n",
       "\n",
       "    .dataframe tbody tr th {\n",
       "        vertical-align: top;\n",
       "    }\n",
       "\n",
       "    .dataframe thead th {\n",
       "        text-align: right;\n",
       "    }\n",
       "</style>\n",
       "<table border=\"1\" class=\"dataframe\">\n",
       "  <thead>\n",
       "    <tr style=\"text-align: right;\">\n",
       "      <th></th>\n",
       "      <th>scheduled_arrival_time</th>\n",
       "      <th>flight_number</th>\n",
       "      <th>dep_airport</th>\n",
       "      <th>terminal</th>\n",
       "      <th>airline</th>\n",
       "      <th>aircraft</th>\n",
       "      <th>icao_code</th>\n",
       "    </tr>\n",
       "  </thead>\n",
       "  <tbody>\n",
       "    <tr>\n",
       "      <th>0</th>\n",
       "      <td>2021-12-02 09:45+01:00</td>\n",
       "      <td>U2 5698</td>\n",
       "      <td>Aarhus</td>\n",
       "      <td>1</td>\n",
       "      <td>easyJet</td>\n",
       "      <td>Airbus A319</td>\n",
       "      <td>EDDB</td>\n",
       "    </tr>\n",
       "    <tr>\n",
       "      <th>0</th>\n",
       "      <td>2021-12-02 14:25+01:00</td>\n",
       "      <td>BT 821</td>\n",
       "      <td>Tallin</td>\n",
       "      <td>1</td>\n",
       "      <td>Air Baltic</td>\n",
       "      <td>Airbus A220-300</td>\n",
       "      <td>EDDB</td>\n",
       "    </tr>\n",
       "    <tr>\n",
       "      <th>0</th>\n",
       "      <td>2021-12-02 14:20+01:00</td>\n",
       "      <td>OS 229</td>\n",
       "      <td>Vienna</td>\n",
       "      <td>1</td>\n",
       "      <td>Austrian</td>\n",
       "      <td>Airbus A321</td>\n",
       "      <td>EDDB</td>\n",
       "    </tr>\n",
       "    <tr>\n",
       "      <th>0</th>\n",
       "      <td>2021-12-02 17:55+01:00</td>\n",
       "      <td>EW 8045</td>\n",
       "      <td>Duesseldorf</td>\n",
       "      <td>1</td>\n",
       "      <td>Eurowings</td>\n",
       "      <td>Airbus A320</td>\n",
       "      <td>EDDB</td>\n",
       "    </tr>\n",
       "    <tr>\n",
       "      <th>0</th>\n",
       "      <td>2021-12-02 17:40+01:00</td>\n",
       "      <td>LH 1946</td>\n",
       "      <td>Munich</td>\n",
       "      <td>1</td>\n",
       "      <td>Lufthansa</td>\n",
       "      <td>Bombardier CRJ900</td>\n",
       "      <td>EDDB</td>\n",
       "    </tr>\n",
       "  </tbody>\n",
       "</table>\n",
       "</div>"
      ],
      "text/plain": [
       "   scheduled_arrival_time flight_number  dep_airport terminal     airline  \\\n",
       "0  2021-12-02 09:45+01:00       U2 5698       Aarhus        1     easyJet   \n",
       "0  2021-12-02 14:25+01:00        BT 821       Tallin        1  Air Baltic   \n",
       "0  2021-12-02 14:20+01:00        OS 229       Vienna        1    Austrian   \n",
       "0  2021-12-02 17:55+01:00       EW 8045  Duesseldorf        1   Eurowings   \n",
       "0  2021-12-02 17:40+01:00       LH 1946       Munich        1   Lufthansa   \n",
       "\n",
       "            aircraft icao_code  \n",
       "0        Airbus A319      EDDB  \n",
       "0    Airbus A220-300      EDDB  \n",
       "0        Airbus A321      EDDB  \n",
       "0        Airbus A320      EDDB  \n",
       "0  Bombardier CRJ900      EDDB  "
      ]
     },
     "execution_count": 82,
     "metadata": {},
     "output_type": "execute_result"
    }
   ],
   "source": [
    "flight_arrivals = create_flight_df(flight_data)\n",
    "flight_arrivals.head()"
   ]
  },
  {
   "cell_type": "code",
   "execution_count": 17,
   "id": "065c2b1f-2f7a-4dbe-b277-37f00e2916ba",
   "metadata": {},
   "outputs": [
    {
     "name": "stdout",
     "output_type": "stream",
     "text": [
      "<class 'pandas.core.frame.DataFrame'>\n",
      "Int64Index: 102 entries, 0 to 0\n",
      "Data columns (total 7 columns):\n",
      " #   Column                  Non-Null Count  Dtype \n",
      "---  ------                  --------------  ----- \n",
      " 0   Scheduled_arrival_time  102 non-null    object\n",
      " 1   flight_number           102 non-null    object\n",
      " 2   from                    102 non-null    object\n",
      " 3   terminal                74 non-null     object\n",
      " 4   airline                 102 non-null    object\n",
      " 5   aircraft                102 non-null    object\n",
      " 6   icao_code               102 non-null    object\n",
      "dtypes: object(7)\n",
      "memory usage: 6.4+ KB\n"
     ]
    }
   ],
   "source": [
    "flight_arrivals.info()"
   ]
  },
  {
   "cell_type": "markdown",
   "id": "0a4e3589-1da6-4297-82bc-9ae92a7341be",
   "metadata": {},
   "source": [
    "## Get Population Data for Cities from csv File or Wikipedia\n",
    "\n",
    "1. Get city details from csv file\n",
    "    - from: https://simplemaps.com/data/world-cities\n",
    "2. Get city details from DeoDB Cities API through RapidAPI\n",
    "    - to get city details one needs the wikidata ID\n",
    "    - get the wikidata ID for a city through webscraping of wikidatalink on wikipedia page\n",
    "2. Get city details by scraping Wikipedia"
   ]
  },
  {
   "cell_type": "code",
   "execution_count": 5,
   "id": "62b18970-952d-4b62-8815-2a3debe2a7dc",
   "metadata": {},
   "outputs": [],
   "source": [
    "# read a csv file with city population info\n",
    "city_pop = pd.read_csv('worldcities.csv', sep=',')\n",
    "# add a column with the info of the city + country code to have a reference column for the database\n",
    "city_pop = city_pop.assign(municipality_iso_country = lambda x: x['city'] + ',' + x['iso2'])"
   ]
  },
  {
   "cell_type": "code",
   "execution_count": 6,
   "id": "3ec41277-45ed-4186-ba75-b2bec176a48d",
   "metadata": {},
   "outputs": [],
   "source": [
    "#drop some of the columns that are not needed\n",
    "city_pop.drop(['city_ascii', 'iso3', 'admin_name','capital','id'], axis=1, inplace=True)"
   ]
  },
  {
   "cell_type": "code",
   "execution_count": 7,
   "id": "fdd66009-3170-45f8-8ba6-4c4c23c06cb9",
   "metadata": {
    "tags": []
   },
   "outputs": [
    {
     "data": {
      "text/html": [
       "<div>\n",
       "<style scoped>\n",
       "    .dataframe tbody tr th:only-of-type {\n",
       "        vertical-align: middle;\n",
       "    }\n",
       "\n",
       "    .dataframe tbody tr th {\n",
       "        vertical-align: top;\n",
       "    }\n",
       "\n",
       "    .dataframe thead th {\n",
       "        text-align: right;\n",
       "    }\n",
       "</style>\n",
       "<table border=\"1\" class=\"dataframe\">\n",
       "  <thead>\n",
       "    <tr style=\"text-align: right;\">\n",
       "      <th></th>\n",
       "      <th>city</th>\n",
       "      <th>lat</th>\n",
       "      <th>lng</th>\n",
       "      <th>country</th>\n",
       "      <th>iso2</th>\n",
       "      <th>population</th>\n",
       "      <th>municipality_iso_country</th>\n",
       "    </tr>\n",
       "  </thead>\n",
       "  <tbody>\n",
       "    <tr>\n",
       "      <th>0</th>\n",
       "      <td>Tokyo</td>\n",
       "      <td>35.6897</td>\n",
       "      <td>139.6922</td>\n",
       "      <td>Japan</td>\n",
       "      <td>JP</td>\n",
       "      <td>37977000.0</td>\n",
       "      <td>Tokyo,JP</td>\n",
       "    </tr>\n",
       "    <tr>\n",
       "      <th>1</th>\n",
       "      <td>Jakarta</td>\n",
       "      <td>-6.2146</td>\n",
       "      <td>106.8451</td>\n",
       "      <td>Indonesia</td>\n",
       "      <td>ID</td>\n",
       "      <td>34540000.0</td>\n",
       "      <td>Jakarta,ID</td>\n",
       "    </tr>\n",
       "    <tr>\n",
       "      <th>2</th>\n",
       "      <td>Delhi</td>\n",
       "      <td>28.6600</td>\n",
       "      <td>77.2300</td>\n",
       "      <td>India</td>\n",
       "      <td>IN</td>\n",
       "      <td>29617000.0</td>\n",
       "      <td>Delhi,IN</td>\n",
       "    </tr>\n",
       "    <tr>\n",
       "      <th>3</th>\n",
       "      <td>Mumbai</td>\n",
       "      <td>18.9667</td>\n",
       "      <td>72.8333</td>\n",
       "      <td>India</td>\n",
       "      <td>IN</td>\n",
       "      <td>23355000.0</td>\n",
       "      <td>Mumbai,IN</td>\n",
       "    </tr>\n",
       "    <tr>\n",
       "      <th>4</th>\n",
       "      <td>Manila</td>\n",
       "      <td>14.6000</td>\n",
       "      <td>120.9833</td>\n",
       "      <td>Philippines</td>\n",
       "      <td>PH</td>\n",
       "      <td>23088000.0</td>\n",
       "      <td>Manila,PH</td>\n",
       "    </tr>\n",
       "  </tbody>\n",
       "</table>\n",
       "</div>"
      ],
      "text/plain": [
       "      city      lat       lng      country iso2  population  \\\n",
       "0    Tokyo  35.6897  139.6922        Japan   JP  37977000.0   \n",
       "1  Jakarta  -6.2146  106.8451    Indonesia   ID  34540000.0   \n",
       "2    Delhi  28.6600   77.2300        India   IN  29617000.0   \n",
       "3   Mumbai  18.9667   72.8333        India   IN  23355000.0   \n",
       "4   Manila  14.6000  120.9833  Philippines   PH  23088000.0   \n",
       "\n",
       "  municipality_iso_country  \n",
       "0                 Tokyo,JP  \n",
       "1               Jakarta,ID  \n",
       "2                 Delhi,IN  \n",
       "3                Mumbai,IN  \n",
       "4                Manila,PH  "
      ]
     },
     "execution_count": 7,
     "metadata": {},
     "output_type": "execute_result"
    }
   ],
   "source": [
    "city_pop.head()"
   ]
  },
  {
   "cell_type": "code",
   "execution_count": 8,
   "id": "8d2bb898-b31b-4d12-ad8b-3ed2d754daf5",
   "metadata": {},
   "outputs": [
    {
     "name": "stdout",
     "output_type": "stream",
     "text": [
      "<class 'pandas.core.frame.DataFrame'>\n",
      "RangeIndex: 41001 entries, 0 to 41000\n",
      "Data columns (total 7 columns):\n",
      " #   Column                    Non-Null Count  Dtype  \n",
      "---  ------                    --------------  -----  \n",
      " 0   city                      41001 non-null  object \n",
      " 1   lat                       41001 non-null  float64\n",
      " 2   lng                       41001 non-null  float64\n",
      " 3   country                   41001 non-null  object \n",
      " 4   iso2                      40970 non-null  object \n",
      " 5   population                40263 non-null  float64\n",
      " 6   municipality_iso_country  40970 non-null  object \n",
      "dtypes: float64(3), object(4)\n",
      "memory usage: 2.2+ MB\n"
     ]
    }
   ],
   "source": [
    "city_pop.info()"
   ]
  },
  {
   "cell_type": "code",
   "execution_count": 9,
   "id": "ba742fdc-a38c-429a-b35e-ce5e0a7a9f13",
   "metadata": {},
   "outputs": [
    {
     "data": {
      "text/plain": [
       "38588"
      ]
     },
     "execution_count": 9,
     "metadata": {},
     "output_type": "execute_result"
    }
   ],
   "source": [
    "#test for unique values in the municipality_iso_country column\n",
    "city_pop['municipality_iso_country'].nunique()"
   ]
  },
  {
   "cell_type": "code",
   "execution_count": 10,
   "id": "f0d24a24-9641-45f8-b5e5-a61d688c2db1",
   "metadata": {},
   "outputs": [],
   "source": [
    "#drop duplictes in municipality_iso_countrs table\n",
    "city_pop.drop_duplicates(subset='municipality_iso_country', inplace=True)"
   ]
  },
  {
   "cell_type": "code",
   "execution_count": 9,
   "id": "6fb82693-3495-4092-8ade-7093a50cae7e",
   "metadata": {},
   "outputs": [],
   "source": [
    "# List of cities from which to fetch the population data\n",
    "city_list = ['Berlin', 'Paris', 'Barcelona', 'Madrid', 'Istanbul', 'Moscow', 'London', 'Saint Petersburg', 'Kyiv', 'Rome', 'Bucharest', 'Minsk', 'Vienna', 'Hamburg', 'Warsaw', 'Budapest', 'Munich', 'Milan', 'Belgrade', 'Prague', 'Sofia', 'Birmingham', 'Cologne', 'Odessa', 'Stockholm', 'Naples', 'Turin', 'Amsterdam', 'Marseille', 'Zagreb', 'Copenhagen', 'Valencia', 'Krakow', 'Frankfurt', 'Zaragoza', 'Athens', 'Palermo', 'Helsinki', 'Rotterdam', 'Stuttgart', 'Riga', 'Düsseldorf', 'Vilnius', 'Leipzig', 'Dublin', 'Tallinn']"
   ]
  },
  {
   "cell_type": "code",
   "execution_count": 10,
   "id": "95a52286-493d-4c14-a6b9-a6d3e9997a5e",
   "metadata": {
    "tags": []
   },
   "outputs": [],
   "source": [
    "# get the city id from the wikipedia site of the city - there from the link to the wikidata page\n",
    "def get_city_id(soup):\n",
    "    \n",
    "    if soup.find('li', {'id':'t-wikibase'}).find('a')['href'] != None:\n",
    "        wikidata_link = soup.find('li', {'id':'t-wikibase'}).find('a')['href']\n",
    "        city_id = re.search('Q\\d+', wikidata_link).group()\n",
    "        \n",
    "    return city_id\n",
    "\n",
    "# request city ids from wikipedia city page and create a list of all wikidata city ids\n",
    "list_cityid = []\n",
    "for city in city_list:\n",
    "    url = 'https://en.wikipedia.org/wiki/{}'.format(city)\n",
    "    web = requests.get(url, 'html.parser')\n",
    "    soup = BeautifulSoup(web.content)\n",
    "    list_cityid.append(get_city_id(soup))"
   ]
  },
  {
   "cell_type": "code",
   "execution_count": 11,
   "id": "e420f5a1-f23a-4c2d-8424-0f4a3217ee7c",
   "metadata": {
    "collapsed": true,
    "jupyter": {
     "outputs_hidden": true
    },
    "tags": []
   },
   "outputs": [
    {
     "data": {
      "text/plain": [
       "['Q64',\n",
       " 'Q90',\n",
       " 'Q1492',\n",
       " 'Q2807',\n",
       " 'Q406',\n",
       " 'Q649',\n",
       " 'Q84',\n",
       " 'Q656',\n",
       " 'Q1899',\n",
       " 'Q220',\n",
       " 'Q19660',\n",
       " 'Q2280',\n",
       " 'Q1741',\n",
       " 'Q1055',\n",
       " 'Q270',\n",
       " 'Q1781',\n",
       " 'Q1726',\n",
       " 'Q490',\n",
       " 'Q3711',\n",
       " 'Q1085',\n",
       " 'Q472',\n",
       " 'Q2256',\n",
       " 'Q365',\n",
       " 'Q1874',\n",
       " 'Q1754',\n",
       " 'Q2634',\n",
       " 'Q495',\n",
       " 'Q727',\n",
       " 'Q23482',\n",
       " 'Q1435',\n",
       " 'Q1748',\n",
       " 'Q8818',\n",
       " 'Q31487',\n",
       " 'Q1794',\n",
       " 'Q10305',\n",
       " 'Q1524',\n",
       " 'Q2656',\n",
       " 'Q1757',\n",
       " 'Q34370',\n",
       " 'Q1022',\n",
       " 'Q1773',\n",
       " 'Q1718',\n",
       " 'Q216',\n",
       " 'Q2079',\n",
       " 'Q1761',\n",
       " 'Q1770']"
      ]
     },
     "execution_count": 11,
     "metadata": {},
     "output_type": "execute_result"
    }
   ],
   "source": [
    "list_cityid"
   ]
  },
  {
   "cell_type": "code",
   "execution_count": 35,
   "id": "9cb319f6-27f4-4859-a289-878a7e9b2d8a",
   "metadata": {},
   "outputs": [
    {
     "data": {
      "application/json": {
       "data": {
        "city": "Paris",
        "country": "France",
        "countryCode": "FR",
        "deleted": false,
        "distance": null,
        "elevationMeters": 28,
        "id": 144571,
        "latitude": 48.856944444,
        "longitude": 2.351388888,
        "name": "Paris",
        "population": 2175601,
        "region": "Île-de-France",
        "regionCode": "IDF",
        "timezone": "Europe__Paris",
        "type": "CITY",
        "wikiDataId": "Q90"
       }
      },
      "text/plain": [
       "<IPython.core.display.JSON object>"
      ]
     },
     "execution_count": 35,
     "metadata": {
      "application/json": {
       "expanded": false,
       "root": "root"
      }
     },
     "output_type": "execute_result"
    }
   ],
   "source": [
    "import requests\n",
    "\n",
    "# request the GeoDB Cities API with a city id\n",
    "url = \"https://wft-geo-db.p.rapidapi.com/v1/geo/cities/Q90\"\n",
    "\n",
    "headers = {\n",
    "    'x-rapidapi-host': \"wft-geo-db.p.rapidapi.com\",\n",
    "    'x-rapidapi-key': geo_db_key\n",
    "    }\n",
    "\n",
    "response = requests.request(\"GET\", url, headers=headers)\n",
    "\n",
    "JSON(response.json())"
   ]
  },
  {
   "cell_type": "code",
   "execution_count": 13,
   "id": "4cd5d7da-a978-476d-bf9e-8828f39941c8",
   "metadata": {
    "tags": []
   },
   "outputs": [],
   "source": [
    "import time\n",
    "\n",
    "# request header for the request on the GeoDB Cities API\n",
    "headers = {\n",
    "    'x-rapidapi-host': \"wft-geo-db.p.rapidapi.com\",\n",
    "    'x-rapidapi-key': geo_db_key\n",
    "    }  \n",
    "\n",
    "# get data for all cities in the city id list (list_cityid) from the GeoDB Cities API\n",
    "def get_city_data(cityid):\n",
    "    time.sleep(2)\n",
    "    city_url = f\"https://wft-geo-db.p.rapidapi.com/v1/geo/cities/{cityid}\"\n",
    "    city_response = requests.request(\"GET\", city_url, headers=headers)\n",
    "    city_data = city_response.json()\n",
    "    return{\n",
    "        #'wikidata_id' : city_data['data']['wikiDataId'],\n",
    "        'city' : city_data['data']['city'],\n",
    "        'country': city_data['data']['country'],\n",
    "        'country_code': city_data['data']['countryCode'],\n",
    "        'population': city_data['data']['population'],\n",
    "        'elevation_meters': city_data['data']['elevationMeters'],\n",
    "        'latitude': city_data['data']['latitude'],\n",
    "        'longitude': city_data['data']['longitude']\n",
    "    }\n",
    "    \n",
    "\n",
    "#create a DataFrame with thepopulation data for the cities\n",
    "city_pop2 = pd.DataFrame([get_city_data(city) for city in list_cityid])"
   ]
  },
  {
   "cell_type": "code",
   "execution_count": 14,
   "id": "c245e664-17e2-44f2-bef0-217c8390663f",
   "metadata": {
    "tags": []
   },
   "outputs": [
    {
     "data": {
      "text/html": [
       "<div>\n",
       "<style scoped>\n",
       "    .dataframe tbody tr th:only-of-type {\n",
       "        vertical-align: middle;\n",
       "    }\n",
       "\n",
       "    .dataframe tbody tr th {\n",
       "        vertical-align: top;\n",
       "    }\n",
       "\n",
       "    .dataframe thead th {\n",
       "        text-align: right;\n",
       "    }\n",
       "</style>\n",
       "<table border=\"1\" class=\"dataframe\">\n",
       "  <thead>\n",
       "    <tr style=\"text-align: right;\">\n",
       "      <th></th>\n",
       "      <th>city</th>\n",
       "      <th>country</th>\n",
       "      <th>country_code</th>\n",
       "      <th>population</th>\n",
       "      <th>elevation_meters</th>\n",
       "      <th>latitude</th>\n",
       "      <th>longitude</th>\n",
       "      <th>municipality_iso_country</th>\n",
       "    </tr>\n",
       "  </thead>\n",
       "  <tbody>\n",
       "    <tr>\n",
       "      <th>0</th>\n",
       "      <td>Berlin</td>\n",
       "      <td>Germany</td>\n",
       "      <td>DE</td>\n",
       "      <td>3644826</td>\n",
       "      <td>NaN</td>\n",
       "      <td>52.516667</td>\n",
       "      <td>13.383333</td>\n",
       "      <td>Berlin,DE</td>\n",
       "    </tr>\n",
       "    <tr>\n",
       "      <th>1</th>\n",
       "      <td>Paris</td>\n",
       "      <td>France</td>\n",
       "      <td>FR</td>\n",
       "      <td>2175601</td>\n",
       "      <td>28.0</td>\n",
       "      <td>48.856944</td>\n",
       "      <td>2.351389</td>\n",
       "      <td>Paris,FR</td>\n",
       "    </tr>\n",
       "    <tr>\n",
       "      <th>2</th>\n",
       "      <td>Barcelona</td>\n",
       "      <td>Spain</td>\n",
       "      <td>ES</td>\n",
       "      <td>1664182</td>\n",
       "      <td>12.0</td>\n",
       "      <td>41.382500</td>\n",
       "      <td>2.176944</td>\n",
       "      <td>Barcelona,ES</td>\n",
       "    </tr>\n",
       "    <tr>\n",
       "      <th>3</th>\n",
       "      <td>Madrid</td>\n",
       "      <td>Spain</td>\n",
       "      <td>ES</td>\n",
       "      <td>3334730</td>\n",
       "      <td>667.0</td>\n",
       "      <td>40.418889</td>\n",
       "      <td>-3.691944</td>\n",
       "      <td>Madrid,ES</td>\n",
       "    </tr>\n",
       "    <tr>\n",
       "      <th>4</th>\n",
       "      <td>Istanbul</td>\n",
       "      <td>Turkey</td>\n",
       "      <td>TR</td>\n",
       "      <td>15462452</td>\n",
       "      <td>100.0</td>\n",
       "      <td>41.010000</td>\n",
       "      <td>28.960278</td>\n",
       "      <td>Istanbul,TR</td>\n",
       "    </tr>\n",
       "  </tbody>\n",
       "</table>\n",
       "</div>"
      ],
      "text/plain": [
       "        city  country country_code  population  elevation_meters   latitude  \\\n",
       "0     Berlin  Germany           DE     3644826               NaN  52.516667   \n",
       "1      Paris   France           FR     2175601              28.0  48.856944   \n",
       "2  Barcelona    Spain           ES     1664182              12.0  41.382500   \n",
       "3     Madrid    Spain           ES     3334730             667.0  40.418889   \n",
       "4   Istanbul   Turkey           TR    15462452             100.0  41.010000   \n",
       "\n",
       "   longitude municipality_iso_country  \n",
       "0  13.383333                Berlin,DE  \n",
       "1   2.351389                 Paris,FR  \n",
       "2   2.176944             Barcelona,ES  \n",
       "3  -3.691944                Madrid,ES  \n",
       "4  28.960278              Istanbul,TR  "
      ]
     },
     "execution_count": 14,
     "metadata": {},
     "output_type": "execute_result"
    }
   ],
   "source": [
    "# add a reference column with city + country code to connect database tables\n",
    "city_pop2 = city_pop2.assign(municipality_iso_country = lambda x: x['city'] + ',' + x['country_code'] )\n",
    "city_pop2.head()"
   ]
  },
  {
   "cell_type": "markdown",
   "id": "e84d331a-0428-451a-a10c-b04145959a30",
   "metadata": {
    "tags": []
   },
   "source": [
    "## Get Airport Data from csv File\n",
    "\n",
    "from: http://www.lsv.fr/~sirangel/teaching/dataset/index.html\n",
    "\n",
    "Name:\tName of airport. May or may not contain the City name. \\\n",
    "City:\tMain city served by airport. May be spelled differently from Name. \\\n",
    "Country:\tCountry or territory where airport is located. \\\n",
    "IATA:\t3-letter IATA code (identifier). \\\n",
    "ICAO:\t4-letter ICAO code. \\\n",
    "Latitude:\tDecimal degrees, usually to six significant digits. Negative is South, positive is North. \\\n",
    "Longitude:\tDecimal degrees, usually to six significant digits. Negative is West, positive is East. \\\n",
    "Altitude:\tIn feet. \\\n",
    "Timezone:\tHours offset from UTC. - dropped \\\n",
    "DST:\tDaylight savings time One of E (Europe), A (US/Canada), S (South America), O (Australia), Z (New Zealand), N (None) or U (Unknown). - dropped\n"
   ]
  },
  {
   "cell_type": "code",
   "execution_count": 22,
   "id": "ad340605-61e3-4452-af0f-e16136882910",
   "metadata": {
    "tags": []
   },
   "outputs": [],
   "source": [
    "#read and process airports data\n",
    "airports = (\n",
    "    pd.read_csv('airports_joan.csv', sep=',')\n",
    "    .query('type == \"large_airport\"')\n",
    "    .filter(['name', 'latitude_deg', 'longitude_deg', 'elevation_ft', 'iso_country','iso_region', 'municipality','gps_code','iata_code'])\n",
    "    .rename(columns={'gps_code':'icao_code', 'name': 'airport_name'})\n",
    "    .assign(municipality_iso_country = lambda x: x['municipality'] + ',' + x['iso_country'])\n",
    ")"
   ]
  },
  {
   "cell_type": "code",
   "execution_count": 23,
   "id": "c5437e46-86e9-4b69-bb4a-9d5a314f346a",
   "metadata": {},
   "outputs": [
    {
     "data": {
      "text/html": [
       "<div>\n",
       "<style scoped>\n",
       "    .dataframe tbody tr th:only-of-type {\n",
       "        vertical-align: middle;\n",
       "    }\n",
       "\n",
       "    .dataframe tbody tr th {\n",
       "        vertical-align: top;\n",
       "    }\n",
       "\n",
       "    .dataframe thead th {\n",
       "        text-align: right;\n",
       "    }\n",
       "</style>\n",
       "<table border=\"1\" class=\"dataframe\">\n",
       "  <thead>\n",
       "    <tr style=\"text-align: right;\">\n",
       "      <th></th>\n",
       "      <th>airport_name</th>\n",
       "      <th>latitude_deg</th>\n",
       "      <th>longitude_deg</th>\n",
       "      <th>elevation_ft</th>\n",
       "      <th>iso_country</th>\n",
       "      <th>iso_region</th>\n",
       "      <th>municipality</th>\n",
       "      <th>icao_code</th>\n",
       "      <th>iata_code</th>\n",
       "      <th>municipality_iso_country</th>\n",
       "    </tr>\n",
       "  </thead>\n",
       "  <tbody>\n",
       "    <tr>\n",
       "      <th>10890</th>\n",
       "      <td>Honiara International Airport</td>\n",
       "      <td>-9.428000</td>\n",
       "      <td>160.054993</td>\n",
       "      <td>28.0</td>\n",
       "      <td>SB</td>\n",
       "      <td>SB-CT</td>\n",
       "      <td>Honiara</td>\n",
       "      <td>AGGH</td>\n",
       "      <td>HIR</td>\n",
       "      <td>Honiara,SB</td>\n",
       "    </tr>\n",
       "    <tr>\n",
       "      <th>12461</th>\n",
       "      <td>Port Moresby Jacksons International Airport</td>\n",
       "      <td>-9.443380</td>\n",
       "      <td>147.220001</td>\n",
       "      <td>146.0</td>\n",
       "      <td>PG</td>\n",
       "      <td>PG-NCD</td>\n",
       "      <td>Port Moresby</td>\n",
       "      <td>AYPY</td>\n",
       "      <td>POM</td>\n",
       "      <td>Port Moresby,PG</td>\n",
       "    </tr>\n",
       "    <tr>\n",
       "      <th>12981</th>\n",
       "      <td>Keflavik International Airport</td>\n",
       "      <td>63.985001</td>\n",
       "      <td>-22.605600</td>\n",
       "      <td>171.0</td>\n",
       "      <td>IS</td>\n",
       "      <td>IS-2</td>\n",
       "      <td>Reykjavík</td>\n",
       "      <td>BIKF</td>\n",
       "      <td>KEF</td>\n",
       "      <td>Reykjavík,IS</td>\n",
       "    </tr>\n",
       "    <tr>\n",
       "      <th>13028</th>\n",
       "      <td>Priština Adem Jashari International Airport</td>\n",
       "      <td>42.572800</td>\n",
       "      <td>21.035801</td>\n",
       "      <td>1789.0</td>\n",
       "      <td>XK</td>\n",
       "      <td>XK-01</td>\n",
       "      <td>Prishtina</td>\n",
       "      <td>BKPR</td>\n",
       "      <td>PRN</td>\n",
       "      <td>Prishtina,XK</td>\n",
       "    </tr>\n",
       "    <tr>\n",
       "      <th>17254</th>\n",
       "      <td>Guodu Air Base</td>\n",
       "      <td>36.001741</td>\n",
       "      <td>117.632010</td>\n",
       "      <td>NaN</td>\n",
       "      <td>CN</td>\n",
       "      <td>CN-37</td>\n",
       "      <td>Xintai, Tai'an</td>\n",
       "      <td>NaN</td>\n",
       "      <td>NaN</td>\n",
       "      <td>Xintai, Tai'an,CN</td>\n",
       "    </tr>\n",
       "  </tbody>\n",
       "</table>\n",
       "</div>"
      ],
      "text/plain": [
       "                                      airport_name  latitude_deg  \\\n",
       "10890                Honiara International Airport     -9.428000   \n",
       "12461  Port Moresby Jacksons International Airport     -9.443380   \n",
       "12981               Keflavik International Airport     63.985001   \n",
       "13028  Priština Adem Jashari International Airport     42.572800   \n",
       "17254                               Guodu Air Base     36.001741   \n",
       "\n",
       "       longitude_deg  elevation_ft iso_country iso_region    municipality  \\\n",
       "10890     160.054993          28.0          SB      SB-CT         Honiara   \n",
       "12461     147.220001         146.0          PG     PG-NCD    Port Moresby   \n",
       "12981     -22.605600         171.0          IS       IS-2       Reykjavík   \n",
       "13028      21.035801        1789.0          XK      XK-01       Prishtina   \n",
       "17254     117.632010           NaN          CN      CN-37  Xintai, Tai'an   \n",
       "\n",
       "      icao_code iata_code municipality_iso_country  \n",
       "10890      AGGH       HIR               Honiara,SB  \n",
       "12461      AYPY       POM          Port Moresby,PG  \n",
       "12981      BIKF       KEF             Reykjavík,IS  \n",
       "13028      BKPR       PRN             Prishtina,XK  \n",
       "17254       NaN       NaN        Xintai, Tai'an,CN  "
      ]
     },
     "execution_count": 23,
     "metadata": {},
     "output_type": "execute_result"
    }
   ],
   "source": [
    "airports.head()"
   ]
  },
  {
   "cell_type": "code",
   "execution_count": 24,
   "id": "df146532-baa2-456b-a8bb-04da420f3ee3",
   "metadata": {},
   "outputs": [
    {
     "name": "stdout",
     "output_type": "stream",
     "text": [
      "<class 'pandas.core.frame.DataFrame'>\n",
      "Int64Index: 624 entries, 10890 to 68323\n",
      "Data columns (total 10 columns):\n",
      " #   Column                    Non-Null Count  Dtype  \n",
      "---  ------                    --------------  -----  \n",
      " 0   airport_name              624 non-null    object \n",
      " 1   latitude_deg              624 non-null    float64\n",
      " 2   longitude_deg             624 non-null    float64\n",
      " 3   elevation_ft              622 non-null    float64\n",
      " 4   iso_country               623 non-null    object \n",
      " 5   iso_region                624 non-null    object \n",
      " 6   municipality              619 non-null    object \n",
      " 7   icao_code                 619 non-null    object \n",
      " 8   iata_code                 617 non-null    object \n",
      " 9   municipality_iso_country  618 non-null    object \n",
      "dtypes: float64(3), object(7)\n",
      "memory usage: 53.6+ KB\n"
     ]
    }
   ],
   "source": [
    "airports.info()"
   ]
  },
  {
   "cell_type": "code",
   "execution_count": 25,
   "id": "f25179f4-73e6-4d4f-9d16-96d60193b79d",
   "metadata": {},
   "outputs": [
    {
     "data": {
      "text/plain": [
       "619"
      ]
     },
     "execution_count": 25,
     "metadata": {},
     "output_type": "execute_result"
    }
   ],
   "source": [
    "airports['icao_code'].nunique()"
   ]
  },
  {
   "cell_type": "code",
   "execution_count": 26,
   "id": "78289c2e-b334-44a3-ae2a-fe9c6880ed07",
   "metadata": {},
   "outputs": [],
   "source": [
    "#dropped the duplicated 'icao' values, basically the ones with \\N, where icao was not available\n",
    "airports.drop_duplicates(subset='icao_code', inplace=True)"
   ]
  },
  {
   "cell_type": "markdown",
   "id": "c12a48e4-5b65-4415-b1dd-3268b6542e1f",
   "metadata": {},
   "source": [
    "## Transfer the data into the local MySQL database"
   ]
  },
  {
   "cell_type": "code",
   "execution_count": 35,
   "id": "7f707f98-e206-4fc2-aae5-a2ba9dd5a009",
   "metadata": {
    "collapsed": true,
    "jupyter": {
     "outputs_hidden": true
    },
    "tags": []
   },
   "outputs": [
    {
     "name": "stdout",
     "output_type": "stream",
     "text": [
      "Requirement already satisfied: awswrangler in c:\\users\\kris\\anaconda3\\lib\\site-packages (2.12.1)\n",
      "Requirement already satisfied: pg8000<1.22.0,>=1.16.0 in c:\\users\\kris\\anaconda3\\lib\\site-packages (from awswrangler) (1.21.3)\n",
      "Requirement already satisfied: pandas<2.0.0,>=1.2.0 in c:\\users\\kris\\anaconda3\\lib\\site-packages (from awswrangler) (1.2.4)\n",
      "Requirement already satisfied: jsonpath-ng<2.0.0,>=1.5.3 in c:\\users\\kris\\anaconda3\\lib\\site-packages (from awswrangler) (1.5.3)\n",
      "Requirement already satisfied: progressbar2<4.0.0,>=3.53.3 in c:\\users\\kris\\anaconda3\\lib\\site-packages (from awswrangler) (3.55.0)\n",
      "Requirement already satisfied: pyarrow<5.1.0,>=2.0.0 in c:\\users\\kris\\anaconda3\\lib\\site-packages (from awswrangler) (5.0.0)\n",
      "Requirement already satisfied: pymysql<1.1.0,>=0.9.0 in c:\\users\\kris\\anaconda3\\lib\\site-packages (from awswrangler) (1.0.2)\n",
      "Requirement already satisfied: redshift-connector<2.1.0,>=2.0.887 in c:\\users\\kris\\anaconda3\\lib\\site-packages (from awswrangler) (2.0.900)\n",
      "Requirement already satisfied: requests-aws4auth<2.0.0,>=1.1.1 in c:\\users\\kris\\anaconda3\\lib\\site-packages (from awswrangler) (1.1.1)\n",
      "Requirement already satisfied: opensearch-py<2.0.0,>=1.0.0 in c:\\users\\kris\\anaconda3\\lib\\site-packages (from awswrangler) (1.0.0)\n",
      "Requirement already satisfied: boto3<2.0.0,>=1.16.8 in c:\\users\\kris\\anaconda3\\lib\\site-packages (from awswrangler) (1.20.16)\n",
      "Requirement already satisfied: openpyxl<3.1.0,>=3.0.0 in c:\\users\\kris\\anaconda3\\lib\\site-packages (from awswrangler) (3.0.7)\n",
      "Requirement already satisfied: numpy<2.0.0,>=1.18.0 in c:\\users\\kris\\anaconda3\\lib\\site-packages (from awswrangler) (1.20.1)Note: you may need to restart the kernel to use updated packages.\n",
      "\n",
      "Requirement already satisfied: botocore<2.0.0,>=1.19.8 in c:\\users\\kris\\anaconda3\\lib\\site-packages (from awswrangler) (1.23.16)\n",
      "Requirement already satisfied: s3transfer<0.6.0,>=0.5.0 in c:\\users\\kris\\anaconda3\\lib\\site-packages (from boto3<2.0.0,>=1.16.8->awswrangler) (0.5.0)\n",
      "Requirement already satisfied: jmespath<1.0.0,>=0.7.1 in c:\\users\\kris\\anaconda3\\lib\\site-packages (from boto3<2.0.0,>=1.16.8->awswrangler) (0.10.0)\n",
      "Requirement already satisfied: python-dateutil<3.0.0,>=2.1 in c:\\users\\kris\\anaconda3\\lib\\site-packages (from botocore<2.0.0,>=1.19.8->awswrangler) (2.8.1)\n",
      "Requirement already satisfied: urllib3<1.27,>=1.25.4 in c:\\users\\kris\\anaconda3\\lib\\site-packages (from botocore<2.0.0,>=1.19.8->awswrangler) (1.26.4)\n",
      "Requirement already satisfied: ply in c:\\users\\kris\\anaconda3\\lib\\site-packages (from jsonpath-ng<2.0.0,>=1.5.3->awswrangler) (3.11)\n",
      "Requirement already satisfied: six in c:\\users\\kris\\anaconda3\\lib\\site-packages (from jsonpath-ng<2.0.0,>=1.5.3->awswrangler) (1.15.0)\n",
      "Requirement already satisfied: decorator in c:\\users\\kris\\anaconda3\\lib\\site-packages (from jsonpath-ng<2.0.0,>=1.5.3->awswrangler) (5.0.6)\n",
      "Requirement already satisfied: et-xmlfile in c:\\users\\kris\\anaconda3\\lib\\site-packages (from openpyxl<3.1.0,>=3.0.0->awswrangler) (1.0.1)\n",
      "Requirement already satisfied: certifi in c:\\users\\kris\\anaconda3\\lib\\site-packages (from opensearch-py<2.0.0,>=1.0.0->awswrangler) (2020.12.5)\n",
      "Requirement already satisfied: pytz>=2017.3 in c:\\users\\kris\\anaconda3\\lib\\site-packages (from pandas<2.0.0,>=1.2.0->awswrangler) (2021.1)\n",
      "Requirement already satisfied: scramp>=1.4.1 in c:\\users\\kris\\anaconda3\\lib\\site-packages (from pg8000<1.22.0,>=1.16.0->awswrangler) (1.4.1)\n",
      "Requirement already satisfied: python-utils>=2.3.0 in c:\\users\\kris\\anaconda3\\lib\\site-packages (from progressbar2<4.0.0,>=3.53.3->awswrangler) (2.5.6)\n",
      "Requirement already satisfied: requests<2.26.1,>=2.23.0 in c:\\users\\kris\\anaconda3\\lib\\site-packages (from redshift-connector<2.1.0,>=2.0.887->awswrangler) (2.25.1)\n",
      "Requirement already satisfied: lxml>=4.6.2 in c:\\users\\kris\\anaconda3\\lib\\site-packages (from redshift-connector<2.1.0,>=2.0.887->awswrangler) (4.6.3)\n",
      "Requirement already satisfied: beautifulsoup4<5.0.0,>=4.7.0 in c:\\users\\kris\\anaconda3\\lib\\site-packages (from redshift-connector<2.1.0,>=2.0.887->awswrangler) (4.9.3)\n",
      "Requirement already satisfied: packaging in c:\\users\\kris\\anaconda3\\lib\\site-packages (from redshift-connector<2.1.0,>=2.0.887->awswrangler) (20.9)\n",
      "Requirement already satisfied: soupsieve>1.2 in c:\\users\\kris\\anaconda3\\lib\\site-packages (from beautifulsoup4<5.0.0,>=4.7.0->redshift-connector<2.1.0,>=2.0.887->awswrangler) (2.2.1)\n",
      "Requirement already satisfied: idna<3,>=2.5 in c:\\users\\kris\\anaconda3\\lib\\site-packages (from requests<2.26.1,>=2.23.0->redshift-connector<2.1.0,>=2.0.887->awswrangler) (2.10)\n",
      "Requirement already satisfied: chardet<5,>=3.0.2 in c:\\users\\kris\\anaconda3\\lib\\site-packages (from requests<2.26.1,>=2.23.0->redshift-connector<2.1.0,>=2.0.887->awswrangler) (4.0.0)\n",
      "Requirement already satisfied: asn1crypto>=1.4.0 in c:\\users\\kris\\anaconda3\\lib\\site-packages (from scramp>=1.4.1->pg8000<1.22.0,>=1.16.0->awswrangler) (1.4.0)\n",
      "Requirement already satisfied: pyparsing>=2.0.2 in c:\\users\\kris\\anaconda3\\lib\\site-packages (from packaging->redshift-connector<2.1.0,>=2.0.887->awswrangler) (2.4.7)\n"
     ]
    }
   ],
   "source": [
    "pip install awswrangler"
   ]
  },
  {
   "cell_type": "code",
   "execution_count": 7,
   "id": "c6f6386b-5d83-44fb-adc9-85b2f0e91555",
   "metadata": {},
   "outputs": [],
   "source": [
    "import awswrangler as wr\n",
    "import pandas as pd\n",
    "import sqlalchemy\n",
    "import numpy as np"
   ]
  },
  {
   "cell_type": "code",
   "execution_count": 8,
   "id": "7dc4ac74-81cb-4b32-a02f-1f2d9b092252",
   "metadata": {},
   "outputs": [],
   "source": [
    "# connection details for the local mysql database\n",
    "schema = \"gans\"\n",
    "host = \"127.0.0.1\"\n",
    "user = \"root\"\n",
    "password = mysql_pw\n",
    "port = 3306\n",
    "con = f'mysql+pymysql://{user}:{password}@{host}:{port}/{schema}'"
   ]
  },
  {
   "cell_type": "code",
   "execution_count": 52,
   "id": "5827918d-64d7-4075-b531-467756e9dca7",
   "metadata": {},
   "outputs": [],
   "source": [
    "city_pop2 = city_pop2.replace({np.nan}, 'unknown')"
   ]
  },
  {
   "cell_type": "code",
   "execution_count": 53,
   "id": "3195c641-4633-4dde-94af-733fd39fb0dc",
   "metadata": {},
   "outputs": [],
   "source": [
    "city_pop2.to_sql('city_pop', if_exists = 'append', con = con, index=False)"
   ]
  },
  {
   "cell_type": "code",
   "execution_count": 55,
   "id": "339c6429-1289-44d7-b8ef-40031986dc70",
   "metadata": {
    "collapsed": true,
    "jupyter": {
     "outputs_hidden": true,
     "source_hidden": true
    },
    "tags": []
   },
   "outputs": [
    {
     "data": {
      "text/html": [
       "<div>\n",
       "<style scoped>\n",
       "    .dataframe tbody tr th:only-of-type {\n",
       "        vertical-align: middle;\n",
       "    }\n",
       "\n",
       "    .dataframe tbody tr th {\n",
       "        vertical-align: top;\n",
       "    }\n",
       "\n",
       "    .dataframe thead th {\n",
       "        text-align: right;\n",
       "    }\n",
       "</style>\n",
       "<table border=\"1\" class=\"dataframe\">\n",
       "  <thead>\n",
       "    <tr style=\"text-align: right;\">\n",
       "      <th></th>\n",
       "      <th>city</th>\n",
       "      <th>country</th>\n",
       "      <th>country_code</th>\n",
       "      <th>population</th>\n",
       "      <th>elevation_meters</th>\n",
       "      <th>latitude</th>\n",
       "      <th>longitude</th>\n",
       "      <th>municipality_iso_country</th>\n",
       "    </tr>\n",
       "  </thead>\n",
       "  <tbody>\n",
       "    <tr>\n",
       "      <th>0</th>\n",
       "      <td>Madrid</td>\n",
       "      <td>Spain</td>\n",
       "      <td>ES</td>\n",
       "      <td>3334730</td>\n",
       "      <td>667</td>\n",
       "      <td>40.418889</td>\n",
       "      <td>-3.691944</td>\n",
       "      <td>Madrid,ES</td>\n",
       "    </tr>\n",
       "    <tr>\n",
       "      <th>1</th>\n",
       "      <td>Moscow</td>\n",
       "      <td>Russia</td>\n",
       "      <td>RU</td>\n",
       "      <td>12655050</td>\n",
       "      <td>156</td>\n",
       "      <td>55.755833</td>\n",
       "      <td>37.617778</td>\n",
       "      <td>Moscow,RU</td>\n",
       "    </tr>\n",
       "    <tr>\n",
       "      <th>2</th>\n",
       "      <td>Kyiv</td>\n",
       "      <td>Ukraine</td>\n",
       "      <td>UA</td>\n",
       "      <td>2963199</td>\n",
       "      <td>179</td>\n",
       "      <td>50.450000</td>\n",
       "      <td>30.523611</td>\n",
       "      <td>Kyiv,UA</td>\n",
       "    </tr>\n",
       "    <tr>\n",
       "      <th>3</th>\n",
       "      <td>Minsk</td>\n",
       "      <td>Belarus</td>\n",
       "      <td>BY</td>\n",
       "      <td>2009786</td>\n",
       "      <td>280</td>\n",
       "      <td>53.900000</td>\n",
       "      <td>27.566670</td>\n",
       "      <td>Minsk,BY</td>\n",
       "    </tr>\n",
       "    <tr>\n",
       "      <th>4</th>\n",
       "      <td>Vienna</td>\n",
       "      <td>Austria</td>\n",
       "      <td>AT</td>\n",
       "      <td>1911191</td>\n",
       "      <td>171</td>\n",
       "      <td>48.208330</td>\n",
       "      <td>16.373064</td>\n",
       "      <td>Vienna,AT</td>\n",
       "    </tr>\n",
       "    <tr>\n",
       "      <th>5</th>\n",
       "      <td>Warsaw</td>\n",
       "      <td>Poland</td>\n",
       "      <td>PL</td>\n",
       "      <td>1790658</td>\n",
       "      <td>103</td>\n",
       "      <td>52.216667</td>\n",
       "      <td>21.033333</td>\n",
       "      <td>Warsaw,PL</td>\n",
       "    </tr>\n",
       "    <tr>\n",
       "      <th>6</th>\n",
       "      <td>Budapest</td>\n",
       "      <td>Hungary</td>\n",
       "      <td>HU</td>\n",
       "      <td>1723836</td>\n",
       "      <td>102</td>\n",
       "      <td>47.498333</td>\n",
       "      <td>19.040833</td>\n",
       "      <td>Budapest,HU</td>\n",
       "    </tr>\n",
       "    <tr>\n",
       "      <th>7</th>\n",
       "      <td>Munich</td>\n",
       "      <td>Germany</td>\n",
       "      <td>DE</td>\n",
       "      <td>1471508</td>\n",
       "      <td>519</td>\n",
       "      <td>48.134520</td>\n",
       "      <td>11.571000</td>\n",
       "      <td>Munich,DE</td>\n",
       "    </tr>\n",
       "    <tr>\n",
       "      <th>8</th>\n",
       "      <td>Milan</td>\n",
       "      <td>Italy</td>\n",
       "      <td>IT</td>\n",
       "      <td>1366180</td>\n",
       "      <td>120</td>\n",
       "      <td>45.466944</td>\n",
       "      <td>9.190000</td>\n",
       "      <td>Milan,IT</td>\n",
       "    </tr>\n",
       "    <tr>\n",
       "      <th>9</th>\n",
       "      <td>Belgrade</td>\n",
       "      <td>Serbia</td>\n",
       "      <td>RS</td>\n",
       "      <td>1378682</td>\n",
       "      <td>117</td>\n",
       "      <td>44.816667</td>\n",
       "      <td>20.466667</td>\n",
       "      <td>Belgrade,RS</td>\n",
       "    </tr>\n",
       "    <tr>\n",
       "      <th>10</th>\n",
       "      <td>Sofia</td>\n",
       "      <td>Bulgaria</td>\n",
       "      <td>BG</td>\n",
       "      <td>1355142</td>\n",
       "      <td>595</td>\n",
       "      <td>42.697886</td>\n",
       "      <td>23.321726</td>\n",
       "      <td>Sofia,BG</td>\n",
       "    </tr>\n",
       "    <tr>\n",
       "      <th>11</th>\n",
       "      <td>Turin</td>\n",
       "      <td>Italy</td>\n",
       "      <td>IT</td>\n",
       "      <td>870952</td>\n",
       "      <td>239</td>\n",
       "      <td>45.066667</td>\n",
       "      <td>7.700000</td>\n",
       "      <td>Turin,IT</td>\n",
       "    </tr>\n",
       "    <tr>\n",
       "      <th>12</th>\n",
       "      <td>Zagreb</td>\n",
       "      <td>Croatia</td>\n",
       "      <td>HR</td>\n",
       "      <td>802588</td>\n",
       "      <td>158</td>\n",
       "      <td>45.813056</td>\n",
       "      <td>15.977222</td>\n",
       "      <td>Zagreb,HR</td>\n",
       "    </tr>\n",
       "    <tr>\n",
       "      <th>13</th>\n",
       "      <td>Kraków</td>\n",
       "      <td>Poland</td>\n",
       "      <td>PL</td>\n",
       "      <td>766739</td>\n",
       "      <td>219</td>\n",
       "      <td>50.061389</td>\n",
       "      <td>19.937222</td>\n",
       "      <td>Kraków,PL</td>\n",
       "    </tr>\n",
       "    <tr>\n",
       "      <th>14</th>\n",
       "      <td>Frankfurt</td>\n",
       "      <td>Germany</td>\n",
       "      <td>DE</td>\n",
       "      <td>753056</td>\n",
       "      <td>112</td>\n",
       "      <td>50.113611</td>\n",
       "      <td>8.679722</td>\n",
       "      <td>Frankfurt,DE</td>\n",
       "    </tr>\n",
       "    <tr>\n",
       "      <th>15</th>\n",
       "      <td>Zaragoza</td>\n",
       "      <td>Spain</td>\n",
       "      <td>ES</td>\n",
       "      <td>681877</td>\n",
       "      <td>200</td>\n",
       "      <td>41.650000</td>\n",
       "      <td>-0.883333</td>\n",
       "      <td>Zaragoza,ES</td>\n",
       "    </tr>\n",
       "    <tr>\n",
       "      <th>16</th>\n",
       "      <td>Athens</td>\n",
       "      <td>Greece</td>\n",
       "      <td>GR</td>\n",
       "      <td>664046</td>\n",
       "      <td>170</td>\n",
       "      <td>37.983760</td>\n",
       "      <td>23.727840</td>\n",
       "      <td>Athens,GR</td>\n",
       "    </tr>\n",
       "    <tr>\n",
       "      <th>17</th>\n",
       "      <td>Stuttgart</td>\n",
       "      <td>Germany</td>\n",
       "      <td>DE</td>\n",
       "      <td>634830</td>\n",
       "      <td>245</td>\n",
       "      <td>48.776111</td>\n",
       "      <td>9.177500</td>\n",
       "      <td>Stuttgart,DE</td>\n",
       "    </tr>\n",
       "    <tr>\n",
       "      <th>18</th>\n",
       "      <td>Vilnius</td>\n",
       "      <td>Lithuania</td>\n",
       "      <td>LT</td>\n",
       "      <td>574147</td>\n",
       "      <td>112</td>\n",
       "      <td>54.683333</td>\n",
       "      <td>25.283333</td>\n",
       "      <td>Vilnius,LT</td>\n",
       "    </tr>\n",
       "    <tr>\n",
       "      <th>19</th>\n",
       "      <td>Leipzig</td>\n",
       "      <td>Germany</td>\n",
       "      <td>DE</td>\n",
       "      <td>597215</td>\n",
       "      <td>113</td>\n",
       "      <td>51.333333</td>\n",
       "      <td>12.383333</td>\n",
       "      <td>Leipzig,DE</td>\n",
       "    </tr>\n",
       "    <tr>\n",
       "      <th>20</th>\n",
       "      <td>Tallinn</td>\n",
       "      <td>Estonia</td>\n",
       "      <td>EE</td>\n",
       "      <td>438341</td>\n",
       "      <td>143</td>\n",
       "      <td>59.437222</td>\n",
       "      <td>24.745000</td>\n",
       "      <td>Tallinn,EE</td>\n",
       "    </tr>\n",
       "    <tr>\n",
       "      <th>21</th>\n",
       "      <td>Madrid</td>\n",
       "      <td>Spain</td>\n",
       "      <td>ES</td>\n",
       "      <td>3334730</td>\n",
       "      <td>667</td>\n",
       "      <td>40.418889</td>\n",
       "      <td>-3.691944</td>\n",
       "      <td>Madrid,ES</td>\n",
       "    </tr>\n",
       "    <tr>\n",
       "      <th>22</th>\n",
       "      <td>Moscow</td>\n",
       "      <td>Russia</td>\n",
       "      <td>RU</td>\n",
       "      <td>12655050</td>\n",
       "      <td>156</td>\n",
       "      <td>55.755833</td>\n",
       "      <td>37.617778</td>\n",
       "      <td>Moscow,RU</td>\n",
       "    </tr>\n",
       "    <tr>\n",
       "      <th>23</th>\n",
       "      <td>Kyiv</td>\n",
       "      <td>Ukraine</td>\n",
       "      <td>UA</td>\n",
       "      <td>2963199</td>\n",
       "      <td>179</td>\n",
       "      <td>50.450000</td>\n",
       "      <td>30.523611</td>\n",
       "      <td>Kyiv,UA</td>\n",
       "    </tr>\n",
       "    <tr>\n",
       "      <th>24</th>\n",
       "      <td>Minsk</td>\n",
       "      <td>Belarus</td>\n",
       "      <td>BY</td>\n",
       "      <td>2009786</td>\n",
       "      <td>280</td>\n",
       "      <td>53.900000</td>\n",
       "      <td>27.566670</td>\n",
       "      <td>Minsk,BY</td>\n",
       "    </tr>\n",
       "    <tr>\n",
       "      <th>25</th>\n",
       "      <td>Vienna</td>\n",
       "      <td>Austria</td>\n",
       "      <td>AT</td>\n",
       "      <td>1911191</td>\n",
       "      <td>171</td>\n",
       "      <td>48.208330</td>\n",
       "      <td>16.373064</td>\n",
       "      <td>Vienna,AT</td>\n",
       "    </tr>\n",
       "    <tr>\n",
       "      <th>26</th>\n",
       "      <td>Warsaw</td>\n",
       "      <td>Poland</td>\n",
       "      <td>PL</td>\n",
       "      <td>1790658</td>\n",
       "      <td>103</td>\n",
       "      <td>52.216667</td>\n",
       "      <td>21.033333</td>\n",
       "      <td>Warsaw,PL</td>\n",
       "    </tr>\n",
       "    <tr>\n",
       "      <th>27</th>\n",
       "      <td>Budapest</td>\n",
       "      <td>Hungary</td>\n",
       "      <td>HU</td>\n",
       "      <td>1723836</td>\n",
       "      <td>102</td>\n",
       "      <td>47.498333</td>\n",
       "      <td>19.040833</td>\n",
       "      <td>Budapest,HU</td>\n",
       "    </tr>\n",
       "    <tr>\n",
       "      <th>28</th>\n",
       "      <td>Munich</td>\n",
       "      <td>Germany</td>\n",
       "      <td>DE</td>\n",
       "      <td>1471508</td>\n",
       "      <td>519</td>\n",
       "      <td>48.134520</td>\n",
       "      <td>11.571000</td>\n",
       "      <td>Munich,DE</td>\n",
       "    </tr>\n",
       "    <tr>\n",
       "      <th>29</th>\n",
       "      <td>Milan</td>\n",
       "      <td>Italy</td>\n",
       "      <td>IT</td>\n",
       "      <td>1366180</td>\n",
       "      <td>120</td>\n",
       "      <td>45.466944</td>\n",
       "      <td>9.190000</td>\n",
       "      <td>Milan,IT</td>\n",
       "    </tr>\n",
       "    <tr>\n",
       "      <th>30</th>\n",
       "      <td>Belgrade</td>\n",
       "      <td>Serbia</td>\n",
       "      <td>RS</td>\n",
       "      <td>1378682</td>\n",
       "      <td>117</td>\n",
       "      <td>44.816667</td>\n",
       "      <td>20.466667</td>\n",
       "      <td>Belgrade,RS</td>\n",
       "    </tr>\n",
       "    <tr>\n",
       "      <th>31</th>\n",
       "      <td>Sofia</td>\n",
       "      <td>Bulgaria</td>\n",
       "      <td>BG</td>\n",
       "      <td>1355142</td>\n",
       "      <td>595</td>\n",
       "      <td>42.697886</td>\n",
       "      <td>23.321726</td>\n",
       "      <td>Sofia,BG</td>\n",
       "    </tr>\n",
       "    <tr>\n",
       "      <th>32</th>\n",
       "      <td>Turin</td>\n",
       "      <td>Italy</td>\n",
       "      <td>IT</td>\n",
       "      <td>870952</td>\n",
       "      <td>239</td>\n",
       "      <td>45.066667</td>\n",
       "      <td>7.700000</td>\n",
       "      <td>Turin,IT</td>\n",
       "    </tr>\n",
       "    <tr>\n",
       "      <th>33</th>\n",
       "      <td>Zagreb</td>\n",
       "      <td>Croatia</td>\n",
       "      <td>HR</td>\n",
       "      <td>802588</td>\n",
       "      <td>158</td>\n",
       "      <td>45.813056</td>\n",
       "      <td>15.977222</td>\n",
       "      <td>Zagreb,HR</td>\n",
       "    </tr>\n",
       "    <tr>\n",
       "      <th>34</th>\n",
       "      <td>Kraków</td>\n",
       "      <td>Poland</td>\n",
       "      <td>PL</td>\n",
       "      <td>766739</td>\n",
       "      <td>219</td>\n",
       "      <td>50.061389</td>\n",
       "      <td>19.937222</td>\n",
       "      <td>Kraków,PL</td>\n",
       "    </tr>\n",
       "    <tr>\n",
       "      <th>35</th>\n",
       "      <td>Frankfurt</td>\n",
       "      <td>Germany</td>\n",
       "      <td>DE</td>\n",
       "      <td>753056</td>\n",
       "      <td>112</td>\n",
       "      <td>50.113611</td>\n",
       "      <td>8.679722</td>\n",
       "      <td>Frankfurt,DE</td>\n",
       "    </tr>\n",
       "    <tr>\n",
       "      <th>36</th>\n",
       "      <td>Zaragoza</td>\n",
       "      <td>Spain</td>\n",
       "      <td>ES</td>\n",
       "      <td>681877</td>\n",
       "      <td>200</td>\n",
       "      <td>41.650000</td>\n",
       "      <td>-0.883333</td>\n",
       "      <td>Zaragoza,ES</td>\n",
       "    </tr>\n",
       "    <tr>\n",
       "      <th>37</th>\n",
       "      <td>Athens</td>\n",
       "      <td>Greece</td>\n",
       "      <td>GR</td>\n",
       "      <td>664046</td>\n",
       "      <td>170</td>\n",
       "      <td>37.983760</td>\n",
       "      <td>23.727840</td>\n",
       "      <td>Athens,GR</td>\n",
       "    </tr>\n",
       "    <tr>\n",
       "      <th>38</th>\n",
       "      <td>Stuttgart</td>\n",
       "      <td>Germany</td>\n",
       "      <td>DE</td>\n",
       "      <td>634830</td>\n",
       "      <td>245</td>\n",
       "      <td>48.776111</td>\n",
       "      <td>9.177500</td>\n",
       "      <td>Stuttgart,DE</td>\n",
       "    </tr>\n",
       "    <tr>\n",
       "      <th>39</th>\n",
       "      <td>Vilnius</td>\n",
       "      <td>Lithuania</td>\n",
       "      <td>LT</td>\n",
       "      <td>574147</td>\n",
       "      <td>112</td>\n",
       "      <td>54.683333</td>\n",
       "      <td>25.283333</td>\n",
       "      <td>Vilnius,LT</td>\n",
       "    </tr>\n",
       "    <tr>\n",
       "      <th>40</th>\n",
       "      <td>Leipzig</td>\n",
       "      <td>Germany</td>\n",
       "      <td>DE</td>\n",
       "      <td>597215</td>\n",
       "      <td>113</td>\n",
       "      <td>51.333333</td>\n",
       "      <td>12.383333</td>\n",
       "      <td>Leipzig,DE</td>\n",
       "    </tr>\n",
       "    <tr>\n",
       "      <th>41</th>\n",
       "      <td>Tallinn</td>\n",
       "      <td>Estonia</td>\n",
       "      <td>EE</td>\n",
       "      <td>438341</td>\n",
       "      <td>143</td>\n",
       "      <td>59.437222</td>\n",
       "      <td>24.745000</td>\n",
       "      <td>Tallinn,EE</td>\n",
       "    </tr>\n",
       "  </tbody>\n",
       "</table>\n",
       "</div>"
      ],
      "text/plain": [
       "         city    country country_code  population elevation_meters   latitude  \\\n",
       "0      Madrid      Spain           ES     3334730              667  40.418889   \n",
       "1      Moscow     Russia           RU    12655050              156  55.755833   \n",
       "2        Kyiv    Ukraine           UA     2963199              179  50.450000   \n",
       "3       Minsk    Belarus           BY     2009786              280  53.900000   \n",
       "4      Vienna    Austria           AT     1911191              171  48.208330   \n",
       "5      Warsaw     Poland           PL     1790658              103  52.216667   \n",
       "6    Budapest    Hungary           HU     1723836              102  47.498333   \n",
       "7      Munich    Germany           DE     1471508              519  48.134520   \n",
       "8       Milan      Italy           IT     1366180              120  45.466944   \n",
       "9    Belgrade     Serbia           RS     1378682              117  44.816667   \n",
       "10      Sofia   Bulgaria           BG     1355142              595  42.697886   \n",
       "11      Turin      Italy           IT      870952              239  45.066667   \n",
       "12     Zagreb    Croatia           HR      802588              158  45.813056   \n",
       "13     Kraków     Poland           PL      766739              219  50.061389   \n",
       "14  Frankfurt    Germany           DE      753056              112  50.113611   \n",
       "15   Zaragoza      Spain           ES      681877              200  41.650000   \n",
       "16     Athens     Greece           GR      664046              170  37.983760   \n",
       "17  Stuttgart    Germany           DE      634830              245  48.776111   \n",
       "18    Vilnius  Lithuania           LT      574147              112  54.683333   \n",
       "19    Leipzig    Germany           DE      597215              113  51.333333   \n",
       "20    Tallinn    Estonia           EE      438341              143  59.437222   \n",
       "21     Madrid      Spain           ES     3334730              667  40.418889   \n",
       "22     Moscow     Russia           RU    12655050              156  55.755833   \n",
       "23       Kyiv    Ukraine           UA     2963199              179  50.450000   \n",
       "24      Minsk    Belarus           BY     2009786              280  53.900000   \n",
       "25     Vienna    Austria           AT     1911191              171  48.208330   \n",
       "26     Warsaw     Poland           PL     1790658              103  52.216667   \n",
       "27   Budapest    Hungary           HU     1723836              102  47.498333   \n",
       "28     Munich    Germany           DE     1471508              519  48.134520   \n",
       "29      Milan      Italy           IT     1366180              120  45.466944   \n",
       "30   Belgrade     Serbia           RS     1378682              117  44.816667   \n",
       "31      Sofia   Bulgaria           BG     1355142              595  42.697886   \n",
       "32      Turin      Italy           IT      870952              239  45.066667   \n",
       "33     Zagreb    Croatia           HR      802588              158  45.813056   \n",
       "34     Kraków     Poland           PL      766739              219  50.061389   \n",
       "35  Frankfurt    Germany           DE      753056              112  50.113611   \n",
       "36   Zaragoza      Spain           ES      681877              200  41.650000   \n",
       "37     Athens     Greece           GR      664046              170  37.983760   \n",
       "38  Stuttgart    Germany           DE      634830              245  48.776111   \n",
       "39    Vilnius  Lithuania           LT      574147              112  54.683333   \n",
       "40    Leipzig    Germany           DE      597215              113  51.333333   \n",
       "41    Tallinn    Estonia           EE      438341              143  59.437222   \n",
       "\n",
       "    longitude municipality_iso_country  \n",
       "0   -3.691944                Madrid,ES  \n",
       "1   37.617778                Moscow,RU  \n",
       "2   30.523611                  Kyiv,UA  \n",
       "3   27.566670                 Minsk,BY  \n",
       "4   16.373064                Vienna,AT  \n",
       "5   21.033333                Warsaw,PL  \n",
       "6   19.040833              Budapest,HU  \n",
       "7   11.571000                Munich,DE  \n",
       "8    9.190000                 Milan,IT  \n",
       "9   20.466667              Belgrade,RS  \n",
       "10  23.321726                 Sofia,BG  \n",
       "11   7.700000                 Turin,IT  \n",
       "12  15.977222                Zagreb,HR  \n",
       "13  19.937222                Kraków,PL  \n",
       "14   8.679722             Frankfurt,DE  \n",
       "15  -0.883333              Zaragoza,ES  \n",
       "16  23.727840                Athens,GR  \n",
       "17   9.177500             Stuttgart,DE  \n",
       "18  25.283333               Vilnius,LT  \n",
       "19  12.383333               Leipzig,DE  \n",
       "20  24.745000               Tallinn,EE  \n",
       "21  -3.691944                Madrid,ES  \n",
       "22  37.617778                Moscow,RU  \n",
       "23  30.523611                  Kyiv,UA  \n",
       "24  27.566670                 Minsk,BY  \n",
       "25  16.373064                Vienna,AT  \n",
       "26  21.033333                Warsaw,PL  \n",
       "27  19.040833              Budapest,HU  \n",
       "28  11.571000                Munich,DE  \n",
       "29   9.190000                 Milan,IT  \n",
       "30  20.466667              Belgrade,RS  \n",
       "31  23.321726                 Sofia,BG  \n",
       "32   7.700000                 Turin,IT  \n",
       "33  15.977222                Zagreb,HR  \n",
       "34  19.937222                Kraków,PL  \n",
       "35   8.679722             Frankfurt,DE  \n",
       "36  -0.883333              Zaragoza,ES  \n",
       "37  23.727840                Athens,GR  \n",
       "38   9.177500             Stuttgart,DE  \n",
       "39  25.283333               Vilnius,LT  \n",
       "40  12.383333               Leipzig,DE  \n",
       "41  24.745000               Tallinn,EE  "
      ]
     },
     "execution_count": 55,
     "metadata": {},
     "output_type": "execute_result"
    }
   ],
   "source": [
    "pd.read_sql(\n",
    "    sql = \"\"\"\n",
    "        select * from city_pop\n",
    "        where elevation_meters > 100\n",
    "    \"\"\",\n",
    "    con = con\n",
    ")"
   ]
  },
  {
   "cell_type": "code",
   "execution_count": 60,
   "id": "af4930f4-cf7e-4d80-bf0b-30448bdcdaa2",
   "metadata": {},
   "outputs": [],
   "source": [
    "airports = airports.replace({np.nan}, 'unknown')"
   ]
  },
  {
   "cell_type": "code",
   "execution_count": 61,
   "id": "ce3fcbff-6293-4d0a-bbcc-6512f275fb42",
   "metadata": {},
   "outputs": [
    {
     "data": {
      "text/html": [
       "<div>\n",
       "<style scoped>\n",
       "    .dataframe tbody tr th:only-of-type {\n",
       "        vertical-align: middle;\n",
       "    }\n",
       "\n",
       "    .dataframe tbody tr th {\n",
       "        vertical-align: top;\n",
       "    }\n",
       "\n",
       "    .dataframe thead th {\n",
       "        text-align: right;\n",
       "    }\n",
       "</style>\n",
       "<table border=\"1\" class=\"dataframe\">\n",
       "  <thead>\n",
       "    <tr style=\"text-align: right;\">\n",
       "      <th></th>\n",
       "      <th>airport_name</th>\n",
       "      <th>latitude_deg</th>\n",
       "      <th>longitude_deg</th>\n",
       "      <th>elevation_ft</th>\n",
       "      <th>iso_country</th>\n",
       "      <th>iso_region</th>\n",
       "      <th>municipality</th>\n",
       "      <th>icao_code</th>\n",
       "      <th>iata_code</th>\n",
       "      <th>municipality_iso_country</th>\n",
       "    </tr>\n",
       "  </thead>\n",
       "  <tbody>\n",
       "    <tr>\n",
       "      <th>10890</th>\n",
       "      <td>Honiara International Airport</td>\n",
       "      <td>-9.428000</td>\n",
       "      <td>160.054993</td>\n",
       "      <td>28.0</td>\n",
       "      <td>SB</td>\n",
       "      <td>SB-CT</td>\n",
       "      <td>Honiara</td>\n",
       "      <td>AGGH</td>\n",
       "      <td>HIR</td>\n",
       "      <td>Honiara,SB</td>\n",
       "    </tr>\n",
       "    <tr>\n",
       "      <th>12461</th>\n",
       "      <td>Port Moresby Jacksons International Airport</td>\n",
       "      <td>-9.443380</td>\n",
       "      <td>147.220001</td>\n",
       "      <td>146.0</td>\n",
       "      <td>PG</td>\n",
       "      <td>PG-NCD</td>\n",
       "      <td>Port Moresby</td>\n",
       "      <td>AYPY</td>\n",
       "      <td>POM</td>\n",
       "      <td>Port Moresby,PG</td>\n",
       "    </tr>\n",
       "    <tr>\n",
       "      <th>12981</th>\n",
       "      <td>Keflavik International Airport</td>\n",
       "      <td>63.985001</td>\n",
       "      <td>-22.605600</td>\n",
       "      <td>171.0</td>\n",
       "      <td>IS</td>\n",
       "      <td>IS-2</td>\n",
       "      <td>Reykjavík</td>\n",
       "      <td>BIKF</td>\n",
       "      <td>KEF</td>\n",
       "      <td>Reykjavík,IS</td>\n",
       "    </tr>\n",
       "    <tr>\n",
       "      <th>13028</th>\n",
       "      <td>Priština Adem Jashari International Airport</td>\n",
       "      <td>42.572800</td>\n",
       "      <td>21.035801</td>\n",
       "      <td>1789.0</td>\n",
       "      <td>XK</td>\n",
       "      <td>XK-01</td>\n",
       "      <td>Prishtina</td>\n",
       "      <td>BKPR</td>\n",
       "      <td>PRN</td>\n",
       "      <td>Prishtina,XK</td>\n",
       "    </tr>\n",
       "    <tr>\n",
       "      <th>17254</th>\n",
       "      <td>Guodu Air Base</td>\n",
       "      <td>36.001741</td>\n",
       "      <td>117.632010</td>\n",
       "      <td>unknown</td>\n",
       "      <td>CN</td>\n",
       "      <td>CN-37</td>\n",
       "      <td>Xintai, Tai'an</td>\n",
       "      <td>unknown</td>\n",
       "      <td>unknown</td>\n",
       "      <td>Xintai, Tai'an,CN</td>\n",
       "    </tr>\n",
       "  </tbody>\n",
       "</table>\n",
       "</div>"
      ],
      "text/plain": [
       "                                      airport_name  latitude_deg  \\\n",
       "10890                Honiara International Airport     -9.428000   \n",
       "12461  Port Moresby Jacksons International Airport     -9.443380   \n",
       "12981               Keflavik International Airport     63.985001   \n",
       "13028  Priština Adem Jashari International Airport     42.572800   \n",
       "17254                               Guodu Air Base     36.001741   \n",
       "\n",
       "       longitude_deg elevation_ft iso_country iso_region    municipality  \\\n",
       "10890     160.054993         28.0          SB      SB-CT         Honiara   \n",
       "12461     147.220001        146.0          PG     PG-NCD    Port Moresby   \n",
       "12981     -22.605600        171.0          IS       IS-2       Reykjavík   \n",
       "13028      21.035801       1789.0          XK      XK-01       Prishtina   \n",
       "17254     117.632010      unknown          CN      CN-37  Xintai, Tai'an   \n",
       "\n",
       "      icao_code iata_code municipality_iso_country  \n",
       "10890      AGGH       HIR               Honiara,SB  \n",
       "12461      AYPY       POM          Port Moresby,PG  \n",
       "12981      BIKF       KEF             Reykjavík,IS  \n",
       "13028      BKPR       PRN             Prishtina,XK  \n",
       "17254   unknown   unknown        Xintai, Tai'an,CN  "
      ]
     },
     "execution_count": 61,
     "metadata": {},
     "output_type": "execute_result"
    }
   ],
   "source": [
    "airports.head()"
   ]
  },
  {
   "cell_type": "code",
   "execution_count": 62,
   "id": "1d9c3705-db82-464c-a6c3-51e504bb5474",
   "metadata": {},
   "outputs": [],
   "source": [
    "airports.to_sql('airport', if_exists = 'append', con = con, index = False)"
   ]
  },
  {
   "cell_type": "code",
   "execution_count": 63,
   "id": "ff14094f-d2e5-4048-90ae-f8d64c6a7379",
   "metadata": {},
   "outputs": [
    {
     "data": {
      "text/html": [
       "<div>\n",
       "<style scoped>\n",
       "    .dataframe tbody tr th:only-of-type {\n",
       "        vertical-align: middle;\n",
       "    }\n",
       "\n",
       "    .dataframe tbody tr th {\n",
       "        vertical-align: top;\n",
       "    }\n",
       "\n",
       "    .dataframe thead th {\n",
       "        text-align: right;\n",
       "    }\n",
       "</style>\n",
       "<table border=\"1\" class=\"dataframe\">\n",
       "  <thead>\n",
       "    <tr style=\"text-align: right;\">\n",
       "      <th></th>\n",
       "      <th>weather_datetime</th>\n",
       "      <th>main_weather</th>\n",
       "      <th>weather_detail</th>\n",
       "      <th>temperature</th>\n",
       "      <th>feels_like</th>\n",
       "      <th>humidity</th>\n",
       "      <th>wind</th>\n",
       "      <th>prob_perc</th>\n",
       "      <th>rain_qty</th>\n",
       "      <th>snow</th>\n",
       "      <th>municipality_iso_country</th>\n",
       "    </tr>\n",
       "  </thead>\n",
       "  <tbody>\n",
       "    <tr>\n",
       "      <th>0</th>\n",
       "      <td>2021-11-30 12:00:00</td>\n",
       "      <td>Rain</td>\n",
       "      <td>light rain</td>\n",
       "      <td>3.29</td>\n",
       "      <td>-2.07</td>\n",
       "      <td>90</td>\n",
       "      <td>8.05</td>\n",
       "      <td>1.00</td>\n",
       "      <td>0.61</td>\n",
       "      <td>0.0</td>\n",
       "      <td>Berlin,DE</td>\n",
       "    </tr>\n",
       "    <tr>\n",
       "      <th>1</th>\n",
       "      <td>2021-11-30 15:00:00</td>\n",
       "      <td>Rain</td>\n",
       "      <td>light rain</td>\n",
       "      <td>4.22</td>\n",
       "      <td>-1.30</td>\n",
       "      <td>74</td>\n",
       "      <td>9.49</td>\n",
       "      <td>0.35</td>\n",
       "      <td>0.28</td>\n",
       "      <td>0.0</td>\n",
       "      <td>Berlin,DE</td>\n",
       "    </tr>\n",
       "    <tr>\n",
       "      <th>2</th>\n",
       "      <td>2021-11-30 18:00:00</td>\n",
       "      <td>Clouds</td>\n",
       "      <td>overcast clouds</td>\n",
       "      <td>4.45</td>\n",
       "      <td>-0.94</td>\n",
       "      <td>67</td>\n",
       "      <td>9.30</td>\n",
       "      <td>0.16</td>\n",
       "      <td>0.00</td>\n",
       "      <td>0.0</td>\n",
       "      <td>Berlin,DE</td>\n",
       "    </tr>\n",
       "    <tr>\n",
       "      <th>3</th>\n",
       "      <td>2021-11-30 21:00:00</td>\n",
       "      <td>Clouds</td>\n",
       "      <td>scattered clouds</td>\n",
       "      <td>2.68</td>\n",
       "      <td>-2.18</td>\n",
       "      <td>75</td>\n",
       "      <td>6.30</td>\n",
       "      <td>0.01</td>\n",
       "      <td>0.00</td>\n",
       "      <td>0.0</td>\n",
       "      <td>Berlin,DE</td>\n",
       "    </tr>\n",
       "    <tr>\n",
       "      <th>4</th>\n",
       "      <td>2021-12-01 00:00:00</td>\n",
       "      <td>Clouds</td>\n",
       "      <td>broken clouds</td>\n",
       "      <td>2.14</td>\n",
       "      <td>-0.63</td>\n",
       "      <td>88</td>\n",
       "      <td>2.65</td>\n",
       "      <td>0.00</td>\n",
       "      <td>0.00</td>\n",
       "      <td>0.0</td>\n",
       "      <td>Berlin,DE</td>\n",
       "    </tr>\n",
       "  </tbody>\n",
       "</table>\n",
       "</div>"
      ],
      "text/plain": [
       "      weather_datetime main_weather    weather_detail  temperature  \\\n",
       "0  2021-11-30 12:00:00         Rain        light rain         3.29   \n",
       "1  2021-11-30 15:00:00         Rain        light rain         4.22   \n",
       "2  2021-11-30 18:00:00       Clouds   overcast clouds         4.45   \n",
       "3  2021-11-30 21:00:00       Clouds  scattered clouds         2.68   \n",
       "4  2021-12-01 00:00:00       Clouds     broken clouds         2.14   \n",
       "\n",
       "   feels_like  humidity  wind  prob_perc  rain_qty  snow  \\\n",
       "0       -2.07        90  8.05       1.00      0.61   0.0   \n",
       "1       -1.30        74  9.49       0.35      0.28   0.0   \n",
       "2       -0.94        67  9.30       0.16      0.00   0.0   \n",
       "3       -2.18        75  6.30       0.01      0.00   0.0   \n",
       "4       -0.63        88  2.65       0.00      0.00   0.0   \n",
       "\n",
       "  municipality_iso_country  \n",
       "0                Berlin,DE  \n",
       "1                Berlin,DE  \n",
       "2                Berlin,DE  \n",
       "3                Berlin,DE  \n",
       "4                Berlin,DE  "
      ]
     },
     "execution_count": 63,
     "metadata": {},
     "output_type": "execute_result"
    }
   ],
   "source": [
    "weather_data.head()"
   ]
  },
  {
   "cell_type": "code",
   "execution_count": 10,
   "id": "ac13c677-5270-4e05-a8ad-4084fd47a6cc",
   "metadata": {},
   "outputs": [],
   "source": [
    "weather_data = weather_data.assign(weather_datetime = lambda x: pd.to_datetime(x['weather_datetime']))\n",
    "weather_data.to_sql('weather_data', if_exists = 'append', con = con, index=False)"
   ]
  },
  {
   "cell_type": "markdown",
   "id": "0bab283f-a023-484e-ade2-23b83351a46f",
   "metadata": {},
   "source": [
    "## Transfer the data into the cloud - AWS RDS database"
   ]
  },
  {
   "cell_type": "code",
   "execution_count": 30,
   "id": "8294c753-8c3f-4b5c-867a-aaca613e12bb",
   "metadata": {},
   "outputs": [],
   "source": [
    "import awswrangler as wr\n",
    "import pandas as pd\n",
    "import sqlalchemy\n",
    "import numpy as np"
   ]
  },
  {
   "cell_type": "code",
   "execution_count": 31,
   "id": "12f68f52-9dae-424c-a524-a60e657ec502",
   "metadata": {},
   "outputs": [],
   "source": [
    "# connection details for the cloud AWS RDS database\n",
    "schema = \"gans\"\n",
    "host = aws_db\n",
    "user = \"admin\"\n",
    "password = aws_mysql_pw\n",
    "port = 3306\n",
    "con2 = f'mysql+pymysql://{user}:{password}@{host}:{port}/{schema}'"
   ]
  },
  {
   "cell_type": "code",
   "execution_count": 36,
   "id": "699cdaf3-49b9-4af7-9c72-0e486a380d0d",
   "metadata": {},
   "outputs": [],
   "source": [
    "city_pop2 = city_pop2.replace({np.nan}, 'unknown')"
   ]
  },
  {
   "cell_type": "code",
   "execution_count": 37,
   "id": "ac534c9b-b6de-486d-804f-a3c867b48b83",
   "metadata": {
    "tags": []
   },
   "outputs": [],
   "source": [
    "city_pop2.to_sql('city_pop', if_exists = 'append', con = con2, index=False)"
   ]
  },
  {
   "cell_type": "code",
   "execution_count": 38,
   "id": "89a1bff1-2e6e-4ac9-bd91-d7eea4256742",
   "metadata": {},
   "outputs": [],
   "source": [
    "airports = airports.replace({np.nan}, 'unknown')"
   ]
  },
  {
   "cell_type": "code",
   "execution_count": 39,
   "id": "33e86d08-00cf-456b-bd3b-25f346b9238a",
   "metadata": {
    "tags": []
   },
   "outputs": [
    {
     "ename": "IntegrityError",
     "evalue": "(pymysql.err.IntegrityError) (1452, 'Cannot add or update a child row: a foreign key constraint fails (`gans`.`airport`, CONSTRAINT `airport_ibfk_1` FOREIGN KEY (`municipality_iso_country`) REFERENCES `city_pop` (`municipality_iso_country`))')\n[SQL: INSERT INTO airport (airport_name, latitude_deg, longitude_deg, elevation_ft, iso_country, iso_region, municipality, icao_code, iata_code, municipality_iso_country) VALUES (%(airport_name)s, %(latitude_deg)s, %(longitude_deg)s, %(elevation_ft)s, %(iso_country)s, %(iso_region)s, %(municipality)s, %(icao_code)s, %(iata_code)s, %(municipality_iso_country)s)]\n[parameters: ({'airport_name': 'Honiara International Airport', 'latitude_deg': -9.428, 'longitude_deg': 160.054993, 'elevation_ft': 28.0, 'iso_country': 'SB', 'iso_region': 'SB-CT', 'municipality': 'Honiara', 'icao_code': 'AGGH', 'iata_code': 'HIR', 'municipality_iso_country': 'Honiara,SB'}, {'airport_name': 'Port Moresby Jacksons International Airport', 'latitude_deg': -9.44338035583496, 'longitude_deg': 147.22000122070312, 'elevation_ft': 146.0, 'iso_country': 'PG', 'iso_region': 'PG-NCD', 'municipality': 'Port Moresby', 'icao_code': 'AYPY', 'iata_code': 'POM', 'municipality_iso_country': 'Port Moresby,PG'}, {'airport_name': 'Keflavik International Airport', 'latitude_deg': 63.985001, 'longitude_deg': -22.6056, 'elevation_ft': 171.0, 'iso_country': 'IS', 'iso_region': 'IS-2', 'municipality': 'Reykjavík', 'icao_code': 'BIKF', 'iata_code': 'KEF', 'municipality_iso_country': 'Reykjavík,IS'}, {'airport_name': 'Priština Adem Jashari International Airport', 'latitude_deg': 42.5728, 'longitude_deg': 21.035801, 'elevation_ft': 1789.0, 'iso_country': 'XK', 'iso_region': 'XK-01', 'municipality': 'Prishtina', 'icao_code': 'BKPR', 'iata_code': 'PRN', 'municipality_iso_country': 'Prishtina,XK'}, {'airport_name': 'Guodu Air Base', 'latitude_deg': 36.001741, 'longitude_deg': 117.63201, 'elevation_ft': 'unknown', 'iso_country': 'CN', 'iso_region': 'CN-37', 'municipality': \"Xintai, Tai'an\", 'icao_code': 'unknown', 'iata_code': 'unknown', 'municipality_iso_country': \"Xintai, Tai'an,CN\"}, {'airport_name': 'Nanaimo International Air And Space Port / RCAF Nanaimo Base', 'latitude_deg': 49.05497, 'longitude_deg': -123.869863, 'elevation_ft': 92.0, 'iso_country': 'CA', 'iso_region': 'CA-BC', 'municipality': 'Nanaimo', 'icao_code': 'CYCD', 'iata_code': 'YCD', 'municipality_iso_country': 'Nanaimo,CA'}, {'airport_name': 'Edmonton International Airport', 'latitude_deg': 53.3097000122, 'longitude_deg': -113.580001831, 'elevation_ft': 2373.0, 'iso_country': 'CA', 'iso_region': 'CA-AB', 'municipality': 'Edmonton', 'icao_code': 'CYEG', 'iata_code': 'YEG', 'municipality_iso_country': 'Edmonton,CA'}, {'airport_name': 'Halifax / Stanfield International Airport', 'latitude_deg': 44.8807983398, 'longitude_deg': -63.5085983276, 'elevation_ft': 477.0, 'iso_country': 'CA', 'iso_region': 'CA-NS', 'municipality': 'Halifax', 'icao_code': 'CYHZ', 'iata_code': 'YHZ', 'municipality_iso_country': 'Halifax,CA'}  ... displaying 10 of 620 total bound parameter sets ...  {'airport_name': 'Dalian Zhoushuizi International Airport', 'latitude_deg': 38.965698, 'longitude_deg': 121.539001, 'elevation_ft': 107.0, 'iso_country': 'CN', 'iso_region': 'CN-21', 'municipality': 'Ganjingzi, Dalian', 'icao_code': 'ZYTL', 'iata_code': 'DLC', 'municipality_iso_country': 'Ganjingzi, Dalian,CN'}, {'airport_name': 'Shenyang Taoxian International Airport', 'latitude_deg': 41.639801, 'longitude_deg': 123.483002, 'elevation_ft': 198.0, 'iso_country': 'CN', 'iso_region': 'CN-21', 'municipality': 'Hunnan, Shenyang', 'icao_code': 'ZYTX', 'iata_code': 'SHE', 'municipality_iso_country': 'Hunnan, Shenyang,CN'})]\n(Background on this error at: http://sqlalche.me/e/14/gkpj)",
     "output_type": "error",
     "traceback": [
      "\u001b[1;31m---------------------------------------------------------------------------\u001b[0m",
      "\u001b[1;31mIntegrityError\u001b[0m                            Traceback (most recent call last)",
      "\u001b[1;32m~\\anaconda3\\lib\\site-packages\\sqlalchemy\\engine\\base.py\u001b[0m in \u001b[0;36m_execute_context\u001b[1;34m(self, dialect, constructor, statement, parameters, execution_options, *args, **kw)\u001b[0m\n\u001b[0;32m   1684\u001b[0m                 \u001b[1;32mif\u001b[0m \u001b[1;32mnot\u001b[0m \u001b[0mevt_handled\u001b[0m\u001b[1;33m:\u001b[0m\u001b[1;33m\u001b[0m\u001b[1;33m\u001b[0m\u001b[0m\n\u001b[1;32m-> 1685\u001b[1;33m                     self.dialect.do_executemany(\n\u001b[0m\u001b[0;32m   1686\u001b[0m                         \u001b[0mcursor\u001b[0m\u001b[1;33m,\u001b[0m \u001b[0mstatement\u001b[0m\u001b[1;33m,\u001b[0m \u001b[0mparameters\u001b[0m\u001b[1;33m,\u001b[0m \u001b[0mcontext\u001b[0m\u001b[1;33m\u001b[0m\u001b[1;33m\u001b[0m\u001b[0m\n",
      "\u001b[1;32m~\\anaconda3\\lib\\site-packages\\sqlalchemy\\dialects\\mysql\\mysqldb.py\u001b[0m in \u001b[0;36mdo_executemany\u001b[1;34m(self, cursor, statement, parameters, context)\u001b[0m\n\u001b[0;32m    147\u001b[0m     \u001b[1;32mdef\u001b[0m \u001b[0mdo_executemany\u001b[0m\u001b[1;33m(\u001b[0m\u001b[0mself\u001b[0m\u001b[1;33m,\u001b[0m \u001b[0mcursor\u001b[0m\u001b[1;33m,\u001b[0m \u001b[0mstatement\u001b[0m\u001b[1;33m,\u001b[0m \u001b[0mparameters\u001b[0m\u001b[1;33m,\u001b[0m \u001b[0mcontext\u001b[0m\u001b[1;33m=\u001b[0m\u001b[1;32mNone\u001b[0m\u001b[1;33m)\u001b[0m\u001b[1;33m:\u001b[0m\u001b[1;33m\u001b[0m\u001b[1;33m\u001b[0m\u001b[0m\n\u001b[1;32m--> 148\u001b[1;33m         \u001b[0mrowcount\u001b[0m \u001b[1;33m=\u001b[0m \u001b[0mcursor\u001b[0m\u001b[1;33m.\u001b[0m\u001b[0mexecutemany\u001b[0m\u001b[1;33m(\u001b[0m\u001b[0mstatement\u001b[0m\u001b[1;33m,\u001b[0m \u001b[0mparameters\u001b[0m\u001b[1;33m)\u001b[0m\u001b[1;33m\u001b[0m\u001b[1;33m\u001b[0m\u001b[0m\n\u001b[0m\u001b[0;32m    149\u001b[0m         \u001b[1;32mif\u001b[0m \u001b[0mcontext\u001b[0m \u001b[1;32mis\u001b[0m \u001b[1;32mnot\u001b[0m \u001b[1;32mNone\u001b[0m\u001b[1;33m:\u001b[0m\u001b[1;33m\u001b[0m\u001b[1;33m\u001b[0m\u001b[0m\n",
      "\u001b[1;32m~\\anaconda3\\lib\\site-packages\\pymysql\\cursors.py\u001b[0m in \u001b[0;36mexecutemany\u001b[1;34m(self, query, args)\u001b[0m\n\u001b[0;32m    172\u001b[0m             \u001b[1;32massert\u001b[0m \u001b[0mq_values\u001b[0m\u001b[1;33m[\u001b[0m\u001b[1;36m0\u001b[0m\u001b[1;33m]\u001b[0m \u001b[1;33m==\u001b[0m \u001b[1;34m\"(\"\u001b[0m \u001b[1;32mand\u001b[0m \u001b[0mq_values\u001b[0m\u001b[1;33m[\u001b[0m\u001b[1;33m-\u001b[0m\u001b[1;36m1\u001b[0m\u001b[1;33m]\u001b[0m \u001b[1;33m==\u001b[0m \u001b[1;34m\")\"\u001b[0m\u001b[1;33m\u001b[0m\u001b[1;33m\u001b[0m\u001b[0m\n\u001b[1;32m--> 173\u001b[1;33m             return self._do_execute_many(\n\u001b[0m\u001b[0;32m    174\u001b[0m                 \u001b[0mq_prefix\u001b[0m\u001b[1;33m,\u001b[0m\u001b[1;33m\u001b[0m\u001b[1;33m\u001b[0m\u001b[0m\n",
      "\u001b[1;32m~\\anaconda3\\lib\\site-packages\\pymysql\\cursors.py\u001b[0m in \u001b[0;36m_do_execute_many\u001b[1;34m(self, prefix, values, postfix, args, max_stmt_length, encoding)\u001b[0m\n\u001b[0;32m    210\u001b[0m             \u001b[0msql\u001b[0m \u001b[1;33m+=\u001b[0m \u001b[0mv\u001b[0m\u001b[1;33m\u001b[0m\u001b[1;33m\u001b[0m\u001b[0m\n\u001b[1;32m--> 211\u001b[1;33m         \u001b[0mrows\u001b[0m \u001b[1;33m+=\u001b[0m \u001b[0mself\u001b[0m\u001b[1;33m.\u001b[0m\u001b[0mexecute\u001b[0m\u001b[1;33m(\u001b[0m\u001b[0msql\u001b[0m \u001b[1;33m+\u001b[0m \u001b[0mpostfix\u001b[0m\u001b[1;33m)\u001b[0m\u001b[1;33m\u001b[0m\u001b[1;33m\u001b[0m\u001b[0m\n\u001b[0m\u001b[0;32m    212\u001b[0m         \u001b[0mself\u001b[0m\u001b[1;33m.\u001b[0m\u001b[0mrowcount\u001b[0m \u001b[1;33m=\u001b[0m \u001b[0mrows\u001b[0m\u001b[1;33m\u001b[0m\u001b[1;33m\u001b[0m\u001b[0m\n",
      "\u001b[1;32m~\\anaconda3\\lib\\site-packages\\pymysql\\cursors.py\u001b[0m in \u001b[0;36mexecute\u001b[1;34m(self, query, args)\u001b[0m\n\u001b[0;32m    147\u001b[0m \u001b[1;33m\u001b[0m\u001b[0m\n\u001b[1;32m--> 148\u001b[1;33m         \u001b[0mresult\u001b[0m \u001b[1;33m=\u001b[0m \u001b[0mself\u001b[0m\u001b[1;33m.\u001b[0m\u001b[0m_query\u001b[0m\u001b[1;33m(\u001b[0m\u001b[0mquery\u001b[0m\u001b[1;33m)\u001b[0m\u001b[1;33m\u001b[0m\u001b[1;33m\u001b[0m\u001b[0m\n\u001b[0m\u001b[0;32m    149\u001b[0m         \u001b[0mself\u001b[0m\u001b[1;33m.\u001b[0m\u001b[0m_executed\u001b[0m \u001b[1;33m=\u001b[0m \u001b[0mquery\u001b[0m\u001b[1;33m\u001b[0m\u001b[1;33m\u001b[0m\u001b[0m\n",
      "\u001b[1;32m~\\anaconda3\\lib\\site-packages\\pymysql\\cursors.py\u001b[0m in \u001b[0;36m_query\u001b[1;34m(self, q)\u001b[0m\n\u001b[0;32m    309\u001b[0m         \u001b[0mself\u001b[0m\u001b[1;33m.\u001b[0m\u001b[0m_clear_result\u001b[0m\u001b[1;33m(\u001b[0m\u001b[1;33m)\u001b[0m\u001b[1;33m\u001b[0m\u001b[1;33m\u001b[0m\u001b[0m\n\u001b[1;32m--> 310\u001b[1;33m         \u001b[0mconn\u001b[0m\u001b[1;33m.\u001b[0m\u001b[0mquery\u001b[0m\u001b[1;33m(\u001b[0m\u001b[0mq\u001b[0m\u001b[1;33m)\u001b[0m\u001b[1;33m\u001b[0m\u001b[1;33m\u001b[0m\u001b[0m\n\u001b[0m\u001b[0;32m    311\u001b[0m         \u001b[0mself\u001b[0m\u001b[1;33m.\u001b[0m\u001b[0m_do_get_result\u001b[0m\u001b[1;33m(\u001b[0m\u001b[1;33m)\u001b[0m\u001b[1;33m\u001b[0m\u001b[1;33m\u001b[0m\u001b[0m\n",
      "\u001b[1;32m~\\anaconda3\\lib\\site-packages\\pymysql\\connections.py\u001b[0m in \u001b[0;36mquery\u001b[1;34m(self, sql, unbuffered)\u001b[0m\n\u001b[0;32m    547\u001b[0m         \u001b[0mself\u001b[0m\u001b[1;33m.\u001b[0m\u001b[0m_execute_command\u001b[0m\u001b[1;33m(\u001b[0m\u001b[0mCOMMAND\u001b[0m\u001b[1;33m.\u001b[0m\u001b[0mCOM_QUERY\u001b[0m\u001b[1;33m,\u001b[0m \u001b[0msql\u001b[0m\u001b[1;33m)\u001b[0m\u001b[1;33m\u001b[0m\u001b[1;33m\u001b[0m\u001b[0m\n\u001b[1;32m--> 548\u001b[1;33m         \u001b[0mself\u001b[0m\u001b[1;33m.\u001b[0m\u001b[0m_affected_rows\u001b[0m \u001b[1;33m=\u001b[0m \u001b[0mself\u001b[0m\u001b[1;33m.\u001b[0m\u001b[0m_read_query_result\u001b[0m\u001b[1;33m(\u001b[0m\u001b[0munbuffered\u001b[0m\u001b[1;33m=\u001b[0m\u001b[0munbuffered\u001b[0m\u001b[1;33m)\u001b[0m\u001b[1;33m\u001b[0m\u001b[1;33m\u001b[0m\u001b[0m\n\u001b[0m\u001b[0;32m    549\u001b[0m         \u001b[1;32mreturn\u001b[0m \u001b[0mself\u001b[0m\u001b[1;33m.\u001b[0m\u001b[0m_affected_rows\u001b[0m\u001b[1;33m\u001b[0m\u001b[1;33m\u001b[0m\u001b[0m\n",
      "\u001b[1;32m~\\anaconda3\\lib\\site-packages\\pymysql\\connections.py\u001b[0m in \u001b[0;36m_read_query_result\u001b[1;34m(self, unbuffered)\u001b[0m\n\u001b[0;32m    774\u001b[0m             \u001b[0mresult\u001b[0m \u001b[1;33m=\u001b[0m \u001b[0mMySQLResult\u001b[0m\u001b[1;33m(\u001b[0m\u001b[0mself\u001b[0m\u001b[1;33m)\u001b[0m\u001b[1;33m\u001b[0m\u001b[1;33m\u001b[0m\u001b[0m\n\u001b[1;32m--> 775\u001b[1;33m             \u001b[0mresult\u001b[0m\u001b[1;33m.\u001b[0m\u001b[0mread\u001b[0m\u001b[1;33m(\u001b[0m\u001b[1;33m)\u001b[0m\u001b[1;33m\u001b[0m\u001b[1;33m\u001b[0m\u001b[0m\n\u001b[0m\u001b[0;32m    776\u001b[0m         \u001b[0mself\u001b[0m\u001b[1;33m.\u001b[0m\u001b[0m_result\u001b[0m \u001b[1;33m=\u001b[0m \u001b[0mresult\u001b[0m\u001b[1;33m\u001b[0m\u001b[1;33m\u001b[0m\u001b[0m\n",
      "\u001b[1;32m~\\anaconda3\\lib\\site-packages\\pymysql\\connections.py\u001b[0m in \u001b[0;36mread\u001b[1;34m(self)\u001b[0m\n\u001b[0;32m   1155\u001b[0m         \u001b[1;32mtry\u001b[0m\u001b[1;33m:\u001b[0m\u001b[1;33m\u001b[0m\u001b[1;33m\u001b[0m\u001b[0m\n\u001b[1;32m-> 1156\u001b[1;33m             \u001b[0mfirst_packet\u001b[0m \u001b[1;33m=\u001b[0m \u001b[0mself\u001b[0m\u001b[1;33m.\u001b[0m\u001b[0mconnection\u001b[0m\u001b[1;33m.\u001b[0m\u001b[0m_read_packet\u001b[0m\u001b[1;33m(\u001b[0m\u001b[1;33m)\u001b[0m\u001b[1;33m\u001b[0m\u001b[1;33m\u001b[0m\u001b[0m\n\u001b[0m\u001b[0;32m   1157\u001b[0m \u001b[1;33m\u001b[0m\u001b[0m\n",
      "\u001b[1;32m~\\anaconda3\\lib\\site-packages\\pymysql\\connections.py\u001b[0m in \u001b[0;36m_read_packet\u001b[1;34m(self, packet_type)\u001b[0m\n\u001b[0;32m    724\u001b[0m                 \u001b[0mself\u001b[0m\u001b[1;33m.\u001b[0m\u001b[0m_result\u001b[0m\u001b[1;33m.\u001b[0m\u001b[0munbuffered_active\u001b[0m \u001b[1;33m=\u001b[0m \u001b[1;32mFalse\u001b[0m\u001b[1;33m\u001b[0m\u001b[1;33m\u001b[0m\u001b[0m\n\u001b[1;32m--> 725\u001b[1;33m             \u001b[0mpacket\u001b[0m\u001b[1;33m.\u001b[0m\u001b[0mraise_for_error\u001b[0m\u001b[1;33m(\u001b[0m\u001b[1;33m)\u001b[0m\u001b[1;33m\u001b[0m\u001b[1;33m\u001b[0m\u001b[0m\n\u001b[0m\u001b[0;32m    726\u001b[0m         \u001b[1;32mreturn\u001b[0m \u001b[0mpacket\u001b[0m\u001b[1;33m\u001b[0m\u001b[1;33m\u001b[0m\u001b[0m\n",
      "\u001b[1;32m~\\anaconda3\\lib\\site-packages\\pymysql\\protocol.py\u001b[0m in \u001b[0;36mraise_for_error\u001b[1;34m(self)\u001b[0m\n\u001b[0;32m    220\u001b[0m             \u001b[0mprint\u001b[0m\u001b[1;33m(\u001b[0m\u001b[1;34m\"errno =\"\u001b[0m\u001b[1;33m,\u001b[0m \u001b[0merrno\u001b[0m\u001b[1;33m)\u001b[0m\u001b[1;33m\u001b[0m\u001b[1;33m\u001b[0m\u001b[0m\n\u001b[1;32m--> 221\u001b[1;33m         \u001b[0merr\u001b[0m\u001b[1;33m.\u001b[0m\u001b[0mraise_mysql_exception\u001b[0m\u001b[1;33m(\u001b[0m\u001b[0mself\u001b[0m\u001b[1;33m.\u001b[0m\u001b[0m_data\u001b[0m\u001b[1;33m)\u001b[0m\u001b[1;33m\u001b[0m\u001b[1;33m\u001b[0m\u001b[0m\n\u001b[0m\u001b[0;32m    222\u001b[0m \u001b[1;33m\u001b[0m\u001b[0m\n",
      "\u001b[1;32m~\\anaconda3\\lib\\site-packages\\pymysql\\err.py\u001b[0m in \u001b[0;36mraise_mysql_exception\u001b[1;34m(data)\u001b[0m\n\u001b[0;32m    142\u001b[0m         \u001b[0merrorclass\u001b[0m \u001b[1;33m=\u001b[0m \u001b[0mInternalError\u001b[0m \u001b[1;32mif\u001b[0m \u001b[0merrno\u001b[0m \u001b[1;33m<\u001b[0m \u001b[1;36m1000\u001b[0m \u001b[1;32melse\u001b[0m \u001b[0mOperationalError\u001b[0m\u001b[1;33m\u001b[0m\u001b[1;33m\u001b[0m\u001b[0m\n\u001b[1;32m--> 143\u001b[1;33m     \u001b[1;32mraise\u001b[0m \u001b[0merrorclass\u001b[0m\u001b[1;33m(\u001b[0m\u001b[0merrno\u001b[0m\u001b[1;33m,\u001b[0m \u001b[0merrval\u001b[0m\u001b[1;33m)\u001b[0m\u001b[1;33m\u001b[0m\u001b[1;33m\u001b[0m\u001b[0m\n\u001b[0m",
      "\u001b[1;31mIntegrityError\u001b[0m: (1452, 'Cannot add or update a child row: a foreign key constraint fails (`gans`.`airport`, CONSTRAINT `airport_ibfk_1` FOREIGN KEY (`municipality_iso_country`) REFERENCES `city_pop` (`municipality_iso_country`))')",
      "\nThe above exception was the direct cause of the following exception:\n",
      "\u001b[1;31mIntegrityError\u001b[0m                            Traceback (most recent call last)",
      "\u001b[1;32m<ipython-input-39-b1b39448b73b>\u001b[0m in \u001b[0;36m<module>\u001b[1;34m\u001b[0m\n\u001b[1;32m----> 1\u001b[1;33m \u001b[0mairports\u001b[0m\u001b[1;33m.\u001b[0m\u001b[0mto_sql\u001b[0m\u001b[1;33m(\u001b[0m\u001b[1;34m'airport'\u001b[0m\u001b[1;33m,\u001b[0m \u001b[0mif_exists\u001b[0m \u001b[1;33m=\u001b[0m \u001b[1;34m'append'\u001b[0m\u001b[1;33m,\u001b[0m \u001b[0mcon\u001b[0m \u001b[1;33m=\u001b[0m \u001b[0mcon2\u001b[0m\u001b[1;33m,\u001b[0m \u001b[0mindex\u001b[0m \u001b[1;33m=\u001b[0m \u001b[1;32mFalse\u001b[0m\u001b[1;33m)\u001b[0m\u001b[1;33m\u001b[0m\u001b[1;33m\u001b[0m\u001b[0m\n\u001b[0m",
      "\u001b[1;32m~\\anaconda3\\lib\\site-packages\\pandas\\core\\generic.py\u001b[0m in \u001b[0;36mto_sql\u001b[1;34m(self, name, con, schema, if_exists, index, index_label, chunksize, dtype, method)\u001b[0m\n\u001b[0;32m   2777\u001b[0m         \u001b[1;32mfrom\u001b[0m \u001b[0mpandas\u001b[0m\u001b[1;33m.\u001b[0m\u001b[0mio\u001b[0m \u001b[1;32mimport\u001b[0m \u001b[0msql\u001b[0m\u001b[1;33m\u001b[0m\u001b[1;33m\u001b[0m\u001b[0m\n\u001b[0;32m   2778\u001b[0m \u001b[1;33m\u001b[0m\u001b[0m\n\u001b[1;32m-> 2779\u001b[1;33m         sql.to_sql(\n\u001b[0m\u001b[0;32m   2780\u001b[0m             \u001b[0mself\u001b[0m\u001b[1;33m,\u001b[0m\u001b[1;33m\u001b[0m\u001b[1;33m\u001b[0m\u001b[0m\n\u001b[0;32m   2781\u001b[0m             \u001b[0mname\u001b[0m\u001b[1;33m,\u001b[0m\u001b[1;33m\u001b[0m\u001b[1;33m\u001b[0m\u001b[0m\n",
      "\u001b[1;32m~\\anaconda3\\lib\\site-packages\\pandas\\io\\sql.py\u001b[0m in \u001b[0;36mto_sql\u001b[1;34m(frame, name, con, schema, if_exists, index, index_label, chunksize, dtype, method)\u001b[0m\n\u001b[0;32m    599\u001b[0m         )\n\u001b[0;32m    600\u001b[0m \u001b[1;33m\u001b[0m\u001b[0m\n\u001b[1;32m--> 601\u001b[1;33m     pandas_sql.to_sql(\n\u001b[0m\u001b[0;32m    602\u001b[0m         \u001b[0mframe\u001b[0m\u001b[1;33m,\u001b[0m\u001b[1;33m\u001b[0m\u001b[1;33m\u001b[0m\u001b[0m\n\u001b[0;32m    603\u001b[0m         \u001b[0mname\u001b[0m\u001b[1;33m,\u001b[0m\u001b[1;33m\u001b[0m\u001b[1;33m\u001b[0m\u001b[0m\n",
      "\u001b[1;32m~\\anaconda3\\lib\\site-packages\\pandas\\io\\sql.py\u001b[0m in \u001b[0;36mto_sql\u001b[1;34m(self, frame, name, if_exists, index, index_label, schema, chunksize, dtype, method)\u001b[0m\n\u001b[0;32m   1417\u001b[0m                 \u001b[1;32mraise\u001b[0m \u001b[0mValueError\u001b[0m\u001b[1;33m(\u001b[0m\u001b[1;34m\"inf cannot be used with MySQL\"\u001b[0m\u001b[1;33m)\u001b[0m \u001b[1;32mfrom\u001b[0m \u001b[0merr\u001b[0m\u001b[1;33m\u001b[0m\u001b[1;33m\u001b[0m\u001b[0m\n\u001b[0;32m   1418\u001b[0m             \u001b[1;32melse\u001b[0m\u001b[1;33m:\u001b[0m\u001b[1;33m\u001b[0m\u001b[1;33m\u001b[0m\u001b[0m\n\u001b[1;32m-> 1419\u001b[1;33m                 \u001b[1;32mraise\u001b[0m \u001b[0merr\u001b[0m\u001b[1;33m\u001b[0m\u001b[1;33m\u001b[0m\u001b[0m\n\u001b[0m\u001b[0;32m   1420\u001b[0m \u001b[1;33m\u001b[0m\u001b[0m\n\u001b[0;32m   1421\u001b[0m         \u001b[1;32mif\u001b[0m \u001b[1;32mnot\u001b[0m \u001b[0mname\u001b[0m\u001b[1;33m.\u001b[0m\u001b[0misdigit\u001b[0m\u001b[1;33m(\u001b[0m\u001b[1;33m)\u001b[0m \u001b[1;32mand\u001b[0m \u001b[1;32mnot\u001b[0m \u001b[0mname\u001b[0m\u001b[1;33m.\u001b[0m\u001b[0mislower\u001b[0m\u001b[1;33m(\u001b[0m\u001b[1;33m)\u001b[0m\u001b[1;33m:\u001b[0m\u001b[1;33m\u001b[0m\u001b[1;33m\u001b[0m\u001b[0m\n",
      "\u001b[1;32m~\\anaconda3\\lib\\site-packages\\pandas\\io\\sql.py\u001b[0m in \u001b[0;36mto_sql\u001b[1;34m(self, frame, name, if_exists, index, index_label, schema, chunksize, dtype, method)\u001b[0m\n\u001b[0;32m   1409\u001b[0m \u001b[1;33m\u001b[0m\u001b[0m\n\u001b[0;32m   1410\u001b[0m         \u001b[1;32mtry\u001b[0m\u001b[1;33m:\u001b[0m\u001b[1;33m\u001b[0m\u001b[1;33m\u001b[0m\u001b[0m\n\u001b[1;32m-> 1411\u001b[1;33m             \u001b[0mtable\u001b[0m\u001b[1;33m.\u001b[0m\u001b[0minsert\u001b[0m\u001b[1;33m(\u001b[0m\u001b[0mchunksize\u001b[0m\u001b[1;33m,\u001b[0m \u001b[0mmethod\u001b[0m\u001b[1;33m=\u001b[0m\u001b[0mmethod\u001b[0m\u001b[1;33m)\u001b[0m\u001b[1;33m\u001b[0m\u001b[1;33m\u001b[0m\u001b[0m\n\u001b[0m\u001b[0;32m   1412\u001b[0m         \u001b[1;32mexcept\u001b[0m \u001b[0mexc\u001b[0m\u001b[1;33m.\u001b[0m\u001b[0mSQLAlchemyError\u001b[0m \u001b[1;32mas\u001b[0m \u001b[0merr\u001b[0m\u001b[1;33m:\u001b[0m\u001b[1;33m\u001b[0m\u001b[1;33m\u001b[0m\u001b[0m\n\u001b[0;32m   1413\u001b[0m             \u001b[1;31m# GH34431\u001b[0m\u001b[1;33m\u001b[0m\u001b[1;33m\u001b[0m\u001b[1;33m\u001b[0m\u001b[0m\n",
      "\u001b[1;32m~\\anaconda3\\lib\\site-packages\\pandas\\io\\sql.py\u001b[0m in \u001b[0;36minsert\u001b[1;34m(self, chunksize, method)\u001b[0m\n\u001b[0;32m    843\u001b[0m \u001b[1;33m\u001b[0m\u001b[0m\n\u001b[0;32m    844\u001b[0m                 \u001b[0mchunk_iter\u001b[0m \u001b[1;33m=\u001b[0m \u001b[0mzip\u001b[0m\u001b[1;33m(\u001b[0m\u001b[1;33m*\u001b[0m\u001b[1;33m[\u001b[0m\u001b[0marr\u001b[0m\u001b[1;33m[\u001b[0m\u001b[0mstart_i\u001b[0m\u001b[1;33m:\u001b[0m\u001b[0mend_i\u001b[0m\u001b[1;33m]\u001b[0m \u001b[1;32mfor\u001b[0m \u001b[0marr\u001b[0m \u001b[1;32min\u001b[0m \u001b[0mdata_list\u001b[0m\u001b[1;33m]\u001b[0m\u001b[1;33m)\u001b[0m\u001b[1;33m\u001b[0m\u001b[1;33m\u001b[0m\u001b[0m\n\u001b[1;32m--> 845\u001b[1;33m                 \u001b[0mexec_insert\u001b[0m\u001b[1;33m(\u001b[0m\u001b[0mconn\u001b[0m\u001b[1;33m,\u001b[0m \u001b[0mkeys\u001b[0m\u001b[1;33m,\u001b[0m \u001b[0mchunk_iter\u001b[0m\u001b[1;33m)\u001b[0m\u001b[1;33m\u001b[0m\u001b[1;33m\u001b[0m\u001b[0m\n\u001b[0m\u001b[0;32m    846\u001b[0m \u001b[1;33m\u001b[0m\u001b[0m\n\u001b[0;32m    847\u001b[0m     def _query_iterator(\n",
      "\u001b[1;32m~\\anaconda3\\lib\\site-packages\\pandas\\io\\sql.py\u001b[0m in \u001b[0;36m_execute_insert\u001b[1;34m(self, conn, keys, data_iter)\u001b[0m\n\u001b[0;32m    760\u001b[0m         \"\"\"\n\u001b[0;32m    761\u001b[0m         \u001b[0mdata\u001b[0m \u001b[1;33m=\u001b[0m \u001b[1;33m[\u001b[0m\u001b[0mdict\u001b[0m\u001b[1;33m(\u001b[0m\u001b[0mzip\u001b[0m\u001b[1;33m(\u001b[0m\u001b[0mkeys\u001b[0m\u001b[1;33m,\u001b[0m \u001b[0mrow\u001b[0m\u001b[1;33m)\u001b[0m\u001b[1;33m)\u001b[0m \u001b[1;32mfor\u001b[0m \u001b[0mrow\u001b[0m \u001b[1;32min\u001b[0m \u001b[0mdata_iter\u001b[0m\u001b[1;33m]\u001b[0m\u001b[1;33m\u001b[0m\u001b[1;33m\u001b[0m\u001b[0m\n\u001b[1;32m--> 762\u001b[1;33m         \u001b[0mconn\u001b[0m\u001b[1;33m.\u001b[0m\u001b[0mexecute\u001b[0m\u001b[1;33m(\u001b[0m\u001b[0mself\u001b[0m\u001b[1;33m.\u001b[0m\u001b[0mtable\u001b[0m\u001b[1;33m.\u001b[0m\u001b[0minsert\u001b[0m\u001b[1;33m(\u001b[0m\u001b[1;33m)\u001b[0m\u001b[1;33m,\u001b[0m \u001b[0mdata\u001b[0m\u001b[1;33m)\u001b[0m\u001b[1;33m\u001b[0m\u001b[1;33m\u001b[0m\u001b[0m\n\u001b[0m\u001b[0;32m    763\u001b[0m \u001b[1;33m\u001b[0m\u001b[0m\n\u001b[0;32m    764\u001b[0m     \u001b[1;32mdef\u001b[0m \u001b[0m_execute_insert_multi\u001b[0m\u001b[1;33m(\u001b[0m\u001b[0mself\u001b[0m\u001b[1;33m,\u001b[0m \u001b[0mconn\u001b[0m\u001b[1;33m,\u001b[0m \u001b[0mkeys\u001b[0m\u001b[1;33m,\u001b[0m \u001b[0mdata_iter\u001b[0m\u001b[1;33m)\u001b[0m\u001b[1;33m:\u001b[0m\u001b[1;33m\u001b[0m\u001b[1;33m\u001b[0m\u001b[0m\n",
      "\u001b[1;32m~\\anaconda3\\lib\\site-packages\\sqlalchemy\\engine\\base.py\u001b[0m in \u001b[0;36mexecute\u001b[1;34m(self, statement, *multiparams, **params)\u001b[0m\n\u001b[0;32m   1198\u001b[0m             )\n\u001b[0;32m   1199\u001b[0m         \u001b[1;32melse\u001b[0m\u001b[1;33m:\u001b[0m\u001b[1;33m\u001b[0m\u001b[1;33m\u001b[0m\u001b[0m\n\u001b[1;32m-> 1200\u001b[1;33m             \u001b[1;32mreturn\u001b[0m \u001b[0mmeth\u001b[0m\u001b[1;33m(\u001b[0m\u001b[0mself\u001b[0m\u001b[1;33m,\u001b[0m \u001b[0mmultiparams\u001b[0m\u001b[1;33m,\u001b[0m \u001b[0mparams\u001b[0m\u001b[1;33m,\u001b[0m \u001b[0m_EMPTY_EXECUTION_OPTS\u001b[0m\u001b[1;33m)\u001b[0m\u001b[1;33m\u001b[0m\u001b[1;33m\u001b[0m\u001b[0m\n\u001b[0m\u001b[0;32m   1201\u001b[0m \u001b[1;33m\u001b[0m\u001b[0m\n\u001b[0;32m   1202\u001b[0m     \u001b[1;32mdef\u001b[0m \u001b[0m_execute_function\u001b[0m\u001b[1;33m(\u001b[0m\u001b[0mself\u001b[0m\u001b[1;33m,\u001b[0m \u001b[0mfunc\u001b[0m\u001b[1;33m,\u001b[0m \u001b[0mmultiparams\u001b[0m\u001b[1;33m,\u001b[0m \u001b[0mparams\u001b[0m\u001b[1;33m,\u001b[0m \u001b[0mexecution_options\u001b[0m\u001b[1;33m)\u001b[0m\u001b[1;33m:\u001b[0m\u001b[1;33m\u001b[0m\u001b[1;33m\u001b[0m\u001b[0m\n",
      "\u001b[1;32m~\\anaconda3\\lib\\site-packages\\sqlalchemy\\sql\\elements.py\u001b[0m in \u001b[0;36m_execute_on_connection\u001b[1;34m(self, connection, multiparams, params, execution_options, _force)\u001b[0m\n\u001b[0;32m    311\u001b[0m     ):\n\u001b[0;32m    312\u001b[0m         \u001b[1;32mif\u001b[0m \u001b[0m_force\u001b[0m \u001b[1;32mor\u001b[0m \u001b[0mself\u001b[0m\u001b[1;33m.\u001b[0m\u001b[0msupports_execution\u001b[0m\u001b[1;33m:\u001b[0m\u001b[1;33m\u001b[0m\u001b[1;33m\u001b[0m\u001b[0m\n\u001b[1;32m--> 313\u001b[1;33m             return connection._execute_clauseelement(\n\u001b[0m\u001b[0;32m    314\u001b[0m                 \u001b[0mself\u001b[0m\u001b[1;33m,\u001b[0m \u001b[0mmultiparams\u001b[0m\u001b[1;33m,\u001b[0m \u001b[0mparams\u001b[0m\u001b[1;33m,\u001b[0m \u001b[0mexecution_options\u001b[0m\u001b[1;33m\u001b[0m\u001b[1;33m\u001b[0m\u001b[0m\n\u001b[0;32m    315\u001b[0m             )\n",
      "\u001b[1;32m~\\anaconda3\\lib\\site-packages\\sqlalchemy\\engine\\base.py\u001b[0m in \u001b[0;36m_execute_clauseelement\u001b[1;34m(self, elem, multiparams, params, execution_options)\u001b[0m\n\u001b[0;32m   1387\u001b[0m             \u001b[0mlinting\u001b[0m\u001b[1;33m=\u001b[0m\u001b[0mself\u001b[0m\u001b[1;33m.\u001b[0m\u001b[0mdialect\u001b[0m\u001b[1;33m.\u001b[0m\u001b[0mcompiler_linting\u001b[0m \u001b[1;33m|\u001b[0m \u001b[0mcompiler\u001b[0m\u001b[1;33m.\u001b[0m\u001b[0mWARN_LINTING\u001b[0m\u001b[1;33m,\u001b[0m\u001b[1;33m\u001b[0m\u001b[1;33m\u001b[0m\u001b[0m\n\u001b[0;32m   1388\u001b[0m         )\n\u001b[1;32m-> 1389\u001b[1;33m         ret = self._execute_context(\n\u001b[0m\u001b[0;32m   1390\u001b[0m             \u001b[0mdialect\u001b[0m\u001b[1;33m,\u001b[0m\u001b[1;33m\u001b[0m\u001b[1;33m\u001b[0m\u001b[0m\n\u001b[0;32m   1391\u001b[0m             \u001b[0mdialect\u001b[0m\u001b[1;33m.\u001b[0m\u001b[0mexecution_ctx_cls\u001b[0m\u001b[1;33m.\u001b[0m\u001b[0m_init_compiled\u001b[0m\u001b[1;33m,\u001b[0m\u001b[1;33m\u001b[0m\u001b[1;33m\u001b[0m\u001b[0m\n",
      "\u001b[1;32m~\\anaconda3\\lib\\site-packages\\sqlalchemy\\engine\\base.py\u001b[0m in \u001b[0;36m_execute_context\u001b[1;34m(self, dialect, constructor, statement, parameters, execution_options, *args, **kw)\u001b[0m\n\u001b[0;32m   1746\u001b[0m \u001b[1;33m\u001b[0m\u001b[0m\n\u001b[0;32m   1747\u001b[0m         \u001b[1;32mexcept\u001b[0m \u001b[0mBaseException\u001b[0m \u001b[1;32mas\u001b[0m \u001b[0me\u001b[0m\u001b[1;33m:\u001b[0m\u001b[1;33m\u001b[0m\u001b[1;33m\u001b[0m\u001b[0m\n\u001b[1;32m-> 1748\u001b[1;33m             self._handle_dbapi_exception(\n\u001b[0m\u001b[0;32m   1749\u001b[0m                 \u001b[0me\u001b[0m\u001b[1;33m,\u001b[0m \u001b[0mstatement\u001b[0m\u001b[1;33m,\u001b[0m \u001b[0mparameters\u001b[0m\u001b[1;33m,\u001b[0m \u001b[0mcursor\u001b[0m\u001b[1;33m,\u001b[0m \u001b[0mcontext\u001b[0m\u001b[1;33m\u001b[0m\u001b[1;33m\u001b[0m\u001b[0m\n\u001b[0;32m   1750\u001b[0m             )\n",
      "\u001b[1;32m~\\anaconda3\\lib\\site-packages\\sqlalchemy\\engine\\base.py\u001b[0m in \u001b[0;36m_handle_dbapi_exception\u001b[1;34m(self, e, statement, parameters, cursor, context)\u001b[0m\n\u001b[0;32m   1927\u001b[0m                 \u001b[0mutil\u001b[0m\u001b[1;33m.\u001b[0m\u001b[0mraise_\u001b[0m\u001b[1;33m(\u001b[0m\u001b[0mnewraise\u001b[0m\u001b[1;33m,\u001b[0m \u001b[0mwith_traceback\u001b[0m\u001b[1;33m=\u001b[0m\u001b[0mexc_info\u001b[0m\u001b[1;33m[\u001b[0m\u001b[1;36m2\u001b[0m\u001b[1;33m]\u001b[0m\u001b[1;33m,\u001b[0m \u001b[0mfrom_\u001b[0m\u001b[1;33m=\u001b[0m\u001b[0me\u001b[0m\u001b[1;33m)\u001b[0m\u001b[1;33m\u001b[0m\u001b[1;33m\u001b[0m\u001b[0m\n\u001b[0;32m   1928\u001b[0m             \u001b[1;32melif\u001b[0m \u001b[0mshould_wrap\u001b[0m\u001b[1;33m:\u001b[0m\u001b[1;33m\u001b[0m\u001b[1;33m\u001b[0m\u001b[0m\n\u001b[1;32m-> 1929\u001b[1;33m                 util.raise_(\n\u001b[0m\u001b[0;32m   1930\u001b[0m                     \u001b[0msqlalchemy_exception\u001b[0m\u001b[1;33m,\u001b[0m \u001b[0mwith_traceback\u001b[0m\u001b[1;33m=\u001b[0m\u001b[0mexc_info\u001b[0m\u001b[1;33m[\u001b[0m\u001b[1;36m2\u001b[0m\u001b[1;33m]\u001b[0m\u001b[1;33m,\u001b[0m \u001b[0mfrom_\u001b[0m\u001b[1;33m=\u001b[0m\u001b[0me\u001b[0m\u001b[1;33m\u001b[0m\u001b[1;33m\u001b[0m\u001b[0m\n\u001b[0;32m   1931\u001b[0m                 )\n",
      "\u001b[1;32m~\\anaconda3\\lib\\site-packages\\sqlalchemy\\util\\compat.py\u001b[0m in \u001b[0;36mraise_\u001b[1;34m(***failed resolving arguments***)\u001b[0m\n\u001b[0;32m    209\u001b[0m \u001b[1;33m\u001b[0m\u001b[0m\n\u001b[0;32m    210\u001b[0m         \u001b[1;32mtry\u001b[0m\u001b[1;33m:\u001b[0m\u001b[1;33m\u001b[0m\u001b[1;33m\u001b[0m\u001b[0m\n\u001b[1;32m--> 211\u001b[1;33m             \u001b[1;32mraise\u001b[0m \u001b[0mexception\u001b[0m\u001b[1;33m\u001b[0m\u001b[1;33m\u001b[0m\u001b[0m\n\u001b[0m\u001b[0;32m    212\u001b[0m         \u001b[1;32mfinally\u001b[0m\u001b[1;33m:\u001b[0m\u001b[1;33m\u001b[0m\u001b[1;33m\u001b[0m\u001b[0m\n\u001b[0;32m    213\u001b[0m             \u001b[1;31m# credit to\u001b[0m\u001b[1;33m\u001b[0m\u001b[1;33m\u001b[0m\u001b[1;33m\u001b[0m\u001b[0m\n",
      "\u001b[1;32m~\\anaconda3\\lib\\site-packages\\sqlalchemy\\engine\\base.py\u001b[0m in \u001b[0;36m_execute_context\u001b[1;34m(self, dialect, constructor, statement, parameters, execution_options, *args, **kw)\u001b[0m\n\u001b[0;32m   1683\u001b[0m                             \u001b[1;32mbreak\u001b[0m\u001b[1;33m\u001b[0m\u001b[1;33m\u001b[0m\u001b[0m\n\u001b[0;32m   1684\u001b[0m                 \u001b[1;32mif\u001b[0m \u001b[1;32mnot\u001b[0m \u001b[0mevt_handled\u001b[0m\u001b[1;33m:\u001b[0m\u001b[1;33m\u001b[0m\u001b[1;33m\u001b[0m\u001b[0m\n\u001b[1;32m-> 1685\u001b[1;33m                     self.dialect.do_executemany(\n\u001b[0m\u001b[0;32m   1686\u001b[0m                         \u001b[0mcursor\u001b[0m\u001b[1;33m,\u001b[0m \u001b[0mstatement\u001b[0m\u001b[1;33m,\u001b[0m \u001b[0mparameters\u001b[0m\u001b[1;33m,\u001b[0m \u001b[0mcontext\u001b[0m\u001b[1;33m\u001b[0m\u001b[1;33m\u001b[0m\u001b[0m\n\u001b[0;32m   1687\u001b[0m                     )\n",
      "\u001b[1;32m~\\anaconda3\\lib\\site-packages\\sqlalchemy\\dialects\\mysql\\mysqldb.py\u001b[0m in \u001b[0;36mdo_executemany\u001b[1;34m(self, cursor, statement, parameters, context)\u001b[0m\n\u001b[0;32m    146\u001b[0m \u001b[1;33m\u001b[0m\u001b[0m\n\u001b[0;32m    147\u001b[0m     \u001b[1;32mdef\u001b[0m \u001b[0mdo_executemany\u001b[0m\u001b[1;33m(\u001b[0m\u001b[0mself\u001b[0m\u001b[1;33m,\u001b[0m \u001b[0mcursor\u001b[0m\u001b[1;33m,\u001b[0m \u001b[0mstatement\u001b[0m\u001b[1;33m,\u001b[0m \u001b[0mparameters\u001b[0m\u001b[1;33m,\u001b[0m \u001b[0mcontext\u001b[0m\u001b[1;33m=\u001b[0m\u001b[1;32mNone\u001b[0m\u001b[1;33m)\u001b[0m\u001b[1;33m:\u001b[0m\u001b[1;33m\u001b[0m\u001b[1;33m\u001b[0m\u001b[0m\n\u001b[1;32m--> 148\u001b[1;33m         \u001b[0mrowcount\u001b[0m \u001b[1;33m=\u001b[0m \u001b[0mcursor\u001b[0m\u001b[1;33m.\u001b[0m\u001b[0mexecutemany\u001b[0m\u001b[1;33m(\u001b[0m\u001b[0mstatement\u001b[0m\u001b[1;33m,\u001b[0m \u001b[0mparameters\u001b[0m\u001b[1;33m)\u001b[0m\u001b[1;33m\u001b[0m\u001b[1;33m\u001b[0m\u001b[0m\n\u001b[0m\u001b[0;32m    149\u001b[0m         \u001b[1;32mif\u001b[0m \u001b[0mcontext\u001b[0m \u001b[1;32mis\u001b[0m \u001b[1;32mnot\u001b[0m \u001b[1;32mNone\u001b[0m\u001b[1;33m:\u001b[0m\u001b[1;33m\u001b[0m\u001b[1;33m\u001b[0m\u001b[0m\n\u001b[0;32m    150\u001b[0m             \u001b[0mcontext\u001b[0m\u001b[1;33m.\u001b[0m\u001b[0m_rowcount\u001b[0m \u001b[1;33m=\u001b[0m \u001b[0mrowcount\u001b[0m\u001b[1;33m\u001b[0m\u001b[1;33m\u001b[0m\u001b[0m\n",
      "\u001b[1;32m~\\anaconda3\\lib\\site-packages\\pymysql\\cursors.py\u001b[0m in \u001b[0;36mexecutemany\u001b[1;34m(self, query, args)\u001b[0m\n\u001b[0;32m    171\u001b[0m             \u001b[0mq_postfix\u001b[0m \u001b[1;33m=\u001b[0m \u001b[0mm\u001b[0m\u001b[1;33m.\u001b[0m\u001b[0mgroup\u001b[0m\u001b[1;33m(\u001b[0m\u001b[1;36m3\u001b[0m\u001b[1;33m)\u001b[0m \u001b[1;32mor\u001b[0m \u001b[1;34m\"\"\u001b[0m\u001b[1;33m\u001b[0m\u001b[1;33m\u001b[0m\u001b[0m\n\u001b[0;32m    172\u001b[0m             \u001b[1;32massert\u001b[0m \u001b[0mq_values\u001b[0m\u001b[1;33m[\u001b[0m\u001b[1;36m0\u001b[0m\u001b[1;33m]\u001b[0m \u001b[1;33m==\u001b[0m \u001b[1;34m\"(\"\u001b[0m \u001b[1;32mand\u001b[0m \u001b[0mq_values\u001b[0m\u001b[1;33m[\u001b[0m\u001b[1;33m-\u001b[0m\u001b[1;36m1\u001b[0m\u001b[1;33m]\u001b[0m \u001b[1;33m==\u001b[0m \u001b[1;34m\")\"\u001b[0m\u001b[1;33m\u001b[0m\u001b[1;33m\u001b[0m\u001b[0m\n\u001b[1;32m--> 173\u001b[1;33m             return self._do_execute_many(\n\u001b[0m\u001b[0;32m    174\u001b[0m                 \u001b[0mq_prefix\u001b[0m\u001b[1;33m,\u001b[0m\u001b[1;33m\u001b[0m\u001b[1;33m\u001b[0m\u001b[0m\n\u001b[0;32m    175\u001b[0m                 \u001b[0mq_values\u001b[0m\u001b[1;33m,\u001b[0m\u001b[1;33m\u001b[0m\u001b[1;33m\u001b[0m\u001b[0m\n",
      "\u001b[1;32m~\\anaconda3\\lib\\site-packages\\pymysql\\cursors.py\u001b[0m in \u001b[0;36m_do_execute_many\u001b[1;34m(self, prefix, values, postfix, args, max_stmt_length, encoding)\u001b[0m\n\u001b[0;32m    209\u001b[0m                 \u001b[0msql\u001b[0m \u001b[1;33m+=\u001b[0m \u001b[1;34mb\",\"\u001b[0m\u001b[1;33m\u001b[0m\u001b[1;33m\u001b[0m\u001b[0m\n\u001b[0;32m    210\u001b[0m             \u001b[0msql\u001b[0m \u001b[1;33m+=\u001b[0m \u001b[0mv\u001b[0m\u001b[1;33m\u001b[0m\u001b[1;33m\u001b[0m\u001b[0m\n\u001b[1;32m--> 211\u001b[1;33m         \u001b[0mrows\u001b[0m \u001b[1;33m+=\u001b[0m \u001b[0mself\u001b[0m\u001b[1;33m.\u001b[0m\u001b[0mexecute\u001b[0m\u001b[1;33m(\u001b[0m\u001b[0msql\u001b[0m \u001b[1;33m+\u001b[0m \u001b[0mpostfix\u001b[0m\u001b[1;33m)\u001b[0m\u001b[1;33m\u001b[0m\u001b[1;33m\u001b[0m\u001b[0m\n\u001b[0m\u001b[0;32m    212\u001b[0m         \u001b[0mself\u001b[0m\u001b[1;33m.\u001b[0m\u001b[0mrowcount\u001b[0m \u001b[1;33m=\u001b[0m \u001b[0mrows\u001b[0m\u001b[1;33m\u001b[0m\u001b[1;33m\u001b[0m\u001b[0m\n\u001b[0;32m    213\u001b[0m         \u001b[1;32mreturn\u001b[0m \u001b[0mrows\u001b[0m\u001b[1;33m\u001b[0m\u001b[1;33m\u001b[0m\u001b[0m\n",
      "\u001b[1;32m~\\anaconda3\\lib\\site-packages\\pymysql\\cursors.py\u001b[0m in \u001b[0;36mexecute\u001b[1;34m(self, query, args)\u001b[0m\n\u001b[0;32m    146\u001b[0m         \u001b[0mquery\u001b[0m \u001b[1;33m=\u001b[0m \u001b[0mself\u001b[0m\u001b[1;33m.\u001b[0m\u001b[0mmogrify\u001b[0m\u001b[1;33m(\u001b[0m\u001b[0mquery\u001b[0m\u001b[1;33m,\u001b[0m \u001b[0margs\u001b[0m\u001b[1;33m)\u001b[0m\u001b[1;33m\u001b[0m\u001b[1;33m\u001b[0m\u001b[0m\n\u001b[0;32m    147\u001b[0m \u001b[1;33m\u001b[0m\u001b[0m\n\u001b[1;32m--> 148\u001b[1;33m         \u001b[0mresult\u001b[0m \u001b[1;33m=\u001b[0m \u001b[0mself\u001b[0m\u001b[1;33m.\u001b[0m\u001b[0m_query\u001b[0m\u001b[1;33m(\u001b[0m\u001b[0mquery\u001b[0m\u001b[1;33m)\u001b[0m\u001b[1;33m\u001b[0m\u001b[1;33m\u001b[0m\u001b[0m\n\u001b[0m\u001b[0;32m    149\u001b[0m         \u001b[0mself\u001b[0m\u001b[1;33m.\u001b[0m\u001b[0m_executed\u001b[0m \u001b[1;33m=\u001b[0m \u001b[0mquery\u001b[0m\u001b[1;33m\u001b[0m\u001b[1;33m\u001b[0m\u001b[0m\n\u001b[0;32m    150\u001b[0m         \u001b[1;32mreturn\u001b[0m \u001b[0mresult\u001b[0m\u001b[1;33m\u001b[0m\u001b[1;33m\u001b[0m\u001b[0m\n",
      "\u001b[1;32m~\\anaconda3\\lib\\site-packages\\pymysql\\cursors.py\u001b[0m in \u001b[0;36m_query\u001b[1;34m(self, q)\u001b[0m\n\u001b[0;32m    308\u001b[0m         \u001b[0mself\u001b[0m\u001b[1;33m.\u001b[0m\u001b[0m_last_executed\u001b[0m \u001b[1;33m=\u001b[0m \u001b[0mq\u001b[0m\u001b[1;33m\u001b[0m\u001b[1;33m\u001b[0m\u001b[0m\n\u001b[0;32m    309\u001b[0m         \u001b[0mself\u001b[0m\u001b[1;33m.\u001b[0m\u001b[0m_clear_result\u001b[0m\u001b[1;33m(\u001b[0m\u001b[1;33m)\u001b[0m\u001b[1;33m\u001b[0m\u001b[1;33m\u001b[0m\u001b[0m\n\u001b[1;32m--> 310\u001b[1;33m         \u001b[0mconn\u001b[0m\u001b[1;33m.\u001b[0m\u001b[0mquery\u001b[0m\u001b[1;33m(\u001b[0m\u001b[0mq\u001b[0m\u001b[1;33m)\u001b[0m\u001b[1;33m\u001b[0m\u001b[1;33m\u001b[0m\u001b[0m\n\u001b[0m\u001b[0;32m    311\u001b[0m         \u001b[0mself\u001b[0m\u001b[1;33m.\u001b[0m\u001b[0m_do_get_result\u001b[0m\u001b[1;33m(\u001b[0m\u001b[1;33m)\u001b[0m\u001b[1;33m\u001b[0m\u001b[1;33m\u001b[0m\u001b[0m\n\u001b[0;32m    312\u001b[0m         \u001b[1;32mreturn\u001b[0m \u001b[0mself\u001b[0m\u001b[1;33m.\u001b[0m\u001b[0mrowcount\u001b[0m\u001b[1;33m\u001b[0m\u001b[1;33m\u001b[0m\u001b[0m\n",
      "\u001b[1;32m~\\anaconda3\\lib\\site-packages\\pymysql\\connections.py\u001b[0m in \u001b[0;36mquery\u001b[1;34m(self, sql, unbuffered)\u001b[0m\n\u001b[0;32m    546\u001b[0m             \u001b[0msql\u001b[0m \u001b[1;33m=\u001b[0m \u001b[0msql\u001b[0m\u001b[1;33m.\u001b[0m\u001b[0mencode\u001b[0m\u001b[1;33m(\u001b[0m\u001b[0mself\u001b[0m\u001b[1;33m.\u001b[0m\u001b[0mencoding\u001b[0m\u001b[1;33m,\u001b[0m \u001b[1;34m\"surrogateescape\"\u001b[0m\u001b[1;33m)\u001b[0m\u001b[1;33m\u001b[0m\u001b[1;33m\u001b[0m\u001b[0m\n\u001b[0;32m    547\u001b[0m         \u001b[0mself\u001b[0m\u001b[1;33m.\u001b[0m\u001b[0m_execute_command\u001b[0m\u001b[1;33m(\u001b[0m\u001b[0mCOMMAND\u001b[0m\u001b[1;33m.\u001b[0m\u001b[0mCOM_QUERY\u001b[0m\u001b[1;33m,\u001b[0m \u001b[0msql\u001b[0m\u001b[1;33m)\u001b[0m\u001b[1;33m\u001b[0m\u001b[1;33m\u001b[0m\u001b[0m\n\u001b[1;32m--> 548\u001b[1;33m         \u001b[0mself\u001b[0m\u001b[1;33m.\u001b[0m\u001b[0m_affected_rows\u001b[0m \u001b[1;33m=\u001b[0m \u001b[0mself\u001b[0m\u001b[1;33m.\u001b[0m\u001b[0m_read_query_result\u001b[0m\u001b[1;33m(\u001b[0m\u001b[0munbuffered\u001b[0m\u001b[1;33m=\u001b[0m\u001b[0munbuffered\u001b[0m\u001b[1;33m)\u001b[0m\u001b[1;33m\u001b[0m\u001b[1;33m\u001b[0m\u001b[0m\n\u001b[0m\u001b[0;32m    549\u001b[0m         \u001b[1;32mreturn\u001b[0m \u001b[0mself\u001b[0m\u001b[1;33m.\u001b[0m\u001b[0m_affected_rows\u001b[0m\u001b[1;33m\u001b[0m\u001b[1;33m\u001b[0m\u001b[0m\n\u001b[0;32m    550\u001b[0m \u001b[1;33m\u001b[0m\u001b[0m\n",
      "\u001b[1;32m~\\anaconda3\\lib\\site-packages\\pymysql\\connections.py\u001b[0m in \u001b[0;36m_read_query_result\u001b[1;34m(self, unbuffered)\u001b[0m\n\u001b[0;32m    773\u001b[0m         \u001b[1;32melse\u001b[0m\u001b[1;33m:\u001b[0m\u001b[1;33m\u001b[0m\u001b[1;33m\u001b[0m\u001b[0m\n\u001b[0;32m    774\u001b[0m             \u001b[0mresult\u001b[0m \u001b[1;33m=\u001b[0m \u001b[0mMySQLResult\u001b[0m\u001b[1;33m(\u001b[0m\u001b[0mself\u001b[0m\u001b[1;33m)\u001b[0m\u001b[1;33m\u001b[0m\u001b[1;33m\u001b[0m\u001b[0m\n\u001b[1;32m--> 775\u001b[1;33m             \u001b[0mresult\u001b[0m\u001b[1;33m.\u001b[0m\u001b[0mread\u001b[0m\u001b[1;33m(\u001b[0m\u001b[1;33m)\u001b[0m\u001b[1;33m\u001b[0m\u001b[1;33m\u001b[0m\u001b[0m\n\u001b[0m\u001b[0;32m    776\u001b[0m         \u001b[0mself\u001b[0m\u001b[1;33m.\u001b[0m\u001b[0m_result\u001b[0m \u001b[1;33m=\u001b[0m \u001b[0mresult\u001b[0m\u001b[1;33m\u001b[0m\u001b[1;33m\u001b[0m\u001b[0m\n\u001b[0;32m    777\u001b[0m         \u001b[1;32mif\u001b[0m \u001b[0mresult\u001b[0m\u001b[1;33m.\u001b[0m\u001b[0mserver_status\u001b[0m \u001b[1;32mis\u001b[0m \u001b[1;32mnot\u001b[0m \u001b[1;32mNone\u001b[0m\u001b[1;33m:\u001b[0m\u001b[1;33m\u001b[0m\u001b[1;33m\u001b[0m\u001b[0m\n",
      "\u001b[1;32m~\\anaconda3\\lib\\site-packages\\pymysql\\connections.py\u001b[0m in \u001b[0;36mread\u001b[1;34m(self)\u001b[0m\n\u001b[0;32m   1154\u001b[0m     \u001b[1;32mdef\u001b[0m \u001b[0mread\u001b[0m\u001b[1;33m(\u001b[0m\u001b[0mself\u001b[0m\u001b[1;33m)\u001b[0m\u001b[1;33m:\u001b[0m\u001b[1;33m\u001b[0m\u001b[1;33m\u001b[0m\u001b[0m\n\u001b[0;32m   1155\u001b[0m         \u001b[1;32mtry\u001b[0m\u001b[1;33m:\u001b[0m\u001b[1;33m\u001b[0m\u001b[1;33m\u001b[0m\u001b[0m\n\u001b[1;32m-> 1156\u001b[1;33m             \u001b[0mfirst_packet\u001b[0m \u001b[1;33m=\u001b[0m \u001b[0mself\u001b[0m\u001b[1;33m.\u001b[0m\u001b[0mconnection\u001b[0m\u001b[1;33m.\u001b[0m\u001b[0m_read_packet\u001b[0m\u001b[1;33m(\u001b[0m\u001b[1;33m)\u001b[0m\u001b[1;33m\u001b[0m\u001b[1;33m\u001b[0m\u001b[0m\n\u001b[0m\u001b[0;32m   1157\u001b[0m \u001b[1;33m\u001b[0m\u001b[0m\n\u001b[0;32m   1158\u001b[0m             \u001b[1;32mif\u001b[0m \u001b[0mfirst_packet\u001b[0m\u001b[1;33m.\u001b[0m\u001b[0mis_ok_packet\u001b[0m\u001b[1;33m(\u001b[0m\u001b[1;33m)\u001b[0m\u001b[1;33m:\u001b[0m\u001b[1;33m\u001b[0m\u001b[1;33m\u001b[0m\u001b[0m\n",
      "\u001b[1;32m~\\anaconda3\\lib\\site-packages\\pymysql\\connections.py\u001b[0m in \u001b[0;36m_read_packet\u001b[1;34m(self, packet_type)\u001b[0m\n\u001b[0;32m    723\u001b[0m             \u001b[1;32mif\u001b[0m \u001b[0mself\u001b[0m\u001b[1;33m.\u001b[0m\u001b[0m_result\u001b[0m \u001b[1;32mis\u001b[0m \u001b[1;32mnot\u001b[0m \u001b[1;32mNone\u001b[0m \u001b[1;32mand\u001b[0m \u001b[0mself\u001b[0m\u001b[1;33m.\u001b[0m\u001b[0m_result\u001b[0m\u001b[1;33m.\u001b[0m\u001b[0munbuffered_active\u001b[0m \u001b[1;32mis\u001b[0m \u001b[1;32mTrue\u001b[0m\u001b[1;33m:\u001b[0m\u001b[1;33m\u001b[0m\u001b[1;33m\u001b[0m\u001b[0m\n\u001b[0;32m    724\u001b[0m                 \u001b[0mself\u001b[0m\u001b[1;33m.\u001b[0m\u001b[0m_result\u001b[0m\u001b[1;33m.\u001b[0m\u001b[0munbuffered_active\u001b[0m \u001b[1;33m=\u001b[0m \u001b[1;32mFalse\u001b[0m\u001b[1;33m\u001b[0m\u001b[1;33m\u001b[0m\u001b[0m\n\u001b[1;32m--> 725\u001b[1;33m             \u001b[0mpacket\u001b[0m\u001b[1;33m.\u001b[0m\u001b[0mraise_for_error\u001b[0m\u001b[1;33m(\u001b[0m\u001b[1;33m)\u001b[0m\u001b[1;33m\u001b[0m\u001b[1;33m\u001b[0m\u001b[0m\n\u001b[0m\u001b[0;32m    726\u001b[0m         \u001b[1;32mreturn\u001b[0m \u001b[0mpacket\u001b[0m\u001b[1;33m\u001b[0m\u001b[1;33m\u001b[0m\u001b[0m\n\u001b[0;32m    727\u001b[0m \u001b[1;33m\u001b[0m\u001b[0m\n",
      "\u001b[1;32m~\\anaconda3\\lib\\site-packages\\pymysql\\protocol.py\u001b[0m in \u001b[0;36mraise_for_error\u001b[1;34m(self)\u001b[0m\n\u001b[0;32m    219\u001b[0m         \u001b[1;32mif\u001b[0m \u001b[0mDEBUG\u001b[0m\u001b[1;33m:\u001b[0m\u001b[1;33m\u001b[0m\u001b[1;33m\u001b[0m\u001b[0m\n\u001b[0;32m    220\u001b[0m             \u001b[0mprint\u001b[0m\u001b[1;33m(\u001b[0m\u001b[1;34m\"errno =\"\u001b[0m\u001b[1;33m,\u001b[0m \u001b[0merrno\u001b[0m\u001b[1;33m)\u001b[0m\u001b[1;33m\u001b[0m\u001b[1;33m\u001b[0m\u001b[0m\n\u001b[1;32m--> 221\u001b[1;33m         \u001b[0merr\u001b[0m\u001b[1;33m.\u001b[0m\u001b[0mraise_mysql_exception\u001b[0m\u001b[1;33m(\u001b[0m\u001b[0mself\u001b[0m\u001b[1;33m.\u001b[0m\u001b[0m_data\u001b[0m\u001b[1;33m)\u001b[0m\u001b[1;33m\u001b[0m\u001b[1;33m\u001b[0m\u001b[0m\n\u001b[0m\u001b[0;32m    222\u001b[0m \u001b[1;33m\u001b[0m\u001b[0m\n\u001b[0;32m    223\u001b[0m     \u001b[1;32mdef\u001b[0m \u001b[0mdump\u001b[0m\u001b[1;33m(\u001b[0m\u001b[0mself\u001b[0m\u001b[1;33m)\u001b[0m\u001b[1;33m:\u001b[0m\u001b[1;33m\u001b[0m\u001b[1;33m\u001b[0m\u001b[0m\n",
      "\u001b[1;32m~\\anaconda3\\lib\\site-packages\\pymysql\\err.py\u001b[0m in \u001b[0;36mraise_mysql_exception\u001b[1;34m(data)\u001b[0m\n\u001b[0;32m    141\u001b[0m     \u001b[1;32mif\u001b[0m \u001b[0merrorclass\u001b[0m \u001b[1;32mis\u001b[0m \u001b[1;32mNone\u001b[0m\u001b[1;33m:\u001b[0m\u001b[1;33m\u001b[0m\u001b[1;33m\u001b[0m\u001b[0m\n\u001b[0;32m    142\u001b[0m         \u001b[0merrorclass\u001b[0m \u001b[1;33m=\u001b[0m \u001b[0mInternalError\u001b[0m \u001b[1;32mif\u001b[0m \u001b[0merrno\u001b[0m \u001b[1;33m<\u001b[0m \u001b[1;36m1000\u001b[0m \u001b[1;32melse\u001b[0m \u001b[0mOperationalError\u001b[0m\u001b[1;33m\u001b[0m\u001b[1;33m\u001b[0m\u001b[0m\n\u001b[1;32m--> 143\u001b[1;33m     \u001b[1;32mraise\u001b[0m \u001b[0merrorclass\u001b[0m\u001b[1;33m(\u001b[0m\u001b[0merrno\u001b[0m\u001b[1;33m,\u001b[0m \u001b[0merrval\u001b[0m\u001b[1;33m)\u001b[0m\u001b[1;33m\u001b[0m\u001b[1;33m\u001b[0m\u001b[0m\n\u001b[0m",
      "\u001b[1;31mIntegrityError\u001b[0m: (pymysql.err.IntegrityError) (1452, 'Cannot add or update a child row: a foreign key constraint fails (`gans`.`airport`, CONSTRAINT `airport_ibfk_1` FOREIGN KEY (`municipality_iso_country`) REFERENCES `city_pop` (`municipality_iso_country`))')\n[SQL: INSERT INTO airport (airport_name, latitude_deg, longitude_deg, elevation_ft, iso_country, iso_region, municipality, icao_code, iata_code, municipality_iso_country) VALUES (%(airport_name)s, %(latitude_deg)s, %(longitude_deg)s, %(elevation_ft)s, %(iso_country)s, %(iso_region)s, %(municipality)s, %(icao_code)s, %(iata_code)s, %(municipality_iso_country)s)]\n[parameters: ({'airport_name': 'Honiara International Airport', 'latitude_deg': -9.428, 'longitude_deg': 160.054993, 'elevation_ft': 28.0, 'iso_country': 'SB', 'iso_region': 'SB-CT', 'municipality': 'Honiara', 'icao_code': 'AGGH', 'iata_code': 'HIR', 'municipality_iso_country': 'Honiara,SB'}, {'airport_name': 'Port Moresby Jacksons International Airport', 'latitude_deg': -9.44338035583496, 'longitude_deg': 147.22000122070312, 'elevation_ft': 146.0, 'iso_country': 'PG', 'iso_region': 'PG-NCD', 'municipality': 'Port Moresby', 'icao_code': 'AYPY', 'iata_code': 'POM', 'municipality_iso_country': 'Port Moresby,PG'}, {'airport_name': 'Keflavik International Airport', 'latitude_deg': 63.985001, 'longitude_deg': -22.6056, 'elevation_ft': 171.0, 'iso_country': 'IS', 'iso_region': 'IS-2', 'municipality': 'Reykjavík', 'icao_code': 'BIKF', 'iata_code': 'KEF', 'municipality_iso_country': 'Reykjavík,IS'}, {'airport_name': 'Priština Adem Jashari International Airport', 'latitude_deg': 42.5728, 'longitude_deg': 21.035801, 'elevation_ft': 1789.0, 'iso_country': 'XK', 'iso_region': 'XK-01', 'municipality': 'Prishtina', 'icao_code': 'BKPR', 'iata_code': 'PRN', 'municipality_iso_country': 'Prishtina,XK'}, {'airport_name': 'Guodu Air Base', 'latitude_deg': 36.001741, 'longitude_deg': 117.63201, 'elevation_ft': 'unknown', 'iso_country': 'CN', 'iso_region': 'CN-37', 'municipality': \"Xintai, Tai'an\", 'icao_code': 'unknown', 'iata_code': 'unknown', 'municipality_iso_country': \"Xintai, Tai'an,CN\"}, {'airport_name': 'Nanaimo International Air And Space Port / RCAF Nanaimo Base', 'latitude_deg': 49.05497, 'longitude_deg': -123.869863, 'elevation_ft': 92.0, 'iso_country': 'CA', 'iso_region': 'CA-BC', 'municipality': 'Nanaimo', 'icao_code': 'CYCD', 'iata_code': 'YCD', 'municipality_iso_country': 'Nanaimo,CA'}, {'airport_name': 'Edmonton International Airport', 'latitude_deg': 53.3097000122, 'longitude_deg': -113.580001831, 'elevation_ft': 2373.0, 'iso_country': 'CA', 'iso_region': 'CA-AB', 'municipality': 'Edmonton', 'icao_code': 'CYEG', 'iata_code': 'YEG', 'municipality_iso_country': 'Edmonton,CA'}, {'airport_name': 'Halifax / Stanfield International Airport', 'latitude_deg': 44.8807983398, 'longitude_deg': -63.5085983276, 'elevation_ft': 477.0, 'iso_country': 'CA', 'iso_region': 'CA-NS', 'municipality': 'Halifax', 'icao_code': 'CYHZ', 'iata_code': 'YHZ', 'municipality_iso_country': 'Halifax,CA'}  ... displaying 10 of 620 total bound parameter sets ...  {'airport_name': 'Dalian Zhoushuizi International Airport', 'latitude_deg': 38.965698, 'longitude_deg': 121.539001, 'elevation_ft': 107.0, 'iso_country': 'CN', 'iso_region': 'CN-21', 'municipality': 'Ganjingzi, Dalian', 'icao_code': 'ZYTL', 'iata_code': 'DLC', 'municipality_iso_country': 'Ganjingzi, Dalian,CN'}, {'airport_name': 'Shenyang Taoxian International Airport', 'latitude_deg': 41.639801, 'longitude_deg': 123.483002, 'elevation_ft': 198.0, 'iso_country': 'CN', 'iso_region': 'CN-21', 'municipality': 'Hunnan, Shenyang', 'icao_code': 'ZYTX', 'iata_code': 'SHE', 'municipality_iso_country': 'Hunnan, Shenyang,CN'})]\n(Background on this error at: http://sqlalche.me/e/14/gkpj)"
     ]
    }
   ],
   "source": [
    "airports.to_sql('airport', if_exists = 'append', con = con2, index = False)"
   ]
  },
  {
   "cell_type": "markdown",
   "id": "3c2a50c9-3ada-4b2d-a499-c0cdb3bd816b",
   "metadata": {},
   "source": [
    "Flights data and weather data will be pushed to the database from the automated AWS Lambda functions. "
   ]
  },
  {
   "cell_type": "code",
   "execution_count": null,
   "id": "df7a82ce-10d6-4079-a94a-f7e755735a70",
   "metadata": {},
   "outputs": [],
   "source": []
  }
 ],
 "metadata": {
  "kernelspec": {
   "display_name": "Python 3",
   "language": "python",
   "name": "python3"
  },
  "language_info": {
   "codemirror_mode": {
    "name": "ipython",
    "version": 3
   },
   "file_extension": ".py",
   "mimetype": "text/x-python",
   "name": "python",
   "nbconvert_exporter": "python",
   "pygments_lexer": "ipython3",
   "version": "3.8.8"
  }
 },
 "nbformat": 4,
 "nbformat_minor": 5
}
