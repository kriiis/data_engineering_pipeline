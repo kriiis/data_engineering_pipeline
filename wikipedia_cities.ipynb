{
 "cells": [
  {
   "cell_type": "code",
   "execution_count": 128,
   "id": "f68f0f8d-263d-4a4d-82a6-f0d11a6f1aa2",
   "metadata": {},
   "outputs": [],
   "source": [
    "from bs4 import BeautifulSoup\n",
    "import requests\n",
    "import pandas as pd\n",
    "\n",
    "\n",
    "def city_pop(city):\n",
    "    # base url for wikipedia\n",
    "    base_url = \"https://en.wikipedia.org/wiki/\"\n",
    "    # build wikipedia link with city name for that I want to get the population details\n",
    "    search = base_url + city\n",
    "    # save request from website in response\n",
    "    response = requests.get(search)\n",
    "    # use html parser to parse requested website and save as soup\n",
    "    soup = BeautifulSoup(response.content, \"html.parser\")\n",
    "    #find all tr tags with class mergedtoprow that contain info from infobox\n",
    "    infobox = soup.find_all('tr', {'class':'mergedtoprow'})\n",
    "    # initialize dictionary\n",
    "    new_dict = {}\n",
    "    # loop through all tr items in infobox and search for the one that contains the population\n",
    "    for i in infobox:\n",
    "        if \"Population\" in i.text:\n",
    "        # loop through the next siblings after population that contain the numbers\n",
    "            for sibling in i.next_siblings:\n",
    "                # stop the code if the class of the siblings is not mergedrow - then we reached the next category that we are not interested in\n",
    "                if (sibling['class'] != ['mergedrow']):   \n",
    "                    break\n",
    "                # save text in th element in new_key, strip = True already removes whitespace\n",
    "                new_key = sibling.select('th')[0].get_text(strip = True)\n",
    "                #replace more unwanted characters\n",
    "                new_key = new_key.replace('•\\xa0','').replace('•','')\n",
    "                # save text from td element in new_value\n",
    "                new_value = sibling.select('td')[0].get_text(strip = True)\n",
    "                new_value = new_value.replace('\\xa0',' ')\n",
    "                # save new_value with new_key in the dictionary\n",
    "                new_dict[new_key] = new_value\n",
    "                \n",
    "    #create DataFrame from dictionary\n",
    "    pop = pd.DataFrame.from_dict(new_dict, orient='index')                      \n",
    "    pop = pop.reset_index()\n",
    "    pop.columns = ['Description', 'Population']        \n",
    "    return(pop)\n",
    "            "
   ]
  },
  {
   "cell_type": "code",
   "execution_count": 132,
   "id": "665280c2-8b3f-4efe-8cf4-3d21b6b3b741",
   "metadata": {},
   "outputs": [
    {
     "data": {
      "text/html": [
       "<div>\n",
       "<style scoped>\n",
       "    .dataframe tbody tr th:only-of-type {\n",
       "        vertical-align: middle;\n",
       "    }\n",
       "\n",
       "    .dataframe tbody tr th {\n",
       "        vertical-align: top;\n",
       "    }\n",
       "\n",
       "    .dataframe thead th {\n",
       "        text-align: right;\n",
       "    }\n",
       "</style>\n",
       "<table border=\"1\" class=\"dataframe\">\n",
       "  <thead>\n",
       "    <tr style=\"text-align: right;\">\n",
       "      <th></th>\n",
       "      <th>Description</th>\n",
       "      <th>Population</th>\n",
       "    </tr>\n",
       "  </thead>\n",
       "  <tbody>\n",
       "    <tr>\n",
       "      <th>0</th>\n",
       "      <td>City</td>\n",
       "      <td>1,845,229</td>\n",
       "    </tr>\n",
       "    <tr>\n",
       "      <th>1</th>\n",
       "      <td>Density</td>\n",
       "      <td>2,400/km2(6,300/sq mi)</td>\n",
       "    </tr>\n",
       "    <tr>\n",
       "      <th>2</th>\n",
       "      <td>Urban</td>\n",
       "      <td>2,484,800[1]</td>\n",
       "    </tr>\n",
       "    <tr>\n",
       "      <th>3</th>\n",
       "      <td>Metro</td>\n",
       "      <td>5,107,429</td>\n",
       "    </tr>\n",
       "  </tbody>\n",
       "</table>\n",
       "</div>"
      ],
      "text/plain": [
       "  Description              Population\n",
       "0        City               1,845,229\n",
       "1     Density  2,400/km2(6,300/sq mi)\n",
       "2       Urban            2,484,800[1]\n",
       "3       Metro               5,107,429"
      ]
     },
     "execution_count": 132,
     "metadata": {},
     "output_type": "execute_result"
    }
   ],
   "source": [
    "city_pop('Hamburg')"
   ]
  },
  {
   "cell_type": "code",
   "execution_count": null,
   "id": "e751cb2c-f894-4fb6-aac5-711340b9d76d",
   "metadata": {},
   "outputs": [],
   "source": []
  }
 ],
 "metadata": {
  "kernelspec": {
   "display_name": "Python 3",
   "language": "python",
   "name": "python3"
  },
  "language_info": {
   "codemirror_mode": {
    "name": "ipython",
    "version": 3
   },
   "file_extension": ".py",
   "mimetype": "text/x-python",
   "name": "python",
   "nbconvert_exporter": "python",
   "pygments_lexer": "ipython3",
   "version": "3.8.8"
  }
 },
 "nbformat": 4,
 "nbformat_minor": 5
}
