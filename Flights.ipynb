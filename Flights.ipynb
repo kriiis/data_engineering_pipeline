{
 "cells": [
  {
   "cell_type": "code",
   "execution_count": 1,
   "id": "c1f6425c-6518-4c48-a26b-e4302d361b61",
   "metadata": {},
   "outputs": [],
   "source": [
    "import requests\n",
    "from IPython.display import JSON"
   ]
  },
  {
   "cell_type": "code",
   "execution_count": 1,
   "id": "d4fb088d-c200-4df4-bdda-0cb2b40ddd65",
   "metadata": {},
   "outputs": [],
   "source": [
    "#be careful not to run too often as there is a maximum of 200 api calls per month\n",
    "\n",
    "url = \"https://aerodatabox.p.rapidapi.com/flights/airports/icao/EDDB/2021-11-25T08:00/2021-11-25T20:00\"\n",
    "\n",
    "querystring = {\"withLeg\":\"true\",\"direction\":\"Arrival\",\"withCancelled\":\"true\",\"withCodeshared\":\"true\",\"withCargo\":\"true\",\"withPrivate\":\"true\",\"withLocation\":\"false\"}\n",
    "\n",
    "headers = {\n",
    "    'x-rapidapi-host': \"aerodatabox.p.rapidapi.com\",\n",
    "    'x-rapidapi-key': \"e5fd3f0d20msh33512308774393cp1f8519jsn3f904e2f39d1\"\n",
    "    }\n",
    "\n",
    "response = requests.request(\"GET\", url, headers=headers, params=querystring)"
   ]
  },
  {
   "cell_type": "code",
   "execution_count": 11,
   "id": "3326e214-ee8c-4f9e-8877-115f3a3ae425",
   "metadata": {
    "tags": []
   },
   "outputs": [
    {
     "data": {
      "application/json": {
       "arrivals": [
        {
         "aircraft": {
          "model": "Embraer 195"
         },
         "airline": {
          "name": "Austrian"
         },
         "arrival": {
          "quality": [
           "Basic"
          ],
          "scheduledTimeLocal": "2021-11-25 08:55+01:00",
          "scheduledTimeUtc": "2021-11-25 07:55Z",
          "terminal": "1"
         },
         "codeshareStatus": "Unknown",
         "departure": {
          "actualTimeLocal": "2021-11-25 07:40+01:00",
          "actualTimeUtc": "2021-11-25 06:40Z",
          "airport": {
           "iata": "VIE",
           "icao": "LOWW",
           "name": "Vienna"
          },
          "checkInDesk": "351-378",
          "quality": [
           "Basic",
           "Live"
          ],
          "scheduledTimeLocal": "2021-11-25 07:40+01:00",
          "scheduledTimeUtc": "2021-11-25 06:40Z",
          "terminal": "T3"
         },
         "isCargo": false,
         "number": "OS 223",
         "status": "Unknown"
        },
        {
         "aircraft": {
          "model": "Airbus A320"
         },
         "airline": {
          "name": "Air Serbia"
         },
         "arrival": {
          "quality": [
           "Basic"
          ],
          "scheduledTimeLocal": "2021-11-25 09:00+01:00",
          "scheduledTimeUtc": "2021-11-25 08:00Z",
          "terminal": "1"
         },
         "codeshareStatus": "Unknown",
         "departure": {
          "airport": {
           "iata": "BEG",
           "icao": "LYBE",
           "name": "Belgrade"
          },
          "quality": [
           "Basic"
          ],
          "scheduledTimeLocal": "2021-11-25 07:10+01:00",
          "scheduledTimeUtc": "2021-11-25 06:10Z",
          "terminal": "2"
         },
         "isCargo": false,
         "number": "JU 350",
         "status": "Unknown"
        },
        {
         "aircraft": {
          "model": "Airbus A320",
          "reg": "D-AIZZ"
         },
         "airline": {
          "name": "Lufthansa"
         },
         "arrival": {
          "quality": [
           "Basic"
          ],
          "scheduledTimeLocal": "2021-11-25 08:55+01:00",
          "scheduledTimeUtc": "2021-11-25 07:55Z",
          "terminal": "1"
         },
         "codeshareStatus": "IsCodeshared",
         "departure": {
          "actualTimeLocal": "2021-11-25 07:45+01:00",
          "actualTimeUtc": "2021-11-25 06:45Z",
          "airport": {
           "iata": "FRA",
           "icao": "EDDF",
           "name": "Frankfurt-am-Main"
          },
          "checkInDesk": "263-453",
          "gate": "A16",
          "quality": [
           "Basic",
           "Live"
          ],
          "scheduledTimeLocal": "2021-11-25 07:45+01:00",
          "scheduledTimeUtc": "2021-11-25 06:45Z",
          "terminal": "1"
         },
         "isCargo": false,
         "number": "LH 174",
         "status": "Unknown"
        },
        {
         "aircraft": {
          "model": "Airbus A320"
         },
         "airline": {
          "name": "Air France"
         },
         "arrival": {
          "quality": [
           "Basic"
          ],
          "scheduledTimeLocal": "2021-11-25 08:55+01:00",
          "scheduledTimeUtc": "2021-11-25 07:55Z",
          "terminal": "1"
         },
         "codeshareStatus": "Unknown",
         "departure": {
          "airport": {
           "iata": "ORY",
           "icao": "LFPO",
           "name": "Paris"
          },
          "quality": [
           "Basic"
          ],
          "scheduledTimeLocal": "2021-11-25 07:00+01:00",
          "scheduledTimeUtc": "2021-11-25 06:00Z",
          "terminal": "3"
         },
         "isCargo": false,
         "number": "AF 7354",
         "status": "Unknown"
        },
        {
         "aircraft": {
          "model": "Boeing 737-800"
         },
         "airline": {
          "name": "Ryanair"
         },
         "arrival": {
          "quality": [
           "Basic"
          ],
          "scheduledTimeLocal": "2021-11-25 09:30+01:00",
          "scheduledTimeUtc": "2021-11-25 08:30Z"
         },
         "codeshareStatus": "Unknown",
         "departure": {
          "actualTimeLocal": "2021-11-25 08:00+01:00",
          "actualTimeUtc": "2021-11-25 07:00Z",
          "airport": {
           "iata": "BUD",
           "icao": "LHBP",
           "name": "Budapest"
          },
          "quality": [
           "Basic",
           "Live"
          ],
          "scheduledTimeLocal": "2021-11-25 08:00+01:00",
          "scheduledTimeUtc": "2021-11-25 07:00Z",
          "terminal": "2B"
         },
         "isCargo": false,
         "number": "FR 197",
         "status": "Unknown"
        },
        {
         "aircraft": {
          "model": "Boeing 737-800"
         },
         "airline": {
          "name": "Ryanair"
         },
         "arrival": {
          "quality": [
           "Basic"
          ],
          "scheduledTimeLocal": "2021-11-25 09:25+01:00",
          "scheduledTimeUtc": "2021-11-25 08:25Z"
         },
         "codeshareStatus": "Unknown",
         "departure": {
          "actualTimeLocal": "2021-11-25 06:20+01:00",
          "actualTimeUtc": "2021-11-25 05:20Z",
          "airport": {
           "iata": "MAD",
           "icao": "LEMD",
           "name": "Madrid"
          },
          "quality": [
           "Basic",
           "Live"
          ],
          "scheduledTimeLocal": "2021-11-25 06:20+01:00",
          "scheduledTimeUtc": "2021-11-25 05:20Z",
          "terminal": "1"
         },
         "isCargo": false,
         "number": "FR 2526",
         "status": "Unknown"
        },
        {
         "aircraft": {
          "model": "Boeing 737-800"
         },
         "airline": {
          "name": "Norwegian Air Shuttle"
         },
         "arrival": {
          "quality": [
           "Basic"
          ],
          "scheduledTimeLocal": "2021-11-25 09:10+01:00",
          "scheduledTimeUtc": "2021-11-25 08:10Z",
          "terminal": "1"
         },
         "codeshareStatus": "Unknown",
         "departure": {
          "airport": {
           "iata": "OSL",
           "icao": "ENGM",
           "name": "Oslo"
          },
          "checkInDesk": "23",
          "quality": [
           "Basic"
          ],
          "scheduledTimeLocal": "2021-11-25 07:35+01:00",
          "scheduledTimeUtc": "2021-11-25 06:35Z"
         },
         "isCargo": false,
         "number": "DY 1102",
         "status": "Unknown"
        },
        {
         "aircraft": {
          "model": "Boeing 737-700",
          "reg": "PH-BCL"
         },
         "airline": {
          "name": "KLM"
         },
         "arrival": {
          "quality": [
           "Basic"
          ],
          "scheduledTimeLocal": "2021-11-25 09:25+01:00",
          "scheduledTimeUtc": "2021-11-25 08:25Z",
          "terminal": "1"
         },
         "codeshareStatus": "IsOperator",
         "departure": {
          "airport": {
           "iata": "AMS",
           "icao": "EHAM",
           "name": "Amsterdam"
          },
          "checkInDesk": "5-8",
          "quality": [
           "Basic"
          ],
          "scheduledTimeLocal": "2021-11-25 08:05+01:00",
          "scheduledTimeUtc": "2021-11-25 07:05Z",
          "terminal": "1"
         },
         "isCargo": false,
         "number": "KL 1821",
         "status": "Unknown"
        },
        {
         "aircraft": {
          "model": "Airbus A320"
         },
         "airline": {
          "name": "Eurowings"
         },
         "arrival": {
          "quality": [
           "Basic"
          ],
          "scheduledTimeLocal": "2021-11-25 09:40+01:00",
          "scheduledTimeUtc": "2021-11-25 08:40Z",
          "terminal": "1"
         },
         "codeshareStatus": "Unknown",
         "departure": {
          "airport": {
           "iata": "CGN",
           "icao": "EDDK",
           "name": "Cologne"
          },
          "quality": [
           "Basic"
          ],
          "scheduledTimeLocal": "2021-11-25 08:30+01:00",
          "scheduledTimeUtc": "2021-11-25 07:30Z",
          "terminal": "1"
         },
         "isCargo": false,
         "number": "EW 8059",
         "status": "Unknown"
        },
        {
         "aircraft": {
          "model": "Airbus A320"
         },
         "airline": {
          "name": "Lufthansa"
         },
         "arrival": {
          "quality": [
           "Basic"
          ],
          "scheduledTimeLocal": "2021-11-25 09:40+01:00",
          "scheduledTimeUtc": "2021-11-25 08:40Z",
          "terminal": "1"
         },
         "codeshareStatus": "IsCodeshared",
         "departure": {
          "airport": {
           "iata": "MUC",
           "icao": "EDDM",
           "name": "Munich"
          },
          "quality": [
           "Basic"
          ],
          "scheduledTimeLocal": "2021-11-25 08:30+01:00",
          "scheduledTimeUtc": "2021-11-25 07:30Z",
          "terminal": "2"
         },
         "isCargo": false,
         "number": "LH 1930",
         "status": "Unknown"
        },
        {
         "aircraft": {
          "model": "Airbus A330-300"
         },
         "airline": {
          "name": "Turkish"
         },
         "arrival": {
          "quality": [
           "Basic"
          ],
          "scheduledTimeLocal": "2021-11-25 09:35+01:00",
          "scheduledTimeUtc": "2021-11-25 08:35Z",
          "terminal": "1"
         },
         "codeshareStatus": "Unknown",
         "departure": {
          "airport": {
           "iata": "IST",
           "icao": "LTFM",
           "name": "Istanbul"
          },
          "quality": [
           "Basic"
          ],
          "scheduledTimeLocal": "2021-11-25 08:55+03:00",
          "scheduledTimeUtc": "2021-11-25 05:55Z"
         },
         "isCargo": false,
         "number": "TK 1721",
         "status": "Unknown"
        },
        {
         "aircraft": {
          "model": "Airbus A320",
          "reg": "D-AIUD"
         },
         "airline": {
          "name": "Lufthansa"
         },
         "arrival": {
          "quality": [
           "Basic"
          ],
          "scheduledTimeLocal": "2021-11-25 09:55+01:00",
          "scheduledTimeUtc": "2021-11-25 08:55Z",
          "terminal": "1"
         },
         "codeshareStatus": "IsCodeshared",
         "departure": {
          "actualTimeLocal": "2021-11-25 08:45+01:00",
          "actualTimeUtc": "2021-11-25 07:45Z",
          "airport": {
           "iata": "FRA",
           "icao": "EDDF",
           "name": "Frankfurt-am-Main"
          },
          "checkInDesk": "263-453",
          "gate": "A21",
          "quality": [
           "Basic",
           "Live"
          ],
          "scheduledTimeLocal": "2021-11-25 08:45+01:00",
          "scheduledTimeUtc": "2021-11-25 07:45Z",
          "terminal": "1"
         },
         "isCargo": false,
         "number": "LH 176",
         "status": "Unknown"
        },
        {
         "aircraft": {
          "model": "Boeing 787-8"
         },
         "airline": {
          "name": "Scoot"
         },
         "arrival": {
          "quality": [
           "Basic"
          ],
          "scheduledTimeLocal": "2021-11-25 10:20+01:00",
          "scheduledTimeUtc": "2021-11-25 09:20Z",
          "terminal": "1"
         },
         "codeshareStatus": "Unknown",
         "departure": {
          "actualTimeLocal": "2021-11-25 08:20+02:00",
          "actualTimeUtc": "2021-11-25 06:20Z",
          "airport": {
           "iata": "ATH",
           "icao": "LGAV",
           "name": "Athens"
          },
          "checkInDesk": "153--157",
          "quality": [
           "Basic",
           "Live"
          ],
          "scheduledTimeLocal": "2021-11-25 08:20+02:00",
          "scheduledTimeUtc": "2021-11-25 06:20Z",
          "terminal": "I"
         },
         "isCargo": false,
         "number": "TR 722",
         "status": "Unknown"
        },
        {
         "aircraft": {
          "model": "Airbus A320"
         },
         "airline": {
          "name": "Austrian"
         },
         "arrival": {
          "quality": [
           "Basic"
          ],
          "scheduledTimeLocal": "2021-11-25 10:25+01:00",
          "scheduledTimeUtc": "2021-11-25 09:25Z",
          "terminal": "1"
         },
         "codeshareStatus": "Unknown",
         "departure": {
          "airport": {
           "iata": "VIE",
           "icao": "LOWW",
           "name": "Vienna"
          },
          "quality": [
           "Basic"
          ],
          "scheduledTimeLocal": "2021-11-25 09:10+01:00",
          "scheduledTimeUtc": "2021-11-25 08:10Z",
          "terminal": "3"
         },
         "isCargo": false,
         "number": "OS 225",
         "status": "Unknown"
        },
        {
         "aircraft": {
          "model": "Airbus A319"
         },
         "airline": {
          "name": "easyJet"
         },
         "arrival": {
          "quality": [
           "Basic"
          ],
          "scheduledTimeLocal": "2021-11-25 09:45+01:00",
          "scheduledTimeUtc": "2021-11-25 08:45Z",
          "terminal": "1"
         },
         "codeshareStatus": "Unknown",
         "departure": {
          "airport": {
           "iata": "AAR",
           "icao": "EKAH",
           "name": "Aarhus"
          },
          "quality": [
           "Basic"
          ],
          "scheduledTimeLocal": "2021-11-25 08:40+01:00",
          "scheduledTimeUtc": "2021-11-25 07:40Z"
         },
         "isCargo": false,
         "number": "U2 5698",
         "status": "Unknown"
        },
        {
         "aircraft": {
          "model": "Airbus A320"
         },
         "airline": {
          "name": "easyJet"
         },
         "arrival": {
          "quality": [
           "Basic"
          ],
          "scheduledTimeLocal": "2021-11-25 09:55+01:00",
          "scheduledTimeUtc": "2021-11-25 08:55Z",
          "terminal": "1"
         },
         "codeshareStatus": "Unknown",
         "departure": {
          "airport": {
           "iata": "CPH",
           "icao": "EKCH",
           "name": "Copenhagen"
          },
          "quality": [
           "Basic"
          ],
          "scheduledTimeLocal": "2021-11-25 08:50+01:00",
          "scheduledTimeUtc": "2021-11-25 07:50Z",
          "terminal": "2"
         },
         "isCargo": false,
         "number": "U2 5684",
         "status": "Unknown"
        },
        {
         "aircraft": {
          "model": "Boeing 737-800"
         },
         "airline": {
          "name": "Ryanair"
         },
         "arrival": {
          "quality": [
           "Basic"
          ],
          "scheduledTimeLocal": "2021-11-25 10:40+01:00",
          "scheduledTimeUtc": "2021-11-25 09:40Z"
         },
         "codeshareStatus": "Unknown",
         "departure": {
          "airport": {
           "iata": "STN",
           "icao": "EGSS",
           "name": "London"
          },
          "quality": [
           "Basic"
          ],
          "scheduledTimeLocal": "2021-11-25 07:50+00:00",
          "scheduledTimeUtc": "2021-11-25 07:50Z"
         },
         "isCargo": false,
         "number": "FR 145",
         "status": "Unknown"
        },
        {
         "aircraft": {
          "model": "Boeing 737-800"
         },
         "airline": {
          "name": "Ryanair"
         },
         "arrival": {
          "quality": [
           "Basic"
          ],
          "scheduledTimeLocal": "2021-11-25 09:45+01:00",
          "scheduledTimeUtc": "2021-11-25 08:45Z"
         },
         "codeshareStatus": "Unknown",
         "departure": {
          "actualTimeLocal": "2021-11-25 09:05+02:00",
          "actualTimeUtc": "2021-11-25 07:05Z",
          "airport": {
           "iata": "RIX",
           "icao": "EVRA",
           "name": "Riga"
          },
          "quality": [
           "Basic",
           "Live"
          ],
          "scheduledTimeLocal": "2021-11-25 09:05+02:00",
          "scheduledTimeUtc": "2021-11-25 07:05Z"
         },
         "isCargo": false,
         "number": "FR 2600",
         "status": "Unknown"
        },
        {
         "aircraft": {
          "model": "Airbus A320"
         },
         "airline": {
          "name": "Aegean"
         },
         "arrival": {
          "quality": [
           "Basic"
          ],
          "scheduledTimeLocal": "2021-11-25 10:50+01:00",
          "scheduledTimeUtc": "2021-11-25 09:50Z",
          "terminal": "1"
         },
         "codeshareStatus": "Unknown",
         "departure": {
          "actualTimeLocal": "2021-11-25 08:55+02:00",
          "actualTimeUtc": "2021-11-25 06:55Z",
          "airport": {
           "iata": "ATH",
           "icao": "LGAV",
           "name": "Athens"
          },
          "checkInDesk": "70---91",
          "quality": [
           "Basic",
           "Live"
          ],
          "scheduledTimeLocal": "2021-11-25 08:55+02:00",
          "scheduledTimeUtc": "2021-11-25 06:55Z",
          "terminal": "D"
         },
         "isCargo": false,
         "number": "A3 820",
         "status": "Unknown"
        },
        {
         "aircraft": {
          "model": "Airbus A320",
          "reg": "OY-KAS"
         },
         "airline": {
          "name": "SAS"
         },
         "arrival": {
          "quality": [
           "Basic"
          ],
          "scheduledTimeLocal": "2021-11-25 10:30+01:00",
          "scheduledTimeUtc": "2021-11-25 09:30Z",
          "terminal": "1"
         },
         "codeshareStatus": "Unknown",
         "departure": {
          "actualTimeLocal": "2021-11-25 08:55+01:00",
          "actualTimeUtc": "2021-11-25 07:55Z",
          "airport": {
           "iata": "ARN",
           "icao": "ESSA",
           "name": "Stockholm"
          },
          "checkInDesk": "75-90",
          "quality": [
           "Basic",
           "Live"
          ],
          "scheduledTimeLocal": "2021-11-25 08:55+01:00",
          "scheduledTimeUtc": "2021-11-25 07:55Z",
          "terminal": "T5"
         },
         "isCargo": false,
         "number": "SK 2677",
         "status": "Unknown"
        },
        {
         "aircraft": {
          "model": "Airbus A320"
         },
         "airline": {
          "name": "Iberia"
         },
         "arrival": {
          "quality": [
           "Basic"
          ],
          "scheduledTimeLocal": "2021-11-25 11:05+01:00",
          "scheduledTimeUtc": "2021-11-25 10:05Z",
          "terminal": "1"
         },
         "codeshareStatus": "Unknown",
         "departure": {
          "actualTimeLocal": "2021-11-25 08:05+01:00",
          "actualTimeUtc": "2021-11-25 07:05Z",
          "airport": {
           "iata": "MAD",
           "icao": "LEMD",
           "name": "Madrid"
          },
          "quality": [
           "Basic",
           "Live"
          ],
          "scheduledTimeLocal": "2021-11-25 08:05+01:00",
          "scheduledTimeUtc": "2021-11-25 07:05Z",
          "terminal": "4"
         },
         "isCargo": false,
         "number": "IB 3676",
         "status": "Unknown"
        },
        {
         "aircraft": {
          "model": "Embraer 190"
         },
         "airline": {
          "name": "British Airways"
         },
         "arrival": {
          "quality": [
           "Basic"
          ],
          "scheduledTimeLocal": "2021-11-25 10:25+01:00",
          "scheduledTimeUtc": "2021-11-25 09:25Z",
          "terminal": "1"
         },
         "codeshareStatus": "IsCodeshared",
         "departure": {
          "airport": {
           "iata": "LCY",
           "icao": "EGLC",
           "name": "London"
          },
          "quality": [
           "Basic"
          ],
          "scheduledTimeLocal": "2021-11-25 07:45+00:00",
          "scheduledTimeUtc": "2021-11-25 07:45Z"
         },
         "isCargo": false,
         "number": "BA 8491",
         "status": "Unknown"
        },
        {
         "aircraft": {
          "model": "Boeing 737-900",
          "reg": "PH-BCB"
         },
         "airline": {
          "name": "KLM"
         },
         "arrival": {
          "quality": [
           "Basic"
          ],
          "scheduledTimeLocal": "2021-11-25 11:05+01:00",
          "scheduledTimeUtc": "2021-11-25 10:05Z",
          "terminal": "1"
         },
         "codeshareStatus": "IsOperator",
         "departure": {
          "airport": {
           "iata": "AMS",
           "icao": "EHAM",
           "name": "Amsterdam"
          },
          "checkInDesk": "5-8",
          "quality": [
           "Basic"
          ],
          "scheduledTimeLocal": "2021-11-25 09:45+01:00",
          "scheduledTimeUtc": "2021-11-25 08:45Z",
          "terminal": "1"
         },
         "isCargo": false,
         "number": "KL 1823",
         "status": "Unknown"
        },
        {
         "aircraft": {
          "model": "Airbus A320"
         },
         "airline": {
          "name": "easyJet"
         },
         "arrival": {
          "quality": [
           "Basic"
          ],
          "scheduledTimeLocal": "2021-11-25 11:25+01:00",
          "scheduledTimeUtc": "2021-11-25 10:25Z",
          "terminal": "1"
         },
         "codeshareStatus": "Unknown",
         "departure": {
          "airport": {
           "iata": "MXP",
           "icao": "LIMC",
           "name": "Milan"
          },
          "quality": [
           "Basic"
          ],
          "scheduledTimeLocal": "2021-11-25 09:35+01:00",
          "scheduledTimeUtc": "2021-11-25 08:35Z",
          "terminal": "1"
         },
         "isCargo": false,
         "number": "U2 4672",
         "status": "Unknown"
        },
        {
         "aircraft": {
          "model": "Boeing 737-800"
         },
         "airline": {
          "name": "Ryanair"
         },
         "arrival": {
          "quality": [
           "Basic"
          ],
          "scheduledTimeLocal": "2021-11-25 10:40+01:00",
          "scheduledTimeUtc": "2021-11-25 09:40Z"
         },
         "codeshareStatus": "Unknown",
         "departure": {
          "airport": {
           "iata": "BGY",
           "icao": "LIME",
           "name": "Bergamo"
          },
          "quality": [
           "Basic"
          ],
          "scheduledTimeLocal": "2021-11-25 08:55+01:00",
          "scheduledTimeUtc": "2021-11-25 07:55Z"
         },
         "isCargo": false,
         "number": "FR 4731",
         "status": "Unknown"
        },
        {
         "aircraft": {
          "model": "Boeing 737-800"
         },
         "airline": {
          "name": "Ryanair"
         },
         "arrival": {
          "quality": [
           "Basic"
          ],
          "scheduledTimeLocal": "2021-11-25 11:05+01:00",
          "scheduledTimeUtc": "2021-11-25 10:05Z"
         },
         "codeshareStatus": "Unknown",
         "departure": {
          "airport": {
           "iata": "CIA",
           "icao": "LIRA",
           "name": "Roma"
          },
          "quality": [
           "Basic"
          ],
          "scheduledTimeLocal": "2021-11-25 08:55+01:00",
          "scheduledTimeUtc": "2021-11-25 07:55Z"
         },
         "isCargo": false,
         "number": "FR 135",
         "status": "Unknown"
        },
        {
         "aircraft": {
          "model": "Bombardier Dash 8 Q400 / DHC-8-400"
         },
         "airline": {
          "name": "LOT - Polish"
         },
         "arrival": {
          "quality": [
           "Basic"
          ],
          "scheduledTimeLocal": "2021-11-25 11:35+01:00",
          "scheduledTimeUtc": "2021-11-25 10:35Z",
          "terminal": "1"
         },
         "codeshareStatus": "Unknown",
         "departure": {
          "actualTimeLocal": "2021-11-25 10:10+01:00",
          "actualTimeUtc": "2021-11-25 09:10Z",
          "airport": {
           "iata": "WAW",
           "icao": "EPWA",
           "name": "Warsaw"
          },
          "checkInDesk": "241-280",
          "quality": [
           "Basic",
           "Live"
          ],
          "scheduledTimeLocal": "2021-11-25 10:10+01:00",
          "scheduledTimeUtc": "2021-11-25 09:10Z",
          "terminal": "E-D"
         },
         "isCargo": false,
         "number": "LO 385",
         "status": "Unknown"
        },
        {
         "aircraft": {
          "model": "Airbus A320"
         },
         "airline": {
          "name": "easyJet"
         },
         "arrival": {
          "quality": [
           "Basic"
          ],
          "scheduledTimeLocal": "2021-11-25 11:35+01:00",
          "scheduledTimeUtc": "2021-11-25 10:35Z",
          "terminal": "1"
         },
         "codeshareStatus": "Unknown",
         "departure": {
          "airport": {
           "iata": "CDG",
           "icao": "LFPG",
           "name": "Paris"
          },
          "quality": [
           "Basic"
          ],
          "scheduledTimeLocal": "2021-11-25 09:45+01:00",
          "scheduledTimeUtc": "2021-11-25 08:45Z",
          "terminal": "2D"
         },
         "isCargo": false,
         "number": "U2 5652",
         "status": "Unknown"
        },
        {
         "aircraft": {
          "model": "Airbus A319"
         },
         "airline": {
          "name": "Brussels"
         },
         "arrival": {
          "quality": [
           "Basic"
          ],
          "scheduledTimeLocal": "2021-11-25 11:15+01:00",
          "scheduledTimeUtc": "2021-11-25 10:15Z",
          "terminal": "1"
         },
         "codeshareStatus": "Unknown",
         "departure": {
          "actualTimeLocal": "2021-11-25 09:45+01:00",
          "actualTimeUtc": "2021-11-25 08:45Z",
          "airport": {
           "iata": "BRU",
           "icao": "EBBR",
           "name": "Brussels"
          },
          "checkInDesk": "02",
          "quality": [
           "Basic",
           "Live"
          ],
          "scheduledTimeLocal": "2021-11-25 09:45+01:00",
          "scheduledTimeUtc": "2021-11-25 08:45Z"
         },
         "isCargo": false,
         "number": "SN 2581",
         "status": "Unknown"
        },
        {
         "aircraft": {
          "model": "Airbus A320 NEO"
         },
         "airline": {
          "name": "Lufthansa"
         },
         "arrival": {
          "quality": [
           "Basic"
          ],
          "scheduledTimeLocal": "2021-11-25 08:10+01:00",
          "scheduledTimeUtc": "2021-11-25 07:10Z",
          "terminal": "1"
         },
         "codeshareStatus": "IsCodeshared",
         "departure": {
          "airport": {
           "iata": "MUC",
           "icao": "EDDM",
           "name": "Munich"
          },
          "quality": [
           "Basic"
          ],
          "scheduledTimeLocal": "2021-11-25 07:00+01:00",
          "scheduledTimeUtc": "2021-11-25 06:00Z",
          "terminal": "2"
         },
         "isCargo": false,
         "number": "LH 1928",
         "status": "Unknown"
        },
        {
         "aircraft": {
          "model": "Airbus A319"
         },
         "airline": {
          "name": "Air France"
         },
         "arrival": {
          "quality": [
           "Basic"
          ],
          "scheduledTimeLocal": "2021-11-25 11:40+01:00",
          "scheduledTimeUtc": "2021-11-25 10:40Z",
          "terminal": "1"
         },
         "codeshareStatus": "Unknown",
         "departure": {
          "airport": {
           "iata": "CDG",
           "icao": "LFPG",
           "name": "Paris"
          },
          "quality": [
           "Basic"
          ],
          "scheduledTimeLocal": "2021-11-25 09:55+01:00",
          "scheduledTimeUtc": "2021-11-25 08:55Z",
          "terminal": "2F"
         },
         "isCargo": false,
         "number": "AF 1734",
         "status": "Unknown"
        },
        {
         "aircraft": {
          "model": "Boeing 737-800"
         },
         "airline": {
          "name": "Norwegian Air International"
         },
         "arrival": {
          "quality": [
           "Basic"
          ],
          "scheduledTimeLocal": "2021-11-25 11:45+01:00",
          "scheduledTimeUtc": "2021-11-25 10:45Z",
          "terminal": "1"
         },
         "codeshareStatus": "Unknown",
         "departure": {
          "airport": {
           "iata": "CPH",
           "icao": "EKCH",
           "name": "Copenhagen"
          },
          "quality": [
           "Basic"
          ],
          "scheduledTimeLocal": "2021-11-25 10:45+01:00",
          "scheduledTimeUtc": "2021-11-25 09:45Z",
          "terminal": "2"
         },
         "isCargo": false,
         "number": "D8 3302",
         "status": "Unknown"
        },
        {
         "aircraft": {
          "model": "Bombardier Dash 8 Q400 / DHC-8-400"
         },
         "airline": {
          "name": "Luxair"
         },
         "arrival": {
          "quality": [
           "Basic"
          ],
          "scheduledTimeLocal": "2021-11-25 08:15+01:00",
          "scheduledTimeUtc": "2021-11-25 07:15Z",
          "terminal": "1"
         },
         "codeshareStatus": "Unknown",
         "departure": {
          "actualTimeLocal": "2021-11-25 06:45+01:00",
          "actualTimeUtc": "2021-11-25 05:45Z",
          "airport": {
           "iata": "LUX",
           "icao": "ELLX",
           "name": "Luxembourg"
          },
          "quality": [
           "Basic",
           "Live"
          ],
          "scheduledTimeLocal": "2021-11-25 06:45+01:00",
          "scheduledTimeUtc": "2021-11-25 05:45Z"
         },
         "isCargo": false,
         "number": "LG 9471",
         "status": "Unknown"
        },
        {
         "aircraft": {
          "model": "Airbus A320"
         },
         "airline": {
          "name": "British Airways"
         },
         "arrival": {
          "quality": [
           "Basic"
          ],
          "scheduledTimeLocal": "2021-11-25 11:40+01:00",
          "scheduledTimeUtc": "2021-11-25 10:40Z",
          "terminal": "1"
         },
         "codeshareStatus": "IsCodeshared",
         "departure": {
          "actualTimeLocal": "2021-11-25 08:45+00:00",
          "actualTimeUtc": "2021-11-25 08:45Z",
          "airport": {
           "iata": "LHR",
           "icao": "EGLL",
           "name": "London"
          },
          "checkInDesk": "G",
          "quality": [
           "Basic",
           "Live"
          ],
          "scheduledTimeLocal": "2021-11-25 08:45+00:00",
          "scheduledTimeUtc": "2021-11-25 08:45Z",
          "terminal": "5"
         },
         "isCargo": false,
         "number": "BA 992",
         "status": "Unknown"
        },
        {
         "aircraft": {
          "model": "Boeing 737-800"
         },
         "airline": {
          "name": "Jet2"
         },
         "arrival": {
          "quality": [
           "Basic"
          ],
          "scheduledTimeLocal": "2021-11-25 11:50+01:00",
          "scheduledTimeUtc": "2021-11-25 10:50Z",
          "terminal": "0"
         },
         "codeshareStatus": "Unknown",
         "departure": {
          "airport": {
           "iata": "NCL",
           "icao": "EGNT",
           "name": "Newcastle upon Tyne"
          },
          "quality": [
           "Basic"
          ],
          "scheduledTimeLocal": "2021-11-25 08:50+00:00",
          "scheduledTimeUtc": "2021-11-25 08:50Z"
         },
         "isCargo": false,
         "number": "LS 4067",
         "status": "Unknown"
        },
        {
         "aircraft": {
          "model": "Boeing 737-800"
         },
         "airline": {
          "name": "Ryanair"
         },
         "arrival": {
          "quality": [
           "Basic"
          ],
          "scheduledTimeLocal": "2021-11-25 11:45+01:00",
          "scheduledTimeUtc": "2021-11-25 10:45Z"
         },
         "codeshareStatus": "Unknown",
         "departure": {
          "airport": {
           "iata": "SOF",
           "icao": "LBSF",
           "name": "Sofia"
          },
          "quality": [
           "Basic"
          ],
          "scheduledTimeLocal": "2021-11-25 10:25+02:00",
          "scheduledTimeUtc": "2021-11-25 08:25Z"
         },
         "isCargo": false,
         "number": "FR 1595",
         "status": "Unknown"
        },
        {
         "aircraft": {
          "model": "Airbus A319",
          "reg": "D-ABHC"
         },
         "airline": {
          "name": "Eurowings"
         },
         "arrival": {
          "quality": [
           "Basic"
          ],
          "scheduledTimeLocal": "2021-11-25 12:00+01:00",
          "scheduledTimeUtc": "2021-11-25 11:00Z",
          "terminal": "1"
         },
         "codeshareStatus": "Unknown",
         "departure": {
          "actualTimeLocal": "2021-11-25 10:45+01:00",
          "actualTimeUtc": "2021-11-25 09:45Z",
          "airport": {
           "iata": "DUS",
           "icao": "EDDL",
           "name": "Duesseldorf"
          },
          "checkInDesk": "153,170",
          "gate": "A39",
          "quality": [
           "Basic",
           "Live"
          ],
          "scheduledTimeLocal": "2021-11-25 10:45+01:00",
          "scheduledTimeUtc": "2021-11-25 09:45Z",
          "terminal": "B"
         },
         "isCargo": false,
         "number": "EW 9046",
         "status": "Unknown"
        },
        {
         "aircraft": {
          "model": "ATR 72"
         },
         "airline": {
          "name": "Danish Air"
         },
         "arrival": {
          "quality": [
           "Basic"
          ],
          "scheduledTimeLocal": "2021-11-25 08:10+01:00",
          "scheduledTimeUtc": "2021-11-25 07:10Z",
          "terminal": "0"
         },
         "codeshareStatus": "Unknown",
         "departure": {
          "airport": {
           "iata": "SCN",
           "icao": "EDDR",
           "name": "Saarbrücken"
          },
          "quality": [
           "Basic"
          ],
          "scheduledTimeLocal": "2021-11-25 06:40+01:00",
          "scheduledTimeUtc": "2021-11-25 05:40Z"
         },
         "isCargo": false,
         "number": "DX 121",
         "status": "Unknown"
        },
        {
         "aircraft": {
          "model": "Boeing 737-800"
         },
         "airline": {
          "name": "UIA"
         },
         "arrival": {
          "quality": [
           "Basic"
          ],
          "scheduledTimeLocal": "2021-11-25 12:05+01:00",
          "scheduledTimeUtc": "2021-11-25 11:05Z",
          "terminal": "1"
         },
         "codeshareStatus": "Unknown",
         "departure": {
          "actualTimeLocal": "2021-11-25 10:55+02:00",
          "actualTimeUtc": "2021-11-25 08:55Z",
          "airport": {
           "iata": "KBP",
           "icao": "UKBB",
           "name": "Kiev"
          },
          "quality": [
           "Basic",
           "Live"
          ],
          "scheduledTimeLocal": "2021-11-25 10:55+02:00",
          "scheduledTimeUtc": "2021-11-25 08:55Z",
          "terminal": "D"
         },
         "isCargo": false,
         "number": "PS 423",
         "status": "Unknown"
        },
        {
         "aircraft": {
          "model": "Airbus A320",
          "reg": "D-AIUZ"
         },
         "airline": {
          "name": "Lufthansa"
         },
         "arrival": {
          "quality": [
           "Basic"
          ],
          "scheduledTimeLocal": "2021-11-25 11:55+01:00",
          "scheduledTimeUtc": "2021-11-25 10:55Z",
          "terminal": "1"
         },
         "codeshareStatus": "IsCodeshared",
         "departure": {
          "actualTimeLocal": "2021-11-25 10:45+01:00",
          "actualTimeUtc": "2021-11-25 09:45Z",
          "airport": {
           "iata": "FRA",
           "icao": "EDDF",
           "name": "Frankfurt-am-Main"
          },
          "checkInDesk": "263-453",
          "gate": "A11",
          "quality": [
           "Basic",
           "Live"
          ],
          "scheduledTimeLocal": "2021-11-25 10:45+01:00",
          "scheduledTimeUtc": "2021-11-25 09:45Z",
          "terminal": "1"
         },
         "isCargo": false,
         "number": "LH 180",
         "status": "Unknown"
        },
        {
         "aircraft": {
          "model": "Airbus A320"
         },
         "airline": {
          "name": "easyJet"
         },
         "arrival": {
          "quality": [
           "Basic"
          ],
          "scheduledTimeLocal": "2021-11-25 11:55+01:00",
          "scheduledTimeUtc": "2021-11-25 10:55Z",
          "terminal": "1"
         },
         "codeshareStatus": "Unknown",
         "departure": {
          "airport": {
           "iata": "LGW",
           "icao": "EGKK",
           "name": "London"
          },
          "quality": [
           "Basic"
          ],
          "scheduledTimeLocal": "2021-11-25 08:55+00:00",
          "scheduledTimeUtc": "2021-11-25 08:55Z",
          "terminal": "N"
         },
         "isCargo": false,
         "number": "U2 8209",
         "status": "Unknown"
        },
        {
         "aircraft": {
          "model": "Boeing 737-800"
         },
         "airline": {
          "name": "Jet2"
         },
         "arrival": {
          "quality": [
           "Basic"
          ],
          "scheduledTimeLocal": "2021-11-25 12:05+01:00",
          "scheduledTimeUtc": "2021-11-25 11:05Z",
          "terminal": "0"
         },
         "codeshareStatus": "Unknown",
         "departure": {
          "airport": {
           "iata": "LBA",
           "icao": "EGNM",
           "name": "Leeds"
          },
          "quality": [
           "Basic"
          ],
          "scheduledTimeLocal": "2021-11-25 09:00+00:00",
          "scheduledTimeUtc": "2021-11-25 09:00Z"
         },
         "isCargo": false,
         "number": "LS 471",
         "status": "Unknown"
        },
        {
         "aircraft": {
          "model": "Airbus A320"
         },
         "airline": {
          "name": "Wizz Air"
         },
         "arrival": {
          "quality": [
           "Basic"
          ],
          "scheduledTimeLocal": "2021-11-25 12:15+01:00",
          "scheduledTimeUtc": "2021-11-25 11:15Z",
          "terminal": "0"
         },
         "codeshareStatus": "Unknown",
         "departure": {
          "actualTimeLocal": "2021-11-25 10:45+01:00",
          "actualTimeUtc": "2021-11-25 09:45Z",
          "airport": {
           "iata": "BUD",
           "icao": "LHBP",
           "name": "Budapest"
          },
          "quality": [
           "Basic",
           "Live"
          ],
          "scheduledTimeLocal": "2021-11-25 10:45+01:00",
          "scheduledTimeUtc": "2021-11-25 09:45Z",
          "terminal": "2B"
         },
         "isCargo": false,
         "number": "W6 2315",
         "status": "Unknown"
        },
        {
         "aircraft": {
          "model": "Airbus A320 NEO"
         },
         "airline": {
          "name": "Lufthansa"
         },
         "arrival": {
          "quality": [
           "Basic"
          ],
          "scheduledTimeLocal": "2021-11-25 12:15+01:00",
          "scheduledTimeUtc": "2021-11-25 11:15Z",
          "terminal": "1"
         },
         "codeshareStatus": "IsCodeshared",
         "departure": {
          "airport": {
           "iata": "MUC",
           "icao": "EDDM",
           "name": "Munich"
          },
          "quality": [
           "Basic"
          ],
          "scheduledTimeLocal": "2021-11-25 11:05+01:00",
          "scheduledTimeUtc": "2021-11-25 10:05Z",
          "terminal": "2"
         },
         "isCargo": false,
         "number": "LH 1936",
         "status": "Unknown"
        },
        {
         "aircraft": {
          "model": "Boeing 737-800"
         },
         "airline": {
          "name": "Ryanair"
         },
         "arrival": {
          "quality": [
           "Basic"
          ],
          "scheduledTimeLocal": "2021-11-25 12:25+01:00",
          "scheduledTimeUtc": "2021-11-25 11:25Z"
         },
         "codeshareStatus": "Unknown",
         "departure": {
          "airport": {
           "iata": "TGD",
           "icao": "LYPG",
           "name": "Podgorica"
          },
          "quality": [
           "Basic"
          ],
          "scheduledTimeLocal": "2021-11-25 10:15+01:00",
          "scheduledTimeUtc": "2021-11-25 09:15Z"
         },
         "isCargo": false,
         "number": "FR 1579",
         "status": "Unknown"
        },
        {
         "aircraft": {
          "model": "Boeing 757-300"
         },
         "airline": {
          "name": "Icelandair"
         },
         "arrival": {
          "quality": [
           "Basic"
          ],
          "scheduledTimeLocal": "2021-11-25 12:10+01:00",
          "scheduledTimeUtc": "2021-11-25 11:10Z",
          "terminal": "1"
         },
         "codeshareStatus": "Unknown",
         "departure": {
          "airport": {
           "iata": "KEF",
           "icao": "BIKF",
           "name": "Reykjavik"
          },
          "quality": [
           "Basic"
          ],
          "scheduledTimeLocal": "2021-11-25 07:40+00:00",
          "scheduledTimeUtc": "2021-11-25 07:40Z"
         },
         "isCargo": false,
         "number": "FI 528",
         "status": "Unknown"
        },
        {
         "aircraft": {
          "model": "Boeing 737-800"
         },
         "airline": {
          "name": "Ryanair"
         },
         "arrival": {
          "quality": [
           "Basic"
          ],
          "scheduledTimeLocal": "2021-11-25 12:30+01:00",
          "scheduledTimeUtc": "2021-11-25 11:30Z"
         },
         "codeshareStatus": "Unknown",
         "departure": {
          "airport": {
           "iata": "PMI",
           "icao": "LEPA",
           "name": "Palma De Mallorca"
          },
          "quality": [
           "Basic"
          ],
          "scheduledTimeLocal": "2021-11-25 09:35+01:00",
          "scheduledTimeUtc": "2021-11-25 08:35Z"
         },
         "isCargo": false,
         "number": "FR 2146",
         "status": "Unknown"
        },
        {
         "aircraft": {
          "model": "Boeing 737-800"
         },
         "airline": {
          "name": "Ryanair"
         },
         "arrival": {
          "quality": [
           "Basic"
          ],
          "scheduledTimeLocal": "2021-11-25 12:45+01:00",
          "scheduledTimeUtc": "2021-11-25 11:45Z"
         },
         "codeshareStatus": "Unknown",
         "departure": {
          "airport": {
           "iata": "ATH",
           "icao": "LGAV",
           "name": "Athens"
          },
          "quality": [
           "Basic"
          ],
          "scheduledTimeLocal": "2021-11-25 10:45+02:00",
          "scheduledTimeUtc": "2021-11-25 08:45Z"
         },
         "isCargo": false,
         "number": "FR 171",
         "status": "Unknown"
        },
        {
         "aircraft": {
          "model": "Airbus A320 NEO"
         },
         "airline": {
          "name": "SAS"
         },
         "arrival": {
          "quality": [
           "Basic"
          ],
          "scheduledTimeLocal": "2021-11-25 12:55+01:00",
          "scheduledTimeUtc": "2021-11-25 11:55Z",
          "terminal": "1"
         },
         "codeshareStatus": "Unknown",
         "departure": {
          "airport": {
           "iata": "OSL",
           "icao": "ENGM",
           "name": "Oslo"
          },
          "checkInDesk": "23",
          "quality": [
           "Basic"
          ],
          "scheduledTimeLocal": "2021-11-25 11:15+01:00",
          "scheduledTimeUtc": "2021-11-25 10:15Z"
         },
         "isCargo": false,
         "number": "SK 4723",
         "status": "Unknown"
        },
        {
         "aircraft": {
          "model": "Boeing 737-800"
         },
         "airline": {
          "name": "Turkish"
         },
         "arrival": {
          "quality": [
           "Basic"
          ],
          "scheduledTimeLocal": "2021-11-25 12:30+01:00",
          "scheduledTimeUtc": "2021-11-25 11:30Z",
          "terminal": "1"
         },
         "codeshareStatus": "Unknown",
         "departure": {
          "airport": {
           "iata": "SAW",
           "icao": "LTFJ",
           "name": "Istanbul"
          },
          "quality": [
           "Basic"
          ],
          "scheduledTimeLocal": "2021-11-25 11:30+03:00",
          "scheduledTimeUtc": "2021-11-25 08:30Z"
         },
         "isCargo": false,
         "number": "TK 7728",
         "status": "Unknown"
        },
        {
         "aircraft": {
          "model": "Boeing 737-800"
         },
         "airline": {
          "name": "SunExpress"
         },
         "arrival": {
          "quality": [
           "Basic"
          ],
          "scheduledTimeLocal": "2021-11-25 12:35+01:00",
          "scheduledTimeUtc": "2021-11-25 11:35Z",
          "terminal": "1"
         },
         "codeshareStatus": "Unknown",
         "departure": {
          "actualTimeLocal": "2021-11-25 11:00+03:00",
          "actualTimeUtc": "2021-11-25 08:00Z",
          "airport": {
           "iata": "AYT",
           "icao": "LTAI",
           "name": "Antalya"
          },
          "quality": [
           "Basic",
           "Live"
          ],
          "scheduledTimeLocal": "2021-11-25 11:00+03:00",
          "scheduledTimeUtc": "2021-11-25 08:00Z",
          "terminal": "1"
         },
         "isCargo": false,
         "number": "XQ 160",
         "status": "Unknown"
        },
        {
         "aircraft": {
          "model": "Boeing 787-8"
         },
         "airline": {
          "name": "Qatar Airways"
         },
         "arrival": {
          "quality": [
           "Basic"
          ],
          "scheduledTimeLocal": "2021-11-25 12:40+01:00",
          "scheduledTimeUtc": "2021-11-25 11:40Z",
          "terminal": "1"
         },
         "codeshareStatus": "Unknown",
         "departure": {
          "airport": {
           "iata": "DOH",
           "icao": "OTHH",
           "name": "Doha"
          },
          "quality": [
           "Basic"
          ],
          "scheduledTimeLocal": "2021-11-25 08:20+03:00",
          "scheduledTimeUtc": "2021-11-25 05:20Z"
         },
         "isCargo": false,
         "number": "QR 81",
         "status": "Unknown"
        },
        {
         "aircraft": {
          "model": "Airbus A320"
         },
         "airline": {
          "name": "SWISS"
         },
         "arrival": {
          "quality": [
           "Basic"
          ],
          "scheduledTimeLocal": "2021-11-25 08:45+01:00",
          "scheduledTimeUtc": "2021-11-25 07:45Z",
          "terminal": "1"
         },
         "codeshareStatus": "Unknown",
         "departure": {
          "actualTimeLocal": "2021-11-25 07:15+01:00",
          "actualTimeUtc": "2021-11-25 06:15Z",
          "airport": {
           "iata": "ZRH",
           "icao": "LSZH",
           "name": "Zurich"
          },
          "checkInDesk": "1",
          "quality": [
           "Basic",
           "Live"
          ],
          "scheduledTimeLocal": "2021-11-25 07:15+01:00",
          "scheduledTimeUtc": "2021-11-25 06:15Z"
         },
         "isCargo": false,
         "number": "LX 974",
         "status": "Unknown"
        },
        {
         "aircraft": {
          "model": "Boeing 737-800"
         },
         "airline": {
          "name": "Aeroflot"
         },
         "arrival": {
          "quality": [
           "Basic"
          ],
          "scheduledTimeLocal": "2021-11-25 12:55+01:00",
          "scheduledTimeUtc": "2021-11-25 11:55Z",
          "terminal": "1"
         },
         "codeshareStatus": "IsOperator",
         "departure": {
          "actualTimeLocal": "2021-11-25 12:00+03:00",
          "actualTimeUtc": "2021-11-25 09:00Z",
          "airport": {
           "iata": "SVO",
           "icao": "UUEE",
           "name": "Moscow"
          },
          "quality": [
           "Basic",
           "Live"
          ],
          "scheduledTimeLocal": "2021-11-25 12:00+03:00",
          "scheduledTimeUtc": "2021-11-25 09:00Z",
          "terminal": "C"
         },
         "isCargo": false,
         "number": "SU 2662",
         "status": "Unknown"
        },
        {
         "aircraft": {
          "model": "Airbus A320",
          "reg": "D-AIUL"
         },
         "airline": {
          "name": "Lufthansa"
         },
         "arrival": {
          "quality": [
           "Basic"
          ],
          "scheduledTimeLocal": "2021-11-25 12:55+01:00",
          "scheduledTimeUtc": "2021-11-25 11:55Z",
          "terminal": "1"
         },
         "codeshareStatus": "IsCodeshared",
         "departure": {
          "actualTimeLocal": "2021-11-25 11:45+01:00",
          "actualTimeUtc": "2021-11-25 10:45Z",
          "airport": {
           "iata": "FRA",
           "icao": "EDDF",
           "name": "Frankfurt-am-Main"
          },
          "checkInDesk": "263-453",
          "gate": "A",
          "quality": [
           "Basic",
           "Live"
          ],
          "scheduledTimeLocal": "2021-11-25 11:45+01:00",
          "scheduledTimeUtc": "2021-11-25 10:45Z",
          "terminal": "1"
         },
         "isCargo": false,
         "number": "LH 182",
         "status": "Unknown"
        },
        {
         "aircraft": {
          "model": "Airbus A320"
         },
         "airline": {
          "name": "easyJet"
         },
         "arrival": {
          "quality": [
           "Basic"
          ],
          "scheduledTimeLocal": "2021-11-25 13:05+01:00",
          "scheduledTimeUtc": "2021-11-25 12:05Z",
          "terminal": "1"
         },
         "codeshareStatus": "Unknown",
         "departure": {
          "airport": {
           "iata": "CTA",
           "icao": "LICC",
           "name": "Catania"
          },
          "quality": [
           "Basic"
          ],
          "scheduledTimeLocal": "2021-11-25 10:10+01:00",
          "scheduledTimeUtc": "2021-11-25 09:10Z"
         },
         "isCargo": false,
         "number": "U2 5694",
         "status": "Unknown"
        },
        {
         "aircraft": {
          "model": "Airbus A320"
         },
         "airline": {
          "name": "Pegasus"
         },
         "arrival": {
          "quality": [
           "Basic"
          ],
          "scheduledTimeLocal": "2021-11-25 11:00+01:00",
          "scheduledTimeUtc": "2021-11-25 10:00Z",
          "terminal": "0"
         },
         "codeshareStatus": "Unknown",
         "departure": {
          "airport": {
           "iata": "SAW",
           "icao": "LTFJ",
           "name": "Istanbul"
          },
          "quality": [
           "Basic"
          ],
          "scheduledTimeLocal": "2021-11-25 09:55+03:00",
          "scheduledTimeUtc": "2021-11-25 06:55Z"
         },
         "isCargo": false,
         "number": "PC 977",
         "status": "Unknown"
        },
        {
         "aircraft": {
          "model": "Boeing 737-800"
         },
         "airline": {
          "name": "Ryanair"
         },
         "arrival": {
          "quality": [
           "Basic"
          ],
          "scheduledTimeLocal": "2021-11-25 08:45+01:00",
          "scheduledTimeUtc": "2021-11-25 07:45Z"
         },
         "codeshareStatus": "Unknown",
         "departure": {
          "airport": {
           "iata": "PSA",
           "icao": "LIRP",
           "name": "Pisa"
          },
          "quality": [
           "Basic"
          ],
          "scheduledTimeLocal": "2021-11-25 06:50+01:00",
          "scheduledTimeUtc": "2021-11-25 05:50Z"
         },
         "isCargo": false,
         "number": "FR 9955",
         "status": "Unknown"
        },
        {
         "aircraft": {
          "model": "Airbus A320 NEO"
         },
         "airline": {
          "name": "SAS"
         },
         "arrival": {
          "quality": [
           "Basic"
          ],
          "scheduledTimeLocal": "2021-11-25 13:00+01:00",
          "scheduledTimeUtc": "2021-11-25 12:00Z",
          "terminal": "1"
         },
         "codeshareStatus": "Unknown",
         "departure": {
          "airport": {
           "iata": "CPH",
           "icao": "EKCH",
           "name": "Copenhagen"
          },
          "quality": [
           "Basic"
          ],
          "scheduledTimeLocal": "2021-11-25 12:05+01:00",
          "scheduledTimeUtc": "2021-11-25 11:05Z",
          "terminal": "3"
         },
         "isCargo": false,
         "number": "SK 1673",
         "status": "Unknown"
        },
        {
         "aircraft": {
          "model": "Boeing 737-800"
         },
         "airline": {
          "name": "Ryanair"
         },
         "arrival": {
          "quality": [
           "Basic"
          ],
          "scheduledTimeLocal": "2021-11-25 13:10+01:00",
          "scheduledTimeUtc": "2021-11-25 12:10Z"
         },
         "codeshareStatus": "Unknown",
         "departure": {
          "airport": {
           "iata": "DUB",
           "icao": "EIDW",
           "name": "Dublin"
          },
          "quality": [
           "Basic"
          ],
          "scheduledTimeLocal": "2021-11-25 09:50+00:00",
          "scheduledTimeUtc": "2021-11-25 09:50Z"
         },
         "isCargo": false,
         "number": "FR 8556",
         "status": "Unknown"
        },
        {
         "aircraft": {
          "model": "Airbus A319"
         },
         "airline": {
          "name": "Royal Jordanian"
         },
         "arrival": {
          "quality": [
           "Basic"
          ],
          "scheduledTimeLocal": "2021-11-25 13:20+01:00",
          "scheduledTimeUtc": "2021-11-25 12:20Z",
          "terminal": "1"
         },
         "codeshareStatus": "Unknown",
         "departure": {
          "airport": {
           "iata": "AMM",
           "icao": "OJAI",
           "name": "Amman"
          },
          "quality": [
           "Basic"
          ],
          "scheduledTimeLocal": "2021-11-25 09:45+02:00",
          "scheduledTimeUtc": "2021-11-25 07:45Z"
         },
         "isCargo": false,
         "number": "RJ 121",
         "status": "Unknown"
        },
        {
         "aircraft": {
          "model": "Airbus A320"
         },
         "airline": {
          "name": "easyJet"
         },
         "arrival": {
          "quality": [
           "Basic"
          ],
          "scheduledTimeLocal": "2021-11-25 13:10+01:00",
          "scheduledTimeUtc": "2021-11-25 12:10Z",
          "terminal": "1"
         },
         "codeshareStatus": "Unknown",
         "departure": {
          "airport": {
           "iata": "NAP",
           "icao": "LIRN",
           "name": "Nápoli"
          },
          "quality": [
           "Basic"
          ],
          "scheduledTimeLocal": "2021-11-25 10:50+01:00",
          "scheduledTimeUtc": "2021-11-25 09:50Z"
         },
         "isCargo": false,
         "number": "U2 5142",
         "status": "Unknown"
        },
        {
         "aircraft": {
          "model": "Airbus A320"
         },
         "airline": {
          "name": "Eurowings"
         },
         "arrival": {
          "quality": [
           "Basic"
          ],
          "scheduledTimeLocal": "2021-11-25 13:15+01:00",
          "scheduledTimeUtc": "2021-11-25 12:15Z",
          "terminal": "1"
         },
         "codeshareStatus": "Unknown",
         "departure": {
          "airport": {
           "iata": "CGN",
           "icao": "EDDK",
           "name": "Cologne"
          },
          "quality": [
           "Basic"
          ],
          "scheduledTimeLocal": "2021-11-25 12:05+01:00",
          "scheduledTimeUtc": "2021-11-25 11:05Z",
          "terminal": "1"
         },
         "isCargo": false,
         "number": "EW 8051",
         "status": "Unknown"
        },
        {
         "aircraft": {
          "model": "Airbus A321"
         },
         "airline": {
          "name": "Turkish"
         },
         "arrival": {
          "quality": [
           "Basic"
          ],
          "scheduledTimeLocal": "2021-11-25 13:30+01:00",
          "scheduledTimeUtc": "2021-11-25 12:30Z",
          "terminal": "1"
         },
         "codeshareStatus": "Unknown",
         "departure": {
          "airport": {
           "iata": "IST",
           "icao": "LTFM",
           "name": "Istanbul"
          },
          "quality": [
           "Basic"
          ],
          "scheduledTimeLocal": "2021-11-25 12:40+03:00",
          "scheduledTimeUtc": "2021-11-25 09:40Z"
         },
         "isCargo": false,
         "number": "TK 1725",
         "status": "Unknown"
        },
        {
         "aircraft": {
          "model": "Airbus A320"
         },
         "airline": {
          "name": "Eurowings"
         },
         "arrival": {
          "quality": [
           "Basic"
          ],
          "scheduledTimeLocal": "2021-11-25 13:25+01:00",
          "scheduledTimeUtc": "2021-11-25 12:25Z",
          "terminal": "1"
         },
         "codeshareStatus": "Unknown",
         "departure": {
          "actualTimeLocal": "2021-11-25 12:05+01:00",
          "actualTimeUtc": "2021-11-25 11:05Z",
          "airport": {
           "iata": "STR",
           "icao": "EDDS",
           "name": "Stuttgart"
          },
          "gate": "140",
          "quality": [
           "Basic",
           "Live"
          ],
          "scheduledTimeLocal": "2021-11-25 12:05+01:00",
          "scheduledTimeUtc": "2021-11-25 11:05Z",
          "terminal": "1"
         },
         "isCargo": false,
         "number": "EW 8003",
         "status": "Unknown"
        },
        {
         "aircraft": {
          "model": "Airbus A320"
         },
         "airline": {
          "name": "easyJet"
         },
         "arrival": {
          "quality": [
           "Basic"
          ],
          "scheduledTimeLocal": "2021-11-25 13:55+01:00",
          "scheduledTimeUtc": "2021-11-25 12:55Z",
          "terminal": "1"
         },
         "codeshareStatus": "Unknown",
         "departure": {
          "airport": {
           "name": "Barcelona"
          },
          "quality": []
         },
         "isCargo": false,
         "number": "U2 5122",
         "status": "Unknown"
        },
        {
         "aircraft": {
          "model": "Boeing 737-800"
         },
         "airline": {
          "name": "Ryanair"
         },
         "arrival": {
          "quality": [
           "Basic"
          ],
          "scheduledTimeLocal": "2021-11-25 13:35+01:00",
          "scheduledTimeUtc": "2021-11-25 12:35Z"
         },
         "codeshareStatus": "Unknown",
         "departure": {
          "airport": {
           "iata": "STN",
           "icao": "EGSS",
           "name": "London"
          },
          "quality": [
           "Basic"
          ],
          "scheduledTimeLocal": "2021-11-25 10:45+00:00",
          "scheduledTimeUtc": "2021-11-25 10:45Z"
         },
         "isCargo": false,
         "number": "FR 176",
         "status": "Unknown"
        },
        {
         "aircraft": {
          "model": "Boeing 737-800"
         },
         "airline": {
          "name": "Ryanair"
         },
         "arrival": {
          "quality": [
           "Basic"
          ],
          "scheduledTimeLocal": "2021-11-25 13:55+01:00",
          "scheduledTimeUtc": "2021-11-25 12:55Z"
         },
         "codeshareStatus": "Unknown",
         "departure": {
          "airport": {
           "iata": "MXP",
           "icao": "LIMC",
           "name": "Milan"
          },
          "quality": [
           "Basic"
          ],
          "scheduledTimeLocal": "2021-11-25 12:15+01:00",
          "scheduledTimeUtc": "2021-11-25 11:15Z"
         },
         "isCargo": false,
         "number": "FR 9",
         "status": "Unknown"
        },
        {
         "aircraft": {
          "model": "Airbus A320"
         },
         "airline": {
          "name": "Vueling"
         },
         "arrival": {
          "quality": [
           "Basic"
          ],
          "scheduledTimeLocal": "2021-11-25 14:10+01:00",
          "scheduledTimeUtc": "2021-11-25 13:10Z",
          "terminal": "1"
         },
         "codeshareStatus": "Unknown",
         "departure": {
          "actualTimeLocal": "2021-11-25 11:30+01:00",
          "actualTimeUtc": "2021-11-25 10:30Z",
          "airport": {
           "iata": "BCN",
           "icao": "LEBL",
           "name": "Barcelona"
          },
          "quality": [
           "Basic",
           "Live"
          ],
          "scheduledTimeLocal": "2021-11-25 11:30+01:00",
          "scheduledTimeUtc": "2021-11-25 10:30Z",
          "terminal": "1"
         },
         "isCargo": false,
         "number": "VY 1882",
         "status": "Unknown"
        },
        {
         "aircraft": {
          "model": "Embraer 190"
         },
         "airline": {
          "name": "Pegas Fly"
         },
         "arrival": {
          "quality": [
           "Basic"
          ],
          "scheduledTimeLocal": "2021-11-25 14:45+01:00",
          "scheduledTimeUtc": "2021-11-25 13:45Z",
          "terminal": "1"
         },
         "codeshareStatus": "Unknown",
         "departure": {
          "actualTimeLocal": "2021-11-25 14:25+03:00",
          "actualTimeUtc": "2021-11-25 11:25Z",
          "airport": {
           "iata": "LED",
           "icao": "ULLI",
           "name": "Saint-Petersburg"
          },
          "checkInDesk": "A317-A318",
          "quality": [
           "Basic",
           "Live"
          ],
          "scheduledTimeLocal": "2021-11-25 14:25+03:00",
          "scheduledTimeUtc": "2021-11-25 11:25Z",
          "terminal": "1"
         },
         "isCargo": false,
         "number": "EO 1909",
         "status": "Unknown"
        },
        {
         "aircraft": {
          "model": "Airbus A320"
         },
         "airline": {
          "name": "SWISS"
         },
         "arrival": {
          "quality": [
           "Basic"
          ],
          "scheduledTimeLocal": "2021-11-25 14:00+01:00",
          "scheduledTimeUtc": "2021-11-25 13:00Z",
          "terminal": "1"
         },
         "codeshareStatus": "Unknown",
         "departure": {
          "actualTimeLocal": "2021-11-25 12:35+01:00",
          "actualTimeUtc": "2021-11-25 11:35Z",
          "airport": {
           "iata": "ZRH",
           "icao": "LSZH",
           "name": "Zurich"
          },
          "checkInDesk": "1",
          "quality": [
           "Basic",
           "Live"
          ],
          "scheduledTimeLocal": "2021-11-25 12:35+01:00",
          "scheduledTimeUtc": "2021-11-25 11:35Z"
         },
         "isCargo": false,
         "number": "LX 966",
         "status": "Unknown"
        },
        {
         "aircraft": {
          "model": "Boeing 737-800"
         },
         "airline": {
          "name": "Ryanair"
         },
         "arrival": {
          "quality": [
           "Basic"
          ],
          "scheduledTimeLocal": "2021-11-25 15:05+01:00",
          "scheduledTimeUtc": "2021-11-25 14:05Z"
         },
         "codeshareStatus": "Unknown",
         "departure": {
          "airport": {
           "iata": "TSF",
           "icao": "LIPH",
           "name": "Treviso"
          },
          "quality": [
           "Basic"
          ],
          "scheduledTimeLocal": "2021-11-25 13:30+01:00",
          "scheduledTimeUtc": "2021-11-25 12:30Z"
         },
         "isCargo": false,
         "number": "FR 4721",
         "status": "Unknown"
        },
        {
         "aircraft": {
          "model": "Airbus A320 NEO"
         },
         "airline": {
          "name": "Lufthansa"
         },
         "arrival": {
          "quality": [
           "Basic"
          ],
          "scheduledTimeLocal": "2021-11-25 14:55+01:00",
          "scheduledTimeUtc": "2021-11-25 13:55Z",
          "terminal": "1"
         },
         "codeshareStatus": "IsCodeshared",
         "departure": {
          "actualTimeLocal": "2021-11-25 13:45+01:00",
          "actualTimeUtc": "2021-11-25 12:45Z",
          "airport": {
           "iata": "FRA",
           "icao": "EDDF",
           "name": "Frankfurt-am-Main"
          },
          "quality": [
           "Basic",
           "Live"
          ],
          "scheduledTimeLocal": "2021-11-25 13:45+01:00",
          "scheduledTimeUtc": "2021-11-25 12:45Z",
          "terminal": "1"
         },
         "isCargo": false,
         "number": "LH 186",
         "status": "Unknown"
        },
        {
         "aircraft": {
          "model": "Boeing 737-800"
         },
         "airline": {
          "name": "Ryanair"
         },
         "arrival": {
          "quality": [
           "Basic"
          ],
          "scheduledTimeLocal": "2021-11-25 14:05+01:00",
          "scheduledTimeUtc": "2021-11-25 13:05Z"
         },
         "codeshareStatus": "Unknown",
         "departure": {
          "airport": {
           "iata": "STN",
           "icao": "EGSS",
           "name": "London"
          },
          "quality": [
           "Basic"
          ],
          "scheduledTimeLocal": "2021-11-25 11:15+00:00",
          "scheduledTimeUtc": "2021-11-25 11:15Z"
         },
         "isCargo": false,
         "number": "FR 8542",
         "status": "Unknown"
        },
        {
         "aircraft": {
          "model": "Boeing 737-800"
         },
         "airline": {
          "name": "Ryanair"
         },
         "arrival": {
          "quality": [
           "Basic"
          ],
          "scheduledTimeLocal": "2021-11-25 13:40+01:00",
          "scheduledTimeUtc": "2021-11-25 12:40Z"
         },
         "codeshareStatus": "Unknown",
         "departure": {
          "airport": {
           "iata": "KIR",
           "icao": "EIKY",
           "name": "Killarney"
          },
          "quality": [
           "Basic"
          ],
          "scheduledTimeLocal": "2021-11-25 10:10+00:00",
          "scheduledTimeUtc": "2021-11-25 10:10Z"
         },
         "isCargo": false,
         "number": "FR 1710",
         "status": "Unknown"
        },
        {
         "aircraft": {
          "model": "Boeing 737-800"
         },
         "airline": {
          "name": "Ryanair"
         },
         "arrival": {
          "quality": [
           "Basic"
          ],
          "scheduledTimeLocal": "2021-11-25 15:30+01:00",
          "scheduledTimeUtc": "2021-11-25 14:30Z"
         },
         "codeshareStatus": "Unknown",
         "departure": {
          "airport": {
           "iata": "TLV",
           "icao": "LLBG",
           "name": "Tel Aviv Yafo"
          },
          "quality": [
           "Basic"
          ],
          "scheduledTimeLocal": "2021-11-25 12:15+02:00",
          "scheduledTimeUtc": "2021-11-25 10:15Z"
         },
         "isCargo": false,
         "number": "FR 6473",
         "status": "Unknown"
        },
        {
         "aircraft": {
          "model": "Airbus A320"
         },
         "airline": {
          "name": "Lufthansa"
         },
         "arrival": {
          "quality": [
           "Basic"
          ],
          "scheduledTimeLocal": "2021-11-25 15:25+01:00",
          "scheduledTimeUtc": "2021-11-25 14:25Z",
          "terminal": "1"
         },
         "codeshareStatus": "IsCodeshared",
         "departure": {
          "airport": {
           "iata": "MUC",
           "icao": "EDDM",
           "name": "Munich"
          },
          "quality": [
           "Basic"
          ],
          "scheduledTimeLocal": "2021-11-25 14:15+01:00",
          "scheduledTimeUtc": "2021-11-25 13:15Z",
          "terminal": "2"
         },
         "isCargo": false,
         "number": "LH 1944",
         "status": "Unknown"
        },
        {
         "aircraft": {
          "model": "Airbus A320"
         },
         "airline": {
          "name": "Eurowings"
         },
         "arrival": {
          "quality": [
           "Basic"
          ],
          "scheduledTimeLocal": "2021-11-25 15:45+01:00",
          "scheduledTimeUtc": "2021-11-25 14:45Z",
          "terminal": "1"
         },
         "codeshareStatus": "Unknown",
         "departure": {
          "actualTimeLocal": "2021-11-25 14:25+01:00",
          "actualTimeUtc": "2021-11-25 13:25Z",
          "airport": {
           "iata": "STR",
           "icao": "EDDS",
           "name": "Stuttgart"
          },
          "gate": "114",
          "quality": [
           "Basic",
           "Live"
          ],
          "scheduledTimeLocal": "2021-11-25 14:25+01:00",
          "scheduledTimeUtc": "2021-11-25 13:25Z",
          "terminal": "1"
         },
         "isCargo": false,
         "number": "EW 2004",
         "status": "Unknown"
        },
        {
         "aircraft": {
          "model": "Airbus A320",
          "reg": "D-AGWU"
         },
         "airline": {
          "name": "Eurowings"
         },
         "arrival": {
          "quality": [
           "Basic"
          ],
          "scheduledTimeLocal": "2021-11-25 15:50+01:00",
          "scheduledTimeUtc": "2021-11-25 14:50Z",
          "terminal": "1"
         },
         "codeshareStatus": "Unknown",
         "departure": {
          "actualTimeLocal": "2021-11-25 14:35+01:00",
          "actualTimeUtc": "2021-11-25 13:35Z",
          "airport": {
           "iata": "DUS",
           "icao": "EDDL",
           "name": "Duesseldorf"
          },
          "checkInDesk": "153,170",
          "gate": "A26",
          "quality": [
           "Basic",
           "Live"
          ],
          "scheduledTimeLocal": "2021-11-25 14:35+01:00",
          "scheduledTimeUtc": "2021-11-25 13:35Z",
          "terminal": "B"
         },
         "isCargo": false,
         "number": "EW 9042",
         "status": "Unknown"
        },
        {
         "aircraft": {
          "model": "Airbus A320"
         },
         "airline": {
          "name": "easyJet"
         },
         "arrival": {
          "quality": [
           "Basic"
          ],
          "scheduledTimeLocal": "2021-11-25 15:30+01:00",
          "scheduledTimeUtc": "2021-11-25 14:30Z",
          "terminal": "1"
         },
         "codeshareStatus": "Unknown",
         "departure": {
          "airport": {
           "iata": "AGP",
           "icao": "LEMG",
           "name": "Málaga"
          },
          "quality": [
           "Basic"
          ],
          "scheduledTimeLocal": "2021-11-25 11:50+01:00",
          "scheduledTimeUtc": "2021-11-25 10:50Z"
         },
         "isCargo": false,
         "number": "U2 5914",
         "status": "Unknown"
        },
        {
         "aircraft": {
          "model": "Boeing 737-800"
         },
         "airline": {
          "name": "Ryanair"
         },
         "arrival": {
          "quality": [
           "Basic"
          ],
          "scheduledTimeLocal": "2021-11-25 15:35+01:00",
          "scheduledTimeUtc": "2021-11-25 14:35Z"
         },
         "codeshareStatus": "Unknown",
         "departure": {
          "actualTimeLocal": "2021-11-25 12:40+00:00",
          "actualTimeUtc": "2021-11-25 12:40Z",
          "airport": {
           "iata": "MAN",
           "icao": "EGCC",
           "name": "Manchester"
          },
          "quality": [
           "Basic",
           "Live"
          ],
          "scheduledTimeLocal": "2021-11-25 12:40+00:00",
          "scheduledTimeUtc": "2021-11-25 12:40Z",
          "terminal": "T1"
         },
         "isCargo": false,
         "number": "FR 1145",
         "status": "Unknown"
        },
        {
         "aircraft": {
          "model": "Airbus A320"
         },
         "airline": {
          "name": "Austrian"
         },
         "arrival": {
          "quality": [
           "Basic"
          ],
          "scheduledTimeLocal": "2021-11-25 16:15+01:00",
          "scheduledTimeUtc": "2021-11-25 15:15Z",
          "terminal": "1"
         },
         "codeshareStatus": "Unknown",
         "departure": {
          "airport": {
           "iata": "VIE",
           "icao": "LOWW",
           "name": "Vienna"
          },
          "quality": [
           "Basic"
          ],
          "scheduledTimeLocal": "2021-11-25 15:00+01:00",
          "scheduledTimeUtc": "2021-11-25 14:00Z",
          "terminal": "3"
         },
         "isCargo": false,
         "number": "OS 231",
         "status": "Unknown"
        },
        {
         "aircraft": {
          "model": "Embraer 190"
         },
         "airline": {
          "name": "British Airways"
         },
         "arrival": {
          "quality": [
           "Basic"
          ],
          "scheduledTimeLocal": "2021-11-25 15:55+01:00",
          "scheduledTimeUtc": "2021-11-25 14:55Z",
          "terminal": "1"
         },
         "codeshareStatus": "IsCodeshared",
         "departure": {
          "airport": {
           "iata": "LCY",
           "icao": "EGLC",
           "name": "London"
          },
          "quality": [
           "Basic"
          ],
          "scheduledTimeLocal": "2021-11-25 13:15+00:00",
          "scheduledTimeUtc": "2021-11-25 13:15Z"
         },
         "isCargo": false,
         "number": "BA 8493",
         "status": "Unknown"
        },
        {
         "aircraft": {
          "model": "Airbus A321"
         },
         "airline": {
          "name": "Lufthansa"
         },
         "arrival": {
          "quality": [
           "Basic"
          ],
          "scheduledTimeLocal": "2021-11-25 15:55+01:00",
          "scheduledTimeUtc": "2021-11-25 14:55Z",
          "terminal": "1"
         },
         "codeshareStatus": "IsCodeshared",
         "departure": {
          "actualTimeLocal": "2021-11-25 14:45+01:00",
          "actualTimeUtc": "2021-11-25 13:45Z",
          "airport": {
           "iata": "FRA",
           "icao": "EDDF",
           "name": "Frankfurt-am-Main"
          },
          "quality": [
           "Basic",
           "Live"
          ],
          "scheduledTimeLocal": "2021-11-25 14:45+01:00",
          "scheduledTimeUtc": "2021-11-25 13:45Z",
          "terminal": "1"
         },
         "isCargo": false,
         "number": "LH 188",
         "status": "Unknown"
        },
        {
         "aircraft": {
          "model": "Boeing 737-800"
         },
         "airline": {
          "name": "Ryanair"
         },
         "arrival": {
          "quality": [
           "Basic"
          ],
          "scheduledTimeLocal": "2021-11-25 16:00+01:00",
          "scheduledTimeUtc": "2021-11-25 15:00Z"
         },
         "codeshareStatus": "Unknown",
         "departure": {
          "airport": {
           "iata": "MRS",
           "icao": "LFML",
           "name": "Marseille"
          },
          "quality": [
           "Basic"
          ],
          "scheduledTimeLocal": "2021-11-25 13:55+01:00",
          "scheduledTimeUtc": "2021-11-25 12:55Z"
         },
         "isCargo": false,
         "number": "FR 8950",
         "status": "Unknown"
        },
        {
         "aircraft": {
          "model": "Boeing 737-800"
         },
         "airline": {
          "name": "Ryanair"
         },
         "arrival": {
          "quality": [
           "Basic"
          ],
          "scheduledTimeLocal": "2021-11-25 17:00+01:00",
          "scheduledTimeUtc": "2021-11-25 16:00Z"
         },
         "codeshareStatus": "Unknown",
         "departure": {
          "actualTimeLocal": "2021-11-25 14:15+01:00",
          "actualTimeUtc": "2021-11-25 13:15Z",
          "airport": {
           "iata": "BCN",
           "icao": "LEBL",
           "name": "Barcelona"
          },
          "quality": [
           "Basic",
           "Live"
          ],
          "scheduledTimeLocal": "2021-11-25 14:15+01:00",
          "scheduledTimeUtc": "2021-11-25 13:15Z",
          "terminal": "2"
         },
         "isCargo": false,
         "number": "FR 133",
         "status": "Unknown"
        },
        {
         "aircraft": {
          "model": "Airbus A320"
         },
         "airline": {
          "name": "TAP Air Portugal"
         },
         "arrival": {
          "quality": [
           "Basic"
          ],
          "scheduledTimeLocal": "2021-11-25 16:35+01:00",
          "scheduledTimeUtc": "2021-11-25 15:35Z",
          "terminal": "1"
         },
         "codeshareStatus": "Unknown",
         "departure": {
          "airport": {
           "iata": "LIS",
           "icao": "LPPT",
           "name": "Lisbon"
          },
          "quality": [
           "Basic"
          ],
          "scheduledTimeLocal": "2021-11-25 12:05+00:00",
          "scheduledTimeUtc": "2021-11-25 12:05Z",
          "terminal": "1"
         },
         "isCargo": false,
         "number": "TP 534",
         "status": "Unknown"
        },
        {
         "aircraft": {
          "model": "Embraer 190"
         },
         "airline": {
          "name": "KLM"
         },
         "arrival": {
          "quality": [
           "Basic"
          ],
          "scheduledTimeLocal": "2021-11-25 16:40+01:00",
          "scheduledTimeUtc": "2021-11-25 15:40Z",
          "terminal": "1"
         },
         "codeshareStatus": "IsOperator",
         "departure": {
          "airport": {
           "iata": "AMS",
           "icao": "EHAM",
           "name": "Amsterdam"
          },
          "checkInDesk": "5-8",
          "quality": [
           "Basic"
          ],
          "scheduledTimeLocal": "2021-11-25 15:20+01:00",
          "scheduledTimeUtc": "2021-11-25 14:20Z",
          "terminal": "1"
         },
         "isCargo": false,
         "number": "KL 1829",
         "status": "Unknown"
        },
        {
         "aircraft": {
          "model": "Airbus A319"
         },
         "airline": {
          "name": "Eurowings"
         },
         "arrival": {
          "quality": [
           "Basic"
          ],
          "scheduledTimeLocal": "2021-11-25 17:05+01:00",
          "scheduledTimeUtc": "2021-11-25 16:05Z",
          "terminal": "1"
         },
         "codeshareStatus": "Unknown",
         "departure": {
          "actualTimeLocal": "2021-11-25 15:45+01:00",
          "actualTimeUtc": "2021-11-25 14:45Z",
          "airport": {
           "iata": "STR",
           "icao": "EDDS",
           "name": "Stuttgart"
          },
          "gate": "140",
          "quality": [
           "Basic",
           "Live"
          ],
          "scheduledTimeLocal": "2021-11-25 15:45+01:00",
          "scheduledTimeUtc": "2021-11-25 14:45Z",
          "terminal": "1"
         },
         "isCargo": false,
         "number": "EW 2058",
         "status": "Unknown"
        },
        {
         "aircraft": {
          "model": "Boeing 737-800"
         },
         "airline": {
          "name": "Ryanair"
         },
         "arrival": {
          "quality": [
           "Basic"
          ],
          "scheduledTimeLocal": "2021-11-25 17:15+01:00",
          "scheduledTimeUtc": "2021-11-25 16:15Z"
         },
         "codeshareStatus": "Unknown",
         "departure": {
          "actualTimeLocal": "2021-11-25 11:05+00:00",
          "actualTimeUtc": "2021-11-25 11:05Z",
          "airport": {
           "iata": "TFS",
           "icao": "GCTS",
           "name": "Tenerife Island"
          },
          "quality": [
           "Basic",
           "Live"
          ],
          "scheduledTimeLocal": "2021-11-25 11:05+00:00",
          "scheduledTimeUtc": "2021-11-25 11:05Z"
         },
         "isCargo": false,
         "number": "FR 4067",
         "status": "Unknown"
        },
        {
         "aircraft": {
          "model": "Airbus A320"
         },
         "airline": {
          "name": "easyJet"
         },
         "arrival": {
          "quality": [
           "Basic"
          ],
          "scheduledTimeLocal": "2021-11-25 16:45+01:00",
          "scheduledTimeUtc": "2021-11-25 15:45Z",
          "terminal": "1"
         },
         "codeshareStatus": "Unknown",
         "departure": {
          "airport": {
           "iata": "TLV",
           "icao": "LLBG",
           "name": "Tel Aviv Yafo"
          },
          "quality": [
           "Basic"
          ],
          "scheduledTimeLocal": "2021-11-25 13:10+02:00",
          "scheduledTimeUtc": "2021-11-25 11:10Z",
          "terminal": "3"
         },
         "isCargo": false,
         "number": "U2 5202",
         "status": "Unknown"
        },
        {
         "aircraft": {
          "model": "Airbus A320"
         },
         "airline": {
          "name": "Air France"
         },
         "arrival": {
          "quality": [
           "Basic"
          ],
          "scheduledTimeLocal": "2021-11-25 17:10+01:00",
          "scheduledTimeUtc": "2021-11-25 16:10Z",
          "terminal": "1"
         },
         "codeshareStatus": "Unknown",
         "departure": {
          "airport": {
           "iata": "CDG",
           "icao": "LFPG",
           "name": "Paris"
          },
          "quality": [
           "Basic"
          ],
          "scheduledTimeLocal": "2021-11-25 15:30+01:00",
          "scheduledTimeUtc": "2021-11-25 14:30Z",
          "terminal": "2F"
         },
         "isCargo": false,
         "number": "AF 1834",
         "status": "Unknown"
        },
        {
         "aircraft": {
          "model": "Airbus A320"
         },
         "airline": {
          "name": "Eurowings"
         },
         "arrival": {
          "quality": [
           "Basic"
          ],
          "scheduledTimeLocal": "2021-11-25 17:35+01:00",
          "scheduledTimeUtc": "2021-11-25 16:35Z",
          "terminal": "1"
         },
         "codeshareStatus": "Unknown",
         "departure": {
          "airport": {
           "iata": "CGN",
           "icao": "EDDK",
           "name": "Cologne"
          },
          "quality": [
           "Basic"
          ],
          "scheduledTimeLocal": "2021-11-25 16:25+01:00",
          "scheduledTimeUtc": "2021-11-25 15:25Z",
          "terminal": "1"
         },
         "isCargo": false,
         "number": "EW 6",
         "status": "Unknown"
        },
        {
         "aircraft": {
          "model": "Airbus A321"
         },
         "airline": {
          "name": "Turkish"
         },
         "arrival": {
          "quality": [
           "Basic"
          ],
          "scheduledTimeLocal": "2021-11-25 17:30+01:00",
          "scheduledTimeUtc": "2021-11-25 16:30Z",
          "terminal": "1"
         },
         "codeshareStatus": "Unknown",
         "departure": {
          "airport": {
           "iata": "IST",
           "icao": "LTFM",
           "name": "Istanbul"
          },
          "quality": [
           "Basic"
          ],
          "scheduledTimeLocal": "2021-11-25 16:40+03:00",
          "scheduledTimeUtc": "2021-11-25 13:40Z"
         },
         "isCargo": false,
         "number": "TK 1723",
         "status": "Unknown"
        },
        {
         "aircraft": {
          "model": "Embraer 175"
         },
         "airline": {
          "name": "LOT - Polish"
         },
         "arrival": {
          "quality": [
           "Basic"
          ],
          "scheduledTimeLocal": "2021-11-25 17:45+01:00",
          "scheduledTimeUtc": "2021-11-25 16:45Z",
          "terminal": "1"
         },
         "codeshareStatus": "Unknown",
         "departure": {
          "airport": {
           "iata": "WAW",
           "icao": "EPWA",
           "name": "Warsaw"
          },
          "quality": [
           "Basic"
          ],
          "scheduledTimeLocal": "2021-11-25 16:20+01:00",
          "scheduledTimeUtc": "2021-11-25 15:20Z"
         },
         "isCargo": false,
         "number": "LO 389",
         "status": "Unknown"
        },
        {
         "aircraft": {
          "model": "Boeing 737-800"
         },
         "airline": {
          "name": "Ryanair"
         },
         "arrival": {
          "quality": [
           "Basic"
          ],
          "scheduledTimeLocal": "2021-11-25 17:35+01:00",
          "scheduledTimeUtc": "2021-11-25 16:35Z"
         },
         "codeshareStatus": "Unknown",
         "departure": {
          "airport": {
           "iata": "INI",
           "icao": "LYNI",
           "name": "Niš"
          },
          "quality": [
           "Basic"
          ],
          "scheduledTimeLocal": "2021-11-25 15:30+01:00",
          "scheduledTimeUtc": "2021-11-25 14:30Z"
         },
         "isCargo": false,
         "number": "FR 1106",
         "status": "Unknown"
        },
        {
         "aircraft": {
          "model": "Bombardier CRJ900"
         },
         "airline": {
          "name": "Lufthansa"
         },
         "arrival": {
          "quality": [
           "Basic"
          ],
          "scheduledTimeLocal": "2021-11-25 17:40+01:00",
          "scheduledTimeUtc": "2021-11-25 16:40Z",
          "terminal": "1"
         },
         "codeshareStatus": "IsCodeshared",
         "departure": {
          "airport": {
           "iata": "MUC",
           "icao": "EDDM",
           "name": "Munich"
          },
          "quality": [
           "Basic"
          ],
          "scheduledTimeLocal": "2021-11-25 16:30+01:00",
          "scheduledTimeUtc": "2021-11-25 15:30Z",
          "terminal": "2"
         },
         "isCargo": false,
         "number": "LH 1946",
         "status": "Unknown"
        },
        {
         "aircraft": {
          "model": "Airbus A321"
         },
         "airline": {
          "name": "Condor"
         },
         "arrival": {
          "quality": [
           "Basic"
          ],
          "scheduledTimeLocal": "2021-11-25 17:55+01:00",
          "scheduledTimeUtc": "2021-11-25 16:55Z",
          "terminal": "1"
         },
         "codeshareStatus": "Unknown",
         "departure": {
          "airport": {
           "iata": "HRG",
           "icao": "HEGN",
           "name": "Hurghada"
          },
          "quality": [
           "Basic"
          ],
          "scheduledTimeLocal": "2021-11-25 14:00+02:00",
          "scheduledTimeUtc": "2021-11-25 12:00Z",
          "terminal": "1"
         },
         "isCargo": false,
         "number": "DE 433",
         "status": "Unknown"
        },
        {
         "aircraft": {
          "model": "Airbus A320"
         },
         "airline": {
          "name": "Brussels"
         },
         "arrival": {
          "quality": [
           "Basic"
          ],
          "scheduledTimeLocal": "2021-11-25 17:50+01:00",
          "scheduledTimeUtc": "2021-11-25 16:50Z",
          "terminal": "1"
         },
         "codeshareStatus": "Unknown",
         "departure": {
          "actualTimeLocal": "2021-11-25 16:30+01:00",
          "actualTimeUtc": "2021-11-25 15:30Z",
          "airport": {
           "iata": "BRU",
           "icao": "EBBR",
           "name": "Brussels"
          },
          "checkInDesk": "02",
          "quality": [
           "Basic",
           "Live"
          ],
          "scheduledTimeLocal": "2021-11-25 16:30+01:00",
          "scheduledTimeUtc": "2021-11-25 15:30Z"
         },
         "isCargo": false,
         "number": "SN 2587",
         "status": "Unknown"
        },
        {
         "aircraft": {
          "model": "Airbus A320"
         },
         "airline": {
          "name": "Lufthansa"
         },
         "arrival": {
          "quality": [
           "Basic"
          ],
          "scheduledTimeLocal": "2021-11-25 17:55+01:00",
          "scheduledTimeUtc": "2021-11-25 16:55Z",
          "terminal": "1"
         },
         "codeshareStatus": "IsCodeshared",
         "departure": {
          "actualTimeLocal": "2021-11-25 16:45+01:00",
          "actualTimeUtc": "2021-11-25 15:45Z",
          "airport": {
           "iata": "FRA",
           "icao": "EDDF",
           "name": "Frankfurt-am-Main"
          },
          "quality": [
           "Basic",
           "Live"
          ],
          "scheduledTimeLocal": "2021-11-25 16:45+01:00",
          "scheduledTimeUtc": "2021-11-25 15:45Z",
          "terminal": "1"
         },
         "isCargo": false,
         "number": "LH 192",
         "status": "Unknown"
        },
        {
         "aircraft": {
          "model": "Embraer 190"
         },
         "airline": {
          "name": "KLM"
         },
         "arrival": {
          "quality": [
           "Basic"
          ],
          "scheduledTimeLocal": "2021-11-25 18:00+01:00",
          "scheduledTimeUtc": "2021-11-25 17:00Z",
          "terminal": "1"
         },
         "codeshareStatus": "IsOperator",
         "departure": {
          "airport": {
           "iata": "AMS",
           "icao": "EHAM",
           "name": "Amsterdam"
          },
          "checkInDesk": "5-8",
          "quality": [
           "Basic"
          ],
          "scheduledTimeLocal": "2021-11-25 16:45+01:00",
          "scheduledTimeUtc": "2021-11-25 15:45Z",
          "terminal": "1"
         },
         "isCargo": false,
         "number": "KL 1831",
         "status": "Unknown"
        },
        {
         "aircraft": {
          "model": "Airbus A320"
         },
         "airline": {
          "name": "Eurowings"
         },
         "arrival": {
          "quality": [
           "Basic"
          ],
          "scheduledTimeLocal": "2021-11-25 17:55+01:00",
          "scheduledTimeUtc": "2021-11-25 16:55Z",
          "terminal": "1"
         },
         "codeshareStatus": "Unknown",
         "departure": {
          "actualTimeLocal": "2021-11-25 16:40+01:00",
          "actualTimeUtc": "2021-11-25 15:40Z",
          "airport": {
           "iata": "DUS",
           "icao": "EDDL",
           "name": "Duesseldorf"
          },
          "checkInDesk": "153,170",
          "gate": "A42",
          "quality": [
           "Basic",
           "Live"
          ],
          "scheduledTimeLocal": "2021-11-25 16:40+01:00",
          "scheduledTimeUtc": "2021-11-25 15:40Z",
          "terminal": "B"
         },
         "isCargo": false,
         "number": "EW 8045",
         "status": "Unknown"
        },
        {
         "aircraft": {
          "model": "Boeing 737-800"
         },
         "airline": {
          "name": "Ryanair"
         },
         "arrival": {
          "quality": [
           "Basic"
          ],
          "scheduledTimeLocal": "2021-11-25 16:55+01:00",
          "scheduledTimeUtc": "2021-11-25 15:55Z"
         },
         "codeshareStatus": "Unknown",
         "departure": {
          "actualTimeLocal": "2021-11-25 10:55+00:00",
          "actualTimeUtc": "2021-11-25 10:55Z",
          "airport": {
           "iata": "FUE",
           "icao": "GCFV",
           "name": "Fuerteventura Island"
          },
          "quality": [
           "Basic",
           "Live"
          ],
          "scheduledTimeLocal": "2021-11-25 10:55+00:00",
          "scheduledTimeUtc": "2021-11-25 10:55Z"
         },
         "isCargo": false,
         "number": "FR 1102",
         "status": "Unknown"
        },
        {
         "aircraft": {
          "model": "Boeing 737-800"
         },
         "airline": {
          "name": "Ryanair"
         },
         "arrival": {
          "quality": [
           "Basic"
          ],
          "scheduledTimeLocal": "2021-11-25 18:10+01:00",
          "scheduledTimeUtc": "2021-11-25 17:10Z"
         },
         "codeshareStatus": "Unknown",
         "departure": {
          "airport": {
           "iata": "VNO",
           "icao": "EYVI",
           "name": "Vilnius"
          },
          "quality": [
           "Basic"
          ],
          "scheduledTimeLocal": "2021-11-25 17:30+02:00",
          "scheduledTimeUtc": "2021-11-25 15:30Z"
         },
         "isCargo": false,
         "number": "FR 1571",
         "status": "Unknown"
        },
        {
         "aircraft": {
          "model": "Airbus A320 NEO"
         },
         "airline": {
          "name": "Lufthansa"
         },
         "arrival": {
          "quality": [
           "Basic"
          ],
          "scheduledTimeLocal": "2021-11-25 16:55+01:00",
          "scheduledTimeUtc": "2021-11-25 15:55Z",
          "terminal": "1"
         },
         "codeshareStatus": "IsCodeshared",
         "departure": {
          "airport": {
           "iata": "MUC",
           "icao": "EDDM",
           "name": "Munich"
          },
          "quality": [
           "Basic"
          ],
          "scheduledTimeLocal": "2021-11-25 15:45+01:00",
          "scheduledTimeUtc": "2021-11-25 14:45Z",
          "terminal": "2"
         },
         "isCargo": false,
         "number": "LH 1942",
         "status": "Unknown"
        },
        {
         "aircraft": {
          "model": "Airbus A320"
         },
         "airline": {
          "name": "Finnair"
         },
         "arrival": {
          "quality": [
           "Basic"
          ],
          "scheduledTimeLocal": "2021-11-25 18:25+01:00",
          "scheduledTimeUtc": "2021-11-25 17:25Z",
          "terminal": "1"
         },
         "codeshareStatus": "Unknown",
         "departure": {
          "actualTimeLocal": "2021-11-25 17:25+02:00",
          "actualTimeUtc": "2021-11-25 15:25Z",
          "airport": {
           "iata": "HEL",
           "icao": "EFHK",
           "name": "Helsinki"
          },
          "checkInDesk": "507-517",
          "quality": [
           "Basic",
           "Live"
          ],
          "scheduledTimeLocal": "2021-11-25 17:25+02:00",
          "scheduledTimeUtc": "2021-11-25 15:25Z",
          "terminal": "T2-500"
         },
         "isCargo": false,
         "number": "AY 1435",
         "status": "Unknown"
        },
        {
         "aircraft": {
          "model": "Airbus A320"
         },
         "airline": {
          "name": "Wizz Air"
         },
         "arrival": {
          "quality": [
           "Basic"
          ],
          "scheduledTimeLocal": "2021-11-25 18:45+01:00",
          "scheduledTimeUtc": "2021-11-25 17:45Z",
          "terminal": "0"
         },
         "codeshareStatus": "Unknown",
         "departure": {
          "airport": {
           "iata": "IEV",
           "icao": "UKKK",
           "name": "Kiev"
          },
          "quality": [
           "Basic"
          ],
          "scheduledTimeLocal": "2021-11-25 17:30+02:00",
          "scheduledTimeUtc": "2021-11-25 15:30Z",
          "terminal": "A"
         },
         "isCargo": false,
         "number": "W6 6113",
         "status": "Unknown"
        },
        {
         "aircraft": {
          "model": "Airbus A320"
         },
         "airline": {
          "name": "Eurowings"
         },
         "arrival": {
          "quality": [
           "Basic"
          ],
          "scheduledTimeLocal": "2021-11-25 18:20+01:00",
          "scheduledTimeUtc": "2021-11-25 17:20Z",
          "terminal": "1"
         },
         "codeshareStatus": "Unknown",
         "departure": {
          "actualTimeLocal": "2021-11-25 12:15+00:00",
          "actualTimeUtc": "2021-11-25 12:15Z",
          "airport": {
           "iata": "FUE",
           "icao": "GCFV",
           "name": "Fuerteventura Island"
          },
          "quality": [
           "Basic",
           "Live"
          ],
          "scheduledTimeLocal": "2021-11-25 12:15+00:00",
          "scheduledTimeUtc": "2021-11-25 12:15Z"
         },
         "isCargo": false,
         "number": "EW 8181",
         "status": "Unknown"
        },
        {
         "aircraft": {
          "model": "Airbus A319"
         },
         "airline": {
          "name": "British Airways"
         },
         "arrival": {
          "quality": [
           "Basic"
          ],
          "scheduledTimeLocal": "2021-11-25 18:50+01:00",
          "scheduledTimeUtc": "2021-11-25 17:50Z",
          "terminal": "1"
         },
         "codeshareStatus": "IsCodeshared",
         "departure": {
          "actualTimeLocal": "2021-11-25 15:55+00:00",
          "actualTimeUtc": "2021-11-25 15:55Z",
          "airport": {
           "iata": "LHR",
           "icao": "EGLL",
           "name": "London"
          },
          "checkInDesk": "G",
          "quality": [
           "Basic",
           "Live"
          ],
          "scheduledTimeLocal": "2021-11-25 15:55+00:00",
          "scheduledTimeUtc": "2021-11-25 15:55Z",
          "terminal": "5"
         },
         "isCargo": false,
         "number": "BA 986",
         "status": "Unknown"
        },
        {
         "aircraft": {
          "model": "Boeing 737-800"
         },
         "airline": {
          "name": "Ryanair"
         },
         "arrival": {
          "quality": [
           "Basic"
          ],
          "scheduledTimeLocal": "2021-11-25 18:40+01:00",
          "scheduledTimeUtc": "2021-11-25 17:40Z"
         },
         "codeshareStatus": "Unknown",
         "departure": {
          "actualTimeLocal": "2021-11-25 15:20+00:00",
          "actualTimeUtc": "2021-11-25 15:20Z",
          "airport": {
           "iata": "DUB",
           "icao": "EIDW",
           "name": "Dublin"
          },
          "checkInDesk": "1204-1319",
          "gate": "119",
          "quality": [
           "Basic",
           "Live"
          ],
          "scheduledTimeLocal": "2021-11-25 15:20+00:00",
          "scheduledTimeUtc": "2021-11-25 15:20Z",
          "terminal": "T1"
         },
         "isCargo": false,
         "number": "FR 8558",
         "status": "Unknown"
        },
        {
         "aircraft": {
          "model": "Airbus A320"
         },
         "airline": {
          "name": "Austrian"
         },
         "arrival": {
          "quality": [
           "Basic"
          ],
          "scheduledTimeLocal": "2021-11-25 18:40+01:00",
          "scheduledTimeUtc": "2021-11-25 17:40Z",
          "terminal": "1"
         },
         "codeshareStatus": "Unknown",
         "departure": {
          "airport": {
           "iata": "VIE",
           "icao": "LOWW",
           "name": "Vienna"
          },
          "quality": [
           "Basic"
          ],
          "scheduledTimeLocal": "2021-11-25 17:25+01:00",
          "scheduledTimeUtc": "2021-11-25 16:25Z",
          "terminal": "3"
         },
         "isCargo": false,
         "number": "OS 235",
         "status": "Unknown"
        },
        {
         "aircraft": {
          "model": "Airbus A320 NEO"
         },
         "airline": {
          "name": "Lufthansa"
         },
         "arrival": {
          "quality": [
           "Basic"
          ],
          "scheduledTimeLocal": "2021-11-25 18:55+01:00",
          "scheduledTimeUtc": "2021-11-25 17:55Z",
          "terminal": "1"
         },
         "codeshareStatus": "IsCodeshared",
         "departure": {
          "actualTimeLocal": "2021-11-25 17:45+01:00",
          "actualTimeUtc": "2021-11-25 16:45Z",
          "airport": {
           "iata": "FRA",
           "icao": "EDDF",
           "name": "Frankfurt-am-Main"
          },
          "quality": [
           "Basic",
           "Live"
          ],
          "scheduledTimeLocal": "2021-11-25 17:45+01:00",
          "scheduledTimeUtc": "2021-11-25 16:45Z",
          "terminal": "1"
         },
         "isCargo": false,
         "number": "LH 194",
         "status": "Unknown"
        },
        {
         "aircraft": {
          "model": "Airbus A220-300"
         },
         "airline": {
          "name": "SWISS"
         },
         "arrival": {
          "quality": [
           "Basic"
          ],
          "scheduledTimeLocal": "2021-11-25 18:55+01:00",
          "scheduledTimeUtc": "2021-11-25 17:55Z",
          "terminal": "1"
         },
         "codeshareStatus": "Unknown",
         "departure": {
          "actualTimeLocal": "2021-11-25 17:30+01:00",
          "actualTimeUtc": "2021-11-25 16:30Z",
          "airport": {
           "iata": "ZRH",
           "icao": "LSZH",
           "name": "Zurich"
          },
          "checkInDesk": "1",
          "quality": [
           "Basic",
           "Live"
          ],
          "scheduledTimeLocal": "2021-11-25 17:30+01:00",
          "scheduledTimeUtc": "2021-11-25 16:30Z"
         },
         "isCargo": false,
         "number": "LX 970",
         "status": "Unknown"
        },
        {
         "aircraft": {
          "model": "ATR 72"
         },
         "airline": {
          "name": "Danish Air"
         },
         "arrival": {
          "quality": [
           "Basic"
          ],
          "scheduledTimeLocal": "2021-11-25 19:10+01:00",
          "scheduledTimeUtc": "2021-11-25 18:10Z",
          "terminal": "0"
         },
         "codeshareStatus": "Unknown",
         "departure": {
          "airport": {
           "iata": "SCN",
           "icao": "EDDR",
           "name": "Saarbrücken"
          },
          "quality": [
           "Basic"
          ],
          "scheduledTimeLocal": "2021-11-25 17:40+01:00",
          "scheduledTimeUtc": "2021-11-25 16:40Z"
         },
         "isCargo": false,
         "number": "DX 125",
         "status": "Unknown"
        },
        {
         "aircraft": {
          "model": "Airbus A220-300"
         },
         "airline": {
          "name": "Air Baltic"
         },
         "arrival": {
          "quality": [
           "Basic"
          ],
          "scheduledTimeLocal": "2021-11-25 19:00+01:00",
          "scheduledTimeUtc": "2021-11-25 18:00Z",
          "terminal": "1"
         },
         "codeshareStatus": "Unknown",
         "departure": {
          "actualTimeLocal": "2021-11-25 18:20+02:00",
          "actualTimeUtc": "2021-11-25 16:20Z",
          "airport": {
           "iata": "RIX",
           "icao": "EVRA",
           "name": "Riga"
          },
          "quality": [
           "Basic",
           "Live"
          ],
          "scheduledTimeLocal": "2021-11-25 18:20+02:00",
          "scheduledTimeUtc": "2021-11-25 16:20Z"
         },
         "isCargo": false,
         "number": "BT 213",
         "status": "Unknown"
        },
        {
         "aircraft": {
          "model": "Airbus A320"
         },
         "airline": {
          "name": "easyJet"
         },
         "arrival": {
          "quality": [
           "Basic"
          ],
          "scheduledTimeLocal": "2021-11-25 19:00+01:00",
          "scheduledTimeUtc": "2021-11-25 18:00Z",
          "terminal": "1"
         },
         "codeshareStatus": "Unknown",
         "departure": {
          "airport": {
           "iata": "FUE",
           "icao": "GCFV",
           "name": "Fuerteventura Island"
          },
          "quality": [
           "Basic"
          ],
          "scheduledTimeLocal": "2021-11-25 13:00+00:00",
          "scheduledTimeUtc": "2021-11-25 13:00Z"
         },
         "isCargo": false,
         "number": "U2 5924",
         "status": "Unknown"
        },
        {
         "aircraft": {
          "model": "Airbus A320"
         },
         "airline": {
          "name": "Iberia"
         },
         "arrival": {
          "quality": [
           "Basic"
          ],
          "scheduledTimeLocal": "2021-11-25 19:05+01:00",
          "scheduledTimeUtc": "2021-11-25 18:05Z",
          "terminal": "1"
         },
         "codeshareStatus": "Unknown",
         "departure": {
          "actualTimeLocal": "2021-11-25 16:00+01:00",
          "actualTimeUtc": "2021-11-25 15:00Z",
          "airport": {
           "iata": "MAD",
           "icao": "LEMD",
           "name": "Madrid"
          },
          "quality": [
           "Basic",
           "Live"
          ],
          "scheduledTimeLocal": "2021-11-25 16:00+01:00",
          "scheduledTimeUtc": "2021-11-25 15:00Z",
          "terminal": "4"
         },
         "isCargo": false,
         "number": "IB 3672",
         "status": "Unknown"
        },
        {
         "aircraft": {
          "model": "Boeing 737-800"
         },
         "airline": {
          "name": "Ryanair"
         },
         "arrival": {
          "quality": [
           "Basic"
          ],
          "scheduledTimeLocal": "2021-11-25 19:10+01:00",
          "scheduledTimeUtc": "2021-11-25 18:10Z"
         },
         "codeshareStatus": "Unknown",
         "departure": {
          "airport": {
           "iata": "TLL",
           "icao": "EETN",
           "name": "Tallinn"
          },
          "quality": [
           "Basic"
          ],
          "scheduledTimeLocal": "2021-11-25 18:10+02:00",
          "scheduledTimeUtc": "2021-11-25 16:10Z"
         },
         "isCargo": false,
         "number": "FR 2733",
         "status": "Unknown"
        },
        {
         "aircraft": {
          "model": "Airbus A320"
         },
         "airline": {
          "name": "Lufthansa"
         },
         "arrival": {
          "quality": [
           "Basic"
          ],
          "scheduledTimeLocal": "2021-11-25 19:15+01:00",
          "scheduledTimeUtc": "2021-11-25 18:15Z",
          "terminal": "1"
         },
         "codeshareStatus": "Unknown",
         "departure": {
          "airport": {
           "iata": "MUC",
           "icao": "EDDM",
           "name": "Munich"
          },
          "quality": [
           "Basic"
          ],
          "scheduledTimeLocal": "2021-11-25 18:05+01:00",
          "scheduledTimeUtc": "2021-11-25 17:05Z",
          "terminal": "2"
         },
         "isCargo": false,
         "number": "LH 2330",
         "status": "Unknown"
        },
        {
         "aircraft": {
          "model": "Embraer 190"
         },
         "airline": {
          "name": "British Airways"
         },
         "arrival": {
          "quality": [
           "Basic"
          ],
          "scheduledTimeLocal": "2021-11-25 19:30+01:00",
          "scheduledTimeUtc": "2021-11-25 18:30Z",
          "terminal": "1"
         },
         "codeshareStatus": "IsCodeshared",
         "departure": {
          "airport": {
           "iata": "LCY",
           "icao": "EGLC",
           "name": "London"
          },
          "quality": [
           "Basic"
          ],
          "scheduledTimeLocal": "2021-11-25 16:45+00:00",
          "scheduledTimeUtc": "2021-11-25 16:45Z"
         },
         "isCargo": false,
         "number": "BA 8743",
         "status": "Unknown"
        },
        {
         "aircraft": {
          "model": "Airbus A318"
         },
         "airline": {
          "name": "Air France"
         },
         "arrival": {
          "quality": [
           "Basic"
          ],
          "scheduledTimeLocal": "2021-11-25 19:35+01:00",
          "scheduledTimeUtc": "2021-11-25 18:35Z",
          "terminal": "1"
         },
         "codeshareStatus": "Unknown",
         "departure": {
          "airport": {
           "iata": "CDG",
           "icao": "LFPG",
           "name": "Paris"
          },
          "quality": [
           "Basic"
          ],
          "scheduledTimeLocal": "2021-11-25 17:50+01:00",
          "scheduledTimeUtc": "2021-11-25 16:50Z",
          "terminal": "2F"
         },
         "isCargo": false,
         "number": "AF 1534",
         "status": "Unknown"
        },
        {
         "aircraft": {
          "model": "Boeing 737-800"
         },
         "airline": {
          "name": "Norwegian Air Shuttle"
         },
         "arrival": {
          "quality": [
           "Basic"
          ],
          "scheduledTimeLocal": "2021-11-25 19:35+01:00",
          "scheduledTimeUtc": "2021-11-25 18:35Z",
          "terminal": "1"
         },
         "codeshareStatus": "Unknown",
         "departure": {
          "airport": {
           "iata": "OSL",
           "icao": "ENGM",
           "name": "Oslo"
          },
          "checkInDesk": "23",
          "quality": [
           "Basic"
          ],
          "scheduledTimeLocal": "2021-11-25 18:00+01:00",
          "scheduledTimeUtc": "2021-11-25 17:00Z"
         },
         "isCargo": false,
         "number": "DY 1108",
         "status": "Unknown"
        },
        {
         "aircraft": {
          "model": "Boeing 737-800"
         },
         "airline": {
          "name": "El Al"
         },
         "arrival": {
          "quality": [
           "Basic"
          ],
          "scheduledTimeLocal": "2021-11-25 19:50+01:00",
          "scheduledTimeUtc": "2021-11-25 18:50Z",
          "terminal": "1"
         },
         "codeshareStatus": "Unknown",
         "departure": {
          "airport": {
           "iata": "TLV",
           "icao": "LLBG",
           "name": "Tel Aviv Yafo"
          },
          "quality": [
           "Basic"
          ],
          "scheduledTimeLocal": "2021-11-25 16:20+02:00",
          "scheduledTimeUtc": "2021-11-25 14:20Z",
          "terminal": "3"
         },
         "isCargo": false,
         "number": "LY 2373",
         "status": "Unknown"
        },
        {
         "aircraft": {
          "model": "Boeing 737-800"
         },
         "airline": {
          "name": "Ryanair"
         },
         "arrival": {
          "quality": [
           "Basic"
          ],
          "scheduledTimeLocal": "2021-11-25 19:40+01:00",
          "scheduledTimeUtc": "2021-11-25 18:40Z"
         },
         "codeshareStatus": "Unknown",
         "departure": {
          "actualTimeLocal": "2021-11-25 16:05+01:00",
          "actualTimeUtc": "2021-11-25 15:05Z",
          "airport": {
           "iata": "AGP",
           "icao": "LEMG",
           "name": "Málaga"
          },
          "quality": [
           "Basic",
           "Live"
          ],
          "scheduledTimeLocal": "2021-11-25 16:05+01:00",
          "scheduledTimeUtc": "2021-11-25 15:05Z"
         },
         "isCargo": false,
         "number": "FR 2591",
         "status": "Unknown"
        },
        {
         "aircraft": {
          "model": "Airbus A320 NEO"
         },
         "airline": {
          "name": "SWISS"
         },
         "arrival": {
          "quality": [
           "Basic"
          ],
          "scheduledTimeLocal": "2021-11-25 19:45+01:00",
          "scheduledTimeUtc": "2021-11-25 18:45Z",
          "terminal": "1"
         },
         "codeshareStatus": "Unknown",
         "departure": {
          "actualTimeLocal": "2021-11-25 18:20+01:00",
          "actualTimeUtc": "2021-11-25 17:20Z",
          "airport": {
           "iata": "ZRH",
           "icao": "LSZH",
           "name": "Zurich"
          },
          "checkInDesk": "1",
          "quality": [
           "Basic",
           "Live"
          ],
          "scheduledTimeLocal": "2021-11-25 18:20+01:00",
          "scheduledTimeUtc": "2021-11-25 17:20Z"
         },
         "isCargo": false,
         "number": "LX 978",
         "status": "Unknown"
        },
        {
         "aircraft": {
          "model": "Airbus A320"
         },
         "airline": {
          "name": "Lufthansa"
         },
         "arrival": {
          "quality": [
           "Basic"
          ],
          "scheduledTimeLocal": "2021-11-25 19:55+01:00",
          "scheduledTimeUtc": "2021-11-25 18:55Z",
          "terminal": "1"
         },
         "codeshareStatus": "IsCodeshared",
         "departure": {
          "actualTimeLocal": "2021-11-25 18:45+01:00",
          "actualTimeUtc": "2021-11-25 17:45Z",
          "airport": {
           "iata": "FRA",
           "icao": "EDDF",
           "name": "Frankfurt-am-Main"
          },
          "quality": [
           "Basic",
           "Live"
          ],
          "scheduledTimeLocal": "2021-11-25 18:45+01:00",
          "scheduledTimeUtc": "2021-11-25 17:45Z",
          "terminal": "1"
         },
         "isCargo": false,
         "number": "LH 190",
         "status": "Unknown"
        },
        {
         "aircraft": {
          "model": "Airbus A319"
         },
         "airline": {
          "name": "easyJet"
         },
         "arrival": {
          "quality": [
           "Basic"
          ],
          "scheduledTimeLocal": "2021-11-25 18:10+01:00",
          "scheduledTimeUtc": "2021-11-25 17:10Z",
          "terminal": "1"
         },
         "codeshareStatus": "Unknown",
         "departure": {
          "airport": {
           "name": "Amsterdam"
          },
          "quality": []
         },
         "isCargo": false,
         "number": "U2 5106",
         "status": "Unknown"
        },
        {
         "aircraft": {
          "model": "Boeing 737-800"
         },
         "airline": {
          "name": "Ryanair"
         },
         "arrival": {
          "quality": [
           "Basic"
          ],
          "scheduledTimeLocal": "2021-11-25 19:55+01:00",
          "scheduledTimeUtc": "2021-11-25 18:55Z"
         },
         "codeshareStatus": "Unknown",
         "departure": {
          "airport": {
           "iata": "CIA",
           "icao": "LIRA",
           "name": "Roma"
          },
          "quality": [
           "Basic"
          ],
          "scheduledTimeLocal": "2021-11-25 17:45+01:00",
          "scheduledTimeUtc": "2021-11-25 16:45Z"
         },
         "isCargo": false,
         "number": "FR 141",
         "status": "Unknown"
        },
        {
         "aircraft": {
          "model": "Airbus A320"
         },
         "airline": {
          "name": "Ghodawat Enterprises"
         },
         "arrival": {
          "quality": [
           "Basic"
          ],
          "scheduledTimeLocal": "2021-11-25 20:00+01:00",
          "scheduledTimeUtc": "2021-11-25 19:00Z",
          "terminal": "1"
         },
         "codeshareStatus": "Unknown",
         "departure": {
          "airport": {
           "iata": "KEF",
           "icao": "BIKF",
           "name": "Reykjavik"
          },
          "quality": [
           "Basic"
          ],
          "scheduledTimeLocal": "2021-11-25 15:20+00:00",
          "scheduledTimeUtc": "2021-11-25 15:20Z"
         },
         "isCargo": false,
         "number": "OG 704",
         "status": "Unknown"
        },
        {
         "aircraft": {
          "model": "Boeing 737-800"
         },
         "airline": {
          "name": "Ryanair"
         },
         "arrival": {
          "quality": [
           "Basic"
          ],
          "scheduledTimeLocal": "2021-11-25 16:50+01:00",
          "scheduledTimeUtc": "2021-11-25 15:50Z"
         },
         "codeshareStatus": "Unknown",
         "departure": {
          "actualTimeLocal": "2021-11-25 14:05+01:00",
          "actualTimeUtc": "2021-11-25 13:05Z",
          "airport": {
           "iata": "PMI",
           "icao": "LEPA",
           "name": "Palma De Mallorca"
          },
          "quality": [
           "Basic",
           "Live"
          ],
          "scheduledTimeLocal": "2021-11-25 14:05+01:00",
          "scheduledTimeUtc": "2021-11-25 13:05Z"
         },
         "isCargo": false,
         "number": "FR 111",
         "status": "Unknown"
        },
        {
         "aircraft": {
          "model": "Airbus A320 NEO"
         },
         "airline": {
          "name": "Lufthansa"
         },
         "arrival": {
          "quality": [
           "Basic"
          ],
          "scheduledTimeLocal": "2021-11-25 18:10+01:00",
          "scheduledTimeUtc": "2021-11-25 17:10Z",
          "terminal": "1"
         },
         "codeshareStatus": "IsCodeshared",
         "departure": {
          "airport": {
           "iata": "MUC",
           "icao": "EDDM",
           "name": "Munich"
          },
          "quality": [
           "Basic"
          ],
          "scheduledTimeLocal": "2021-11-25 17:00+01:00",
          "scheduledTimeUtc": "2021-11-25 16:00Z",
          "terminal": "2"
         },
         "isCargo": false,
         "number": "LH 1948",
         "status": "Unknown"
        }
       ]
      },
      "text/plain": [
       "<IPython.core.display.JSON object>"
      ]
     },
     "execution_count": 11,
     "metadata": {
      "application/json": {
       "expanded": false,
       "root": "root"
      }
     },
     "output_type": "execute_result"
    }
   ],
   "source": [
    "JSON(response.text)"
   ]
  },
  {
   "cell_type": "code",
   "execution_count": 24,
   "id": "89e03c80-a1eb-444c-be2a-f870da6d4f80",
   "metadata": {
    "tags": []
   },
   "outputs": [
    {
     "data": {
      "text/plain": [
       "'Austrian'"
      ]
     },
     "execution_count": 24,
     "metadata": {},
     "output_type": "execute_result"
    }
   ],
   "source": [
    "flight_arrivals = response.json()\n",
    "\n",
    "for flight in flight_arrivals:\n",
    "flight_arrivals['arrivals'][0]['arrival']['scheduledTimeLocal']\n",
    "flight_arrivals['arrivals'][0]['number']\n",
    "flight_arrivals['arrivals'][0]['arrival']['terminal']\n",
    "flight_arrivals['arrivals'][0]['departure']['airport']['name']\n",
    "flight_arrivals['arrivals'][0]['aircraft']['model']\n",
    "flight_arrivals['arrivals'][0]['airline']['name']\n"
   ]
  },
  {
   "cell_type": "code",
   "execution_count": 47,
   "id": "715fa5d2-b174-4c3c-a4fa-198a21a13ce0",
   "metadata": {},
   "outputs": [
    {
     "data": {
      "text/html": [
       "<div>\n",
       "<style scoped>\n",
       "    .dataframe tbody tr th:only-of-type {\n",
       "        vertical-align: middle;\n",
       "    }\n",
       "\n",
       "    .dataframe tbody tr th {\n",
       "        vertical-align: top;\n",
       "    }\n",
       "\n",
       "    .dataframe thead th {\n",
       "        text-align: right;\n",
       "    }\n",
       "</style>\n",
       "<table border=\"1\" class=\"dataframe\">\n",
       "  <thead>\n",
       "    <tr style=\"text-align: right;\">\n",
       "      <th></th>\n",
       "      <th>Scheduled_arrival_time</th>\n",
       "      <th>flight_number</th>\n",
       "      <th>from</th>\n",
       "      <th>airline</th>\n",
       "      <th>aircraft</th>\n",
       "    </tr>\n",
       "  </thead>\n",
       "  <tbody>\n",
       "    <tr>\n",
       "      <th>0</th>\n",
       "      <td>2021-11-25 08:55+01:00</td>\n",
       "      <td>OS 223</td>\n",
       "      <td>Vienna</td>\n",
       "      <td>Austrian</td>\n",
       "      <td>Embraer 195</td>\n",
       "    </tr>\n",
       "    <tr>\n",
       "      <th>0</th>\n",
       "      <td>2021-11-25 09:00+01:00</td>\n",
       "      <td>JU 350</td>\n",
       "      <td>Belgrade</td>\n",
       "      <td>Air Serbia</td>\n",
       "      <td>Airbus A320</td>\n",
       "    </tr>\n",
       "    <tr>\n",
       "      <th>0</th>\n",
       "      <td>2021-11-25 08:55+01:00</td>\n",
       "      <td>LH 174</td>\n",
       "      <td>Frankfurt-am-Main</td>\n",
       "      <td>Lufthansa</td>\n",
       "      <td>Airbus A320</td>\n",
       "    </tr>\n",
       "    <tr>\n",
       "      <th>0</th>\n",
       "      <td>2021-11-25 08:55+01:00</td>\n",
       "      <td>AF 7354</td>\n",
       "      <td>Paris</td>\n",
       "      <td>Air France</td>\n",
       "      <td>Airbus A320</td>\n",
       "    </tr>\n",
       "    <tr>\n",
       "      <th>0</th>\n",
       "      <td>2021-11-25 09:30+01:00</td>\n",
       "      <td>FR 197</td>\n",
       "      <td>Budapest</td>\n",
       "      <td>Ryanair</td>\n",
       "      <td>Boeing 737-800</td>\n",
       "    </tr>\n",
       "  </tbody>\n",
       "</table>\n",
       "</div>"
      ],
      "text/plain": [
       "   Scheduled_arrival_time flight_number               from     airline  \\\n",
       "0  2021-11-25 08:55+01:00        OS 223             Vienna    Austrian   \n",
       "0  2021-11-25 09:00+01:00        JU 350           Belgrade  Air Serbia   \n",
       "0  2021-11-25 08:55+01:00        LH 174  Frankfurt-am-Main   Lufthansa   \n",
       "0  2021-11-25 08:55+01:00       AF 7354              Paris  Air France   \n",
       "0  2021-11-25 09:30+01:00        FR 197           Budapest     Ryanair   \n",
       "\n",
       "         aircraft  \n",
       "0     Embraer 195  \n",
       "0     Airbus A320  \n",
       "0     Airbus A320  \n",
       "0     Airbus A320  \n",
       "0  Boeing 737-800  "
      ]
     },
     "execution_count": 47,
     "metadata": {},
     "output_type": "execute_result"
    }
   ],
   "source": [
    "import pandas as pd\n",
    "from numpy import nan\n",
    "\n",
    "flight_arrivals = response.json()\n",
    "\n",
    "def flight_extraction(flights):\n",
    "    flights_df = pd.json_normalize({\n",
    "        'Scheduled_arrival_time': flights['arrival']['scheduledTimeLocal'],\n",
    "        'flight_number': flights['number'],\n",
    "        'from' : flights['departure']['airport']['name'],\n",
    "        'airline' : flights['airline']['name'],\n",
    "        'aircraft' : flights['aircraft']['model']\n",
    "    })\n",
    "    return(flights_df)\n",
    "\n",
    "flight_arrivals = pd.concat(\n",
    "    [flight_extraction(flight) for flight in flight_arrivals['arrivals']]\n",
    ")\n",
    "\n",
    "flight_arrivals.head()"
   ]
  },
  {
   "cell_type": "markdown",
   "id": "bf73fdf9-36e2-4a2b-8ba3-1f9cf97eac13",
   "metadata": {},
   "source": [
    "## Flight data functions for the Cloud "
   ]
  },
  {
   "cell_type": "code",
   "execution_count": 2,
   "id": "529d981e-1a72-4e49-abf3-11c568b3e705",
   "metadata": {},
   "outputs": [],
   "source": [
    "import pandas as pd\n",
    "from keys import *\n",
    "import datetime\n",
    "import requests\n",
    "from IPython.display import JSON"
   ]
  },
  {
   "cell_type": "code",
   "execution_count": 3,
   "id": "682ed741-30e4-42cf-a1ea-41799b8010c6",
   "metadata": {},
   "outputs": [],
   "source": [
    "#be careful not to run too often as there is a maximum of 200 api calls per month\n",
    "\n",
    "def get_flight_data(icao):\n",
    "    today = datetime.date.today()\n",
    "    tomorrow = str(today + datetime.timedelta(days=1))\n",
    "    \n",
    "    hours = [[\"00:00\",\"11:59\"],[\"12:00\",\"23:59\"]]\n",
    "    flight_data = []\n",
    "    for time in hours:\n",
    "        url = f\"https://aerodatabox.p.rapidapi.com/flights/airports/icao/{icao}/{tomorrow}T{time[0]}/{tomorrow}T{time[1]}\"\n",
    "\n",
    "        querystring = {\"withLeg\":\"true\",\"direction\":\"Arrival\",\"withCancelled\":\"false\",\"withCodeshared\":\"true\",\"withCargo\":\"false\",\"withPrivate\":\"false\",\"withLocation\":\"false\"}\n",
    "\n",
    "        headers = {\n",
    "            'x-rapidapi-host': \"aerodatabox.p.rapidapi.com\",\n",
    "            'x-rapidapi-key': flights_key\n",
    "            }\n",
    "\n",
    "        flight_data.append(requests.request(\"GET\", url, headers=headers, params=querystring).json())\n",
    "    return flight_data"
   ]
  },
  {
   "cell_type": "code",
   "execution_count": 7,
   "id": "7eac41e0-5396-445e-ba28-3fe35cc30de6",
   "metadata": {},
   "outputs": [],
   "source": [
    "test = get_flight_data('EDDB')"
   ]
  },
  {
   "cell_type": "code",
   "execution_count": 19,
   "id": "f68711f8-0640-4512-81da-91feb3850780",
   "metadata": {},
   "outputs": [
    {
     "data": {
      "text/plain": [
       "'Helsinki'"
      ]
     },
     "execution_count": 19,
     "metadata": {},
     "output_type": "execute_result"
    }
   ],
   "source": [
    "test[1]['arrivals'][0]['departure']['airport']['name']"
   ]
  },
  {
   "cell_type": "code",
   "execution_count": 23,
   "id": "a4a6d4f6-bf46-4e3e-abb3-471c952a755b",
   "metadata": {},
   "outputs": [
    {
     "data": {
      "application/json": [
       {
        "arrivals": [
         {
          "aircraft": {
           "model": "Airbus A220-300"
          },
          "airline": {
           "name": "Air Baltic"
          },
          "arrival": {
           "quality": [
            "Basic"
           ],
           "scheduledTimeLocal": "2021-12-02 07:55+01:00",
           "scheduledTimeUtc": "2021-12-02 06:55Z",
           "terminal": "1"
          },
          "codeshareStatus": "Unknown",
          "departure": {
           "actualTimeLocal": "2021-12-02 07:15+02:00",
           "actualTimeUtc": "2021-12-02 05:15Z",
           "airport": {
            "iata": "RIX",
            "icao": "EVRA",
            "name": "Riga"
           },
           "quality": [
            "Basic",
            "Live"
           ],
           "scheduledTimeLocal": "2021-12-02 07:15+02:00",
           "scheduledTimeUtc": "2021-12-02 05:15Z",
           "terminal": "B9"
          },
          "isCargo": false,
          "number": "BT 211",
          "status": "Unknown"
         },
         {
          "aircraft": {
           "model": "Boeing 737-800"
          },
          "airline": {
           "name": "Eurowings"
          },
          "arrival": {
           "quality": [
            "Basic"
           ],
           "scheduledTimeLocal": "2021-12-02 07:25+01:00",
           "scheduledTimeUtc": "2021-12-02 06:25Z",
           "terminal": "1"
          },
          "codeshareStatus": "Unknown",
          "departure": {
           "airport": {
            "iata": "CGN",
            "icao": "EDDK",
            "name": "Cologne"
           },
           "quality": [
            "Basic"
           ],
           "scheduledTimeLocal": "2021-12-02 06:15+01:00",
           "scheduledTimeUtc": "2021-12-02 05:15Z",
           "terminal": "1"
          },
          "isCargo": false,
          "number": "EW 12",
          "status": "Unknown"
         },
         {
          "aircraft": {
           "model": "Airbus A320"
          },
          "airline": {
           "name": "Eurowings"
          },
          "arrival": {
           "quality": [
            "Basic"
           ],
           "scheduledTimeLocal": "2021-12-02 07:30+01:00",
           "scheduledTimeUtc": "2021-12-02 06:30Z",
           "terminal": "1"
          },
          "codeshareStatus": "Unknown",
          "departure": {
           "actualTimeLocal": "2021-12-02 06:10+01:00",
           "actualTimeUtc": "2021-12-02 05:10Z",
           "airport": {
            "iata": "STR",
            "icao": "EDDS",
            "name": "Stuttgart"
           },
           "gate": "164",
           "quality": [
            "Basic",
            "Live"
           ],
           "scheduledTimeLocal": "2021-12-02 06:10+01:00",
           "scheduledTimeUtc": "2021-12-02 05:10Z",
           "terminal": "1"
          },
          "isCargo": false,
          "number": "EW 2002",
          "status": "Unknown"
         },
         {
          "aircraft": {
           "model": "Airbus A319"
          },
          "airline": {
           "name": "Eurowings"
          },
          "arrival": {
           "quality": [
            "Basic"
           ],
           "scheduledTimeLocal": "2021-12-02 07:35+01:00",
           "scheduledTimeUtc": "2021-12-02 06:35Z",
           "terminal": "1"
          },
          "codeshareStatus": "Unknown",
          "departure": {
           "airport": {
            "name": "Duesseldorf"
           },
           "quality": []
          },
          "isCargo": false,
          "number": "EW 9048",
          "status": "Unknown"
         },
         {
          "aircraft": {
           "model": "Airbus A321"
          },
          "airline": {
           "name": "Lufthansa"
          },
          "arrival": {
           "quality": [
            "Basic"
           ],
           "scheduledTimeLocal": "2021-12-02 07:55+01:00",
           "scheduledTimeUtc": "2021-12-02 06:55Z",
           "terminal": "1"
          },
          "codeshareStatus": "IsCodeshared",
          "departure": {
           "actualTimeLocal": "2021-12-02 06:45+01:00",
           "actualTimeUtc": "2021-12-02 05:45Z",
           "airport": {
            "iata": "FRA",
            "icao": "EDDF",
            "name": "Frankfurt-am-Main"
           },
           "checkInDesk": "263-453",
           "gate": "A15",
           "quality": [
            "Basic",
            "Live"
           ],
           "scheduledTimeLocal": "2021-12-02 06:45+01:00",
           "scheduledTimeUtc": "2021-12-02 05:45Z",
           "terminal": "1"
          },
          "isCargo": false,
          "number": "LH 170",
          "status": "Unknown"
         },
         {
          "aircraft": {
           "model": "Airbus A319"
          },
          "airline": {
           "name": "easyJet"
          },
          "arrival": {
           "quality": [
            "Basic"
           ],
           "scheduledTimeLocal": "2021-12-02 07:55+01:00",
           "scheduledTimeUtc": "2021-12-02 06:55Z",
           "terminal": "1"
          },
          "codeshareStatus": "Unknown",
          "departure": {
           "airport": {
            "iata": "BSL",
            "icao": "LFSB",
            "name": "Bâle/Mulhouse"
           },
           "quality": [
            "Basic"
           ],
           "scheduledTimeLocal": "2021-12-02 06:20+01:00",
           "scheduledTimeUtc": "2021-12-02 05:20Z"
          },
          "isCargo": false,
          "number": "U2 5632",
          "status": "Unknown"
         },
         {
          "aircraft": {
           "model": "Airbus A318"
          },
          "airline": {
           "name": "Air France"
          },
          "arrival": {
           "quality": [
            "Basic"
           ],
           "scheduledTimeLocal": "2021-12-02 08:55+01:00",
           "scheduledTimeUtc": "2021-12-02 07:55Z",
           "terminal": "1"
          },
          "codeshareStatus": "Unknown",
          "departure": {
           "airport": {
            "iata": "ORY",
            "icao": "LFPO",
            "name": "Paris"
           },
           "quality": [
            "Basic"
           ],
           "scheduledTimeLocal": "2021-12-02 07:00+01:00",
           "scheduledTimeUtc": "2021-12-02 06:00Z",
           "terminal": "3"
          },
          "isCargo": false,
          "number": "AF 7354",
          "status": "Unknown"
         },
         {
          "aircraft": {
           "model": "Airbus A321"
          },
          "airline": {
           "name": "Finnair"
          },
          "arrival": {
           "quality": [
            "Basic"
           ],
           "scheduledTimeLocal": "2021-12-02 08:20+01:00",
           "scheduledTimeUtc": "2021-12-02 07:20Z",
           "terminal": "1"
          },
          "codeshareStatus": "Unknown",
          "departure": {
           "actualTimeLocal": "2021-12-02 07:20+02:00",
           "actualTimeUtc": "2021-12-02 05:20Z",
           "airport": {
            "iata": "HEL",
            "icao": "EFHK",
            "name": "Helsinki"
           },
           "checkInDesk": "507-517",
           "quality": [
            "Basic",
            "Live"
           ],
           "scheduledTimeLocal": "2021-12-02 07:20+02:00",
           "scheduledTimeUtc": "2021-12-02 05:20Z",
           "terminal": "T2-500"
          },
          "isCargo": false,
          "number": "AY 1431",
          "status": "Unknown"
         },
         {
          "aircraft": {
           "model": "ATR 72"
          },
          "airline": {
           "name": "Danish Air"
          },
          "arrival": {
           "quality": [
            "Basic"
           ],
           "scheduledTimeLocal": "2021-12-02 08:10+01:00",
           "scheduledTimeUtc": "2021-12-02 07:10Z",
           "terminal": "0"
          },
          "codeshareStatus": "Unknown",
          "departure": {
           "airport": {
            "iata": "SCN",
            "icao": "EDDR",
            "name": "Saarbrücken"
           },
           "quality": [
            "Basic"
           ],
           "scheduledTimeLocal": "2021-12-02 06:40+01:00",
           "scheduledTimeUtc": "2021-12-02 05:40Z"
          },
          "isCargo": false,
          "number": "DX 121",
          "status": "Unknown"
         },
         {
          "aircraft": {
           "model": "Bombardier Dash 8 Q400 / DHC-8-400"
          },
          "airline": {
           "name": "Luxair"
          },
          "arrival": {
           "quality": [
            "Basic"
           ],
           "scheduledTimeLocal": "2021-12-02 08:15+01:00",
           "scheduledTimeUtc": "2021-12-02 07:15Z",
           "terminal": "1"
          },
          "codeshareStatus": "Unknown",
          "departure": {
           "actualTimeLocal": "2021-12-02 06:45+01:00",
           "actualTimeUtc": "2021-12-02 05:45Z",
           "airport": {
            "iata": "LUX",
            "icao": "ELLX",
            "name": "Luxembourg"
           },
           "quality": [
            "Basic",
            "Live"
           ],
           "scheduledTimeLocal": "2021-12-02 06:45+01:00",
           "scheduledTimeUtc": "2021-12-02 05:45Z"
          },
          "isCargo": false,
          "number": "LG 9471",
          "status": "Unknown"
         },
         {
          "aircraft": {
           "model": "Airbus A320"
          },
          "airline": {
           "name": "Lufthansa"
          },
          "arrival": {
           "quality": [
            "Basic"
           ],
           "scheduledTimeLocal": "2021-12-02 08:55+01:00",
           "scheduledTimeUtc": "2021-12-02 07:55Z",
           "terminal": "1"
          },
          "codeshareStatus": "IsCodeshared",
          "departure": {
           "actualTimeLocal": "2021-12-02 07:45+01:00",
           "actualTimeUtc": "2021-12-02 06:45Z",
           "airport": {
            "iata": "FRA",
            "icao": "EDDF",
            "name": "Frankfurt-am-Main"
           },
           "checkInDesk": "263-453",
           "gate": "A19",
           "quality": [
            "Basic",
            "Live"
           ],
           "scheduledTimeLocal": "2021-12-02 07:45+01:00",
           "scheduledTimeUtc": "2021-12-02 06:45Z",
           "terminal": "1"
          },
          "isCargo": false,
          "number": "LH 174",
          "status": "Unknown"
         },
         {
          "aircraft": {
           "model": "Airbus A320 NEO"
          },
          "airline": {
           "name": "Lufthansa"
          },
          "arrival": {
           "quality": [
            "Basic"
           ],
           "scheduledTimeLocal": "2021-12-02 08:10+01:00",
           "scheduledTimeUtc": "2021-12-02 07:10Z",
           "terminal": "1"
          },
          "codeshareStatus": "IsCodeshared",
          "departure": {
           "airport": {
            "iata": "MUC",
            "icao": "EDDM",
            "name": "Munich"
           },
           "quality": [
            "Basic"
           ],
           "scheduledTimeLocal": "2021-12-02 07:00+01:00",
           "scheduledTimeUtc": "2021-12-02 06:00Z",
           "terminal": "2"
          },
          "isCargo": false,
          "number": "LH 1928",
          "status": "Unknown"
         },
         {
          "aircraft": {
           "model": "Airbus A320"
          },
          "airline": {
           "name": "SWISS"
          },
          "arrival": {
           "quality": [
            "Basic"
           ],
           "scheduledTimeLocal": "2021-12-02 08:45+01:00",
           "scheduledTimeUtc": "2021-12-02 07:45Z",
           "terminal": "1"
          },
          "codeshareStatus": "Unknown",
          "departure": {
           "actualTimeLocal": "2021-12-02 07:15+01:00",
           "actualTimeUtc": "2021-12-02 06:15Z",
           "airport": {
            "iata": "ZRH",
            "icao": "LSZH",
            "name": "Zurich"
           },
           "checkInDesk": "1",
           "quality": [
            "Basic",
            "Live"
           ],
           "scheduledTimeLocal": "2021-12-02 07:15+01:00",
           "scheduledTimeUtc": "2021-12-02 06:15Z"
          },
          "isCargo": false,
          "number": "LX 974",
          "status": "Unknown"
         },
         {
          "aircraft": {
           "model": "Boeing 737-800"
          },
          "airline": {
           "name": "Norwegian Air Shuttle"
          },
          "arrival": {
           "quality": [
            "Basic"
           ],
           "scheduledTimeLocal": "2021-12-02 09:10+01:00",
           "scheduledTimeUtc": "2021-12-02 08:10Z",
           "terminal": "1"
          },
          "codeshareStatus": "Unknown",
          "departure": {
           "airport": {
            "iata": "OSL",
            "icao": "ENGM",
            "name": "Oslo"
           },
           "checkInDesk": "23",
           "quality": [
            "Basic"
           ],
           "scheduledTimeLocal": "2021-12-02 07:35+01:00",
           "scheduledTimeUtc": "2021-12-02 06:35Z"
          },
          "isCargo": false,
          "number": "DY 1102",
          "status": "Unknown"
         },
         {
          "aircraft": {
           "model": "Airbus A320"
          },
          "airline": {
           "name": "Eurowings"
          },
          "arrival": {
           "quality": [
            "Basic"
           ],
           "scheduledTimeLocal": "2021-12-02 09:40+01:00",
           "scheduledTimeUtc": "2021-12-02 08:40Z",
           "terminal": "1"
          },
          "codeshareStatus": "Unknown",
          "departure": {
           "airport": {
            "iata": "CGN",
            "icao": "EDDK",
            "name": "Cologne"
           },
           "quality": [
            "Basic"
           ],
           "scheduledTimeLocal": "2021-12-02 08:30+01:00",
           "scheduledTimeUtc": "2021-12-02 07:30Z",
           "terminal": "1"
          },
          "isCargo": false,
          "number": "EW 8059",
          "status": "Unknown"
         },
         {
          "aircraft": {
           "model": "Boeing 737-800"
          },
          "airline": {
           "name": "Ryanair"
          },
          "arrival": {
           "quality": [
            "Basic"
           ],
           "scheduledTimeLocal": "2021-12-02 09:30+01:00",
           "scheduledTimeUtc": "2021-12-02 08:30Z"
          },
          "codeshareStatus": "Unknown",
          "departure": {
           "actualTimeLocal": "2021-12-02 08:00+01:00",
           "actualTimeUtc": "2021-12-02 07:00Z",
           "airport": {
            "iata": "BUD",
            "icao": "LHBP",
            "name": "Budapest"
           },
           "quality": [
            "Basic",
            "Live"
           ],
           "scheduledTimeLocal": "2021-12-02 08:00+01:00",
           "scheduledTimeUtc": "2021-12-02 07:00Z",
           "terminal": "2B"
          },
          "isCargo": false,
          "number": "FR 197",
          "status": "Unknown"
         },
         {
          "aircraft": {
           "model": "Boeing 737-800"
          },
          "airline": {
           "name": "Ryanair"
          },
          "arrival": {
           "quality": [
            "Basic"
           ],
           "scheduledTimeLocal": "2021-12-02 09:25+01:00",
           "scheduledTimeUtc": "2021-12-02 08:25Z"
          },
          "codeshareStatus": "Unknown",
          "departure": {
           "actualTimeLocal": "2021-12-02 06:20+01:00",
           "actualTimeUtc": "2021-12-02 05:20Z",
           "airport": {
            "iata": "MAD",
            "icao": "LEMD",
            "name": "Madrid"
           },
           "quality": [
            "Basic",
            "Live"
           ],
           "scheduledTimeLocal": "2021-12-02 06:20+01:00",
           "scheduledTimeUtc": "2021-12-02 05:20Z",
           "terminal": "1"
          },
          "isCargo": false,
          "number": "FR 2526",
          "status": "Unknown"
         },
         {
          "aircraft": {
           "model": "Boeing 737-800"
          },
          "airline": {
           "name": "Ryanair"
          },
          "arrival": {
           "quality": [
            "Basic"
           ],
           "scheduledTimeLocal": "2021-12-02 09:45+01:00",
           "scheduledTimeUtc": "2021-12-02 08:45Z"
          },
          "codeshareStatus": "Unknown",
          "departure": {
           "actualTimeLocal": "2021-12-02 09:05+02:00",
           "actualTimeUtc": "2021-12-02 07:05Z",
           "airport": {
            "iata": "RIX",
            "icao": "EVRA",
            "name": "Riga"
           },
           "quality": [
            "Basic",
            "Live"
           ],
           "scheduledTimeLocal": "2021-12-02 09:05+02:00",
           "scheduledTimeUtc": "2021-12-02 07:05Z"
          },
          "isCargo": false,
          "number": "FR 2600",
          "status": "Unknown"
         },
         {
          "aircraft": {
           "model": "Airbus A320"
          },
          "airline": {
           "name": "Air Serbia"
          },
          "arrival": {
           "quality": [
            "Basic"
           ],
           "scheduledTimeLocal": "2021-12-02 09:00+01:00",
           "scheduledTimeUtc": "2021-12-02 08:00Z",
           "terminal": "1"
          },
          "codeshareStatus": "Unknown",
          "departure": {
           "airport": {
            "iata": "BEG",
            "icao": "LYBE",
            "name": "Belgrade"
           },
           "quality": [
            "Basic"
           ],
           "scheduledTimeLocal": "2021-12-02 07:10+01:00",
           "scheduledTimeUtc": "2021-12-02 06:10Z",
           "terminal": "2"
          },
          "isCargo": false,
          "number": "JU 350",
          "status": "Unknown"
         },
         {
          "aircraft": {
           "model": "Boeing 737-700",
           "reg": "PH-BXY"
          },
          "airline": {
           "name": "KLM"
          },
          "arrival": {
           "quality": [
            "Basic"
           ],
           "scheduledTimeLocal": "2021-12-02 09:25+01:00",
           "scheduledTimeUtc": "2021-12-02 08:25Z",
           "terminal": "1"
          },
          "codeshareStatus": "IsOperator",
          "departure": {
           "airport": {
            "iata": "AMS",
            "icao": "EHAM",
            "name": "Amsterdam"
           },
           "checkInDesk": "5-8",
           "quality": [
            "Basic"
           ],
           "scheduledTimeLocal": "2021-12-02 08:05+01:00",
           "scheduledTimeUtc": "2021-12-02 07:05Z",
           "terminal": "1"
          },
          "isCargo": false,
          "number": "KL 1821",
          "status": "Unknown"
         },
         {
          "aircraft": {
           "model": "Airbus A320"
          },
          "airline": {
           "name": "Lufthansa"
          },
          "arrival": {
           "quality": [
            "Basic"
           ],
           "scheduledTimeLocal": "2021-12-02 09:55+01:00",
           "scheduledTimeUtc": "2021-12-02 08:55Z",
           "terminal": "1"
          },
          "codeshareStatus": "IsCodeshared",
          "departure": {
           "actualTimeLocal": "2021-12-02 08:45+01:00",
           "actualTimeUtc": "2021-12-02 07:45Z",
           "airport": {
            "iata": "FRA",
            "icao": "EDDF",
            "name": "Frankfurt-am-Main"
           },
           "checkInDesk": "263-453",
           "gate": "A17",
           "quality": [
            "Basic",
            "Live"
           ],
           "scheduledTimeLocal": "2021-12-02 08:45+01:00",
           "scheduledTimeUtc": "2021-12-02 07:45Z",
           "terminal": "1"
          },
          "isCargo": false,
          "number": "LH 176",
          "status": "Unknown"
         },
         {
          "aircraft": {
           "model": "Airbus A320"
          },
          "airline": {
           "name": "Lufthansa"
          },
          "arrival": {
           "quality": [
            "Basic"
           ],
           "scheduledTimeLocal": "2021-12-02 09:40+01:00",
           "scheduledTimeUtc": "2021-12-02 08:40Z",
           "terminal": "1"
          },
          "codeshareStatus": "IsCodeshared",
          "departure": {
           "airport": {
            "iata": "MUC",
            "icao": "EDDM",
            "name": "Munich"
           },
           "quality": [
            "Basic"
           ],
           "scheduledTimeLocal": "2021-12-02 08:30+01:00",
           "scheduledTimeUtc": "2021-12-02 07:30Z",
           "terminal": "2"
          },
          "isCargo": false,
          "number": "LH 1930",
          "status": "Unknown"
         },
         {
          "aircraft": {
           "model": "Airbus A330-300"
          },
          "airline": {
           "name": "Turkish"
          },
          "arrival": {
           "quality": [
            "Basic"
           ],
           "scheduledTimeLocal": "2021-12-02 09:35+01:00",
           "scheduledTimeUtc": "2021-12-02 08:35Z",
           "terminal": "1"
          },
          "codeshareStatus": "Unknown",
          "departure": {
           "airport": {
            "iata": "IST",
            "icao": "LTFM",
            "name": "Istanbul"
           },
           "quality": [
            "Basic"
           ],
           "scheduledTimeLocal": "2021-12-02 08:55+03:00",
           "scheduledTimeUtc": "2021-12-02 05:55Z"
          },
          "isCargo": false,
          "number": "TK 1721",
          "status": "Unknown"
         },
         {
          "aircraft": {
           "model": "Airbus A319"
          },
          "airline": {
           "name": "easyJet"
          },
          "arrival": {
           "quality": [
            "Basic"
           ],
           "scheduledTimeLocal": "2021-12-02 09:45+01:00",
           "scheduledTimeUtc": "2021-12-02 08:45Z",
           "terminal": "1"
          },
          "codeshareStatus": "Unknown",
          "departure": {
           "airport": {
            "name": "Aarhus"
           },
           "quality": []
          },
          "isCargo": false,
          "number": "U2 5698",
          "status": "Unknown"
         },
         {
          "aircraft": {
           "model": "Airbus A320"
          },
          "airline": {
           "name": "Aegean"
          },
          "arrival": {
           "quality": [
            "Basic"
           ],
           "scheduledTimeLocal": "2021-12-02 10:50+01:00",
           "scheduledTimeUtc": "2021-12-02 09:50Z",
           "terminal": "1"
          },
          "codeshareStatus": "Unknown",
          "departure": {
           "actualTimeLocal": "2021-12-02 08:55+02:00",
           "actualTimeUtc": "2021-12-02 06:55Z",
           "airport": {
            "iata": "ATH",
            "icao": "LGAV",
            "name": "Athens"
           },
           "quality": [
            "Basic",
            "Live"
           ],
           "scheduledTimeLocal": "2021-12-02 08:55+02:00",
           "scheduledTimeUtc": "2021-12-02 06:55Z",
           "terminal": "D"
          },
          "isCargo": false,
          "number": "A3 820",
          "status": "Unknown"
         },
         {
          "aircraft": {
           "model": "Embraer 190"
          },
          "airline": {
           "name": "British Airways"
          },
          "arrival": {
           "quality": [
            "Basic"
           ],
           "scheduledTimeLocal": "2021-12-02 10:25+01:00",
           "scheduledTimeUtc": "2021-12-02 09:25Z",
           "terminal": "1"
          },
          "codeshareStatus": "IsCodeshared",
          "departure": {
           "airport": {
            "iata": "LCY",
            "icao": "EGLC",
            "name": "London"
           },
           "quality": [
            "Basic"
           ],
           "scheduledTimeLocal": "2021-12-02 07:45+00:00",
           "scheduledTimeUtc": "2021-12-02 07:45Z"
          },
          "isCargo": false,
          "number": "BA 8491",
          "status": "Unknown"
         },
         {
          "aircraft": {
           "model": "Boeing 737-800"
          },
          "airline": {
           "name": "Ryanair"
          },
          "arrival": {
           "quality": [
            "Basic"
           ],
           "scheduledTimeLocal": "2021-12-02 10:40+01:00",
           "scheduledTimeUtc": "2021-12-02 09:40Z"
          },
          "codeshareStatus": "Unknown",
          "departure": {
           "airport": {
            "iata": "STN",
            "icao": "EGSS",
            "name": "London"
           },
           "quality": [
            "Basic"
           ],
           "scheduledTimeLocal": "2021-12-02 07:50+00:00",
           "scheduledTimeUtc": "2021-12-02 07:50Z"
          },
          "isCargo": false,
          "number": "FR 145",
          "status": "Unknown"
         },
         {
          "aircraft": {
           "model": "Boeing 737-800"
          },
          "airline": {
           "name": "Ryanair"
          },
          "arrival": {
           "quality": [
            "Basic"
           ],
           "scheduledTimeLocal": "2021-12-02 10:40+01:00",
           "scheduledTimeUtc": "2021-12-02 09:40Z"
          },
          "codeshareStatus": "Unknown",
          "departure": {
           "airport": {
            "iata": "BGY",
            "icao": "LIME",
            "name": "Bergamo"
           },
           "quality": [
            "Basic"
           ],
           "scheduledTimeLocal": "2021-12-02 08:55+01:00",
           "scheduledTimeUtc": "2021-12-02 07:55Z"
          },
          "isCargo": false,
          "number": "FR 4731",
          "status": "Unknown"
         },
         {
          "aircraft": {
           "model": "Embraer 195"
          },
          "airline": {
           "name": "Austrian"
          },
          "arrival": {
           "quality": [
            "Basic"
           ],
           "scheduledTimeLocal": "2021-12-02 10:25+01:00",
           "scheduledTimeUtc": "2021-12-02 09:25Z",
           "terminal": "1"
          },
          "codeshareStatus": "Unknown",
          "departure": {
           "actualTimeLocal": "2021-12-02 09:10+01:00",
           "actualTimeUtc": "2021-12-02 08:10Z",
           "airport": {
            "iata": "VIE",
            "icao": "LOWW",
            "name": "Vienna"
           },
           "checkInDesk": "351-378",
           "quality": [
            "Basic",
            "Live"
           ],
           "scheduledTimeLocal": "2021-12-02 09:10+01:00",
           "scheduledTimeUtc": "2021-12-02 08:10Z",
           "terminal": "T3"
          },
          "isCargo": false,
          "number": "OS 225",
          "status": "Unknown"
         },
         {
          "aircraft": {
           "model": "Bombardier CRJ900",
           "reg": "EI-FPW"
          },
          "airline": {
           "name": "SAS"
          },
          "arrival": {
           "quality": [
            "Basic"
           ],
           "scheduledTimeLocal": "2021-12-02 10:30+01:00",
           "scheduledTimeUtc": "2021-12-02 09:30Z",
           "terminal": "1"
          },
          "codeshareStatus": "Unknown",
          "departure": {
           "actualTimeLocal": "2021-12-02 08:55+01:00",
           "actualTimeUtc": "2021-12-02 07:55Z",
           "airport": {
            "iata": "ARN",
            "icao": "ESSA",
            "name": "Stockholm"
           },
           "checkInDesk": "71-74",
           "quality": [
            "Basic",
            "Live"
           ],
           "scheduledTimeLocal": "2021-12-02 08:55+01:00",
           "scheduledTimeUtc": "2021-12-02 07:55Z",
           "terminal": "T5"
          },
          "isCargo": false,
          "number": "SK 2677",
          "status": "Unknown"
         },
         {
          "aircraft": {
           "model": "Boeing 787-8"
          },
          "airline": {
           "name": "Scoot"
          },
          "arrival": {
           "quality": [
            "Basic"
           ],
           "scheduledTimeLocal": "2021-12-02 10:20+01:00",
           "scheduledTimeUtc": "2021-12-02 09:20Z",
           "terminal": "1"
          },
          "codeshareStatus": "Unknown",
          "departure": {
           "actualTimeLocal": "2021-12-02 08:20+02:00",
           "actualTimeUtc": "2021-12-02 06:20Z",
           "airport": {
            "iata": "ATH",
            "icao": "LGAV",
            "name": "Athens"
           },
           "checkInDesk": "153--157",
           "quality": [
            "Basic",
            "Live"
           ],
           "scheduledTimeLocal": "2021-12-02 08:20+02:00",
           "scheduledTimeUtc": "2021-12-02 06:20Z",
           "terminal": "I"
          },
          "isCargo": false,
          "number": "TR 722",
          "status": "Unknown"
         },
         {
          "aircraft": {
           "model": "Airbus A319"
          },
          "airline": {
           "name": "easyJet"
          },
          "arrival": {
           "quality": [
            "Basic"
           ],
           "scheduledTimeLocal": "2021-12-02 10:35+01:00",
           "scheduledTimeUtc": "2021-12-02 09:35Z",
           "terminal": "1"
          },
          "codeshareStatus": "Unknown",
          "departure": {
           "airport": {
            "iata": "AMS",
            "icao": "EHAM",
            "name": "Amsterdam"
           },
           "quality": [
            "Basic"
           ],
           "scheduledTimeLocal": "2021-12-02 09:10+01:00",
           "scheduledTimeUtc": "2021-12-02 08:10Z"
          },
          "isCargo": false,
          "number": "U2 5102",
          "status": "Unknown"
         },
         {
          "aircraft": {
           "model": "Airbus A319"
          },
          "airline": {
           "name": "Air France"
          },
          "arrival": {
           "quality": [
            "Basic"
           ],
           "scheduledTimeLocal": "2021-12-02 11:40+01:00",
           "scheduledTimeUtc": "2021-12-02 10:40Z",
           "terminal": "1"
          },
          "codeshareStatus": "Unknown",
          "departure": {
           "airport": {
            "iata": "CDG",
            "icao": "LFPG",
            "name": "Paris"
           },
           "quality": [
            "Basic"
           ],
           "scheduledTimeLocal": "2021-12-02 09:55+01:00",
           "scheduledTimeUtc": "2021-12-02 08:55Z",
           "terminal": "2F"
          },
          "isCargo": false,
          "number": "AF 1734",
          "status": "Unknown"
         },
         {
          "aircraft": {
           "model": "Airbus A320"
          },
          "airline": {
           "name": "British Airways"
          },
          "arrival": {
           "quality": [
            "Basic"
           ],
           "scheduledTimeLocal": "2021-12-02 11:40+01:00",
           "scheduledTimeUtc": "2021-12-02 10:40Z",
           "terminal": "1"
          },
          "codeshareStatus": "IsCodeshared",
          "departure": {
           "actualTimeLocal": "2021-12-02 08:45+00:00",
           "actualTimeUtc": "2021-12-02 08:45Z",
           "airport": {
            "iata": "LHR",
            "icao": "EGLL",
            "name": "London"
           },
           "checkInDesk": "G",
           "quality": [
            "Basic",
            "Live"
           ],
           "scheduledTimeLocal": "2021-12-02 08:45+00:00",
           "scheduledTimeUtc": "2021-12-02 08:45Z",
           "terminal": "5"
          },
          "isCargo": false,
          "number": "BA 992",
          "status": "Unknown"
         },
         {
          "aircraft": {
           "model": "Boeing 737-800"
          },
          "airline": {
           "name": "Norwegian Air International"
          },
          "arrival": {
           "quality": [
            "Basic"
           ],
           "scheduledTimeLocal": "2021-12-02 11:45+01:00",
           "scheduledTimeUtc": "2021-12-02 10:45Z",
           "terminal": "1"
          },
          "codeshareStatus": "Unknown",
          "departure": {
           "airport": {
            "iata": "CPH",
            "icao": "EKCH",
            "name": "Copenhagen"
           },
           "quality": [
            "Basic"
           ],
           "scheduledTimeLocal": "2021-12-02 10:45+01:00",
           "scheduledTimeUtc": "2021-12-02 09:45Z",
           "terminal": "2"
          },
          "isCargo": false,
          "number": "D8 3302",
          "status": "Unknown"
         },
         {
          "aircraft": {
           "model": "Boeing 737-800"
          },
          "airline": {
           "name": "Ryanair"
          },
          "arrival": {
           "quality": [
            "Basic"
           ],
           "scheduledTimeLocal": "2021-12-02 11:05+01:00",
           "scheduledTimeUtc": "2021-12-02 10:05Z"
          },
          "codeshareStatus": "Unknown",
          "departure": {
           "airport": {
            "iata": "CIA",
            "icao": "LIRA",
            "name": "Roma"
           },
           "quality": [
            "Basic"
           ],
           "scheduledTimeLocal": "2021-12-02 08:55+01:00",
           "scheduledTimeUtc": "2021-12-02 07:55Z"
          },
          "isCargo": false,
          "number": "FR 135",
          "status": "Unknown"
         },
         {
          "aircraft": {
           "model": "Boeing 737-800"
          },
          "airline": {
           "name": "Ryanair"
          },
          "arrival": {
           "quality": [
            "Basic"
           ],
           "scheduledTimeLocal": "2021-12-02 11:45+01:00",
           "scheduledTimeUtc": "2021-12-02 10:45Z"
          },
          "codeshareStatus": "Unknown",
          "departure": {
           "airport": {
            "iata": "SOF",
            "icao": "LBSF",
            "name": "Sofia"
           },
           "quality": [
            "Basic"
           ],
           "scheduledTimeLocal": "2021-12-02 10:25+02:00",
           "scheduledTimeUtc": "2021-12-02 08:25Z"
          },
          "isCargo": false,
          "number": "FR 1595",
          "status": "Unknown"
         },
         {
          "aircraft": {
           "model": "Airbus A320"
          },
          "airline": {
           "name": "Iberia"
          },
          "arrival": {
           "quality": [
            "Basic"
           ],
           "scheduledTimeLocal": "2021-12-02 11:05+01:00",
           "scheduledTimeUtc": "2021-12-02 10:05Z",
           "terminal": "1"
          },
          "codeshareStatus": "Unknown",
          "departure": {
           "actualTimeLocal": "2021-12-02 08:05+01:00",
           "actualTimeUtc": "2021-12-02 07:05Z",
           "airport": {
            "iata": "MAD",
            "icao": "LEMD",
            "name": "Madrid"
           },
           "quality": [
            "Basic",
            "Live"
           ],
           "scheduledTimeLocal": "2021-12-02 08:05+01:00",
           "scheduledTimeUtc": "2021-12-02 07:05Z",
           "terminal": "4"
          },
          "isCargo": false,
          "number": "IB 3676",
          "status": "Unknown"
         },
         {
          "aircraft": {
           "model": "Boeing 737-900",
           "reg": "PH-BCK"
          },
          "airline": {
           "name": "KLM"
          },
          "arrival": {
           "quality": [
            "Basic"
           ],
           "scheduledTimeLocal": "2021-12-02 11:05+01:00",
           "scheduledTimeUtc": "2021-12-02 10:05Z",
           "terminal": "1"
          },
          "codeshareStatus": "IsOperator",
          "departure": {
           "airport": {
            "iata": "AMS",
            "icao": "EHAM",
            "name": "Amsterdam"
           },
           "checkInDesk": "5-8",
           "quality": [
            "Basic"
           ],
           "scheduledTimeLocal": "2021-12-02 09:45+01:00",
           "scheduledTimeUtc": "2021-12-02 08:45Z",
           "terminal": "1"
          },
          "isCargo": false,
          "number": "KL 1823",
          "status": "Unknown"
         },
         {
          "aircraft": {
           "model": "Airbus A321"
          },
          "airline": {
           "name": "Lufthansa"
          },
          "arrival": {
           "quality": [
            "Basic"
           ],
           "scheduledTimeLocal": "2021-12-02 11:55+01:00",
           "scheduledTimeUtc": "2021-12-02 10:55Z",
           "terminal": "1"
          },
          "codeshareStatus": "IsCodeshared",
          "departure": {
           "actualTimeLocal": "2021-12-02 10:45+01:00",
           "actualTimeUtc": "2021-12-02 09:45Z",
           "airport": {
            "iata": "FRA",
            "icao": "EDDF",
            "name": "Frankfurt-am-Main"
           },
           "checkInDesk": "263-453",
           "gate": "A",
           "quality": [
            "Basic",
            "Live"
           ],
           "scheduledTimeLocal": "2021-12-02 10:45+01:00",
           "scheduledTimeUtc": "2021-12-02 09:45Z",
           "terminal": "1"
          },
          "isCargo": false,
          "number": "LH 180",
          "status": "Unknown"
         },
         {
          "aircraft": {
           "model": "Bombardier Dash 8 Q400 / DHC-8-400"
          },
          "airline": {
           "name": "LOT - Polish"
          },
          "arrival": {
           "quality": [
            "Basic"
           ],
           "scheduledTimeLocal": "2021-12-02 11:35+01:00",
           "scheduledTimeUtc": "2021-12-02 10:35Z",
           "terminal": "1"
          },
          "codeshareStatus": "Unknown",
          "departure": {
           "actualTimeLocal": "2021-12-02 10:10+01:00",
           "actualTimeUtc": "2021-12-02 09:10Z",
           "airport": {
            "iata": "WAW",
            "icao": "EPWA",
            "name": "Warsaw"
           },
           "checkInDesk": "241-280",
           "quality": [
            "Basic",
            "Live"
           ],
           "scheduledTimeLocal": "2021-12-02 10:10+01:00",
           "scheduledTimeUtc": "2021-12-02 09:10Z",
           "terminal": "E-D"
          },
          "isCargo": false,
          "number": "LO 385",
          "status": "Unknown"
         },
         {
          "aircraft": {
           "model": "Boeing 737-800"
          },
          "airline": {
           "name": "Jet2"
          },
          "arrival": {
           "quality": [
            "Basic"
           ],
           "scheduledTimeLocal": "2021-12-02 11:50+01:00",
           "scheduledTimeUtc": "2021-12-02 10:50Z",
           "terminal": "0"
          },
          "codeshareStatus": "Unknown",
          "departure": {
           "airport": {
            "iata": "NCL",
            "icao": "EGNT",
            "name": "Newcastle upon Tyne"
           },
           "quality": [
            "Basic"
           ],
           "scheduledTimeLocal": "2021-12-02 08:50+00:00",
           "scheduledTimeUtc": "2021-12-02 08:50Z"
          },
          "isCargo": false,
          "number": "LS 4067",
          "status": "Unknown"
         },
         {
          "aircraft": {
           "model": "Airbus A320"
          },
          "airline": {
           "name": "Pegasus"
          },
          "arrival": {
           "quality": [
            "Basic"
           ],
           "scheduledTimeLocal": "2021-12-02 11:00+01:00",
           "scheduledTimeUtc": "2021-12-02 10:00Z",
           "terminal": "0"
          },
          "codeshareStatus": "Unknown",
          "departure": {
           "airport": {
            "iata": "SAW",
            "icao": "LTFJ",
            "name": "Istanbul"
           },
           "quality": [
            "Basic"
           ],
           "scheduledTimeLocal": "2021-12-02 09:55+03:00",
           "scheduledTimeUtc": "2021-12-02 06:55Z"
          },
          "isCargo": false,
          "number": "PC 977",
          "status": "Unknown"
         },
         {
          "aircraft": {
           "model": "Airbus A319"
          },
          "airline": {
           "name": "Brussels"
          },
          "arrival": {
           "quality": [
            "Basic"
           ],
           "scheduledTimeLocal": "2021-12-02 11:15+01:00",
           "scheduledTimeUtc": "2021-12-02 10:15Z",
           "terminal": "1"
          },
          "codeshareStatus": "Unknown",
          "departure": {
           "actualTimeLocal": "2021-12-02 09:45+01:00",
           "actualTimeUtc": "2021-12-02 08:45Z",
           "airport": {
            "iata": "BRU",
            "icao": "EBBR",
            "name": "Brussels"
           },
           "checkInDesk": "02",
           "quality": [
            "Basic",
            "Live"
           ],
           "scheduledTimeLocal": "2021-12-02 09:45+01:00",
           "scheduledTimeUtc": "2021-12-02 08:45Z"
          },
          "isCargo": false,
          "number": "SN 2581",
          "status": "Unknown"
         },
         {
          "aircraft": {
           "model": "Airbus A320"
          },
          "airline": {
           "name": "easyJet"
          },
          "arrival": {
           "quality": [
            "Basic"
           ],
           "scheduledTimeLocal": "2021-12-02 11:20+01:00",
           "scheduledTimeUtc": "2021-12-02 10:20Z",
           "terminal": "1"
          },
          "codeshareStatus": "Unknown",
          "departure": {
           "airport": {
            "iata": "GVA",
            "icao": "LSGG",
            "name": "Geneva"
           },
           "quality": [
            "Basic"
           ],
           "scheduledTimeLocal": "2021-12-02 09:35+01:00",
           "scheduledTimeUtc": "2021-12-02 08:35Z",
           "terminal": "1"
          },
          "isCargo": false,
          "number": "U2 1591",
          "status": "Unknown"
         },
         {
          "aircraft": {
           "model": "Airbus A320"
          },
          "airline": {
           "name": "easyJet"
          },
          "arrival": {
           "quality": [
            "Basic"
           ],
           "scheduledTimeLocal": "2021-12-02 11:25+01:00",
           "scheduledTimeUtc": "2021-12-02 10:25Z",
           "terminal": "1"
          },
          "codeshareStatus": "Unknown",
          "departure": {
           "airport": {
            "iata": "MXP",
            "icao": "LIMC",
            "name": "Milan"
           },
           "quality": [
            "Basic"
           ],
           "scheduledTimeLocal": "2021-12-02 09:35+01:00",
           "scheduledTimeUtc": "2021-12-02 08:35Z",
           "terminal": "1"
          },
          "isCargo": false,
          "number": "U2 4672",
          "status": "Unknown"
         },
         {
          "aircraft": {
           "model": "Airbus A320"
          },
          "airline": {
           "name": "easyJet"
          },
          "arrival": {
           "quality": [
            "Basic"
           ],
           "scheduledTimeLocal": "2021-12-02 11:35+01:00",
           "scheduledTimeUtc": "2021-12-02 10:35Z",
           "terminal": "1"
          },
          "codeshareStatus": "Unknown",
          "departure": {
           "airport": {
            "iata": "CDG",
            "icao": "LFPG",
            "name": "Paris"
           },
           "quality": [
            "Basic"
           ],
           "scheduledTimeLocal": "2021-12-02 09:45+01:00",
           "scheduledTimeUtc": "2021-12-02 08:45Z",
           "terminal": "2D"
          },
          "isCargo": false,
          "number": "U2 5652",
          "status": "Unknown"
         },
         {
          "aircraft": {
           "model": "Airbus A320"
          },
          "airline": {
           "name": "easyJet"
          },
          "arrival": {
           "quality": [
            "Basic"
           ],
           "scheduledTimeLocal": "2021-12-02 11:55+01:00",
           "scheduledTimeUtc": "2021-12-02 10:55Z",
           "terminal": "1"
          },
          "codeshareStatus": "Unknown",
          "departure": {
           "airport": {
            "iata": "LGW",
            "icao": "EGKK",
            "name": "London"
           },
           "quality": [
            "Basic"
           ],
           "scheduledTimeLocal": "2021-12-02 08:55+00:00",
           "scheduledTimeUtc": "2021-12-02 08:55Z",
           "terminal": "N"
          },
          "isCargo": false,
          "number": "U2 8209",
          "status": "Unknown"
         }
        ]
       },
       {
        "arrivals": [
         {
          "aircraft": {
           "model": "Airbus A321"
          },
          "airline": {
           "name": "Finnair"
          },
          "arrival": {
           "quality": [
            "Basic"
           ],
           "scheduledTimeLocal": "2021-12-02 12:20+01:00",
           "scheduledTimeUtc": "2021-12-02 11:20Z",
           "terminal": "1"
          },
          "codeshareStatus": "Unknown",
          "departure": {
           "actualTimeLocal": "2021-12-02 11:20+02:00",
           "actualTimeUtc": "2021-12-02 09:20Z",
           "airport": {
            "iata": "HEL",
            "icao": "EFHK",
            "name": "Helsinki"
           },
           "checkInDesk": "507-517",
           "quality": [
            "Basic",
            "Live"
           ],
           "scheduledTimeLocal": "2021-12-02 11:20+02:00",
           "scheduledTimeUtc": "2021-12-02 09:20Z",
           "terminal": "T2-500"
          },
          "isCargo": false,
          "number": "AY 1433",
          "status": "Unknown"
         },
         {
          "aircraft": {
           "model": "Airbus A319"
          },
          "airline": {
           "name": "Eurowings"
          },
          "arrival": {
           "quality": [
            "Basic"
           ],
           "scheduledTimeLocal": "2021-12-02 12:00+01:00",
           "scheduledTimeUtc": "2021-12-02 11:00Z",
           "terminal": "1"
          },
          "codeshareStatus": "Unknown",
          "departure": {
           "actualTimeLocal": "2021-12-02 10:45+01:00",
           "actualTimeUtc": "2021-12-02 09:45Z",
           "airport": {
            "iata": "DUS",
            "icao": "EDDL",
            "name": "Duesseldorf"
           },
           "checkInDesk": "153,170",
           "gate": "A39",
           "quality": [
            "Basic",
            "Live"
           ],
           "scheduledTimeLocal": "2021-12-02 10:45+01:00",
           "scheduledTimeUtc": "2021-12-02 09:45Z",
           "terminal": "B"
          },
          "isCargo": false,
          "number": "EW 9046",
          "status": "Unknown"
         },
         {
          "aircraft": {
           "model": "Boeing 757-300"
          },
          "airline": {
           "name": "Icelandair"
          },
          "arrival": {
           "quality": [
            "Basic"
           ],
           "scheduledTimeLocal": "2021-12-02 12:10+01:00",
           "scheduledTimeUtc": "2021-12-02 11:10Z",
           "terminal": "1"
          },
          "codeshareStatus": "Unknown",
          "departure": {
           "airport": {
            "iata": "KEF",
            "icao": "BIKF",
            "name": "Reykjavik"
           },
           "quality": [
            "Basic"
           ],
           "scheduledTimeLocal": "2021-12-02 07:40+00:00",
           "scheduledTimeUtc": "2021-12-02 07:40Z"
          },
          "isCargo": false,
          "number": "FI 528",
          "status": "Unknown"
         },
         {
          "aircraft": {
           "model": "Boeing 737-800"
          },
          "airline": {
           "name": "Ryanair"
          },
          "arrival": {
           "quality": [
            "Basic"
           ],
           "scheduledTimeLocal": "2021-12-02 12:25+01:00",
           "scheduledTimeUtc": "2021-12-02 11:25Z"
          },
          "codeshareStatus": "Unknown",
          "departure": {
           "airport": {
            "iata": "TGD",
            "icao": "LYPG",
            "name": "Podgorica"
           },
           "quality": [
            "Basic"
           ],
           "scheduledTimeLocal": "2021-12-02 10:15+01:00",
           "scheduledTimeUtc": "2021-12-02 09:15Z"
          },
          "isCargo": false,
          "number": "FR 1579",
          "status": "Unknown"
         },
         {
          "aircraft": {
           "model": "Boeing 737-800"
          },
          "airline": {
           "name": "Ryanair"
          },
          "arrival": {
           "quality": [
            "Basic"
           ],
           "scheduledTimeLocal": "2021-12-02 12:45+01:00",
           "scheduledTimeUtc": "2021-12-02 11:45Z"
          },
          "codeshareStatus": "Unknown",
          "departure": {
           "airport": {
            "iata": "ATH",
            "icao": "LGAV",
            "name": "Athens"
           },
           "quality": [
            "Basic"
           ],
           "scheduledTimeLocal": "2021-12-02 10:45+02:00",
           "scheduledTimeUtc": "2021-12-02 08:45Z"
          },
          "isCargo": false,
          "number": "FR 171",
          "status": "Unknown"
         },
         {
          "aircraft": {
           "model": "Boeing 737-800"
          },
          "airline": {
           "name": "Ryanair"
          },
          "arrival": {
           "quality": [
            "Basic"
           ],
           "scheduledTimeLocal": "2021-12-02 12:30+01:00",
           "scheduledTimeUtc": "2021-12-02 11:30Z"
          },
          "codeshareStatus": "Unknown",
          "departure": {
           "airport": {
            "iata": "PMI",
            "icao": "LEPA",
            "name": "Palma De Mallorca"
           },
           "quality": [
            "Basic"
           ],
           "scheduledTimeLocal": "2021-12-02 09:35+01:00",
           "scheduledTimeUtc": "2021-12-02 08:35Z"
          },
          "isCargo": false,
          "number": "FR 2146",
          "status": "Unknown"
         },
         {
          "aircraft": {
           "model": "Airbus A320 NEO"
          },
          "airline": {
           "name": "Lufthansa"
          },
          "arrival": {
           "quality": [
            "Basic"
           ],
           "scheduledTimeLocal": "2021-12-02 12:55+01:00",
           "scheduledTimeUtc": "2021-12-02 11:55Z",
           "terminal": "1"
          },
          "codeshareStatus": "IsCodeshared",
          "departure": {
           "actualTimeLocal": "2021-12-02 11:45+01:00",
           "actualTimeUtc": "2021-12-02 10:45Z",
           "airport": {
            "iata": "FRA",
            "icao": "EDDF",
            "name": "Frankfurt-am-Main"
           },
           "quality": [
            "Basic",
            "Live"
           ],
           "scheduledTimeLocal": "2021-12-02 11:45+01:00",
           "scheduledTimeUtc": "2021-12-02 10:45Z",
           "terminal": "1"
          },
          "isCargo": false,
          "number": "LH 182",
          "status": "Unknown"
         },
         {
          "aircraft": {
           "model": "Airbus A320 NEO"
          },
          "airline": {
           "name": "Lufthansa"
          },
          "arrival": {
           "quality": [
            "Basic"
           ],
           "scheduledTimeLocal": "2021-12-02 12:15+01:00",
           "scheduledTimeUtc": "2021-12-02 11:15Z",
           "terminal": "1"
          },
          "codeshareStatus": "IsCodeshared",
          "departure": {
           "airport": {
            "iata": "MUC",
            "icao": "EDDM",
            "name": "Munich"
           },
           "quality": [
            "Basic"
           ],
           "scheduledTimeLocal": "2021-12-02 11:05+01:00",
           "scheduledTimeUtc": "2021-12-02 10:05Z",
           "terminal": "2"
          },
          "isCargo": false,
          "number": "LH 1936",
          "status": "Unknown"
         },
         {
          "aircraft": {
           "model": "Boeing 737-800"
          },
          "airline": {
           "name": "Jet2"
          },
          "arrival": {
           "quality": [
            "Basic"
           ],
           "scheduledTimeLocal": "2021-12-02 12:05+01:00",
           "scheduledTimeUtc": "2021-12-02 11:05Z",
           "terminal": "0"
          },
          "codeshareStatus": "Unknown",
          "departure": {
           "airport": {
            "iata": "LBA",
            "icao": "EGNM",
            "name": "Leeds"
           },
           "quality": [
            "Basic"
           ],
           "scheduledTimeLocal": "2021-12-02 09:00+00:00",
           "scheduledTimeUtc": "2021-12-02 09:00Z"
          },
          "isCargo": false,
          "number": "LS 471",
          "status": "Unknown"
         },
         {
          "aircraft": {
           "model": "Boeing 737-800"
          },
          "airline": {
           "name": "UIA"
          },
          "arrival": {
           "quality": [
            "Basic"
           ],
           "scheduledTimeLocal": "2021-12-02 12:05+01:00",
           "scheduledTimeUtc": "2021-12-02 11:05Z",
           "terminal": "1"
          },
          "codeshareStatus": "Unknown",
          "departure": {
           "actualTimeLocal": "2021-12-02 10:55+02:00",
           "actualTimeUtc": "2021-12-02 08:55Z",
           "airport": {
            "iata": "KBP",
            "icao": "UKBB",
            "name": "Kiev"
           },
           "quality": [
            "Basic",
            "Live"
           ],
           "scheduledTimeLocal": "2021-12-02 10:55+02:00",
           "scheduledTimeUtc": "2021-12-02 08:55Z",
           "terminal": "D"
          },
          "isCargo": false,
          "number": "PS 423",
          "status": "Unknown"
         },
         {
          "aircraft": {
           "model": "Boeing 787-9"
          },
          "airline": {
           "name": "Qatar Airways"
          },
          "arrival": {
           "quality": [
            "Basic"
           ],
           "scheduledTimeLocal": "2021-12-02 12:40+01:00",
           "scheduledTimeUtc": "2021-12-02 11:40Z",
           "terminal": "1"
          },
          "codeshareStatus": "Unknown",
          "departure": {
           "airport": {
            "iata": "DOH",
            "icao": "OTHH",
            "name": "Doha"
           },
           "quality": [
            "Basic"
           ],
           "scheduledTimeLocal": "2021-12-02 08:20+03:00",
           "scheduledTimeUtc": "2021-12-02 05:20Z"
          },
          "isCargo": false,
          "number": "QR 81",
          "status": "Unknown"
         },
         {
          "aircraft": {
           "model": "Airbus A320 NEO"
          },
          "airline": {
           "name": "SAS"
          },
          "arrival": {
           "quality": [
            "Basic"
           ],
           "scheduledTimeLocal": "2021-12-02 12:55+01:00",
           "scheduledTimeUtc": "2021-12-02 11:55Z",
           "terminal": "1"
          },
          "codeshareStatus": "Unknown",
          "departure": {
           "airport": {
            "iata": "OSL",
            "icao": "ENGM",
            "name": "Oslo"
           },
           "checkInDesk": "23",
           "quality": [
            "Basic"
           ],
           "scheduledTimeLocal": "2021-12-02 11:15+01:00",
           "scheduledTimeUtc": "2021-12-02 10:15Z"
          },
          "isCargo": false,
          "number": "SK 4723",
          "status": "Unknown"
         },
         {
          "aircraft": {
           "model": "Boeing 737-800"
          },
          "airline": {
           "name": "Aeroflot"
          },
          "arrival": {
           "quality": [
            "Basic"
           ],
           "scheduledTimeLocal": "2021-12-02 12:55+01:00",
           "scheduledTimeUtc": "2021-12-02 11:55Z",
           "terminal": "1"
          },
          "codeshareStatus": "IsOperator",
          "departure": {
           "actualTimeLocal": "2021-12-02 12:00+03:00",
           "actualTimeUtc": "2021-12-02 09:00Z",
           "airport": {
            "iata": "SVO",
            "icao": "UUEE",
            "name": "Moscow"
           },
           "quality": [
            "Basic",
            "Live"
           ],
           "scheduledTimeLocal": "2021-12-02 12:00+03:00",
           "scheduledTimeUtc": "2021-12-02 09:00Z",
           "terminal": "C"
          },
          "isCargo": false,
          "number": "SU 2662",
          "status": "Unknown"
         },
         {
          "aircraft": {
           "model": "Boeing 737-800"
          },
          "airline": {
           "name": "Turkish"
          },
          "arrival": {
           "quality": [
            "Basic"
           ],
           "scheduledTimeLocal": "2021-12-02 12:30+01:00",
           "scheduledTimeUtc": "2021-12-02 11:30Z",
           "terminal": "1"
          },
          "codeshareStatus": "Unknown",
          "departure": {
           "airport": {
            "iata": "SAW",
            "icao": "LTFJ",
            "name": "Istanbul"
           },
           "quality": [
            "Basic"
           ],
           "scheduledTimeLocal": "2021-12-02 11:30+03:00",
           "scheduledTimeUtc": "2021-12-02 08:30Z"
          },
          "isCargo": false,
          "number": "TK 7728",
          "status": "Unknown"
         },
         {
          "aircraft": {
           "model": "Boeing 737-800"
          },
          "airline": {
           "name": "SunExpress"
          },
          "arrival": {
           "quality": [
            "Basic"
           ],
           "scheduledTimeLocal": "2021-12-02 12:35+01:00",
           "scheduledTimeUtc": "2021-12-02 11:35Z",
           "terminal": "1"
          },
          "codeshareStatus": "Unknown",
          "departure": {
           "actualTimeLocal": "2021-12-02 11:00+03:00",
           "actualTimeUtc": "2021-12-02 08:00Z",
           "airport": {
            "iata": "AYT",
            "icao": "LTAI",
            "name": "Antalya"
           },
           "quality": [
            "Basic",
            "Live"
           ],
           "scheduledTimeLocal": "2021-12-02 11:00+03:00",
           "scheduledTimeUtc": "2021-12-02 08:00Z",
           "terminal": "1"
          },
          "isCargo": false,
          "number": "XQ 160",
          "status": "Unknown"
         },
         {
          "aircraft": {
           "model": "Boeing 737-800"
          },
          "airline": {
           "name": "Israir"
          },
          "arrival": {
           "quality": [
            "Basic"
           ],
           "scheduledTimeLocal": "2021-12-02 13:35+01:00",
           "scheduledTimeUtc": "2021-12-02 12:35Z",
           "terminal": "0"
          },
          "codeshareStatus": "Unknown",
          "departure": {
           "airport": {
            "iata": "TLV",
            "icao": "LLBG",
            "name": "Tel Aviv Yafo"
           },
           "quality": [
            "Basic"
           ],
           "scheduledTimeLocal": "2021-12-02 10:10+02:00",
           "scheduledTimeUtc": "2021-12-02 08:10Z",
           "terminal": "3"
          },
          "isCargo": false,
          "number": "6H 253",
          "status": "Unknown"
         },
         {
          "aircraft": {
           "model": "Airbus A320"
          },
          "airline": {
           "name": "Eurowings"
          },
          "arrival": {
           "quality": [
            "Basic"
           ],
           "scheduledTimeLocal": "2021-12-02 13:25+01:00",
           "scheduledTimeUtc": "2021-12-02 12:25Z",
           "terminal": "1"
          },
          "codeshareStatus": "Unknown",
          "departure": {
           "actualTimeLocal": "2021-12-02 12:05+01:00",
           "actualTimeUtc": "2021-12-02 11:05Z",
           "airport": {
            "iata": "STR",
            "icao": "EDDS",
            "name": "Stuttgart"
           },
           "gate": "140",
           "quality": [
            "Basic",
            "Live"
           ],
           "scheduledTimeLocal": "2021-12-02 12:05+01:00",
           "scheduledTimeUtc": "2021-12-02 11:05Z",
           "terminal": "1"
          },
          "isCargo": false,
          "number": "EW 8003",
          "status": "Unknown"
         },
         {
          "aircraft": {
           "model": "Airbus A320"
          },
          "airline": {
           "name": "Eurowings"
          },
          "arrival": {
           "quality": [
            "Basic"
           ],
           "scheduledTimeLocal": "2021-12-02 13:15+01:00",
           "scheduledTimeUtc": "2021-12-02 12:15Z",
           "terminal": "1"
          },
          "codeshareStatus": "Unknown",
          "departure": {
           "airport": {
            "iata": "CGN",
            "icao": "EDDK",
            "name": "Cologne"
           },
           "quality": [
            "Basic"
           ],
           "scheduledTimeLocal": "2021-12-02 12:05+01:00",
           "scheduledTimeUtc": "2021-12-02 11:05Z",
           "terminal": "1"
          },
          "isCargo": false,
          "number": "EW 8051",
          "status": "Unknown"
         },
         {
          "aircraft": {
           "model": "Boeing 737-800"
          },
          "airline": {
           "name": "Ryanair"
          },
          "arrival": {
           "quality": [
            "Basic"
           ],
           "scheduledTimeLocal": "2021-12-02 13:40+01:00",
           "scheduledTimeUtc": "2021-12-02 12:40Z"
          },
          "codeshareStatus": "Unknown",
          "departure": {
           "airport": {
            "iata": "KIR",
            "icao": "EIKY",
            "name": "Killarney"
           },
           "quality": [
            "Basic"
           ],
           "scheduledTimeLocal": "2021-12-02 10:10+00:00",
           "scheduledTimeUtc": "2021-12-02 10:10Z"
          },
          "isCargo": false,
          "number": "FR 1710",
          "status": "Unknown"
         },
         {
          "aircraft": {
           "model": "Boeing 737-800"
          },
          "airline": {
           "name": "Ryanair"
          },
          "arrival": {
           "quality": [
            "Basic"
           ],
           "scheduledTimeLocal": "2021-12-02 13:35+01:00",
           "scheduledTimeUtc": "2021-12-02 12:35Z"
          },
          "codeshareStatus": "Unknown",
          "departure": {
           "airport": {
            "iata": "STN",
            "icao": "EGSS",
            "name": "London"
           },
           "quality": [
            "Basic"
           ],
           "scheduledTimeLocal": "2021-12-02 10:45+00:00",
           "scheduledTimeUtc": "2021-12-02 10:45Z"
          },
          "isCargo": false,
          "number": "FR 176",
          "status": "Unknown"
         },
         {
          "aircraft": {
           "model": "Boeing 737-800"
          },
          "airline": {
           "name": "Ryanair"
          },
          "arrival": {
           "quality": [
            "Basic"
           ],
           "scheduledTimeLocal": "2021-12-02 13:10+01:00",
           "scheduledTimeUtc": "2021-12-02 12:10Z"
          },
          "codeshareStatus": "Unknown",
          "departure": {
           "airport": {
            "iata": "DUB",
            "icao": "EIDW",
            "name": "Dublin"
           },
           "quality": [
            "Basic"
           ],
           "scheduledTimeLocal": "2021-12-02 09:50+00:00",
           "scheduledTimeUtc": "2021-12-02 09:50Z"
          },
          "isCargo": false,
          "number": "FR 8556",
          "status": "Unknown"
         },
         {
          "aircraft": {
           "model": "Boeing 737-800"
          },
          "airline": {
           "name": "Ryanair"
          },
          "arrival": {
           "quality": [
            "Basic"
           ],
           "scheduledTimeLocal": "2021-12-02 13:55+01:00",
           "scheduledTimeUtc": "2021-12-02 12:55Z"
          },
          "codeshareStatus": "Unknown",
          "departure": {
           "airport": {
            "iata": "MXP",
            "icao": "LIMC",
            "name": "Milan"
           },
           "quality": [
            "Basic"
           ],
           "scheduledTimeLocal": "2021-12-02 12:15+01:00",
           "scheduledTimeUtc": "2021-12-02 11:15Z"
          },
          "isCargo": false,
          "number": "FR 9",
          "status": "Unknown"
         },
         {
          "aircraft": {
           "model": "Airbus A320 NEO"
          },
          "airline": {
           "name": "SAS"
          },
          "arrival": {
           "quality": [
            "Basic"
           ],
           "scheduledTimeLocal": "2021-12-02 13:00+01:00",
           "scheduledTimeUtc": "2021-12-02 12:00Z",
           "terminal": "1"
          },
          "codeshareStatus": "Unknown",
          "departure": {
           "airport": {
            "iata": "CPH",
            "icao": "EKCH",
            "name": "Copenhagen"
           },
           "quality": [
            "Basic"
           ],
           "scheduledTimeLocal": "2021-12-02 12:05+01:00",
           "scheduledTimeUtc": "2021-12-02 11:05Z",
           "terminal": "3"
          },
          "isCargo": false,
          "number": "SK 1673",
          "status": "Unknown"
         },
         {
          "aircraft": {
           "model": "Airbus A321"
          },
          "airline": {
           "name": "Turkish"
          },
          "arrival": {
           "quality": [
            "Basic"
           ],
           "scheduledTimeLocal": "2021-12-02 13:30+01:00",
           "scheduledTimeUtc": "2021-12-02 12:30Z",
           "terminal": "1"
          },
          "codeshareStatus": "Unknown",
          "departure": {
           "airport": {
            "iata": "IST",
            "icao": "LTFM",
            "name": "Istanbul"
           },
           "quality": [
            "Basic"
           ],
           "scheduledTimeLocal": "2021-12-02 12:40+03:00",
           "scheduledTimeUtc": "2021-12-02 09:40Z"
          },
          "isCargo": false,
          "number": "TK 1725",
          "status": "Unknown"
         },
         {
          "aircraft": {
           "model": "Airbus A320"
          },
          "airline": {
           "name": "easyJet"
          },
          "arrival": {
           "quality": [
            "Basic"
           ],
           "scheduledTimeLocal": "2021-12-02 13:55+01:00",
           "scheduledTimeUtc": "2021-12-02 12:55Z",
           "terminal": "1"
          },
          "codeshareStatus": "Unknown",
          "departure": {
           "airport": {
            "iata": "BCN",
            "icao": "LEBL",
            "name": "Barcelona"
           },
           "quality": [
            "Basic"
           ],
           "scheduledTimeLocal": "2021-12-02 11:05+01:00",
           "scheduledTimeUtc": "2021-12-02 10:05Z",
           "terminal": "2"
          },
          "isCargo": false,
          "number": "U2 5122",
          "status": "Unknown"
         },
         {
          "aircraft": {
           "model": "Airbus A320"
          },
          "airline": {
           "name": "easyJet"
          },
          "arrival": {
           "quality": [
            "Basic"
           ],
           "scheduledTimeLocal": "2021-12-02 13:10+01:00",
           "scheduledTimeUtc": "2021-12-02 12:10Z",
           "terminal": "1"
          },
          "codeshareStatus": "Unknown",
          "departure": {
           "airport": {
            "iata": "NAP",
            "icao": "LIRN",
            "name": "Nápoli"
           },
           "quality": [
            "Basic"
           ],
           "scheduledTimeLocal": "2021-12-02 10:50+01:00",
           "scheduledTimeUtc": "2021-12-02 09:50Z"
          },
          "isCargo": false,
          "number": "U2 5142",
          "status": "Unknown"
         },
         {
          "aircraft": {
           "model": "Airbus A320"
          },
          "airline": {
           "name": "easyJet"
          },
          "arrival": {
           "quality": [
            "Basic"
           ],
           "scheduledTimeLocal": "2021-12-02 13:05+01:00",
           "scheduledTimeUtc": "2021-12-02 12:05Z",
           "terminal": "1"
          },
          "codeshareStatus": "Unknown",
          "departure": {
           "airport": {
            "iata": "CTA",
            "icao": "LICC",
            "name": "Catania"
           },
           "quality": [
            "Basic"
           ],
           "scheduledTimeLocal": "2021-12-02 10:10+01:00",
           "scheduledTimeUtc": "2021-12-02 09:10Z"
          },
          "isCargo": false,
          "number": "U2 5694",
          "status": "Unknown"
         },
         {
          "aircraft": {
           "model": "Airbus A319"
          },
          "airline": {
           "name": "Air France"
          },
          "arrival": {
           "quality": [
            "Basic"
           ],
           "scheduledTimeLocal": "2021-12-02 14:30+01:00",
           "scheduledTimeUtc": "2021-12-02 13:30Z",
           "terminal": "1"
          },
          "codeshareStatus": "Unknown",
          "departure": {
           "airport": {
            "iata": "CDG",
            "icao": "LFPG",
            "name": "Paris"
           },
           "quality": [
            "Basic"
           ],
           "scheduledTimeLocal": "2021-12-02 12:45+01:00",
           "scheduledTimeUtc": "2021-12-02 11:45Z",
           "terminal": "2F"
          },
          "isCargo": false,
          "number": "AF 1234",
          "status": "Unknown"
         },
         {
          "aircraft": {
           "model": "Airbus A220-300"
          },
          "airline": {
           "name": "Air Baltic"
          },
          "arrival": {
           "quality": [
            "Basic"
           ],
           "scheduledTimeLocal": "2021-12-02 14:25+01:00",
           "scheduledTimeUtc": "2021-12-02 13:25Z",
           "terminal": "1"
          },
          "codeshareStatus": "Unknown",
          "departure": {
           "airport": {
            "name": "Tallin"
           },
           "quality": []
          },
          "isCargo": false,
          "number": "BT 821",
          "status": "Unknown"
         },
         {
          "aircraft": {
           "model": "Embraer 190"
          },
          "airline": {
           "name": "Pegas Fly"
          },
          "arrival": {
           "quality": [
            "Basic"
           ],
           "scheduledTimeLocal": "2021-12-02 14:45+01:00",
           "scheduledTimeUtc": "2021-12-02 13:45Z",
           "terminal": "1"
          },
          "codeshareStatus": "Unknown",
          "departure": {
           "actualTimeLocal": "2021-12-02 14:25+03:00",
           "actualTimeUtc": "2021-12-02 11:25Z",
           "airport": {
            "iata": "LED",
            "icao": "ULLI",
            "name": "Saint-Petersburg"
           },
           "checkInDesk": "A401-A402",
           "quality": [
            "Basic",
            "Live"
           ],
           "scheduledTimeLocal": "2021-12-02 14:25+03:00",
           "scheduledTimeUtc": "2021-12-02 11:25Z",
           "terminal": "1"
          },
          "isCargo": false,
          "number": "EO 1909",
          "status": "Unknown"
         },
         {
          "aircraft": {
           "model": "Airbus A319"
          },
          "airline": {
           "name": "Eurowings"
          },
          "arrival": {
           "quality": [
            "Basic"
           ],
           "scheduledTimeLocal": "2021-12-02 14:35+01:00",
           "scheduledTimeUtc": "2021-12-02 13:35Z",
           "terminal": "1"
          },
          "codeshareStatus": "Unknown",
          "departure": {
           "airport": {
            "iata": "CGN",
            "icao": "EDDK",
            "name": "Cologne"
           },
           "quality": [
            "Basic"
           ],
           "scheduledTimeLocal": "2021-12-02 13:25+01:00",
           "scheduledTimeUtc": "2021-12-02 12:25Z",
           "terminal": "1"
          },
          "isCargo": false,
          "number": "EW 8",
          "status": "Unknown"
         },
         {
          "aircraft": {
           "model": "Boeing 737-800"
          },
          "airline": {
           "name": "Ryanair"
          },
          "arrival": {
           "quality": [
            "Basic"
           ],
           "scheduledTimeLocal": "2021-12-02 14:05+01:00",
           "scheduledTimeUtc": "2021-12-02 13:05Z"
          },
          "codeshareStatus": "Unknown",
          "departure": {
           "airport": {
            "iata": "STN",
            "icao": "EGSS",
            "name": "London"
           },
           "quality": [
            "Basic"
           ],
           "scheduledTimeLocal": "2021-12-02 11:15+00:00",
           "scheduledTimeUtc": "2021-12-02 11:15Z"
          },
          "isCargo": false,
          "number": "FR 8542",
          "status": "Unknown"
         },
         {
          "aircraft": {
           "model": "Airbus A320 NEO"
          },
          "airline": {
           "name": "Lufthansa"
          },
          "arrival": {
           "quality": [
            "Basic"
           ],
           "scheduledTimeLocal": "2021-12-02 14:55+01:00",
           "scheduledTimeUtc": "2021-12-02 13:55Z",
           "terminal": "1"
          },
          "codeshareStatus": "IsCodeshared",
          "departure": {
           "actualTimeLocal": "2021-12-02 13:45+01:00",
           "actualTimeUtc": "2021-12-02 12:45Z",
           "airport": {
            "iata": "FRA",
            "icao": "EDDF",
            "name": "Frankfurt-am-Main"
           },
           "quality": [
            "Basic",
            "Live"
           ],
           "scheduledTimeLocal": "2021-12-02 13:45+01:00",
           "scheduledTimeUtc": "2021-12-02 12:45Z",
           "terminal": "1"
          },
          "isCargo": false,
          "number": "LH 186",
          "status": "Unknown"
         },
         {
          "aircraft": {
           "model": "Airbus A320 NEO"
          },
          "airline": {
           "name": "SWISS"
          },
          "arrival": {
           "quality": [
            "Basic"
           ],
           "scheduledTimeLocal": "2021-12-02 14:00+01:00",
           "scheduledTimeUtc": "2021-12-02 13:00Z",
           "terminal": "1"
          },
          "codeshareStatus": "Unknown",
          "departure": {
           "actualTimeLocal": "2021-12-02 12:35+01:00",
           "actualTimeUtc": "2021-12-02 11:35Z",
           "airport": {
            "iata": "ZRH",
            "icao": "LSZH",
            "name": "Zurich"
           },
           "checkInDesk": "1",
           "quality": [
            "Basic",
            "Live"
           ],
           "scheduledTimeLocal": "2021-12-02 12:35+01:00",
           "scheduledTimeUtc": "2021-12-02 11:35Z"
          },
          "isCargo": false,
          "number": "LX 966",
          "status": "Unknown"
         },
         {
          "aircraft": {
           "model": "Airbus A321"
          },
          "airline": {
           "name": "Austrian"
          },
          "arrival": {
           "quality": [
            "Basic"
           ],
           "scheduledTimeLocal": "2021-12-02 14:20+01:00",
           "scheduledTimeUtc": "2021-12-02 13:20Z",
           "terminal": "1"
          },
          "codeshareStatus": "Unknown",
          "departure": {
           "airport": {
            "name": "Vienna"
           },
           "quality": []
          },
          "isCargo": false,
          "number": "OS 229",
          "status": "Unknown"
         },
         {
          "aircraft": {
           "model": "Airbus A320"
          },
          "airline": {
           "name": "easyJet"
          },
          "arrival": {
           "quality": [
            "Basic"
           ],
           "scheduledTimeLocal": "2021-12-02 14:35+01:00",
           "scheduledTimeUtc": "2021-12-02 13:35Z",
           "terminal": "1"
          },
          "codeshareStatus": "Unknown",
          "departure": {
           "airport": {
            "iata": "ORY",
            "icao": "LFPO",
            "name": "Paris"
           },
           "quality": [
            "Basic"
           ],
           "scheduledTimeLocal": "2021-12-02 12:50+01:00",
           "scheduledTimeUtc": "2021-12-02 11:50Z",
           "terminal": "1"
          },
          "isCargo": false,
          "number": "U2 5536",
          "status": "Unknown"
         },
         {
          "aircraft": {
           "model": "Airbus A320"
          },
          "airline": {
           "name": "Vueling"
          },
          "arrival": {
           "quality": [
            "Basic"
           ],
           "scheduledTimeLocal": "2021-12-02 14:20+01:00",
           "scheduledTimeUtc": "2021-12-02 13:20Z",
           "terminal": "1"
          },
          "codeshareStatus": "Unknown",
          "departure": {
           "actualTimeLocal": "2021-12-02 11:40+01:00",
           "actualTimeUtc": "2021-12-02 10:40Z",
           "airport": {
            "iata": "BCN",
            "icao": "LEBL",
            "name": "Barcelona"
           },
           "quality": [
            "Basic",
            "Live"
           ],
           "scheduledTimeLocal": "2021-12-02 11:40+01:00",
           "scheduledTimeUtc": "2021-12-02 10:40Z",
           "terminal": "1"
          },
          "isCargo": false,
          "number": "VY 1882",
          "status": "Unknown"
         },
         {
          "aircraft": {
           "model": "Embraer 190"
          },
          "airline": {
           "name": "British Airways"
          },
          "arrival": {
           "quality": [
            "Basic"
           ],
           "scheduledTimeLocal": "2021-12-02 15:55+01:00",
           "scheduledTimeUtc": "2021-12-02 14:55Z",
           "terminal": "1"
          },
          "codeshareStatus": "IsCodeshared",
          "departure": {
           "airport": {
            "iata": "LCY",
            "icao": "EGLC",
            "name": "London"
           },
           "quality": [
            "Basic"
           ],
           "scheduledTimeLocal": "2021-12-02 13:15+00:00",
           "scheduledTimeUtc": "2021-12-02 13:15Z"
          },
          "isCargo": false,
          "number": "BA 8493",
          "status": "Unknown"
         },
         {
          "aircraft": {
           "model": "Airbus A319"
          },
          "airline": {
           "name": "Eurowings"
          },
          "arrival": {
           "quality": [
            "Basic"
           ],
           "scheduledTimeLocal": "2021-12-02 15:45+01:00",
           "scheduledTimeUtc": "2021-12-02 14:45Z",
           "terminal": "1"
          },
          "codeshareStatus": "Unknown",
          "departure": {
           "actualTimeLocal": "2021-12-02 14:25+01:00",
           "actualTimeUtc": "2021-12-02 13:25Z",
           "airport": {
            "iata": "STR",
            "icao": "EDDS",
            "name": "Stuttgart"
           },
           "gate": "156",
           "quality": [
            "Basic",
            "Live"
           ],
           "scheduledTimeLocal": "2021-12-02 14:25+01:00",
           "scheduledTimeUtc": "2021-12-02 13:25Z",
           "terminal": "1"
          },
          "isCargo": false,
          "number": "EW 2004",
          "status": "Unknown"
         },
         {
          "aircraft": {
           "model": "Boeing 737-800"
          },
          "airline": {
           "name": "Ryanair"
          },
          "arrival": {
           "quality": [
            "Basic"
           ],
           "scheduledTimeLocal": "2021-12-02 15:35+01:00",
           "scheduledTimeUtc": "2021-12-02 14:35Z"
          },
          "codeshareStatus": "Unknown",
          "departure": {
           "airport": {
            "iata": "MAN",
            "icao": "EGCC",
            "name": "Manchester"
           },
           "quality": [
            "Basic"
           ],
           "scheduledTimeLocal": "2021-12-02 12:40+00:00",
           "scheduledTimeUtc": "2021-12-02 12:40Z"
          },
          "isCargo": false,
          "number": "FR 1145",
          "status": "Unknown"
         },
         {
          "aircraft": {
           "model": "Boeing 737-800"
          },
          "airline": {
           "name": "Ryanair"
          },
          "arrival": {
           "quality": [
            "Basic"
           ],
           "scheduledTimeLocal": "2021-12-02 15:05+01:00",
           "scheduledTimeUtc": "2021-12-02 14:05Z"
          },
          "codeshareStatus": "Unknown",
          "departure": {
           "airport": {
            "iata": "TSF",
            "icao": "LIPH",
            "name": "Treviso"
           },
           "quality": [
            "Basic"
           ],
           "scheduledTimeLocal": "2021-12-02 13:30+01:00",
           "scheduledTimeUtc": "2021-12-02 12:30Z"
          },
          "isCargo": false,
          "number": "FR 4721",
          "status": "Unknown"
         },
         {
          "aircraft": {
           "model": "Boeing 737-800"
          },
          "airline": {
           "name": "Ryanair"
          },
          "arrival": {
           "quality": [
            "Basic"
           ],
           "scheduledTimeLocal": "2021-12-02 15:30+01:00",
           "scheduledTimeUtc": "2021-12-02 14:30Z"
          },
          "codeshareStatus": "Unknown",
          "departure": {
           "airport": {
            "iata": "TLV",
            "icao": "LLBG",
            "name": "Tel Aviv Yafo"
           },
           "quality": [
            "Basic"
           ],
           "scheduledTimeLocal": "2021-12-02 12:15+02:00",
           "scheduledTimeUtc": "2021-12-02 10:15Z"
          },
          "isCargo": false,
          "number": "FR 6473",
          "status": "Unknown"
         },
         {
          "aircraft": {
           "model": "Airbus A320"
          },
          "airline": {
           "name": "Lufthansa"
          },
          "arrival": {
           "quality": [
            "Basic"
           ],
           "scheduledTimeLocal": "2021-12-02 15:55+01:00",
           "scheduledTimeUtc": "2021-12-02 14:55Z",
           "terminal": "1"
          },
          "codeshareStatus": "IsCodeshared",
          "departure": {
           "actualTimeLocal": "2021-12-02 14:45+01:00",
           "actualTimeUtc": "2021-12-02 13:45Z",
           "airport": {
            "iata": "FRA",
            "icao": "EDDF",
            "name": "Frankfurt-am-Main"
           },
           "quality": [
            "Basic",
            "Live"
           ],
           "scheduledTimeLocal": "2021-12-02 14:45+01:00",
           "scheduledTimeUtc": "2021-12-02 13:45Z",
           "terminal": "1"
          },
          "isCargo": false,
          "number": "LH 188",
          "status": "Unknown"
         },
         {
          "aircraft": {
           "model": "Airbus A320"
          },
          "airline": {
           "name": "Lufthansa"
          },
          "arrival": {
           "quality": [
            "Basic"
           ],
           "scheduledTimeLocal": "2021-12-02 15:25+01:00",
           "scheduledTimeUtc": "2021-12-02 14:25Z",
           "terminal": "1"
          },
          "codeshareStatus": "IsCodeshared",
          "departure": {
           "airport": {
            "iata": "MUC",
            "icao": "EDDM",
            "name": "Munich"
           },
           "quality": [
            "Basic"
           ],
           "scheduledTimeLocal": "2021-12-02 14:15+01:00",
           "scheduledTimeUtc": "2021-12-02 13:15Z",
           "terminal": "2"
          },
          "isCargo": false,
          "number": "LH 1944",
          "status": "Unknown"
         },
         {
          "aircraft": {
           "model": "Airbus A319"
          },
          "airline": {
           "name": "easyJet"
          },
          "arrival": {
           "quality": [
            "Basic"
           ],
           "scheduledTimeLocal": "2021-12-02 15:50+01:00",
           "scheduledTimeUtc": "2021-12-02 14:50Z",
           "terminal": "1"
          },
          "codeshareStatus": "Unknown",
          "departure": {
           "airport": {
            "iata": "LIN",
            "icao": "LIML",
            "name": "Milan"
           },
           "quality": [
            "Basic"
           ],
           "scheduledTimeLocal": "2021-12-02 14:00+01:00",
           "scheduledTimeUtc": "2021-12-02 13:00Z"
          },
          "isCargo": false,
          "number": "U2 4662",
          "status": "Unknown"
         },
         {
          "aircraft": {
           "model": "Airbus A320"
          },
          "airline": {
           "name": "easyJet"
          },
          "arrival": {
           "quality": [
            "Basic"
           ],
           "scheduledTimeLocal": "2021-12-02 15:30+01:00",
           "scheduledTimeUtc": "2021-12-02 14:30Z",
           "terminal": "1"
          },
          "codeshareStatus": "Unknown",
          "departure": {
           "airport": {
            "iata": "AGP",
            "icao": "LEMG",
            "name": "Málaga"
           },
           "quality": [
            "Basic"
           ],
           "scheduledTimeLocal": "2021-12-02 11:50+01:00",
           "scheduledTimeUtc": "2021-12-02 10:50Z"
          },
          "isCargo": false,
          "number": "U2 5914",
          "status": "Unknown"
         },
         {
          "aircraft": {
           "model": "Airbus A320"
          },
          "airline": {
           "name": "Wizz Air"
          },
          "arrival": {
           "quality": [
            "Basic"
           ],
           "scheduledTimeLocal": "2021-12-02 15:30+01:00",
           "scheduledTimeUtc": "2021-12-02 14:30Z",
           "terminal": "0"
          },
          "codeshareStatus": "Unknown",
          "departure": {
           "actualTimeLocal": "2021-12-02 14:00+01:00",
           "actualTimeUtc": "2021-12-02 13:00Z",
           "airport": {
            "iata": "BUD",
            "icao": "LHBP",
            "name": "Budapest"
           },
           "quality": [
            "Basic",
            "Live"
           ],
           "scheduledTimeLocal": "2021-12-02 14:00+01:00",
           "scheduledTimeUtc": "2021-12-02 13:00Z",
           "terminal": "2B"
          },
          "isCargo": false,
          "number": "W6 2315",
          "status": "Unknown"
         },
         {
          "aircraft": {
           "model": "Boeing 737-800"
          },
          "airline": {
           "name": "Ryanair"
          },
          "arrival": {
           "quality": [
            "Basic"
           ],
           "scheduledTimeLocal": "2021-12-02 16:55+01:00",
           "scheduledTimeUtc": "2021-12-02 15:55Z"
          },
          "codeshareStatus": "Unknown",
          "departure": {
           "actualTimeLocal": "2021-12-02 10:55+00:00",
           "actualTimeUtc": "2021-12-02 10:55Z",
           "airport": {
            "iata": "FUE",
            "icao": "GCFV",
            "name": "Fuerteventura Island"
           },
           "quality": [
            "Basic",
            "Live"
           ],
           "scheduledTimeLocal": "2021-12-02 10:55+00:00",
           "scheduledTimeUtc": "2021-12-02 10:55Z"
          },
          "isCargo": false,
          "number": "FR 1102",
          "status": "Unknown"
         },
         {
          "aircraft": {
           "model": "Boeing 737-800"
          },
          "airline": {
           "name": "Ryanair"
          },
          "arrival": {
           "quality": [
            "Basic"
           ],
           "scheduledTimeLocal": "2021-12-02 16:50+01:00",
           "scheduledTimeUtc": "2021-12-02 15:50Z"
          },
          "codeshareStatus": "Unknown",
          "departure": {
           "actualTimeLocal": "2021-12-02 14:05+01:00",
           "actualTimeUtc": "2021-12-02 13:05Z",
           "airport": {
            "iata": "PMI",
            "icao": "LEPA",
            "name": "Palma De Mallorca"
           },
           "quality": [
            "Basic",
            "Live"
           ],
           "scheduledTimeLocal": "2021-12-02 14:05+01:00",
           "scheduledTimeUtc": "2021-12-02 13:05Z"
          },
          "isCargo": false,
          "number": "FR 111",
          "status": "Unknown"
         },
         {
          "aircraft": {
           "model": "Boeing 737-800"
          },
          "airline": {
           "name": "Ryanair"
          },
          "arrival": {
           "quality": [
            "Basic"
           ],
           "scheduledTimeLocal": "2021-12-02 16:00+01:00",
           "scheduledTimeUtc": "2021-12-02 15:00Z"
          },
          "codeshareStatus": "Unknown",
          "departure": {
           "airport": {
            "iata": "MRS",
            "icao": "LFML",
            "name": "Marseille"
           },
           "quality": [
            "Basic"
           ],
           "scheduledTimeLocal": "2021-12-02 13:55+01:00",
           "scheduledTimeUtc": "2021-12-02 12:55Z"
          },
          "isCargo": false,
          "number": "FR 8950",
          "status": "Unknown"
         },
         {
          "aircraft": {
           "model": "Embraer 190"
          },
          "airline": {
           "name": "KLM"
          },
          "arrival": {
           "quality": [
            "Basic"
           ],
           "scheduledTimeLocal": "2021-12-02 16:40+01:00",
           "scheduledTimeUtc": "2021-12-02 15:40Z",
           "terminal": "1"
          },
          "codeshareStatus": "IsOperator",
          "departure": {
           "airport": {
            "iata": "AMS",
            "icao": "EHAM",
            "name": "Amsterdam"
           },
           "checkInDesk": "5-8",
           "quality": [
            "Basic"
           ],
           "scheduledTimeLocal": "2021-12-02 15:20+01:00",
           "scheduledTimeUtc": "2021-12-02 14:20Z",
           "terminal": "1"
          },
          "isCargo": false,
          "number": "KL 1829",
          "status": "Unknown"
         },
         {
          "aircraft": {
           "model": "Airbus A320 NEO"
          },
          "airline": {
           "name": "Lufthansa"
          },
          "arrival": {
           "quality": [
            "Basic"
           ],
           "scheduledTimeLocal": "2021-12-02 16:55+01:00",
           "scheduledTimeUtc": "2021-12-02 15:55Z",
           "terminal": "1"
          },
          "codeshareStatus": "IsCodeshared",
          "departure": {
           "airport": {
            "iata": "MUC",
            "icao": "EDDM",
            "name": "Munich"
           },
           "quality": [
            "Basic"
           ],
           "scheduledTimeLocal": "2021-12-02 15:45+01:00",
           "scheduledTimeUtc": "2021-12-02 14:45Z",
           "terminal": "2"
          },
          "isCargo": false,
          "number": "LH 1942",
          "status": "Unknown"
         },
         {
          "aircraft": {
           "model": "Airbus A320 NEO"
          },
          "airline": {
           "name": "TAP Air Portugal"
          },
          "arrival": {
           "quality": [
            "Basic"
           ],
           "scheduledTimeLocal": "2021-12-02 16:35+01:00",
           "scheduledTimeUtc": "2021-12-02 15:35Z",
           "terminal": "1"
          },
          "codeshareStatus": "Unknown",
          "departure": {
           "actualTimeLocal": "2021-12-02 12:05+00:00",
           "actualTimeUtc": "2021-12-02 12:05Z",
           "airport": {
            "iata": "LIS",
            "icao": "LPPT",
            "name": "Lisbon"
           },
           "quality": [
            "Basic",
            "Live"
           ],
           "scheduledTimeLocal": "2021-12-02 12:05+00:00",
           "scheduledTimeUtc": "2021-12-02 12:05Z",
           "terminal": "T1"
          },
          "isCargo": false,
          "number": "TP 534",
          "status": "Unknown"
         },
         {
          "aircraft": {
           "model": "Airbus A320"
          },
          "airline": {
           "name": "Air France"
          },
          "arrival": {
           "quality": [
            "Basic"
           ],
           "scheduledTimeLocal": "2021-12-02 17:10+01:00",
           "scheduledTimeUtc": "2021-12-02 16:10Z",
           "terminal": "1"
          },
          "codeshareStatus": "Unknown",
          "departure": {
           "airport": {
            "iata": "CDG",
            "icao": "LFPG",
            "name": "Paris"
           },
           "quality": [
            "Basic"
           ],
           "scheduledTimeLocal": "2021-12-02 15:30+01:00",
           "scheduledTimeUtc": "2021-12-02 14:30Z",
           "terminal": "2F"
          },
          "isCargo": false,
          "number": "AF 1834",
          "status": "Unknown"
         },
         {
          "aircraft": {
           "model": "Airbus A321"
          },
          "airline": {
           "name": "Condor"
          },
          "arrival": {
           "quality": [
            "Basic"
           ],
           "scheduledTimeLocal": "2021-12-02 17:55+01:00",
           "scheduledTimeUtc": "2021-12-02 16:55Z",
           "terminal": "1"
          },
          "codeshareStatus": "Unknown",
          "departure": {
           "airport": {
            "iata": "HRG",
            "icao": "HEGN",
            "name": "Hurghada"
           },
           "quality": [
            "Basic"
           ],
           "scheduledTimeLocal": "2021-12-02 14:00+02:00",
           "scheduledTimeUtc": "2021-12-02 12:00Z",
           "terminal": "1"
          },
          "isCargo": false,
          "number": "DE 433",
          "status": "Unknown"
         },
         {
          "aircraft": {
           "model": "Airbus A320"
          },
          "airline": {
           "name": "Eurowings"
          },
          "arrival": {
           "quality": [
            "Basic"
           ],
           "scheduledTimeLocal": "2021-12-02 17:05+01:00",
           "scheduledTimeUtc": "2021-12-02 16:05Z",
           "terminal": "1"
          },
          "codeshareStatus": "Unknown",
          "departure": {
           "actualTimeLocal": "2021-12-02 15:45+01:00",
           "actualTimeUtc": "2021-12-02 14:45Z",
           "airport": {
            "iata": "STR",
            "icao": "EDDS",
            "name": "Stuttgart"
           },
           "gate": "140",
           "quality": [
            "Basic",
            "Live"
           ],
           "scheduledTimeLocal": "2021-12-02 15:45+01:00",
           "scheduledTimeUtc": "2021-12-02 14:45Z",
           "terminal": "1"
          },
          "isCargo": false,
          "number": "EW 2058",
          "status": "Unknown"
         },
         {
          "aircraft": {
           "model": "Airbus A320"
          },
          "airline": {
           "name": "Eurowings"
          },
          "arrival": {
           "quality": [
            "Basic"
           ],
           "scheduledTimeLocal": "2021-12-02 17:20+01:00",
           "scheduledTimeUtc": "2021-12-02 16:20Z",
           "terminal": "1"
          },
          "codeshareStatus": "Unknown",
          "departure": {
           "airport": {
            "iata": "CGN",
            "icao": "EDDK",
            "name": "Cologne"
           },
           "quality": [
            "Basic"
           ],
           "scheduledTimeLocal": "2021-12-02 16:10+01:00",
           "scheduledTimeUtc": "2021-12-02 15:10Z",
           "terminal": "1"
          },
          "isCargo": false,
          "number": "EW 6",
          "status": "Unknown"
         },
         {
          "aircraft": {
           "model": "Airbus A320"
          },
          "airline": {
           "name": "Eurowings"
          },
          "arrival": {
           "quality": [
            "Basic"
           ],
           "scheduledTimeLocal": "2021-12-02 17:55+01:00",
           "scheduledTimeUtc": "2021-12-02 16:55Z",
           "terminal": "1"
          },
          "codeshareStatus": "Unknown",
          "departure": {
           "airport": {
            "name": "Duesseldorf"
           },
           "quality": []
          },
          "isCargo": false,
          "number": "EW 8045",
          "status": "Unknown"
         },
         {
          "aircraft": {
           "model": "Boeing 737-800"
          },
          "airline": {
           "name": "Ryanair"
          },
          "arrival": {
           "quality": [
            "Basic"
           ],
           "scheduledTimeLocal": "2021-12-02 17:35+01:00",
           "scheduledTimeUtc": "2021-12-02 16:35Z"
          },
          "codeshareStatus": "Unknown",
          "departure": {
           "airport": {
            "iata": "INI",
            "icao": "LYNI",
            "name": "Niš"
           },
           "quality": [
            "Basic"
           ],
           "scheduledTimeLocal": "2021-12-02 15:30+01:00",
           "scheduledTimeUtc": "2021-12-02 14:30Z"
          },
          "isCargo": false,
          "number": "FR 1106",
          "status": "Unknown"
         },
         {
          "aircraft": {
           "model": "Boeing 737-800"
          },
          "airline": {
           "name": "Ryanair"
          },
          "arrival": {
           "quality": [
            "Basic"
           ],
           "scheduledTimeLocal": "2021-12-02 17:00+01:00",
           "scheduledTimeUtc": "2021-12-02 16:00Z"
          },
          "codeshareStatus": "Unknown",
          "departure": {
           "actualTimeLocal": "2021-12-02 14:15+01:00",
           "actualTimeUtc": "2021-12-02 13:15Z",
           "airport": {
            "iata": "BCN",
            "icao": "LEBL",
            "name": "Barcelona"
           },
           "quality": [
            "Basic",
            "Live"
           ],
           "scheduledTimeLocal": "2021-12-02 14:15+01:00",
           "scheduledTimeUtc": "2021-12-02 13:15Z",
           "terminal": "2"
          },
          "isCargo": false,
          "number": "FR 133",
          "status": "Unknown"
         },
         {
          "aircraft": {
           "model": "Boeing 737-800"
          },
          "airline": {
           "name": "Ryanair"
          },
          "arrival": {
           "quality": [
            "Basic"
           ],
           "scheduledTimeLocal": "2021-12-02 17:15+01:00",
           "scheduledTimeUtc": "2021-12-02 16:15Z"
          },
          "codeshareStatus": "Unknown",
          "departure": {
           "actualTimeLocal": "2021-12-02 11:05+00:00",
           "actualTimeUtc": "2021-12-02 11:05Z",
           "airport": {
            "iata": "TFS",
            "icao": "GCTS",
            "name": "Tenerife Island"
           },
           "quality": [
            "Basic",
            "Live"
           ],
           "scheduledTimeLocal": "2021-12-02 11:05+00:00",
           "scheduledTimeUtc": "2021-12-02 11:05Z"
          },
          "isCargo": false,
          "number": "FR 4067",
          "status": "Unknown"
         },
         {
          "aircraft": {
           "model": "Airbus A320"
          },
          "airline": {
           "name": "Lufthansa"
          },
          "arrival": {
           "quality": [
            "Basic"
           ],
           "scheduledTimeLocal": "2021-12-02 17:55+01:00",
           "scheduledTimeUtc": "2021-12-02 16:55Z",
           "terminal": "1"
          },
          "codeshareStatus": "IsCodeshared",
          "departure": {
           "actualTimeLocal": "2021-12-02 16:45+01:00",
           "actualTimeUtc": "2021-12-02 15:45Z",
           "airport": {
            "iata": "FRA",
            "icao": "EDDF",
            "name": "Frankfurt-am-Main"
           },
           "quality": [
            "Basic",
            "Live"
           ],
           "scheduledTimeLocal": "2021-12-02 16:45+01:00",
           "scheduledTimeUtc": "2021-12-02 15:45Z",
           "terminal": "1"
          },
          "isCargo": false,
          "number": "LH 192",
          "status": "Unknown"
         },
         {
          "aircraft": {
           "model": "Bombardier CRJ900"
          },
          "airline": {
           "name": "Lufthansa"
          },
          "arrival": {
           "quality": [
            "Basic"
           ],
           "scheduledTimeLocal": "2021-12-02 17:40+01:00",
           "scheduledTimeUtc": "2021-12-02 16:40Z",
           "terminal": "1"
          },
          "codeshareStatus": "IsCodeshared",
          "departure": {
           "airport": {
            "name": "Munich"
           },
           "quality": []
          },
          "isCargo": false,
          "number": "LH 1946",
          "status": "Unknown"
         },
         {
          "aircraft": {
           "model": "Embraer 175"
          },
          "airline": {
           "name": "LOT - Polish"
          },
          "arrival": {
           "quality": [
            "Basic"
           ],
           "scheduledTimeLocal": "2021-12-02 17:45+01:00",
           "scheduledTimeUtc": "2021-12-02 16:45Z",
           "terminal": "1"
          },
          "codeshareStatus": "Unknown",
          "departure": {
           "airport": {
            "iata": "WAW",
            "icao": "EPWA",
            "name": "Warsaw"
           },
           "quality": [
            "Basic"
           ],
           "scheduledTimeLocal": "2021-12-02 16:20+01:00",
           "scheduledTimeUtc": "2021-12-02 15:20Z"
          },
          "isCargo": false,
          "number": "LO 389",
          "status": "Unknown"
         },
         {
          "aircraft": {
           "model": "Boeing 737"
          },
          "airline": {
           "name": "Neos"
          },
          "arrival": {
           "quality": [
            "Basic"
           ],
           "scheduledTimeLocal": "2021-12-02 17:40+01:00",
           "scheduledTimeUtc": "2021-12-02 16:40Z",
           "terminal": "0"
          },
          "codeshareStatus": "Unknown",
          "departure": {
           "airport": {
            "name": "Milan"
           },
           "quality": []
          },
          "isCargo": false,
          "number": "NO 9070",
          "status": "Unknown"
         },
         {
          "aircraft": {
           "model": "Airbus A320"
          },
          "airline": {
           "name": "Brussels"
          },
          "arrival": {
           "quality": [
            "Basic"
           ],
           "scheduledTimeLocal": "2021-12-02 17:50+01:00",
           "scheduledTimeUtc": "2021-12-02 16:50Z",
           "terminal": "1"
          },
          "codeshareStatus": "Unknown",
          "departure": {
           "actualTimeLocal": "2021-12-02 16:30+01:00",
           "actualTimeUtc": "2021-12-02 15:30Z",
           "airport": {
            "iata": "BRU",
            "icao": "EBBR",
            "name": "Brussels"
           },
           "checkInDesk": "02",
           "quality": [
            "Basic",
            "Live"
           ],
           "scheduledTimeLocal": "2021-12-02 16:30+01:00",
           "scheduledTimeUtc": "2021-12-02 15:30Z"
          },
          "isCargo": false,
          "number": "SN 2587",
          "status": "Unknown"
         },
         {
          "aircraft": {
           "model": "Airbus A321"
          },
          "airline": {
           "name": "Turkish"
          },
          "arrival": {
           "quality": [
            "Basic"
           ],
           "scheduledTimeLocal": "2021-12-02 17:30+01:00",
           "scheduledTimeUtc": "2021-12-02 16:30Z",
           "terminal": "1"
          },
          "codeshareStatus": "Unknown",
          "departure": {
           "airport": {
            "iata": "IST",
            "icao": "LTFM",
            "name": "Istanbul"
           },
           "quality": [
            "Basic"
           ],
           "scheduledTimeLocal": "2021-12-02 16:40+03:00",
           "scheduledTimeUtc": "2021-12-02 13:40Z"
          },
          "isCargo": false,
          "number": "TK 1723",
          "status": "Unknown"
         },
         {
          "aircraft": {
           "model": "Airbus A320"
          },
          "airline": {
           "name": "easyJet"
          },
          "arrival": {
           "quality": [
            "Basic"
           ],
           "scheduledTimeLocal": "2021-12-02 17:50+01:00",
           "scheduledTimeUtc": "2021-12-02 16:50Z",
           "terminal": "1"
          },
          "codeshareStatus": "Unknown",
          "departure": {
           "airport": {
            "iata": "HRG",
            "icao": "HEGN",
            "name": "Hurghada"
           },
           "quality": [
            "Basic"
           ],
           "scheduledTimeLocal": "2021-12-02 13:40+02:00",
           "scheduledTimeUtc": "2021-12-02 11:40Z",
           "terminal": "1"
          },
          "isCargo": false,
          "number": "U2 5788",
          "status": "Unknown"
         },
         {
          "aircraft": {
           "model": "Airbus A321"
          },
          "airline": {
           "name": "Finnair"
          },
          "arrival": {
           "quality": [
            "Basic"
           ],
           "scheduledTimeLocal": "2021-12-02 18:25+01:00",
           "scheduledTimeUtc": "2021-12-02 17:25Z",
           "terminal": "1"
          },
          "codeshareStatus": "Unknown",
          "departure": {
           "actualTimeLocal": "2021-12-02 17:25+02:00",
           "actualTimeUtc": "2021-12-02 15:25Z",
           "airport": {
            "iata": "HEL",
            "icao": "EFHK",
            "name": "Helsinki"
           },
           "checkInDesk": "507-517",
           "quality": [
            "Basic",
            "Live"
           ],
           "scheduledTimeLocal": "2021-12-02 17:25+02:00",
           "scheduledTimeUtc": "2021-12-02 15:25Z",
           "terminal": "T2-500"
          },
          "isCargo": false,
          "number": "AY 1435",
          "status": "Unknown"
         },
         {
          "aircraft": {
           "model": "Airbus A320"
          },
          "airline": {
           "name": "British Airways"
          },
          "arrival": {
           "quality": [
            "Basic"
           ],
           "scheduledTimeLocal": "2021-12-02 18:50+01:00",
           "scheduledTimeUtc": "2021-12-02 17:50Z",
           "terminal": "1"
          },
          "codeshareStatus": "IsCodeshared",
          "departure": {
           "actualTimeLocal": "2021-12-02 15:55+00:00",
           "actualTimeUtc": "2021-12-02 15:55Z",
           "airport": {
            "iata": "LHR",
            "icao": "EGLL",
            "name": "London"
           },
           "checkInDesk": "G",
           "quality": [
            "Basic",
            "Live"
           ],
           "scheduledTimeLocal": "2021-12-02 15:55+00:00",
           "scheduledTimeUtc": "2021-12-02 15:55Z",
           "terminal": "5"
          },
          "isCargo": false,
          "number": "BA 986",
          "status": "Unknown"
         },
         {
          "aircraft": {
           "model": "Boeing 737-800"
          },
          "airline": {
           "name": "Ryanair"
          },
          "arrival": {
           "quality": [
            "Basic"
           ],
           "scheduledTimeLocal": "2021-12-02 18:10+01:00",
           "scheduledTimeUtc": "2021-12-02 17:10Z"
          },
          "codeshareStatus": "Unknown",
          "departure": {
           "airport": {
            "iata": "VNO",
            "icao": "EYVI",
            "name": "Vilnius"
           },
           "quality": [
            "Basic"
           ],
           "scheduledTimeLocal": "2021-12-02 17:30+02:00",
           "scheduledTimeUtc": "2021-12-02 15:30Z"
          },
          "isCargo": false,
          "number": "FR 1571",
          "status": "Unknown"
         },
         {
          "aircraft": {
           "model": "Boeing 737-800"
          },
          "airline": {
           "name": "Ryanair"
          },
          "arrival": {
           "quality": [
            "Basic"
           ],
           "scheduledTimeLocal": "2021-12-02 18:40+01:00",
           "scheduledTimeUtc": "2021-12-02 17:40Z"
          },
          "codeshareStatus": "Unknown",
          "departure": {
           "actualTimeLocal": "2021-12-02 15:20+00:00",
           "actualTimeUtc": "2021-12-02 15:20Z",
           "airport": {
            "iata": "DUB",
            "icao": "EIDW",
            "name": "Dublin"
           },
           "checkInDesk": "1204-1319",
           "gate": "119",
           "quality": [
            "Basic",
            "Live"
           ],
           "scheduledTimeLocal": "2021-12-02 15:20+00:00",
           "scheduledTimeUtc": "2021-12-02 15:20Z",
           "terminal": "T1"
          },
          "isCargo": false,
          "number": "FR 8558",
          "status": "Unknown"
         },
         {
          "aircraft": {
           "model": "Airbus A321"
          },
          "airline": {
           "name": "Iberia"
          },
          "arrival": {
           "quality": [
            "Basic"
           ],
           "scheduledTimeLocal": "2021-12-02 18:50+01:00",
           "scheduledTimeUtc": "2021-12-02 17:50Z",
           "terminal": "1"
          },
          "codeshareStatus": "Unknown",
          "departure": {
           "actualTimeLocal": "2021-12-02 15:50+01:00",
           "actualTimeUtc": "2021-12-02 14:50Z",
           "airport": {
            "iata": "MAD",
            "icao": "LEMD",
            "name": "Madrid"
           },
           "quality": [
            "Basic",
            "Live"
           ],
           "scheduledTimeLocal": "2021-12-02 15:50+01:00",
           "scheduledTimeUtc": "2021-12-02 14:50Z",
           "terminal": "4"
          },
          "isCargo": false,
          "number": "IB 3672",
          "status": "Unknown"
         },
         {
          "aircraft": {
           "model": "Embraer 190"
          },
          "airline": {
           "name": "KLM"
          },
          "arrival": {
           "quality": [
            "Basic"
           ],
           "scheduledTimeLocal": "2021-12-02 18:00+01:00",
           "scheduledTimeUtc": "2021-12-02 17:00Z",
           "terminal": "1"
          },
          "codeshareStatus": "IsOperator",
          "departure": {
           "airport": {
            "iata": "AMS",
            "icao": "EHAM",
            "name": "Amsterdam"
           },
           "checkInDesk": "5-8",
           "quality": [
            "Basic"
           ],
           "scheduledTimeLocal": "2021-12-02 16:45+01:00",
           "scheduledTimeUtc": "2021-12-02 15:45Z",
           "terminal": "1"
          },
          "isCargo": false,
          "number": "KL 1831",
          "status": "Unknown"
         },
         {
          "aircraft": {
           "model": "Airbus A320 NEO"
          },
          "airline": {
           "name": "Lufthansa"
          },
          "arrival": {
           "quality": [
            "Basic"
           ],
           "scheduledTimeLocal": "2021-12-02 18:55+01:00",
           "scheduledTimeUtc": "2021-12-02 17:55Z",
           "terminal": "1"
          },
          "codeshareStatus": "IsCodeshared",
          "departure": {
           "actualTimeLocal": "2021-12-02 17:45+01:00",
           "actualTimeUtc": "2021-12-02 16:45Z",
           "airport": {
            "iata": "FRA",
            "icao": "EDDF",
            "name": "Frankfurt-am-Main"
           },
           "quality": [
            "Basic",
            "Live"
           ],
           "scheduledTimeLocal": "2021-12-02 17:45+01:00",
           "scheduledTimeUtc": "2021-12-02 16:45Z",
           "terminal": "1"
          },
          "isCargo": false,
          "number": "LH 194",
          "status": "Unknown"
         },
         {
          "aircraft": {
           "model": "Airbus A320 NEO"
          },
          "airline": {
           "name": "Lufthansa"
          },
          "arrival": {
           "quality": [
            "Basic"
           ],
           "scheduledTimeLocal": "2021-12-02 18:10+01:00",
           "scheduledTimeUtc": "2021-12-02 17:10Z",
           "terminal": "1"
          },
          "codeshareStatus": "IsCodeshared",
          "departure": {
           "airport": {
            "iata": "MUC",
            "icao": "EDDM",
            "name": "Munich"
           },
           "quality": [
            "Basic"
           ],
           "scheduledTimeLocal": "2021-12-02 17:00+01:00",
           "scheduledTimeUtc": "2021-12-02 16:00Z",
           "terminal": "2"
          },
          "isCargo": false,
          "number": "LH 1948",
          "status": "Unknown"
         },
         {
          "aircraft": {
           "model": "Airbus A220-300"
          },
          "airline": {
           "name": "SWISS"
          },
          "arrival": {
           "quality": [
            "Basic"
           ],
           "scheduledTimeLocal": "2021-12-02 18:05+01:00",
           "scheduledTimeUtc": "2021-12-02 17:05Z",
           "terminal": "1"
          },
          "codeshareStatus": "Unknown",
          "departure": {
           "actualTimeLocal": "2021-12-02 16:40+01:00",
           "actualTimeUtc": "2021-12-02 15:40Z",
           "airport": {
            "iata": "ZRH",
            "icao": "LSZH",
            "name": "Zurich"
           },
           "checkInDesk": "1",
           "quality": [
            "Basic",
            "Live"
           ],
           "scheduledTimeLocal": "2021-12-02 16:40+01:00",
           "scheduledTimeUtc": "2021-12-02 15:40Z"
          },
          "isCargo": false,
          "number": "LX 970",
          "status": "Unknown"
         },
         {
          "aircraft": {
           "model": "Airbus A320"
          },
          "airline": {
           "name": "Austrian"
          },
          "arrival": {
           "quality": [
            "Basic"
           ],
           "scheduledTimeLocal": "2021-12-02 18:40+01:00",
           "scheduledTimeUtc": "2021-12-02 17:40Z",
           "terminal": "1"
          },
          "codeshareStatus": "Unknown",
          "departure": {
           "airport": {
            "iata": "VIE",
            "icao": "LOWW",
            "name": "Vienna"
           },
           "quality": [
            "Basic"
           ],
           "scheduledTimeLocal": "2021-12-02 17:25+01:00",
           "scheduledTimeUtc": "2021-12-02 16:25Z",
           "terminal": "3"
          },
          "isCargo": false,
          "number": "OS 235",
          "status": "Unknown"
         },
         {
          "aircraft": {
           "model": "Airbus A320"
          },
          "airline": {
           "name": "Wizz Air"
          },
          "arrival": {
           "quality": [
            "Basic"
           ],
           "scheduledTimeLocal": "2021-12-02 18:45+01:00",
           "scheduledTimeUtc": "2021-12-02 17:45Z",
           "terminal": "0"
          },
          "codeshareStatus": "Unknown",
          "departure": {
           "airport": {
            "iata": "IEV",
            "icao": "UKKK",
            "name": "Kiev"
           },
           "quality": [
            "Basic"
           ],
           "scheduledTimeLocal": "2021-12-02 17:30+02:00",
           "scheduledTimeUtc": "2021-12-02 15:30Z",
           "terminal": "A"
          },
          "isCargo": false,
          "number": "W6 6113",
          "status": "Unknown"
         },
         {
          "aircraft": {
           "model": "Airbus A220-300"
          },
          "airline": {
           "name": "Air France"
          },
          "arrival": {
           "quality": [
            "Basic"
           ],
           "scheduledTimeLocal": "2021-12-02 19:35+01:00",
           "scheduledTimeUtc": "2021-12-02 18:35Z",
           "terminal": "1"
          },
          "codeshareStatus": "Unknown",
          "departure": {
           "airport": {
            "iata": "CDG",
            "icao": "LFPG",
            "name": "Paris"
           },
           "quality": [
            "Basic"
           ],
           "scheduledTimeLocal": "2021-12-02 17:50+01:00",
           "scheduledTimeUtc": "2021-12-02 16:50Z",
           "terminal": "2F"
          },
          "isCargo": false,
          "number": "AF 1534",
          "status": "Unknown"
         },
         {
          "aircraft": {
           "model": "Embraer 190"
          },
          "airline": {
           "name": "British Airways"
          },
          "arrival": {
           "quality": [
            "Basic"
           ],
           "scheduledTimeLocal": "2021-12-02 19:30+01:00",
           "scheduledTimeUtc": "2021-12-02 18:30Z",
           "terminal": "1"
          },
          "codeshareStatus": "IsCodeshared",
          "departure": {
           "airport": {
            "iata": "LCY",
            "icao": "EGLC",
            "name": "London"
           },
           "quality": [
            "Basic"
           ],
           "scheduledTimeLocal": "2021-12-02 16:45+00:00",
           "scheduledTimeUtc": "2021-12-02 16:45Z"
          },
          "isCargo": false,
          "number": "BA 8743",
          "status": "Unknown"
         },
         {
          "aircraft": {
           "model": "Airbus A220-300"
          },
          "airline": {
           "name": "Air Baltic"
          },
          "arrival": {
           "quality": [
            "Basic"
           ],
           "scheduledTimeLocal": "2021-12-02 19:00+01:00",
           "scheduledTimeUtc": "2021-12-02 18:00Z",
           "terminal": "1"
          },
          "codeshareStatus": "Unknown",
          "departure": {
           "airport": {
            "iata": "RIX",
            "icao": "EVRA",
            "name": "Riga"
           },
           "quality": [
            "Basic"
           ],
           "scheduledTimeLocal": "2021-12-02 18:20+02:00",
           "scheduledTimeUtc": "2021-12-02 16:20Z"
          },
          "isCargo": false,
          "number": "BT 213",
          "status": "Unknown"
         },
         {
          "aircraft": {
           "model": "Boeing 737-800"
          },
          "airline": {
           "name": "Norwegian Air Shuttle"
          },
          "arrival": {
           "quality": [
            "Basic"
           ],
           "scheduledTimeLocal": "2021-12-02 19:35+01:00",
           "scheduledTimeUtc": "2021-12-02 18:35Z",
           "terminal": "1"
          },
          "codeshareStatus": "Unknown",
          "departure": {
           "actualTimeLocal": "2021-12-02 18:00+01:00",
           "actualTimeUtc": "2021-12-02 17:00Z",
           "airport": {
            "iata": "OSL",
            "icao": "ENGM",
            "name": "Oslo"
           },
           "checkInDesk": "23",
           "quality": [
            "Basic",
            "Live"
           ],
           "scheduledTimeLocal": "2021-12-02 18:00+01:00",
           "scheduledTimeUtc": "2021-12-02 17:00Z"
          },
          "isCargo": false,
          "number": "DY 1108",
          "status": "Unknown"
         },
         {
          "aircraft": {
           "model": "Boeing 737-800"
          },
          "airline": {
           "name": "Ryanair"
          },
          "arrival": {
           "quality": [
            "Basic"
           ],
           "scheduledTimeLocal": "2021-12-02 19:55+01:00",
           "scheduledTimeUtc": "2021-12-02 18:55Z"
          },
          "codeshareStatus": "Unknown",
          "departure": {
           "airport": {
            "iata": "CIA",
            "icao": "LIRA",
            "name": "Roma"
           },
           "quality": [
            "Basic"
           ],
           "scheduledTimeLocal": "2021-12-02 17:45+01:00",
           "scheduledTimeUtc": "2021-12-02 16:45Z"
          },
          "isCargo": false,
          "number": "FR 141",
          "status": "Unknown"
         },
         {
          "aircraft": {
           "model": "Boeing 737-800"
          },
          "airline": {
           "name": "Ryanair"
          },
          "arrival": {
           "quality": [
            "Basic"
           ],
           "scheduledTimeLocal": "2021-12-02 19:40+01:00",
           "scheduledTimeUtc": "2021-12-02 18:40Z"
          },
          "codeshareStatus": "Unknown",
          "departure": {
           "actualTimeLocal": "2021-12-02 16:05+01:00",
           "actualTimeUtc": "2021-12-02 15:05Z",
           "airport": {
            "iata": "AGP",
            "icao": "LEMG",
            "name": "Málaga"
           },
           "quality": [
            "Basic",
            "Live"
           ],
           "scheduledTimeLocal": "2021-12-02 16:05+01:00",
           "scheduledTimeUtc": "2021-12-02 15:05Z"
          },
          "isCargo": false,
          "number": "FR 2591",
          "status": "Unknown"
         },
         {
          "aircraft": {
           "model": "Airbus A320"
          },
          "airline": {
           "name": "Lufthansa"
          },
          "arrival": {
           "quality": [
            "Basic"
           ],
           "scheduledTimeLocal": "2021-12-02 19:55+01:00",
           "scheduledTimeUtc": "2021-12-02 18:55Z",
           "terminal": "1"
          },
          "codeshareStatus": "IsCodeshared",
          "departure": {
           "actualTimeLocal": "2021-12-02 18:45+01:00",
           "actualTimeUtc": "2021-12-02 17:45Z",
           "airport": {
            "iata": "FRA",
            "icao": "EDDF",
            "name": "Frankfurt-am-Main"
           },
           "quality": [
            "Basic",
            "Live"
           ],
           "scheduledTimeLocal": "2021-12-02 18:45+01:00",
           "scheduledTimeUtc": "2021-12-02 17:45Z",
           "terminal": "1"
          },
          "isCargo": false,
          "number": "LH 190",
          "status": "Unknown"
         },
         {
          "aircraft": {
           "model": "Airbus A320"
          },
          "airline": {
           "name": "Lufthansa"
          },
          "arrival": {
           "quality": [
            "Basic"
           ],
           "scheduledTimeLocal": "2021-12-02 19:15+01:00",
           "scheduledTimeUtc": "2021-12-02 18:15Z",
           "terminal": "1"
          },
          "codeshareStatus": "Unknown",
          "departure": {
           "airport": {
            "iata": "MUC",
            "icao": "EDDM",
            "name": "Munich"
           },
           "quality": [
            "Basic"
           ],
           "scheduledTimeLocal": "2021-12-02 18:05+01:00",
           "scheduledTimeUtc": "2021-12-02 17:05Z",
           "terminal": "2"
          },
          "isCargo": false,
          "number": "LH 2330",
          "status": "Unknown"
         },
         {
          "aircraft": {
           "model": "Airbus A320 NEO"
          },
          "airline": {
           "name": "SWISS"
          },
          "arrival": {
           "quality": [
            "Basic"
           ],
           "scheduledTimeLocal": "2021-12-02 19:45+01:00",
           "scheduledTimeUtc": "2021-12-02 18:45Z",
           "terminal": "1"
          },
          "codeshareStatus": "Unknown",
          "departure": {
           "actualTimeLocal": "2021-12-02 18:20+01:00",
           "actualTimeUtc": "2021-12-02 17:20Z",
           "airport": {
            "iata": "ZRH",
            "icao": "LSZH",
            "name": "Zurich"
           },
           "checkInDesk": "1",
           "quality": [
            "Basic",
            "Live"
           ],
           "scheduledTimeLocal": "2021-12-02 18:20+01:00",
           "scheduledTimeUtc": "2021-12-02 17:20Z"
          },
          "isCargo": false,
          "number": "LX 978",
          "status": "Unknown"
         },
         {
          "aircraft": {
           "model": "Boeing 737-900"
          },
          "airline": {
           "name": "El Al"
          },
          "arrival": {
           "quality": [
            "Basic"
           ],
           "scheduledTimeLocal": "2021-12-02 19:50+01:00",
           "scheduledTimeUtc": "2021-12-02 18:50Z",
           "terminal": "1"
          },
          "codeshareStatus": "Unknown",
          "departure": {
           "airport": {
            "iata": "TLV",
            "icao": "LLBG",
            "name": "Tel Aviv Yafo"
           },
           "quality": [
            "Basic"
           ],
           "scheduledTimeLocal": "2021-12-02 16:20+02:00",
           "scheduledTimeUtc": "2021-12-02 14:20Z",
           "terminal": "3"
          },
          "isCargo": false,
          "number": "LY 2373",
          "status": "Unknown"
         },
         {
          "aircraft": {
           "model": "Airbus A320"
          },
          "airline": {
           "name": "easyJet"
          },
          "arrival": {
           "quality": [
            "Basic"
           ],
           "scheduledTimeLocal": "2021-12-02 19:10+01:00",
           "scheduledTimeUtc": "2021-12-02 18:10Z",
           "terminal": "1"
          },
          "codeshareStatus": "Unknown",
          "departure": {
           "airport": {
            "iata": "CGN",
            "icao": "EDDK",
            "name": "Cologne"
           },
           "quality": [
            "Basic"
           ],
           "scheduledTimeLocal": "2021-12-02 17:55+01:00",
           "scheduledTimeUtc": "2021-12-02 16:55Z",
           "terminal": "0"
          },
          "isCargo": false,
          "number": "U2 5512",
          "status": "Unknown"
         },
         {
          "aircraft": {
           "model": "Airbus A320"
          },
          "airline": {
           "name": "easyJet"
          },
          "arrival": {
           "quality": [
            "Basic"
           ],
           "scheduledTimeLocal": "2021-12-02 19:45+01:00",
           "scheduledTimeUtc": "2021-12-02 18:45Z",
           "terminal": "1"
          },
          "codeshareStatus": "Unknown",
          "departure": {
           "airport": {
            "iata": "CPH",
            "icao": "EKCH",
            "name": "Copenhagen"
           },
           "quality": [
            "Basic"
           ],
           "scheduledTimeLocal": "2021-12-02 18:40+01:00",
           "scheduledTimeUtc": "2021-12-02 17:40Z",
           "terminal": "2"
          },
          "isCargo": false,
          "number": "U2 5688",
          "status": "Unknown"
         },
         {
          "aircraft": {
           "model": "Airbus A320"
          },
          "airline": {
           "name": "easyJet"
          },
          "arrival": {
           "quality": [
            "Basic"
           ],
           "scheduledTimeLocal": "2021-12-02 19:00+01:00",
           "scheduledTimeUtc": "2021-12-02 18:00Z",
           "terminal": "1"
          },
          "codeshareStatus": "Unknown",
          "departure": {
           "airport": {
            "iata": "FUE",
            "icao": "GCFV",
            "name": "Fuerteventura Island"
           },
           "quality": [
            "Basic"
           ],
           "scheduledTimeLocal": "2021-12-02 13:00+00:00",
           "scheduledTimeUtc": "2021-12-02 13:00Z"
          },
          "isCargo": false,
          "number": "U2 5924",
          "status": "Unknown"
         },
         {
          "aircraft": {
           "model": "Airbus A320"
          },
          "airline": {
           "name": "Eurowings"
          },
          "arrival": {
           "quality": [
            "Basic"
           ],
           "scheduledTimeLocal": "2021-12-02 20:05+01:00",
           "scheduledTimeUtc": "2021-12-02 19:05Z",
           "terminal": "1"
          },
          "codeshareStatus": "Unknown",
          "departure": {
           "actualTimeLocal": "2021-12-02 18:45+01:00",
           "actualTimeUtc": "2021-12-02 17:45Z",
           "airport": {
            "iata": "STR",
            "icao": "EDDS",
            "name": "Stuttgart"
           },
           "gate": "159",
           "quality": [
            "Basic",
            "Live"
           ],
           "scheduledTimeLocal": "2021-12-02 18:45+01:00",
           "scheduledTimeUtc": "2021-12-02 17:45Z",
           "terminal": "1"
          },
          "isCargo": false,
          "number": "EW 2006",
          "status": "Unknown"
         },
         {
          "aircraft": {
           "model": "Airbus A320"
          },
          "airline": {
           "name": "Eurowings"
          },
          "arrival": {
           "quality": [
            "Basic"
           ],
           "scheduledTimeLocal": "2021-12-02 20:55+01:00",
           "scheduledTimeUtc": "2021-12-02 19:55Z",
           "terminal": "1"
          },
          "codeshareStatus": "Unknown",
          "departure": {
           "airport": {
            "name": "Keln"
           },
           "quality": []
          },
          "isCargo": false,
          "number": "EW 8055",
          "status": "Unknown"
         },
         {
          "aircraft": {
           "model": "Airbus A319"
          },
          "airline": {
           "name": "Eurowings"
          },
          "arrival": {
           "quality": [
            "Basic"
           ],
           "scheduledTimeLocal": "2021-12-02 20:05+01:00",
           "scheduledTimeUtc": "2021-12-02 19:05Z",
           "terminal": "1"
          },
          "codeshareStatus": "Unknown",
          "departure": {
           "airport": {
            "name": "Duesseldorf"
           },
           "quality": []
          },
          "isCargo": false,
          "number": "EW 9044",
          "status": "Unknown"
         },
         {
          "aircraft": {
           "model": "Bombardier Dash 8 Q400 / DHC-8-400"
          },
          "airline": {
           "name": "Luxair"
          },
          "arrival": {
           "quality": [
            "Basic"
           ],
           "scheduledTimeLocal": "2021-12-02 20:10+01:00",
           "scheduledTimeUtc": "2021-12-02 19:10Z",
           "terminal": "1"
          },
          "codeshareStatus": "Unknown",
          "departure": {
           "actualTimeLocal": "2021-12-02 18:40+01:00",
           "actualTimeUtc": "2021-12-02 17:40Z",
           "airport": {
            "iata": "LUX",
            "icao": "ELLX",
            "name": "Luxembourg"
           },
           "quality": [
            "Basic",
            "Live"
           ],
           "scheduledTimeLocal": "2021-12-02 18:40+01:00",
           "scheduledTimeUtc": "2021-12-02 17:40Z"
          },
          "isCargo": false,
          "number": "LG 9473",
          "status": "Unknown"
         },
         {
          "aircraft": {
           "model": "Airbus A320 NEO"
          },
          "airline": {
           "name": "Lufthansa"
          },
          "arrival": {
           "quality": [
            "Basic"
           ],
           "scheduledTimeLocal": "2021-12-02 20:10+01:00",
           "scheduledTimeUtc": "2021-12-02 19:10Z",
           "terminal": "1"
          },
          "codeshareStatus": "IsCodeshared",
          "departure": {
           "airport": {
            "iata": "MUC",
            "icao": "EDDM",
            "name": "Munich"
           },
           "quality": [
            "Basic"
           ],
           "scheduledTimeLocal": "2021-12-02 19:00+01:00",
           "scheduledTimeUtc": "2021-12-02 18:00Z",
           "terminal": "2"
          },
          "isCargo": false,
          "number": "LH 1954",
          "status": "Unknown"
         },
         {
          "aircraft": {
           "model": "Airbus A320"
          },
          "airline": {
           "name": "Ghodawat Enterprises"
          },
          "arrival": {
           "quality": [
            "Basic"
           ],
           "scheduledTimeLocal": "2021-12-02 20:00+01:00",
           "scheduledTimeUtc": "2021-12-02 19:00Z",
           "terminal": "1"
          },
          "codeshareStatus": "Unknown",
          "departure": {
           "airport": {
            "iata": "KEF",
            "icao": "BIKF",
            "name": "Reykjavik"
           },
           "quality": [
            "Basic"
           ],
           "scheduledTimeLocal": "2021-12-02 15:20+00:00",
           "scheduledTimeUtc": "2021-12-02 15:20Z"
          },
          "isCargo": false,
          "number": "OG 704",
          "status": "Unknown"
         },
         {
          "aircraft": {
           "model": "Airbus A320"
          },
          "airline": {
           "name": "easyJet"
          },
          "arrival": {
           "quality": [
            "Basic"
           ],
           "scheduledTimeLocal": "2021-12-02 20:25+01:00",
           "scheduledTimeUtc": "2021-12-02 19:25Z",
           "terminal": "1"
          },
          "codeshareStatus": "Unknown",
          "departure": {
           "airport": {
            "iata": "MAN",
            "icao": "EGCC",
            "name": "Manchester"
           },
           "quality": [
            "Basic"
           ],
           "scheduledTimeLocal": "2021-12-02 17:30+00:00",
           "scheduledTimeUtc": "2021-12-02 17:30Z",
           "terminal": "1"
          },
          "isCargo": false,
          "number": "U2 1895",
          "status": "Unknown"
         },
         {
          "aircraft": {
           "model": "Airbus A320"
          },
          "airline": {
           "name": "easyJet"
          },
          "arrival": {
           "quality": [
            "Basic"
           ],
           "scheduledTimeLocal": "2021-12-02 20:05+01:00",
           "scheduledTimeUtc": "2021-12-02 19:05Z",
           "terminal": "1"
          },
          "codeshareStatus": "Unknown",
          "departure": {
           "airport": {
            "iata": "CDG",
            "icao": "LFPG",
            "name": "Paris"
           },
           "quality": [
            "Basic"
           ],
           "scheduledTimeLocal": "2021-12-02 18:15+01:00",
           "scheduledTimeUtc": "2021-12-02 17:15Z",
           "terminal": "2D"
          },
          "isCargo": false,
          "number": "U2 5676",
          "status": "Unknown"
         },
         {
          "aircraft": {
           "model": "Airbus A319"
          },
          "airline": {
           "name": "easyJet"
          },
          "arrival": {
           "quality": [
            "Basic"
           ],
           "scheduledTimeLocal": "2021-12-02 20:50+01:00",
           "scheduledTimeUtc": "2021-12-02 19:50Z",
           "terminal": "1"
          },
          "codeshareStatus": "Unknown",
          "departure": {
           "airport": {
            "iata": "ZRH",
            "icao": "LSZH",
            "name": "Zurich"
           },
           "quality": [
            "Basic"
           ],
           "scheduledTimeLocal": "2021-12-02 19:15+01:00",
           "scheduledTimeUtc": "2021-12-02 18:15Z"
          },
          "isCargo": false,
          "number": "U2 5868",
          "status": "Unknown"
         },
         {
          "aircraft": {
           "model": "Airbus A320"
          },
          "airline": {
           "name": "easyJet"
          },
          "arrival": {
           "quality": [
            "Basic"
           ],
           "scheduledTimeLocal": "2021-12-02 20:40+01:00",
           "scheduledTimeUtc": "2021-12-02 19:40Z",
           "terminal": "1"
          },
          "codeshareStatus": "Unknown",
          "departure": {
           "airport": {
            "iata": "BRS",
            "icao": "EGGD",
            "name": "Bristol"
           },
           "quality": [
            "Basic"
           ],
           "scheduledTimeLocal": "2021-12-02 17:40+00:00",
           "scheduledTimeUtc": "2021-12-02 17:40Z"
          },
          "isCargo": false,
          "number": "U2 6237",
          "status": "Unknown"
         },
         {
          "aircraft": {
           "model": "Embraer 190"
          },
          "airline": {
           "name": "British Airways"
          },
          "arrival": {
           "quality": [
            "Basic"
           ],
           "scheduledTimeLocal": "2021-12-02 21:10+01:00",
           "scheduledTimeUtc": "2021-12-02 20:10Z",
           "terminal": "1"
          },
          "codeshareStatus": "IsCodeshared",
          "departure": {
           "airport": {
            "iata": "LCY",
            "icao": "EGLC",
            "name": "London"
           },
           "quality": [
            "Basic"
           ],
           "scheduledTimeLocal": "2021-12-02 18:30+00:00",
           "scheduledTimeUtc": "2021-12-02 18:30Z"
          },
          "isCargo": false,
          "number": "BA 8495",
          "status": "Unknown"
         },
         {
          "aircraft": {
           "model": "Airbus A320"
          },
          "airline": {
           "name": "British Airways"
          },
          "arrival": {
           "quality": [
            "Basic"
           ],
           "scheduledTimeLocal": "2021-12-02 21:45+01:00",
           "scheduledTimeUtc": "2021-12-02 20:45Z",
           "terminal": "1"
          },
          "codeshareStatus": "IsCodeshared",
          "departure": {
           "actualTimeLocal": "2021-12-02 18:55+00:00",
           "actualTimeUtc": "2021-12-02 18:55Z",
           "airport": {
            "iata": "LHR",
            "icao": "EGLL",
            "name": "London"
           },
           "checkInDesk": "G",
           "quality": [
            "Basic",
            "Live"
           ],
           "scheduledTimeLocal": "2021-12-02 18:55+00:00",
           "scheduledTimeUtc": "2021-12-02 18:55Z",
           "terminal": "5"
          },
          "isCargo": false,
          "number": "BA 988",
          "status": "Unknown"
         },
         {
          "aircraft": {
           "model": "Boeing 737-800"
          },
          "airline": {
           "name": "Norwegian Air Shuttle"
          },
          "arrival": {
           "quality": [
            "Basic"
           ],
           "scheduledTimeLocal": "2021-12-02 21:20+01:00",
           "scheduledTimeUtc": "2021-12-02 20:20Z",
           "terminal": "1"
          },
          "codeshareStatus": "Unknown",
          "departure": {
           "airport": {
            "iata": "BGO",
            "icao": "ENBR",
            "name": "Bergen"
           },
           "quality": [
            "Basic"
           ],
           "scheduledTimeLocal": "2021-12-02 19:40+01:00",
           "scheduledTimeUtc": "2021-12-02 18:40Z"
          },
          "isCargo": false,
          "number": "DY 1160",
          "status": "Unknown"
         },
         {
          "aircraft": {
           "model": "Airbus A320"
          },
          "airline": {
           "name": "Eurowings"
          },
          "arrival": {
           "quality": [
            "Basic"
           ],
           "scheduledTimeLocal": "2021-12-02 21:45+01:00",
           "scheduledTimeUtc": "2021-12-02 20:45Z",
           "terminal": "1"
          },
          "codeshareStatus": "Unknown",
          "departure": {
           "airport": {
            "name": "Duesseldorf"
           },
           "quality": []
          },
          "isCargo": false,
          "number": "EW 8047",
          "status": "Unknown"
         },
         {
          "aircraft": {
           "model": "Boeing 737-800"
          },
          "airline": {
           "name": "Ryanair"
          },
          "arrival": {
           "quality": [
            "Basic"
           ],
           "scheduledTimeLocal": "2021-12-02 21:45+01:00",
           "scheduledTimeUtc": "2021-12-02 20:45Z"
          },
          "codeshareStatus": "Unknown",
          "departure": {
           "airport": {
            "iata": "SKG",
            "icao": "LGTS",
            "name": "Thessaloniki"
           },
           "quality": [
            "Basic"
           ],
           "scheduledTimeLocal": "2021-12-02 20:15+02:00",
           "scheduledTimeUtc": "2021-12-02 18:15Z"
          },
          "isCargo": false,
          "number": "FR 1147",
          "status": "Unknown"
         },
         {
          "aircraft": {
           "model": "Boeing 737-800"
          },
          "airline": {
           "name": "Ryanair"
          },
          "arrival": {
           "quality": [
            "Basic"
           ],
           "scheduledTimeLocal": "2021-12-02 21:30+01:00",
           "scheduledTimeUtc": "2021-12-02 20:30Z"
          },
          "codeshareStatus": "Unknown",
          "departure": {
           "airport": {
            "iata": "OTP",
            "icao": "LROP",
            "name": "Bucharest"
           },
           "quality": [
            "Basic"
           ],
           "scheduledTimeLocal": "2021-12-02 20:15+02:00",
           "scheduledTimeUtc": "2021-12-02 18:15Z"
          },
          "isCargo": false,
          "number": "FR 328",
          "status": "Unknown"
         },
         {
          "aircraft": {
           "model": "Boeing 737-800",
           "reg": "PH-BXK"
          },
          "airline": {
           "name": "KLM"
          },
          "arrival": {
           "quality": [
            "Basic"
           ],
           "scheduledTimeLocal": "2021-12-02 21:55+01:00",
           "scheduledTimeUtc": "2021-12-02 20:55Z",
           "terminal": "1"
          },
          "codeshareStatus": "IsOperator",
          "departure": {
           "airport": {
            "iata": "AMS",
            "icao": "EHAM",
            "name": "Amsterdam"
           },
           "checkInDesk": "9-16",
           "quality": [
            "Basic"
           ],
           "scheduledTimeLocal": "2021-12-02 20:40+01:00",
           "scheduledTimeUtc": "2021-12-02 19:40Z",
           "terminal": "2"
          },
          "isCargo": false,
          "number": "KL 1835",
          "status": "Unknown"
         },
         {
          "aircraft": {
           "model": "Airbus A319"
          },
          "airline": {
           "name": "easyJet"
          },
          "arrival": {
           "quality": [
            "Basic"
           ],
           "scheduledTimeLocal": "2021-12-02 21:30+01:00",
           "scheduledTimeUtc": "2021-12-02 20:30Z",
           "terminal": "1"
          },
          "codeshareStatus": "Unknown",
          "departure": {
           "airport": {
            "iata": "AMS",
            "icao": "EHAM",
            "name": "Amsterdam"
           },
           "quality": [
            "Basic"
           ],
           "scheduledTimeLocal": "2021-12-02 20:05+01:00",
           "scheduledTimeUtc": "2021-12-02 19:05Z"
          },
          "isCargo": false,
          "number": "U2 5108",
          "status": "Unknown"
         },
         {
          "aircraft": {
           "model": "Airbus A320"
          },
          "airline": {
           "name": "easyJet"
          },
          "arrival": {
           "quality": [
            "Basic"
           ],
           "scheduledTimeLocal": "2021-12-02 21:50+01:00",
           "scheduledTimeUtc": "2021-12-02 20:50Z",
           "terminal": "1"
          },
          "codeshareStatus": "Unknown",
          "departure": {
           "airport": {
            "iata": "NCE",
            "icao": "LFMN",
            "name": "Nice"
           },
           "quality": [
            "Basic"
           ],
           "scheduledTimeLocal": "2021-12-02 19:45+01:00",
           "scheduledTimeUtc": "2021-12-02 18:45Z",
           "terminal": "2"
          },
          "isCargo": false,
          "number": "U2 5152",
          "status": "Unknown"
         },
         {
          "aircraft": {
           "model": "Airbus A320"
          },
          "airline": {
           "name": "easyJet"
          },
          "arrival": {
           "quality": [
            "Basic"
           ],
           "scheduledTimeLocal": "2021-12-02 21:50+01:00",
           "scheduledTimeUtc": "2021-12-02 20:50Z",
           "terminal": "1"
          },
          "codeshareStatus": "Unknown",
          "departure": {
           "airport": {
            "name": "Stockholm"
           },
           "quality": []
          },
          "isCargo": false,
          "number": "U2 5216",
          "status": "Unknown"
         },
         {
          "aircraft": {
           "model": "Airbus A320"
          },
          "airline": {
           "name": "easyJet"
          },
          "arrival": {
           "quality": [
            "Basic"
           ],
           "scheduledTimeLocal": "2021-12-02 21:00+01:00",
           "scheduledTimeUtc": "2021-12-02 20:00Z",
           "terminal": "1"
          },
          "codeshareStatus": "Unknown",
          "departure": {
           "airport": {
            "iata": "CGN",
            "icao": "EDDK",
            "name": "Cologne"
           },
           "quality": [
            "Basic"
           ],
           "scheduledTimeLocal": "2021-12-02 19:45+01:00",
           "scheduledTimeUtc": "2021-12-02 18:45Z",
           "terminal": "0"
          },
          "isCargo": false,
          "number": "U2 5514",
          "status": "Unknown"
         },
         {
          "aircraft": {
           "model": "Airbus A320"
          },
          "airline": {
           "name": "easyJet"
          },
          "arrival": {
           "quality": [
            "Basic"
           ],
           "scheduledTimeLocal": "2021-12-02 21:30+01:00",
           "scheduledTimeUtc": "2021-12-02 20:30Z",
           "terminal": "1"
          },
          "codeshareStatus": "Unknown",
          "departure": {
           "airport": {
            "iata": "FCO",
            "icao": "LIRF",
            "name": "Rome"
           },
           "quality": [
            "Basic"
           ],
           "scheduledTimeLocal": "2021-12-02 19:15+01:00",
           "scheduledTimeUtc": "2021-12-02 18:15Z",
           "terminal": "3"
          },
          "isCargo": false,
          "number": "U2 5708",
          "status": "Unknown"
         },
         {
          "aircraft": {
           "model": "Airbus A320"
          },
          "airline": {
           "name": "easyJet"
          },
          "arrival": {
           "quality": [
            "Basic"
           ],
           "scheduledTimeLocal": "2021-12-02 21:45+01:00",
           "scheduledTimeUtc": "2021-12-02 20:45Z",
           "terminal": "1"
          },
          "codeshareStatus": "Unknown",
          "departure": {
           "airport": {
            "iata": "VCE",
            "icao": "LIPZ",
            "name": "Venice"
           },
           "quality": [
            "Basic"
           ],
           "scheduledTimeLocal": "2021-12-02 20:00+01:00",
           "scheduledTimeUtc": "2021-12-02 19:00Z"
          },
          "isCargo": false,
          "number": "U2 5838",
          "status": "Unknown"
         },
         {
          "aircraft": {
           "model": "Airbus A320"
          },
          "airline": {
           "name": "easyJet"
          },
          "arrival": {
           "quality": [
            "Basic"
           ],
           "scheduledTimeLocal": "2021-12-02 21:00+01:00",
           "scheduledTimeUtc": "2021-12-02 20:00Z",
           "terminal": "1"
          },
          "codeshareStatus": "Unknown",
          "departure": {
           "airport": {
            "iata": "LGW",
            "icao": "EGKK",
            "name": "London"
           },
           "quality": [
            "Basic"
           ],
           "scheduledTimeLocal": "2021-12-02 18:00+00:00",
           "scheduledTimeUtc": "2021-12-02 18:00Z",
           "terminal": "N"
          },
          "isCargo": false,
          "number": "U2 8125",
          "status": "Unknown"
         },
         {
          "aircraft": {
           "model": "Airbus A321"
          },
          "airline": {
           "name": "Air France"
          },
          "arrival": {
           "quality": [
            "Basic"
           ],
           "scheduledTimeLocal": "2021-12-02 22:40+01:00",
           "scheduledTimeUtc": "2021-12-02 21:40Z",
           "terminal": "1"
          },
          "codeshareStatus": "Unknown",
          "departure": {
           "airport": {
            "iata": "CDG",
            "icao": "LFPG",
            "name": "Paris"
           },
           "quality": [
            "Basic"
           ],
           "scheduledTimeLocal": "2021-12-02 20:55+01:00",
           "scheduledTimeUtc": "2021-12-02 19:55Z",
           "terminal": "2F"
          },
          "isCargo": false,
          "number": "AF 1134",
          "status": "Unknown"
         },
         {
          "aircraft": {
           "model": "Airbus A320"
          },
          "airline": {
           "name": "Eurowings"
          },
          "arrival": {
           "quality": [
            "Basic"
           ],
           "scheduledTimeLocal": "2021-12-02 22:25+01:00",
           "scheduledTimeUtc": "2021-12-02 21:25Z",
           "terminal": "1"
          },
          "codeshareStatus": "Unknown",
          "departure": {
           "actualTimeLocal": "2021-12-02 21:05+01:00",
           "actualTimeUtc": "2021-12-02 20:05Z",
           "airport": {
            "iata": "STR",
            "icao": "EDDS",
            "name": "Stuttgart"
           },
           "gate": "140",
           "quality": [
            "Basic",
            "Live"
           ],
           "scheduledTimeLocal": "2021-12-02 21:05+01:00",
           "scheduledTimeUtc": "2021-12-02 20:05Z",
           "terminal": "1"
          },
          "isCargo": false,
          "number": "EW 8007",
          "status": "Unknown"
         },
         {
          "aircraft": {
           "model": "Boeing 737-800"
          },
          "airline": {
           "name": "Ryanair"
          },
          "arrival": {
           "quality": [
            "Basic"
           ],
           "scheduledTimeLocal": "2021-12-02 22:15+01:00",
           "scheduledTimeUtc": "2021-12-02 21:15Z"
          },
          "codeshareStatus": "Unknown",
          "departure": {
           "actualTimeLocal": "2021-12-02 17:40+00:00",
           "actualTimeUtc": "2021-12-02 17:40Z",
           "airport": {
            "iata": "LIS",
            "icao": "LPPT",
            "name": "Lisbon"
           },
           "quality": [
            "Basic",
            "Live"
           ],
           "scheduledTimeLocal": "2021-12-02 17:40+00:00",
           "scheduledTimeUtc": "2021-12-02 17:40Z",
           "terminal": "T2"
          },
          "isCargo": false,
          "number": "FR 1143",
          "status": "Unknown"
         },
         {
          "aircraft": {
           "model": "Boeing 737-800"
          },
          "airline": {
           "name": "Ryanair"
          },
          "arrival": {
           "quality": [
            "Basic"
           ],
           "scheduledTimeLocal": "2021-12-02 22:00+01:00",
           "scheduledTimeUtc": "2021-12-02 21:00Z"
          },
          "codeshareStatus": "Unknown",
          "departure": {
           "airport": {
            "name": "Bologna"
           },
           "quality": []
          },
          "isCargo": false,
          "number": "FR 137",
          "status": "Unknown"
         },
         {
          "aircraft": {
           "model": "Boeing 737-800"
          },
          "airline": {
           "name": "Ryanair"
          },
          "arrival": {
           "quality": [
            "Basic"
           ],
           "scheduledTimeLocal": "2021-12-02 22:10+01:00",
           "scheduledTimeUtc": "2021-12-02 21:10Z"
          },
          "codeshareStatus": "Unknown",
          "departure": {
           "airport": {
            "iata": "STN",
            "icao": "EGSS",
            "name": "London"
           },
           "quality": [
            "Basic"
           ],
           "scheduledTimeLocal": "2021-12-02 19:20+00:00",
           "scheduledTimeUtc": "2021-12-02 19:20Z"
          },
          "isCargo": false,
          "number": "FR 147",
          "status": "Unknown"
         },
         {
          "aircraft": {
           "model": "Boeing 737-800"
          },
          "airline": {
           "name": "Ryanair"
          },
          "arrival": {
           "quality": [
            "Basic"
           ],
           "scheduledTimeLocal": "2021-12-02 22:25+01:00",
           "scheduledTimeUtc": "2021-12-02 21:25Z"
          },
          "codeshareStatus": "Unknown",
          "departure": {
           "actualTimeLocal": "2021-12-02 20:55+01:00",
           "actualTimeUtc": "2021-12-02 19:55Z",
           "airport": {
            "iata": "BRU",
            "icao": "EBBR",
            "name": "Brussels"
           },
           "checkInDesk": "08",
           "quality": [
            "Basic",
            "Live"
           ],
           "scheduledTimeLocal": "2021-12-02 20:55+01:00",
           "scheduledTimeUtc": "2021-12-02 19:55Z"
          },
          "isCargo": false,
          "number": "FR 167",
          "status": "Unknown"
         },
         {
          "aircraft": {
           "model": "Boeing 737-800"
          },
          "airline": {
           "name": "Ryanair"
          },
          "arrival": {
           "quality": [
            "Basic"
           ],
           "scheduledTimeLocal": "2021-12-02 22:30+01:00",
           "scheduledTimeUtc": "2021-12-02 21:30Z"
          },
          "codeshareStatus": "Unknown",
          "departure": {
           "airport": {
            "iata": "LPA",
            "icao": "GCLP",
            "name": "Gran Canaria Island"
           },
           "quality": [
            "Basic"
           ],
           "scheduledTimeLocal": "2021-12-02 16:20+00:00",
           "scheduledTimeUtc": "2021-12-02 16:20Z"
          },
          "isCargo": false,
          "number": "FR 2501",
          "status": "Unknown"
         },
         {
          "aircraft": {
           "model": "Boeing 737-800"
          },
          "airline": {
           "name": "Ryanair"
          },
          "arrival": {
           "quality": [
            "Basic"
           ],
           "scheduledTimeLocal": "2021-12-02 22:30+01:00",
           "scheduledTimeUtc": "2021-12-02 21:30Z"
          },
          "codeshareStatus": "Unknown",
          "departure": {
           "airport": {
            "iata": "BGY",
            "icao": "LIME",
            "name": "Bergamo"
           },
           "quality": [
            "Basic"
           ],
           "scheduledTimeLocal": "2021-12-02 20:45+01:00",
           "scheduledTimeUtc": "2021-12-02 19:45Z"
          },
          "isCargo": false,
          "number": "FR 4733",
          "status": "Unknown"
         },
         {
          "aircraft": {
           "model": "Boeing 737-800"
          },
          "airline": {
           "name": "Ryanair"
          },
          "arrival": {
           "quality": [
            "Basic"
           ],
           "scheduledTimeLocal": "2021-12-02 22:30+01:00",
           "scheduledTimeUtc": "2021-12-02 21:30Z"
          },
          "codeshareStatus": "Unknown",
          "departure": {
           "airport": {
            "iata": "FAO",
            "icao": "LPFR",
            "name": "Faro"
           },
           "quality": [
            "Basic"
           ],
           "scheduledTimeLocal": "2021-12-02 18:00+00:00",
           "scheduledTimeUtc": "2021-12-02 18:00Z"
          },
          "isCargo": false,
          "number": "FR 5365",
          "status": "Unknown"
         },
         {
          "aircraft": {
           "model": "Airbus A320"
          },
          "airline": {
           "name": "Iberia"
          },
          "arrival": {
           "quality": [
            "Basic"
           ],
           "scheduledTimeLocal": "2021-12-02 22:45+01:00",
           "scheduledTimeUtc": "2021-12-02 21:45Z",
           "terminal": "1"
          },
          "codeshareStatus": "Unknown",
          "departure": {
           "actualTimeLocal": "2021-12-02 19:45+01:00",
           "actualTimeUtc": "2021-12-02 18:45Z",
           "airport": {
            "iata": "MAD",
            "icao": "LEMD",
            "name": "Madrid"
           },
           "quality": [
            "Basic",
            "Live"
           ],
           "scheduledTimeLocal": "2021-12-02 19:45+01:00",
           "scheduledTimeUtc": "2021-12-02 18:45Z",
           "terminal": "4"
          },
          "isCargo": false,
          "number": "IB 3674",
          "status": "Unknown"
         },
         {
          "aircraft": {
           "model": "Airbus A321"
          },
          "airline": {
           "name": "Lufthansa"
          },
          "arrival": {
           "quality": [
            "Basic"
           ],
           "scheduledTimeLocal": "2021-12-02 22:55+01:00",
           "scheduledTimeUtc": "2021-12-02 21:55Z",
           "terminal": "1"
          },
          "codeshareStatus": "IsCodeshared",
          "departure": {
           "airport": {
            "iata": "MUC",
            "icao": "EDDM",
            "name": "Munich"
           },
           "quality": [
            "Basic"
           ],
           "scheduledTimeLocal": "2021-12-02 21:45+01:00",
           "scheduledTimeUtc": "2021-12-02 20:45Z",
           "terminal": "2"
          },
          "isCargo": false,
          "number": "LH 1958",
          "status": "Unknown"
         },
         {
          "aircraft": {
           "model": "Airbus A320 NEO"
          },
          "airline": {
           "name": "Lufthansa"
          },
          "arrival": {
           "quality": [
            "Basic"
           ],
           "scheduledTimeLocal": "2021-12-02 22:25+01:00",
           "scheduledTimeUtc": "2021-12-02 21:25Z",
           "terminal": "1"
          },
          "codeshareStatus": "IsCodeshared",
          "departure": {
           "actualTimeLocal": "2021-12-02 21:15+01:00",
           "actualTimeUtc": "2021-12-02 20:15Z",
           "airport": {
            "iata": "FRA",
            "icao": "EDDF",
            "name": "Frankfurt-am-Main"
           },
           "quality": [
            "Basic",
            "Live"
           ],
           "scheduledTimeLocal": "2021-12-02 21:15+01:00",
           "scheduledTimeUtc": "2021-12-02 20:15Z",
           "terminal": "1"
          },
          "isCargo": false,
          "number": "LH 202",
          "status": "Unknown"
         },
         {
          "aircraft": {
           "model": "Airbus A320"
          },
          "airline": {
           "name": "SWISS"
          },
          "arrival": {
           "quality": [
            "Basic"
           ],
           "scheduledTimeLocal": "2021-12-02 22:25+01:00",
           "scheduledTimeUtc": "2021-12-02 21:25Z",
           "terminal": "1"
          },
          "codeshareStatus": "Unknown",
          "departure": {
           "actualTimeLocal": "2021-12-02 20:55+01:00",
           "actualTimeUtc": "2021-12-02 19:55Z",
           "airport": {
            "iata": "ZRH",
            "icao": "LSZH",
            "name": "Zurich"
           },
           "checkInDesk": "1",
           "quality": [
            "Basic",
            "Live"
           ],
           "scheduledTimeLocal": "2021-12-02 20:55+01:00",
           "scheduledTimeUtc": "2021-12-02 19:55Z"
          },
          "isCargo": false,
          "number": "LX 962",
          "status": "Unknown"
         },
         {
          "aircraft": {
           "model": "Airbus A321"
          },
          "airline": {
           "name": "Austrian"
          },
          "arrival": {
           "quality": [
            "Basic"
           ],
           "scheduledTimeLocal": "2021-12-02 22:10+01:00",
           "scheduledTimeUtc": "2021-12-02 21:10Z",
           "terminal": "1"
          },
          "codeshareStatus": "Unknown",
          "departure": {
           "airport": {
            "iata": "VIE",
            "icao": "LOWW",
            "name": "Vienna"
           },
           "quality": [
            "Basic"
           ],
           "scheduledTimeLocal": "2021-12-02 20:55+01:00",
           "scheduledTimeUtc": "2021-12-02 19:55Z",
           "terminal": "3"
          },
          "isCargo": false,
          "number": "OS 239",
          "status": "Unknown"
         },
         {
          "aircraft": {
           "model": "Airbus A320"
          },
          "airline": {
           "name": "Brussels"
          },
          "arrival": {
           "quality": [
            "Basic"
           ],
           "scheduledTimeLocal": "2021-12-02 22:05+01:00",
           "scheduledTimeUtc": "2021-12-02 21:05Z",
           "terminal": "1"
          },
          "codeshareStatus": "Unknown",
          "departure": {
           "actualTimeLocal": "2021-12-02 20:45+01:00",
           "actualTimeUtc": "2021-12-02 19:45Z",
           "airport": {
            "iata": "BRU",
            "icao": "EBBR",
            "name": "Brussels"
           },
           "checkInDesk": "02",
           "quality": [
            "Basic",
            "Live"
           ],
           "scheduledTimeLocal": "2021-12-02 20:45+01:00",
           "scheduledTimeUtc": "2021-12-02 19:45Z"
          },
          "isCargo": false,
          "number": "SN 2591",
          "status": "Unknown"
         },
         {
          "aircraft": {
           "model": "Embraer 190"
          },
          "airline": {
           "name": "TAP Air Portugal"
          },
          "arrival": {
           "quality": [
            "Basic"
           ],
           "scheduledTimeLocal": "2021-12-02 22:50+01:00",
           "scheduledTimeUtc": "2021-12-02 21:50Z",
           "terminal": "1"
          },
          "codeshareStatus": "Unknown",
          "departure": {
           "actualTimeLocal": "2021-12-02 18:10+00:00",
           "actualTimeUtc": "2021-12-02 18:10Z",
           "airport": {
            "iata": "LIS",
            "icao": "LPPT",
            "name": "Lisbon"
           },
           "quality": [
            "Basic",
            "Live"
           ],
           "scheduledTimeLocal": "2021-12-02 18:10+00:00",
           "scheduledTimeUtc": "2021-12-02 18:10Z",
           "terminal": "T1"
          },
          "isCargo": false,
          "number": "TP 532",
          "status": "Unknown"
         },
         {
          "aircraft": {
           "model": "Airbus A320"
          },
          "airline": {
           "name": "easyJet"
          },
          "arrival": {
           "quality": [
            "Basic"
           ],
           "scheduledTimeLocal": "2021-12-02 22:30+01:00",
           "scheduledTimeUtc": "2021-12-02 21:30Z",
           "terminal": "1"
          },
          "codeshareStatus": "Unknown",
          "departure": {
           "airport": {
            "iata": "MXP",
            "icao": "LIMC",
            "name": "Milan"
           },
           "quality": [
            "Basic"
           ],
           "scheduledTimeLocal": "2021-12-02 20:40+01:00",
           "scheduledTimeUtc": "2021-12-02 19:40Z",
           "terminal": "1"
          },
          "isCargo": false,
          "number": "U2 4678",
          "status": "Unknown"
         },
         {
          "aircraft": {
           "model": "Airbus A320"
          },
          "airline": {
           "name": "easyJet"
          },
          "arrival": {
           "quality": [
            "Basic"
           ],
           "scheduledTimeLocal": "2021-12-02 22:25+01:00",
           "scheduledTimeUtc": "2021-12-02 21:25Z",
           "terminal": "1"
          },
          "codeshareStatus": "Unknown",
          "departure": {
           "airport": {
            "iata": "TLV",
            "icao": "LLBG",
            "name": "Tel Aviv Yafo"
           },
           "quality": [
            "Basic"
           ],
           "scheduledTimeLocal": "2021-12-02 18:50+02:00",
           "scheduledTimeUtc": "2021-12-02 16:50Z",
           "terminal": "3"
          },
          "isCargo": false,
          "number": "U2 5206",
          "status": "Unknown"
         },
         {
          "aircraft": {
           "model": "Airbus A320"
          },
          "airline": {
           "name": "easyJet"
          },
          "arrival": {
           "quality": [
            "Basic"
           ],
           "scheduledTimeLocal": "2021-12-02 22:20+01:00",
           "scheduledTimeUtc": "2021-12-02 21:20Z",
           "terminal": "1"
          },
          "codeshareStatus": "Unknown",
          "departure": {
           "airport": {
            "iata": "BSL",
            "icao": "LFSB",
            "name": "Bâle/Mulhouse"
           },
           "quality": [
            "Basic"
           ],
           "scheduledTimeLocal": "2021-12-02 20:45+01:00",
           "scheduledTimeUtc": "2021-12-02 19:45Z"
          },
          "isCargo": false,
          "number": "U2 5640",
          "status": "Unknown"
         },
         {
          "aircraft": {
           "model": "Airbus A320"
          },
          "airline": {
           "name": "easyJet"
          },
          "arrival": {
           "quality": [
            "Basic"
           ],
           "scheduledTimeLocal": "2021-12-02 22:30+01:00",
           "scheduledTimeUtc": "2021-12-02 21:30Z",
           "terminal": "1"
          },
          "codeshareStatus": "Unknown",
          "departure": {
           "airport": {
            "name": "Copenhagen"
           },
           "quality": []
          },
          "isCargo": false,
          "number": "U2 5690",
          "status": "Unknown"
         },
         {
          "aircraft": {
           "model": "Airbus A320"
          },
          "airline": {
           "name": "easyJet"
          },
          "arrival": {
           "quality": [
            "Basic"
           ],
           "scheduledTimeLocal": "2021-12-02 22:30+01:00",
           "scheduledTimeUtc": "2021-12-02 21:30Z",
           "terminal": "1"
          },
          "codeshareStatus": "Unknown",
          "departure": {
           "airport": {
            "iata": "PMI",
            "icao": "LEPA",
            "name": "Palma De Mallorca"
           },
           "quality": [
            "Basic"
           ],
           "scheduledTimeLocal": "2021-12-02 19:35+01:00",
           "scheduledTimeUtc": "2021-12-02 18:35Z"
          },
          "isCargo": false,
          "number": "U2 5808",
          "status": "Unknown"
         },
         {
          "aircraft": {
           "model": "Airbus A320"
          },
          "airline": {
           "name": "easyJet"
          },
          "arrival": {
           "quality": [
            "Basic"
           ],
           "scheduledTimeLocal": "2021-12-02 22:25+01:00",
           "scheduledTimeUtc": "2021-12-02 21:25Z",
           "terminal": "1"
          },
          "codeshareStatus": "Unknown",
          "departure": {
           "airport": {
            "iata": "TFS",
            "icao": "GCTS",
            "name": "Tenerife Island"
           },
           "quality": [
            "Basic"
           ],
           "scheduledTimeLocal": "2021-12-02 16:05+00:00",
           "scheduledTimeUtc": "2021-12-02 16:05Z"
          },
          "isCargo": false,
          "number": "U2 5916",
          "status": "Unknown"
         }
        ]
       }
      ],
      "text/plain": [
       "<IPython.core.display.JSON object>"
      ]
     },
     "execution_count": 23,
     "metadata": {
      "application/json": {
       "expanded": false,
       "root": "root"
      }
     },
     "output_type": "execute_result"
    }
   ],
   "source": [
    "JSON(test)"
   ]
  },
  {
   "cell_type": "code",
   "execution_count": 4,
   "id": "c05df211-bed3-4311-bca8-dc7ad0ee079b",
   "metadata": {},
   "outputs": [],
   "source": [
    "flight_data = get_flight_data('EDDB')"
   ]
  },
  {
   "cell_type": "code",
   "execution_count": 37,
   "id": "f655c9b2-08cc-45c3-92d2-ca3c2df4ee0a",
   "metadata": {},
   "outputs": [
    {
     "data": {
      "application/json": [
       {
        "arrivals": [
         {
          "aircraft": {
           "model": "Boeing 737-800"
          },
          "airline": {
           "name": "Eurowings"
          },
          "arrival": {
           "quality": [
            "Basic"
           ],
           "scheduledTimeLocal": "2021-12-02 07:25+01:00",
           "scheduledTimeUtc": "2021-12-02 06:25Z",
           "terminal": "1"
          },
          "codeshareStatus": "Unknown",
          "departure": {
           "airport": {
            "iata": "CGN",
            "icao": "EDDK",
            "name": "Cologne"
           },
           "quality": [
            "Basic"
           ],
           "scheduledTimeLocal": "2021-12-02 06:15+01:00",
           "scheduledTimeUtc": "2021-12-02 05:15Z",
           "terminal": "1"
          },
          "isCargo": false,
          "number": "EW 12",
          "status": "Unknown"
         },
         {
          "aircraft": {
           "model": "Airbus A320"
          },
          "airline": {
           "name": "Eurowings"
          },
          "arrival": {
           "quality": [
            "Basic"
           ],
           "scheduledTimeLocal": "2021-12-02 07:30+01:00",
           "scheduledTimeUtc": "2021-12-02 06:30Z",
           "terminal": "1"
          },
          "codeshareStatus": "Unknown",
          "departure": {
           "actualTimeLocal": "2021-12-02 06:10+01:00",
           "actualTimeUtc": "2021-12-02 05:10Z",
           "airport": {
            "iata": "STR",
            "icao": "EDDS",
            "name": "Stuttgart"
           },
           "gate": "164",
           "quality": [
            "Basic",
            "Live"
           ],
           "scheduledTimeLocal": "2021-12-02 06:10+01:00",
           "scheduledTimeUtc": "2021-12-02 05:10Z",
           "terminal": "1"
          },
          "isCargo": false,
          "number": "EW 2002",
          "status": "Unknown"
         },
         {
          "aircraft": {
           "model": "Airbus A319"
          },
          "airline": {
           "name": "Eurowings"
          },
          "arrival": {
           "quality": [
            "Basic"
           ],
           "scheduledTimeLocal": "2021-12-02 07:35+01:00",
           "scheduledTimeUtc": "2021-12-02 06:35Z",
           "terminal": "1"
          },
          "codeshareStatus": "Unknown",
          "departure": {
           "airport": {
            "name": "Duesseldorf"
           },
           "quality": []
          },
          "isCargo": false,
          "number": "EW 9048",
          "status": "Unknown"
         },
         {
          "aircraft": {
           "model": "Airbus A220-300"
          },
          "airline": {
           "name": "Air Baltic"
          },
          "arrival": {
           "quality": [
            "Basic"
           ],
           "scheduledTimeLocal": "2021-12-02 07:55+01:00",
           "scheduledTimeUtc": "2021-12-02 06:55Z",
           "terminal": "1"
          },
          "codeshareStatus": "Unknown",
          "departure": {
           "actualTimeLocal": "2021-12-02 07:15+02:00",
           "actualTimeUtc": "2021-12-02 05:15Z",
           "airport": {
            "iata": "RIX",
            "icao": "EVRA",
            "name": "Riga"
           },
           "quality": [
            "Basic",
            "Live"
           ],
           "scheduledTimeLocal": "2021-12-02 07:15+02:00",
           "scheduledTimeUtc": "2021-12-02 05:15Z",
           "terminal": "B9"
          },
          "isCargo": false,
          "number": "BT 211",
          "status": "Unknown"
         },
         {
          "aircraft": {
           "model": "Airbus A319"
          },
          "airline": {
           "name": "easyJet"
          },
          "arrival": {
           "quality": [
            "Basic"
           ],
           "scheduledTimeLocal": "2021-12-02 07:55+01:00",
           "scheduledTimeUtc": "2021-12-02 06:55Z",
           "terminal": "1"
          },
          "codeshareStatus": "Unknown",
          "departure": {
           "airport": {
            "iata": "BSL",
            "icao": "LFSB",
            "name": "Bâle/Mulhouse"
           },
           "quality": [
            "Basic"
           ],
           "scheduledTimeLocal": "2021-12-02 06:20+01:00",
           "scheduledTimeUtc": "2021-12-02 05:20Z"
          },
          "isCargo": false,
          "number": "U2 5632",
          "status": "Unknown"
         },
         {
          "aircraft": {
           "model": "Airbus A321",
           "reg": "D-AIDA"
          },
          "airline": {
           "name": "Lufthansa"
          },
          "arrival": {
           "quality": [
            "Basic"
           ],
           "scheduledTimeLocal": "2021-12-02 07:55+01:00",
           "scheduledTimeUtc": "2021-12-02 06:55Z",
           "terminal": "1"
          },
          "codeshareStatus": "IsCodeshared",
          "departure": {
           "actualTimeLocal": "2021-12-02 06:45+01:00",
           "actualTimeUtc": "2021-12-02 05:45Z",
           "airport": {
            "iata": "FRA",
            "icao": "EDDF",
            "name": "Frankfurt-am-Main"
           },
           "checkInDesk": "263-453",
           "gate": "A15",
           "quality": [
            "Basic",
            "Live"
           ],
           "scheduledTimeLocal": "2021-12-02 06:45+01:00",
           "scheduledTimeUtc": "2021-12-02 05:45Z",
           "terminal": "1"
          },
          "isCargo": false,
          "number": "LH 170",
          "status": "Unknown"
         },
         {
          "aircraft": {
           "model": "ATR 72"
          },
          "airline": {
           "name": "Danish Air"
          },
          "arrival": {
           "quality": [
            "Basic"
           ],
           "scheduledTimeLocal": "2021-12-02 08:10+01:00",
           "scheduledTimeUtc": "2021-12-02 07:10Z",
           "terminal": "0"
          },
          "codeshareStatus": "Unknown",
          "departure": {
           "airport": {
            "iata": "SCN",
            "icao": "EDDR",
            "name": "Saarbrücken"
           },
           "quality": [
            "Basic"
           ],
           "scheduledTimeLocal": "2021-12-02 06:40+01:00",
           "scheduledTimeUtc": "2021-12-02 05:40Z"
          },
          "isCargo": false,
          "number": "DX 121",
          "status": "Unknown"
         },
         {
          "aircraft": {
           "model": "Airbus A320 NEO"
          },
          "airline": {
           "name": "Lufthansa"
          },
          "arrival": {
           "quality": [
            "Basic"
           ],
           "scheduledTimeLocal": "2021-12-02 08:10+01:00",
           "scheduledTimeUtc": "2021-12-02 07:10Z",
           "terminal": "1"
          },
          "codeshareStatus": "IsCodeshared",
          "departure": {
           "airport": {
            "iata": "MUC",
            "icao": "EDDM",
            "name": "Munich"
           },
           "quality": [
            "Basic"
           ],
           "scheduledTimeLocal": "2021-12-02 07:00+01:00",
           "scheduledTimeUtc": "2021-12-02 06:00Z",
           "terminal": "2"
          },
          "isCargo": false,
          "number": "LH 1928",
          "status": "Unknown"
         },
         {
          "aircraft": {
           "model": "Bombardier Dash 8 Q400 / DHC-8-400"
          },
          "airline": {
           "name": "Luxair"
          },
          "arrival": {
           "quality": [
            "Basic"
           ],
           "scheduledTimeLocal": "2021-12-02 08:15+01:00",
           "scheduledTimeUtc": "2021-12-02 07:15Z",
           "terminal": "1"
          },
          "codeshareStatus": "Unknown",
          "departure": {
           "actualTimeLocal": "2021-12-02 06:45+01:00",
           "actualTimeUtc": "2021-12-02 05:45Z",
           "airport": {
            "iata": "LUX",
            "icao": "ELLX",
            "name": "Luxembourg"
           },
           "quality": [
            "Basic",
            "Live"
           ],
           "scheduledTimeLocal": "2021-12-02 06:45+01:00",
           "scheduledTimeUtc": "2021-12-02 05:45Z"
          },
          "isCargo": false,
          "number": "LG 9471",
          "status": "Unknown"
         },
         {
          "aircraft": {
           "model": "Airbus A321"
          },
          "airline": {
           "name": "Finnair"
          },
          "arrival": {
           "quality": [
            "Basic"
           ],
           "scheduledTimeLocal": "2021-12-02 08:20+01:00",
           "scheduledTimeUtc": "2021-12-02 07:20Z",
           "terminal": "1"
          },
          "codeshareStatus": "Unknown",
          "departure": {
           "actualTimeLocal": "2021-12-02 07:20+02:00",
           "actualTimeUtc": "2021-12-02 05:20Z",
           "airport": {
            "iata": "HEL",
            "icao": "EFHK",
            "name": "Helsinki"
           },
           "checkInDesk": "507-517",
           "quality": [
            "Basic",
            "Live"
           ],
           "scheduledTimeLocal": "2021-12-02 07:20+02:00",
           "scheduledTimeUtc": "2021-12-02 05:20Z",
           "terminal": "T2-500"
          },
          "isCargo": false,
          "number": "AY 1431",
          "status": "Unknown"
         },
         {
          "aircraft": {
           "model": "Airbus A320"
          },
          "airline": {
           "name": "SWISS"
          },
          "arrival": {
           "quality": [
            "Basic"
           ],
           "scheduledTimeLocal": "2021-12-02 08:45+01:00",
           "scheduledTimeUtc": "2021-12-02 07:45Z",
           "terminal": "1"
          },
          "codeshareStatus": "Unknown",
          "departure": {
           "actualTimeLocal": "2021-12-02 07:15+01:00",
           "actualTimeUtc": "2021-12-02 06:15Z",
           "airport": {
            "iata": "ZRH",
            "icao": "LSZH",
            "name": "Zurich"
           },
           "checkInDesk": "1",
           "quality": [
            "Basic",
            "Live"
           ],
           "scheduledTimeLocal": "2021-12-02 07:15+01:00",
           "scheduledTimeUtc": "2021-12-02 06:15Z"
          },
          "isCargo": false,
          "number": "LX 974",
          "status": "Unknown"
         },
         {
          "aircraft": {
           "model": "Airbus A318"
          },
          "airline": {
           "name": "Air France"
          },
          "arrival": {
           "quality": [
            "Basic"
           ],
           "scheduledTimeLocal": "2021-12-02 08:55+01:00",
           "scheduledTimeUtc": "2021-12-02 07:55Z",
           "terminal": "1"
          },
          "codeshareStatus": "Unknown",
          "departure": {
           "airport": {
            "iata": "ORY",
            "icao": "LFPO",
            "name": "Paris"
           },
           "quality": [
            "Basic"
           ],
           "scheduledTimeLocal": "2021-12-02 07:00+01:00",
           "scheduledTimeUtc": "2021-12-02 06:00Z",
           "terminal": "3"
          },
          "isCargo": false,
          "number": "AF 7354",
          "status": "Unknown"
         },
         {
          "aircraft": {
           "model": "Airbus A320",
           "reg": "D-AIWK"
          },
          "airline": {
           "name": "Lufthansa"
          },
          "arrival": {
           "quality": [
            "Basic"
           ],
           "scheduledTimeLocal": "2021-12-02 08:55+01:00",
           "scheduledTimeUtc": "2021-12-02 07:55Z",
           "terminal": "1"
          },
          "codeshareStatus": "IsCodeshared",
          "departure": {
           "actualTimeLocal": "2021-12-02 07:45+01:00",
           "actualTimeUtc": "2021-12-02 06:45Z",
           "airport": {
            "iata": "FRA",
            "icao": "EDDF",
            "name": "Frankfurt-am-Main"
           },
           "checkInDesk": "263-453",
           "gate": "A19",
           "quality": [
            "Basic",
            "Live"
           ],
           "scheduledTimeLocal": "2021-12-02 07:45+01:00",
           "scheduledTimeUtc": "2021-12-02 06:45Z",
           "terminal": "1"
          },
          "isCargo": false,
          "number": "LH 174",
          "status": "Unknown"
         },
         {
          "aircraft": {
           "model": "Airbus A320"
          },
          "airline": {
           "name": "Air Serbia"
          },
          "arrival": {
           "quality": [
            "Basic"
           ],
           "scheduledTimeLocal": "2021-12-02 09:00+01:00",
           "scheduledTimeUtc": "2021-12-02 08:00Z",
           "terminal": "1"
          },
          "codeshareStatus": "Unknown",
          "departure": {
           "airport": {
            "iata": "BEG",
            "icao": "LYBE",
            "name": "Belgrade"
           },
           "quality": [
            "Basic"
           ],
           "scheduledTimeLocal": "2021-12-02 07:10+01:00",
           "scheduledTimeUtc": "2021-12-02 06:10Z",
           "terminal": "2"
          },
          "isCargo": false,
          "number": "JU 350",
          "status": "Unknown"
         },
         {
          "aircraft": {
           "model": "Boeing 737-800"
          },
          "airline": {
           "name": "Norwegian Air Shuttle"
          },
          "arrival": {
           "quality": [
            "Basic"
           ],
           "scheduledTimeLocal": "2021-12-02 09:10+01:00",
           "scheduledTimeUtc": "2021-12-02 08:10Z",
           "terminal": "1"
          },
          "codeshareStatus": "Unknown",
          "departure": {
           "airport": {
            "iata": "OSL",
            "icao": "ENGM",
            "name": "Oslo"
           },
           "checkInDesk": "23",
           "quality": [
            "Basic"
           ],
           "scheduledTimeLocal": "2021-12-02 07:35+01:00",
           "scheduledTimeUtc": "2021-12-02 06:35Z"
          },
          "isCargo": false,
          "number": "DY 1102",
          "status": "Unknown"
         },
         {
          "aircraft": {
           "model": "Boeing 737-800"
          },
          "airline": {
           "name": "Ryanair"
          },
          "arrival": {
           "quality": [
            "Basic"
           ],
           "scheduledTimeLocal": "2021-12-02 09:25+01:00",
           "scheduledTimeUtc": "2021-12-02 08:25Z"
          },
          "codeshareStatus": "Unknown",
          "departure": {
           "actualTimeLocal": "2021-12-02 06:20+01:00",
           "actualTimeUtc": "2021-12-02 05:20Z",
           "airport": {
            "iata": "MAD",
            "icao": "LEMD",
            "name": "Madrid"
           },
           "quality": [
            "Basic",
            "Live"
           ],
           "scheduledTimeLocal": "2021-12-02 06:20+01:00",
           "scheduledTimeUtc": "2021-12-02 05:20Z",
           "terminal": "1"
          },
          "isCargo": false,
          "number": "FR 2526",
          "status": "Unknown"
         },
         {
          "aircraft": {
           "model": "Airbus A320"
          },
          "airline": {
           "name": "Eurowings"
          },
          "arrival": {
           "quality": [
            "Basic"
           ],
           "scheduledTimeLocal": "2021-12-02 09:40+01:00",
           "scheduledTimeUtc": "2021-12-02 08:40Z",
           "terminal": "1"
          },
          "codeshareStatus": "Unknown",
          "departure": {
           "airport": {
            "iata": "CGN",
            "icao": "EDDK",
            "name": "Cologne"
           },
           "quality": [
            "Basic"
           ],
           "scheduledTimeLocal": "2021-12-02 08:30+01:00",
           "scheduledTimeUtc": "2021-12-02 07:30Z",
           "terminal": "1"
          },
          "isCargo": false,
          "number": "EW 8059",
          "status": "Unknown"
         },
         {
          "aircraft": {
           "model": "Airbus A330-300"
          },
          "airline": {
           "name": "Turkish"
          },
          "arrival": {
           "quality": [
            "Basic"
           ],
           "scheduledTimeLocal": "2021-12-02 09:35+01:00",
           "scheduledTimeUtc": "2021-12-02 08:35Z",
           "terminal": "1"
          },
          "codeshareStatus": "Unknown",
          "departure": {
           "airport": {
            "iata": "IST",
            "icao": "LTFM",
            "name": "Istanbul"
           },
           "quality": [
            "Basic"
           ],
           "scheduledTimeLocal": "2021-12-02 08:55+03:00",
           "scheduledTimeUtc": "2021-12-02 05:55Z"
          },
          "isCargo": false,
          "number": "TK 1721",
          "status": "Unknown"
         },
         {
          "aircraft": {
           "model": "Boeing 737-800"
          },
          "airline": {
           "name": "Ryanair"
          },
          "arrival": {
           "quality": [
            "Basic"
           ],
           "scheduledTimeLocal": "2021-12-02 09:45+01:00",
           "scheduledTimeUtc": "2021-12-02 08:45Z"
          },
          "codeshareStatus": "Unknown",
          "departure": {
           "actualTimeLocal": "2021-12-02 09:05+02:00",
           "actualTimeUtc": "2021-12-02 07:05Z",
           "airport": {
            "iata": "RIX",
            "icao": "EVRA",
            "name": "Riga"
           },
           "quality": [
            "Basic",
            "Live"
           ],
           "scheduledTimeLocal": "2021-12-02 09:05+02:00",
           "scheduledTimeUtc": "2021-12-02 07:05Z"
          },
          "isCargo": false,
          "number": "FR 2600",
          "status": "Unknown"
         },
         {
          "aircraft": {
           "model": "Airbus A319"
          },
          "airline": {
           "name": "easyJet"
          },
          "arrival": {
           "quality": [
            "Basic"
           ],
           "scheduledTimeLocal": "2021-12-02 09:45+01:00",
           "scheduledTimeUtc": "2021-12-02 08:45Z",
           "terminal": "1"
          },
          "codeshareStatus": "Unknown",
          "departure": {
           "airport": {
            "name": "Aarhus"
           },
           "quality": []
          },
          "isCargo": false,
          "number": "U2 5698",
          "status": "Unknown"
         },
         {
          "aircraft": {
           "model": "Airbus A320",
           "reg": "D-AIUE"
          },
          "airline": {
           "name": "Lufthansa"
          },
          "arrival": {
           "quality": [
            "Basic"
           ],
           "scheduledTimeLocal": "2021-12-02 09:55+01:00",
           "scheduledTimeUtc": "2021-12-02 08:55Z",
           "terminal": "1"
          },
          "codeshareStatus": "IsCodeshared",
          "departure": {
           "actualTimeLocal": "2021-12-02 08:45+01:00",
           "actualTimeUtc": "2021-12-02 07:45Z",
           "airport": {
            "iata": "FRA",
            "icao": "EDDF",
            "name": "Frankfurt-am-Main"
           },
           "checkInDesk": "263-453",
           "gate": "A17",
           "quality": [
            "Basic",
            "Live"
           ],
           "scheduledTimeLocal": "2021-12-02 08:45+01:00",
           "scheduledTimeUtc": "2021-12-02 07:45Z",
           "terminal": "1"
          },
          "isCargo": false,
          "number": "LH 176",
          "status": "Unknown"
         },
         {
          "aircraft": {
           "model": "Boeing 787-8"
          },
          "airline": {
           "name": "Scoot"
          },
          "arrival": {
           "quality": [
            "Basic"
           ],
           "scheduledTimeLocal": "2021-12-02 10:20+01:00",
           "scheduledTimeUtc": "2021-12-02 09:20Z",
           "terminal": "1"
          },
          "codeshareStatus": "Unknown",
          "departure": {
           "actualTimeLocal": "2021-12-02 08:20+02:00",
           "actualTimeUtc": "2021-12-02 06:20Z",
           "airport": {
            "iata": "ATH",
            "icao": "LGAV",
            "name": "Athens"
           },
           "checkInDesk": "1----3",
           "quality": [
            "Basic",
            "Live"
           ],
           "scheduledTimeLocal": "2021-12-02 08:20+02:00",
           "scheduledTimeUtc": "2021-12-02 06:20Z",
           "terminal": "I"
          },
          "isCargo": false,
          "number": "TR 722",
          "status": "Unknown"
         },
         {
          "aircraft": {
           "model": "Boeing 737-800"
          },
          "airline": {
           "name": "Ryanair"
          },
          "arrival": {
           "quality": [
            "Basic"
           ],
           "scheduledTimeLocal": "2021-12-02 09:30+01:00",
           "scheduledTimeUtc": "2021-12-02 08:30Z"
          },
          "codeshareStatus": "Unknown",
          "departure": {
           "actualTimeLocal": "2021-12-02 08:00+01:00",
           "actualTimeUtc": "2021-12-02 07:00Z",
           "airport": {
            "iata": "BUD",
            "icao": "LHBP",
            "name": "Budapest"
           },
           "quality": [
            "Basic",
            "Live"
           ],
           "scheduledTimeLocal": "2021-12-02 08:00+01:00",
           "scheduledTimeUtc": "2021-12-02 07:00Z",
           "terminal": "2B"
          },
          "isCargo": false,
          "number": "FR 197",
          "status": "Unknown"
         },
         {
          "aircraft": {
           "model": "Boeing 737-700",
           "reg": "PH-BXY"
          },
          "airline": {
           "name": "KLM"
          },
          "arrival": {
           "quality": [
            "Basic"
           ],
           "scheduledTimeLocal": "2021-12-02 09:25+01:00",
           "scheduledTimeUtc": "2021-12-02 08:25Z",
           "terminal": "1"
          },
          "codeshareStatus": "IsOperator",
          "departure": {
           "airport": {
            "iata": "AMS",
            "icao": "EHAM",
            "name": "Amsterdam"
           },
           "checkInDesk": "5-8",
           "quality": [
            "Basic"
           ],
           "scheduledTimeLocal": "2021-12-02 08:05+01:00",
           "scheduledTimeUtc": "2021-12-02 07:05Z",
           "terminal": "1"
          },
          "isCargo": false,
          "number": "KL 1821",
          "status": "Unknown"
         },
         {
          "aircraft": {
           "model": "Airbus A320"
          },
          "airline": {
           "name": "Lufthansa"
          },
          "arrival": {
           "quality": [
            "Basic"
           ],
           "scheduledTimeLocal": "2021-12-02 09:40+01:00",
           "scheduledTimeUtc": "2021-12-02 08:40Z",
           "terminal": "1"
          },
          "codeshareStatus": "IsCodeshared",
          "departure": {
           "airport": {
            "iata": "MUC",
            "icao": "EDDM",
            "name": "Munich"
           },
           "quality": [
            "Basic"
           ],
           "scheduledTimeLocal": "2021-12-02 08:30+01:00",
           "scheduledTimeUtc": "2021-12-02 07:30Z",
           "terminal": "2"
          },
          "isCargo": false,
          "number": "LH 1930",
          "status": "Unknown"
         },
         {
          "aircraft": {
           "model": "Embraer 195"
          },
          "airline": {
           "name": "Austrian"
          },
          "arrival": {
           "quality": [
            "Basic"
           ],
           "scheduledTimeLocal": "2021-12-02 10:25+01:00",
           "scheduledTimeUtc": "2021-12-02 09:25Z",
           "terminal": "1"
          },
          "codeshareStatus": "Unknown",
          "departure": {
           "actualTimeLocal": "2021-12-02 09:10+01:00",
           "actualTimeUtc": "2021-12-02 08:10Z",
           "airport": {
            "iata": "VIE",
            "icao": "LOWW",
            "name": "Vienna"
           },
           "checkInDesk": "351-378",
           "quality": [
            "Basic",
            "Live"
           ],
           "scheduledTimeLocal": "2021-12-02 09:10+01:00",
           "scheduledTimeUtc": "2021-12-02 08:10Z",
           "terminal": "T3"
          },
          "isCargo": false,
          "number": "OS 225",
          "status": "Unknown"
         },
         {
          "aircraft": {
           "model": "Boeing 737-800"
          },
          "airline": {
           "name": "Ryanair"
          },
          "arrival": {
           "quality": [
            "Basic"
           ],
           "scheduledTimeLocal": "2021-12-02 10:40+01:00",
           "scheduledTimeUtc": "2021-12-02 09:40Z"
          },
          "codeshareStatus": "Unknown",
          "departure": {
           "airport": {
            "iata": "STN",
            "icao": "EGSS",
            "name": "London"
           },
           "quality": [
            "Basic"
           ],
           "scheduledTimeLocal": "2021-12-02 07:50+00:00",
           "scheduledTimeUtc": "2021-12-02 07:50Z"
          },
          "isCargo": false,
          "number": "FR 145",
          "status": "Unknown"
         },
         {
          "aircraft": {
           "model": "Boeing 737-800"
          },
          "airline": {
           "name": "Ryanair"
          },
          "arrival": {
           "quality": [
            "Basic"
           ],
           "scheduledTimeLocal": "2021-12-02 10:40+01:00",
           "scheduledTimeUtc": "2021-12-02 09:40Z"
          },
          "codeshareStatus": "Unknown",
          "departure": {
           "airport": {
            "iata": "BGY",
            "icao": "LIME",
            "name": "Bergamo"
           },
           "quality": [
            "Basic"
           ],
           "scheduledTimeLocal": "2021-12-02 08:55+01:00",
           "scheduledTimeUtc": "2021-12-02 07:55Z"
          },
          "isCargo": false,
          "number": "FR 4731",
          "status": "Unknown"
         },
         {
          "aircraft": {
           "model": "Airbus A320"
          },
          "airline": {
           "name": "Aegean"
          },
          "arrival": {
           "quality": [
            "Basic"
           ],
           "scheduledTimeLocal": "2021-12-02 10:50+01:00",
           "scheduledTimeUtc": "2021-12-02 09:50Z",
           "terminal": "1"
          },
          "codeshareStatus": "Unknown",
          "departure": {
           "actualTimeLocal": "2021-12-02 08:55+02:00",
           "actualTimeUtc": "2021-12-02 06:55Z",
           "airport": {
            "iata": "ATH",
            "icao": "LGAV",
            "name": "Athens"
           },
           "checkInDesk": "70---91",
           "quality": [
            "Basic",
            "Live"
           ],
           "scheduledTimeLocal": "2021-12-02 08:55+02:00",
           "scheduledTimeUtc": "2021-12-02 06:55Z",
           "terminal": "D"
          },
          "isCargo": false,
          "number": "A3 820",
          "status": "Unknown"
         },
         {
          "aircraft": {
           "model": "Embraer 190"
          },
          "airline": {
           "name": "British Airways"
          },
          "arrival": {
           "quality": [
            "Basic"
           ],
           "scheduledTimeLocal": "2021-12-02 10:25+01:00",
           "scheduledTimeUtc": "2021-12-02 09:25Z",
           "terminal": "1"
          },
          "codeshareStatus": "IsCodeshared",
          "departure": {
           "airport": {
            "iata": "LCY",
            "icao": "EGLC",
            "name": "London"
           },
           "quality": [
            "Basic"
           ],
           "scheduledTimeLocal": "2021-12-02 07:45+00:00",
           "scheduledTimeUtc": "2021-12-02 07:45Z"
          },
          "isCargo": false,
          "number": "BA 8491",
          "status": "Unknown"
         },
         {
          "aircraft": {
           "model": "Boeing 737-800"
          },
          "airline": {
           "name": "Ryanair"
          },
          "arrival": {
           "quality": [
            "Basic"
           ],
           "scheduledTimeLocal": "2021-12-02 11:05+01:00",
           "scheduledTimeUtc": "2021-12-02 10:05Z"
          },
          "codeshareStatus": "Unknown",
          "departure": {
           "airport": {
            "iata": "CIA",
            "icao": "LIRA",
            "name": "Roma"
           },
           "quality": [
            "Basic"
           ],
           "scheduledTimeLocal": "2021-12-02 08:55+01:00",
           "scheduledTimeUtc": "2021-12-02 07:55Z"
          },
          "isCargo": false,
          "number": "FR 135",
          "status": "Unknown"
         },
         {
          "aircraft": {
           "model": "Airbus A320"
          },
          "airline": {
           "name": "Iberia"
          },
          "arrival": {
           "quality": [
            "Basic"
           ],
           "scheduledTimeLocal": "2021-12-02 11:05+01:00",
           "scheduledTimeUtc": "2021-12-02 10:05Z",
           "terminal": "1"
          },
          "codeshareStatus": "Unknown",
          "departure": {
           "actualTimeLocal": "2021-12-02 08:05+01:00",
           "actualTimeUtc": "2021-12-02 07:05Z",
           "airport": {
            "iata": "MAD",
            "icao": "LEMD",
            "name": "Madrid"
           },
           "quality": [
            "Basic",
            "Live"
           ],
           "scheduledTimeLocal": "2021-12-02 08:05+01:00",
           "scheduledTimeUtc": "2021-12-02 07:05Z",
           "terminal": "4"
          },
          "isCargo": false,
          "number": "IB 3676",
          "status": "Unknown"
         },
         {
          "aircraft": {
           "model": "Airbus A319"
          },
          "airline": {
           "name": "easyJet"
          },
          "arrival": {
           "quality": [
            "Basic"
           ],
           "scheduledTimeLocal": "2021-12-02 10:35+01:00",
           "scheduledTimeUtc": "2021-12-02 09:35Z",
           "terminal": "1"
          },
          "codeshareStatus": "Unknown",
          "departure": {
           "airport": {
            "iata": "AMS",
            "icao": "EHAM",
            "name": "Amsterdam"
           },
           "quality": [
            "Basic"
           ],
           "scheduledTimeLocal": "2021-12-02 09:10+01:00",
           "scheduledTimeUtc": "2021-12-02 08:10Z"
          },
          "isCargo": false,
          "number": "U2 5102",
          "status": "Unknown"
         },
         {
          "aircraft": {
           "model": "Airbus A320"
          },
          "airline": {
           "name": "Pegasus"
          },
          "arrival": {
           "quality": [
            "Basic"
           ],
           "scheduledTimeLocal": "2021-12-02 11:00+01:00",
           "scheduledTimeUtc": "2021-12-02 10:00Z",
           "terminal": "0"
          },
          "codeshareStatus": "Unknown",
          "departure": {
           "airport": {
            "iata": "SAW",
            "icao": "LTFJ",
            "name": "Istanbul"
           },
           "quality": [
            "Basic"
           ],
           "scheduledTimeLocal": "2021-12-02 09:55+03:00",
           "scheduledTimeUtc": "2021-12-02 06:55Z"
          },
          "isCargo": false,
          "number": "PC 977",
          "status": "Unknown"
         },
         {
          "aircraft": {
           "model": "Airbus A320"
          },
          "airline": {
           "name": "easyJet"
          },
          "arrival": {
           "quality": [
            "Basic"
           ],
           "scheduledTimeLocal": "2021-12-02 11:20+01:00",
           "scheduledTimeUtc": "2021-12-02 10:20Z",
           "terminal": "1"
          },
          "codeshareStatus": "Unknown",
          "departure": {
           "airport": {
            "name": "Geneva"
           },
           "quality": []
          },
          "isCargo": false,
          "number": "U2 1591",
          "status": "Unknown"
         },
         {
          "aircraft": {
           "model": "Airbus A320"
          },
          "airline": {
           "name": "easyJet"
          },
          "arrival": {
           "quality": [
            "Basic"
           ],
           "scheduledTimeLocal": "2021-12-02 11:25+01:00",
           "scheduledTimeUtc": "2021-12-02 10:25Z",
           "terminal": "1"
          },
          "codeshareStatus": "Unknown",
          "departure": {
           "airport": {
            "iata": "MXP",
            "icao": "LIMC",
            "name": "Milan"
           },
           "quality": [
            "Basic"
           ],
           "scheduledTimeLocal": "2021-12-02 09:35+01:00",
           "scheduledTimeUtc": "2021-12-02 08:35Z",
           "terminal": "1"
          },
          "isCargo": false,
          "number": "U2 4672",
          "status": "Unknown"
         },
         {
          "aircraft": {
           "model": "Bombardier CRJ900",
           "reg": "EI-FPW"
          },
          "airline": {
           "name": "SAS"
          },
          "arrival": {
           "quality": [
            "Basic"
           ],
           "scheduledTimeLocal": "2021-12-02 10:30+01:00",
           "scheduledTimeUtc": "2021-12-02 09:30Z",
           "terminal": "1"
          },
          "codeshareStatus": "Unknown",
          "departure": {
           "actualTimeLocal": "2021-12-02 08:55+01:00",
           "actualTimeUtc": "2021-12-02 07:55Z",
           "airport": {
            "iata": "ARN",
            "icao": "ESSA",
            "name": "Stockholm"
           },
           "checkInDesk": "71-74",
           "quality": [
            "Basic",
            "Live"
           ],
           "scheduledTimeLocal": "2021-12-02 08:55+01:00",
           "scheduledTimeUtc": "2021-12-02 07:55Z",
           "terminal": "T5"
          },
          "isCargo": false,
          "number": "SK 2677",
          "status": "Unknown"
         },
         {
          "aircraft": {
           "model": "Airbus A320"
          },
          "airline": {
           "name": "easyJet"
          },
          "arrival": {
           "quality": [
            "Basic"
           ],
           "scheduledTimeLocal": "2021-12-02 11:35+01:00",
           "scheduledTimeUtc": "2021-12-02 10:35Z",
           "terminal": "1"
          },
          "codeshareStatus": "Unknown",
          "departure": {
           "airport": {
            "iata": "CDG",
            "icao": "LFPG",
            "name": "Paris"
           },
           "quality": [
            "Basic"
           ],
           "scheduledTimeLocal": "2021-12-02 09:45+01:00",
           "scheduledTimeUtc": "2021-12-02 08:45Z",
           "terminal": "2D"
          },
          "isCargo": false,
          "number": "U2 5652",
          "status": "Unknown"
         },
         {
          "aircraft": {
           "model": "Airbus A319"
          },
          "airline": {
           "name": "Air France"
          },
          "arrival": {
           "quality": [
            "Basic"
           ],
           "scheduledTimeLocal": "2021-12-02 11:40+01:00",
           "scheduledTimeUtc": "2021-12-02 10:40Z",
           "terminal": "1"
          },
          "codeshareStatus": "Unknown",
          "departure": {
           "airport": {
            "iata": "CDG",
            "icao": "LFPG",
            "name": "Paris"
           },
           "quality": [
            "Basic"
           ],
           "scheduledTimeLocal": "2021-12-02 09:55+01:00",
           "scheduledTimeUtc": "2021-12-02 08:55Z",
           "terminal": "2F"
          },
          "isCargo": false,
          "number": "AF 1734",
          "status": "Unknown"
         },
         {
          "aircraft": {
           "model": "Airbus A320"
          },
          "airline": {
           "name": "British Airways"
          },
          "arrival": {
           "quality": [
            "Basic"
           ],
           "scheduledTimeLocal": "2021-12-02 11:40+01:00",
           "scheduledTimeUtc": "2021-12-02 10:40Z",
           "terminal": "1"
          },
          "codeshareStatus": "IsCodeshared",
          "departure": {
           "actualTimeLocal": "2021-12-02 08:45+00:00",
           "actualTimeUtc": "2021-12-02 08:45Z",
           "airport": {
            "iata": "LHR",
            "icao": "EGLL",
            "name": "London"
           },
           "checkInDesk": "G",
           "quality": [
            "Basic",
            "Live"
           ],
           "scheduledTimeLocal": "2021-12-02 08:45+00:00",
           "scheduledTimeUtc": "2021-12-02 08:45Z",
           "terminal": "5"
          },
          "isCargo": false,
          "number": "BA 992",
          "status": "Unknown"
         },
         {
          "aircraft": {
           "model": "Airbus A319"
          },
          "airline": {
           "name": "Brussels"
          },
          "arrival": {
           "quality": [
            "Basic"
           ],
           "scheduledTimeLocal": "2021-12-02 11:15+01:00",
           "scheduledTimeUtc": "2021-12-02 10:15Z",
           "terminal": "1"
          },
          "codeshareStatus": "Unknown",
          "departure": {
           "actualTimeLocal": "2021-12-02 09:45+01:00",
           "actualTimeUtc": "2021-12-02 08:45Z",
           "airport": {
            "iata": "BRU",
            "icao": "EBBR",
            "name": "Brussels"
           },
           "checkInDesk": "02",
           "quality": [
            "Basic",
            "Live"
           ],
           "scheduledTimeLocal": "2021-12-02 09:45+01:00",
           "scheduledTimeUtc": "2021-12-02 08:45Z"
          },
          "isCargo": false,
          "number": "SN 2581",
          "status": "Unknown"
         },
         {
          "aircraft": {
           "model": "Boeing 737-800"
          },
          "airline": {
           "name": "Ryanair"
          },
          "arrival": {
           "quality": [
            "Basic"
           ],
           "scheduledTimeLocal": "2021-12-02 11:45+01:00",
           "scheduledTimeUtc": "2021-12-02 10:45Z"
          },
          "codeshareStatus": "Unknown",
          "departure": {
           "airport": {
            "iata": "SOF",
            "icao": "LBSF",
            "name": "Sofia"
           },
           "quality": [
            "Basic"
           ],
           "scheduledTimeLocal": "2021-12-02 10:25+02:00",
           "scheduledTimeUtc": "2021-12-02 08:25Z"
          },
          "isCargo": false,
          "number": "FR 1595",
          "status": "Unknown"
         },
         {
          "aircraft": {
           "model": "Bombardier Dash 8 Q400 / DHC-8-400"
          },
          "airline": {
           "name": "LOT - Polish"
          },
          "arrival": {
           "quality": [
            "Basic"
           ],
           "scheduledTimeLocal": "2021-12-02 11:35+01:00",
           "scheduledTimeUtc": "2021-12-02 10:35Z",
           "terminal": "1"
          },
          "codeshareStatus": "Unknown",
          "departure": {
           "actualTimeLocal": "2021-12-02 10:10+01:00",
           "actualTimeUtc": "2021-12-02 09:10Z",
           "airport": {
            "iata": "WAW",
            "icao": "EPWA",
            "name": "Warsaw"
           },
           "checkInDesk": "241-280",
           "quality": [
            "Basic",
            "Live"
           ],
           "scheduledTimeLocal": "2021-12-02 10:10+01:00",
           "scheduledTimeUtc": "2021-12-02 09:10Z",
           "terminal": "E-D"
          },
          "isCargo": false,
          "number": "LO 385",
          "status": "Unknown"
         },
         {
          "aircraft": {
           "model": "Airbus A320"
          },
          "airline": {
           "name": "easyJet"
          },
          "arrival": {
           "quality": [
            "Basic"
           ],
           "scheduledTimeLocal": "2021-12-02 11:55+01:00",
           "scheduledTimeUtc": "2021-12-02 10:55Z",
           "terminal": "1"
          },
          "codeshareStatus": "Unknown",
          "departure": {
           "airport": {
            "iata": "LGW",
            "icao": "EGKK",
            "name": "London"
           },
           "quality": [
            "Basic"
           ],
           "scheduledTimeLocal": "2021-12-02 08:55+00:00",
           "scheduledTimeUtc": "2021-12-02 08:55Z",
           "terminal": "N"
          },
          "isCargo": false,
          "number": "U2 8209",
          "status": "Unknown"
         },
         {
          "aircraft": {
           "model": "Boeing 737-900",
           "reg": "PH-BCK"
          },
          "airline": {
           "name": "KLM"
          },
          "arrival": {
           "quality": [
            "Basic"
           ],
           "scheduledTimeLocal": "2021-12-02 11:05+01:00",
           "scheduledTimeUtc": "2021-12-02 10:05Z",
           "terminal": "1"
          },
          "codeshareStatus": "IsOperator",
          "departure": {
           "airport": {
            "iata": "AMS",
            "icao": "EHAM",
            "name": "Amsterdam"
           },
           "checkInDesk": "5-8",
           "quality": [
            "Basic"
           ],
           "scheduledTimeLocal": "2021-12-02 09:45+01:00",
           "scheduledTimeUtc": "2021-12-02 08:45Z",
           "terminal": "1"
          },
          "isCargo": false,
          "number": "KL 1823",
          "status": "Unknown"
         },
         {
          "aircraft": {
           "model": "Boeing 737-800"
          },
          "airline": {
           "name": "Jet2"
          },
          "arrival": {
           "quality": [
            "Basic"
           ],
           "scheduledTimeLocal": "2021-12-02 11:50+01:00",
           "scheduledTimeUtc": "2021-12-02 10:50Z",
           "terminal": "0"
          },
          "codeshareStatus": "Unknown",
          "departure": {
           "airport": {
            "iata": "NCL",
            "icao": "EGNT",
            "name": "Newcastle upon Tyne"
           },
           "quality": [
            "Basic"
           ],
           "scheduledTimeLocal": "2021-12-02 08:50+00:00",
           "scheduledTimeUtc": "2021-12-02 08:50Z"
          },
          "isCargo": false,
          "number": "LS 4067",
          "status": "Unknown"
         },
         {
          "aircraft": {
           "model": "Airbus A321",
           "reg": "D-AIDE"
          },
          "airline": {
           "name": "Lufthansa"
          },
          "arrival": {
           "quality": [
            "Basic"
           ],
           "scheduledTimeLocal": "2021-12-02 11:55+01:00",
           "scheduledTimeUtc": "2021-12-02 10:55Z",
           "terminal": "1"
          },
          "codeshareStatus": "IsCodeshared",
          "departure": {
           "actualTimeLocal": "2021-12-02 10:45+01:00",
           "actualTimeUtc": "2021-12-02 09:45Z",
           "airport": {
            "iata": "FRA",
            "icao": "EDDF",
            "name": "Frankfurt-am-Main"
           },
           "checkInDesk": "263-453",
           "gate": "A",
           "quality": [
            "Basic",
            "Live"
           ],
           "scheduledTimeLocal": "2021-12-02 10:45+01:00",
           "scheduledTimeUtc": "2021-12-02 09:45Z",
           "terminal": "1"
          },
          "isCargo": false,
          "number": "LH 180",
          "status": "Unknown"
         },
         {
          "aircraft": {
           "model": "Boeing 737-800"
          },
          "airline": {
           "name": "Norwegian Air International"
          },
          "arrival": {
           "quality": [
            "Basic"
           ],
           "scheduledTimeLocal": "2021-12-02 11:45+01:00",
           "scheduledTimeUtc": "2021-12-02 10:45Z",
           "terminal": "1"
          },
          "codeshareStatus": "Unknown",
          "departure": {
           "airport": {
            "iata": "CPH",
            "icao": "EKCH",
            "name": "Copenhagen"
           },
           "quality": [
            "Basic"
           ],
           "scheduledTimeLocal": "2021-12-02 10:45+01:00",
           "scheduledTimeUtc": "2021-12-02 09:45Z",
           "terminal": "2"
          },
          "isCargo": false,
          "number": "D8 3302",
          "status": "Unknown"
         }
        ]
       },
       {
        "arrivals": [
         {
          "aircraft": {
           "model": "Airbus A321"
          },
          "airline": {
           "name": "Finnair"
          },
          "arrival": {
           "quality": [
            "Basic"
           ],
           "scheduledTimeLocal": "2021-12-02 12:20+01:00",
           "scheduledTimeUtc": "2021-12-02 11:20Z",
           "terminal": "1"
          },
          "codeshareStatus": "Unknown",
          "departure": {
           "actualTimeLocal": "2021-12-02 11:20+02:00",
           "actualTimeUtc": "2021-12-02 09:20Z",
           "airport": {
            "iata": "HEL",
            "icao": "EFHK",
            "name": "Helsinki"
           },
           "checkInDesk": "507-517",
           "quality": [
            "Basic",
            "Live"
           ],
           "scheduledTimeLocal": "2021-12-02 11:20+02:00",
           "scheduledTimeUtc": "2021-12-02 09:20Z",
           "terminal": "T2-500"
          },
          "isCargo": false,
          "number": "AY 1433",
          "status": "Unknown"
         },
         {
          "aircraft": {
           "model": "Boeing 737-800"
          },
          "airline": {
           "name": "Ryanair"
          },
          "arrival": {
           "quality": [
            "Basic"
           ],
           "scheduledTimeLocal": "2021-12-02 12:25+01:00",
           "scheduledTimeUtc": "2021-12-02 11:25Z"
          },
          "codeshareStatus": "Unknown",
          "departure": {
           "airport": {
            "iata": "TGD",
            "icao": "LYPG",
            "name": "Podgorica"
           },
           "quality": [
            "Basic"
           ],
           "scheduledTimeLocal": "2021-12-02 10:15+01:00",
           "scheduledTimeUtc": "2021-12-02 09:15Z"
          },
          "isCargo": false,
          "number": "FR 1579",
          "status": "Unknown"
         },
         {
          "aircraft": {
           "model": "Boeing 737-800"
          },
          "airline": {
           "name": "Ryanair"
          },
          "arrival": {
           "quality": [
            "Basic"
           ],
           "scheduledTimeLocal": "2021-12-02 12:30+01:00",
           "scheduledTimeUtc": "2021-12-02 11:30Z"
          },
          "codeshareStatus": "Unknown",
          "departure": {
           "airport": {
            "iata": "PMI",
            "icao": "LEPA",
            "name": "Palma De Mallorca"
           },
           "quality": [
            "Basic"
           ],
           "scheduledTimeLocal": "2021-12-02 09:35+01:00",
           "scheduledTimeUtc": "2021-12-02 08:35Z"
          },
          "isCargo": false,
          "number": "FR 2146",
          "status": "Unknown"
         },
         {
          "aircraft": {
           "model": "Boeing 737-800"
          },
          "airline": {
           "name": "Turkish"
          },
          "arrival": {
           "quality": [
            "Basic"
           ],
           "scheduledTimeLocal": "2021-12-02 12:30+01:00",
           "scheduledTimeUtc": "2021-12-02 11:30Z",
           "terminal": "1"
          },
          "codeshareStatus": "Unknown",
          "departure": {
           "airport": {
            "iata": "SAW",
            "icao": "LTFJ",
            "name": "Istanbul"
           },
           "quality": [
            "Basic"
           ],
           "scheduledTimeLocal": "2021-12-02 11:30+03:00",
           "scheduledTimeUtc": "2021-12-02 08:30Z"
          },
          "isCargo": false,
          "number": "TK 7728",
          "status": "Unknown"
         },
         {
          "aircraft": {
           "model": "Airbus A320 NEO"
          },
          "airline": {
           "name": "Lufthansa"
          },
          "arrival": {
           "quality": [
            "Basic"
           ],
           "scheduledTimeLocal": "2021-12-02 12:15+01:00",
           "scheduledTimeUtc": "2021-12-02 11:15Z",
           "terminal": "1"
          },
          "codeshareStatus": "IsCodeshared",
          "departure": {
           "airport": {
            "iata": "MUC",
            "icao": "EDDM",
            "name": "Munich"
           },
           "quality": [
            "Basic"
           ],
           "scheduledTimeLocal": "2021-12-02 11:05+01:00",
           "scheduledTimeUtc": "2021-12-02 10:05Z",
           "terminal": "2"
          },
          "isCargo": false,
          "number": "LH 1936",
          "status": "Unknown"
         },
         {
          "aircraft": {
           "model": "Boeing 737-800"
          },
          "airline": {
           "name": "Ryanair"
          },
          "arrival": {
           "quality": [
            "Basic"
           ],
           "scheduledTimeLocal": "2021-12-02 12:45+01:00",
           "scheduledTimeUtc": "2021-12-02 11:45Z"
          },
          "codeshareStatus": "Unknown",
          "departure": {
           "airport": {
            "iata": "ATH",
            "icao": "LGAV",
            "name": "Athens"
           },
           "quality": [
            "Basic"
           ],
           "scheduledTimeLocal": "2021-12-02 10:45+02:00",
           "scheduledTimeUtc": "2021-12-02 08:45Z"
          },
          "isCargo": false,
          "number": "FR 171",
          "status": "Unknown"
         },
         {
          "aircraft": {
           "model": "Airbus A320 NEO"
          },
          "airline": {
           "name": "SAS"
          },
          "arrival": {
           "quality": [
            "Basic"
           ],
           "scheduledTimeLocal": "2021-12-02 12:55+01:00",
           "scheduledTimeUtc": "2021-12-02 11:55Z",
           "terminal": "1"
          },
          "codeshareStatus": "Unknown",
          "departure": {
           "airport": {
            "iata": "OSL",
            "icao": "ENGM",
            "name": "Oslo"
           },
           "checkInDesk": "23",
           "quality": [
            "Basic"
           ],
           "scheduledTimeLocal": "2021-12-02 11:15+01:00",
           "scheduledTimeUtc": "2021-12-02 10:15Z"
          },
          "isCargo": false,
          "number": "SK 4723",
          "status": "Unknown"
         },
         {
          "aircraft": {
           "model": "Boeing 757-300"
          },
          "airline": {
           "name": "Icelandair"
          },
          "arrival": {
           "quality": [
            "Basic"
           ],
           "scheduledTimeLocal": "2021-12-02 12:10+01:00",
           "scheduledTimeUtc": "2021-12-02 11:10Z",
           "terminal": "1"
          },
          "codeshareStatus": "Unknown",
          "departure": {
           "airport": {
            "iata": "KEF",
            "icao": "BIKF",
            "name": "Reykjavik"
           },
           "quality": [
            "Basic"
           ],
           "scheduledTimeLocal": "2021-12-02 07:40+00:00",
           "scheduledTimeUtc": "2021-12-02 07:40Z"
          },
          "isCargo": false,
          "number": "FI 528",
          "status": "Unknown"
         },
         {
          "aircraft": {
           "model": "Boeing 737-800"
          },
          "airline": {
           "name": "SunExpress"
          },
          "arrival": {
           "quality": [
            "Basic"
           ],
           "scheduledTimeLocal": "2021-12-02 12:35+01:00",
           "scheduledTimeUtc": "2021-12-02 11:35Z",
           "terminal": "1"
          },
          "codeshareStatus": "Unknown",
          "departure": {
           "actualTimeLocal": "2021-12-02 11:00+03:00",
           "actualTimeUtc": "2021-12-02 08:00Z",
           "airport": {
            "iata": "AYT",
            "icao": "LTAI",
            "name": "Antalya"
           },
           "quality": [
            "Basic",
            "Live"
           ],
           "scheduledTimeLocal": "2021-12-02 11:00+03:00",
           "scheduledTimeUtc": "2021-12-02 08:00Z",
           "terminal": "1"
          },
          "isCargo": false,
          "number": "XQ 160",
          "status": "Unknown"
         },
         {
          "aircraft": {
           "model": "Boeing 787-9"
          },
          "airline": {
           "name": "Qatar Airways"
          },
          "arrival": {
           "quality": [
            "Basic"
           ],
           "scheduledTimeLocal": "2021-12-02 12:40+01:00",
           "scheduledTimeUtc": "2021-12-02 11:40Z",
           "terminal": "1"
          },
          "codeshareStatus": "Unknown",
          "departure": {
           "airport": {
            "iata": "DOH",
            "icao": "OTHH",
            "name": "Doha"
           },
           "quality": [
            "Basic"
           ],
           "scheduledTimeLocal": "2021-12-02 08:20+03:00",
           "scheduledTimeUtc": "2021-12-02 05:20Z"
          },
          "isCargo": false,
          "number": "QR 81",
          "status": "Unknown"
         },
         {
          "aircraft": {
           "model": "Boeing 737-800"
          },
          "airline": {
           "name": "Aeroflot"
          },
          "arrival": {
           "quality": [
            "Basic"
           ],
           "scheduledTimeLocal": "2021-12-02 12:55+01:00",
           "scheduledTimeUtc": "2021-12-02 11:55Z",
           "terminal": "1"
          },
          "codeshareStatus": "IsOperator",
          "departure": {
           "actualTimeLocal": "2021-12-02 12:00+03:00",
           "actualTimeUtc": "2021-12-02 09:00Z",
           "airport": {
            "iata": "SVO",
            "icao": "UUEE",
            "name": "Moscow"
           },
           "quality": [
            "Basic",
            "Live"
           ],
           "scheduledTimeLocal": "2021-12-02 12:00+03:00",
           "scheduledTimeUtc": "2021-12-02 09:00Z",
           "terminal": "C"
          },
          "isCargo": false,
          "number": "SU 2662",
          "status": "Unknown"
         },
         {
          "aircraft": {
           "model": "Boeing 737-800"
          },
          "airline": {
           "name": "Ryanair"
          },
          "arrival": {
           "quality": [
            "Basic"
           ],
           "scheduledTimeLocal": "2021-12-02 13:10+01:00",
           "scheduledTimeUtc": "2021-12-02 12:10Z"
          },
          "codeshareStatus": "Unknown",
          "departure": {
           "airport": {
            "iata": "DUB",
            "icao": "EIDW",
            "name": "Dublin"
           },
           "quality": [
            "Basic"
           ],
           "scheduledTimeLocal": "2021-12-02 09:50+00:00",
           "scheduledTimeUtc": "2021-12-02 09:50Z"
          },
          "isCargo": false,
          "number": "FR 8556",
          "status": "Unknown"
         },
         {
          "aircraft": {
           "model": "Airbus A320"
          },
          "airline": {
           "name": "easyJet"
          },
          "arrival": {
           "quality": [
            "Basic"
           ],
           "scheduledTimeLocal": "2021-12-02 13:10+01:00",
           "scheduledTimeUtc": "2021-12-02 12:10Z",
           "terminal": "1"
          },
          "codeshareStatus": "Unknown",
          "departure": {
           "airport": {
            "iata": "NAP",
            "icao": "LIRN",
            "name": "Nápoli"
           },
           "quality": [
            "Basic"
           ],
           "scheduledTimeLocal": "2021-12-02 10:50+01:00",
           "scheduledTimeUtc": "2021-12-02 09:50Z"
          },
          "isCargo": false,
          "number": "U2 5142",
          "status": "Unknown"
         },
         {
          "aircraft": {
           "model": "Airbus A320 NEO"
          },
          "airline": {
           "name": "SAS"
          },
          "arrival": {
           "quality": [
            "Basic"
           ],
           "scheduledTimeLocal": "2021-12-02 13:00+01:00",
           "scheduledTimeUtc": "2021-12-02 12:00Z",
           "terminal": "1"
          },
          "codeshareStatus": "Unknown",
          "departure": {
           "airport": {
            "iata": "CPH",
            "icao": "EKCH",
            "name": "Copenhagen"
           },
           "quality": [
            "Basic"
           ],
           "scheduledTimeLocal": "2021-12-02 12:05+01:00",
           "scheduledTimeUtc": "2021-12-02 11:05Z",
           "terminal": "3"
          },
          "isCargo": false,
          "number": "SK 1673",
          "status": "Unknown"
         },
         {
          "aircraft": {
           "model": "Airbus A320"
          },
          "airline": {
           "name": "easyJet"
          },
          "arrival": {
           "quality": [
            "Basic"
           ],
           "scheduledTimeLocal": "2021-12-02 13:05+01:00",
           "scheduledTimeUtc": "2021-12-02 12:05Z",
           "terminal": "1"
          },
          "codeshareStatus": "Unknown",
          "departure": {
           "airport": {
            "iata": "CTA",
            "icao": "LICC",
            "name": "Catania"
           },
           "quality": [
            "Basic"
           ],
           "scheduledTimeLocal": "2021-12-02 10:10+01:00",
           "scheduledTimeUtc": "2021-12-02 09:10Z"
          },
          "isCargo": false,
          "number": "U2 5694",
          "status": "Unknown"
         },
         {
          "aircraft": {
           "model": "Airbus A320 NEO"
          },
          "airline": {
           "name": "Lufthansa"
          },
          "arrival": {
           "quality": [
            "Basic"
           ],
           "scheduledTimeLocal": "2021-12-02 12:55+01:00",
           "scheduledTimeUtc": "2021-12-02 11:55Z",
           "terminal": "1"
          },
          "codeshareStatus": "IsCodeshared",
          "departure": {
           "actualTimeLocal": "2021-12-02 11:45+01:00",
           "actualTimeUtc": "2021-12-02 10:45Z",
           "airport": {
            "iata": "FRA",
            "icao": "EDDF",
            "name": "Frankfurt-am-Main"
           },
           "quality": [
            "Basic",
            "Live"
           ],
           "scheduledTimeLocal": "2021-12-02 11:45+01:00",
           "scheduledTimeUtc": "2021-12-02 10:45Z",
           "terminal": "1"
          },
          "isCargo": false,
          "number": "LH 182",
          "status": "Unknown"
         },
         {
          "aircraft": {
           "model": "Boeing 737-800"
          },
          "airline": {
           "name": "Israir"
          },
          "arrival": {
           "quality": [
            "Basic"
           ],
           "scheduledTimeLocal": "2021-12-02 13:35+01:00",
           "scheduledTimeUtc": "2021-12-02 12:35Z",
           "terminal": "0"
          },
          "codeshareStatus": "Unknown",
          "departure": {
           "airport": {
            "iata": "TLV",
            "icao": "LLBG",
            "name": "Tel Aviv Yafo"
           },
           "quality": [
            "Basic"
           ],
           "scheduledTimeLocal": "2021-12-02 10:10+02:00",
           "scheduledTimeUtc": "2021-12-02 08:10Z",
           "terminal": "3"
          },
          "isCargo": false,
          "number": "6H 253",
          "status": "Unknown"
         },
         {
          "aircraft": {
           "model": "Airbus A320"
          },
          "airline": {
           "name": "Eurowings"
          },
          "arrival": {
           "quality": [
            "Basic"
           ],
           "scheduledTimeLocal": "2021-12-02 13:25+01:00",
           "scheduledTimeUtc": "2021-12-02 12:25Z",
           "terminal": "1"
          },
          "codeshareStatus": "Unknown",
          "departure": {
           "actualTimeLocal": "2021-12-02 12:05+01:00",
           "actualTimeUtc": "2021-12-02 11:05Z",
           "airport": {
            "iata": "STR",
            "icao": "EDDS",
            "name": "Stuttgart"
           },
           "gate": "140",
           "quality": [
            "Basic",
            "Live"
           ],
           "scheduledTimeLocal": "2021-12-02 12:05+01:00",
           "scheduledTimeUtc": "2021-12-02 11:05Z",
           "terminal": "1"
          },
          "isCargo": false,
          "number": "EW 8003",
          "status": "Unknown"
         },
         {
          "aircraft": {
           "model": "Boeing 737-800"
          },
          "airline": {
           "name": "Ryanair"
          },
          "arrival": {
           "quality": [
            "Basic"
           ],
           "scheduledTimeLocal": "2021-12-02 13:40+01:00",
           "scheduledTimeUtc": "2021-12-02 12:40Z"
          },
          "codeshareStatus": "Unknown",
          "departure": {
           "airport": {
            "iata": "KIR",
            "icao": "EIKY",
            "name": "Killarney"
           },
           "quality": [
            "Basic"
           ],
           "scheduledTimeLocal": "2021-12-02 10:10+00:00",
           "scheduledTimeUtc": "2021-12-02 10:10Z"
          },
          "isCargo": false,
          "number": "FR 1710",
          "status": "Unknown"
         },
         {
          "aircraft": {
           "model": "Airbus A321"
          },
          "airline": {
           "name": "Turkish"
          },
          "arrival": {
           "quality": [
            "Basic"
           ],
           "scheduledTimeLocal": "2021-12-02 13:30+01:00",
           "scheduledTimeUtc": "2021-12-02 12:30Z",
           "terminal": "1"
          },
          "codeshareStatus": "Unknown",
          "departure": {
           "airport": {
            "iata": "IST",
            "icao": "LTFM",
            "name": "Istanbul"
           },
           "quality": [
            "Basic"
           ],
           "scheduledTimeLocal": "2021-12-02 12:40+03:00",
           "scheduledTimeUtc": "2021-12-02 09:40Z"
          },
          "isCargo": false,
          "number": "TK 1725",
          "status": "Unknown"
         },
         {
          "aircraft": {
           "model": "Airbus A320"
          },
          "airline": {
           "name": "Eurowings"
          },
          "arrival": {
           "quality": [
            "Basic"
           ],
           "scheduledTimeLocal": "2021-12-02 13:15+01:00",
           "scheduledTimeUtc": "2021-12-02 12:15Z",
           "terminal": "1"
          },
          "codeshareStatus": "Unknown",
          "departure": {
           "airport": {
            "iata": "CGN",
            "icao": "EDDK",
            "name": "Cologne"
           },
           "quality": [
            "Basic"
           ],
           "scheduledTimeLocal": "2021-12-02 12:05+01:00",
           "scheduledTimeUtc": "2021-12-02 11:05Z",
           "terminal": "1"
          },
          "isCargo": false,
          "number": "EW 8051",
          "status": "Unknown"
         },
         {
          "aircraft": {
           "model": "Boeing 737-800"
          },
          "airline": {
           "name": "Ryanair"
          },
          "arrival": {
           "quality": [
            "Basic"
           ],
           "scheduledTimeLocal": "2021-12-02 13:55+01:00",
           "scheduledTimeUtc": "2021-12-02 12:55Z"
          },
          "codeshareStatus": "Unknown",
          "departure": {
           "airport": {
            "iata": "MXP",
            "icao": "LIMC",
            "name": "Milan"
           },
           "quality": [
            "Basic"
           ],
           "scheduledTimeLocal": "2021-12-02 12:15+01:00",
           "scheduledTimeUtc": "2021-12-02 11:15Z"
          },
          "isCargo": false,
          "number": "FR 9",
          "status": "Unknown"
         },
         {
          "aircraft": {
           "model": "Airbus A320"
          },
          "airline": {
           "name": "easyJet"
          },
          "arrival": {
           "quality": [
            "Basic"
           ],
           "scheduledTimeLocal": "2021-12-02 13:55+01:00",
           "scheduledTimeUtc": "2021-12-02 12:55Z",
           "terminal": "1"
          },
          "codeshareStatus": "Unknown",
          "departure": {
           "airport": {
            "iata": "BCN",
            "icao": "LEBL",
            "name": "Barcelona"
           },
           "quality": [
            "Basic"
           ],
           "scheduledTimeLocal": "2021-12-02 11:05+01:00",
           "scheduledTimeUtc": "2021-12-02 10:05Z",
           "terminal": "2"
          },
          "isCargo": false,
          "number": "U2 5122",
          "status": "Unknown"
         },
         {
          "aircraft": {
           "model": "Airbus A220-300"
          },
          "airline": {
           "name": "Air Baltic"
          },
          "arrival": {
           "quality": [
            "Basic"
           ],
           "scheduledTimeLocal": "2021-12-02 14:25+01:00",
           "scheduledTimeUtc": "2021-12-02 13:25Z",
           "terminal": "1"
          },
          "codeshareStatus": "Unknown",
          "departure": {
           "airport": {
            "name": "Tallin"
           },
           "quality": []
          },
          "isCargo": false,
          "number": "BT 821",
          "status": "Unknown"
         },
         {
          "aircraft": {
           "model": "Boeing 737-800"
          },
          "airline": {
           "name": "Ryanair"
          },
          "arrival": {
           "quality": [
            "Basic"
           ],
           "scheduledTimeLocal": "2021-12-02 13:35+01:00",
           "scheduledTimeUtc": "2021-12-02 12:35Z"
          },
          "codeshareStatus": "Unknown",
          "departure": {
           "airport": {
            "iata": "STN",
            "icao": "EGSS",
            "name": "London"
           },
           "quality": [
            "Basic"
           ],
           "scheduledTimeLocal": "2021-12-02 10:45+00:00",
           "scheduledTimeUtc": "2021-12-02 10:45Z"
          },
          "isCargo": false,
          "number": "FR 176",
          "status": "Unknown"
         },
         {
          "aircraft": {
           "model": "Boeing 737-800"
          },
          "airline": {
           "name": "Ryanair"
          },
          "arrival": {
           "quality": [
            "Basic"
           ],
           "scheduledTimeLocal": "2021-12-02 14:05+01:00",
           "scheduledTimeUtc": "2021-12-02 13:05Z"
          },
          "codeshareStatus": "Unknown",
          "departure": {
           "airport": {
            "iata": "STN",
            "icao": "EGSS",
            "name": "London"
           },
           "quality": [
            "Basic"
           ],
           "scheduledTimeLocal": "2021-12-02 11:15+00:00",
           "scheduledTimeUtc": "2021-12-02 11:15Z"
          },
          "isCargo": false,
          "number": "FR 8542",
          "status": "Unknown"
         },
         {
          "aircraft": {
           "model": "Airbus A320 NEO"
          },
          "airline": {
           "name": "SWISS"
          },
          "arrival": {
           "quality": [
            "Basic"
           ],
           "scheduledTimeLocal": "2021-12-02 14:00+01:00",
           "scheduledTimeUtc": "2021-12-02 13:00Z",
           "terminal": "1"
          },
          "codeshareStatus": "Unknown",
          "departure": {
           "actualTimeLocal": "2021-12-02 12:35+01:00",
           "actualTimeUtc": "2021-12-02 11:35Z",
           "airport": {
            "iata": "ZRH",
            "icao": "LSZH",
            "name": "Zurich"
           },
           "checkInDesk": "1",
           "quality": [
            "Basic",
            "Live"
           ],
           "scheduledTimeLocal": "2021-12-02 12:35+01:00",
           "scheduledTimeUtc": "2021-12-02 11:35Z"
          },
          "isCargo": false,
          "number": "LX 966",
          "status": "Unknown"
         },
         {
          "aircraft": {
           "model": "Airbus A320"
          },
          "airline": {
           "name": "easyJet"
          },
          "arrival": {
           "quality": [
            "Basic"
           ],
           "scheduledTimeLocal": "2021-12-02 14:35+01:00",
           "scheduledTimeUtc": "2021-12-02 13:35Z",
           "terminal": "1"
          },
          "codeshareStatus": "Unknown",
          "departure": {
           "airport": {
            "iata": "ORY",
            "icao": "LFPO",
            "name": "Paris"
           },
           "quality": [
            "Basic"
           ],
           "scheduledTimeLocal": "2021-12-02 12:50+01:00",
           "scheduledTimeUtc": "2021-12-02 11:50Z",
           "terminal": "1"
          },
          "isCargo": false,
          "number": "U2 5536",
          "status": "Unknown"
         },
         {
          "aircraft": {
           "model": "Boeing 737-800"
          },
          "airline": {
           "name": "Jet2"
          },
          "arrival": {
           "quality": [
            "Basic"
           ],
           "scheduledTimeLocal": "2021-12-02 12:05+01:00",
           "scheduledTimeUtc": "2021-12-02 11:05Z",
           "terminal": "0"
          },
          "codeshareStatus": "Unknown",
          "departure": {
           "airport": {
            "iata": "LBA",
            "icao": "EGNM",
            "name": "Leeds"
           },
           "quality": [
            "Basic"
           ],
           "scheduledTimeLocal": "2021-12-02 09:00+00:00",
           "scheduledTimeUtc": "2021-12-02 09:00Z"
          },
          "isCargo": false,
          "number": "LS 471",
          "status": "Unknown"
         },
         {
          "aircraft": {
           "model": "Airbus A319"
          },
          "airline": {
           "name": "Air France"
          },
          "arrival": {
           "quality": [
            "Basic"
           ],
           "scheduledTimeLocal": "2021-12-02 14:30+01:00",
           "scheduledTimeUtc": "2021-12-02 13:30Z",
           "terminal": "1"
          },
          "codeshareStatus": "Unknown",
          "departure": {
           "airport": {
            "iata": "CDG",
            "icao": "LFPG",
            "name": "Paris"
           },
           "quality": [
            "Basic"
           ],
           "scheduledTimeLocal": "2021-12-02 12:45+01:00",
           "scheduledTimeUtc": "2021-12-02 11:45Z",
           "terminal": "2F"
          },
          "isCargo": false,
          "number": "AF 1234",
          "status": "Unknown"
         },
         {
          "aircraft": {
           "model": "Airbus A319"
          },
          "airline": {
           "name": "Eurowings"
          },
          "arrival": {
           "quality": [
            "Basic"
           ],
           "scheduledTimeLocal": "2021-12-02 14:35+01:00",
           "scheduledTimeUtc": "2021-12-02 13:35Z",
           "terminal": "1"
          },
          "codeshareStatus": "Unknown",
          "departure": {
           "airport": {
            "iata": "CGN",
            "icao": "EDDK",
            "name": "Cologne"
           },
           "quality": [
            "Basic"
           ],
           "scheduledTimeLocal": "2021-12-02 13:25+01:00",
           "scheduledTimeUtc": "2021-12-02 12:25Z",
           "terminal": "1"
          },
          "isCargo": false,
          "number": "EW 8",
          "status": "Unknown"
         },
         {
          "aircraft": {
           "model": "Embraer 190"
          },
          "airline": {
           "name": "Pegas Fly"
          },
          "arrival": {
           "quality": [
            "Basic"
           ],
           "scheduledTimeLocal": "2021-12-02 14:45+01:00",
           "scheduledTimeUtc": "2021-12-02 13:45Z",
           "terminal": "1"
          },
          "codeshareStatus": "Unknown",
          "departure": {
           "actualTimeLocal": "2021-12-02 14:25+03:00",
           "actualTimeUtc": "2021-12-02 11:25Z",
           "airport": {
            "iata": "LED",
            "icao": "ULLI",
            "name": "Saint-Petersburg"
           },
           "checkInDesk": "A401-A402",
           "quality": [
            "Basic",
            "Live"
           ],
           "scheduledTimeLocal": "2021-12-02 14:25+03:00",
           "scheduledTimeUtc": "2021-12-02 11:25Z",
           "terminal": "1"
          },
          "isCargo": false,
          "number": "EO 1909",
          "status": "Unknown"
         },
         {
          "aircraft": {
           "model": "Boeing 737-800"
          },
          "airline": {
           "name": "UIA"
          },
          "arrival": {
           "quality": [
            "Basic"
           ],
           "scheduledTimeLocal": "2021-12-02 12:05+01:00",
           "scheduledTimeUtc": "2021-12-02 11:05Z",
           "terminal": "1"
          },
          "codeshareStatus": "Unknown",
          "departure": {
           "actualTimeLocal": "2021-12-02 10:55+02:00",
           "actualTimeUtc": "2021-12-02 08:55Z",
           "airport": {
            "iata": "KBP",
            "icao": "UKBB",
            "name": "Kiev"
           },
           "quality": [
            "Basic",
            "Live"
           ],
           "scheduledTimeLocal": "2021-12-02 10:55+02:00",
           "scheduledTimeUtc": "2021-12-02 08:55Z",
           "terminal": "D"
          },
          "isCargo": false,
          "number": "PS 423",
          "status": "Unknown"
         },
         {
          "aircraft": {
           "model": "Airbus A320 NEO"
          },
          "airline": {
           "name": "Lufthansa"
          },
          "arrival": {
           "quality": [
            "Basic"
           ],
           "scheduledTimeLocal": "2021-12-02 14:55+01:00",
           "scheduledTimeUtc": "2021-12-02 13:55Z",
           "terminal": "1"
          },
          "codeshareStatus": "IsCodeshared",
          "departure": {
           "actualTimeLocal": "2021-12-02 13:45+01:00",
           "actualTimeUtc": "2021-12-02 12:45Z",
           "airport": {
            "iata": "FRA",
            "icao": "EDDF",
            "name": "Frankfurt-am-Main"
           },
           "quality": [
            "Basic",
            "Live"
           ],
           "scheduledTimeLocal": "2021-12-02 13:45+01:00",
           "scheduledTimeUtc": "2021-12-02 12:45Z",
           "terminal": "1"
          },
          "isCargo": false,
          "number": "LH 186",
          "status": "Unknown"
         },
         {
          "aircraft": {
           "model": "Airbus A320"
          },
          "airline": {
           "name": "easyJet"
          },
          "arrival": {
           "quality": [
            "Basic"
           ],
           "scheduledTimeLocal": "2021-12-02 15:30+01:00",
           "scheduledTimeUtc": "2021-12-02 14:30Z",
           "terminal": "1"
          },
          "codeshareStatus": "Unknown",
          "departure": {
           "airport": {
            "iata": "AGP",
            "icao": "LEMG",
            "name": "Málaga"
           },
           "quality": [
            "Basic"
           ],
           "scheduledTimeLocal": "2021-12-02 11:50+01:00",
           "scheduledTimeUtc": "2021-12-02 10:50Z"
          },
          "isCargo": false,
          "number": "U2 5914",
          "status": "Unknown"
         },
         {
          "aircraft": {
           "model": "Boeing 737-800"
          },
          "airline": {
           "name": "Ryanair"
          },
          "arrival": {
           "quality": [
            "Basic"
           ],
           "scheduledTimeLocal": "2021-12-02 15:05+01:00",
           "scheduledTimeUtc": "2021-12-02 14:05Z"
          },
          "codeshareStatus": "Unknown",
          "departure": {
           "airport": {
            "iata": "TSF",
            "icao": "LIPH",
            "name": "Treviso"
           },
           "quality": [
            "Basic"
           ],
           "scheduledTimeLocal": "2021-12-02 13:30+01:00",
           "scheduledTimeUtc": "2021-12-02 12:30Z"
          },
          "isCargo": false,
          "number": "FR 4721",
          "status": "Unknown"
         },
         {
          "aircraft": {
           "model": "Airbus A320"
          },
          "airline": {
           "name": "Lufthansa"
          },
          "arrival": {
           "quality": [
            "Basic"
           ],
           "scheduledTimeLocal": "2021-12-02 15:25+01:00",
           "scheduledTimeUtc": "2021-12-02 14:25Z",
           "terminal": "1"
          },
          "codeshareStatus": "IsCodeshared",
          "departure": {
           "airport": {
            "iata": "MUC",
            "icao": "EDDM",
            "name": "Munich"
           },
           "quality": [
            "Basic"
           ],
           "scheduledTimeLocal": "2021-12-02 14:15+01:00",
           "scheduledTimeUtc": "2021-12-02 13:15Z",
           "terminal": "2"
          },
          "isCargo": false,
          "number": "LH 1944",
          "status": "Unknown"
         },
         {
          "aircraft": {
           "model": "Airbus A320"
          },
          "airline": {
           "name": "Wizz Air"
          },
          "arrival": {
           "quality": [
            "Basic"
           ],
           "scheduledTimeLocal": "2021-12-02 15:30+01:00",
           "scheduledTimeUtc": "2021-12-02 14:30Z",
           "terminal": "0"
          },
          "codeshareStatus": "Unknown",
          "departure": {
           "actualTimeLocal": "2021-12-02 14:00+01:00",
           "actualTimeUtc": "2021-12-02 13:00Z",
           "airport": {
            "iata": "BUD",
            "icao": "LHBP",
            "name": "Budapest"
           },
           "quality": [
            "Basic",
            "Live"
           ],
           "scheduledTimeLocal": "2021-12-02 14:00+01:00",
           "scheduledTimeUtc": "2021-12-02 13:00Z",
           "terminal": "2B"
          },
          "isCargo": false,
          "number": "W6 2315",
          "status": "Unknown"
         },
         {
          "aircraft": {
           "model": "Boeing 737-800"
          },
          "airline": {
           "name": "Ryanair"
          },
          "arrival": {
           "quality": [
            "Basic"
           ],
           "scheduledTimeLocal": "2021-12-02 15:30+01:00",
           "scheduledTimeUtc": "2021-12-02 14:30Z"
          },
          "codeshareStatus": "Unknown",
          "departure": {
           "airport": {
            "iata": "TLV",
            "icao": "LLBG",
            "name": "Tel Aviv Yafo"
           },
           "quality": [
            "Basic"
           ],
           "scheduledTimeLocal": "2021-12-02 12:15+02:00",
           "scheduledTimeUtc": "2021-12-02 10:15Z"
          },
          "isCargo": false,
          "number": "FR 6473",
          "status": "Unknown"
         },
         {
          "aircraft": {
           "model": "Boeing 737-800"
          },
          "airline": {
           "name": "Ryanair"
          },
          "arrival": {
           "quality": [
            "Basic"
           ],
           "scheduledTimeLocal": "2021-12-02 15:35+01:00",
           "scheduledTimeUtc": "2021-12-02 14:35Z"
          },
          "codeshareStatus": "Unknown",
          "departure": {
           "actualTimeLocal": "2021-12-02 12:40+00:00",
           "actualTimeUtc": "2021-12-02 12:40Z",
           "airport": {
            "iata": "MAN",
            "icao": "EGCC",
            "name": "Manchester"
           },
           "quality": [
            "Basic",
            "Live"
           ],
           "scheduledTimeLocal": "2021-12-02 12:40+00:00",
           "scheduledTimeUtc": "2021-12-02 12:40Z",
           "terminal": "T1"
          },
          "isCargo": false,
          "number": "FR 1145",
          "status": "Unknown"
         },
         {
          "aircraft": {
           "model": "Airbus A319"
          },
          "airline": {
           "name": "Eurowings"
          },
          "arrival": {
           "quality": [
            "Basic"
           ],
           "scheduledTimeLocal": "2021-12-02 15:45+01:00",
           "scheduledTimeUtc": "2021-12-02 14:45Z",
           "terminal": "1"
          },
          "codeshareStatus": "Unknown",
          "departure": {
           "actualTimeLocal": "2021-12-02 14:25+01:00",
           "actualTimeUtc": "2021-12-02 13:25Z",
           "airport": {
            "iata": "STR",
            "icao": "EDDS",
            "name": "Stuttgart"
           },
           "gate": "156",
           "quality": [
            "Basic",
            "Live"
           ],
           "scheduledTimeLocal": "2021-12-02 14:25+01:00",
           "scheduledTimeUtc": "2021-12-02 13:25Z",
           "terminal": "1"
          },
          "isCargo": false,
          "number": "EW 2004",
          "status": "Unknown"
         },
         {
          "aircraft": {
           "model": "Airbus A319"
          },
          "airline": {
           "name": "easyJet"
          },
          "arrival": {
           "quality": [
            "Basic"
           ],
           "scheduledTimeLocal": "2021-12-02 15:50+01:00",
           "scheduledTimeUtc": "2021-12-02 14:50Z",
           "terminal": "1"
          },
          "codeshareStatus": "Unknown",
          "departure": {
           "airport": {
            "iata": "LIN",
            "icao": "LIML",
            "name": "Milan"
           },
           "quality": [
            "Basic"
           ],
           "scheduledTimeLocal": "2021-12-02 14:00+01:00",
           "scheduledTimeUtc": "2021-12-02 13:00Z"
          },
          "isCargo": false,
          "number": "U2 4662",
          "status": "Unknown"
         },
         {
          "aircraft": {
           "model": "Embraer 190"
          },
          "airline": {
           "name": "British Airways"
          },
          "arrival": {
           "quality": [
            "Basic"
           ],
           "scheduledTimeLocal": "2021-12-02 15:55+01:00",
           "scheduledTimeUtc": "2021-12-02 14:55Z",
           "terminal": "1"
          },
          "codeshareStatus": "IsCodeshared",
          "departure": {
           "airport": {
            "iata": "LCY",
            "icao": "EGLC",
            "name": "London"
           },
           "quality": [
            "Basic"
           ],
           "scheduledTimeLocal": "2021-12-02 13:15+00:00",
           "scheduledTimeUtc": "2021-12-02 13:15Z"
          },
          "isCargo": false,
          "number": "BA 8493",
          "status": "Unknown"
         },
         {
          "aircraft": {
           "model": "Boeing 737-800"
          },
          "airline": {
           "name": "Ryanair"
          },
          "arrival": {
           "quality": [
            "Basic"
           ],
           "scheduledTimeLocal": "2021-12-02 16:00+01:00",
           "scheduledTimeUtc": "2021-12-02 15:00Z"
          },
          "codeshareStatus": "Unknown",
          "departure": {
           "airport": {
            "iata": "MRS",
            "icao": "LFML",
            "name": "Marseille"
           },
           "quality": [
            "Basic"
           ],
           "scheduledTimeLocal": "2021-12-02 13:55+01:00",
           "scheduledTimeUtc": "2021-12-02 12:55Z"
          },
          "isCargo": false,
          "number": "FR 8950",
          "status": "Unknown"
         },
         {
          "aircraft": {
           "model": "Boeing 737-800"
          },
          "airline": {
           "name": "Ryanair"
          },
          "arrival": {
           "quality": [
            "Basic"
           ],
           "scheduledTimeLocal": "2021-12-02 16:50+01:00",
           "scheduledTimeUtc": "2021-12-02 15:50Z"
          },
          "codeshareStatus": "Unknown",
          "departure": {
           "actualTimeLocal": "2021-12-02 14:05+01:00",
           "actualTimeUtc": "2021-12-02 13:05Z",
           "airport": {
            "iata": "PMI",
            "icao": "LEPA",
            "name": "Palma De Mallorca"
           },
           "quality": [
            "Basic",
            "Live"
           ],
           "scheduledTimeLocal": "2021-12-02 14:05+01:00",
           "scheduledTimeUtc": "2021-12-02 13:05Z"
          },
          "isCargo": false,
          "number": "FR 111",
          "status": "Unknown"
         },
         {
          "aircraft": {
           "model": "Boeing 737-800"
          },
          "airline": {
           "name": "Ryanair"
          },
          "arrival": {
           "quality": [
            "Basic"
           ],
           "scheduledTimeLocal": "2021-12-02 16:55+01:00",
           "scheduledTimeUtc": "2021-12-02 15:55Z"
          },
          "codeshareStatus": "Unknown",
          "departure": {
           "actualTimeLocal": "2021-12-02 10:55+00:00",
           "actualTimeUtc": "2021-12-02 10:55Z",
           "airport": {
            "iata": "FUE",
            "icao": "GCFV",
            "name": "Fuerteventura Island"
           },
           "quality": [
            "Basic",
            "Live"
           ],
           "scheduledTimeLocal": "2021-12-02 10:55+00:00",
           "scheduledTimeUtc": "2021-12-02 10:55Z"
          },
          "isCargo": false,
          "number": "FR 1102",
          "status": "Unknown"
         },
         {
          "aircraft": {
           "model": "Airbus A320 NEO"
          },
          "airline": {
           "name": "TAP Air Portugal"
          },
          "arrival": {
           "quality": [
            "Basic"
           ],
           "scheduledTimeLocal": "2021-12-02 16:35+01:00",
           "scheduledTimeUtc": "2021-12-02 15:35Z",
           "terminal": "1"
          },
          "codeshareStatus": "Unknown",
          "departure": {
           "airport": {
            "iata": "LIS",
            "icao": "LPPT",
            "name": "Lisbon"
           },
           "quality": [
            "Basic"
           ],
           "scheduledTimeLocal": "2021-12-02 12:05+00:00",
           "scheduledTimeUtc": "2021-12-02 12:05Z",
           "terminal": "1"
          },
          "isCargo": false,
          "number": "TP 534",
          "status": "Unknown"
         },
         {
          "aircraft": {
           "model": "Airbus A320"
          },
          "airline": {
           "name": "Lufthansa"
          },
          "arrival": {
           "quality": [
            "Basic"
           ],
           "scheduledTimeLocal": "2021-12-02 15:55+01:00",
           "scheduledTimeUtc": "2021-12-02 14:55Z",
           "terminal": "1"
          },
          "codeshareStatus": "IsCodeshared",
          "departure": {
           "actualTimeLocal": "2021-12-02 14:45+01:00",
           "actualTimeUtc": "2021-12-02 13:45Z",
           "airport": {
            "iata": "FRA",
            "icao": "EDDF",
            "name": "Frankfurt-am-Main"
           },
           "quality": [
            "Basic",
            "Live"
           ],
           "scheduledTimeLocal": "2021-12-02 14:45+01:00",
           "scheduledTimeUtc": "2021-12-02 13:45Z",
           "terminal": "1"
          },
          "isCargo": false,
          "number": "LH 188",
          "status": "Unknown"
         },
         {
          "aircraft": {
           "model": "Airbus A320"
          },
          "airline": {
           "name": "Eurowings"
          },
          "arrival": {
           "quality": [
            "Basic"
           ],
           "scheduledTimeLocal": "2021-12-02 17:05+01:00",
           "scheduledTimeUtc": "2021-12-02 16:05Z",
           "terminal": "1"
          },
          "codeshareStatus": "Unknown",
          "departure": {
           "actualTimeLocal": "2021-12-02 15:45+01:00",
           "actualTimeUtc": "2021-12-02 14:45Z",
           "airport": {
            "iata": "STR",
            "icao": "EDDS",
            "name": "Stuttgart"
           },
           "gate": "140",
           "quality": [
            "Basic",
            "Live"
           ],
           "scheduledTimeLocal": "2021-12-02 15:45+01:00",
           "scheduledTimeUtc": "2021-12-02 14:45Z",
           "terminal": "1"
          },
          "isCargo": false,
          "number": "EW 2058",
          "status": "Unknown"
         },
         {
          "aircraft": {
           "model": "Airbus A320 NEO"
          },
          "airline": {
           "name": "Lufthansa"
          },
          "arrival": {
           "quality": [
            "Basic"
           ],
           "scheduledTimeLocal": "2021-12-02 16:55+01:00",
           "scheduledTimeUtc": "2021-12-02 15:55Z",
           "terminal": "1"
          },
          "codeshareStatus": "IsCodeshared",
          "departure": {
           "airport": {
            "iata": "MUC",
            "icao": "EDDM",
            "name": "Munich"
           },
           "quality": [
            "Basic"
           ],
           "scheduledTimeLocal": "2021-12-02 15:45+01:00",
           "scheduledTimeUtc": "2021-12-02 14:45Z",
           "terminal": "2"
          },
          "isCargo": false,
          "number": "LH 1942",
          "status": "Unknown"
         },
         {
          "aircraft": {
           "model": "Boeing 737-800"
          },
          "airline": {
           "name": "Ryanair"
          },
          "arrival": {
           "quality": [
            "Basic"
           ],
           "scheduledTimeLocal": "2021-12-02 17:15+01:00",
           "scheduledTimeUtc": "2021-12-02 16:15Z"
          },
          "codeshareStatus": "Unknown",
          "departure": {
           "actualTimeLocal": "2021-12-02 11:05+00:00",
           "actualTimeUtc": "2021-12-02 11:05Z",
           "airport": {
            "iata": "TFS",
            "icao": "GCTS",
            "name": "Tenerife Island"
           },
           "quality": [
            "Basic",
            "Live"
           ],
           "scheduledTimeLocal": "2021-12-02 11:05+00:00",
           "scheduledTimeUtc": "2021-12-02 11:05Z"
          },
          "isCargo": false,
          "number": "FR 4067",
          "status": "Unknown"
         },
         {
          "aircraft": {
           "model": "Boeing 737-800"
          },
          "airline": {
           "name": "Ryanair"
          },
          "arrival": {
           "quality": [
            "Basic"
           ],
           "scheduledTimeLocal": "2021-12-02 17:00+01:00",
           "scheduledTimeUtc": "2021-12-02 16:00Z"
          },
          "codeshareStatus": "Unknown",
          "departure": {
           "actualTimeLocal": "2021-12-02 14:15+01:00",
           "actualTimeUtc": "2021-12-02 13:15Z",
           "airport": {
            "iata": "BCN",
            "icao": "LEBL",
            "name": "Barcelona"
           },
           "quality": [
            "Basic",
            "Live"
           ],
           "scheduledTimeLocal": "2021-12-02 14:15+01:00",
           "scheduledTimeUtc": "2021-12-02 13:15Z",
           "terminal": "2"
          },
          "isCargo": false,
          "number": "FR 133",
          "status": "Unknown"
         },
         {
          "aircraft": {
           "model": "Embraer 190"
          },
          "airline": {
           "name": "KLM"
          },
          "arrival": {
           "quality": [
            "Basic"
           ],
           "scheduledTimeLocal": "2021-12-02 16:40+01:00",
           "scheduledTimeUtc": "2021-12-02 15:40Z",
           "terminal": "1"
          },
          "codeshareStatus": "IsOperator",
          "departure": {
           "airport": {
            "iata": "AMS",
            "icao": "EHAM",
            "name": "Amsterdam"
           },
           "checkInDesk": "5-8",
           "quality": [
            "Basic"
           ],
           "scheduledTimeLocal": "2021-12-02 15:20+01:00",
           "scheduledTimeUtc": "2021-12-02 14:20Z",
           "terminal": "1"
          },
          "isCargo": false,
          "number": "KL 1829",
          "status": "Unknown"
         },
         {
          "aircraft": {
           "model": "Airbus A320"
          },
          "airline": {
           "name": "Eurowings"
          },
          "arrival": {
           "quality": [
            "Basic"
           ],
           "scheduledTimeLocal": "2021-12-02 17:20+01:00",
           "scheduledTimeUtc": "2021-12-02 16:20Z",
           "terminal": "1"
          },
          "codeshareStatus": "Unknown",
          "departure": {
           "airport": {
            "iata": "CGN",
            "icao": "EDDK",
            "name": "Cologne"
           },
           "quality": [
            "Basic"
           ],
           "scheduledTimeLocal": "2021-12-02 16:10+01:00",
           "scheduledTimeUtc": "2021-12-02 15:10Z",
           "terminal": "1"
          },
          "isCargo": false,
          "number": "EW 6",
          "status": "Unknown"
         },
         {
          "aircraft": {
           "model": "Boeing 737"
          },
          "airline": {
           "name": "Neos"
          },
          "arrival": {
           "quality": [
            "Basic"
           ],
           "scheduledTimeLocal": "2021-12-02 17:40+01:00",
           "scheduledTimeUtc": "2021-12-02 16:40Z",
           "terminal": "0"
          },
          "codeshareStatus": "Unknown",
          "departure": {
           "airport": {
            "name": "Milan"
           },
           "quality": []
          },
          "isCargo": false,
          "number": "NO 9070",
          "status": "Unknown"
         },
         {
          "aircraft": {
           "model": "Airbus A320"
          },
          "airline": {
           "name": "Vueling"
          },
          "arrival": {
           "quality": [
            "Basic"
           ],
           "scheduledTimeLocal": "2021-12-02 14:20+01:00",
           "scheduledTimeUtc": "2021-12-02 13:20Z",
           "terminal": "1"
          },
          "codeshareStatus": "Unknown",
          "departure": {
           "actualTimeLocal": "2021-12-02 11:40+01:00",
           "actualTimeUtc": "2021-12-02 10:40Z",
           "airport": {
            "iata": "BCN",
            "icao": "LEBL",
            "name": "Barcelona"
           },
           "quality": [
            "Basic",
            "Live"
           ],
           "scheduledTimeLocal": "2021-12-02 11:40+01:00",
           "scheduledTimeUtc": "2021-12-02 10:40Z",
           "terminal": "1"
          },
          "isCargo": false,
          "number": "VY 1882",
          "status": "Unknown"
         },
         {
          "aircraft": {
           "model": "Airbus A321"
          },
          "airline": {
           "name": "Turkish"
          },
          "arrival": {
           "quality": [
            "Basic"
           ],
           "scheduledTimeLocal": "2021-12-02 17:30+01:00",
           "scheduledTimeUtc": "2021-12-02 16:30Z",
           "terminal": "1"
          },
          "codeshareStatus": "Unknown",
          "departure": {
           "airport": {
            "iata": "IST",
            "icao": "LTFM",
            "name": "Istanbul"
           },
           "quality": [
            "Basic"
           ],
           "scheduledTimeLocal": "2021-12-02 16:40+03:00",
           "scheduledTimeUtc": "2021-12-02 13:40Z"
          },
          "isCargo": false,
          "number": "TK 1723",
          "status": "Unknown"
         },
         {
          "aircraft": {
           "model": "Airbus A320"
          },
          "airline": {
           "name": "Air France"
          },
          "arrival": {
           "quality": [
            "Basic"
           ],
           "scheduledTimeLocal": "2021-12-02 17:10+01:00",
           "scheduledTimeUtc": "2021-12-02 16:10Z",
           "terminal": "1"
          },
          "codeshareStatus": "Unknown",
          "departure": {
           "airport": {
            "iata": "CDG",
            "icao": "LFPG",
            "name": "Paris"
           },
           "quality": [
            "Basic"
           ],
           "scheduledTimeLocal": "2021-12-02 15:30+01:00",
           "scheduledTimeUtc": "2021-12-02 14:30Z",
           "terminal": "2F"
          },
          "isCargo": false,
          "number": "AF 1834",
          "status": "Unknown"
         },
         {
          "aircraft": {
           "model": "Bombardier CRJ900"
          },
          "airline": {
           "name": "Lufthansa"
          },
          "arrival": {
           "quality": [
            "Basic"
           ],
           "scheduledTimeLocal": "2021-12-02 17:40+01:00",
           "scheduledTimeUtc": "2021-12-02 16:40Z",
           "terminal": "1"
          },
          "codeshareStatus": "IsCodeshared",
          "departure": {
           "airport": {
            "name": "Munich"
           },
           "quality": []
          },
          "isCargo": false,
          "number": "LH 1946",
          "status": "Unknown"
         },
         {
          "aircraft": {
           "model": "Airbus A321"
          },
          "airline": {
           "name": "Austrian"
          },
          "arrival": {
           "quality": [
            "Basic"
           ],
           "scheduledTimeLocal": "2021-12-02 14:20+01:00",
           "scheduledTimeUtc": "2021-12-02 13:20Z",
           "terminal": "1"
          },
          "codeshareStatus": "Unknown",
          "departure": {
           "actualTimeLocal": "2021-12-02 13:05+01:00",
           "actualTimeUtc": "2021-12-02 12:05Z",
           "airport": {
            "iata": "VIE",
            "icao": "LOWW",
            "name": "Vienna"
           },
           "checkInDesk": "351-378",
           "quality": [
            "Basic",
            "Live"
           ],
           "scheduledTimeLocal": "2021-12-02 13:05+01:00",
           "scheduledTimeUtc": "2021-12-02 12:05Z",
           "terminal": "T3"
          },
          "isCargo": false,
          "number": "OS 229",
          "status": "Unknown"
         },
         {
          "aircraft": {
           "model": "Airbus A319"
          },
          "airline": {
           "name": "Eurowings"
          },
          "arrival": {
           "quality": [
            "Basic"
           ],
           "scheduledTimeLocal": "2021-12-02 12:00+01:00",
           "scheduledTimeUtc": "2021-12-02 11:00Z",
           "terminal": "1"
          },
          "codeshareStatus": "Unknown",
          "departure": {
           "actualTimeLocal": "2021-12-02 10:45+01:00",
           "actualTimeUtc": "2021-12-02 09:45Z",
           "airport": {
            "iata": "DUS",
            "icao": "EDDL",
            "name": "Duesseldorf"
           },
           "checkInDesk": "153,170",
           "gate": "A39",
           "quality": [
            "Basic",
            "Live"
           ],
           "scheduledTimeLocal": "2021-12-02 10:45+01:00",
           "scheduledTimeUtc": "2021-12-02 09:45Z",
           "terminal": "B"
          },
          "isCargo": false,
          "number": "EW 9046",
          "status": "Unknown"
         },
         {
          "aircraft": {
           "model": "Airbus A320"
          },
          "airline": {
           "name": "easyJet"
          },
          "arrival": {
           "quality": [
            "Basic"
           ],
           "scheduledTimeLocal": "2021-12-02 17:50+01:00",
           "scheduledTimeUtc": "2021-12-02 16:50Z",
           "terminal": "1"
          },
          "codeshareStatus": "Unknown",
          "departure": {
           "airport": {
            "iata": "HRG",
            "icao": "HEGN",
            "name": "Hurghada"
           },
           "quality": [
            "Basic"
           ],
           "scheduledTimeLocal": "2021-12-02 13:40+02:00",
           "scheduledTimeUtc": "2021-12-02 11:40Z",
           "terminal": "1"
          },
          "isCargo": false,
          "number": "U2 5788",
          "status": "Unknown"
         },
         {
          "aircraft": {
           "model": "Airbus A321"
          },
          "airline": {
           "name": "Condor"
          },
          "arrival": {
           "quality": [
            "Basic"
           ],
           "scheduledTimeLocal": "2021-12-02 17:55+01:00",
           "scheduledTimeUtc": "2021-12-02 16:55Z",
           "terminal": "1"
          },
          "codeshareStatus": "Unknown",
          "departure": {
           "airport": {
            "iata": "HRG",
            "icao": "HEGN",
            "name": "Hurghada"
           },
           "quality": [
            "Basic"
           ],
           "scheduledTimeLocal": "2021-12-02 14:00+02:00",
           "scheduledTimeUtc": "2021-12-02 12:00Z",
           "terminal": "1"
          },
          "isCargo": false,
          "number": "DE 433",
          "status": "Unknown"
         },
         {
          "aircraft": {
           "model": "Airbus A320"
          },
          "airline": {
           "name": "Brussels"
          },
          "arrival": {
           "quality": [
            "Basic"
           ],
           "scheduledTimeLocal": "2021-12-02 17:50+01:00",
           "scheduledTimeUtc": "2021-12-02 16:50Z",
           "terminal": "1"
          },
          "codeshareStatus": "Unknown",
          "departure": {
           "actualTimeLocal": "2021-12-02 16:30+01:00",
           "actualTimeUtc": "2021-12-02 15:30Z",
           "airport": {
            "iata": "BRU",
            "icao": "EBBR",
            "name": "Brussels"
           },
           "checkInDesk": "02",
           "quality": [
            "Basic",
            "Live"
           ],
           "scheduledTimeLocal": "2021-12-02 16:30+01:00",
           "scheduledTimeUtc": "2021-12-02 15:30Z"
          },
          "isCargo": false,
          "number": "SN 2587",
          "status": "Unknown"
         },
         {
          "aircraft": {
           "model": "Boeing 737-800"
          },
          "airline": {
           "name": "Ryanair"
          },
          "arrival": {
           "quality": [
            "Basic"
           ],
           "scheduledTimeLocal": "2021-12-02 17:35+01:00",
           "scheduledTimeUtc": "2021-12-02 16:35Z"
          },
          "codeshareStatus": "Unknown",
          "departure": {
           "airport": {
            "iata": "INI",
            "icao": "LYNI",
            "name": "Niš"
           },
           "quality": [
            "Basic"
           ],
           "scheduledTimeLocal": "2021-12-02 15:30+01:00",
           "scheduledTimeUtc": "2021-12-02 14:30Z"
          },
          "isCargo": false,
          "number": "FR 1106",
          "status": "Unknown"
         },
         {
          "aircraft": {
           "model": "Embraer 175"
          },
          "airline": {
           "name": "LOT - Polish"
          },
          "arrival": {
           "quality": [
            "Basic"
           ],
           "scheduledTimeLocal": "2021-12-02 17:45+01:00",
           "scheduledTimeUtc": "2021-12-02 16:45Z",
           "terminal": "1"
          },
          "codeshareStatus": "Unknown",
          "departure": {
           "airport": {
            "iata": "WAW",
            "icao": "EPWA",
            "name": "Warsaw"
           },
           "quality": [
            "Basic"
           ],
           "scheduledTimeLocal": "2021-12-02 16:20+01:00",
           "scheduledTimeUtc": "2021-12-02 15:20Z"
          },
          "isCargo": false,
          "number": "LO 389",
          "status": "Unknown"
         },
         {
          "aircraft": {
           "model": "Airbus A220-300"
          },
          "airline": {
           "name": "SWISS"
          },
          "arrival": {
           "quality": [
            "Basic"
           ],
           "scheduledTimeLocal": "2021-12-02 18:05+01:00",
           "scheduledTimeUtc": "2021-12-02 17:05Z",
           "terminal": "1"
          },
          "codeshareStatus": "Unknown",
          "departure": {
           "actualTimeLocal": "2021-12-02 16:40+01:00",
           "actualTimeUtc": "2021-12-02 15:40Z",
           "airport": {
            "iata": "ZRH",
            "icao": "LSZH",
            "name": "Zurich"
           },
           "checkInDesk": "1",
           "quality": [
            "Basic",
            "Live"
           ],
           "scheduledTimeLocal": "2021-12-02 16:40+01:00",
           "scheduledTimeUtc": "2021-12-02 15:40Z"
          },
          "isCargo": false,
          "number": "LX 970",
          "status": "Unknown"
         },
         {
          "aircraft": {
           "model": "Airbus A320"
          },
          "airline": {
           "name": "Lufthansa"
          },
          "arrival": {
           "quality": [
            "Basic"
           ],
           "scheduledTimeLocal": "2021-12-02 17:55+01:00",
           "scheduledTimeUtc": "2021-12-02 16:55Z",
           "terminal": "1"
          },
          "codeshareStatus": "IsCodeshared",
          "departure": {
           "actualTimeLocal": "2021-12-02 16:45+01:00",
           "actualTimeUtc": "2021-12-02 15:45Z",
           "airport": {
            "iata": "FRA",
            "icao": "EDDF",
            "name": "Frankfurt-am-Main"
           },
           "quality": [
            "Basic",
            "Live"
           ],
           "scheduledTimeLocal": "2021-12-02 16:45+01:00",
           "scheduledTimeUtc": "2021-12-02 15:45Z",
           "terminal": "1"
          },
          "isCargo": false,
          "number": "LH 192",
          "status": "Unknown"
         },
         {
          "aircraft": {
           "model": "Airbus A320"
          },
          "airline": {
           "name": "Eurowings"
          },
          "arrival": {
           "quality": [
            "Basic"
           ],
           "scheduledTimeLocal": "2021-12-02 17:55+01:00",
           "scheduledTimeUtc": "2021-12-02 16:55Z",
           "terminal": "1"
          },
          "codeshareStatus": "Unknown",
          "departure": {
           "actualTimeLocal": "2021-12-02 16:40+01:00",
           "actualTimeUtc": "2021-12-02 15:40Z",
           "airport": {
            "iata": "DUS",
            "icao": "EDDL",
            "name": "Duesseldorf"
           },
           "checkInDesk": "153,170",
           "gate": "A42",
           "quality": [
            "Basic",
            "Live"
           ],
           "scheduledTimeLocal": "2021-12-02 16:40+01:00",
           "scheduledTimeUtc": "2021-12-02 15:40Z",
           "terminal": "B"
          },
          "isCargo": false,
          "number": "EW 8045",
          "status": "Unknown"
         },
         {
          "aircraft": {
           "model": "Airbus A321"
          },
          "airline": {
           "name": "Finnair"
          },
          "arrival": {
           "quality": [
            "Basic"
           ],
           "scheduledTimeLocal": "2021-12-02 18:25+01:00",
           "scheduledTimeUtc": "2021-12-02 17:25Z",
           "terminal": "1"
          },
          "codeshareStatus": "Unknown",
          "departure": {
           "actualTimeLocal": "2021-12-02 17:25+02:00",
           "actualTimeUtc": "2021-12-02 15:25Z",
           "airport": {
            "iata": "HEL",
            "icao": "EFHK",
            "name": "Helsinki"
           },
           "checkInDesk": "507-517",
           "quality": [
            "Basic",
            "Live"
           ],
           "scheduledTimeLocal": "2021-12-02 17:25+02:00",
           "scheduledTimeUtc": "2021-12-02 15:25Z",
           "terminal": "T2-500"
          },
          "isCargo": false,
          "number": "AY 1435",
          "status": "Unknown"
         },
         {
          "aircraft": {
           "model": "Embraer 190"
          },
          "airline": {
           "name": "KLM"
          },
          "arrival": {
           "quality": [
            "Basic"
           ],
           "scheduledTimeLocal": "2021-12-02 18:00+01:00",
           "scheduledTimeUtc": "2021-12-02 17:00Z",
           "terminal": "1"
          },
          "codeshareStatus": "IsOperator",
          "departure": {
           "airport": {
            "iata": "AMS",
            "icao": "EHAM",
            "name": "Amsterdam"
           },
           "checkInDesk": "5-8",
           "quality": [
            "Basic"
           ],
           "scheduledTimeLocal": "2021-12-02 16:45+01:00",
           "scheduledTimeUtc": "2021-12-02 15:45Z",
           "terminal": "1"
          },
          "isCargo": false,
          "number": "KL 1831",
          "status": "Unknown"
         },
         {
          "aircraft": {
           "model": "Airbus A320 NEO"
          },
          "airline": {
           "name": "Lufthansa"
          },
          "arrival": {
           "quality": [
            "Basic"
           ],
           "scheduledTimeLocal": "2021-12-02 18:10+01:00",
           "scheduledTimeUtc": "2021-12-02 17:10Z",
           "terminal": "1"
          },
          "codeshareStatus": "IsCodeshared",
          "departure": {
           "airport": {
            "iata": "MUC",
            "icao": "EDDM",
            "name": "Munich"
           },
           "quality": [
            "Basic"
           ],
           "scheduledTimeLocal": "2021-12-02 17:00+01:00",
           "scheduledTimeUtc": "2021-12-02 16:00Z",
           "terminal": "2"
          },
          "isCargo": false,
          "number": "LH 1948",
          "status": "Unknown"
         },
         {
          "aircraft": {
           "model": "Boeing 737-800"
          },
          "airline": {
           "name": "Ryanair"
          },
          "arrival": {
           "quality": [
            "Basic"
           ],
           "scheduledTimeLocal": "2021-12-02 18:40+01:00",
           "scheduledTimeUtc": "2021-12-02 17:40Z"
          },
          "codeshareStatus": "Unknown",
          "departure": {
           "actualTimeLocal": "2021-12-02 15:20+00:00",
           "actualTimeUtc": "2021-12-02 15:20Z",
           "airport": {
            "iata": "DUB",
            "icao": "EIDW",
            "name": "Dublin"
           },
           "checkInDesk": "1204-1319",
           "gate": "119",
           "quality": [
            "Basic",
            "Live"
           ],
           "scheduledTimeLocal": "2021-12-02 15:20+00:00",
           "scheduledTimeUtc": "2021-12-02 15:20Z",
           "terminal": "T1"
          },
          "isCargo": false,
          "number": "FR 8558",
          "status": "Unknown"
         },
         {
          "aircraft": {
           "model": "Airbus A321"
          },
          "airline": {
           "name": "Iberia"
          },
          "arrival": {
           "quality": [
            "Basic"
           ],
           "scheduledTimeLocal": "2021-12-02 18:50+01:00",
           "scheduledTimeUtc": "2021-12-02 17:50Z",
           "terminal": "1"
          },
          "codeshareStatus": "Unknown",
          "departure": {
           "actualTimeLocal": "2021-12-02 15:50+01:00",
           "actualTimeUtc": "2021-12-02 14:50Z",
           "airport": {
            "iata": "MAD",
            "icao": "LEMD",
            "name": "Madrid"
           },
           "quality": [
            "Basic",
            "Live"
           ],
           "scheduledTimeLocal": "2021-12-02 15:50+01:00",
           "scheduledTimeUtc": "2021-12-02 14:50Z",
           "terminal": "4"
          },
          "isCargo": false,
          "number": "IB 3672",
          "status": "Unknown"
         },
         {
          "aircraft": {
           "model": "Airbus A320"
          },
          "airline": {
           "name": "British Airways"
          },
          "arrival": {
           "quality": [
            "Basic"
           ],
           "scheduledTimeLocal": "2021-12-02 18:50+01:00",
           "scheduledTimeUtc": "2021-12-02 17:50Z",
           "terminal": "1"
          },
          "codeshareStatus": "IsCodeshared",
          "departure": {
           "actualTimeLocal": "2021-12-02 15:55+00:00",
           "actualTimeUtc": "2021-12-02 15:55Z",
           "airport": {
            "iata": "LHR",
            "icao": "EGLL",
            "name": "London"
           },
           "checkInDesk": "G",
           "quality": [
            "Basic",
            "Live"
           ],
           "scheduledTimeLocal": "2021-12-02 15:55+00:00",
           "scheduledTimeUtc": "2021-12-02 15:55Z",
           "terminal": "5"
          },
          "isCargo": false,
          "number": "BA 986",
          "status": "Unknown"
         },
         {
          "aircraft": {
           "model": "Boeing 737-800"
          },
          "airline": {
           "name": "Ryanair"
          },
          "arrival": {
           "quality": [
            "Basic"
           ],
           "scheduledTimeLocal": "2021-12-02 18:10+01:00",
           "scheduledTimeUtc": "2021-12-02 17:10Z"
          },
          "codeshareStatus": "Unknown",
          "departure": {
           "airport": {
            "iata": "VNO",
            "icao": "EYVI",
            "name": "Vilnius"
           },
           "quality": [
            "Basic"
           ],
           "scheduledTimeLocal": "2021-12-02 17:30+02:00",
           "scheduledTimeUtc": "2021-12-02 15:30Z"
          },
          "isCargo": false,
          "number": "FR 1571",
          "status": "Unknown"
         },
         {
          "aircraft": {
           "model": "Airbus A320"
          },
          "airline": {
           "name": "Wizz Air"
          },
          "arrival": {
           "quality": [
            "Basic"
           ],
           "scheduledTimeLocal": "2021-12-02 18:45+01:00",
           "scheduledTimeUtc": "2021-12-02 17:45Z",
           "terminal": "0"
          },
          "codeshareStatus": "Unknown",
          "departure": {
           "airport": {
            "iata": "IEV",
            "icao": "UKKK",
            "name": "Kiev"
           },
           "quality": [
            "Basic"
           ],
           "scheduledTimeLocal": "2021-12-02 17:30+02:00",
           "scheduledTimeUtc": "2021-12-02 15:30Z",
           "terminal": "A"
          },
          "isCargo": false,
          "number": "W6 6113",
          "status": "Unknown"
         },
         {
          "aircraft": {
           "model": "Airbus A320"
          },
          "airline": {
           "name": "easyJet"
          },
          "arrival": {
           "quality": [
            "Basic"
           ],
           "scheduledTimeLocal": "2021-12-02 19:00+01:00",
           "scheduledTimeUtc": "2021-12-02 18:00Z",
           "terminal": "1"
          },
          "codeshareStatus": "Unknown",
          "departure": {
           "airport": {
            "iata": "FUE",
            "icao": "GCFV",
            "name": "Fuerteventura Island"
           },
           "quality": [
            "Basic"
           ],
           "scheduledTimeLocal": "2021-12-02 13:00+00:00",
           "scheduledTimeUtc": "2021-12-02 13:00Z"
          },
          "isCargo": false,
          "number": "U2 5924",
          "status": "Unknown"
         },
         {
          "aircraft": {
           "model": "Airbus A320"
          },
          "airline": {
           "name": "Austrian"
          },
          "arrival": {
           "quality": [
            "Basic"
           ],
           "scheduledTimeLocal": "2021-12-02 18:40+01:00",
           "scheduledTimeUtc": "2021-12-02 17:40Z",
           "terminal": "1"
          },
          "codeshareStatus": "Unknown",
          "departure": {
           "airport": {
            "iata": "VIE",
            "icao": "LOWW",
            "name": "Vienna"
           },
           "quality": [
            "Basic"
           ],
           "scheduledTimeLocal": "2021-12-02 17:25+01:00",
           "scheduledTimeUtc": "2021-12-02 16:25Z",
           "terminal": "3"
          },
          "isCargo": false,
          "number": "OS 235",
          "status": "Unknown"
         },
         {
          "aircraft": {
           "model": "Airbus A320"
          },
          "airline": {
           "name": "easyJet"
          },
          "arrival": {
           "quality": [
            "Basic"
           ],
           "scheduledTimeLocal": "2021-12-02 19:10+01:00",
           "scheduledTimeUtc": "2021-12-02 18:10Z",
           "terminal": "1"
          },
          "codeshareStatus": "Unknown",
          "departure": {
           "airport": {
            "iata": "CGN",
            "icao": "EDDK",
            "name": "Cologne"
           },
           "quality": [
            "Basic"
           ],
           "scheduledTimeLocal": "2021-12-02 17:55+01:00",
           "scheduledTimeUtc": "2021-12-02 16:55Z",
           "terminal": "0"
          },
          "isCargo": false,
          "number": "U2 5512",
          "status": "Unknown"
         },
         {
          "aircraft": {
           "model": "Airbus A320 NEO"
          },
          "airline": {
           "name": "Lufthansa"
          },
          "arrival": {
           "quality": [
            "Basic"
           ],
           "scheduledTimeLocal": "2021-12-02 18:55+01:00",
           "scheduledTimeUtc": "2021-12-02 17:55Z",
           "terminal": "1"
          },
          "codeshareStatus": "IsCodeshared",
          "departure": {
           "actualTimeLocal": "2021-12-02 17:45+01:00",
           "actualTimeUtc": "2021-12-02 16:45Z",
           "airport": {
            "iata": "FRA",
            "icao": "EDDF",
            "name": "Frankfurt-am-Main"
           },
           "quality": [
            "Basic",
            "Live"
           ],
           "scheduledTimeLocal": "2021-12-02 17:45+01:00",
           "scheduledTimeUtc": "2021-12-02 16:45Z",
           "terminal": "1"
          },
          "isCargo": false,
          "number": "LH 194",
          "status": "Unknown"
         },
         {
          "aircraft": {
           "model": "Airbus A220-300"
          },
          "airline": {
           "name": "Air Baltic"
          },
          "arrival": {
           "quality": [
            "Basic"
           ],
           "scheduledTimeLocal": "2021-12-02 19:00+01:00",
           "scheduledTimeUtc": "2021-12-02 18:00Z",
           "terminal": "1"
          },
          "codeshareStatus": "Unknown",
          "departure": {
           "actualTimeLocal": "2021-12-02 18:20+02:00",
           "actualTimeUtc": "2021-12-02 16:20Z",
           "airport": {
            "iata": "RIX",
            "icao": "EVRA",
            "name": "Riga"
           },
           "quality": [
            "Basic",
            "Live"
           ],
           "scheduledTimeLocal": "2021-12-02 18:20+02:00",
           "scheduledTimeUtc": "2021-12-02 16:20Z",
           "terminal": "B4"
          },
          "isCargo": false,
          "number": "BT 213",
          "status": "Unknown"
         },
         {
          "aircraft": {
           "model": "Embraer 190"
          },
          "airline": {
           "name": "British Airways"
          },
          "arrival": {
           "quality": [
            "Basic"
           ],
           "scheduledTimeLocal": "2021-12-02 19:30+01:00",
           "scheduledTimeUtc": "2021-12-02 18:30Z",
           "terminal": "1"
          },
          "codeshareStatus": "IsCodeshared",
          "departure": {
           "airport": {
            "iata": "LCY",
            "icao": "EGLC",
            "name": "London"
           },
           "quality": [
            "Basic"
           ],
           "scheduledTimeLocal": "2021-12-02 16:45+00:00",
           "scheduledTimeUtc": "2021-12-02 16:45Z"
          },
          "isCargo": false,
          "number": "BA 8743",
          "status": "Unknown"
         },
         {
          "aircraft": {
           "model": "Boeing 737-800"
          },
          "airline": {
           "name": "Ryanair"
          },
          "arrival": {
           "quality": [
            "Basic"
           ],
           "scheduledTimeLocal": "2021-12-02 19:40+01:00",
           "scheduledTimeUtc": "2021-12-02 18:40Z"
          },
          "codeshareStatus": "Unknown",
          "departure": {
           "actualTimeLocal": "2021-12-02 16:05+01:00",
           "actualTimeUtc": "2021-12-02 15:05Z",
           "airport": {
            "iata": "AGP",
            "icao": "LEMG",
            "name": "Málaga"
           },
           "quality": [
            "Basic",
            "Live"
           ],
           "scheduledTimeLocal": "2021-12-02 16:05+01:00",
           "scheduledTimeUtc": "2021-12-02 15:05Z"
          },
          "isCargo": false,
          "number": "FR 2591",
          "status": "Unknown"
         },
         {
          "aircraft": {
           "model": "Airbus A220-300"
          },
          "airline": {
           "name": "Air France"
          },
          "arrival": {
           "quality": [
            "Basic"
           ],
           "scheduledTimeLocal": "2021-12-02 19:35+01:00",
           "scheduledTimeUtc": "2021-12-02 18:35Z",
           "terminal": "1"
          },
          "codeshareStatus": "Unknown",
          "departure": {
           "airport": {
            "iata": "CDG",
            "icao": "LFPG",
            "name": "Paris"
           },
           "quality": [
            "Basic"
           ],
           "scheduledTimeLocal": "2021-12-02 17:50+01:00",
           "scheduledTimeUtc": "2021-12-02 16:50Z",
           "terminal": "2F"
          },
          "isCargo": false,
          "number": "AF 1534",
          "status": "Unknown"
         },
         {
          "aircraft": {
           "model": "Airbus A320"
          },
          "airline": {
           "name": "Lufthansa"
          },
          "arrival": {
           "quality": [
            "Basic"
           ],
           "scheduledTimeLocal": "2021-12-02 19:15+01:00",
           "scheduledTimeUtc": "2021-12-02 18:15Z",
           "terminal": "1"
          },
          "codeshareStatus": "Unknown",
          "departure": {
           "airport": {
            "iata": "MUC",
            "icao": "EDDM",
            "name": "Munich"
           },
           "quality": [
            "Basic"
           ],
           "scheduledTimeLocal": "2021-12-02 18:05+01:00",
           "scheduledTimeUtc": "2021-12-02 17:05Z",
           "terminal": "2"
          },
          "isCargo": false,
          "number": "LH 2330",
          "status": "Unknown"
         },
         {
          "aircraft": {
           "model": "Airbus A320 NEO"
          },
          "airline": {
           "name": "SWISS"
          },
          "arrival": {
           "quality": [
            "Basic"
           ],
           "scheduledTimeLocal": "2021-12-02 19:45+01:00",
           "scheduledTimeUtc": "2021-12-02 18:45Z",
           "terminal": "1"
          },
          "codeshareStatus": "Unknown",
          "departure": {
           "actualTimeLocal": "2021-12-02 18:20+01:00",
           "actualTimeUtc": "2021-12-02 17:20Z",
           "airport": {
            "iata": "ZRH",
            "icao": "LSZH",
            "name": "Zurich"
           },
           "checkInDesk": "1",
           "quality": [
            "Basic",
            "Live"
           ],
           "scheduledTimeLocal": "2021-12-02 18:20+01:00",
           "scheduledTimeUtc": "2021-12-02 17:20Z"
          },
          "isCargo": false,
          "number": "LX 978",
          "status": "Unknown"
         },
         {
          "aircraft": {
           "model": "Airbus A320"
          },
          "airline": {
           "name": "easyJet"
          },
          "arrival": {
           "quality": [
            "Basic"
           ],
           "scheduledTimeLocal": "2021-12-02 19:45+01:00",
           "scheduledTimeUtc": "2021-12-02 18:45Z",
           "terminal": "1"
          },
          "codeshareStatus": "Unknown",
          "departure": {
           "airport": {
            "iata": "CPH",
            "icao": "EKCH",
            "name": "Copenhagen"
           },
           "quality": [
            "Basic"
           ],
           "scheduledTimeLocal": "2021-12-02 18:40+01:00",
           "scheduledTimeUtc": "2021-12-02 17:40Z",
           "terminal": "2"
          },
          "isCargo": false,
          "number": "U2 5688",
          "status": "Unknown"
         },
         {
          "aircraft": {
           "model": "Boeing 737-800"
          },
          "airline": {
           "name": "Norwegian Air Shuttle"
          },
          "arrival": {
           "quality": [
            "Basic"
           ],
           "scheduledTimeLocal": "2021-12-02 19:35+01:00",
           "scheduledTimeUtc": "2021-12-02 18:35Z",
           "terminal": "1"
          },
          "codeshareStatus": "Unknown",
          "departure": {
           "actualTimeLocal": "2021-12-02 18:00+01:00",
           "actualTimeUtc": "2021-12-02 17:00Z",
           "airport": {
            "iata": "OSL",
            "icao": "ENGM",
            "name": "Oslo"
           },
           "checkInDesk": "23",
           "quality": [
            "Basic",
            "Live"
           ],
           "scheduledTimeLocal": "2021-12-02 18:00+01:00",
           "scheduledTimeUtc": "2021-12-02 17:00Z"
          },
          "isCargo": false,
          "number": "DY 1108",
          "status": "Unknown"
         },
         {
          "aircraft": {
           "model": "Boeing 737-800"
          },
          "airline": {
           "name": "Ryanair"
          },
          "arrival": {
           "quality": [
            "Basic"
           ],
           "scheduledTimeLocal": "2021-12-02 19:55+01:00",
           "scheduledTimeUtc": "2021-12-02 18:55Z"
          },
          "codeshareStatus": "Unknown",
          "departure": {
           "airport": {
            "iata": "CIA",
            "icao": "LIRA",
            "name": "Roma"
           },
           "quality": [
            "Basic"
           ],
           "scheduledTimeLocal": "2021-12-02 17:45+01:00",
           "scheduledTimeUtc": "2021-12-02 16:45Z"
          },
          "isCargo": false,
          "number": "FR 141",
          "status": "Unknown"
         },
         {
          "aircraft": {
           "model": "Bombardier Dash 8 Q400 / DHC-8-400"
          },
          "airline": {
           "name": "Luxair"
          },
          "arrival": {
           "quality": [
            "Basic"
           ],
           "scheduledTimeLocal": "2021-12-02 20:10+01:00",
           "scheduledTimeUtc": "2021-12-02 19:10Z",
           "terminal": "1"
          },
          "codeshareStatus": "Unknown",
          "departure": {
           "actualTimeLocal": "2021-12-02 18:40+01:00",
           "actualTimeUtc": "2021-12-02 17:40Z",
           "airport": {
            "iata": "LUX",
            "icao": "ELLX",
            "name": "Luxembourg"
           },
           "quality": [
            "Basic",
            "Live"
           ],
           "scheduledTimeLocal": "2021-12-02 18:40+01:00",
           "scheduledTimeUtc": "2021-12-02 17:40Z"
          },
          "isCargo": false,
          "number": "LG 9473",
          "status": "Unknown"
         },
         {
          "aircraft": {
           "model": "Airbus A320"
          },
          "airline": {
           "name": "Lufthansa"
          },
          "arrival": {
           "quality": [
            "Basic"
           ],
           "scheduledTimeLocal": "2021-12-02 19:55+01:00",
           "scheduledTimeUtc": "2021-12-02 18:55Z",
           "terminal": "1"
          },
          "codeshareStatus": "IsCodeshared",
          "departure": {
           "actualTimeLocal": "2021-12-02 18:45+01:00",
           "actualTimeUtc": "2021-12-02 17:45Z",
           "airport": {
            "iata": "FRA",
            "icao": "EDDF",
            "name": "Frankfurt-am-Main"
           },
           "quality": [
            "Basic",
            "Live"
           ],
           "scheduledTimeLocal": "2021-12-02 18:45+01:00",
           "scheduledTimeUtc": "2021-12-02 17:45Z",
           "terminal": "1"
          },
          "isCargo": false,
          "number": "LH 190",
          "status": "Unknown"
         },
         {
          "aircraft": {
           "model": "Boeing 737-900"
          },
          "airline": {
           "name": "El Al"
          },
          "arrival": {
           "quality": [
            "Basic"
           ],
           "scheduledTimeLocal": "2021-12-02 19:50+01:00",
           "scheduledTimeUtc": "2021-12-02 18:50Z",
           "terminal": "1"
          },
          "codeshareStatus": "Unknown",
          "departure": {
           "airport": {
            "iata": "TLV",
            "icao": "LLBG",
            "name": "Tel Aviv Yafo"
           },
           "quality": [
            "Basic"
           ],
           "scheduledTimeLocal": "2021-12-02 16:20+02:00",
           "scheduledTimeUtc": "2021-12-02 14:20Z",
           "terminal": "3"
          },
          "isCargo": false,
          "number": "LY 2373",
          "status": "Unknown"
         },
         {
          "aircraft": {
           "model": "Airbus A320 NEO"
          },
          "airline": {
           "name": "Lufthansa"
          },
          "arrival": {
           "quality": [
            "Basic"
           ],
           "scheduledTimeLocal": "2021-12-02 20:10+01:00",
           "scheduledTimeUtc": "2021-12-02 19:10Z",
           "terminal": "1"
          },
          "codeshareStatus": "IsCodeshared",
          "departure": {
           "airport": {
            "iata": "MUC",
            "icao": "EDDM",
            "name": "Munich"
           },
           "quality": [
            "Basic"
           ],
           "scheduledTimeLocal": "2021-12-02 19:00+01:00",
           "scheduledTimeUtc": "2021-12-02 18:00Z",
           "terminal": "2"
          },
          "isCargo": false,
          "number": "LH 1954",
          "status": "Unknown"
         },
         {
          "aircraft": {
           "model": "Airbus A320"
          },
          "airline": {
           "name": "easyJet"
          },
          "arrival": {
           "quality": [
            "Basic"
           ],
           "scheduledTimeLocal": "2021-12-02 20:25+01:00",
           "scheduledTimeUtc": "2021-12-02 19:25Z",
           "terminal": "1"
          },
          "codeshareStatus": "Unknown",
          "departure": {
           "airport": {
            "iata": "MAN",
            "icao": "EGCC",
            "name": "Manchester"
           },
           "quality": [
            "Basic"
           ],
           "scheduledTimeLocal": "2021-12-02 17:30+00:00",
           "scheduledTimeUtc": "2021-12-02 17:30Z",
           "terminal": "1"
          },
          "isCargo": false,
          "number": "U2 1895",
          "status": "Unknown"
         },
         {
          "aircraft": {
           "model": "Airbus A320"
          },
          "airline": {
           "name": "Eurowings"
          },
          "arrival": {
           "quality": [
            "Basic"
           ],
           "scheduledTimeLocal": "2021-12-02 20:55+01:00",
           "scheduledTimeUtc": "2021-12-02 19:55Z",
           "terminal": "1"
          },
          "codeshareStatus": "Unknown",
          "departure": {
           "airport": {
            "name": "Keln"
           },
           "quality": []
          },
          "isCargo": false,
          "number": "EW 8055",
          "status": "Unknown"
         },
         {
          "aircraft": {
           "model": "Airbus A320"
          },
          "airline": {
           "name": "easyJet"
          },
          "arrival": {
           "quality": [
            "Basic"
           ],
           "scheduledTimeLocal": "2021-12-02 20:05+01:00",
           "scheduledTimeUtc": "2021-12-02 19:05Z",
           "terminal": "1"
          },
          "codeshareStatus": "Unknown",
          "departure": {
           "airport": {
            "iata": "CDG",
            "icao": "LFPG",
            "name": "Paris"
           },
           "quality": [
            "Basic"
           ],
           "scheduledTimeLocal": "2021-12-02 18:15+01:00",
           "scheduledTimeUtc": "2021-12-02 17:15Z",
           "terminal": "2D"
          },
          "isCargo": false,
          "number": "U2 5676",
          "status": "Unknown"
         },
         {
          "aircraft": {
           "model": "Airbus A319"
          },
          "airline": {
           "name": "easyJet"
          },
          "arrival": {
           "quality": [
            "Basic"
           ],
           "scheduledTimeLocal": "2021-12-02 20:50+01:00",
           "scheduledTimeUtc": "2021-12-02 19:50Z",
           "terminal": "1"
          },
          "codeshareStatus": "Unknown",
          "departure": {
           "airport": {
            "iata": "ZRH",
            "icao": "LSZH",
            "name": "Zurich"
           },
           "quality": [
            "Basic"
           ],
           "scheduledTimeLocal": "2021-12-02 19:15+01:00",
           "scheduledTimeUtc": "2021-12-02 18:15Z"
          },
          "isCargo": false,
          "number": "U2 5868",
          "status": "Unknown"
         },
         {
          "aircraft": {
           "model": "Airbus A319",
           "reg": "D-AGWJ"
          },
          "airline": {
           "name": "Eurowings"
          },
          "arrival": {
           "quality": [
            "Basic"
           ],
           "scheduledTimeLocal": "2021-12-02 20:05+01:00",
           "scheduledTimeUtc": "2021-12-02 19:05Z",
           "terminal": "1"
          },
          "codeshareStatus": "Unknown",
          "departure": {
           "actualTimeLocal": "2021-12-02 18:50+01:00",
           "actualTimeUtc": "2021-12-02 17:50Z",
           "airport": {
            "iata": "DUS",
            "icao": "EDDL",
            "name": "Duesseldorf"
           },
           "checkInDesk": "153,170",
           "gate": "A50",
           "quality": [
            "Basic",
            "Live"
           ],
           "scheduledTimeLocal": "2021-12-02 18:50+01:00",
           "scheduledTimeUtc": "2021-12-02 17:50Z",
           "terminal": "B"
          },
          "isCargo": false,
          "number": "EW 9044",
          "status": "Unknown"
         },
         {
          "aircraft": {
           "model": "Airbus A320"
          },
          "airline": {
           "name": "easyJet"
          },
          "arrival": {
           "quality": [
            "Basic"
           ],
           "scheduledTimeLocal": "2021-12-02 20:40+01:00",
           "scheduledTimeUtc": "2021-12-02 19:40Z",
           "terminal": "1"
          },
          "codeshareStatus": "Unknown",
          "departure": {
           "airport": {
            "iata": "BRS",
            "icao": "EGGD",
            "name": "Bristol"
           },
           "quality": [
            "Basic"
           ],
           "scheduledTimeLocal": "2021-12-02 17:40+00:00",
           "scheduledTimeUtc": "2021-12-02 17:40Z"
          },
          "isCargo": false,
          "number": "U2 6237",
          "status": "Unknown"
         },
         {
          "aircraft": {
           "model": "Embraer 190"
          },
          "airline": {
           "name": "British Airways"
          },
          "arrival": {
           "quality": [
            "Basic"
           ],
           "scheduledTimeLocal": "2021-12-02 21:10+01:00",
           "scheduledTimeUtc": "2021-12-02 20:10Z",
           "terminal": "1"
          },
          "codeshareStatus": "IsCodeshared",
          "departure": {
           "airport": {
            "iata": "LCY",
            "icao": "EGLC",
            "name": "London"
           },
           "quality": [
            "Basic"
           ],
           "scheduledTimeLocal": "2021-12-02 18:30+00:00",
           "scheduledTimeUtc": "2021-12-02 18:30Z"
          },
          "isCargo": false,
          "number": "BA 8495",
          "status": "Unknown"
         },
         {
          "aircraft": {
           "model": "Airbus A320"
          },
          "airline": {
           "name": "Eurowings"
          },
          "arrival": {
           "quality": [
            "Basic"
           ],
           "scheduledTimeLocal": "2021-12-02 20:05+01:00",
           "scheduledTimeUtc": "2021-12-02 19:05Z",
           "terminal": "1"
          },
          "codeshareStatus": "Unknown",
          "departure": {
           "actualTimeLocal": "2021-12-02 18:45+01:00",
           "actualTimeUtc": "2021-12-02 17:45Z",
           "airport": {
            "iata": "STR",
            "icao": "EDDS",
            "name": "Stuttgart"
           },
           "gate": "159",
           "quality": [
            "Basic",
            "Live"
           ],
           "scheduledTimeLocal": "2021-12-02 18:45+01:00",
           "scheduledTimeUtc": "2021-12-02 17:45Z",
           "terminal": "1"
          },
          "isCargo": false,
          "number": "EW 2006",
          "status": "Unknown"
         },
         {
          "aircraft": {
           "model": "Airbus A319"
          },
          "airline": {
           "name": "easyJet"
          },
          "arrival": {
           "quality": [
            "Basic"
           ],
           "scheduledTimeLocal": "2021-12-02 21:30+01:00",
           "scheduledTimeUtc": "2021-12-02 20:30Z",
           "terminal": "1"
          },
          "codeshareStatus": "Unknown",
          "departure": {
           "airport": {
            "iata": "AMS",
            "icao": "EHAM",
            "name": "Amsterdam"
           },
           "quality": [
            "Basic"
           ],
           "scheduledTimeLocal": "2021-12-02 20:05+01:00",
           "scheduledTimeUtc": "2021-12-02 19:05Z"
          },
          "isCargo": false,
          "number": "U2 5108",
          "status": "Unknown"
         },
         {
          "aircraft": {
           "model": "Boeing 737-800"
          },
          "airline": {
           "name": "Norwegian Air Shuttle"
          },
          "arrival": {
           "quality": [
            "Basic"
           ],
           "scheduledTimeLocal": "2021-12-02 21:20+01:00",
           "scheduledTimeUtc": "2021-12-02 20:20Z",
           "terminal": "1"
          },
          "codeshareStatus": "Unknown",
          "departure": {
           "airport": {
            "iata": "BGO",
            "icao": "ENBR",
            "name": "Bergen"
           },
           "quality": [
            "Basic"
           ],
           "scheduledTimeLocal": "2021-12-02 19:40+01:00",
           "scheduledTimeUtc": "2021-12-02 18:40Z"
          },
          "isCargo": false,
          "number": "DY 1160",
          "status": "Unknown"
         },
         {
          "aircraft": {
           "model": "Boeing 737-800"
          },
          "airline": {
           "name": "Ryanair"
          },
          "arrival": {
           "quality": [
            "Basic"
           ],
           "scheduledTimeLocal": "2021-12-02 21:30+01:00",
           "scheduledTimeUtc": "2021-12-02 20:30Z"
          },
          "codeshareStatus": "Unknown",
          "departure": {
           "airport": {
            "iata": "OTP",
            "icao": "LROP",
            "name": "Bucharest"
           },
           "quality": [
            "Basic"
           ],
           "scheduledTimeLocal": "2021-12-02 20:15+02:00",
           "scheduledTimeUtc": "2021-12-02 18:15Z"
          },
          "isCargo": false,
          "number": "FR 328",
          "status": "Unknown"
         },
         {
          "aircraft": {
           "model": "Airbus A320"
          },
          "airline": {
           "name": "Eurowings"
          },
          "arrival": {
           "quality": [
            "Basic"
           ],
           "scheduledTimeLocal": "2021-12-02 21:45+01:00",
           "scheduledTimeUtc": "2021-12-02 20:45Z",
           "terminal": "1"
          },
          "codeshareStatus": "Unknown",
          "departure": {
           "actualTimeLocal": "2021-12-02 20:30+01:00",
           "actualTimeUtc": "2021-12-02 19:30Z",
           "airport": {
            "iata": "DUS",
            "icao": "EDDL",
            "name": "Duesseldorf"
           },
           "checkInDesk": "153,170",
           "gate": "A25",
           "quality": [
            "Basic",
            "Live"
           ],
           "scheduledTimeLocal": "2021-12-02 20:30+01:00",
           "scheduledTimeUtc": "2021-12-02 19:30Z",
           "terminal": "B"
          },
          "isCargo": false,
          "number": "EW 8047",
          "status": "Unknown"
         },
         {
          "aircraft": {
           "model": "Airbus A320"
          },
          "airline": {
           "name": "British Airways"
          },
          "arrival": {
           "quality": [
            "Basic"
           ],
           "scheduledTimeLocal": "2021-12-02 21:45+01:00",
           "scheduledTimeUtc": "2021-12-02 20:45Z",
           "terminal": "1"
          },
          "codeshareStatus": "IsCodeshared",
          "departure": {
           "actualTimeLocal": "2021-12-02 18:55+00:00",
           "actualTimeUtc": "2021-12-02 18:55Z",
           "airport": {
            "iata": "LHR",
            "icao": "EGLL",
            "name": "London"
           },
           "checkInDesk": "G",
           "quality": [
            "Basic",
            "Live"
           ],
           "scheduledTimeLocal": "2021-12-02 18:55+00:00",
           "scheduledTimeUtc": "2021-12-02 18:55Z",
           "terminal": "5"
          },
          "isCargo": false,
          "number": "BA 988",
          "status": "Unknown"
         },
         {
          "aircraft": {
           "model": "Boeing 737-800"
          },
          "airline": {
           "name": "Ryanair"
          },
          "arrival": {
           "quality": [
            "Basic"
           ],
           "scheduledTimeLocal": "2021-12-02 21:45+01:00",
           "scheduledTimeUtc": "2021-12-02 20:45Z"
          },
          "codeshareStatus": "Unknown",
          "departure": {
           "airport": {
            "iata": "SKG",
            "icao": "LGTS",
            "name": "Thessaloniki"
           },
           "quality": [
            "Basic"
           ],
           "scheduledTimeLocal": "2021-12-02 20:15+02:00",
           "scheduledTimeUtc": "2021-12-02 18:15Z"
          },
          "isCargo": false,
          "number": "FR 1147",
          "status": "Unknown"
         },
         {
          "aircraft": {
           "model": "Airbus A320"
          },
          "airline": {
           "name": "easyJet"
          },
          "arrival": {
           "quality": [
            "Basic"
           ],
           "scheduledTimeLocal": "2021-12-02 21:50+01:00",
           "scheduledTimeUtc": "2021-12-02 20:50Z",
           "terminal": "1"
          },
          "codeshareStatus": "Unknown",
          "departure": {
           "airport": {
            "name": "Stockholm"
           },
           "quality": []
          },
          "isCargo": false,
          "number": "U2 5216",
          "status": "Unknown"
         },
         {
          "aircraft": {
           "model": "Airbus A320"
          },
          "airline": {
           "name": "easyJet"
          },
          "arrival": {
           "quality": [
            "Basic"
           ],
           "scheduledTimeLocal": "2021-12-02 21:30+01:00",
           "scheduledTimeUtc": "2021-12-02 20:30Z",
           "terminal": "1"
          },
          "codeshareStatus": "Unknown",
          "departure": {
           "airport": {
            "iata": "FCO",
            "icao": "LIRF",
            "name": "Rome"
           },
           "quality": [
            "Basic"
           ],
           "scheduledTimeLocal": "2021-12-02 19:15+01:00",
           "scheduledTimeUtc": "2021-12-02 18:15Z",
           "terminal": "3"
          },
          "isCargo": false,
          "number": "U2 5708",
          "status": "Unknown"
         },
         {
          "aircraft": {
           "model": "Boeing 737-800"
          },
          "airline": {
           "name": "Ryanair"
          },
          "arrival": {
           "quality": [
            "Basic"
           ],
           "scheduledTimeLocal": "2021-12-02 22:00+01:00",
           "scheduledTimeUtc": "2021-12-02 21:00Z"
          },
          "codeshareStatus": "Unknown",
          "departure": {
           "airport": {
            "name": "Bologna"
           },
           "quality": []
          },
          "isCargo": false,
          "number": "FR 137",
          "status": "Unknown"
         },
         {
          "aircraft": {
           "model": "Airbus A320"
          },
          "airline": {
           "name": "easyJet"
          },
          "arrival": {
           "quality": [
            "Basic"
           ],
           "scheduledTimeLocal": "2021-12-02 21:50+01:00",
           "scheduledTimeUtc": "2021-12-02 20:50Z",
           "terminal": "1"
          },
          "codeshareStatus": "Unknown",
          "departure": {
           "airport": {
            "iata": "NCE",
            "icao": "LFMN",
            "name": "Nice"
           },
           "quality": [
            "Basic"
           ],
           "scheduledTimeLocal": "2021-12-02 19:45+01:00",
           "scheduledTimeUtc": "2021-12-02 18:45Z",
           "terminal": "2"
          },
          "isCargo": false,
          "number": "U2 5152",
          "status": "Unknown"
         },
         {
          "aircraft": {
           "model": "Airbus A320"
          },
          "airline": {
           "name": "easyJet"
          },
          "arrival": {
           "quality": [
            "Basic"
           ],
           "scheduledTimeLocal": "2021-12-02 21:45+01:00",
           "scheduledTimeUtc": "2021-12-02 20:45Z",
           "terminal": "1"
          },
          "codeshareStatus": "Unknown",
          "departure": {
           "airport": {
            "iata": "VCE",
            "icao": "LIPZ",
            "name": "Venice"
           },
           "quality": [
            "Basic"
           ],
           "scheduledTimeLocal": "2021-12-02 20:00+01:00",
           "scheduledTimeUtc": "2021-12-02 19:00Z"
          },
          "isCargo": false,
          "number": "U2 5838",
          "status": "Unknown"
         },
         {
          "aircraft": {
           "model": "Boeing 737-800",
           "reg": "PH-BXK"
          },
          "airline": {
           "name": "KLM"
          },
          "arrival": {
           "quality": [
            "Basic"
           ],
           "scheduledTimeLocal": "2021-12-02 21:55+01:00",
           "scheduledTimeUtc": "2021-12-02 20:55Z",
           "terminal": "1"
          },
          "codeshareStatus": "IsOperator",
          "departure": {
           "airport": {
            "iata": "AMS",
            "icao": "EHAM",
            "name": "Amsterdam"
           },
           "checkInDesk": "9-16",
           "quality": [
            "Basic"
           ],
           "scheduledTimeLocal": "2021-12-02 20:40+01:00",
           "scheduledTimeUtc": "2021-12-02 19:40Z",
           "terminal": "2"
          },
          "isCargo": false,
          "number": "KL 1835",
          "status": "Unknown"
         },
         {
          "aircraft": {
           "model": "Airbus A320"
          },
          "airline": {
           "name": "Brussels"
          },
          "arrival": {
           "quality": [
            "Basic"
           ],
           "scheduledTimeLocal": "2021-12-02 22:05+01:00",
           "scheduledTimeUtc": "2021-12-02 21:05Z",
           "terminal": "1"
          },
          "codeshareStatus": "Unknown",
          "departure": {
           "actualTimeLocal": "2021-12-02 20:45+01:00",
           "actualTimeUtc": "2021-12-02 19:45Z",
           "airport": {
            "iata": "BRU",
            "icao": "EBBR",
            "name": "Brussels"
           },
           "checkInDesk": "02",
           "quality": [
            "Basic",
            "Live"
           ],
           "scheduledTimeLocal": "2021-12-02 20:45+01:00",
           "scheduledTimeUtc": "2021-12-02 19:45Z"
          },
          "isCargo": false,
          "number": "SN 2591",
          "status": "Unknown"
         },
         {
          "aircraft": {
           "model": "Boeing 737-800"
          },
          "airline": {
           "name": "Ryanair"
          },
          "arrival": {
           "quality": [
            "Basic"
           ],
           "scheduledTimeLocal": "2021-12-02 22:10+01:00",
           "scheduledTimeUtc": "2021-12-02 21:10Z"
          },
          "codeshareStatus": "Unknown",
          "departure": {
           "airport": {
            "iata": "STN",
            "icao": "EGSS",
            "name": "London"
           },
           "quality": [
            "Basic"
           ],
           "scheduledTimeLocal": "2021-12-02 19:20+00:00",
           "scheduledTimeUtc": "2021-12-02 19:20Z"
          },
          "isCargo": false,
          "number": "FR 147",
          "status": "Unknown"
         },
         {
          "aircraft": {
           "model": "Boeing 737-800"
          },
          "airline": {
           "name": "Ryanair"
          },
          "arrival": {
           "quality": [
            "Basic"
           ],
           "scheduledTimeLocal": "2021-12-02 22:15+01:00",
           "scheduledTimeUtc": "2021-12-02 21:15Z"
          },
          "codeshareStatus": "Unknown",
          "departure": {
           "airport": {
            "iata": "LIS",
            "icao": "LPPT",
            "name": "Lisbon"
           },
           "quality": [
            "Basic"
           ],
           "scheduledTimeLocal": "2021-12-02 17:40+00:00",
           "scheduledTimeUtc": "2021-12-02 17:40Z",
           "terminal": "T2"
          },
          "isCargo": false,
          "number": "FR 1143",
          "status": "Unknown"
         },
         {
          "aircraft": {
           "model": "Airbus A321"
          },
          "airline": {
           "name": "Austrian"
          },
          "arrival": {
           "quality": [
            "Basic"
           ],
           "scheduledTimeLocal": "2021-12-02 22:10+01:00",
           "scheduledTimeUtc": "2021-12-02 21:10Z",
           "terminal": "1"
          },
          "codeshareStatus": "Unknown",
          "departure": {
           "airport": {
            "iata": "VIE",
            "icao": "LOWW",
            "name": "Vienna"
           },
           "quality": [
            "Basic"
           ],
           "scheduledTimeLocal": "2021-12-02 20:55+01:00",
           "scheduledTimeUtc": "2021-12-02 19:55Z",
           "terminal": "3"
          },
          "isCargo": false,
          "number": "OS 239",
          "status": "Unknown"
         },
         {
          "aircraft": {
           "model": "Airbus A320"
          },
          "airline": {
           "name": "Eurowings"
          },
          "arrival": {
           "quality": [
            "Basic"
           ],
           "scheduledTimeLocal": "2021-12-02 22:25+01:00",
           "scheduledTimeUtc": "2021-12-02 21:25Z",
           "terminal": "1"
          },
          "codeshareStatus": "Unknown",
          "departure": {
           "actualTimeLocal": "2021-12-02 21:05+01:00",
           "actualTimeUtc": "2021-12-02 20:05Z",
           "airport": {
            "iata": "STR",
            "icao": "EDDS",
            "name": "Stuttgart"
           },
           "gate": "140",
           "quality": [
            "Basic",
            "Live"
           ],
           "scheduledTimeLocal": "2021-12-02 21:05+01:00",
           "scheduledTimeUtc": "2021-12-02 20:05Z",
           "terminal": "1"
          },
          "isCargo": false,
          "number": "EW 8007",
          "status": "Unknown"
         },
         {
          "aircraft": {
           "model": "Airbus A320"
          },
          "airline": {
           "name": "SWISS"
          },
          "arrival": {
           "quality": [
            "Basic"
           ],
           "scheduledTimeLocal": "2021-12-02 22:25+01:00",
           "scheduledTimeUtc": "2021-12-02 21:25Z",
           "terminal": "1"
          },
          "codeshareStatus": "Unknown",
          "departure": {
           "actualTimeLocal": "2021-12-02 20:55+01:00",
           "actualTimeUtc": "2021-12-02 19:55Z",
           "airport": {
            "iata": "ZRH",
            "icao": "LSZH",
            "name": "Zurich"
           },
           "checkInDesk": "1",
           "quality": [
            "Basic",
            "Live"
           ],
           "scheduledTimeLocal": "2021-12-02 20:55+01:00",
           "scheduledTimeUtc": "2021-12-02 19:55Z"
          },
          "isCargo": false,
          "number": "LX 962",
          "status": "Unknown"
         },
         {
          "aircraft": {
           "model": "Airbus A320"
          },
          "airline": {
           "name": "easyJet"
          },
          "arrival": {
           "quality": [
            "Basic"
           ],
           "scheduledTimeLocal": "2021-12-02 22:25+01:00",
           "scheduledTimeUtc": "2021-12-02 21:25Z",
           "terminal": "1"
          },
          "codeshareStatus": "Unknown",
          "departure": {
           "airport": {
            "iata": "TFS",
            "icao": "GCTS",
            "name": "Tenerife Island"
           },
           "quality": [
            "Basic"
           ],
           "scheduledTimeLocal": "2021-12-02 16:05+00:00",
           "scheduledTimeUtc": "2021-12-02 16:05Z"
          },
          "isCargo": false,
          "number": "U2 5916",
          "status": "Unknown"
         },
         {
          "aircraft": {
           "model": "Airbus A320"
          },
          "airline": {
           "name": "easyJet"
          },
          "arrival": {
           "quality": [
            "Basic"
           ],
           "scheduledTimeLocal": "2021-12-02 22:20+01:00",
           "scheduledTimeUtc": "2021-12-02 21:20Z",
           "terminal": "1"
          },
          "codeshareStatus": "Unknown",
          "departure": {
           "airport": {
            "iata": "BSL",
            "icao": "LFSB",
            "name": "Bâle/Mulhouse"
           },
           "quality": [
            "Basic"
           ],
           "scheduledTimeLocal": "2021-12-02 20:45+01:00",
           "scheduledTimeUtc": "2021-12-02 19:45Z"
          },
          "isCargo": false,
          "number": "U2 5640",
          "status": "Unknown"
         },
         {
          "aircraft": {
           "model": "Boeing 737-800"
          },
          "airline": {
           "name": "Ryanair"
          },
          "arrival": {
           "quality": [
            "Basic"
           ],
           "scheduledTimeLocal": "2021-12-02 22:30+01:00",
           "scheduledTimeUtc": "2021-12-02 21:30Z"
          },
          "codeshareStatus": "Unknown",
          "departure": {
           "airport": {
            "iata": "LPA",
            "icao": "GCLP",
            "name": "Gran Canaria Island"
           },
           "quality": [
            "Basic"
           ],
           "scheduledTimeLocal": "2021-12-02 16:20+00:00",
           "scheduledTimeUtc": "2021-12-02 16:20Z"
          },
          "isCargo": false,
          "number": "FR 2501",
          "status": "Unknown"
         },
         {
          "aircraft": {
           "model": "Airbus A320"
          },
          "airline": {
           "name": "easyJet"
          },
          "arrival": {
           "quality": [
            "Basic"
           ],
           "scheduledTimeLocal": "2021-12-02 22:25+01:00",
           "scheduledTimeUtc": "2021-12-02 21:25Z",
           "terminal": "1"
          },
          "codeshareStatus": "Unknown",
          "departure": {
           "airport": {
            "iata": "TLV",
            "icao": "LLBG",
            "name": "Tel Aviv Yafo"
           },
           "quality": [
            "Basic"
           ],
           "scheduledTimeLocal": "2021-12-02 18:50+02:00",
           "scheduledTimeUtc": "2021-12-02 16:50Z",
           "terminal": "3"
          },
          "isCargo": false,
          "number": "U2 5206",
          "status": "Unknown"
         },
         {
          "aircraft": {
           "model": "Boeing 737-800"
          },
          "airline": {
           "name": "Ryanair"
          },
          "arrival": {
           "quality": [
            "Basic"
           ],
           "scheduledTimeLocal": "2021-12-02 22:25+01:00",
           "scheduledTimeUtc": "2021-12-02 21:25Z"
          },
          "codeshareStatus": "Unknown",
          "departure": {
           "actualTimeLocal": "2021-12-02 20:55+01:00",
           "actualTimeUtc": "2021-12-02 19:55Z",
           "airport": {
            "iata": "BRU",
            "icao": "EBBR",
            "name": "Brussels"
           },
           "checkInDesk": "08",
           "quality": [
            "Basic",
            "Live"
           ],
           "scheduledTimeLocal": "2021-12-02 20:55+01:00",
           "scheduledTimeUtc": "2021-12-02 19:55Z"
          },
          "isCargo": false,
          "number": "FR 167",
          "status": "Unknown"
         },
         {
          "aircraft": {
           "model": "Boeing 737-800"
          },
          "airline": {
           "name": "Ryanair"
          },
          "arrival": {
           "quality": [
            "Basic"
           ],
           "scheduledTimeLocal": "2021-12-02 22:30+01:00",
           "scheduledTimeUtc": "2021-12-02 21:30Z"
          },
          "codeshareStatus": "Unknown",
          "departure": {
           "airport": {
            "iata": "FAO",
            "icao": "LPFR",
            "name": "Faro"
           },
           "quality": [
            "Basic"
           ],
           "scheduledTimeLocal": "2021-12-02 18:00+00:00",
           "scheduledTimeUtc": "2021-12-02 18:00Z"
          },
          "isCargo": false,
          "number": "FR 5365",
          "status": "Unknown"
         },
         {
          "aircraft": {
           "model": "Airbus A320"
          },
          "airline": {
           "name": "easyJet"
          },
          "arrival": {
           "quality": [
            "Basic"
           ],
           "scheduledTimeLocal": "2021-12-02 22:30+01:00",
           "scheduledTimeUtc": "2021-12-02 21:30Z",
           "terminal": "1"
          },
          "codeshareStatus": "Unknown",
          "departure": {
           "airport": {
            "name": "Copenhagen"
           },
           "quality": []
          },
          "isCargo": false,
          "number": "U2 5690",
          "status": "Unknown"
         },
         {
          "aircraft": {
           "model": "Airbus A320"
          },
          "airline": {
           "name": "easyJet"
          },
          "arrival": {
           "quality": [
            "Basic"
           ],
           "scheduledTimeLocal": "2021-12-02 22:30+01:00",
           "scheduledTimeUtc": "2021-12-02 21:30Z",
           "terminal": "1"
          },
          "codeshareStatus": "Unknown",
          "departure": {
           "airport": {
            "iata": "PMI",
            "icao": "LEPA",
            "name": "Palma De Mallorca"
           },
           "quality": [
            "Basic"
           ],
           "scheduledTimeLocal": "2021-12-02 19:35+01:00",
           "scheduledTimeUtc": "2021-12-02 18:35Z"
          },
          "isCargo": false,
          "number": "U2 5808",
          "status": "Unknown"
         },
         {
          "aircraft": {
           "model": "Airbus A320 NEO"
          },
          "airline": {
           "name": "Lufthansa"
          },
          "arrival": {
           "quality": [
            "Basic"
           ],
           "scheduledTimeLocal": "2021-12-02 22:25+01:00",
           "scheduledTimeUtc": "2021-12-02 21:25Z",
           "terminal": "1"
          },
          "codeshareStatus": "IsCodeshared",
          "departure": {
           "actualTimeLocal": "2021-12-02 21:15+01:00",
           "actualTimeUtc": "2021-12-02 20:15Z",
           "airport": {
            "iata": "FRA",
            "icao": "EDDF",
            "name": "Frankfurt-am-Main"
           },
           "quality": [
            "Basic",
            "Live"
           ],
           "scheduledTimeLocal": "2021-12-02 21:15+01:00",
           "scheduledTimeUtc": "2021-12-02 20:15Z",
           "terminal": "1"
          },
          "isCargo": false,
          "number": "LH 202",
          "status": "Unknown"
         },
         {
          "aircraft": {
           "model": "Airbus A320"
          },
          "airline": {
           "name": "Iberia"
          },
          "arrival": {
           "quality": [
            "Basic"
           ],
           "scheduledTimeLocal": "2021-12-02 22:45+01:00",
           "scheduledTimeUtc": "2021-12-02 21:45Z",
           "terminal": "1"
          },
          "codeshareStatus": "Unknown",
          "departure": {
           "actualTimeLocal": "2021-12-02 19:45+01:00",
           "actualTimeUtc": "2021-12-02 18:45Z",
           "airport": {
            "iata": "MAD",
            "icao": "LEMD",
            "name": "Madrid"
           },
           "quality": [
            "Basic",
            "Live"
           ],
           "scheduledTimeLocal": "2021-12-02 19:45+01:00",
           "scheduledTimeUtc": "2021-12-02 18:45Z",
           "terminal": "4"
          },
          "isCargo": false,
          "number": "IB 3674",
          "status": "Unknown"
         },
         {
          "aircraft": {
           "model": "Boeing 737-800"
          },
          "airline": {
           "name": "Ryanair"
          },
          "arrival": {
           "quality": [
            "Basic"
           ],
           "scheduledTimeLocal": "2021-12-02 22:30+01:00",
           "scheduledTimeUtc": "2021-12-02 21:30Z"
          },
          "codeshareStatus": "Unknown",
          "departure": {
           "airport": {
            "iata": "BGY",
            "icao": "LIME",
            "name": "Bergamo"
           },
           "quality": [
            "Basic"
           ],
           "scheduledTimeLocal": "2021-12-02 20:45+01:00",
           "scheduledTimeUtc": "2021-12-02 19:45Z"
          },
          "isCargo": false,
          "number": "FR 4733",
          "status": "Unknown"
         },
         {
          "aircraft": {
           "model": "Airbus A321"
          },
          "airline": {
           "name": "Air France"
          },
          "arrival": {
           "quality": [
            "Basic"
           ],
           "scheduledTimeLocal": "2021-12-02 22:40+01:00",
           "scheduledTimeUtc": "2021-12-02 21:40Z",
           "terminal": "1"
          },
          "codeshareStatus": "Unknown",
          "departure": {
           "airport": {
            "iata": "CDG",
            "icao": "LFPG",
            "name": "Paris"
           },
           "quality": [
            "Basic"
           ],
           "scheduledTimeLocal": "2021-12-02 20:55+01:00",
           "scheduledTimeUtc": "2021-12-02 19:55Z",
           "terminal": "2F"
          },
          "isCargo": false,
          "number": "AF 1134",
          "status": "Unknown"
         },
         {
          "aircraft": {
           "model": "Airbus A320"
          },
          "airline": {
           "name": "easyJet"
          },
          "arrival": {
           "quality": [
            "Basic"
           ],
           "scheduledTimeLocal": "2021-12-02 22:30+01:00",
           "scheduledTimeUtc": "2021-12-02 21:30Z",
           "terminal": "1"
          },
          "codeshareStatus": "Unknown",
          "departure": {
           "airport": {
            "iata": "MXP",
            "icao": "LIMC",
            "name": "Milan"
           },
           "quality": [
            "Basic"
           ],
           "scheduledTimeLocal": "2021-12-02 20:40+01:00",
           "scheduledTimeUtc": "2021-12-02 19:40Z",
           "terminal": "1"
          },
          "isCargo": false,
          "number": "U2 4678",
          "status": "Unknown"
         },
         {
          "aircraft": {
           "model": "Airbus A320"
          },
          "airline": {
           "name": "Ghodawat Enterprises"
          },
          "arrival": {
           "quality": [
            "Basic"
           ],
           "scheduledTimeLocal": "2021-12-02 20:00+01:00",
           "scheduledTimeUtc": "2021-12-02 19:00Z",
           "terminal": "1"
          },
          "codeshareStatus": "Unknown",
          "departure": {
           "airport": {
            "iata": "KEF",
            "icao": "BIKF",
            "name": "Reykjavik"
           },
           "quality": [
            "Basic"
           ],
           "scheduledTimeLocal": "2021-12-02 15:20+00:00",
           "scheduledTimeUtc": "2021-12-02 15:20Z"
          },
          "isCargo": false,
          "number": "OG 704",
          "status": "Unknown"
         },
         {
          "aircraft": {
           "model": "Airbus A320"
          },
          "airline": {
           "name": "easyJet"
          },
          "arrival": {
           "quality": [
            "Basic"
           ],
           "scheduledTimeLocal": "2021-12-02 21:00+01:00",
           "scheduledTimeUtc": "2021-12-02 20:00Z",
           "terminal": "1"
          },
          "codeshareStatus": "Unknown",
          "departure": {
           "airport": {
            "iata": "LGW",
            "icao": "EGKK",
            "name": "London"
           },
           "quality": [
            "Basic"
           ],
           "scheduledTimeLocal": "2021-12-02 18:00+00:00",
           "scheduledTimeUtc": "2021-12-02 18:00Z",
           "terminal": "N"
          },
          "isCargo": false,
          "number": "U2 8125",
          "status": "Unknown"
         },
         {
          "aircraft": {
           "model": "Airbus A320"
          },
          "airline": {
           "name": "easyJet"
          },
          "arrival": {
           "quality": [
            "Basic"
           ],
           "scheduledTimeLocal": "2021-12-02 21:00+01:00",
           "scheduledTimeUtc": "2021-12-02 20:00Z",
           "terminal": "1"
          },
          "codeshareStatus": "Unknown",
          "departure": {
           "airport": {
            "iata": "CGN",
            "icao": "EDDK",
            "name": "Cologne"
           },
           "quality": [
            "Basic"
           ],
           "scheduledTimeLocal": "2021-12-02 19:45+01:00",
           "scheduledTimeUtc": "2021-12-02 18:45Z",
           "terminal": "0"
          },
          "isCargo": false,
          "number": "U2 5514",
          "status": "Unknown"
         },
         {
          "aircraft": {
           "model": "Embraer 190"
          },
          "airline": {
           "name": "TAP Air Portugal"
          },
          "arrival": {
           "quality": [
            "Basic"
           ],
           "scheduledTimeLocal": "2021-12-02 22:50+01:00",
           "scheduledTimeUtc": "2021-12-02 21:50Z",
           "terminal": "1"
          },
          "codeshareStatus": "Unknown",
          "departure": {
           "airport": {
            "iata": "LIS",
            "icao": "LPPT",
            "name": "Lisbon"
           },
           "quality": [
            "Basic"
           ],
           "scheduledTimeLocal": "2021-12-02 18:10+00:00",
           "scheduledTimeUtc": "2021-12-02 18:10Z",
           "terminal": "1"
          },
          "isCargo": false,
          "number": "TP 532",
          "status": "Unknown"
         },
         {
          "aircraft": {
           "model": "Airbus A321"
          },
          "airline": {
           "name": "Lufthansa"
          },
          "arrival": {
           "quality": [
            "Basic"
           ],
           "scheduledTimeLocal": "2021-12-02 22:55+01:00",
           "scheduledTimeUtc": "2021-12-02 21:55Z",
           "terminal": "1"
          },
          "codeshareStatus": "IsCodeshared",
          "departure": {
           "airport": {
            "iata": "MUC",
            "icao": "EDDM",
            "name": "Munich"
           },
           "quality": [
            "Basic"
           ],
           "scheduledTimeLocal": "2021-12-02 21:45+01:00",
           "scheduledTimeUtc": "2021-12-02 20:45Z",
           "terminal": "2"
          },
          "isCargo": false,
          "number": "LH 1958",
          "status": "Unknown"
         }
        ]
       }
      ],
      "text/plain": [
       "<IPython.core.display.JSON object>"
      ]
     },
     "execution_count": 37,
     "metadata": {
      "application/json": {
       "expanded": false,
       "root": "root"
      }
     },
     "output_type": "execute_result"
    }
   ],
   "source": [
    "JSON(flight_data)"
   ]
  },
  {
   "cell_type": "code",
   "execution_count": 11,
   "id": "21be3be5-4c41-4d5f-9504-608cc490a5cf",
   "metadata": {},
   "outputs": [],
   "source": [
    "#flight_arrivals = flight_data.json()\n",
    "\n",
    "icao = 'EDDB'\n",
    "\n",
    "def flight_detail_extraction(flights):\n",
    "    \n",
    "    try: terminal = flights['arrival']['terminal']\n",
    "    except: terminal = None\n",
    "    \n",
    "    try: aircraft = flights['aircraft']['model']\n",
    "    except: aircraft = None    \n",
    "    \n",
    "    flights_df = pd.json_normalize({\n",
    "        'scheduled_arrival_time': flights['arrival']['scheduledTimeLocal'],\n",
    "        'flight_number': flights['number'],\n",
    "        'dep_airport' : flights['departure']['airport']['name'],\n",
    "        'terminal' : terminal,\n",
    "        'airline' : flights['airline']['name'],\n",
    "        'aircraft' : aircraft,\n",
    "        'icao_code' : icao\n",
    "    })\n",
    "    return flights_df \n",
    "\n",
    "def create_flight_df(flight_data):\n",
    "    flight_arrivals = []\n",
    "\n",
    "    for j in flight_data: \n",
    "        new_flights = pd.concat([flight_detail_extraction(flight) for flight in j['arrivals']])\n",
    "        flight_arrivals.append(new_flights)\n",
    "\n",
    "    flight_arrivals = pd.concat(flight_arrivals) \n",
    "    return flight_arrivals"
   ]
  },
  {
   "cell_type": "code",
   "execution_count": 12,
   "id": "d9f8ca9b-3a06-46dd-8267-fbd556887a09",
   "metadata": {},
   "outputs": [
    {
     "data": {
      "text/html": [
       "<div>\n",
       "<style scoped>\n",
       "    .dataframe tbody tr th:only-of-type {\n",
       "        vertical-align: middle;\n",
       "    }\n",
       "\n",
       "    .dataframe tbody tr th {\n",
       "        vertical-align: top;\n",
       "    }\n",
       "\n",
       "    .dataframe thead th {\n",
       "        text-align: right;\n",
       "    }\n",
       "</style>\n",
       "<table border=\"1\" class=\"dataframe\">\n",
       "  <thead>\n",
       "    <tr style=\"text-align: right;\">\n",
       "      <th></th>\n",
       "      <th>scheduled_arrival_time</th>\n",
       "      <th>flight_number</th>\n",
       "      <th>dep_airport</th>\n",
       "      <th>terminal</th>\n",
       "      <th>airline</th>\n",
       "      <th>aircraft</th>\n",
       "      <th>icao_code</th>\n",
       "    </tr>\n",
       "  </thead>\n",
       "  <tbody>\n",
       "    <tr>\n",
       "      <th>0</th>\n",
       "      <td>2021-12-03 07:25+01:00</td>\n",
       "      <td>EW 12</td>\n",
       "      <td>Cologne</td>\n",
       "      <td>1</td>\n",
       "      <td>Eurowings</td>\n",
       "      <td>Boeing 737-800</td>\n",
       "      <td>EDDB</td>\n",
       "    </tr>\n",
       "    <tr>\n",
       "      <th>0</th>\n",
       "      <td>2021-12-03 07:35+01:00</td>\n",
       "      <td>EW 9048</td>\n",
       "      <td>Duesseldorf</td>\n",
       "      <td>1</td>\n",
       "      <td>Eurowings</td>\n",
       "      <td>Airbus A319</td>\n",
       "      <td>EDDB</td>\n",
       "    </tr>\n",
       "    <tr>\n",
       "      <th>0</th>\n",
       "      <td>2021-12-03 07:55+01:00</td>\n",
       "      <td>LH 170</td>\n",
       "      <td>Frankfurt-am-Main</td>\n",
       "      <td>1</td>\n",
       "      <td>Lufthansa</td>\n",
       "      <td>Airbus A321</td>\n",
       "      <td>EDDB</td>\n",
       "    </tr>\n",
       "    <tr>\n",
       "      <th>0</th>\n",
       "      <td>2021-12-03 07:40+01:00</td>\n",
       "      <td>U2 5632</td>\n",
       "      <td>Bâle/Mulhouse</td>\n",
       "      <td>1</td>\n",
       "      <td>easyJet</td>\n",
       "      <td>Airbus A320</td>\n",
       "      <td>EDDB</td>\n",
       "    </tr>\n",
       "    <tr>\n",
       "      <th>0</th>\n",
       "      <td>2021-12-03 07:30+01:00</td>\n",
       "      <td>W6 4515</td>\n",
       "      <td>Varna</td>\n",
       "      <td>0</td>\n",
       "      <td>Wizz Air</td>\n",
       "      <td>Airbus A320</td>\n",
       "      <td>EDDB</td>\n",
       "    </tr>\n",
       "  </tbody>\n",
       "</table>\n",
       "</div>"
      ],
      "text/plain": [
       "   scheduled_arrival_time flight_number        dep_airport terminal  \\\n",
       "0  2021-12-03 07:25+01:00         EW 12            Cologne        1   \n",
       "0  2021-12-03 07:35+01:00       EW 9048        Duesseldorf        1   \n",
       "0  2021-12-03 07:55+01:00        LH 170  Frankfurt-am-Main        1   \n",
       "0  2021-12-03 07:40+01:00       U2 5632      Bâle/Mulhouse        1   \n",
       "0  2021-12-03 07:30+01:00       W6 4515              Varna        0   \n",
       "\n",
       "     airline        aircraft icao_code  \n",
       "0  Eurowings  Boeing 737-800      EDDB  \n",
       "0  Eurowings     Airbus A319      EDDB  \n",
       "0  Lufthansa     Airbus A321      EDDB  \n",
       "0    easyJet     Airbus A320      EDDB  \n",
       "0   Wizz Air     Airbus A320      EDDB  "
      ]
     },
     "execution_count": 12,
     "metadata": {},
     "output_type": "execute_result"
    }
   ],
   "source": [
    "flight_arrivals = create_flight_df(flight_data)\n",
    "flight_arrivals.head()"
   ]
  },
  {
   "cell_type": "code",
   "execution_count": null,
   "id": "dd519c14-f88b-4357-805c-2157c84ef8e1",
   "metadata": {},
   "outputs": [],
   "source": []
  }
 ],
 "metadata": {
  "kernelspec": {
   "display_name": "Python 3",
   "language": "python",
   "name": "python3"
  },
  "language_info": {
   "codemirror_mode": {
    "name": "ipython",
    "version": 3
   },
   "file_extension": ".py",
   "mimetype": "text/x-python",
   "name": "python",
   "nbconvert_exporter": "python",
   "pygments_lexer": "ipython3",
   "version": "3.8.8"
  }
 },
 "nbformat": 4,
 "nbformat_minor": 5
}
